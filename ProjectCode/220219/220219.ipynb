{
 "cells": [
  {
   "cell_type": "code",
   "execution_count": 73,
   "id": "b990a21b",
   "metadata": {},
   "outputs": [],
   "source": [
    "import pandas as pd\n",
    "import matplotlib.pyplot as plt\n",
    "import numpy as np\n",
    "import seaborn as sns\n",
    "import warnings\n",
    "from sklearn.metrics import mean_squared_log_error\n",
    "import lightgbm as lgb\n",
    "from bayes_opt import BayesianOptimization\n",
    "pd.set_option('mode.chained_assignment',  None)\n",
    "warnings.simplefilter(action='ignore', category=FutureWarning) # FutureWarning 제거\n"
   ]
  },
  {
   "cell_type": "code",
   "execution_count": 29,
   "id": "6f865bd4",
   "metadata": {},
   "outputs": [],
   "source": [
    "train_data = pd.read_csv('final_train_data.csv')\n",
    "test_data = pd.read_csv('final_test_data.csv')"
   ]
  },
  {
   "cell_type": "code",
   "execution_count": 30,
   "id": "29125cea",
   "metadata": {},
   "outputs": [
    {
     "data": {
      "text/html": [
       "<div>\n",
       "<style scoped>\n",
       "    .dataframe tbody tr th:only-of-type {\n",
       "        vertical-align: middle;\n",
       "    }\n",
       "\n",
       "    .dataframe tbody tr th {\n",
       "        vertical-align: top;\n",
       "    }\n",
       "\n",
       "    .dataframe thead th {\n",
       "        text-align: right;\n",
       "    }\n",
       "</style>\n",
       "<table border=\"1\" class=\"dataframe\">\n",
       "  <thead>\n",
       "    <tr style=\"text-align: right;\">\n",
       "      <th></th>\n",
       "      <th>date</th>\n",
       "      <th>store_nbr</th>\n",
       "      <th>family</th>\n",
       "      <th>sales</th>\n",
       "      <th>onpromotion</th>\n",
       "      <th>dcoilwtico</th>\n",
       "      <th>transactions</th>\n",
       "      <th>type_y</th>\n",
       "      <th>cluster</th>\n",
       "      <th>Year</th>\n",
       "      <th>Month</th>\n",
       "      <th>Weekday</th>\n",
       "      <th>trend</th>\n",
       "      <th>NewYearsDay</th>\n",
       "      <th>Earthquake</th>\n",
       "      <th>Cyber Monday</th>\n",
       "      <th>Football</th>\n",
       "      <th>Black Friday</th>\n",
       "      <th>Dia de la Madre</th>\n",
       "      <th>no_work_day</th>\n",
       "    </tr>\n",
       "  </thead>\n",
       "  <tbody>\n",
       "    <tr>\n",
       "      <th>0</th>\n",
       "      <td>2013-01-01</td>\n",
       "      <td>1</td>\n",
       "      <td>AUTOMOTIVE</td>\n",
       "      <td>0.0</td>\n",
       "      <td>0</td>\n",
       "      <td>93.14</td>\n",
       "      <td>1420.876311</td>\n",
       "      <td>D</td>\n",
       "      <td>13</td>\n",
       "      <td>2013</td>\n",
       "      <td>1</td>\n",
       "      <td>1</td>\n",
       "      <td>0</td>\n",
       "      <td>True</td>\n",
       "      <td>0</td>\n",
       "      <td>0</td>\n",
       "      <td>0</td>\n",
       "      <td>0</td>\n",
       "      <td>0</td>\n",
       "      <td>True</td>\n",
       "    </tr>\n",
       "    <tr>\n",
       "      <th>1</th>\n",
       "      <td>2013-01-01</td>\n",
       "      <td>1</td>\n",
       "      <td>BABY CARE</td>\n",
       "      <td>0.0</td>\n",
       "      <td>0</td>\n",
       "      <td>93.14</td>\n",
       "      <td>1420.876311</td>\n",
       "      <td>D</td>\n",
       "      <td>13</td>\n",
       "      <td>2013</td>\n",
       "      <td>1</td>\n",
       "      <td>1</td>\n",
       "      <td>0</td>\n",
       "      <td>True</td>\n",
       "      <td>0</td>\n",
       "      <td>0</td>\n",
       "      <td>0</td>\n",
       "      <td>0</td>\n",
       "      <td>0</td>\n",
       "      <td>True</td>\n",
       "    </tr>\n",
       "    <tr>\n",
       "      <th>2</th>\n",
       "      <td>2013-01-01</td>\n",
       "      <td>1</td>\n",
       "      <td>BEAUTY</td>\n",
       "      <td>0.0</td>\n",
       "      <td>0</td>\n",
       "      <td>93.14</td>\n",
       "      <td>1420.876311</td>\n",
       "      <td>D</td>\n",
       "      <td>13</td>\n",
       "      <td>2013</td>\n",
       "      <td>1</td>\n",
       "      <td>1</td>\n",
       "      <td>0</td>\n",
       "      <td>True</td>\n",
       "      <td>0</td>\n",
       "      <td>0</td>\n",
       "      <td>0</td>\n",
       "      <td>0</td>\n",
       "      <td>0</td>\n",
       "      <td>True</td>\n",
       "    </tr>\n",
       "    <tr>\n",
       "      <th>3</th>\n",
       "      <td>2013-01-01</td>\n",
       "      <td>1</td>\n",
       "      <td>BEVERAGES</td>\n",
       "      <td>0.0</td>\n",
       "      <td>0</td>\n",
       "      <td>93.14</td>\n",
       "      <td>1420.876311</td>\n",
       "      <td>D</td>\n",
       "      <td>13</td>\n",
       "      <td>2013</td>\n",
       "      <td>1</td>\n",
       "      <td>1</td>\n",
       "      <td>0</td>\n",
       "      <td>True</td>\n",
       "      <td>0</td>\n",
       "      <td>0</td>\n",
       "      <td>0</td>\n",
       "      <td>0</td>\n",
       "      <td>0</td>\n",
       "      <td>True</td>\n",
       "    </tr>\n",
       "    <tr>\n",
       "      <th>4</th>\n",
       "      <td>2013-01-01</td>\n",
       "      <td>1</td>\n",
       "      <td>BOOKS</td>\n",
       "      <td>0.0</td>\n",
       "      <td>0</td>\n",
       "      <td>93.14</td>\n",
       "      <td>1420.876311</td>\n",
       "      <td>D</td>\n",
       "      <td>13</td>\n",
       "      <td>2013</td>\n",
       "      <td>1</td>\n",
       "      <td>1</td>\n",
       "      <td>0</td>\n",
       "      <td>True</td>\n",
       "      <td>0</td>\n",
       "      <td>0</td>\n",
       "      <td>0</td>\n",
       "      <td>0</td>\n",
       "      <td>0</td>\n",
       "      <td>True</td>\n",
       "    </tr>\n",
       "  </tbody>\n",
       "</table>\n",
       "</div>"
      ],
      "text/plain": [
       "         date  store_nbr      family  sales  onpromotion  dcoilwtico  \\\n",
       "0  2013-01-01          1  AUTOMOTIVE    0.0            0       93.14   \n",
       "1  2013-01-01          1   BABY CARE    0.0            0       93.14   \n",
       "2  2013-01-01          1      BEAUTY    0.0            0       93.14   \n",
       "3  2013-01-01          1   BEVERAGES    0.0            0       93.14   \n",
       "4  2013-01-01          1       BOOKS    0.0            0       93.14   \n",
       "\n",
       "   transactions type_y  cluster  Year  Month  Weekday  trend  NewYearsDay  \\\n",
       "0   1420.876311      D       13  2013      1        1      0         True   \n",
       "1   1420.876311      D       13  2013      1        1      0         True   \n",
       "2   1420.876311      D       13  2013      1        1      0         True   \n",
       "3   1420.876311      D       13  2013      1        1      0         True   \n",
       "4   1420.876311      D       13  2013      1        1      0         True   \n",
       "\n",
       "   Earthquake  Cyber Monday  Football  Black Friday  Dia de la Madre  \\\n",
       "0           0             0         0             0                0   \n",
       "1           0             0         0             0                0   \n",
       "2           0             0         0             0                0   \n",
       "3           0             0         0             0                0   \n",
       "4           0             0         0             0                0   \n",
       "\n",
       "   no_work_day  \n",
       "0         True  \n",
       "1         True  \n",
       "2         True  \n",
       "3         True  \n",
       "4         True  "
      ]
     },
     "execution_count": 30,
     "metadata": {},
     "output_type": "execute_result"
    }
   ],
   "source": [
    "train_data.head()"
   ]
  },
  {
   "cell_type": "code",
   "execution_count": 31,
   "id": "0f23d556",
   "metadata": {},
   "outputs": [
    {
     "data": {
      "text/html": [
       "<div>\n",
       "<style scoped>\n",
       "    .dataframe tbody tr th:only-of-type {\n",
       "        vertical-align: middle;\n",
       "    }\n",
       "\n",
       "    .dataframe tbody tr th {\n",
       "        vertical-align: top;\n",
       "    }\n",
       "\n",
       "    .dataframe thead th {\n",
       "        text-align: right;\n",
       "    }\n",
       "</style>\n",
       "<table border=\"1\" class=\"dataframe\">\n",
       "  <thead>\n",
       "    <tr style=\"text-align: right;\">\n",
       "      <th></th>\n",
       "      <th>date</th>\n",
       "      <th>store_nbr</th>\n",
       "      <th>family</th>\n",
       "      <th>onpromotion</th>\n",
       "      <th>dcoilwtico</th>\n",
       "      <th>transactions</th>\n",
       "      <th>type_y</th>\n",
       "      <th>cluster</th>\n",
       "      <th>Year</th>\n",
       "      <th>Month</th>\n",
       "      <th>Weekday</th>\n",
       "      <th>trend</th>\n",
       "      <th>NewYearsDay</th>\n",
       "      <th>Earthquake</th>\n",
       "      <th>Cyber Monday</th>\n",
       "      <th>Football</th>\n",
       "      <th>Black Friday</th>\n",
       "      <th>Dia de la Madre</th>\n",
       "      <th>no_work_day</th>\n",
       "    </tr>\n",
       "  </thead>\n",
       "  <tbody>\n",
       "    <tr>\n",
       "      <th>0</th>\n",
       "      <td>2017-08-16</td>\n",
       "      <td>1</td>\n",
       "      <td>AUTOMOTIVE</td>\n",
       "      <td>0</td>\n",
       "      <td>46.8</td>\n",
       "      <td>1448.259579</td>\n",
       "      <td>D</td>\n",
       "      <td>13</td>\n",
       "      <td>2017</td>\n",
       "      <td>8</td>\n",
       "      <td>2</td>\n",
       "      <td>1688</td>\n",
       "      <td>False</td>\n",
       "      <td>0</td>\n",
       "      <td>0</td>\n",
       "      <td>0</td>\n",
       "      <td>0</td>\n",
       "      <td>0</td>\n",
       "      <td>0</td>\n",
       "    </tr>\n",
       "    <tr>\n",
       "      <th>1</th>\n",
       "      <td>2017-08-16</td>\n",
       "      <td>1</td>\n",
       "      <td>BABY CARE</td>\n",
       "      <td>0</td>\n",
       "      <td>46.8</td>\n",
       "      <td>1448.259579</td>\n",
       "      <td>D</td>\n",
       "      <td>13</td>\n",
       "      <td>2017</td>\n",
       "      <td>8</td>\n",
       "      <td>2</td>\n",
       "      <td>1688</td>\n",
       "      <td>False</td>\n",
       "      <td>0</td>\n",
       "      <td>0</td>\n",
       "      <td>0</td>\n",
       "      <td>0</td>\n",
       "      <td>0</td>\n",
       "      <td>0</td>\n",
       "    </tr>\n",
       "    <tr>\n",
       "      <th>2</th>\n",
       "      <td>2017-08-16</td>\n",
       "      <td>1</td>\n",
       "      <td>BEAUTY</td>\n",
       "      <td>2</td>\n",
       "      <td>46.8</td>\n",
       "      <td>1448.259579</td>\n",
       "      <td>D</td>\n",
       "      <td>13</td>\n",
       "      <td>2017</td>\n",
       "      <td>8</td>\n",
       "      <td>2</td>\n",
       "      <td>1688</td>\n",
       "      <td>False</td>\n",
       "      <td>0</td>\n",
       "      <td>0</td>\n",
       "      <td>0</td>\n",
       "      <td>0</td>\n",
       "      <td>0</td>\n",
       "      <td>0</td>\n",
       "    </tr>\n",
       "    <tr>\n",
       "      <th>3</th>\n",
       "      <td>2017-08-16</td>\n",
       "      <td>1</td>\n",
       "      <td>BEVERAGES</td>\n",
       "      <td>20</td>\n",
       "      <td>46.8</td>\n",
       "      <td>1448.259579</td>\n",
       "      <td>D</td>\n",
       "      <td>13</td>\n",
       "      <td>2017</td>\n",
       "      <td>8</td>\n",
       "      <td>2</td>\n",
       "      <td>1688</td>\n",
       "      <td>False</td>\n",
       "      <td>0</td>\n",
       "      <td>0</td>\n",
       "      <td>0</td>\n",
       "      <td>0</td>\n",
       "      <td>0</td>\n",
       "      <td>0</td>\n",
       "    </tr>\n",
       "    <tr>\n",
       "      <th>4</th>\n",
       "      <td>2017-08-16</td>\n",
       "      <td>1</td>\n",
       "      <td>BOOKS</td>\n",
       "      <td>0</td>\n",
       "      <td>46.8</td>\n",
       "      <td>1448.259579</td>\n",
       "      <td>D</td>\n",
       "      <td>13</td>\n",
       "      <td>2017</td>\n",
       "      <td>8</td>\n",
       "      <td>2</td>\n",
       "      <td>1688</td>\n",
       "      <td>False</td>\n",
       "      <td>0</td>\n",
       "      <td>0</td>\n",
       "      <td>0</td>\n",
       "      <td>0</td>\n",
       "      <td>0</td>\n",
       "      <td>0</td>\n",
       "    </tr>\n",
       "  </tbody>\n",
       "</table>\n",
       "</div>"
      ],
      "text/plain": [
       "         date  store_nbr      family  onpromotion  dcoilwtico  transactions  \\\n",
       "0  2017-08-16          1  AUTOMOTIVE            0        46.8   1448.259579   \n",
       "1  2017-08-16          1   BABY CARE            0        46.8   1448.259579   \n",
       "2  2017-08-16          1      BEAUTY            2        46.8   1448.259579   \n",
       "3  2017-08-16          1   BEVERAGES           20        46.8   1448.259579   \n",
       "4  2017-08-16          1       BOOKS            0        46.8   1448.259579   \n",
       "\n",
       "  type_y  cluster  Year  Month  Weekday  trend  NewYearsDay  Earthquake  \\\n",
       "0      D       13  2017      8        2   1688        False           0   \n",
       "1      D       13  2017      8        2   1688        False           0   \n",
       "2      D       13  2017      8        2   1688        False           0   \n",
       "3      D       13  2017      8        2   1688        False           0   \n",
       "4      D       13  2017      8        2   1688        False           0   \n",
       "\n",
       "   Cyber Monday  Football  Black Friday  Dia de la Madre  no_work_day  \n",
       "0             0         0             0                0            0  \n",
       "1             0         0             0                0            0  \n",
       "2             0         0             0                0            0  \n",
       "3             0         0             0                0            0  \n",
       "4             0         0             0                0            0  "
      ]
     },
     "execution_count": 31,
     "metadata": {},
     "output_type": "execute_result"
    }
   ],
   "source": [
    "test_data.head()"
   ]
  },
  {
   "cell_type": "code",
   "execution_count": 32,
   "id": "8461eb00",
   "metadata": {},
   "outputs": [
    {
     "name": "stdout",
     "output_type": "stream",
     "text": [
      "<class 'pandas.core.frame.DataFrame'>\n",
      "RangeIndex: 3054348 entries, 0 to 3054347\n",
      "Data columns (total 20 columns):\n",
      " #   Column           Dtype  \n",
      "---  ------           -----  \n",
      " 0   date             object \n",
      " 1   store_nbr        int64  \n",
      " 2   family           object \n",
      " 3   sales            float64\n",
      " 4   onpromotion      int64  \n",
      " 5   dcoilwtico       float64\n",
      " 6   transactions     float64\n",
      " 7   type_y           object \n",
      " 8   cluster          int64  \n",
      " 9   Year             int64  \n",
      " 10  Month            int64  \n",
      " 11  Weekday          int64  \n",
      " 12  trend            int64  \n",
      " 13  NewYearsDay      bool   \n",
      " 14  Earthquake       int64  \n",
      " 15  Cyber Monday     int64  \n",
      " 16  Football         int64  \n",
      " 17  Black Friday     int64  \n",
      " 18  Dia de la Madre  int64  \n",
      " 19  no_work_day      bool   \n",
      "dtypes: bool(2), float64(3), int64(12), object(3)\n",
      "memory usage: 425.3+ MB\n"
     ]
    }
   ],
   "source": [
    "train_data.info()"
   ]
  },
  {
   "cell_type": "code",
   "execution_count": 33,
   "id": "fc2b0b50",
   "metadata": {},
   "outputs": [],
   "source": [
    "# 데이터 형 변환\n",
    "train_data = train_data.astype({'store_nbr':'object', 'Earthquake':'bool', 'Cyber Monday':'bool', 'Football':'bool', 'Black Friday':'bool','Dia de la Madre':'bool'})\n",
    "test_data = test_data.astype({'store_nbr':'object', 'Earthquake':'bool', 'Cyber Monday':'bool', 'Football':'bool', 'Black Friday':'bool','Dia de la Madre':'bool'})"
   ]
  },
  {
   "cell_type": "markdown",
   "id": "fd943437",
   "metadata": {},
   "source": [
    "**train, vaild, test data split**"
   ]
  },
  {
   "cell_type": "code",
   "execution_count": 34,
   "id": "5961e1e8",
   "metadata": {},
   "outputs": [],
   "source": [
    "# data split\n",
    "sub_train_data = train_data[train_data.date <= '2016-07-31']\n",
    "valid_data = train_data[train_data.date >= '2016-08-01']"
   ]
  },
  {
   "cell_type": "code",
   "execution_count": 35,
   "id": "ce472eba",
   "metadata": {},
   "outputs": [
    {
     "name": "stdout",
     "output_type": "stream",
     "text": [
      "(3054348, 20)\n",
      "(2368278, 20)\n",
      "(686070, 20)\n",
      "(28512, 19)\n"
     ]
    }
   ],
   "source": [
    "print(train_data.shape)\n",
    "print(sub_train_data.shape)\n",
    "print(valid_data.shape)\n",
    "print(test_data.shape)"
   ]
  },
  {
   "cell_type": "code",
   "execution_count": 36,
   "id": "5d4a4ea2",
   "metadata": {},
   "outputs": [],
   "source": [
    "# 검증 과정에서 사용할 데이터\n",
    "sub_train_data.drop(columns = ['date'], inplace = True)\n",
    "valid_data.drop(columns = ['date'], inplace = True)\n",
    "\n",
    "# 최종 모델 훈련에서 사용할 데이터\n",
    "train_data.drop(columns = ['date'], inplace = True)\n",
    "test_data.drop(columns = ['date'], inplace = True)"
   ]
  },
  {
   "cell_type": "code",
   "execution_count": 37,
   "id": "7e02e788",
   "metadata": {},
   "outputs": [],
   "source": [
    "X_sub_train_data = sub_train_data.drop(columns = ['sales'])\n",
    "y_sub_train_data = sub_train_data['sales']\n",
    "\n",
    "X_valid_data = valid_data.drop(columns = ['sales'])\n",
    "y_valid_data = valid_data['sales']"
   ]
  },
  {
   "cell_type": "code",
   "execution_count": 38,
   "id": "d48f8729",
   "metadata": {},
   "outputs": [],
   "source": [
    "X_train_data = train_data.drop(columns = ['sales'])\n",
    "y_train_data = train_data['sales']"
   ]
  },
  {
   "cell_type": "markdown",
   "id": "04d34592",
   "metadata": {},
   "source": [
    "**데이터 전처리**\n"
   ]
  },
  {
   "cell_type": "code",
   "execution_count": 39,
   "id": "9127404c",
   "metadata": {},
   "outputs": [],
   "source": [
    "# OneHotEncoding(get_dummies)\n",
    "X_sub_train_data_trans = pd.get_dummies(X_sub_train_data, drop_first = True)\n",
    "X_valid_data_trans = pd.get_dummies(X_valid_data, drop_first = True)\n",
    "X_train_data_trans = pd.get_dummies(X_train_data, drop_first = True)\n",
    "test_data_trans = pd.get_dummies(test_data, drop_first = True)"
   ]
  },
  {
   "cell_type": "code",
   "execution_count": 40,
   "id": "bea614b0",
   "metadata": {},
   "outputs": [],
   "source": [
    "# 검증과정에서 사용할 데이터\n",
    "# MinMax\n",
    "sub_train_min = np.min(X_sub_train_data[['transactions', 'onpromotion', 'dcoilwtico']])\n",
    "sub_train_max = np.max(X_sub_train_data[['transactions', 'onpromotion', 'dcoilwtico']])\n",
    "sub_train_range = sub_train_max - sub_train_min\n",
    "\n",
    "# 변환\n",
    "X_sub_train_data_trans[['transactions', 'onpromotion', 'dcoilwtico']] = (X_sub_train_data[['transactions', 'onpromotion', 'dcoilwtico']] - sub_train_min) / sub_train_range\n",
    "X_valid_data_trans[['transactions', 'onpromotion', 'dcoilwtico']] = ((X_valid_data[['transactions', 'onpromotion', 'dcoilwtico']] - sub_train_min) / sub_train_range)\n",
    "\n",
    "# 최종 훈련에 사용할 데이터\n",
    "train_min = np.min(X_train_data[['transactions', 'onpromotion', 'dcoilwtico']])\n",
    "train_max = np.max(X_train_data[['transactions', 'onpromotion', 'dcoilwtico']])\n",
    "train_range = train_max - train_min\n",
    "\n",
    "# 변환\n",
    "X_train_data_trans[['transactions', 'onpromotion', 'dcoilwtico']] = (X_train_data[['transactions', 'onpromotion', 'dcoilwtico']] - train_min) / train_range\n",
    "test_data_trans[['transactions', 'onpromotion', 'dcoilwtico']] = ((test_data[['transactions', 'onpromotion', 'dcoilwtico']] - train_min) / train_range)\n"
   ]
  },
  {
   "cell_type": "markdown",
   "id": "bf31604a",
   "metadata": {},
   "source": [
    "**Linear Regression**"
   ]
  },
  {
   "cell_type": "code",
   "execution_count": 41,
   "id": "cd076e62",
   "metadata": {},
   "outputs": [
    {
     "data": {
      "text/plain": [
       "LinearRegression()"
      ]
     },
     "execution_count": 41,
     "metadata": {},
     "output_type": "execute_result"
    }
   ],
   "source": [
    "# modeling\n",
    "from sklearn.linear_model import LinearRegression\n",
    "\n",
    "model = LinearRegression()\n",
    "model.fit(X_sub_train_data_trans, y_sub_train_data)"
   ]
  },
  {
   "cell_type": "code",
   "execution_count": 42,
   "id": "a8d098ee",
   "metadata": {},
   "outputs": [],
   "source": [
    "# predict\n",
    "train_pred = model.predict(X_sub_train_data_trans)\n",
    "valid_pred = model.predict(X_valid_data_trans)\n",
    "\n",
    "train_pred[train_pred < 0] = 0\n",
    "valid_pred[valid_pred < 0] = 0"
   ]
  },
  {
   "cell_type": "code",
   "execution_count": 43,
   "id": "0da6fbbe",
   "metadata": {},
   "outputs": [
    {
     "name": "stdout",
     "output_type": "stream",
     "text": [
      "훈련데이터 rmsle:  2.4489112606797234\n",
      "검증데이터 rmsle:  2.3055302057203173\n"
     ]
    }
   ],
   "source": [
    "from sklearn.metrics import mean_squared_log_error\n",
    "print('훈련데이터 rmsle: ', np.sqrt(mean_squared_log_error(y_sub_train_data, train_pred)))\n",
    "print('검증데이터 rmsle: ', np.sqrt(mean_squared_log_error(y_valid_data, valid_pred)))"
   ]
  },
  {
   "cell_type": "markdown",
   "id": "a7309c9c",
   "metadata": {},
   "source": [
    "**light GBM**"
   ]
  },
  {
   "cell_type": "markdown",
   "id": "d401568a",
   "metadata": {},
   "source": [
    "- error\n",
    "    - Do not support special JSON characters in feature name."
   ]
  },
  {
   "cell_type": "code",
   "execution_count": 16,
   "id": "f9d91964",
   "metadata": {},
   "outputs": [],
   "source": [
    "import re\n",
    "X_sub_train_data_trans = X_sub_train_data_trans.rename(columns = lambda x:re.sub('[^A-Za-z0-9_]+', '', x))\n",
    "X_valid_data_trans = X_valid_data_trans.rename(columns = lambda x:re.sub('[^A-Za-z0-9_]+', '', x))\n",
    "X_train_data_trans = X_train_data_trans.rename(columns = lambda x:re.sub('[^A-Za-z0-9_]+', '', x))\n",
    "test_data_trans = test_data_trans.rename(columns = lambda x:re.sub('[^A-Za-z0-9_]+', '', x))"
   ]
  },
  {
   "cell_type": "code",
   "execution_count": 18,
   "id": "d6439ffa",
   "metadata": {},
   "outputs": [],
   "source": [
    "# install\n",
    "#!pip install lightgbm"
   ]
  },
  {
   "cell_type": "markdown",
   "id": "47f295a1",
   "metadata": {},
   "source": [
    "- reference\n",
    "    - https://greatjoy.tistory.com/72\n",
    "    - https://smecsm.tistory.com/133\n",
    "    - http://machinelearningkorea.com/2019/09/29/lightgbm-%ED%8C%8C%EB%9D%BC%EB%AF%B8%ED%84%B0/\n",
    "    \n",
    "    \n",
    "    \n",
    "- 주요 파라미터\n",
    "    1. learning_rate : 일반적으로 0.01 ~ 0.1로 두고 다른 파라미터를 튜닝함. 나중에 성능을 더 높일 때 learning rate를 더 줄인다.\n",
    "    2. num_iterations : 트리 개수\n",
    "    3. max_depth : -1이면 제한없이 분기함. feature가 많다면 크게 설정\n",
    "    4. boosting : 부스팅 방법\n",
    "        - gbdt : (default) traditional gradient boosting decision tree\n",
    "        - rf : random forest\n",
    "        - dart : dropouts meet multiple additive regression trees\n",
    "        - goss : gradient-based one-side sampling\n",
    "    5. bagging_fraction\n",
    "        - 배깅을 위해 데이터를 랜덤 샘플링하여 학습에 사용\n",
    "        - (0,1] 사이의 값\n",
    "    6. feature_fraction\n",
    "        - 매 트리마다 다른 feature를 랜덤하게 추출하여 학습.\n",
    "        - 과적합 방지와 학습 속도 개선에 영향\n",
    "    7. scale_pos_weight\n",
    "        - 클래스 불균형 데이터 셋에서 weight를 주는 방식\n",
    "    8. early_stopping_round\n",
    "    9. lambda_l1, lambda_l2 : 규제\n",
    "    \n",
    "\n"
   ]
  },
  {
   "cell_type": "code",
   "execution_count": 14,
   "id": "6046f082",
   "metadata": {},
   "outputs": [],
   "source": [
    "import lightgbm as lgb"
   ]
  },
  {
   "cell_type": "code",
   "execution_count": 17,
   "id": "0e841580",
   "metadata": {},
   "outputs": [],
   "source": [
    "sub_train_ds = lgb.Dataset(X_sub_train_data_trans, label = y_sub_train_data)\n",
    "valid_ds = lgb.Dataset(X_valid_data_trans, label = y_valid_data)\n",
    "params = {'learning_rate':0.01,\n",
    "          #'max_depth':16,\n",
    "          'objective':'regression',\n",
    "          'metric':'mse',\n",
    "          'is_training_metric':True,\n",
    "          #'num_leaves':144,\n",
    "          'feature_fraction':0.7,\n",
    "          'bagging_fraction':0.7,\n",
    "          'bagging_freq':5,\n",
    "          'seed':42}"
   ]
  },
  {
   "cell_type": "code",
   "execution_count": 25,
   "id": "5d99fe3c",
   "metadata": {},
   "outputs": [
    {
     "name": "stderr",
     "output_type": "stream",
     "text": [
      "C:\\Users\\82104\\anaconda3\\lib\\site-packages\\lightgbm\\engine.py:181: UserWarning: 'early_stopping_rounds' argument is deprecated and will be removed in a future release of LightGBM. Pass 'early_stopping()' callback via 'callbacks' argument instead.\n",
      "  _log_warning(\"'early_stopping_rounds' argument is deprecated and will be removed in a future release of LightGBM. \"\n",
      "C:\\Users\\82104\\anaconda3\\lib\\site-packages\\lightgbm\\engine.py:239: UserWarning: 'verbose_eval' argument is deprecated and will be removed in a future release of LightGBM. Pass 'log_evaluation()' callback via 'callbacks' argument instead.\n",
      "  _log_warning(\"'verbose_eval' argument is deprecated and will be removed in a future release of LightGBM. \"\n"
     ]
    },
    {
     "name": "stdout",
     "output_type": "stream",
     "text": [
      "[LightGBM] [Warning] Auto-choosing row-wise multi-threading, the overhead of testing was 0.137903 seconds.\n",
      "You can set `force_row_wise=true` to remove the overhead.\n",
      "And if memory is not enough, you can set `force_col_wise=true`.\n",
      "[LightGBM] [Info] Total Bins 1173\n",
      "[LightGBM] [Info] Number of data points in the train set: 2368278, number of used features: 104\n",
      "[LightGBM] [Info] Start training from score 326.506259\n",
      "Training until validation scores don't improve for 100 rounds\n",
      "[100]\tvalid_0's l2: 658020\n",
      "[200]\tvalid_0's l2: 332681\n",
      "[300]\tvalid_0's l2: 230092\n",
      "[400]\tvalid_0's l2: 188065\n",
      "[500]\tvalid_0's l2: 167045\n",
      "[600]\tvalid_0's l2: 155207\n",
      "[700]\tvalid_0's l2: 146020\n",
      "[800]\tvalid_0's l2: 140124\n",
      "[900]\tvalid_0's l2: 135435\n",
      "[1000]\tvalid_0's l2: 131646\n",
      "[1100]\tvalid_0's l2: 127993\n",
      "[1200]\tvalid_0's l2: 125329\n",
      "[1300]\tvalid_0's l2: 122595\n",
      "[1400]\tvalid_0's l2: 120408\n",
      "[1500]\tvalid_0's l2: 118525\n",
      "[1600]\tvalid_0's l2: 116932\n",
      "[1700]\tvalid_0's l2: 115454\n",
      "[1800]\tvalid_0's l2: 114044\n",
      "[1900]\tvalid_0's l2: 112964\n",
      "[2000]\tvalid_0's l2: 111915\n",
      "[2100]\tvalid_0's l2: 111171\n",
      "[2200]\tvalid_0's l2: 110432\n",
      "[2300]\tvalid_0's l2: 109947\n",
      "[2400]\tvalid_0's l2: 109352\n",
      "[2500]\tvalid_0's l2: 108705\n",
      "[2600]\tvalid_0's l2: 108152\n",
      "[2700]\tvalid_0's l2: 107682\n",
      "[2800]\tvalid_0's l2: 107112\n",
      "[2900]\tvalid_0's l2: 106696\n",
      "[3000]\tvalid_0's l2: 106343\n",
      "Did not meet early stopping. Best iteration is:\n",
      "[2998]\tvalid_0's l2: 106342\n"
     ]
    }
   ],
   "source": [
    "model = lgb.train(params, sub_train_ds, 3000, valid_ds, verbose_eval = 100, early_stopping_rounds = 100)"
   ]
  },
  {
   "cell_type": "code",
   "execution_count": 26,
   "id": "50e12ee3",
   "metadata": {},
   "outputs": [],
   "source": [
    "# predict\n",
    "train_pred = model.predict(X_sub_train_data_trans)\n",
    "valid_pred = model.predict(X_valid_data_trans)\n",
    "\n",
    "train_pred[train_pred < 0] = 0\n",
    "valid_pred[valid_pred < 0] = 0"
   ]
  },
  {
   "cell_type": "code",
   "execution_count": 27,
   "id": "afa8d7f9",
   "metadata": {},
   "outputs": [
    {
     "name": "stdout",
     "output_type": "stream",
     "text": [
      "훈련데이터 rmsle:  1.766076496281916\n",
      "검증데이터 rmsle:  1.475224764978254\n"
     ]
    }
   ],
   "source": [
    "from sklearn.metrics import mean_squared_log_error\n",
    "print('훈련데이터 rmsle: ', np.sqrt(mean_squared_log_error(y_sub_train_data, train_pred)))\n",
    "print('검증데이터 rmsle: ', np.sqrt(mean_squared_log_error(y_valid_data, valid_pred)))"
   ]
  },
  {
   "cell_type": "markdown",
   "id": "ddb1c4c6",
   "metadata": {},
   "source": [
    "**베이지안 최적화**"
   ]
  },
  {
   "cell_type": "code",
   "execution_count": 18,
   "id": "86679048",
   "metadata": {},
   "outputs": [],
   "source": [
    "from bayes_opt import BayesianOptimization"
   ]
  },
  {
   "cell_type": "code",
   "execution_count": 19,
   "id": "8d30e398",
   "metadata": {},
   "outputs": [],
   "source": [
    "#!pip install bayesian-optimization"
   ]
  },
  {
   "cell_type": "code",
   "execution_count": null,
   "id": "55182bc9",
   "metadata": {},
   "outputs": [],
   "source": [
    "sub_train_ds = lgb.Dataset(X_sub_train_data_trans, label = y_sub_train_data)\n",
    "valid_ds = lgb.Dataset(X_valid_data_trans, label = y_valid_data)"
   ]
  },
  {
   "cell_type": "code",
   "execution_count": 26,
   "id": "da4a4bf2",
   "metadata": {},
   "outputs": [],
   "source": [
    "def valid_msle(learning_rate, max_depth, feature_fraction, bagging_fraction, num_leaves):\n",
    "    params = {'learning_rate':learning_rate,\n",
    "          'max_depth': int(max_depth),\n",
    "          'objective':'regression',\n",
    "          'metric':'mse',\n",
    "          'num_leaves': int(num_leaves),    \n",
    "          'is_training_metric':True,\n",
    "          'feature_fraction':feature_fraction,\n",
    "          'bagging_fraction':bagging_fraction,\n",
    "          'seed':42}\n",
    "    model = lgb.train(params, sub_train_ds, 3000, valid_ds, verbose_eval = 100, early_stopping_rounds = 100)\n",
    "    valid_pred = model.predict(X_valid_data_trans)\n",
    "    valid_pred[valid_pred < 0] = 0\n",
    "    return - np.sqrt(mean_squared_log_error(y_valid_data, valid_pred))"
   ]
  },
  {
   "cell_type": "code",
   "execution_count": 27,
   "id": "7b58568c",
   "metadata": {},
   "outputs": [
    {
     "name": "stdout",
     "output_type": "stream",
     "text": [
      "|   iter    |  target   | baggin... | featur... | learni... | max_depth | num_le... |\n",
      "-------------------------------------------------------------------------------------\n"
     ]
    },
    {
     "name": "stderr",
     "output_type": "stream",
     "text": [
      "C:\\Users\\82104\\anaconda3\\lib\\site-packages\\lightgbm\\engine.py:181: UserWarning: 'early_stopping_rounds' argument is deprecated and will be removed in a future release of LightGBM. Pass 'early_stopping()' callback via 'callbacks' argument instead.\n",
      "  _log_warning(\"'early_stopping_rounds' argument is deprecated and will be removed in a future release of LightGBM. \"\n",
      "C:\\Users\\82104\\anaconda3\\lib\\site-packages\\lightgbm\\engine.py:239: UserWarning: 'verbose_eval' argument is deprecated and will be removed in a future release of LightGBM. Pass 'log_evaluation()' callback via 'callbacks' argument instead.\n",
      "  _log_warning(\"'verbose_eval' argument is deprecated and will be removed in a future release of LightGBM. \"\n"
     ]
    },
    {
     "name": "stdout",
     "output_type": "stream",
     "text": [
      "[LightGBM] [Warning] Auto-choosing row-wise multi-threading, the overhead of testing was 0.204497 seconds.\n",
      "You can set `force_row_wise=true` to remove the overhead.\n",
      "And if memory is not enough, you can set `force_col_wise=true`.\n",
      "[LightGBM] [Info] Total Bins 1173\n",
      "[LightGBM] [Info] Number of data points in the train set: 2368278, number of used features: 104\n",
      "[LightGBM] [Info] Start training from score 326.506259\n",
      "Training until validation scores don't improve for 100 rounds\n",
      "[100]\tvalid_0's l2: 131260\n",
      "[200]\tvalid_0's l2: 115354\n",
      "[300]\tvalid_0's l2: 108961\n",
      "[400]\tvalid_0's l2: 105321\n",
      "[500]\tvalid_0's l2: 103170\n",
      "[600]\tvalid_0's l2: 101771\n",
      "[700]\tvalid_0's l2: 100809\n",
      "[800]\tvalid_0's l2: 100133\n",
      "[900]\tvalid_0's l2: 99344.7\n",
      "[1000]\tvalid_0's l2: 98891.4\n",
      "[1100]\tvalid_0's l2: 98522.8\n",
      "[1200]\tvalid_0's l2: 98298.8\n",
      "Early stopping, best iteration is:\n",
      "[1194]\tvalid_0's l2: 98285\n",
      "| \u001b[0m 1       \u001b[0m | \u001b[0m-1.384   \u001b[0m | \u001b[0m 0.6498  \u001b[0m | \u001b[0m 0.8803  \u001b[0m | \u001b[0m 0.07588 \u001b[0m | \u001b[0m 31.97   \u001b[0m | \u001b[0m 42.61   \u001b[0m |\n"
     ]
    },
    {
     "name": "stderr",
     "output_type": "stream",
     "text": [
      "C:\\Users\\82104\\anaconda3\\lib\\site-packages\\lightgbm\\engine.py:181: UserWarning: 'early_stopping_rounds' argument is deprecated and will be removed in a future release of LightGBM. Pass 'early_stopping()' callback via 'callbacks' argument instead.\n",
      "  _log_warning(\"'early_stopping_rounds' argument is deprecated and will be removed in a future release of LightGBM. \"\n",
      "C:\\Users\\82104\\anaconda3\\lib\\site-packages\\lightgbm\\engine.py:239: UserWarning: 'verbose_eval' argument is deprecated and will be removed in a future release of LightGBM. Pass 'log_evaluation()' callback via 'callbacks' argument instead.\n",
      "  _log_warning(\"'verbose_eval' argument is deprecated and will be removed in a future release of LightGBM. \"\n"
     ]
    },
    {
     "name": "stdout",
     "output_type": "stream",
     "text": [
      "[LightGBM] [Warning] Auto-choosing row-wise multi-threading, the overhead of testing was 0.203002 seconds.\n",
      "You can set `force_row_wise=true` to remove the overhead.\n",
      "And if memory is not enough, you can set `force_col_wise=true`.\n",
      "[LightGBM] [Info] Total Bins 1173\n",
      "[LightGBM] [Info] Number of data points in the train set: 2368278, number of used features: 104\n",
      "[LightGBM] [Info] Start training from score 326.506259\n",
      "Training until validation scores don't improve for 100 rounds\n",
      "[100]\tvalid_0's l2: 134043\n",
      "[200]\tvalid_0's l2: 120236\n",
      "[300]\tvalid_0's l2: 113765\n",
      "[400]\tvalid_0's l2: 110631\n",
      "[500]\tvalid_0's l2: 109128\n",
      "[600]\tvalid_0's l2: 107918\n",
      "[700]\tvalid_0's l2: 107837\n",
      "[800]\tvalid_0's l2: 107527\n",
      "[900]\tvalid_0's l2: 107309\n",
      "Early stopping, best iteration is:\n",
      "[869]\tvalid_0's l2: 107127\n",
      "| \u001b[0m 2       \u001b[0m | \u001b[0m-1.413   \u001b[0m | \u001b[0m 0.5624  \u001b[0m | \u001b[0m 0.5232  \u001b[0m | \u001b[0m 0.08796 \u001b[0m | \u001b[0m 32.02   \u001b[0m | \u001b[0m 80.15   \u001b[0m |\n"
     ]
    },
    {
     "name": "stderr",
     "output_type": "stream",
     "text": [
      "C:\\Users\\82104\\anaconda3\\lib\\site-packages\\lightgbm\\engine.py:181: UserWarning: 'early_stopping_rounds' argument is deprecated and will be removed in a future release of LightGBM. Pass 'early_stopping()' callback via 'callbacks' argument instead.\n",
      "  _log_warning(\"'early_stopping_rounds' argument is deprecated and will be removed in a future release of LightGBM. \"\n",
      "C:\\Users\\82104\\anaconda3\\lib\\site-packages\\lightgbm\\engine.py:239: UserWarning: 'verbose_eval' argument is deprecated and will be removed in a future release of LightGBM. Pass 'log_evaluation()' callback via 'callbacks' argument instead.\n",
      "  _log_warning(\"'verbose_eval' argument is deprecated and will be removed in a future release of LightGBM. \"\n"
     ]
    },
    {
     "name": "stdout",
     "output_type": "stream",
     "text": [
      "[LightGBM] [Warning] Auto-choosing row-wise multi-threading, the overhead of testing was 0.184372 seconds.\n",
      "You can set `force_row_wise=true` to remove the overhead.\n",
      "And if memory is not enough, you can set `force_col_wise=true`.\n",
      "[LightGBM] [Info] Total Bins 1173\n",
      "[LightGBM] [Info] Number of data points in the train set: 2368278, number of used features: 104\n",
      "[LightGBM] [Info] Start training from score 326.506259\n",
      "Training until validation scores don't improve for 100 rounds\n",
      "[100]\tvalid_0's l2: 122834\n",
      "[200]\tvalid_0's l2: 110661\n",
      "[300]\tvalid_0's l2: 105197\n",
      "[400]\tvalid_0's l2: 102126\n",
      "[500]\tvalid_0's l2: 100084\n",
      "[600]\tvalid_0's l2: 98348.5\n",
      "[700]\tvalid_0's l2: 97904.9\n",
      "[800]\tvalid_0's l2: 97466.4\n",
      "[900]\tvalid_0's l2: 97210.6\n",
      "Early stopping, best iteration is:\n",
      "[877]\tvalid_0's l2: 97033.3\n",
      "| \u001b[95m 3       \u001b[0m | \u001b[95m-1.321   \u001b[0m | \u001b[95m 0.5082  \u001b[0m | \u001b[95m 0.888   \u001b[0m | \u001b[95m 0.08492 \u001b[0m | \u001b[95m 24.25   \u001b[0m | \u001b[95m 44.36   \u001b[0m |\n"
     ]
    },
    {
     "name": "stderr",
     "output_type": "stream",
     "text": [
      "C:\\Users\\82104\\anaconda3\\lib\\site-packages\\lightgbm\\engine.py:181: UserWarning: 'early_stopping_rounds' argument is deprecated and will be removed in a future release of LightGBM. Pass 'early_stopping()' callback via 'callbacks' argument instead.\n",
      "  _log_warning(\"'early_stopping_rounds' argument is deprecated and will be removed in a future release of LightGBM. \"\n",
      "C:\\Users\\82104\\anaconda3\\lib\\site-packages\\lightgbm\\engine.py:239: UserWarning: 'verbose_eval' argument is deprecated and will be removed in a future release of LightGBM. Pass 'log_evaluation()' callback via 'callbacks' argument instead.\n",
      "  _log_warning(\"'verbose_eval' argument is deprecated and will be removed in a future release of LightGBM. \"\n"
     ]
    },
    {
     "name": "stdout",
     "output_type": "stream",
     "text": [
      "[LightGBM] [Warning] Auto-choosing row-wise multi-threading, the overhead of testing was 0.194472 seconds.\n",
      "You can set `force_row_wise=true` to remove the overhead.\n",
      "And if memory is not enough, you can set `force_col_wise=true`.\n",
      "[LightGBM] [Info] Total Bins 1173\n",
      "[LightGBM] [Info] Number of data points in the train set: 2368278, number of used features: 104\n",
      "[LightGBM] [Info] Start training from score 326.506259\n",
      "Training until validation scores don't improve for 100 rounds\n",
      "[100]\tvalid_0's l2: 150572\n",
      "[200]\tvalid_0's l2: 124218\n",
      "[300]\tvalid_0's l2: 115439\n",
      "[400]\tvalid_0's l2: 111859\n",
      "[500]\tvalid_0's l2: 109750\n",
      "[600]\tvalid_0's l2: 107688\n",
      "[700]\tvalid_0's l2: 105634\n",
      "[800]\tvalid_0's l2: 104513\n",
      "[900]\tvalid_0's l2: 103381\n",
      "[1000]\tvalid_0's l2: 102988\n",
      "[1100]\tvalid_0's l2: 102364\n",
      "[1200]\tvalid_0's l2: 102056\n",
      "[1300]\tvalid_0's l2: 101978\n",
      "[1400]\tvalid_0's l2: 101988\n",
      "Early stopping, best iteration is:\n",
      "[1361]\tvalid_0's l2: 101845\n",
      "| \u001b[0m 4       \u001b[0m | \u001b[0m-1.331   \u001b[0m | \u001b[0m 0.5734  \u001b[0m | \u001b[0m 0.6217  \u001b[0m | \u001b[0m 0.05723 \u001b[0m | \u001b[0m 28.64   \u001b[0m | \u001b[0m 51.8    \u001b[0m |\n"
     ]
    },
    {
     "name": "stderr",
     "output_type": "stream",
     "text": [
      "C:\\Users\\82104\\anaconda3\\lib\\site-packages\\lightgbm\\engine.py:181: UserWarning: 'early_stopping_rounds' argument is deprecated and will be removed in a future release of LightGBM. Pass 'early_stopping()' callback via 'callbacks' argument instead.\n",
      "  _log_warning(\"'early_stopping_rounds' argument is deprecated and will be removed in a future release of LightGBM. \"\n",
      "C:\\Users\\82104\\anaconda3\\lib\\site-packages\\lightgbm\\engine.py:239: UserWarning: 'verbose_eval' argument is deprecated and will be removed in a future release of LightGBM. Pass 'log_evaluation()' callback via 'callbacks' argument instead.\n",
      "  _log_warning(\"'verbose_eval' argument is deprecated and will be removed in a future release of LightGBM. \"\n"
     ]
    },
    {
     "name": "stdout",
     "output_type": "stream",
     "text": [
      "[LightGBM] [Warning] Auto-choosing row-wise multi-threading, the overhead of testing was 0.181808 seconds.\n",
      "You can set `force_row_wise=true` to remove the overhead.\n",
      "And if memory is not enough, you can set `force_col_wise=true`.\n",
      "[LightGBM] [Info] Total Bins 1173\n",
      "[LightGBM] [Info] Number of data points in the train set: 2368278, number of used features: 104\n",
      "[LightGBM] [Info] Start training from score 326.506259\n",
      "Training until validation scores don't improve for 100 rounds\n",
      "[100]\tvalid_0's l2: 198507\n",
      "[200]\tvalid_0's l2: 137866\n",
      "[300]\tvalid_0's l2: 125397\n",
      "[400]\tvalid_0's l2: 117228\n",
      "[500]\tvalid_0's l2: 113274\n",
      "[600]\tvalid_0's l2: 110875\n",
      "[700]\tvalid_0's l2: 108405\n",
      "[800]\tvalid_0's l2: 107341\n",
      "[900]\tvalid_0's l2: 106585\n",
      "[1000]\tvalid_0's l2: 105284\n",
      "[1100]\tvalid_0's l2: 104536\n",
      "[1200]\tvalid_0's l2: 103812\n",
      "[1300]\tvalid_0's l2: 103348\n",
      "[1400]\tvalid_0's l2: 102760\n",
      "[1500]\tvalid_0's l2: 102577\n",
      "[1600]\tvalid_0's l2: 102144\n",
      "[1700]\tvalid_0's l2: 102110\n",
      "[1800]\tvalid_0's l2: 101844\n",
      "[1900]\tvalid_0's l2: 101626\n",
      "[2000]\tvalid_0's l2: 101492\n",
      "[2100]\tvalid_0's l2: 101306\n",
      "[2200]\tvalid_0's l2: 101167\n",
      "[2300]\tvalid_0's l2: 101065\n",
      "[2400]\tvalid_0's l2: 101056\n",
      "[2500]\tvalid_0's l2: 100970\n",
      "[2600]\tvalid_0's l2: 100821\n",
      "[2700]\tvalid_0's l2: 100687\n",
      "[2800]\tvalid_0's l2: 100560\n",
      "[2900]\tvalid_0's l2: 100720\n",
      "Early stopping, best iteration is:\n",
      "[2811]\tvalid_0's l2: 100512\n",
      "| \u001b[95m 5       \u001b[0m | \u001b[95m-1.297   \u001b[0m | \u001b[95m 0.7447  \u001b[0m | \u001b[95m 0.5558  \u001b[0m | \u001b[95m 0.03629 \u001b[0m | \u001b[95m 27.33   \u001b[0m | \u001b[95m 63.01   \u001b[0m |\n"
     ]
    },
    {
     "name": "stderr",
     "output_type": "stream",
     "text": [
      "C:\\Users\\82104\\anaconda3\\lib\\site-packages\\lightgbm\\engine.py:181: UserWarning: 'early_stopping_rounds' argument is deprecated and will be removed in a future release of LightGBM. Pass 'early_stopping()' callback via 'callbacks' argument instead.\n",
      "  _log_warning(\"'early_stopping_rounds' argument is deprecated and will be removed in a future release of LightGBM. \"\n",
      "C:\\Users\\82104\\anaconda3\\lib\\site-packages\\lightgbm\\engine.py:239: UserWarning: 'verbose_eval' argument is deprecated and will be removed in a future release of LightGBM. Pass 'log_evaluation()' callback via 'callbacks' argument instead.\n",
      "  _log_warning(\"'verbose_eval' argument is deprecated and will be removed in a future release of LightGBM. \"\n"
     ]
    },
    {
     "name": "stdout",
     "output_type": "stream",
     "text": [
      "[LightGBM] [Warning] Auto-choosing row-wise multi-threading, the overhead of testing was 0.173354 seconds.\n",
      "You can set `force_row_wise=true` to remove the overhead.\n",
      "And if memory is not enough, you can set `force_col_wise=true`.\n",
      "[LightGBM] [Info] Total Bins 1173\n",
      "[LightGBM] [Info] Number of data points in the train set: 2368278, number of used features: 104\n",
      "[LightGBM] [Info] Start training from score 326.506259\n",
      "Training until validation scores don't improve for 100 rounds\n",
      "[100]\tvalid_0's l2: 320012\n",
      "[200]\tvalid_0's l2: 170837\n",
      "[300]\tvalid_0's l2: 140637\n",
      "[400]\tvalid_0's l2: 127856\n",
      "[500]\tvalid_0's l2: 121105\n",
      "[600]\tvalid_0's l2: 116408\n",
      "[700]\tvalid_0's l2: 112990\n",
      "[800]\tvalid_0's l2: 110609\n",
      "[900]\tvalid_0's l2: 108711\n",
      "[1000]\tvalid_0's l2: 107253\n",
      "[1100]\tvalid_0's l2: 106462\n",
      "[1200]\tvalid_0's l2: 105625\n",
      "[1300]\tvalid_0's l2: 104628\n",
      "[1400]\tvalid_0's l2: 104204\n",
      "[1500]\tvalid_0's l2: 103511\n",
      "[1600]\tvalid_0's l2: 102979\n",
      "[1700]\tvalid_0's l2: 102424\n",
      "[1800]\tvalid_0's l2: 101997\n",
      "[1900]\tvalid_0's l2: 101540\n",
      "[2000]\tvalid_0's l2: 101095\n",
      "[2100]\tvalid_0's l2: 100671\n",
      "[2200]\tvalid_0's l2: 100356\n",
      "Early stopping, best iteration is:\n",
      "[2168]\tvalid_0's l2: 100342\n",
      "| \u001b[0m 6       \u001b[0m | \u001b[0m-1.349   \u001b[0m | \u001b[0m 0.5138  \u001b[0m | \u001b[0m 0.7556  \u001b[0m | \u001b[0m 0.01733 \u001b[0m | \u001b[0m 28.7    \u001b[0m | \u001b[0m 51.9    \u001b[0m |\n"
     ]
    },
    {
     "name": "stderr",
     "output_type": "stream",
     "text": [
      "C:\\Users\\82104\\anaconda3\\lib\\site-packages\\lightgbm\\engine.py:181: UserWarning: 'early_stopping_rounds' argument is deprecated and will be removed in a future release of LightGBM. Pass 'early_stopping()' callback via 'callbacks' argument instead.\n",
      "  _log_warning(\"'early_stopping_rounds' argument is deprecated and will be removed in a future release of LightGBM. \"\n",
      "C:\\Users\\82104\\anaconda3\\lib\\site-packages\\lightgbm\\engine.py:239: UserWarning: 'verbose_eval' argument is deprecated and will be removed in a future release of LightGBM. Pass 'log_evaluation()' callback via 'callbacks' argument instead.\n",
      "  _log_warning(\"'verbose_eval' argument is deprecated and will be removed in a future release of LightGBM. \"\n"
     ]
    },
    {
     "name": "stdout",
     "output_type": "stream",
     "text": [
      "[LightGBM] [Warning] Auto-choosing row-wise multi-threading, the overhead of testing was 0.208445 seconds.\n",
      "You can set `force_row_wise=true` to remove the overhead.\n",
      "And if memory is not enough, you can set `force_col_wise=true`.\n",
      "[LightGBM] [Info] Total Bins 1173\n",
      "[LightGBM] [Info] Number of data points in the train set: 2368278, number of used features: 104\n",
      "[LightGBM] [Info] Start training from score 326.506259\n",
      "Training until validation scores don't improve for 100 rounds\n",
      "[100]\tvalid_0's l2: 129323\n",
      "[200]\tvalid_0's l2: 111923\n",
      "[300]\tvalid_0's l2: 107150\n",
      "[400]\tvalid_0's l2: 103721\n",
      "[500]\tvalid_0's l2: 101900\n",
      "[600]\tvalid_0's l2: 99861.4\n",
      "[700]\tvalid_0's l2: 99093.3\n",
      "[800]\tvalid_0's l2: 98264.5\n",
      "[900]\tvalid_0's l2: 97368.2\n",
      "[1000]\tvalid_0's l2: 96855.9\n",
      "[1100]\tvalid_0's l2: 96388.7\n",
      "[1200]\tvalid_0's l2: 96280.7\n",
      "[1300]\tvalid_0's l2: 96242.7\n",
      "Early stopping, best iteration is:\n",
      "[1271]\tvalid_0's l2: 96153.6\n",
      "| \u001b[0m 7       \u001b[0m | \u001b[0m-1.341   \u001b[0m | \u001b[0m 0.5107  \u001b[0m | \u001b[0m 0.7504  \u001b[0m | \u001b[0m 0.06025 \u001b[0m | \u001b[0m 27.59   \u001b[0m | \u001b[0m 63.4    \u001b[0m |\n"
     ]
    },
    {
     "name": "stderr",
     "output_type": "stream",
     "text": [
      "C:\\Users\\82104\\anaconda3\\lib\\site-packages\\lightgbm\\engine.py:181: UserWarning: 'early_stopping_rounds' argument is deprecated and will be removed in a future release of LightGBM. Pass 'early_stopping()' callback via 'callbacks' argument instead.\n",
      "  _log_warning(\"'early_stopping_rounds' argument is deprecated and will be removed in a future release of LightGBM. \"\n",
      "C:\\Users\\82104\\anaconda3\\lib\\site-packages\\lightgbm\\engine.py:239: UserWarning: 'verbose_eval' argument is deprecated and will be removed in a future release of LightGBM. Pass 'log_evaluation()' callback via 'callbacks' argument instead.\n",
      "  _log_warning(\"'verbose_eval' argument is deprecated and will be removed in a future release of LightGBM. \"\n"
     ]
    },
    {
     "name": "stdout",
     "output_type": "stream",
     "text": [
      "[LightGBM] [Warning] Auto-choosing row-wise multi-threading, the overhead of testing was 0.209075 seconds.\n",
      "You can set `force_row_wise=true` to remove the overhead.\n",
      "And if memory is not enough, you can set `force_col_wise=true`.\n",
      "[LightGBM] [Info] Total Bins 1173\n",
      "[LightGBM] [Info] Number of data points in the train set: 2368278, number of used features: 104\n",
      "[LightGBM] [Info] Start training from score 326.506259\n",
      "Training until validation scores don't improve for 100 rounds\n",
      "[100]\tvalid_0's l2: 364421\n",
      "[200]\tvalid_0's l2: 180574\n",
      "[300]\tvalid_0's l2: 142369\n",
      "[400]\tvalid_0's l2: 129367\n",
      "[500]\tvalid_0's l2: 122462\n",
      "[600]\tvalid_0's l2: 117725\n",
      "[700]\tvalid_0's l2: 113891\n",
      "[800]\tvalid_0's l2: 111342\n",
      "[900]\tvalid_0's l2: 109083\n",
      "[1000]\tvalid_0's l2: 107817\n",
      "[1100]\tvalid_0's l2: 106413\n",
      "[1200]\tvalid_0's l2: 105601\n",
      "[1300]\tvalid_0's l2: 104765\n",
      "[1400]\tvalid_0's l2: 103717\n",
      "[1500]\tvalid_0's l2: 102930\n",
      "[1600]\tvalid_0's l2: 102201\n",
      "[1700]\tvalid_0's l2: 101670\n",
      "[1800]\tvalid_0's l2: 101274\n",
      "[1900]\tvalid_0's l2: 100805\n",
      "[2000]\tvalid_0's l2: 100552\n",
      "[2100]\tvalid_0's l2: 100166\n",
      "[2200]\tvalid_0's l2: 99845\n",
      "[2300]\tvalid_0's l2: 99540\n",
      "[2400]\tvalid_0's l2: 99209.7\n",
      "[2500]\tvalid_0's l2: 99032.2\n",
      "[2600]\tvalid_0's l2: 98960.8\n",
      "[2700]\tvalid_0's l2: 98811.1\n",
      "[2800]\tvalid_0's l2: 98634.3\n",
      "[2900]\tvalid_0's l2: 98441\n",
      "[3000]\tvalid_0's l2: 98342.4\n",
      "Did not meet early stopping. Best iteration is:\n",
      "[3000]\tvalid_0's l2: 98342.4\n",
      "| \u001b[0m 8       \u001b[0m | \u001b[0m-1.328   \u001b[0m | \u001b[0m 0.7174  \u001b[0m | \u001b[0m 0.6995  \u001b[0m | \u001b[0m 0.01619 \u001b[0m | \u001b[0m 27.31   \u001b[0m | \u001b[0m 62.58   \u001b[0m |\n"
     ]
    },
    {
     "name": "stderr",
     "output_type": "stream",
     "text": [
      "C:\\Users\\82104\\anaconda3\\lib\\site-packages\\lightgbm\\engine.py:181: UserWarning: 'early_stopping_rounds' argument is deprecated and will be removed in a future release of LightGBM. Pass 'early_stopping()' callback via 'callbacks' argument instead.\n",
      "  _log_warning(\"'early_stopping_rounds' argument is deprecated and will be removed in a future release of LightGBM. \"\n",
      "C:\\Users\\82104\\anaconda3\\lib\\site-packages\\lightgbm\\engine.py:239: UserWarning: 'verbose_eval' argument is deprecated and will be removed in a future release of LightGBM. Pass 'log_evaluation()' callback via 'callbacks' argument instead.\n",
      "  _log_warning(\"'verbose_eval' argument is deprecated and will be removed in a future release of LightGBM. \"\n"
     ]
    },
    {
     "name": "stdout",
     "output_type": "stream",
     "text": [
      "[LightGBM] [Warning] Auto-choosing row-wise multi-threading, the overhead of testing was 0.190597 seconds.\n",
      "You can set `force_row_wise=true` to remove the overhead.\n",
      "And if memory is not enough, you can set `force_col_wise=true`.\n",
      "[LightGBM] [Info] Total Bins 1173\n",
      "[LightGBM] [Info] Number of data points in the train set: 2368278, number of used features: 104\n",
      "[LightGBM] [Info] Start training from score 326.506259\n",
      "Training until validation scores don't improve for 100 rounds\n",
      "[100]\tvalid_0's l2: 174783\n",
      "[200]\tvalid_0's l2: 131587\n",
      "[300]\tvalid_0's l2: 120296\n",
      "[400]\tvalid_0's l2: 113759\n",
      "[500]\tvalid_0's l2: 110601\n",
      "[600]\tvalid_0's l2: 108943\n",
      "[700]\tvalid_0's l2: 108101\n",
      "[800]\tvalid_0's l2: 107465\n",
      "[900]\tvalid_0's l2: 106416\n",
      "[1000]\tvalid_0's l2: 105407\n",
      "[1100]\tvalid_0's l2: 104782\n",
      "[1200]\tvalid_0's l2: 104389\n",
      "[1300]\tvalid_0's l2: 104209\n",
      "[1400]\tvalid_0's l2: 103992\n",
      "[1500]\tvalid_0's l2: 103736\n",
      "[1600]\tvalid_0's l2: 103700\n",
      "[1700]\tvalid_0's l2: 103707\n",
      "Early stopping, best iteration is:\n",
      "[1669]\tvalid_0's l2: 103635\n",
      "| \u001b[0m 9       \u001b[0m | \u001b[0m-1.357   \u001b[0m | \u001b[0m 0.788   \u001b[0m | \u001b[0m 0.5032  \u001b[0m | \u001b[0m 0.04756 \u001b[0m | \u001b[0m 26.71   \u001b[0m | \u001b[0m 62.96   \u001b[0m |\n"
     ]
    },
    {
     "name": "stderr",
     "output_type": "stream",
     "text": [
      "C:\\Users\\82104\\anaconda3\\lib\\site-packages\\lightgbm\\engine.py:181: UserWarning: 'early_stopping_rounds' argument is deprecated and will be removed in a future release of LightGBM. Pass 'early_stopping()' callback via 'callbacks' argument instead.\n",
      "  _log_warning(\"'early_stopping_rounds' argument is deprecated and will be removed in a future release of LightGBM. \"\n",
      "C:\\Users\\82104\\anaconda3\\lib\\site-packages\\lightgbm\\engine.py:239: UserWarning: 'verbose_eval' argument is deprecated and will be removed in a future release of LightGBM. Pass 'log_evaluation()' callback via 'callbacks' argument instead.\n",
      "  _log_warning(\"'verbose_eval' argument is deprecated and will be removed in a future release of LightGBM. \"\n"
     ]
    },
    {
     "name": "stdout",
     "output_type": "stream",
     "text": [
      "[LightGBM] [Warning] Auto-choosing row-wise multi-threading, the overhead of testing was 0.207780 seconds.\n",
      "You can set `force_row_wise=true` to remove the overhead.\n",
      "And if memory is not enough, you can set `force_col_wise=true`.\n",
      "[LightGBM] [Info] Total Bins 1173\n",
      "[LightGBM] [Info] Number of data points in the train set: 2368278, number of used features: 104\n",
      "[LightGBM] [Info] Start training from score 326.506259\n",
      "Training until validation scores don't improve for 100 rounds\n",
      "[100]\tvalid_0's l2: 179273\n",
      "[200]\tvalid_0's l2: 132314\n",
      "[300]\tvalid_0's l2: 122175\n",
      "[400]\tvalid_0's l2: 116171\n",
      "[500]\tvalid_0's l2: 112189\n",
      "[600]\tvalid_0's l2: 109867\n",
      "[700]\tvalid_0's l2: 108567\n",
      "[800]\tvalid_0's l2: 107268\n",
      "[900]\tvalid_0's l2: 106375\n",
      "[1000]\tvalid_0's l2: 105518\n",
      "[1100]\tvalid_0's l2: 105030\n",
      "[1200]\tvalid_0's l2: 104660\n",
      "[1300]\tvalid_0's l2: 104186\n",
      "[1400]\tvalid_0's l2: 103433\n",
      "[1500]\tvalid_0's l2: 103176\n",
      "[1600]\tvalid_0's l2: 103048\n",
      "[1700]\tvalid_0's l2: 102997\n",
      "[1800]\tvalid_0's l2: 102812\n",
      "[1900]\tvalid_0's l2: 103006\n",
      "Early stopping, best iteration is:\n",
      "[1800]\tvalid_0's l2: 102812\n",
      "| \u001b[0m 10      \u001b[0m | \u001b[0m-1.321   \u001b[0m | \u001b[0m 0.823   \u001b[0m | \u001b[0m 0.5703  \u001b[0m | \u001b[0m 0.03851 \u001b[0m | \u001b[0m 25.38   \u001b[0m | \u001b[0m 81.36   \u001b[0m |\n"
     ]
    },
    {
     "name": "stderr",
     "output_type": "stream",
     "text": [
      "C:\\Users\\82104\\anaconda3\\lib\\site-packages\\lightgbm\\engine.py:181: UserWarning: 'early_stopping_rounds' argument is deprecated and will be removed in a future release of LightGBM. Pass 'early_stopping()' callback via 'callbacks' argument instead.\n",
      "  _log_warning(\"'early_stopping_rounds' argument is deprecated and will be removed in a future release of LightGBM. \"\n",
      "C:\\Users\\82104\\anaconda3\\lib\\site-packages\\lightgbm\\engine.py:239: UserWarning: 'verbose_eval' argument is deprecated and will be removed in a future release of LightGBM. Pass 'log_evaluation()' callback via 'callbacks' argument instead.\n",
      "  _log_warning(\"'verbose_eval' argument is deprecated and will be removed in a future release of LightGBM. \"\n"
     ]
    },
    {
     "name": "stdout",
     "output_type": "stream",
     "text": [
      "[LightGBM] [Warning] Auto-choosing row-wise multi-threading, the overhead of testing was 0.238798 seconds.\n",
      "You can set `force_row_wise=true` to remove the overhead.\n",
      "And if memory is not enough, you can set `force_col_wise=true`.\n",
      "[LightGBM] [Info] Total Bins 1173\n",
      "[LightGBM] [Info] Number of data points in the train set: 2368278, number of used features: 104\n",
      "[LightGBM] [Info] Start training from score 326.506259\n",
      "Training until validation scores don't improve for 100 rounds\n",
      "[100]\tvalid_0's l2: 161566\n",
      "[200]\tvalid_0's l2: 121920\n",
      "[300]\tvalid_0's l2: 112584\n",
      "[400]\tvalid_0's l2: 107328\n",
      "[500]\tvalid_0's l2: 104669\n",
      "[600]\tvalid_0's l2: 103156\n",
      "[700]\tvalid_0's l2: 101646\n",
      "[800]\tvalid_0's l2: 100751\n",
      "[900]\tvalid_0's l2: 100006\n",
      "[1000]\tvalid_0's l2: 99418.8\n",
      "[1100]\tvalid_0's l2: 98952\n",
      "[1200]\tvalid_0's l2: 98376.9\n",
      "[1300]\tvalid_0's l2: 98131.8\n",
      "[1400]\tvalid_0's l2: 97814.1\n",
      "[1500]\tvalid_0's l2: 97316.4\n",
      "[1600]\tvalid_0's l2: 96750.2\n",
      "[1700]\tvalid_0's l2: 96301.3\n",
      "[1800]\tvalid_0's l2: 95574.1\n",
      "[1900]\tvalid_0's l2: 95334.2\n",
      "[2000]\tvalid_0's l2: 95427.4\n",
      "Early stopping, best iteration is:\n",
      "[1904]\tvalid_0's l2: 95319.8\n",
      "| \u001b[95m 11      \u001b[0m | \u001b[95m-1.282   \u001b[0m | \u001b[95m 0.8545  \u001b[0m | \u001b[95m 0.8356  \u001b[0m | \u001b[95m 0.03269 \u001b[0m | \u001b[95m 27.36   \u001b[0m | \u001b[95m 63.18   \u001b[0m |\n"
     ]
    },
    {
     "name": "stderr",
     "output_type": "stream",
     "text": [
      "C:\\Users\\82104\\anaconda3\\lib\\site-packages\\lightgbm\\engine.py:181: UserWarning: 'early_stopping_rounds' argument is deprecated and will be removed in a future release of LightGBM. Pass 'early_stopping()' callback via 'callbacks' argument instead.\n",
      "  _log_warning(\"'early_stopping_rounds' argument is deprecated and will be removed in a future release of LightGBM. \"\n",
      "C:\\Users\\82104\\anaconda3\\lib\\site-packages\\lightgbm\\engine.py:239: UserWarning: 'verbose_eval' argument is deprecated and will be removed in a future release of LightGBM. Pass 'log_evaluation()' callback via 'callbacks' argument instead.\n",
      "  _log_warning(\"'verbose_eval' argument is deprecated and will be removed in a future release of LightGBM. \"\n"
     ]
    },
    {
     "name": "stdout",
     "output_type": "stream",
     "text": [
      "[LightGBM] [Warning] Auto-choosing row-wise multi-threading, the overhead of testing was 0.205240 seconds.\n",
      "You can set `force_row_wise=true` to remove the overhead.\n",
      "And if memory is not enough, you can set `force_col_wise=true`.\n",
      "[LightGBM] [Info] Total Bins 1173\n",
      "[LightGBM] [Info] Number of data points in the train set: 2368278, number of used features: 104\n",
      "[LightGBM] [Info] Start training from score 326.506259\n",
      "Training until validation scores don't improve for 100 rounds\n",
      "[100]\tvalid_0's l2: 138834\n",
      "[200]\tvalid_0's l2: 116790\n",
      "[300]\tvalid_0's l2: 110346\n",
      "[400]\tvalid_0's l2: 106559\n",
      "[500]\tvalid_0's l2: 104288\n",
      "[600]\tvalid_0's l2: 103140\n",
      "[700]\tvalid_0's l2: 101342\n",
      "[800]\tvalid_0's l2: 99856\n",
      "[900]\tvalid_0's l2: 98151.4\n",
      "[1000]\tvalid_0's l2: 97595.3\n",
      "[1100]\tvalid_0's l2: 96853.1\n",
      "[1200]\tvalid_0's l2: 96627.3\n",
      "[1300]\tvalid_0's l2: 96275\n",
      "[1400]\tvalid_0's l2: 96191.3\n",
      "Early stopping, best iteration is:\n",
      "[1365]\tvalid_0's l2: 96102.7\n",
      "| \u001b[0m 12      \u001b[0m | \u001b[0m-1.308   \u001b[0m | \u001b[0m 0.5302  \u001b[0m | \u001b[0m 0.8248  \u001b[0m | \u001b[0m 0.052   \u001b[0m | \u001b[0m 26.12   \u001b[0m | \u001b[0m 52.31   \u001b[0m |\n"
     ]
    },
    {
     "name": "stderr",
     "output_type": "stream",
     "text": [
      "C:\\Users\\82104\\anaconda3\\lib\\site-packages\\lightgbm\\engine.py:181: UserWarning: 'early_stopping_rounds' argument is deprecated and will be removed in a future release of LightGBM. Pass 'early_stopping()' callback via 'callbacks' argument instead.\n",
      "  _log_warning(\"'early_stopping_rounds' argument is deprecated and will be removed in a future release of LightGBM. \"\n",
      "C:\\Users\\82104\\anaconda3\\lib\\site-packages\\lightgbm\\engine.py:239: UserWarning: 'verbose_eval' argument is deprecated and will be removed in a future release of LightGBM. Pass 'log_evaluation()' callback via 'callbacks' argument instead.\n",
      "  _log_warning(\"'verbose_eval' argument is deprecated and will be removed in a future release of LightGBM. \"\n"
     ]
    },
    {
     "name": "stdout",
     "output_type": "stream",
     "text": [
      "[LightGBM] [Warning] Auto-choosing row-wise multi-threading, the overhead of testing was 0.195375 seconds.\n",
      "You can set `force_row_wise=true` to remove the overhead.\n",
      "And if memory is not enough, you can set `force_col_wise=true`.\n",
      "[LightGBM] [Info] Total Bins 1173\n",
      "[LightGBM] [Info] Number of data points in the train set: 2368278, number of used features: 104\n",
      "[LightGBM] [Info] Start training from score 326.506259\n",
      "Training until validation scores don't improve for 100 rounds\n",
      "[100]\tvalid_0's l2: 116671\n",
      "[200]\tvalid_0's l2: 105097\n",
      "[300]\tvalid_0's l2: 101451\n",
      "[400]\tvalid_0's l2: 98969.9\n",
      "[500]\tvalid_0's l2: 97628.7\n",
      "[600]\tvalid_0's l2: 96910.8\n",
      "[700]\tvalid_0's l2: 95791.8\n",
      "[800]\tvalid_0's l2: 95708.3\n",
      "[900]\tvalid_0's l2: 95657.8\n",
      "Early stopping, best iteration is:\n",
      "[834]\tvalid_0's l2: 95274.2\n",
      "| \u001b[95m 13      \u001b[0m | \u001b[95m-1.279   \u001b[0m | \u001b[95m 0.533   \u001b[0m | \u001b[95m 0.8615  \u001b[0m | \u001b[95m 0.06344 \u001b[0m | \u001b[95m 35.0    \u001b[0m | \u001b[95m 82.87   \u001b[0m |\n"
     ]
    },
    {
     "name": "stderr",
     "output_type": "stream",
     "text": [
      "C:\\Users\\82104\\anaconda3\\lib\\site-packages\\lightgbm\\engine.py:181: UserWarning: 'early_stopping_rounds' argument is deprecated and will be removed in a future release of LightGBM. Pass 'early_stopping()' callback via 'callbacks' argument instead.\n",
      "  _log_warning(\"'early_stopping_rounds' argument is deprecated and will be removed in a future release of LightGBM. \"\n",
      "C:\\Users\\82104\\anaconda3\\lib\\site-packages\\lightgbm\\engine.py:239: UserWarning: 'verbose_eval' argument is deprecated and will be removed in a future release of LightGBM. Pass 'log_evaluation()' callback via 'callbacks' argument instead.\n",
      "  _log_warning(\"'verbose_eval' argument is deprecated and will be removed in a future release of LightGBM. \"\n"
     ]
    },
    {
     "name": "stdout",
     "output_type": "stream",
     "text": [
      "[LightGBM] [Warning] Auto-choosing row-wise multi-threading, the overhead of testing was 0.185665 seconds.\n",
      "You can set `force_row_wise=true` to remove the overhead.\n",
      "And if memory is not enough, you can set `force_col_wise=true`.\n",
      "[LightGBM] [Info] Total Bins 1173\n",
      "[LightGBM] [Info] Number of data points in the train set: 2368278, number of used features: 104\n",
      "[LightGBM] [Info] Start training from score 326.506259\n",
      "Training until validation scores don't improve for 100 rounds\n",
      "[100]\tvalid_0's l2: 118450\n",
      "[200]\tvalid_0's l2: 109666\n",
      "[300]\tvalid_0's l2: 103663\n",
      "[400]\tvalid_0's l2: 101609\n",
      "[500]\tvalid_0's l2: 100926\n",
      "[600]\tvalid_0's l2: 99540.8\n",
      "[700]\tvalid_0's l2: 100160\n",
      "Early stopping, best iteration is:\n",
      "[611]\tvalid_0's l2: 99475.2\n",
      "| \u001b[0m 14      \u001b[0m | \u001b[0m-1.313   \u001b[0m | \u001b[0m 0.7913  \u001b[0m | \u001b[0m 0.767   \u001b[0m | \u001b[0m 0.09951 \u001b[0m | \u001b[0m 28.13   \u001b[0m | \u001b[0m 68.63   \u001b[0m |\n"
     ]
    },
    {
     "name": "stderr",
     "output_type": "stream",
     "text": [
      "C:\\Users\\82104\\anaconda3\\lib\\site-packages\\lightgbm\\engine.py:181: UserWarning: 'early_stopping_rounds' argument is deprecated and will be removed in a future release of LightGBM. Pass 'early_stopping()' callback via 'callbacks' argument instead.\n",
      "  _log_warning(\"'early_stopping_rounds' argument is deprecated and will be removed in a future release of LightGBM. \"\n",
      "C:\\Users\\82104\\anaconda3\\lib\\site-packages\\lightgbm\\engine.py:239: UserWarning: 'verbose_eval' argument is deprecated and will be removed in a future release of LightGBM. Pass 'log_evaluation()' callback via 'callbacks' argument instead.\n",
      "  _log_warning(\"'verbose_eval' argument is deprecated and will be removed in a future release of LightGBM. \"\n"
     ]
    },
    {
     "name": "stdout",
     "output_type": "stream",
     "text": [
      "[LightGBM] [Warning] Auto-choosing row-wise multi-threading, the overhead of testing was 0.173129 seconds.\n",
      "You can set `force_row_wise=true` to remove the overhead.\n",
      "And if memory is not enough, you can set `force_col_wise=true`.\n",
      "[LightGBM] [Info] Total Bins 1173\n",
      "[LightGBM] [Info] Number of data points in the train set: 2368278, number of used features: 104\n",
      "[LightGBM] [Info] Start training from score 326.506259\n",
      "Training until validation scores don't improve for 100 rounds\n",
      "[100]\tvalid_0's l2: 165222\n",
      "[200]\tvalid_0's l2: 126741\n",
      "[300]\tvalid_0's l2: 116001\n",
      "[400]\tvalid_0's l2: 110370\n",
      "[500]\tvalid_0's l2: 107180\n",
      "[600]\tvalid_0's l2: 104887\n",
      "[700]\tvalid_0's l2: 103054\n",
      "[800]\tvalid_0's l2: 102076\n",
      "[900]\tvalid_0's l2: 100996\n",
      "[1000]\tvalid_0's l2: 100020\n",
      "[1100]\tvalid_0's l2: 99139.3\n",
      "[1200]\tvalid_0's l2: 98494.2\n",
      "[1300]\tvalid_0's l2: 97979.2\n",
      "[1400]\tvalid_0's l2: 97284.9\n",
      "[1500]\tvalid_0's l2: 96618.8\n",
      "[1600]\tvalid_0's l2: 96448.6\n",
      "[1700]\tvalid_0's l2: 96217\n",
      "[1800]\tvalid_0's l2: 95866\n",
      "[1900]\tvalid_0's l2: 95766.3\n",
      "[2000]\tvalid_0's l2: 95668.4\n",
      "[2100]\tvalid_0's l2: 95449.5\n",
      "[2200]\tvalid_0's l2: 95472.1\n",
      "Early stopping, best iteration is:\n",
      "[2111]\tvalid_0's l2: 95392.7\n",
      "| \u001b[0m 15      \u001b[0m | \u001b[0m-1.321   \u001b[0m | \u001b[0m 0.5534  \u001b[0m | \u001b[0m 0.7949  \u001b[0m | \u001b[0m 0.03712 \u001b[0m | \u001b[0m 23.79   \u001b[0m | \u001b[0m 47.43   \u001b[0m |\n"
     ]
    },
    {
     "name": "stderr",
     "output_type": "stream",
     "text": [
      "C:\\Users\\82104\\anaconda3\\lib\\site-packages\\lightgbm\\engine.py:181: UserWarning: 'early_stopping_rounds' argument is deprecated and will be removed in a future release of LightGBM. Pass 'early_stopping()' callback via 'callbacks' argument instead.\n",
      "  _log_warning(\"'early_stopping_rounds' argument is deprecated and will be removed in a future release of LightGBM. \"\n",
      "C:\\Users\\82104\\anaconda3\\lib\\site-packages\\lightgbm\\engine.py:239: UserWarning: 'verbose_eval' argument is deprecated and will be removed in a future release of LightGBM. Pass 'log_evaluation()' callback via 'callbacks' argument instead.\n",
      "  _log_warning(\"'verbose_eval' argument is deprecated and will be removed in a future release of LightGBM. \"\n"
     ]
    },
    {
     "name": "stdout",
     "output_type": "stream",
     "text": [
      "[LightGBM] [Warning] Auto-choosing row-wise multi-threading, the overhead of testing was 0.175386 seconds.\n",
      "You can set `force_row_wise=true` to remove the overhead.\n",
      "And if memory is not enough, you can set `force_col_wise=true`.\n",
      "[LightGBM] [Info] Total Bins 1173\n",
      "[LightGBM] [Info] Number of data points in the train set: 2368278, number of used features: 104\n",
      "[LightGBM] [Info] Start training from score 326.506259\n",
      "Training until validation scores don't improve for 100 rounds\n",
      "[100]\tvalid_0's l2: 323358\n",
      "[200]\tvalid_0's l2: 160414\n",
      "[300]\tvalid_0's l2: 129002\n",
      "[400]\tvalid_0's l2: 119376\n",
      "[500]\tvalid_0's l2: 113772\n",
      "[600]\tvalid_0's l2: 110330\n",
      "[700]\tvalid_0's l2: 108036\n",
      "[800]\tvalid_0's l2: 106280\n",
      "[900]\tvalid_0's l2: 105089\n",
      "[1000]\tvalid_0's l2: 104033\n",
      "[1100]\tvalid_0's l2: 103369\n",
      "[1200]\tvalid_0's l2: 102599\n",
      "[1300]\tvalid_0's l2: 101979\n",
      "[1400]\tvalid_0's l2: 101434\n",
      "[1500]\tvalid_0's l2: 100944\n",
      "[1600]\tvalid_0's l2: 100630\n",
      "[1700]\tvalid_0's l2: 100277\n",
      "[1800]\tvalid_0's l2: 100041\n",
      "[1900]\tvalid_0's l2: 99928.5\n",
      "[2000]\tvalid_0's l2: 99767.3\n",
      "[2100]\tvalid_0's l2: 99604.5\n",
      "[2200]\tvalid_0's l2: 99488.2\n",
      "[2300]\tvalid_0's l2: 99353\n",
      "[2400]\tvalid_0's l2: 99178.8\n",
      "[2500]\tvalid_0's l2: 99043\n",
      "[2600]\tvalid_0's l2: 99029.5\n",
      "[2700]\tvalid_0's l2: 98914.4\n",
      "[2800]\tvalid_0's l2: 98769.3\n",
      "[2900]\tvalid_0's l2: 98676.4\n",
      "[3000]\tvalid_0's l2: 98573.4\n",
      "Did not meet early stopping. Best iteration is:\n",
      "[2992]\tvalid_0's l2: 98544.2\n",
      "| \u001b[95m 16      \u001b[0m | \u001b[95m-1.247   \u001b[0m | \u001b[95m 0.6086  \u001b[0m | \u001b[95m 0.7607  \u001b[0m | \u001b[95m 0.0156  \u001b[0m | \u001b[95m 34.94   \u001b[0m | \u001b[95m 97.23   \u001b[0m |\n"
     ]
    },
    {
     "name": "stderr",
     "output_type": "stream",
     "text": [
      "C:\\Users\\82104\\anaconda3\\lib\\site-packages\\lightgbm\\engine.py:181: UserWarning: 'early_stopping_rounds' argument is deprecated and will be removed in a future release of LightGBM. Pass 'early_stopping()' callback via 'callbacks' argument instead.\n",
      "  _log_warning(\"'early_stopping_rounds' argument is deprecated and will be removed in a future release of LightGBM. \"\n",
      "C:\\Users\\82104\\anaconda3\\lib\\site-packages\\lightgbm\\engine.py:239: UserWarning: 'verbose_eval' argument is deprecated and will be removed in a future release of LightGBM. Pass 'log_evaluation()' callback via 'callbacks' argument instead.\n",
      "  _log_warning(\"'verbose_eval' argument is deprecated and will be removed in a future release of LightGBM. \"\n"
     ]
    },
    {
     "name": "stdout",
     "output_type": "stream",
     "text": [
      "[LightGBM] [Warning] Auto-choosing row-wise multi-threading, the overhead of testing was 0.221291 seconds.\n",
      "You can set `force_row_wise=true` to remove the overhead.\n",
      "And if memory is not enough, you can set `force_col_wise=true`.\n",
      "[LightGBM] [Info] Total Bins 1173\n",
      "[LightGBM] [Info] Number of data points in the train set: 2368278, number of used features: 104\n",
      "[LightGBM] [Info] Start training from score 326.506259\n",
      "Training until validation scores don't improve for 100 rounds\n",
      "[100]\tvalid_0's l2: 124962\n",
      "[200]\tvalid_0's l2: 116720\n",
      "[300]\tvalid_0's l2: 113896\n",
      "[400]\tvalid_0's l2: 113154\n",
      "[500]\tvalid_0's l2: 112051\n",
      "[600]\tvalid_0's l2: 113276\n",
      "Early stopping, best iteration is:\n",
      "[535]\tvalid_0's l2: 111612\n",
      "| \u001b[0m 17      \u001b[0m | \u001b[0m-1.35    \u001b[0m | \u001b[0m 0.6228  \u001b[0m | \u001b[0m 0.6518  \u001b[0m | \u001b[0m 0.0925  \u001b[0m | \u001b[0m 35.16   \u001b[0m | \u001b[0m 97.11   \u001b[0m |\n"
     ]
    },
    {
     "name": "stderr",
     "output_type": "stream",
     "text": [
      "C:\\Users\\82104\\anaconda3\\lib\\site-packages\\lightgbm\\engine.py:181: UserWarning: 'early_stopping_rounds' argument is deprecated and will be removed in a future release of LightGBM. Pass 'early_stopping()' callback via 'callbacks' argument instead.\n",
      "  _log_warning(\"'early_stopping_rounds' argument is deprecated and will be removed in a future release of LightGBM. \"\n",
      "C:\\Users\\82104\\anaconda3\\lib\\site-packages\\lightgbm\\engine.py:239: UserWarning: 'verbose_eval' argument is deprecated and will be removed in a future release of LightGBM. Pass 'log_evaluation()' callback via 'callbacks' argument instead.\n",
      "  _log_warning(\"'verbose_eval' argument is deprecated and will be removed in a future release of LightGBM. \"\n"
     ]
    },
    {
     "name": "stdout",
     "output_type": "stream",
     "text": [
      "[LightGBM] [Warning] Auto-choosing row-wise multi-threading, the overhead of testing was 0.195685 seconds.\n",
      "You can set `force_row_wise=true` to remove the overhead.\n",
      "And if memory is not enough, you can set `force_col_wise=true`.\n",
      "[LightGBM] [Info] Total Bins 1173\n",
      "[LightGBM] [Info] Number of data points in the train set: 2368278, number of used features: 104\n",
      "[LightGBM] [Info] Start training from score 326.506259\n",
      "Training until validation scores don't improve for 100 rounds\n",
      "[100]\tvalid_0's l2: 117166\n",
      "[200]\tvalid_0's l2: 106215\n",
      "[300]\tvalid_0's l2: 102996\n",
      "[400]\tvalid_0's l2: 102356\n",
      "[500]\tvalid_0's l2: 101201\n",
      "[600]\tvalid_0's l2: 100909\n",
      "[700]\tvalid_0's l2: 100570\n",
      "[800]\tvalid_0's l2: 100416\n",
      "[900]\tvalid_0's l2: 99877\n",
      "[1000]\tvalid_0's l2: 100005\n",
      "Early stopping, best iteration is:\n",
      "[965]\tvalid_0's l2: 99854.7\n",
      "| \u001b[95m 18      \u001b[0m | \u001b[95m-1.24    \u001b[0m | \u001b[95m 0.7808  \u001b[0m | \u001b[95m 0.8166  \u001b[0m | \u001b[95m 0.06478 \u001b[0m | \u001b[95m 34.89   \u001b[0m | \u001b[95m 97.14   \u001b[0m |\n"
     ]
    },
    {
     "name": "stderr",
     "output_type": "stream",
     "text": [
      "C:\\Users\\82104\\anaconda3\\lib\\site-packages\\lightgbm\\engine.py:181: UserWarning: 'early_stopping_rounds' argument is deprecated and will be removed in a future release of LightGBM. Pass 'early_stopping()' callback via 'callbacks' argument instead.\n",
      "  _log_warning(\"'early_stopping_rounds' argument is deprecated and will be removed in a future release of LightGBM. \"\n",
      "C:\\Users\\82104\\anaconda3\\lib\\site-packages\\lightgbm\\engine.py:239: UserWarning: 'verbose_eval' argument is deprecated and will be removed in a future release of LightGBM. Pass 'log_evaluation()' callback via 'callbacks' argument instead.\n",
      "  _log_warning(\"'verbose_eval' argument is deprecated and will be removed in a future release of LightGBM. \"\n"
     ]
    },
    {
     "name": "stdout",
     "output_type": "stream",
     "text": [
      "[LightGBM] [Warning] Auto-choosing row-wise multi-threading, the overhead of testing was 0.188335 seconds.\n",
      "You can set `force_row_wise=true` to remove the overhead.\n",
      "And if memory is not enough, you can set `force_col_wise=true`.\n",
      "[LightGBM] [Info] Total Bins 1173\n",
      "[LightGBM] [Info] Number of data points in the train set: 2368278, number of used features: 104\n",
      "[LightGBM] [Info] Start training from score 326.506259\n",
      "Training until validation scores don't improve for 100 rounds\n",
      "[100]\tvalid_0's l2: 117585\n",
      "[200]\tvalid_0's l2: 107498\n",
      "[300]\tvalid_0's l2: 105213\n",
      "[400]\tvalid_0's l2: 103864\n",
      "[500]\tvalid_0's l2: 102373\n",
      "[600]\tvalid_0's l2: 101557\n",
      "[700]\tvalid_0's l2: 100601\n",
      "[800]\tvalid_0's l2: 100597\n",
      "[900]\tvalid_0's l2: 100534\n",
      "Early stopping, best iteration is:\n",
      "[858]\tvalid_0's l2: 100367\n",
      "| \u001b[0m 19      \u001b[0m | \u001b[0m-1.279   \u001b[0m | \u001b[0m 0.7022  \u001b[0m | \u001b[0m 0.7047  \u001b[0m | \u001b[0m 0.08123 \u001b[0m | \u001b[0m 26.61   \u001b[0m | \u001b[0m 94.72   \u001b[0m |\n"
     ]
    },
    {
     "name": "stderr",
     "output_type": "stream",
     "text": [
      "C:\\Users\\82104\\anaconda3\\lib\\site-packages\\lightgbm\\engine.py:181: UserWarning: 'early_stopping_rounds' argument is deprecated and will be removed in a future release of LightGBM. Pass 'early_stopping()' callback via 'callbacks' argument instead.\n",
      "  _log_warning(\"'early_stopping_rounds' argument is deprecated and will be removed in a future release of LightGBM. \"\n",
      "C:\\Users\\82104\\anaconda3\\lib\\site-packages\\lightgbm\\engine.py:239: UserWarning: 'verbose_eval' argument is deprecated and will be removed in a future release of LightGBM. Pass 'log_evaluation()' callback via 'callbacks' argument instead.\n",
      "  _log_warning(\"'verbose_eval' argument is deprecated and will be removed in a future release of LightGBM. \"\n"
     ]
    },
    {
     "name": "stdout",
     "output_type": "stream",
     "text": [
      "[LightGBM] [Warning] Auto-choosing row-wise multi-threading, the overhead of testing was 0.199349 seconds.\n",
      "You can set `force_row_wise=true` to remove the overhead.\n",
      "And if memory is not enough, you can set `force_col_wise=true`.\n",
      "[LightGBM] [Info] Total Bins 1173\n",
      "[LightGBM] [Info] Number of data points in the train set: 2368278, number of used features: 104\n",
      "[LightGBM] [Info] Start training from score 326.506259\n",
      "Training until validation scores don't improve for 100 rounds\n",
      "[100]\tvalid_0's l2: 118822\n",
      "[200]\tvalid_0's l2: 108548\n",
      "[300]\tvalid_0's l2: 104965\n",
      "[400]\tvalid_0's l2: 103208\n",
      "[500]\tvalid_0's l2: 102258\n",
      "[600]\tvalid_0's l2: 102608\n",
      "Early stopping, best iteration is:\n",
      "[546]\tvalid_0's l2: 102113\n",
      "| \u001b[0m 20      \u001b[0m | \u001b[0m-1.301   \u001b[0m | \u001b[0m 0.8586  \u001b[0m | \u001b[0m 0.6976  \u001b[0m | \u001b[0m 0.08078 \u001b[0m | \u001b[0m 34.89   \u001b[0m | \u001b[0m 97.3    \u001b[0m |\n"
     ]
    },
    {
     "name": "stderr",
     "output_type": "stream",
     "text": [
      "C:\\Users\\82104\\anaconda3\\lib\\site-packages\\lightgbm\\engine.py:181: UserWarning: 'early_stopping_rounds' argument is deprecated and will be removed in a future release of LightGBM. Pass 'early_stopping()' callback via 'callbacks' argument instead.\n",
      "  _log_warning(\"'early_stopping_rounds' argument is deprecated and will be removed in a future release of LightGBM. \"\n",
      "C:\\Users\\82104\\anaconda3\\lib\\site-packages\\lightgbm\\engine.py:239: UserWarning: 'verbose_eval' argument is deprecated and will be removed in a future release of LightGBM. Pass 'log_evaluation()' callback via 'callbacks' argument instead.\n",
      "  _log_warning(\"'verbose_eval' argument is deprecated and will be removed in a future release of LightGBM. \"\n"
     ]
    },
    {
     "name": "stdout",
     "output_type": "stream",
     "text": [
      "[LightGBM] [Warning] Auto-choosing row-wise multi-threading, the overhead of testing was 0.189020 seconds.\n",
      "You can set `force_row_wise=true` to remove the overhead.\n",
      "And if memory is not enough, you can set `force_col_wise=true`.\n",
      "[LightGBM] [Info] Total Bins 1173\n",
      "[LightGBM] [Info] Number of data points in the train set: 2368278, number of used features: 104\n",
      "[LightGBM] [Info] Start training from score 326.506259\n",
      "Training until validation scores don't improve for 100 rounds\n",
      "[100]\tvalid_0's l2: 481236\n",
      "[200]\tvalid_0's l2: 216168\n",
      "[300]\tvalid_0's l2: 150698\n",
      "[400]\tvalid_0's l2: 128071\n",
      "[500]\tvalid_0's l2: 118859\n",
      "[600]\tvalid_0's l2: 113285\n",
      "[700]\tvalid_0's l2: 109637\n",
      "[800]\tvalid_0's l2: 107842\n",
      "[900]\tvalid_0's l2: 105970\n",
      "[1000]\tvalid_0's l2: 104365\n",
      "[1100]\tvalid_0's l2: 103331\n",
      "[1200]\tvalid_0's l2: 102474\n",
      "[1300]\tvalid_0's l2: 101803\n",
      "[1400]\tvalid_0's l2: 101212\n",
      "[1500]\tvalid_0's l2: 100623\n",
      "[1600]\tvalid_0's l2: 99876.1\n",
      "[1700]\tvalid_0's l2: 99454.9\n",
      "[1800]\tvalid_0's l2: 99061\n",
      "[1900]\tvalid_0's l2: 98840.1\n",
      "[2000]\tvalid_0's l2: 98589.7\n",
      "[2100]\tvalid_0's l2: 98277.8\n",
      "[2200]\tvalid_0's l2: 98117.8\n",
      "[2300]\tvalid_0's l2: 97999.6\n",
      "[2400]\tvalid_0's l2: 97804.7\n",
      "[2500]\tvalid_0's l2: 97690.2\n",
      "[2600]\tvalid_0's l2: 97483.3\n",
      "[2700]\tvalid_0's l2: 97355.7\n",
      "[2800]\tvalid_0's l2: 97309.4\n",
      "[2900]\tvalid_0's l2: 97212.6\n",
      "[3000]\tvalid_0's l2: 97071.4\n",
      "Did not meet early stopping. Best iteration is:\n",
      "[2998]\tvalid_0's l2: 97068.7\n",
      "| \u001b[0m 21      \u001b[0m | \u001b[0m-1.253   \u001b[0m | \u001b[0m 0.6579  \u001b[0m | \u001b[0m 0.8702  \u001b[0m | \u001b[0m 0.01    \u001b[0m | \u001b[0m 34.82   \u001b[0m | \u001b[0m 97.18   \u001b[0m |\n"
     ]
    },
    {
     "name": "stderr",
     "output_type": "stream",
     "text": [
      "C:\\Users\\82104\\anaconda3\\lib\\site-packages\\lightgbm\\engine.py:181: UserWarning: 'early_stopping_rounds' argument is deprecated and will be removed in a future release of LightGBM. Pass 'early_stopping()' callback via 'callbacks' argument instead.\n",
      "  _log_warning(\"'early_stopping_rounds' argument is deprecated and will be removed in a future release of LightGBM. \"\n",
      "C:\\Users\\82104\\anaconda3\\lib\\site-packages\\lightgbm\\engine.py:239: UserWarning: 'verbose_eval' argument is deprecated and will be removed in a future release of LightGBM. Pass 'log_evaluation()' callback via 'callbacks' argument instead.\n",
      "  _log_warning(\"'verbose_eval' argument is deprecated and will be removed in a future release of LightGBM. \"\n"
     ]
    },
    {
     "name": "stdout",
     "output_type": "stream",
     "text": [
      "[LightGBM] [Warning] Auto-choosing row-wise multi-threading, the overhead of testing was 0.171365 seconds.\n",
      "You can set `force_row_wise=true` to remove the overhead.\n",
      "And if memory is not enough, you can set `force_col_wise=true`.\n",
      "[LightGBM] [Info] Total Bins 1173\n",
      "[LightGBM] [Info] Number of data points in the train set: 2368278, number of used features: 104\n",
      "[LightGBM] [Info] Start training from score 326.506259\n",
      "Training until validation scores don't improve for 100 rounds\n",
      "[100]\tvalid_0's l2: 201886\n",
      "[200]\tvalid_0's l2: 142722\n",
      "[300]\tvalid_0's l2: 127939\n",
      "[400]\tvalid_0's l2: 119053\n",
      "[500]\tvalid_0's l2: 114250\n",
      "[600]\tvalid_0's l2: 111170\n",
      "[700]\tvalid_0's l2: 108812\n",
      "[800]\tvalid_0's l2: 107089\n",
      "[900]\tvalid_0's l2: 105466\n",
      "[1000]\tvalid_0's l2: 104292\n",
      "[1100]\tvalid_0's l2: 103246\n",
      "[1200]\tvalid_0's l2: 102103\n",
      "[1300]\tvalid_0's l2: 101528\n",
      "[1400]\tvalid_0's l2: 100831\n",
      "[1500]\tvalid_0's l2: 100319\n",
      "[1600]\tvalid_0's l2: 99946.2\n",
      "[1700]\tvalid_0's l2: 99716.8\n",
      "[1800]\tvalid_0's l2: 99494.7\n",
      "[1900]\tvalid_0's l2: 98998.8\n",
      "[2000]\tvalid_0's l2: 98782.8\n",
      "[2100]\tvalid_0's l2: 98745.4\n",
      "Early stopping, best iteration is:\n",
      "[2071]\tvalid_0's l2: 98647.4\n",
      "| \u001b[0m 22      \u001b[0m | \u001b[0m-1.429   \u001b[0m | \u001b[0m 0.7265  \u001b[0m | \u001b[0m 0.5209  \u001b[0m | \u001b[0m 0.04277 \u001b[0m | \u001b[0m 23.26   \u001b[0m | \u001b[0m 42.53   \u001b[0m |\n"
     ]
    },
    {
     "name": "stderr",
     "output_type": "stream",
     "text": [
      "C:\\Users\\82104\\anaconda3\\lib\\site-packages\\lightgbm\\engine.py:181: UserWarning: 'early_stopping_rounds' argument is deprecated and will be removed in a future release of LightGBM. Pass 'early_stopping()' callback via 'callbacks' argument instead.\n",
      "  _log_warning(\"'early_stopping_rounds' argument is deprecated and will be removed in a future release of LightGBM. \"\n",
      "C:\\Users\\82104\\anaconda3\\lib\\site-packages\\lightgbm\\engine.py:239: UserWarning: 'verbose_eval' argument is deprecated and will be removed in a future release of LightGBM. Pass 'log_evaluation()' callback via 'callbacks' argument instead.\n",
      "  _log_warning(\"'verbose_eval' argument is deprecated and will be removed in a future release of LightGBM. \"\n"
     ]
    },
    {
     "name": "stdout",
     "output_type": "stream",
     "text": [
      "[LightGBM] [Warning] Auto-choosing row-wise multi-threading, the overhead of testing was 0.188387 seconds.\n",
      "You can set `force_row_wise=true` to remove the overhead.\n",
      "And if memory is not enough, you can set `force_col_wise=true`.\n",
      "[LightGBM] [Info] Total Bins 1173\n",
      "[LightGBM] [Info] Number of data points in the train set: 2368278, number of used features: 104\n",
      "[LightGBM] [Info] Start training from score 326.506259\n",
      "Training until validation scores don't improve for 100 rounds\n",
      "[100]\tvalid_0's l2: 266297\n",
      "[200]\tvalid_0's l2: 157170\n",
      "[300]\tvalid_0's l2: 133883\n",
      "[400]\tvalid_0's l2: 124703\n",
      "[500]\tvalid_0's l2: 118309\n",
      "[600]\tvalid_0's l2: 113800\n",
      "[700]\tvalid_0's l2: 111188\n",
      "[800]\tvalid_0's l2: 109698\n",
      "[900]\tvalid_0's l2: 108001\n",
      "[1000]\tvalid_0's l2: 106441\n",
      "[1100]\tvalid_0's l2: 105055\n",
      "[1200]\tvalid_0's l2: 104110\n",
      "[1300]\tvalid_0's l2: 103899\n",
      "[1400]\tvalid_0's l2: 103220\n",
      "[1500]\tvalid_0's l2: 102610\n",
      "[1600]\tvalid_0's l2: 102363\n",
      "[1700]\tvalid_0's l2: 102271\n",
      "[1800]\tvalid_0's l2: 101905\n",
      "[1900]\tvalid_0's l2: 101770\n",
      "[2000]\tvalid_0's l2: 101542\n",
      "[2100]\tvalid_0's l2: 101383\n",
      "[2200]\tvalid_0's l2: 101117\n",
      "[2300]\tvalid_0's l2: 101086\n",
      "Early stopping, best iteration is:\n",
      "[2238]\tvalid_0's l2: 101021\n",
      "| \u001b[0m 23      \u001b[0m | \u001b[0m-1.366   \u001b[0m | \u001b[0m 0.805   \u001b[0m | \u001b[0m 0.5787  \u001b[0m | \u001b[0m 0.02574 \u001b[0m | \u001b[0m 27.32   \u001b[0m | \u001b[0m 63.04   \u001b[0m |\n"
     ]
    },
    {
     "name": "stderr",
     "output_type": "stream",
     "text": [
      "C:\\Users\\82104\\anaconda3\\lib\\site-packages\\lightgbm\\engine.py:181: UserWarning: 'early_stopping_rounds' argument is deprecated and will be removed in a future release of LightGBM. Pass 'early_stopping()' callback via 'callbacks' argument instead.\n",
      "  _log_warning(\"'early_stopping_rounds' argument is deprecated and will be removed in a future release of LightGBM. \"\n",
      "C:\\Users\\82104\\anaconda3\\lib\\site-packages\\lightgbm\\engine.py:239: UserWarning: 'verbose_eval' argument is deprecated and will be removed in a future release of LightGBM. Pass 'log_evaluation()' callback via 'callbacks' argument instead.\n",
      "  _log_warning(\"'verbose_eval' argument is deprecated and will be removed in a future release of LightGBM. \"\n"
     ]
    },
    {
     "name": "stdout",
     "output_type": "stream",
     "text": [
      "[LightGBM] [Warning] Auto-choosing row-wise multi-threading, the overhead of testing was 0.201596 seconds.\n",
      "You can set `force_row_wise=true` to remove the overhead.\n",
      "And if memory is not enough, you can set `force_col_wise=true`.\n",
      "[LightGBM] [Info] Total Bins 1173\n",
      "[LightGBM] [Info] Number of data points in the train set: 2368278, number of used features: 104\n",
      "[LightGBM] [Info] Start training from score 326.506259\n",
      "Training until validation scores don't improve for 100 rounds\n",
      "[100]\tvalid_0's l2: 121555\n",
      "[200]\tvalid_0's l2: 107812\n",
      "[300]\tvalid_0's l2: 104386\n",
      "[400]\tvalid_0's l2: 102798\n",
      "[500]\tvalid_0's l2: 102451\n",
      "[600]\tvalid_0's l2: 101629\n",
      "[700]\tvalid_0's l2: 101303\n",
      "[800]\tvalid_0's l2: 100706\n",
      "[900]\tvalid_0's l2: 100240\n",
      "[1000]\tvalid_0's l2: 100375\n",
      "Early stopping, best iteration is:\n",
      "[932]\tvalid_0's l2: 100100\n",
      "| \u001b[0m 24      \u001b[0m | \u001b[0m-1.302   \u001b[0m | \u001b[0m 0.7152  \u001b[0m | \u001b[0m 0.6687  \u001b[0m | \u001b[0m 0.06643 \u001b[0m | \u001b[0m 34.99   \u001b[0m | \u001b[0m 97.06   \u001b[0m |\n"
     ]
    },
    {
     "name": "stderr",
     "output_type": "stream",
     "text": [
      "C:\\Users\\82104\\anaconda3\\lib\\site-packages\\lightgbm\\engine.py:181: UserWarning: 'early_stopping_rounds' argument is deprecated and will be removed in a future release of LightGBM. Pass 'early_stopping()' callback via 'callbacks' argument instead.\n",
      "  _log_warning(\"'early_stopping_rounds' argument is deprecated and will be removed in a future release of LightGBM. \"\n",
      "C:\\Users\\82104\\anaconda3\\lib\\site-packages\\lightgbm\\engine.py:239: UserWarning: 'verbose_eval' argument is deprecated and will be removed in a future release of LightGBM. Pass 'log_evaluation()' callback via 'callbacks' argument instead.\n",
      "  _log_warning(\"'verbose_eval' argument is deprecated and will be removed in a future release of LightGBM. \"\n"
     ]
    },
    {
     "name": "stdout",
     "output_type": "stream",
     "text": [
      "[LightGBM] [Warning] Auto-choosing row-wise multi-threading, the overhead of testing was 0.178691 seconds.\n",
      "You can set `force_row_wise=true` to remove the overhead.\n",
      "And if memory is not enough, you can set `force_col_wise=true`.\n",
      "[LightGBM] [Info] Total Bins 1173\n",
      "[LightGBM] [Info] Number of data points in the train set: 2368278, number of used features: 104\n",
      "[LightGBM] [Info] Start training from score 326.506259\n",
      "Training until validation scores don't improve for 100 rounds\n",
      "[100]\tvalid_0's l2: 523601\n",
      "[200]\tvalid_0's l2: 240003\n",
      "[300]\tvalid_0's l2: 164042\n",
      "[400]\tvalid_0's l2: 136577\n",
      "[500]\tvalid_0's l2: 125199\n",
      "[600]\tvalid_0's l2: 119474\n",
      "[700]\tvalid_0's l2: 115584\n",
      "[800]\tvalid_0's l2: 112702\n",
      "[900]\tvalid_0's l2: 110504\n",
      "[1000]\tvalid_0's l2: 108897\n",
      "[1100]\tvalid_0's l2: 107309\n",
      "[1200]\tvalid_0's l2: 106349\n",
      "[1300]\tvalid_0's l2: 105422\n",
      "[1400]\tvalid_0's l2: 104551\n",
      "[1500]\tvalid_0's l2: 103943\n",
      "[1600]\tvalid_0's l2: 103460\n",
      "[1700]\tvalid_0's l2: 103011\n",
      "[1800]\tvalid_0's l2: 102597\n",
      "[1900]\tvalid_0's l2: 102229\n",
      "[2000]\tvalid_0's l2: 101967\n",
      "[2100]\tvalid_0's l2: 101648\n",
      "[2200]\tvalid_0's l2: 101346\n",
      "[2300]\tvalid_0's l2: 101073\n",
      "[2400]\tvalid_0's l2: 100815\n",
      "[2500]\tvalid_0's l2: 100562\n",
      "[2600]\tvalid_0's l2: 100550\n",
      "[2700]\tvalid_0's l2: 100465\n",
      "[2800]\tvalid_0's l2: 100306\n",
      "[2900]\tvalid_0's l2: 100170\n",
      "[3000]\tvalid_0's l2: 99964.9\n",
      "Did not meet early stopping. Best iteration is:\n",
      "[3000]\tvalid_0's l2: 99964.9\n",
      "| \u001b[0m 25      \u001b[0m | \u001b[0m-1.293   \u001b[0m | \u001b[0m 0.5903  \u001b[0m | \u001b[0m 0.7276  \u001b[0m | \u001b[0m 0.01043 \u001b[0m | \u001b[0m 26.55   \u001b[0m | \u001b[0m 94.86   \u001b[0m |\n"
     ]
    },
    {
     "name": "stderr",
     "output_type": "stream",
     "text": [
      "C:\\Users\\82104\\anaconda3\\lib\\site-packages\\lightgbm\\engine.py:181: UserWarning: 'early_stopping_rounds' argument is deprecated and will be removed in a future release of LightGBM. Pass 'early_stopping()' callback via 'callbacks' argument instead.\n",
      "  _log_warning(\"'early_stopping_rounds' argument is deprecated and will be removed in a future release of LightGBM. \"\n",
      "C:\\Users\\82104\\anaconda3\\lib\\site-packages\\lightgbm\\engine.py:239: UserWarning: 'verbose_eval' argument is deprecated and will be removed in a future release of LightGBM. Pass 'log_evaluation()' callback via 'callbacks' argument instead.\n",
      "  _log_warning(\"'verbose_eval' argument is deprecated and will be removed in a future release of LightGBM. \"\n"
     ]
    },
    {
     "name": "stdout",
     "output_type": "stream",
     "text": [
      "[LightGBM] [Warning] Auto-choosing row-wise multi-threading, the overhead of testing was 0.205193 seconds.\n",
      "You can set `force_row_wise=true` to remove the overhead.\n",
      "And if memory is not enough, you can set `force_col_wise=true`.\n",
      "[LightGBM] [Info] Total Bins 1173\n",
      "[LightGBM] [Info] Number of data points in the train set: 2368278, number of used features: 104\n",
      "[LightGBM] [Info] Start training from score 326.506259\n",
      "Training until validation scores don't improve for 100 rounds\n",
      "[100]\tvalid_0's l2: 114723\n",
      "[200]\tvalid_0's l2: 105309\n",
      "[300]\tvalid_0's l2: 103023\n",
      "[400]\tvalid_0's l2: 102608\n",
      "[500]\tvalid_0's l2: 101950\n",
      "[600]\tvalid_0's l2: 101637\n",
      "Early stopping, best iteration is:\n",
      "[540]\tvalid_0's l2: 101451\n",
      "| \u001b[0m 26      \u001b[0m | \u001b[0m-1.331   \u001b[0m | \u001b[0m 0.7915  \u001b[0m | \u001b[0m 0.7119  \u001b[0m | \u001b[0m 0.08713 \u001b[0m | \u001b[0m 34.8    \u001b[0m | \u001b[0m 97.09   \u001b[0m |\n"
     ]
    },
    {
     "name": "stderr",
     "output_type": "stream",
     "text": [
      "C:\\Users\\82104\\anaconda3\\lib\\site-packages\\lightgbm\\engine.py:181: UserWarning: 'early_stopping_rounds' argument is deprecated and will be removed in a future release of LightGBM. Pass 'early_stopping()' callback via 'callbacks' argument instead.\n",
      "  _log_warning(\"'early_stopping_rounds' argument is deprecated and will be removed in a future release of LightGBM. \"\n",
      "C:\\Users\\82104\\anaconda3\\lib\\site-packages\\lightgbm\\engine.py:239: UserWarning: 'verbose_eval' argument is deprecated and will be removed in a future release of LightGBM. Pass 'log_evaluation()' callback via 'callbacks' argument instead.\n",
      "  _log_warning(\"'verbose_eval' argument is deprecated and will be removed in a future release of LightGBM. \"\n"
     ]
    },
    {
     "name": "stdout",
     "output_type": "stream",
     "text": [
      "[LightGBM] [Warning] Auto-choosing row-wise multi-threading, the overhead of testing was 0.207537 seconds.\n",
      "You can set `force_row_wise=true` to remove the overhead.\n",
      "And if memory is not enough, you can set `force_col_wise=true`.\n",
      "[LightGBM] [Info] Total Bins 1173\n",
      "[LightGBM] [Info] Number of data points in the train set: 2368278, number of used features: 104\n",
      "[LightGBM] [Info] Start training from score 326.506259\n",
      "Training until validation scores don't improve for 100 rounds\n",
      "[100]\tvalid_0's l2: 431981\n",
      "[200]\tvalid_0's l2: 195579\n",
      "[300]\tvalid_0's l2: 141950\n",
      "[400]\tvalid_0's l2: 123772\n",
      "[500]\tvalid_0's l2: 116098\n",
      "[600]\tvalid_0's l2: 111633\n",
      "[700]\tvalid_0's l2: 109240\n",
      "[800]\tvalid_0's l2: 106739\n",
      "[900]\tvalid_0's l2: 104681\n",
      "[1000]\tvalid_0's l2: 103475\n",
      "[1100]\tvalid_0's l2: 102578\n",
      "[1200]\tvalid_0's l2: 101785\n",
      "[1300]\tvalid_0's l2: 100956\n",
      "[1400]\tvalid_0's l2: 100569\n",
      "[1500]\tvalid_0's l2: 100002\n",
      "[1600]\tvalid_0's l2: 99420.1\n",
      "[1700]\tvalid_0's l2: 99074.2\n",
      "[1800]\tvalid_0's l2: 98855.6\n",
      "[1900]\tvalid_0's l2: 98571.8\n",
      "[2000]\tvalid_0's l2: 98332.6\n",
      "[2100]\tvalid_0's l2: 98038.2\n",
      "[2200]\tvalid_0's l2: 97790.3\n",
      "[2300]\tvalid_0's l2: 97650.6\n",
      "[2400]\tvalid_0's l2: 97671.7\n",
      "[2500]\tvalid_0's l2: 97553\n",
      "[2600]\tvalid_0's l2: 97321.1\n",
      "[2700]\tvalid_0's l2: 97253\n",
      "[2800]\tvalid_0's l2: 97096.4\n",
      "[2900]\tvalid_0's l2: 96960.5\n",
      "[3000]\tvalid_0's l2: 96847.4\n",
      "Did not meet early stopping. Best iteration is:\n",
      "[2986]\tvalid_0's l2: 96826.7\n",
      "| \u001b[0m 27      \u001b[0m | \u001b[0m-1.248   \u001b[0m | \u001b[0m 0.5938  \u001b[0m | \u001b[0m 0.8543  \u001b[0m | \u001b[0m 0.01115 \u001b[0m | \u001b[0m 34.91   \u001b[0m | \u001b[0m 97.38   \u001b[0m |\n"
     ]
    },
    {
     "name": "stderr",
     "output_type": "stream",
     "text": [
      "C:\\Users\\82104\\anaconda3\\lib\\site-packages\\lightgbm\\engine.py:181: UserWarning: 'early_stopping_rounds' argument is deprecated and will be removed in a future release of LightGBM. Pass 'early_stopping()' callback via 'callbacks' argument instead.\n",
      "  _log_warning(\"'early_stopping_rounds' argument is deprecated and will be removed in a future release of LightGBM. \"\n",
      "C:\\Users\\82104\\anaconda3\\lib\\site-packages\\lightgbm\\engine.py:239: UserWarning: 'verbose_eval' argument is deprecated and will be removed in a future release of LightGBM. Pass 'log_evaluation()' callback via 'callbacks' argument instead.\n",
      "  _log_warning(\"'verbose_eval' argument is deprecated and will be removed in a future release of LightGBM. \"\n"
     ]
    },
    {
     "name": "stdout",
     "output_type": "stream",
     "text": [
      "[LightGBM] [Warning] Auto-choosing row-wise multi-threading, the overhead of testing was 0.205305 seconds.\n",
      "You can set `force_row_wise=true` to remove the overhead.\n",
      "And if memory is not enough, you can set `force_col_wise=true`.\n",
      "[LightGBM] [Info] Total Bins 1173\n",
      "[LightGBM] [Info] Number of data points in the train set: 2368278, number of used features: 104\n",
      "[LightGBM] [Info] Start training from score 326.506259\n",
      "Training until validation scores don't improve for 100 rounds\n",
      "[100]\tvalid_0's l2: 165120\n",
      "[200]\tvalid_0's l2: 121701\n",
      "[300]\tvalid_0's l2: 112301\n",
      "[400]\tvalid_0's l2: 107949\n",
      "[500]\tvalid_0's l2: 105551\n",
      "[600]\tvalid_0's l2: 104545\n",
      "[700]\tvalid_0's l2: 103405\n",
      "[800]\tvalid_0's l2: 102204\n",
      "[900]\tvalid_0's l2: 101439\n",
      "[1000]\tvalid_0's l2: 100834\n",
      "[1100]\tvalid_0's l2: 100227\n",
      "[1200]\tvalid_0's l2: 99928.9\n",
      "[1300]\tvalid_0's l2: 99808\n",
      "[1400]\tvalid_0's l2: 99391\n",
      "[1500]\tvalid_0's l2: 99022.4\n",
      "[1600]\tvalid_0's l2: 99030.1\n",
      "Early stopping, best iteration is:\n",
      "[1556]\tvalid_0's l2: 98918.1\n",
      "| \u001b[0m 28      \u001b[0m | \u001b[0m-1.273   \u001b[0m | \u001b[0m 0.8467  \u001b[0m | \u001b[0m 0.7699  \u001b[0m | \u001b[0m 0.02943 \u001b[0m | \u001b[0m 34.92   \u001b[0m | \u001b[0m 97.06   \u001b[0m |\n"
     ]
    },
    {
     "name": "stderr",
     "output_type": "stream",
     "text": [
      "C:\\Users\\82104\\anaconda3\\lib\\site-packages\\lightgbm\\engine.py:181: UserWarning: 'early_stopping_rounds' argument is deprecated and will be removed in a future release of LightGBM. Pass 'early_stopping()' callback via 'callbacks' argument instead.\n",
      "  _log_warning(\"'early_stopping_rounds' argument is deprecated and will be removed in a future release of LightGBM. \"\n",
      "C:\\Users\\82104\\anaconda3\\lib\\site-packages\\lightgbm\\engine.py:239: UserWarning: 'verbose_eval' argument is deprecated and will be removed in a future release of LightGBM. Pass 'log_evaluation()' callback via 'callbacks' argument instead.\n",
      "  _log_warning(\"'verbose_eval' argument is deprecated and will be removed in a future release of LightGBM. \"\n"
     ]
    },
    {
     "name": "stdout",
     "output_type": "stream",
     "text": [
      "[LightGBM] [Warning] Auto-choosing row-wise multi-threading, the overhead of testing was 0.188437 seconds.\n",
      "You can set `force_row_wise=true` to remove the overhead.\n",
      "And if memory is not enough, you can set `force_col_wise=true`.\n",
      "[LightGBM] [Info] Total Bins 1173\n",
      "[LightGBM] [Info] Number of data points in the train set: 2368278, number of used features: 104\n",
      "[LightGBM] [Info] Start training from score 326.506259\n",
      "Training until validation scores don't improve for 100 rounds\n",
      "[100]\tvalid_0's l2: 150742\n",
      "[200]\tvalid_0's l2: 121322\n",
      "[300]\tvalid_0's l2: 111569\n",
      "[400]\tvalid_0's l2: 107478\n",
      "[500]\tvalid_0's l2: 104718\n",
      "[600]\tvalid_0's l2: 102841\n",
      "[700]\tvalid_0's l2: 100838\n",
      "[800]\tvalid_0's l2: 99519.6\n",
      "[900]\tvalid_0's l2: 98791.7\n",
      "[1000]\tvalid_0's l2: 97885.3\n",
      "[1100]\tvalid_0's l2: 97134.7\n",
      "[1200]\tvalid_0's l2: 96323.9\n",
      "[1300]\tvalid_0's l2: 95869\n",
      "[1400]\tvalid_0's l2: 95429.4\n",
      "[1500]\tvalid_0's l2: 95251.3\n",
      "Early stopping, best iteration is:\n",
      "[1481]\tvalid_0's l2: 95112.8\n",
      "| \u001b[0m 29      \u001b[0m | \u001b[0m-1.318   \u001b[0m | \u001b[0m 0.7602  \u001b[0m | \u001b[0m 0.8407  \u001b[0m | \u001b[0m 0.04387 \u001b[0m | \u001b[0m 39.24   \u001b[0m | \u001b[0m 46.25   \u001b[0m |\n"
     ]
    },
    {
     "name": "stderr",
     "output_type": "stream",
     "text": [
      "C:\\Users\\82104\\anaconda3\\lib\\site-packages\\lightgbm\\engine.py:181: UserWarning: 'early_stopping_rounds' argument is deprecated and will be removed in a future release of LightGBM. Pass 'early_stopping()' callback via 'callbacks' argument instead.\n",
      "  _log_warning(\"'early_stopping_rounds' argument is deprecated and will be removed in a future release of LightGBM. \"\n",
      "C:\\Users\\82104\\anaconda3\\lib\\site-packages\\lightgbm\\engine.py:239: UserWarning: 'verbose_eval' argument is deprecated and will be removed in a future release of LightGBM. Pass 'log_evaluation()' callback via 'callbacks' argument instead.\n",
      "  _log_warning(\"'verbose_eval' argument is deprecated and will be removed in a future release of LightGBM. \"\n"
     ]
    },
    {
     "name": "stdout",
     "output_type": "stream",
     "text": [
      "[LightGBM] [Warning] Auto-choosing row-wise multi-threading, the overhead of testing was 0.200196 seconds.\n",
      "You can set `force_row_wise=true` to remove the overhead.\n",
      "And if memory is not enough, you can set `force_col_wise=true`.\n",
      "[LightGBM] [Info] Total Bins 1173\n",
      "[LightGBM] [Info] Number of data points in the train set: 2368278, number of used features: 104\n",
      "[LightGBM] [Info] Start training from score 326.506259\n",
      "Training until validation scores don't improve for 100 rounds\n",
      "[100]\tvalid_0's l2: 125603\n",
      "[200]\tvalid_0's l2: 109023\n",
      "[300]\tvalid_0's l2: 104696\n",
      "[400]\tvalid_0's l2: 102500\n",
      "[500]\tvalid_0's l2: 101064\n",
      "[600]\tvalid_0's l2: 99729\n",
      "[700]\tvalid_0's l2: 99181.6\n",
      "[800]\tvalid_0's l2: 98624.9\n",
      "[900]\tvalid_0's l2: 98398\n",
      "[1000]\tvalid_0's l2: 97893.7\n",
      "[1100]\tvalid_0's l2: 97885.8\n",
      "[1200]\tvalid_0's l2: 97504\n",
      "Early stopping, best iteration is:\n",
      "[1195]\tvalid_0's l2: 97473.1\n",
      "| \u001b[95m 30      \u001b[0m | \u001b[95m-1.237   \u001b[0m | \u001b[95m 0.8543  \u001b[0m | \u001b[95m 0.8576  \u001b[0m | \u001b[95m 0.04408 \u001b[0m | \u001b[95m 34.75   \u001b[0m | \u001b[95m 97.15   \u001b[0m |\n"
     ]
    },
    {
     "name": "stderr",
     "output_type": "stream",
     "text": [
      "C:\\Users\\82104\\anaconda3\\lib\\site-packages\\lightgbm\\engine.py:181: UserWarning: 'early_stopping_rounds' argument is deprecated and will be removed in a future release of LightGBM. Pass 'early_stopping()' callback via 'callbacks' argument instead.\n",
      "  _log_warning(\"'early_stopping_rounds' argument is deprecated and will be removed in a future release of LightGBM. \"\n",
      "C:\\Users\\82104\\anaconda3\\lib\\site-packages\\lightgbm\\engine.py:239: UserWarning: 'verbose_eval' argument is deprecated and will be removed in a future release of LightGBM. Pass 'log_evaluation()' callback via 'callbacks' argument instead.\n",
      "  _log_warning(\"'verbose_eval' argument is deprecated and will be removed in a future release of LightGBM. \"\n"
     ]
    },
    {
     "name": "stdout",
     "output_type": "stream",
     "text": [
      "[LightGBM] [Warning] Auto-choosing row-wise multi-threading, the overhead of testing was 0.179863 seconds.\n",
      "You can set `force_row_wise=true` to remove the overhead.\n",
      "And if memory is not enough, you can set `force_col_wise=true`.\n",
      "[LightGBM] [Info] Total Bins 1173\n",
      "[LightGBM] [Info] Number of data points in the train set: 2368278, number of used features: 104\n",
      "[LightGBM] [Info] Start training from score 326.506259\n",
      "Training until validation scores don't improve for 100 rounds\n",
      "[100]\tvalid_0's l2: 156650\n",
      "[200]\tvalid_0's l2: 113368\n",
      "[300]\tvalid_0's l2: 105085\n",
      "[400]\tvalid_0's l2: 101773\n",
      "[500]\tvalid_0's l2: 99910.4\n",
      "[600]\tvalid_0's l2: 98480.9\n",
      "[700]\tvalid_0's l2: 97959.8\n",
      "[800]\tvalid_0's l2: 97368.1\n",
      "[900]\tvalid_0's l2: 96991.5\n",
      "[1000]\tvalid_0's l2: 96832.8\n",
      "[1100]\tvalid_0's l2: 96633.7\n",
      "[1200]\tvalid_0's l2: 96558.2\n",
      "[1300]\tvalid_0's l2: 96341.5\n",
      "[1400]\tvalid_0's l2: 96302.2\n",
      "[1500]\tvalid_0's l2: 96026.2\n",
      "[1600]\tvalid_0's l2: 95917.2\n",
      "[1700]\tvalid_0's l2: 95803.6\n",
      "[1800]\tvalid_0's l2: 95761.3\n",
      "[1900]\tvalid_0's l2: 95563.9\n",
      "[2000]\tvalid_0's l2: 95573.1\n",
      "Early stopping, best iteration is:\n",
      "[1910]\tvalid_0's l2: 95527.8\n",
      "| \u001b[95m 31      \u001b[0m | \u001b[95m-1.222   \u001b[0m | \u001b[95m 0.6154  \u001b[0m | \u001b[95m 0.8886  \u001b[0m | \u001b[95m 0.02777 \u001b[0m | \u001b[95m 39.18   \u001b[0m | \u001b[95m 98.38   \u001b[0m |\n"
     ]
    },
    {
     "name": "stderr",
     "output_type": "stream",
     "text": [
      "C:\\Users\\82104\\anaconda3\\lib\\site-packages\\lightgbm\\engine.py:181: UserWarning: 'early_stopping_rounds' argument is deprecated and will be removed in a future release of LightGBM. Pass 'early_stopping()' callback via 'callbacks' argument instead.\n",
      "  _log_warning(\"'early_stopping_rounds' argument is deprecated and will be removed in a future release of LightGBM. \"\n",
      "C:\\Users\\82104\\anaconda3\\lib\\site-packages\\lightgbm\\engine.py:239: UserWarning: 'verbose_eval' argument is deprecated and will be removed in a future release of LightGBM. Pass 'log_evaluation()' callback via 'callbacks' argument instead.\n",
      "  _log_warning(\"'verbose_eval' argument is deprecated and will be removed in a future release of LightGBM. \"\n"
     ]
    },
    {
     "name": "stdout",
     "output_type": "stream",
     "text": [
      "[LightGBM] [Warning] Auto-choosing row-wise multi-threading, the overhead of testing was 0.211371 seconds.\n",
      "You can set `force_row_wise=true` to remove the overhead.\n",
      "And if memory is not enough, you can set `force_col_wise=true`.\n",
      "[LightGBM] [Info] Total Bins 1173\n",
      "[LightGBM] [Info] Number of data points in the train set: 2368278, number of used features: 104\n",
      "[LightGBM] [Info] Start training from score 326.506259\n",
      "Training until validation scores don't improve for 100 rounds\n",
      "[100]\tvalid_0's l2: 347749\n",
      "[200]\tvalid_0's l2: 175850\n",
      "[300]\tvalid_0's l2: 139718\n",
      "[400]\tvalid_0's l2: 128045\n",
      "[500]\tvalid_0's l2: 121096\n",
      "[600]\tvalid_0's l2: 116391\n",
      "[700]\tvalid_0's l2: 113261\n",
      "[800]\tvalid_0's l2: 111211\n",
      "[900]\tvalid_0's l2: 109823\n",
      "[1000]\tvalid_0's l2: 108462\n",
      "[1100]\tvalid_0's l2: 107175\n",
      "[1200]\tvalid_0's l2: 106196\n",
      "[1300]\tvalid_0's l2: 105244\n",
      "[1400]\tvalid_0's l2: 104627\n",
      "[1500]\tvalid_0's l2: 103891\n",
      "[1600]\tvalid_0's l2: 103240\n",
      "[1700]\tvalid_0's l2: 102927\n",
      "[1800]\tvalid_0's l2: 102490\n",
      "[1900]\tvalid_0's l2: 102056\n",
      "[2000]\tvalid_0's l2: 101723\n",
      "[2100]\tvalid_0's l2: 101566\n",
      "[2200]\tvalid_0's l2: 101111\n",
      "[2300]\tvalid_0's l2: 100902\n",
      "[2400]\tvalid_0's l2: 100574\n",
      "[2500]\tvalid_0's l2: 100502\n",
      "[2600]\tvalid_0's l2: 100297\n",
      "[2700]\tvalid_0's l2: 99990.8\n",
      "[2800]\tvalid_0's l2: 99928.7\n",
      "[2900]\tvalid_0's l2: 99729.4\n",
      "[3000]\tvalid_0's l2: 99567.7\n",
      "Did not meet early stopping. Best iteration is:\n",
      "[2993]\tvalid_0's l2: 99564\n",
      "| \u001b[0m 32      \u001b[0m | \u001b[0m-1.364   \u001b[0m | \u001b[0m 0.519   \u001b[0m | \u001b[0m 0.6578  \u001b[0m | \u001b[0m 0.01793 \u001b[0m | \u001b[0m 27.31   \u001b[0m | \u001b[0m 62.86   \u001b[0m |\n"
     ]
    },
    {
     "name": "stderr",
     "output_type": "stream",
     "text": [
      "C:\\Users\\82104\\anaconda3\\lib\\site-packages\\lightgbm\\engine.py:181: UserWarning: 'early_stopping_rounds' argument is deprecated and will be removed in a future release of LightGBM. Pass 'early_stopping()' callback via 'callbacks' argument instead.\n",
      "  _log_warning(\"'early_stopping_rounds' argument is deprecated and will be removed in a future release of LightGBM. \"\n",
      "C:\\Users\\82104\\anaconda3\\lib\\site-packages\\lightgbm\\engine.py:239: UserWarning: 'verbose_eval' argument is deprecated and will be removed in a future release of LightGBM. Pass 'log_evaluation()' callback via 'callbacks' argument instead.\n",
      "  _log_warning(\"'verbose_eval' argument is deprecated and will be removed in a future release of LightGBM. \"\n"
     ]
    },
    {
     "name": "stdout",
     "output_type": "stream",
     "text": [
      "[LightGBM] [Warning] Auto-choosing row-wise multi-threading, the overhead of testing was 0.210488 seconds.\n",
      "You can set `force_row_wise=true` to remove the overhead.\n",
      "And if memory is not enough, you can set `force_col_wise=true`.\n",
      "[LightGBM] [Info] Total Bins 1173\n",
      "[LightGBM] [Info] Number of data points in the train set: 2368278, number of used features: 104\n",
      "[LightGBM] [Info] Start training from score 326.506259\n",
      "Training until validation scores don't improve for 100 rounds\n",
      "[100]\tvalid_0's l2: 193801\n",
      "[200]\tvalid_0's l2: 127788\n",
      "[300]\tvalid_0's l2: 115468\n",
      "[400]\tvalid_0's l2: 109767\n",
      "[500]\tvalid_0's l2: 106192\n",
      "[600]\tvalid_0's l2: 104912\n",
      "[700]\tvalid_0's l2: 103541\n",
      "[800]\tvalid_0's l2: 102627\n",
      "[900]\tvalid_0's l2: 101739\n",
      "[1000]\tvalid_0's l2: 101012\n",
      "[1100]\tvalid_0's l2: 100580\n",
      "[1200]\tvalid_0's l2: 100176\n",
      "[1300]\tvalid_0's l2: 99918.5\n",
      "[1400]\tvalid_0's l2: 99718\n",
      "[1500]\tvalid_0's l2: 99316.7\n",
      "[1600]\tvalid_0's l2: 99359.2\n",
      "[1700]\tvalid_0's l2: 99174.4\n",
      "[1800]\tvalid_0's l2: 98935.9\n",
      "[1900]\tvalid_0's l2: 99101.9\n",
      "Early stopping, best iteration is:\n",
      "[1800]\tvalid_0's l2: 98935.9\n",
      "| \u001b[0m 33      \u001b[0m | \u001b[0m-1.26    \u001b[0m | \u001b[0m 0.617   \u001b[0m | \u001b[0m 0.7617  \u001b[0m | \u001b[0m 0.02498 \u001b[0m | \u001b[0m 39.34   \u001b[0m | \u001b[0m 98.32   \u001b[0m |\n"
     ]
    },
    {
     "name": "stderr",
     "output_type": "stream",
     "text": [
      "C:\\Users\\82104\\anaconda3\\lib\\site-packages\\lightgbm\\engine.py:181: UserWarning: 'early_stopping_rounds' argument is deprecated and will be removed in a future release of LightGBM. Pass 'early_stopping()' callback via 'callbacks' argument instead.\n",
      "  _log_warning(\"'early_stopping_rounds' argument is deprecated and will be removed in a future release of LightGBM. \"\n",
      "C:\\Users\\82104\\anaconda3\\lib\\site-packages\\lightgbm\\engine.py:239: UserWarning: 'verbose_eval' argument is deprecated and will be removed in a future release of LightGBM. Pass 'log_evaluation()' callback via 'callbacks' argument instead.\n",
      "  _log_warning(\"'verbose_eval' argument is deprecated and will be removed in a future release of LightGBM. \"\n"
     ]
    },
    {
     "name": "stdout",
     "output_type": "stream",
     "text": [
      "[LightGBM] [Warning] Auto-choosing row-wise multi-threading, the overhead of testing was 0.200010 seconds.\n",
      "You can set `force_row_wise=true` to remove the overhead.\n",
      "And if memory is not enough, you can set `force_col_wise=true`.\n",
      "[LightGBM] [Info] Total Bins 1173\n",
      "[LightGBM] [Info] Number of data points in the train set: 2368278, number of used features: 104\n",
      "[LightGBM] [Info] Start training from score 326.506259\n",
      "Training until validation scores don't improve for 100 rounds\n",
      "[100]\tvalid_0's l2: 166295\n",
      "[200]\tvalid_0's l2: 127831\n",
      "[300]\tvalid_0's l2: 117015\n",
      "[400]\tvalid_0's l2: 110535\n",
      "[500]\tvalid_0's l2: 107396\n",
      "[600]\tvalid_0's l2: 105956\n",
      "[700]\tvalid_0's l2: 104826\n",
      "[800]\tvalid_0's l2: 103388\n",
      "[900]\tvalid_0's l2: 102514\n",
      "[1000]\tvalid_0's l2: 101687\n",
      "[1100]\tvalid_0's l2: 101062\n",
      "[1200]\tvalid_0's l2: 100761\n",
      "[1300]\tvalid_0's l2: 100631\n",
      "[1400]\tvalid_0's l2: 100403\n",
      "[1500]\tvalid_0's l2: 100220\n",
      "[1600]\tvalid_0's l2: 99994.8\n",
      "[1700]\tvalid_0's l2: 99727.5\n",
      "[1800]\tvalid_0's l2: 99795\n",
      "Early stopping, best iteration is:\n",
      "[1763]\tvalid_0's l2: 99656.5\n",
      "| \u001b[0m 34      \u001b[0m | \u001b[0m-1.332   \u001b[0m | \u001b[0m 0.7162  \u001b[0m | \u001b[0m 0.5467  \u001b[0m | \u001b[0m 0.04607 \u001b[0m | \u001b[0m 33.31   \u001b[0m | \u001b[0m 72.56   \u001b[0m |\n"
     ]
    },
    {
     "name": "stderr",
     "output_type": "stream",
     "text": [
      "C:\\Users\\82104\\anaconda3\\lib\\site-packages\\lightgbm\\engine.py:181: UserWarning: 'early_stopping_rounds' argument is deprecated and will be removed in a future release of LightGBM. Pass 'early_stopping()' callback via 'callbacks' argument instead.\n",
      "  _log_warning(\"'early_stopping_rounds' argument is deprecated and will be removed in a future release of LightGBM. \"\n",
      "C:\\Users\\82104\\anaconda3\\lib\\site-packages\\lightgbm\\engine.py:239: UserWarning: 'verbose_eval' argument is deprecated and will be removed in a future release of LightGBM. Pass 'log_evaluation()' callback via 'callbacks' argument instead.\n",
      "  _log_warning(\"'verbose_eval' argument is deprecated and will be removed in a future release of LightGBM. \"\n"
     ]
    },
    {
     "name": "stdout",
     "output_type": "stream",
     "text": [
      "[LightGBM] [Warning] Auto-choosing row-wise multi-threading, the overhead of testing was 0.194575 seconds.\n",
      "You can set `force_row_wise=true` to remove the overhead.\n",
      "And if memory is not enough, you can set `force_col_wise=true`.\n",
      "[LightGBM] [Info] Total Bins 1173\n",
      "[LightGBM] [Info] Number of data points in the train set: 2368278, number of used features: 104\n",
      "[LightGBM] [Info] Start training from score 326.506259\n",
      "Training until validation scores don't improve for 100 rounds\n",
      "[100]\tvalid_0's l2: 113845\n",
      "[200]\tvalid_0's l2: 105028\n",
      "[300]\tvalid_0's l2: 101899\n",
      "[400]\tvalid_0's l2: 100235\n",
      "[500]\tvalid_0's l2: 99420.3\n",
      "Early stopping, best iteration is:\n",
      "[479]\tvalid_0's l2: 99321.1\n",
      "| \u001b[0m 35      \u001b[0m | \u001b[0m-1.325   \u001b[0m | \u001b[0m 0.6473  \u001b[0m | \u001b[0m 0.7496  \u001b[0m | \u001b[0m 0.08613 \u001b[0m | \u001b[0m 34.76   \u001b[0m | \u001b[0m 97.35   \u001b[0m |\n"
     ]
    },
    {
     "name": "stderr",
     "output_type": "stream",
     "text": [
      "C:\\Users\\82104\\anaconda3\\lib\\site-packages\\lightgbm\\engine.py:181: UserWarning: 'early_stopping_rounds' argument is deprecated and will be removed in a future release of LightGBM. Pass 'early_stopping()' callback via 'callbacks' argument instead.\n",
      "  _log_warning(\"'early_stopping_rounds' argument is deprecated and will be removed in a future release of LightGBM. \"\n",
      "C:\\Users\\82104\\anaconda3\\lib\\site-packages\\lightgbm\\engine.py:239: UserWarning: 'verbose_eval' argument is deprecated and will be removed in a future release of LightGBM. Pass 'log_evaluation()' callback via 'callbacks' argument instead.\n",
      "  _log_warning(\"'verbose_eval' argument is deprecated and will be removed in a future release of LightGBM. \"\n"
     ]
    },
    {
     "name": "stdout",
     "output_type": "stream",
     "text": [
      "[LightGBM] [Warning] Auto-choosing row-wise multi-threading, the overhead of testing was 0.164322 seconds.\n",
      "You can set `force_row_wise=true` to remove the overhead.\n",
      "And if memory is not enough, you can set `force_col_wise=true`.\n",
      "[LightGBM] [Info] Total Bins 1173\n",
      "[LightGBM] [Info] Number of data points in the train set: 2368278, number of used features: 104\n",
      "[LightGBM] [Info] Start training from score 326.506259\n",
      "Training until validation scores don't improve for 100 rounds\n",
      "[100]\tvalid_0's l2: 142083\n",
      "[200]\tvalid_0's l2: 120405\n",
      "[300]\tvalid_0's l2: 113336\n",
      "[400]\tvalid_0's l2: 110546\n",
      "[500]\tvalid_0's l2: 108769\n",
      "[600]\tvalid_0's l2: 106575\n",
      "[700]\tvalid_0's l2: 105442\n",
      "[800]\tvalid_0's l2: 104384\n",
      "[900]\tvalid_0's l2: 103806\n",
      "Early stopping, best iteration is:\n",
      "[866]\tvalid_0's l2: 103651\n",
      "| \u001b[0m 36      \u001b[0m | \u001b[0m-1.43    \u001b[0m | \u001b[0m 0.7379  \u001b[0m | \u001b[0m 0.5526  \u001b[0m | \u001b[0m 0.08425 \u001b[0m | \u001b[0m 25.0    \u001b[0m | \u001b[0m 46.22   \u001b[0m |\n"
     ]
    },
    {
     "name": "stderr",
     "output_type": "stream",
     "text": [
      "C:\\Users\\82104\\anaconda3\\lib\\site-packages\\lightgbm\\engine.py:181: UserWarning: 'early_stopping_rounds' argument is deprecated and will be removed in a future release of LightGBM. Pass 'early_stopping()' callback via 'callbacks' argument instead.\n",
      "  _log_warning(\"'early_stopping_rounds' argument is deprecated and will be removed in a future release of LightGBM. \"\n",
      "C:\\Users\\82104\\anaconda3\\lib\\site-packages\\lightgbm\\engine.py:239: UserWarning: 'verbose_eval' argument is deprecated and will be removed in a future release of LightGBM. Pass 'log_evaluation()' callback via 'callbacks' argument instead.\n",
      "  _log_warning(\"'verbose_eval' argument is deprecated and will be removed in a future release of LightGBM. \"\n"
     ]
    },
    {
     "name": "stdout",
     "output_type": "stream",
     "text": [
      "[LightGBM] [Warning] Auto-choosing row-wise multi-threading, the overhead of testing was 0.213379 seconds.\n",
      "You can set `force_row_wise=true` to remove the overhead.\n",
      "And if memory is not enough, you can set `force_col_wise=true`.\n",
      "[LightGBM] [Info] Total Bins 1173\n",
      "[LightGBM] [Info] Number of data points in the train set: 2368278, number of used features: 104\n",
      "[LightGBM] [Info] Start training from score 326.506259\n",
      "Training until validation scores don't improve for 100 rounds\n",
      "[100]\tvalid_0's l2: 302560\n",
      "[200]\tvalid_0's l2: 167706\n",
      "[300]\tvalid_0's l2: 138696\n",
      "[400]\tvalid_0's l2: 127044\n",
      "[500]\tvalid_0's l2: 120477\n",
      "[600]\tvalid_0's l2: 114912\n",
      "[700]\tvalid_0's l2: 111353\n",
      "[800]\tvalid_0's l2: 109126\n",
      "[900]\tvalid_0's l2: 107390\n",
      "[1000]\tvalid_0's l2: 105909\n",
      "[1100]\tvalid_0's l2: 104891\n",
      "[1200]\tvalid_0's l2: 104047\n",
      "[1300]\tvalid_0's l2: 103201\n",
      "[1400]\tvalid_0's l2: 102591\n",
      "[1500]\tvalid_0's l2: 102074\n",
      "[1600]\tvalid_0's l2: 101459\n",
      "[1700]\tvalid_0's l2: 100781\n",
      "[1800]\tvalid_0's l2: 100273\n",
      "[1900]\tvalid_0's l2: 99602.9\n",
      "[2000]\tvalid_0's l2: 98979.9\n",
      "[2100]\tvalid_0's l2: 98683.9\n",
      "[2200]\tvalid_0's l2: 98271.2\n",
      "[2300]\tvalid_0's l2: 97764\n",
      "[2400]\tvalid_0's l2: 97482.2\n",
      "[2500]\tvalid_0's l2: 97126.7\n",
      "[2600]\tvalid_0's l2: 96749.5\n",
      "[2700]\tvalid_0's l2: 96351.8\n",
      "[2800]\tvalid_0's l2: 95952.5\n",
      "[2900]\tvalid_0's l2: 95762.4\n",
      "[3000]\tvalid_0's l2: 95336.8\n",
      "Did not meet early stopping. Best iteration is:\n",
      "[3000]\tvalid_0's l2: 95336.8\n",
      "| \u001b[0m 37      \u001b[0m | \u001b[0m-1.317   \u001b[0m | \u001b[0m 0.6361  \u001b[0m | \u001b[0m 0.8419  \u001b[0m | \u001b[0m 0.01734 \u001b[0m | \u001b[0m 28.44   \u001b[0m | \u001b[0m 45.45   \u001b[0m |\n"
     ]
    },
    {
     "name": "stderr",
     "output_type": "stream",
     "text": [
      "C:\\Users\\82104\\anaconda3\\lib\\site-packages\\lightgbm\\engine.py:181: UserWarning: 'early_stopping_rounds' argument is deprecated and will be removed in a future release of LightGBM. Pass 'early_stopping()' callback via 'callbacks' argument instead.\n",
      "  _log_warning(\"'early_stopping_rounds' argument is deprecated and will be removed in a future release of LightGBM. \"\n",
      "C:\\Users\\82104\\anaconda3\\lib\\site-packages\\lightgbm\\engine.py:239: UserWarning: 'verbose_eval' argument is deprecated and will be removed in a future release of LightGBM. Pass 'log_evaluation()' callback via 'callbacks' argument instead.\n",
      "  _log_warning(\"'verbose_eval' argument is deprecated and will be removed in a future release of LightGBM. \"\n"
     ]
    },
    {
     "name": "stdout",
     "output_type": "stream",
     "text": [
      "[LightGBM] [Warning] Auto-choosing col-wise multi-threading, the overhead of testing was 0.577453 seconds.\n",
      "You can set `force_col_wise=true` to remove the overhead.\n",
      "[LightGBM] [Info] Total Bins 1173\n",
      "[LightGBM] [Info] Number of data points in the train set: 2368278, number of used features: 104\n",
      "[LightGBM] [Info] Start training from score 326.506259\n",
      "Training until validation scores don't improve for 100 rounds\n",
      "[100]\tvalid_0's l2: 132154\n",
      "[200]\tvalid_0's l2: 116630\n",
      "[300]\tvalid_0's l2: 109469\n",
      "[400]\tvalid_0's l2: 106099\n",
      "[500]\tvalid_0's l2: 103735\n",
      "[600]\tvalid_0's l2: 102337\n",
      "[700]\tvalid_0's l2: 101154\n",
      "[800]\tvalid_0's l2: 100116\n",
      "[900]\tvalid_0's l2: 99737.5\n",
      "[1000]\tvalid_0's l2: 99072.5\n",
      "[1100]\tvalid_0's l2: 99412.4\n",
      "Early stopping, best iteration is:\n",
      "[1031]\tvalid_0's l2: 98882\n",
      "| \u001b[0m 38      \u001b[0m | \u001b[0m-1.298   \u001b[0m | \u001b[0m 0.6723  \u001b[0m | \u001b[0m 0.7817  \u001b[0m | \u001b[0m 0.09124 \u001b[0m | \u001b[0m 32.41   \u001b[0m | \u001b[0m 36.78   \u001b[0m |\n"
     ]
    },
    {
     "name": "stderr",
     "output_type": "stream",
     "text": [
      "C:\\Users\\82104\\anaconda3\\lib\\site-packages\\lightgbm\\engine.py:181: UserWarning: 'early_stopping_rounds' argument is deprecated and will be removed in a future release of LightGBM. Pass 'early_stopping()' callback via 'callbacks' argument instead.\n",
      "  _log_warning(\"'early_stopping_rounds' argument is deprecated and will be removed in a future release of LightGBM. \"\n",
      "C:\\Users\\82104\\anaconda3\\lib\\site-packages\\lightgbm\\engine.py:239: UserWarning: 'verbose_eval' argument is deprecated and will be removed in a future release of LightGBM. Pass 'log_evaluation()' callback via 'callbacks' argument instead.\n",
      "  _log_warning(\"'verbose_eval' argument is deprecated and will be removed in a future release of LightGBM. \"\n"
     ]
    },
    {
     "name": "stdout",
     "output_type": "stream",
     "text": [
      "[LightGBM] [Warning] Auto-choosing row-wise multi-threading, the overhead of testing was 0.209254 seconds.\n",
      "You can set `force_row_wise=true` to remove the overhead.\n",
      "And if memory is not enough, you can set `force_col_wise=true`.\n",
      "[LightGBM] [Info] Total Bins 1173\n",
      "[LightGBM] [Info] Number of data points in the train set: 2368278, number of used features: 104\n",
      "[LightGBM] [Info] Start training from score 326.506259\n",
      "Training until validation scores don't improve for 100 rounds\n",
      "[100]\tvalid_0's l2: 478580\n",
      "[200]\tvalid_0's l2: 218894\n",
      "[300]\tvalid_0's l2: 153238\n",
      "[400]\tvalid_0's l2: 130908\n",
      "[500]\tvalid_0's l2: 121634\n",
      "[600]\tvalid_0's l2: 116194\n",
      "[700]\tvalid_0's l2: 112945\n",
      "[800]\tvalid_0's l2: 110581\n",
      "[900]\tvalid_0's l2: 108829\n",
      "[1000]\tvalid_0's l2: 107282\n",
      "[1100]\tvalid_0's l2: 106119\n",
      "[1200]\tvalid_0's l2: 105214\n",
      "[1300]\tvalid_0's l2: 104314\n",
      "[1400]\tvalid_0's l2: 103618\n",
      "[1500]\tvalid_0's l2: 103208\n",
      "[1600]\tvalid_0's l2: 102677\n",
      "[1700]\tvalid_0's l2: 102167\n",
      "[1800]\tvalid_0's l2: 101734\n",
      "[1900]\tvalid_0's l2: 101454\n",
      "[2000]\tvalid_0's l2: 101077\n",
      "[2100]\tvalid_0's l2: 100694\n",
      "[2200]\tvalid_0's l2: 100378\n",
      "[2300]\tvalid_0's l2: 100133\n",
      "[2400]\tvalid_0's l2: 99933.9\n",
      "[2500]\tvalid_0's l2: 99652.6\n",
      "[2600]\tvalid_0's l2: 99511.9\n",
      "[2700]\tvalid_0's l2: 99445.3\n",
      "[2800]\tvalid_0's l2: 99318.3\n",
      "[2900]\tvalid_0's l2: 99219\n",
      "[3000]\tvalid_0's l2: 99132.1\n",
      "Did not meet early stopping. Best iteration is:\n",
      "[3000]\tvalid_0's l2: 99132.1\n",
      "| \u001b[0m 39      \u001b[0m | \u001b[0m-1.266   \u001b[0m | \u001b[0m 0.6373  \u001b[0m | \u001b[0m 0.7939  \u001b[0m | \u001b[0m 0.01061 \u001b[0m | \u001b[0m 39.25   \u001b[0m | \u001b[0m 98.46   \u001b[0m |\n"
     ]
    },
    {
     "name": "stderr",
     "output_type": "stream",
     "text": [
      "C:\\Users\\82104\\anaconda3\\lib\\site-packages\\lightgbm\\engine.py:181: UserWarning: 'early_stopping_rounds' argument is deprecated and will be removed in a future release of LightGBM. Pass 'early_stopping()' callback via 'callbacks' argument instead.\n",
      "  _log_warning(\"'early_stopping_rounds' argument is deprecated and will be removed in a future release of LightGBM. \"\n",
      "C:\\Users\\82104\\anaconda3\\lib\\site-packages\\lightgbm\\engine.py:239: UserWarning: 'verbose_eval' argument is deprecated and will be removed in a future release of LightGBM. Pass 'log_evaluation()' callback via 'callbacks' argument instead.\n",
      "  _log_warning(\"'verbose_eval' argument is deprecated and will be removed in a future release of LightGBM. \"\n"
     ]
    },
    {
     "name": "stdout",
     "output_type": "stream",
     "text": [
      "[LightGBM] [Warning] Auto-choosing row-wise multi-threading, the overhead of testing was 0.211918 seconds.\n",
      "You can set `force_row_wise=true` to remove the overhead.\n",
      "And if memory is not enough, you can set `force_col_wise=true`.\n",
      "[LightGBM] [Info] Total Bins 1173\n",
      "[LightGBM] [Info] Number of data points in the train set: 2368278, number of used features: 104\n",
      "[LightGBM] [Info] Start training from score 326.506259\n",
      "Training until validation scores don't improve for 100 rounds\n",
      "[100]\tvalid_0's l2: 389508\n",
      "[200]\tvalid_0's l2: 192603\n",
      "[300]\tvalid_0's l2: 147810\n",
      "[400]\tvalid_0's l2: 130946\n",
      "[500]\tvalid_0's l2: 123504\n",
      "[600]\tvalid_0's l2: 119492\n",
      "[700]\tvalid_0's l2: 115880\n",
      "[800]\tvalid_0's l2: 113834\n",
      "[900]\tvalid_0's l2: 112107\n",
      "[1000]\tvalid_0's l2: 111070\n",
      "[1100]\tvalid_0's l2: 110041\n",
      "[1200]\tvalid_0's l2: 108971\n",
      "[1300]\tvalid_0's l2: 108222\n",
      "[1400]\tvalid_0's l2: 107948\n",
      "[1500]\tvalid_0's l2: 107136\n",
      "[1600]\tvalid_0's l2: 106797\n",
      "[1700]\tvalid_0's l2: 106413\n",
      "[1800]\tvalid_0's l2: 106034\n",
      "[1900]\tvalid_0's l2: 105735\n",
      "[2000]\tvalid_0's l2: 105472\n",
      "[2100]\tvalid_0's l2: 105143\n",
      "[2200]\tvalid_0's l2: 104853\n",
      "[2300]\tvalid_0's l2: 104611\n",
      "[2400]\tvalid_0's l2: 104522\n",
      "[2500]\tvalid_0's l2: 104431\n",
      "[2600]\tvalid_0's l2: 104365\n",
      "[2700]\tvalid_0's l2: 104302\n",
      "[2800]\tvalid_0's l2: 104133\n",
      "[2900]\tvalid_0's l2: 104142\n",
      "Early stopping, best iteration is:\n",
      "[2800]\tvalid_0's l2: 104133\n",
      "| \u001b[0m 40      \u001b[0m | \u001b[0m-1.334   \u001b[0m | \u001b[0m 0.6139  \u001b[0m | \u001b[0m 0.5195  \u001b[0m | \u001b[0m 0.01859 \u001b[0m | \u001b[0m 37.97   \u001b[0m | \u001b[0m 98.22   \u001b[0m |\n"
     ]
    },
    {
     "name": "stderr",
     "output_type": "stream",
     "text": [
      "C:\\Users\\82104\\anaconda3\\lib\\site-packages\\lightgbm\\engine.py:181: UserWarning: 'early_stopping_rounds' argument is deprecated and will be removed in a future release of LightGBM. Pass 'early_stopping()' callback via 'callbacks' argument instead.\n",
      "  _log_warning(\"'early_stopping_rounds' argument is deprecated and will be removed in a future release of LightGBM. \"\n",
      "C:\\Users\\82104\\anaconda3\\lib\\site-packages\\lightgbm\\engine.py:239: UserWarning: 'verbose_eval' argument is deprecated and will be removed in a future release of LightGBM. Pass 'log_evaluation()' callback via 'callbacks' argument instead.\n",
      "  _log_warning(\"'verbose_eval' argument is deprecated and will be removed in a future release of LightGBM. \"\n"
     ]
    },
    {
     "name": "stdout",
     "output_type": "stream",
     "text": [
      "[LightGBM] [Warning] Auto-choosing row-wise multi-threading, the overhead of testing was 0.192941 seconds.\n",
      "You can set `force_row_wise=true` to remove the overhead.\n",
      "And if memory is not enough, you can set `force_col_wise=true`.\n",
      "[LightGBM] [Info] Total Bins 1173\n",
      "[LightGBM] [Info] Number of data points in the train set: 2368278, number of used features: 104\n",
      "[LightGBM] [Info] Start training from score 326.506259\n",
      "Training until validation scores don't improve for 100 rounds\n",
      "[100]\tvalid_0's l2: 114550\n",
      "[200]\tvalid_0's l2: 105754\n",
      "[300]\tvalid_0's l2: 103022\n",
      "[400]\tvalid_0's l2: 101874\n",
      "[500]\tvalid_0's l2: 100786\n",
      "[600]\tvalid_0's l2: 100004\n",
      "[700]\tvalid_0's l2: 99639.4\n",
      "[800]\tvalid_0's l2: 99263.3\n",
      "[900]\tvalid_0's l2: 98585.3\n",
      "[1000]\tvalid_0's l2: 98998.5\n",
      "Early stopping, best iteration is:\n",
      "[922]\tvalid_0's l2: 98535.5\n",
      "| \u001b[0m 41      \u001b[0m | \u001b[0m-1.246   \u001b[0m | \u001b[0m 0.7331  \u001b[0m | \u001b[0m 0.8915  \u001b[0m | \u001b[0m 0.06279 \u001b[0m | \u001b[0m 34.98   \u001b[0m | \u001b[0m 97.35   \u001b[0m |\n"
     ]
    },
    {
     "name": "stderr",
     "output_type": "stream",
     "text": [
      "C:\\Users\\82104\\anaconda3\\lib\\site-packages\\lightgbm\\engine.py:181: UserWarning: 'early_stopping_rounds' argument is deprecated and will be removed in a future release of LightGBM. Pass 'early_stopping()' callback via 'callbacks' argument instead.\n",
      "  _log_warning(\"'early_stopping_rounds' argument is deprecated and will be removed in a future release of LightGBM. \"\n",
      "C:\\Users\\82104\\anaconda3\\lib\\site-packages\\lightgbm\\engine.py:239: UserWarning: 'verbose_eval' argument is deprecated and will be removed in a future release of LightGBM. Pass 'log_evaluation()' callback via 'callbacks' argument instead.\n",
      "  _log_warning(\"'verbose_eval' argument is deprecated and will be removed in a future release of LightGBM. \"\n"
     ]
    },
    {
     "name": "stdout",
     "output_type": "stream",
     "text": [
      "[LightGBM] [Warning] Auto-choosing row-wise multi-threading, the overhead of testing was 0.192246 seconds.\n",
      "You can set `force_row_wise=true` to remove the overhead.\n",
      "And if memory is not enough, you can set `force_col_wise=true`.\n",
      "[LightGBM] [Info] Total Bins 1173\n",
      "[LightGBM] [Info] Number of data points in the train set: 2368278, number of used features: 104\n",
      "[LightGBM] [Info] Start training from score 326.506259\n",
      "Training until validation scores don't improve for 100 rounds\n",
      "[100]\tvalid_0's l2: 224935\n",
      "[200]\tvalid_0's l2: 133236\n",
      "[300]\tvalid_0's l2: 117888\n",
      "[400]\tvalid_0's l2: 111962\n",
      "[500]\tvalid_0's l2: 108317\n",
      "[600]\tvalid_0's l2: 105857\n",
      "[700]\tvalid_0's l2: 104790\n",
      "[800]\tvalid_0's l2: 103657\n",
      "[900]\tvalid_0's l2: 103024\n",
      "[1000]\tvalid_0's l2: 102011\n",
      "[1100]\tvalid_0's l2: 101215\n",
      "[1200]\tvalid_0's l2: 100842\n",
      "[1300]\tvalid_0's l2: 100533\n",
      "[1400]\tvalid_0's l2: 100079\n",
      "[1500]\tvalid_0's l2: 99743.6\n",
      "[1600]\tvalid_0's l2: 99439.3\n",
      "[1700]\tvalid_0's l2: 99307.7\n",
      "[1800]\tvalid_0's l2: 99114.2\n",
      "[1900]\tvalid_0's l2: 98922.8\n",
      "[2000]\tvalid_0's l2: 98685.1\n",
      "[2100]\tvalid_0's l2: 98373.7\n",
      "[2200]\tvalid_0's l2: 98326.3\n",
      "[2300]\tvalid_0's l2: 98200.9\n",
      "Early stopping, best iteration is:\n",
      "[2284]\tvalid_0's l2: 98174.5\n",
      "| \u001b[0m 42      \u001b[0m | \u001b[0m-1.246   \u001b[0m | \u001b[0m 0.8099  \u001b[0m | \u001b[0m 0.7969  \u001b[0m | \u001b[0m 0.02062 \u001b[0m | \u001b[0m 34.72   \u001b[0m | \u001b[0m 97.22   \u001b[0m |\n"
     ]
    },
    {
     "name": "stderr",
     "output_type": "stream",
     "text": [
      "C:\\Users\\82104\\anaconda3\\lib\\site-packages\\lightgbm\\engine.py:181: UserWarning: 'early_stopping_rounds' argument is deprecated and will be removed in a future release of LightGBM. Pass 'early_stopping()' callback via 'callbacks' argument instead.\n",
      "  _log_warning(\"'early_stopping_rounds' argument is deprecated and will be removed in a future release of LightGBM. \"\n",
      "C:\\Users\\82104\\anaconda3\\lib\\site-packages\\lightgbm\\engine.py:239: UserWarning: 'verbose_eval' argument is deprecated and will be removed in a future release of LightGBM. Pass 'log_evaluation()' callback via 'callbacks' argument instead.\n",
      "  _log_warning(\"'verbose_eval' argument is deprecated and will be removed in a future release of LightGBM. \"\n"
     ]
    },
    {
     "name": "stdout",
     "output_type": "stream",
     "text": [
      "[LightGBM] [Warning] Auto-choosing col-wise multi-threading, the overhead of testing was 0.507037 seconds.\n",
      "You can set `force_col_wise=true` to remove the overhead.\n",
      "[LightGBM] [Info] Total Bins 1173\n",
      "[LightGBM] [Info] Number of data points in the train set: 2368278, number of used features: 104\n",
      "[LightGBM] [Info] Start training from score 326.506259\n",
      "Training until validation scores don't improve for 100 rounds\n",
      "[100]\tvalid_0's l2: 137985\n",
      "[200]\tvalid_0's l2: 114017\n",
      "[300]\tvalid_0's l2: 108091\n",
      "[400]\tvalid_0's l2: 104777\n",
      "[500]\tvalid_0's l2: 102773\n",
      "[600]\tvalid_0's l2: 101538\n",
      "[700]\tvalid_0's l2: 100775\n",
      "[800]\tvalid_0's l2: 100644\n",
      "[900]\tvalid_0's l2: 100267\n",
      "[1000]\tvalid_0's l2: 99917.6\n",
      "[1100]\tvalid_0's l2: 99763.4\n",
      "[1200]\tvalid_0's l2: 99594.8\n",
      "[1300]\tvalid_0's l2: 99134.6\n",
      "[1400]\tvalid_0's l2: 98878.5\n",
      "[1500]\tvalid_0's l2: 98636.6\n",
      "[1600]\tvalid_0's l2: 98573.9\n",
      "[1700]\tvalid_0's l2: 98725.6\n",
      "Early stopping, best iteration is:\n",
      "[1604]\tvalid_0's l2: 98565.4\n",
      "| \u001b[0m 43      \u001b[0m | \u001b[0m-1.225   \u001b[0m | \u001b[0m 0.5306  \u001b[0m | \u001b[0m 0.7706  \u001b[0m | \u001b[0m 0.04003 \u001b[0m | \u001b[0m 39.3    \u001b[0m | \u001b[0m 98.2    \u001b[0m |\n"
     ]
    },
    {
     "name": "stderr",
     "output_type": "stream",
     "text": [
      "C:\\Users\\82104\\anaconda3\\lib\\site-packages\\lightgbm\\engine.py:181: UserWarning: 'early_stopping_rounds' argument is deprecated and will be removed in a future release of LightGBM. Pass 'early_stopping()' callback via 'callbacks' argument instead.\n",
      "  _log_warning(\"'early_stopping_rounds' argument is deprecated and will be removed in a future release of LightGBM. \"\n",
      "C:\\Users\\82104\\anaconda3\\lib\\site-packages\\lightgbm\\engine.py:239: UserWarning: 'verbose_eval' argument is deprecated and will be removed in a future release of LightGBM. Pass 'log_evaluation()' callback via 'callbacks' argument instead.\n",
      "  _log_warning(\"'verbose_eval' argument is deprecated and will be removed in a future release of LightGBM. \"\n"
     ]
    },
    {
     "name": "stdout",
     "output_type": "stream",
     "text": [
      "[LightGBM] [Warning] Auto-choosing row-wise multi-threading, the overhead of testing was 0.233938 seconds.\n",
      "You can set `force_row_wise=true` to remove the overhead.\n",
      "And if memory is not enough, you can set `force_col_wise=true`.\n",
      "[LightGBM] [Info] Total Bins 1173\n",
      "[LightGBM] [Info] Number of data points in the train set: 2368278, number of used features: 104\n",
      "[LightGBM] [Info] Start training from score 326.506259\n",
      "Training until validation scores don't improve for 100 rounds\n",
      "[100]\tvalid_0's l2: 119622\n",
      "[200]\tvalid_0's l2: 105899\n",
      "[300]\tvalid_0's l2: 101921\n",
      "[400]\tvalid_0's l2: 99693.6\n",
      "[500]\tvalid_0's l2: 98932.2\n",
      "[600]\tvalid_0's l2: 98482.8\n",
      "[700]\tvalid_0's l2: 98165.7\n",
      "[800]\tvalid_0's l2: 97756.1\n",
      "[900]\tvalid_0's l2: 97749.2\n",
      "Early stopping, best iteration is:\n",
      "[809]\tvalid_0's l2: 97640.9\n",
      "| \u001b[0m 44      \u001b[0m | \u001b[0m-1.243   \u001b[0m | \u001b[0m 0.6125  \u001b[0m | \u001b[0m 0.8497  \u001b[0m | \u001b[0m 0.05779 \u001b[0m | \u001b[0m 29.89   \u001b[0m | \u001b[0m 97.23   \u001b[0m |\n"
     ]
    },
    {
     "name": "stderr",
     "output_type": "stream",
     "text": [
      "C:\\Users\\82104\\anaconda3\\lib\\site-packages\\lightgbm\\engine.py:181: UserWarning: 'early_stopping_rounds' argument is deprecated and will be removed in a future release of LightGBM. Pass 'early_stopping()' callback via 'callbacks' argument instead.\n",
      "  _log_warning(\"'early_stopping_rounds' argument is deprecated and will be removed in a future release of LightGBM. \"\n",
      "C:\\Users\\82104\\anaconda3\\lib\\site-packages\\lightgbm\\engine.py:239: UserWarning: 'verbose_eval' argument is deprecated and will be removed in a future release of LightGBM. Pass 'log_evaluation()' callback via 'callbacks' argument instead.\n",
      "  _log_warning(\"'verbose_eval' argument is deprecated and will be removed in a future release of LightGBM. \"\n"
     ]
    },
    {
     "name": "stdout",
     "output_type": "stream",
     "text": [
      "[LightGBM] [Warning] Auto-choosing row-wise multi-threading, the overhead of testing was 0.196283 seconds.\n",
      "You can set `force_row_wise=true` to remove the overhead.\n",
      "And if memory is not enough, you can set `force_col_wise=true`.\n",
      "[LightGBM] [Info] Total Bins 1173\n",
      "[LightGBM] [Info] Number of data points in the train set: 2368278, number of used features: 104\n",
      "[LightGBM] [Info] Start training from score 326.506259\n",
      "Training until validation scores don't improve for 100 rounds\n",
      "[100]\tvalid_0's l2: 116525\n",
      "[200]\tvalid_0's l2: 108201\n",
      "[300]\tvalid_0's l2: 105803\n",
      "[400]\tvalid_0's l2: 103979\n",
      "[500]\tvalid_0's l2: 103209\n",
      "[600]\tvalid_0's l2: 103601\n",
      "Early stopping, best iteration is:\n",
      "[500]\tvalid_0's l2: 103209\n",
      "| \u001b[0m 45      \u001b[0m | \u001b[0m-1.31    \u001b[0m | \u001b[0m 0.6559  \u001b[0m | \u001b[0m 0.733   \u001b[0m | \u001b[0m 0.09663 \u001b[0m | \u001b[0m 29.67   \u001b[0m | \u001b[0m 97.14   \u001b[0m |\n"
     ]
    },
    {
     "name": "stderr",
     "output_type": "stream",
     "text": [
      "C:\\Users\\82104\\anaconda3\\lib\\site-packages\\lightgbm\\engine.py:181: UserWarning: 'early_stopping_rounds' argument is deprecated and will be removed in a future release of LightGBM. Pass 'early_stopping()' callback via 'callbacks' argument instead.\n",
      "  _log_warning(\"'early_stopping_rounds' argument is deprecated and will be removed in a future release of LightGBM. \"\n",
      "C:\\Users\\82104\\anaconda3\\lib\\site-packages\\lightgbm\\engine.py:239: UserWarning: 'verbose_eval' argument is deprecated and will be removed in a future release of LightGBM. Pass 'log_evaluation()' callback via 'callbacks' argument instead.\n",
      "  _log_warning(\"'verbose_eval' argument is deprecated and will be removed in a future release of LightGBM. \"\n"
     ]
    },
    {
     "name": "stdout",
     "output_type": "stream",
     "text": [
      "[LightGBM] [Warning] Auto-choosing row-wise multi-threading, the overhead of testing was 0.197540 seconds.\n",
      "You can set `force_row_wise=true` to remove the overhead.\n",
      "And if memory is not enough, you can set `force_col_wise=true`.\n",
      "[LightGBM] [Info] Total Bins 1173\n",
      "[LightGBM] [Info] Number of data points in the train set: 2368278, number of used features: 104\n",
      "[LightGBM] [Info] Start training from score 326.506259\n",
      "Training until validation scores don't improve for 100 rounds\n",
      "[100]\tvalid_0's l2: 115624\n",
      "[200]\tvalid_0's l2: 105063\n",
      "[300]\tvalid_0's l2: 101229\n",
      "[400]\tvalid_0's l2: 99195.2\n",
      "[500]\tvalid_0's l2: 97600.9\n",
      "[600]\tvalid_0's l2: 96927\n",
      "[700]\tvalid_0's l2: 96411.4\n",
      "Early stopping, best iteration is:\n",
      "[692]\tvalid_0's l2: 96181.4\n",
      "| \u001b[0m 46      \u001b[0m | \u001b[0m-1.297   \u001b[0m | \u001b[0m 0.5348  \u001b[0m | \u001b[0m 0.8525  \u001b[0m | \u001b[0m 0.08464 \u001b[0m | \u001b[0m 38.81   \u001b[0m | \u001b[0m 66.48   \u001b[0m |\n"
     ]
    },
    {
     "name": "stderr",
     "output_type": "stream",
     "text": [
      "C:\\Users\\82104\\anaconda3\\lib\\site-packages\\lightgbm\\engine.py:181: UserWarning: 'early_stopping_rounds' argument is deprecated and will be removed in a future release of LightGBM. Pass 'early_stopping()' callback via 'callbacks' argument instead.\n",
      "  _log_warning(\"'early_stopping_rounds' argument is deprecated and will be removed in a future release of LightGBM. \"\n",
      "C:\\Users\\82104\\anaconda3\\lib\\site-packages\\lightgbm\\engine.py:239: UserWarning: 'verbose_eval' argument is deprecated and will be removed in a future release of LightGBM. Pass 'log_evaluation()' callback via 'callbacks' argument instead.\n",
      "  _log_warning(\"'verbose_eval' argument is deprecated and will be removed in a future release of LightGBM. \"\n"
     ]
    },
    {
     "name": "stdout",
     "output_type": "stream",
     "text": [
      "[LightGBM] [Warning] Auto-choosing row-wise multi-threading, the overhead of testing was 0.206538 seconds.\n",
      "You can set `force_row_wise=true` to remove the overhead.\n",
      "And if memory is not enough, you can set `force_col_wise=true`.\n",
      "[LightGBM] [Info] Total Bins 1173\n",
      "[LightGBM] [Info] Number of data points in the train set: 2368278, number of used features: 104\n",
      "[LightGBM] [Info] Start training from score 326.506259\n",
      "Training until validation scores don't improve for 100 rounds\n",
      "[100]\tvalid_0's l2: 131705\n",
      "[200]\tvalid_0's l2: 117313\n",
      "[300]\tvalid_0's l2: 113707\n",
      "[400]\tvalid_0's l2: 111454\n",
      "[500]\tvalid_0's l2: 110100\n",
      "[600]\tvalid_0's l2: 109486\n",
      "[700]\tvalid_0's l2: 108575\n",
      "[800]\tvalid_0's l2: 107637\n",
      "[900]\tvalid_0's l2: 107383\n",
      "[1000]\tvalid_0's l2: 106665\n",
      "Early stopping, best iteration is:\n",
      "[944]\tvalid_0's l2: 106570\n",
      "| \u001b[0m 47      \u001b[0m | \u001b[0m-1.334   \u001b[0m | \u001b[0m 0.5219  \u001b[0m | \u001b[0m 0.5947  \u001b[0m | \u001b[0m 0.07728 \u001b[0m | \u001b[0m 39.3    \u001b[0m | \u001b[0m 98.09   \u001b[0m |\n"
     ]
    },
    {
     "name": "stderr",
     "output_type": "stream",
     "text": [
      "C:\\Users\\82104\\anaconda3\\lib\\site-packages\\lightgbm\\engine.py:181: UserWarning: 'early_stopping_rounds' argument is deprecated and will be removed in a future release of LightGBM. Pass 'early_stopping()' callback via 'callbacks' argument instead.\n",
      "  _log_warning(\"'early_stopping_rounds' argument is deprecated and will be removed in a future release of LightGBM. \"\n",
      "C:\\Users\\82104\\anaconda3\\lib\\site-packages\\lightgbm\\engine.py:239: UserWarning: 'verbose_eval' argument is deprecated and will be removed in a future release of LightGBM. Pass 'log_evaluation()' callback via 'callbacks' argument instead.\n",
      "  _log_warning(\"'verbose_eval' argument is deprecated and will be removed in a future release of LightGBM. \"\n"
     ]
    },
    {
     "name": "stdout",
     "output_type": "stream",
     "text": [
      "[LightGBM] [Warning] Auto-choosing row-wise multi-threading, the overhead of testing was 0.178149 seconds.\n",
      "You can set `force_row_wise=true` to remove the overhead.\n",
      "And if memory is not enough, you can set `force_col_wise=true`.\n",
      "[LightGBM] [Info] Total Bins 1173\n",
      "[LightGBM] [Info] Number of data points in the train set: 2368278, number of used features: 104\n",
      "[LightGBM] [Info] Start training from score 326.506259\n",
      "Training until validation scores don't improve for 100 rounds\n",
      "[100]\tvalid_0's l2: 117015\n",
      "[200]\tvalid_0's l2: 107846\n",
      "[300]\tvalid_0's l2: 103737\n",
      "[400]\tvalid_0's l2: 101907\n",
      "[500]\tvalid_0's l2: 101805\n",
      "[600]\tvalid_0's l2: 101358\n",
      "[700]\tvalid_0's l2: 101093\n",
      "[800]\tvalid_0's l2: 100805\n",
      "[900]\tvalid_0's l2: 100817\n",
      "[1000]\tvalid_0's l2: 101122\n",
      "Early stopping, best iteration is:\n",
      "[927]\tvalid_0's l2: 100687\n",
      "| \u001b[0m 48      \u001b[0m | \u001b[0m-1.275   \u001b[0m | \u001b[0m 0.5588  \u001b[0m | \u001b[0m 0.7407  \u001b[0m | \u001b[0m 0.08742 \u001b[0m | \u001b[0m 33.76   \u001b[0m | \u001b[0m 93.3    \u001b[0m |\n"
     ]
    },
    {
     "name": "stderr",
     "output_type": "stream",
     "text": [
      "C:\\Users\\82104\\anaconda3\\lib\\site-packages\\lightgbm\\engine.py:181: UserWarning: 'early_stopping_rounds' argument is deprecated and will be removed in a future release of LightGBM. Pass 'early_stopping()' callback via 'callbacks' argument instead.\n",
      "  _log_warning(\"'early_stopping_rounds' argument is deprecated and will be removed in a future release of LightGBM. \"\n",
      "C:\\Users\\82104\\anaconda3\\lib\\site-packages\\lightgbm\\engine.py:239: UserWarning: 'verbose_eval' argument is deprecated and will be removed in a future release of LightGBM. Pass 'log_evaluation()' callback via 'callbacks' argument instead.\n",
      "  _log_warning(\"'verbose_eval' argument is deprecated and will be removed in a future release of LightGBM. \"\n"
     ]
    },
    {
     "name": "stdout",
     "output_type": "stream",
     "text": [
      "[LightGBM] [Warning] Auto-choosing row-wise multi-threading, the overhead of testing was 0.205203 seconds.\n",
      "You can set `force_row_wise=true` to remove the overhead.\n",
      "And if memory is not enough, you can set `force_col_wise=true`.\n",
      "[LightGBM] [Info] Total Bins 1173\n",
      "[LightGBM] [Info] Number of data points in the train set: 2368278, number of used features: 104\n",
      "[LightGBM] [Info] Start training from score 326.506259\n",
      "Training until validation scores don't improve for 100 rounds\n",
      "[100]\tvalid_0's l2: 211134\n",
      "[200]\tvalid_0's l2: 147917\n",
      "[300]\tvalid_0's l2: 131360\n",
      "[400]\tvalid_0's l2: 121747\n",
      "[500]\tvalid_0's l2: 115901\n",
      "[600]\tvalid_0's l2: 111943\n",
      "[700]\tvalid_0's l2: 110260\n",
      "[800]\tvalid_0's l2: 108527\n",
      "[900]\tvalid_0's l2: 107828\n",
      "[1000]\tvalid_0's l2: 106785\n",
      "[1100]\tvalid_0's l2: 105750\n",
      "[1200]\tvalid_0's l2: 104508\n",
      "[1300]\tvalid_0's l2: 103362\n",
      "[1400]\tvalid_0's l2: 102516\n",
      "[1500]\tvalid_0's l2: 101624\n",
      "[1600]\tvalid_0's l2: 100585\n",
      "[1700]\tvalid_0's l2: 99859.5\n",
      "[1800]\tvalid_0's l2: 98706.6\n",
      "[1900]\tvalid_0's l2: 98264.6\n",
      "[2000]\tvalid_0's l2: 97996.2\n",
      "[2100]\tvalid_0's l2: 97536.9\n",
      "[2200]\tvalid_0's l2: 97212.6\n",
      "[2300]\tvalid_0's l2: 96974.5\n",
      "[2400]\tvalid_0's l2: 96581.3\n",
      "[2500]\tvalid_0's l2: 96428.9\n",
      "[2600]\tvalid_0's l2: 96192.1\n",
      "[2700]\tvalid_0's l2: 96076.5\n",
      "[2800]\tvalid_0's l2: 95882\n",
      "[2900]\tvalid_0's l2: 95844.8\n",
      "[3000]\tvalid_0's l2: 95713\n",
      "Did not meet early stopping. Best iteration is:\n",
      "[2981]\tvalid_0's l2: 95707.8\n",
      "| \u001b[0m 49      \u001b[0m | \u001b[0m-1.344   \u001b[0m | \u001b[0m 0.7211  \u001b[0m | \u001b[0m 0.766   \u001b[0m | \u001b[0m 0.02996 \u001b[0m | \u001b[0m 30.18   \u001b[0m | \u001b[0m 34.97   \u001b[0m |\n"
     ]
    },
    {
     "name": "stderr",
     "output_type": "stream",
     "text": [
      "C:\\Users\\82104\\anaconda3\\lib\\site-packages\\lightgbm\\engine.py:181: UserWarning: 'early_stopping_rounds' argument is deprecated and will be removed in a future release of LightGBM. Pass 'early_stopping()' callback via 'callbacks' argument instead.\n",
      "  _log_warning(\"'early_stopping_rounds' argument is deprecated and will be removed in a future release of LightGBM. \"\n",
      "C:\\Users\\82104\\anaconda3\\lib\\site-packages\\lightgbm\\engine.py:239: UserWarning: 'verbose_eval' argument is deprecated and will be removed in a future release of LightGBM. Pass 'log_evaluation()' callback via 'callbacks' argument instead.\n",
      "  _log_warning(\"'verbose_eval' argument is deprecated and will be removed in a future release of LightGBM. \"\n"
     ]
    },
    {
     "name": "stdout",
     "output_type": "stream",
     "text": [
      "[LightGBM] [Warning] Auto-choosing col-wise multi-threading, the overhead of testing was 0.563781 seconds.\n",
      "You can set `force_col_wise=true` to remove the overhead.\n",
      "[LightGBM] [Info] Total Bins 1173\n",
      "[LightGBM] [Info] Number of data points in the train set: 2368278, number of used features: 104\n",
      "[LightGBM] [Info] Start training from score 326.506259\n",
      "Training until validation scores don't improve for 100 rounds\n",
      "[100]\tvalid_0's l2: 193879\n",
      "[200]\tvalid_0's l2: 129887\n",
      "[300]\tvalid_0's l2: 117002\n",
      "[400]\tvalid_0's l2: 110415\n",
      "[500]\tvalid_0's l2: 107436\n",
      "[600]\tvalid_0's l2: 105631\n",
      "[700]\tvalid_0's l2: 104076\n",
      "[800]\tvalid_0's l2: 102922\n",
      "[900]\tvalid_0's l2: 101726\n",
      "[1000]\tvalid_0's l2: 100964\n",
      "[1100]\tvalid_0's l2: 100133\n",
      "[1200]\tvalid_0's l2: 99495.9\n",
      "[1300]\tvalid_0's l2: 98828.6\n",
      "[1400]\tvalid_0's l2: 98528.6\n",
      "[1500]\tvalid_0's l2: 98180.8\n",
      "[1600]\tvalid_0's l2: 97853.1\n",
      "[1700]\tvalid_0's l2: 97636.8\n",
      "[1800]\tvalid_0's l2: 97542.2\n",
      "[1900]\tvalid_0's l2: 97323.8\n",
      "[2000]\tvalid_0's l2: 97168.6\n",
      "[2100]\tvalid_0's l2: 97042.6\n",
      "[2200]\tvalid_0's l2: 96755.8\n",
      "[2300]\tvalid_0's l2: 96651.9\n",
      "[2400]\tvalid_0's l2: 96840.3\n",
      "Early stopping, best iteration is:\n",
      "[2308]\tvalid_0's l2: 96630.7\n",
      "| \u001b[0m 50      \u001b[0m | \u001b[0m-1.265   \u001b[0m | \u001b[0m 0.6906  \u001b[0m | \u001b[0m 0.8068  \u001b[0m | \u001b[0m 0.02525 \u001b[0m | \u001b[0m 36.2    \u001b[0m | \u001b[0m 71.35   \u001b[0m |\n"
     ]
    },
    {
     "name": "stderr",
     "output_type": "stream",
     "text": [
      "C:\\Users\\82104\\anaconda3\\lib\\site-packages\\lightgbm\\engine.py:181: UserWarning: 'early_stopping_rounds' argument is deprecated and will be removed in a future release of LightGBM. Pass 'early_stopping()' callback via 'callbacks' argument instead.\n",
      "  _log_warning(\"'early_stopping_rounds' argument is deprecated and will be removed in a future release of LightGBM. \"\n",
      "C:\\Users\\82104\\anaconda3\\lib\\site-packages\\lightgbm\\engine.py:239: UserWarning: 'verbose_eval' argument is deprecated and will be removed in a future release of LightGBM. Pass 'log_evaluation()' callback via 'callbacks' argument instead.\n",
      "  _log_warning(\"'verbose_eval' argument is deprecated and will be removed in a future release of LightGBM. \"\n"
     ]
    },
    {
     "name": "stdout",
     "output_type": "stream",
     "text": [
      "[LightGBM] [Warning] Auto-choosing row-wise multi-threading, the overhead of testing was 0.204046 seconds.\n",
      "You can set `force_row_wise=true` to remove the overhead.\n",
      "And if memory is not enough, you can set `force_col_wise=true`.\n",
      "[LightGBM] [Info] Total Bins 1173\n",
      "[LightGBM] [Info] Number of data points in the train set: 2368278, number of used features: 104\n",
      "[LightGBM] [Info] Start training from score 326.506259\n",
      "Training until validation scores don't improve for 100 rounds\n",
      "[100]\tvalid_0's l2: 137595\n",
      "[200]\tvalid_0's l2: 110850\n",
      "[300]\tvalid_0's l2: 105411\n",
      "[400]\tvalid_0's l2: 102575\n",
      "[500]\tvalid_0's l2: 101018\n",
      "[600]\tvalid_0's l2: 99634.2\n",
      "[700]\tvalid_0's l2: 98930.2\n",
      "[800]\tvalid_0's l2: 98286.4\n",
      "[900]\tvalid_0's l2: 97861.3\n",
      "[1000]\tvalid_0's l2: 97508.3\n",
      "[1100]\tvalid_0's l2: 97336.1\n",
      "[1200]\tvalid_0's l2: 97099.8\n",
      "[1300]\tvalid_0's l2: 96810.2\n",
      "[1400]\tvalid_0's l2: 96539.8\n",
      "[1500]\tvalid_0's l2: 96405.6\n",
      "Early stopping, best iteration is:\n",
      "[1458]\tvalid_0's l2: 96293.4\n",
      "| \u001b[95m 51      \u001b[0m | \u001b[95m-1.217   \u001b[0m | \u001b[95m 0.5766  \u001b[0m | \u001b[95m 0.8613  \u001b[0m | \u001b[95m 0.0346  \u001b[0m | \u001b[95m 39.13   \u001b[0m | \u001b[95m 98.47   \u001b[0m |\n"
     ]
    },
    {
     "name": "stderr",
     "output_type": "stream",
     "text": [
      "C:\\Users\\82104\\anaconda3\\lib\\site-packages\\lightgbm\\engine.py:181: UserWarning: 'early_stopping_rounds' argument is deprecated and will be removed in a future release of LightGBM. Pass 'early_stopping()' callback via 'callbacks' argument instead.\n",
      "  _log_warning(\"'early_stopping_rounds' argument is deprecated and will be removed in a future release of LightGBM. \"\n",
      "C:\\Users\\82104\\anaconda3\\lib\\site-packages\\lightgbm\\engine.py:239: UserWarning: 'verbose_eval' argument is deprecated and will be removed in a future release of LightGBM. Pass 'log_evaluation()' callback via 'callbacks' argument instead.\n",
      "  _log_warning(\"'verbose_eval' argument is deprecated and will be removed in a future release of LightGBM. \"\n"
     ]
    },
    {
     "name": "stdout",
     "output_type": "stream",
     "text": [
      "[LightGBM] [Warning] Auto-choosing row-wise multi-threading, the overhead of testing was 0.178540 seconds.\n",
      "You can set `force_row_wise=true` to remove the overhead.\n",
      "And if memory is not enough, you can set `force_col_wise=true`.\n",
      "[LightGBM] [Info] Total Bins 1173\n",
      "[LightGBM] [Info] Number of data points in the train set: 2368278, number of used features: 104\n",
      "[LightGBM] [Info] Start training from score 326.506259\n",
      "Training until validation scores don't improve for 100 rounds\n",
      "[100]\tvalid_0's l2: 136796\n",
      "[200]\tvalid_0's l2: 113338\n",
      "[300]\tvalid_0's l2: 106900\n",
      "[400]\tvalid_0's l2: 104658\n",
      "[500]\tvalid_0's l2: 103238\n",
      "[600]\tvalid_0's l2: 102561\n",
      "[700]\tvalid_0's l2: 102099\n",
      "[800]\tvalid_0's l2: 101950\n",
      "[900]\tvalid_0's l2: 101029\n",
      "[1000]\tvalid_0's l2: 100932\n",
      "Early stopping, best iteration is:\n",
      "[931]\tvalid_0's l2: 100922\n",
      "| \u001b[0m 52      \u001b[0m | \u001b[0m-1.303   \u001b[0m | \u001b[0m 0.8651  \u001b[0m | \u001b[0m 0.6651  \u001b[0m | \u001b[0m 0.05019 \u001b[0m | \u001b[0m 33.83   \u001b[0m | \u001b[0m 93.36   \u001b[0m |\n"
     ]
    },
    {
     "name": "stderr",
     "output_type": "stream",
     "text": [
      "C:\\Users\\82104\\anaconda3\\lib\\site-packages\\lightgbm\\engine.py:181: UserWarning: 'early_stopping_rounds' argument is deprecated and will be removed in a future release of LightGBM. Pass 'early_stopping()' callback via 'callbacks' argument instead.\n",
      "  _log_warning(\"'early_stopping_rounds' argument is deprecated and will be removed in a future release of LightGBM. \"\n",
      "C:\\Users\\82104\\anaconda3\\lib\\site-packages\\lightgbm\\engine.py:239: UserWarning: 'verbose_eval' argument is deprecated and will be removed in a future release of LightGBM. Pass 'log_evaluation()' callback via 'callbacks' argument instead.\n",
      "  _log_warning(\"'verbose_eval' argument is deprecated and will be removed in a future release of LightGBM. \"\n"
     ]
    },
    {
     "name": "stdout",
     "output_type": "stream",
     "text": [
      "[LightGBM] [Warning] Auto-choosing row-wise multi-threading, the overhead of testing was 0.187652 seconds.\n",
      "You can set `force_row_wise=true` to remove the overhead.\n",
      "And if memory is not enough, you can set `force_col_wise=true`.\n",
      "[LightGBM] [Info] Total Bins 1173\n",
      "[LightGBM] [Info] Number of data points in the train set: 2368278, number of used features: 104\n",
      "[LightGBM] [Info] Start training from score 326.506259\n",
      "Training until validation scores don't improve for 100 rounds\n",
      "[100]\tvalid_0's l2: 109638\n",
      "[200]\tvalid_0's l2: 104034\n",
      "[300]\tvalid_0's l2: 102081\n",
      "[400]\tvalid_0's l2: 101062\n",
      "[500]\tvalid_0's l2: 101006\n",
      "Early stopping, best iteration is:\n",
      "[430]\tvalid_0's l2: 100705\n",
      "| \u001b[0m 53      \u001b[0m | \u001b[0m-1.25    \u001b[0m | \u001b[0m 0.6727  \u001b[0m | \u001b[0m 0.8899  \u001b[0m | \u001b[0m 0.09829 \u001b[0m | \u001b[0m 38.88   \u001b[0m | \u001b[0m 98.33   \u001b[0m |\n"
     ]
    },
    {
     "name": "stderr",
     "output_type": "stream",
     "text": [
      "C:\\Users\\82104\\anaconda3\\lib\\site-packages\\lightgbm\\engine.py:181: UserWarning: 'early_stopping_rounds' argument is deprecated and will be removed in a future release of LightGBM. Pass 'early_stopping()' callback via 'callbacks' argument instead.\n",
      "  _log_warning(\"'early_stopping_rounds' argument is deprecated and will be removed in a future release of LightGBM. \"\n",
      "C:\\Users\\82104\\anaconda3\\lib\\site-packages\\lightgbm\\engine.py:239: UserWarning: 'verbose_eval' argument is deprecated and will be removed in a future release of LightGBM. Pass 'log_evaluation()' callback via 'callbacks' argument instead.\n",
      "  _log_warning(\"'verbose_eval' argument is deprecated and will be removed in a future release of LightGBM. \"\n"
     ]
    },
    {
     "name": "stdout",
     "output_type": "stream",
     "text": [
      "[LightGBM] [Warning] Auto-choosing row-wise multi-threading, the overhead of testing was 0.214563 seconds.\n",
      "You can set `force_row_wise=true` to remove the overhead.\n",
      "And if memory is not enough, you can set `force_col_wise=true`.\n",
      "[LightGBM] [Info] Total Bins 1173\n",
      "[LightGBM] [Info] Number of data points in the train set: 2368278, number of used features: 104\n",
      "[LightGBM] [Info] Start training from score 326.506259\n",
      "Training until validation scores don't improve for 100 rounds\n",
      "[100]\tvalid_0's l2: 316360\n",
      "[200]\tvalid_0's l2: 165669\n",
      "[300]\tvalid_0's l2: 135235\n",
      "[400]\tvalid_0's l2: 124002\n",
      "[500]\tvalid_0's l2: 118610\n",
      "[600]\tvalid_0's l2: 114625\n",
      "[700]\tvalid_0's l2: 112023\n",
      "[800]\tvalid_0's l2: 110377\n",
      "[900]\tvalid_0's l2: 108710\n",
      "[1000]\tvalid_0's l2: 107568\n",
      "[1100]\tvalid_0's l2: 106633\n",
      "[1200]\tvalid_0's l2: 105992\n",
      "[1300]\tvalid_0's l2: 105423\n",
      "[1400]\tvalid_0's l2: 105026\n",
      "[1500]\tvalid_0's l2: 104480\n",
      "[1600]\tvalid_0's l2: 104117\n",
      "[1700]\tvalid_0's l2: 103819\n",
      "[1800]\tvalid_0's l2: 103325\n",
      "[1900]\tvalid_0's l2: 103166\n",
      "[2000]\tvalid_0's l2: 103040\n",
      "[2100]\tvalid_0's l2: 102546\n",
      "[2200]\tvalid_0's l2: 102327\n",
      "[2300]\tvalid_0's l2: 102086\n",
      "Early stopping, best iteration is:\n",
      "[2299]\tvalid_0's l2: 102058\n",
      "| \u001b[0m 54      \u001b[0m | \u001b[0m-1.318   \u001b[0m | \u001b[0m 0.7262  \u001b[0m | \u001b[0m 0.5956  \u001b[0m | \u001b[0m 0.01968 \u001b[0m | \u001b[0m 36.93   \u001b[0m | \u001b[0m 96.94   \u001b[0m |\n"
     ]
    },
    {
     "name": "stderr",
     "output_type": "stream",
     "text": [
      "C:\\Users\\82104\\anaconda3\\lib\\site-packages\\lightgbm\\engine.py:181: UserWarning: 'early_stopping_rounds' argument is deprecated and will be removed in a future release of LightGBM. Pass 'early_stopping()' callback via 'callbacks' argument instead.\n",
      "  _log_warning(\"'early_stopping_rounds' argument is deprecated and will be removed in a future release of LightGBM. \"\n",
      "C:\\Users\\82104\\anaconda3\\lib\\site-packages\\lightgbm\\engine.py:239: UserWarning: 'verbose_eval' argument is deprecated and will be removed in a future release of LightGBM. Pass 'log_evaluation()' callback via 'callbacks' argument instead.\n",
      "  _log_warning(\"'verbose_eval' argument is deprecated and will be removed in a future release of LightGBM. \"\n"
     ]
    },
    {
     "name": "stdout",
     "output_type": "stream",
     "text": [
      "[LightGBM] [Warning] Auto-choosing row-wise multi-threading, the overhead of testing was 0.208629 seconds.\n",
      "You can set `force_row_wise=true` to remove the overhead.\n",
      "And if memory is not enough, you can set `force_col_wise=true`.\n",
      "[LightGBM] [Info] Total Bins 1173\n",
      "[LightGBM] [Info] Number of data points in the train set: 2368278, number of used features: 104\n",
      "[LightGBM] [Info] Start training from score 326.506259\n",
      "Training until validation scores don't improve for 100 rounds\n",
      "[100]\tvalid_0's l2: 121944\n",
      "[200]\tvalid_0's l2: 107527\n",
      "[300]\tvalid_0's l2: 104102\n",
      "[400]\tvalid_0's l2: 101643\n",
      "[500]\tvalid_0's l2: 100468\n",
      "[600]\tvalid_0's l2: 100235\n",
      "[700]\tvalid_0's l2: 100027\n",
      "[800]\tvalid_0's l2: 99748.1\n",
      "[900]\tvalid_0's l2: 98910.1\n",
      "[1000]\tvalid_0's l2: 98640\n",
      "[1100]\tvalid_0's l2: 98603.8\n",
      "Early stopping, best iteration is:\n",
      "[1022]\tvalid_0's l2: 98535.9\n",
      "| \u001b[0m 55      \u001b[0m | \u001b[0m-1.244   \u001b[0m | \u001b[0m 0.5879  \u001b[0m | \u001b[0m 0.7996  \u001b[0m | \u001b[0m 0.05431 \u001b[0m | \u001b[0m 38.94   \u001b[0m | \u001b[0m 98.48   \u001b[0m |\n",
      "=====================================================================================\n"
     ]
    },
    {
     "data": {
      "text/plain": [
       "{'target': -1.2169151662447444,\n",
       " 'params': {'bagging_fraction': 0.5765701214228706,\n",
       "  'feature_fraction': 0.8613356302139816,\n",
       "  'learning_rate': 0.034600572091497105,\n",
       "  'max_depth': 39.13465006223704,\n",
       "  'num_leaves': 98.47466625953058}}"
      ]
     },
     "execution_count": 27,
     "metadata": {},
     "output_type": "execute_result"
    }
   ],
   "source": [
    "pbounds = {'learning_rate' :(0.01, 0.1),\n",
    "           'max_depth': (20,40),\n",
    "           'num_leaves' : (32,100),\n",
    "           'feature_fraction':(0.5,0.9),\n",
    "           'bagging_fraction':(0.5,0.9)}\n",
    "\n",
    "gbm_bayes = BayesianOptimization(f = valid_msle, pbounds = pbounds, verbose = 2, random_state = 42)\n",
    "\n",
    "gbm_bayes.maximize(init_points=5, n_iter = 50)\n",
    "gbm_bayes.max"
   ]
  },
  {
   "cell_type": "code",
   "execution_count": 28,
   "id": "9c71ae8c",
   "metadata": {},
   "outputs": [
    {
     "data": {
      "text/plain": [
       "[{'target': -1.3839376625214053,\n",
       "  'params': {'bagging_fraction': 0.649816047538945,\n",
       "   'feature_fraction': 0.8802857225639664,\n",
       "   'learning_rate': 0.07587945476302646,\n",
       "   'max_depth': 31.973169683940732,\n",
       "   'num_leaves': 42.60926755008568}},\n",
       " {'target': -1.4128583485308996,\n",
       "  'params': {'bagging_fraction': 0.562397808134481,\n",
       "   'feature_fraction': 0.5232334448672797,\n",
       "   'learning_rate': 0.08795585311974417,\n",
       "   'max_depth': 32.022300234864176,\n",
       "   'num_leaves': 80.14893529013109}},\n",
       " {'target': -1.320813494663103,\n",
       "  'params': {'bagging_fraction': 0.508233797718321,\n",
       "   'feature_fraction': 0.8879639408647977,\n",
       "   'learning_rate': 0.08491983767203796,\n",
       "   'max_depth': 24.246782213565524,\n",
       "   'num_leaves': 44.36409777008284}},\n",
       " {'target': -1.3313554150739568,\n",
       "  'params': {'bagging_fraction': 0.5733618039413735,\n",
       "   'feature_fraction': 0.621696897183815,\n",
       "   'learning_rate': 0.05722807884690141,\n",
       "   'max_depth': 28.638900372842315,\n",
       "   'num_leaves': 51.803581533466854}},\n",
       " {'target': -1.2968416748172442,\n",
       "  'params': {'bagging_fraction': 0.7447411578889518,\n",
       "   'feature_fraction': 0.5557975442608167,\n",
       "   'learning_rate': 0.03629301836816964,\n",
       "   'max_depth': 27.327236865873836,\n",
       "   'num_leaves': 63.012758926758444}},\n",
       " {'target': -1.3494551724125454,\n",
       "  'params': {'bagging_fraction': 0.51375074334069,\n",
       "   'feature_fraction': 0.7555852087893138,\n",
       "   'learning_rate': 0.017330249160204328,\n",
       "   'max_depth': 28.700291886804468,\n",
       "   'num_leaves': 51.900546641383734}},\n",
       " {'target': -1.340686569462378,\n",
       "  'params': {'bagging_fraction': 0.5106864777548844,\n",
       "   'feature_fraction': 0.7504340952720162,\n",
       "   'learning_rate': 0.060249681275605864,\n",
       "   'max_depth': 27.58786320640351,\n",
       "   'num_leaves': 63.402518624783525}},\n",
       " {'target': -1.328233291813479,\n",
       "  'params': {'bagging_fraction': 0.7173617416633857,\n",
       "   'feature_fraction': 0.6994844754947847,\n",
       "   'learning_rate': 0.016186818900796023,\n",
       "   'max_depth': 27.314304325179354,\n",
       "   'num_leaves': 62.58300316126602}},\n",
       " {'target': -1.357113579355356,\n",
       "  'params': {'bagging_fraction': 0.7880352871450635,\n",
       "   'feature_fraction': 0.503156687066564,\n",
       "   'learning_rate': 0.04755586131674969,\n",
       "   'max_depth': 26.70836472059958,\n",
       "   'num_leaves': 62.96310844883473}},\n",
       " {'target': -1.3205675646871269,\n",
       "  'params': {'bagging_fraction': 0.8230203102850173,\n",
       "   'feature_fraction': 0.5703160767056519,\n",
       "   'learning_rate': 0.03850560550058574,\n",
       "   'max_depth': 25.377210199443653,\n",
       "   'num_leaves': 81.36029879065481}},\n",
       " {'target': -1.2818615235177755,\n",
       "  'params': {'bagging_fraction': 0.8545449987831011,\n",
       "   'feature_fraction': 0.8356443699878151,\n",
       "   'learning_rate': 0.03268503959305007,\n",
       "   'max_depth': 27.36456239681529,\n",
       "   'num_leaves': 63.1798714444095}},\n",
       " {'target': -1.3081139933027226,\n",
       "  'params': {'bagging_fraction': 0.5301857357366749,\n",
       "   'feature_fraction': 0.8247616242806957,\n",
       "   'learning_rate': 0.05199981418592324,\n",
       "   'max_depth': 26.11573138845413,\n",
       "   'num_leaves': 52.314839769449634}},\n",
       " {'target': -1.27912278809629,\n",
       "  'params': {'bagging_fraction': 0.5330005788007123,\n",
       "   'feature_fraction': 0.8615230268216307,\n",
       "   'learning_rate': 0.0634366483144261,\n",
       "   'max_depth': 34.99521971158851,\n",
       "   'num_leaves': 82.86992352691098}},\n",
       " {'target': -1.3133591489239915,\n",
       "  'params': {'bagging_fraction': 0.7912534002089842,\n",
       "   'feature_fraction': 0.7669851569085588,\n",
       "   'learning_rate': 0.09950640837516364,\n",
       "   'max_depth': 28.131697885067993,\n",
       "   'num_leaves': 68.63417390119085}},\n",
       " {'target': -1.320669812899554,\n",
       "  'params': {'bagging_fraction': 0.5534349427227158,\n",
       "   'feature_fraction': 0.794904129023108,\n",
       "   'learning_rate': 0.03712120437760437,\n",
       "   'max_depth': 23.79068538588363,\n",
       "   'num_leaves': 47.42638744789417}},\n",
       " {'target': -1.246912056827082,\n",
       "  'params': {'bagging_fraction': 0.6085649016680115,\n",
       "   'feature_fraction': 0.7606594552583599,\n",
       "   'learning_rate': 0.015595115764794205,\n",
       "   'max_depth': 34.94196731015592,\n",
       "   'num_leaves': 97.22973769735859}},\n",
       " {'target': -1.3499583205237087,\n",
       "  'params': {'bagging_fraction': 0.6228245404985845,\n",
       "   'feature_fraction': 0.6518127759257902,\n",
       "   'learning_rate': 0.0925002023920613,\n",
       "   'max_depth': 35.15768152124572,\n",
       "   'num_leaves': 97.11187322162736}},\n",
       " {'target': -1.2396750397197436,\n",
       "  'params': {'bagging_fraction': 0.7807570319759711,\n",
       "   'feature_fraction': 0.8166049586391886,\n",
       "   'learning_rate': 0.06478083634611694,\n",
       "   'max_depth': 34.88622333646454,\n",
       "   'num_leaves': 97.14002344659475}},\n",
       " {'target': -1.2785496333226658,\n",
       "  'params': {'bagging_fraction': 0.7022482845564664,\n",
       "   'feature_fraction': 0.7046601968561986,\n",
       "   'learning_rate': 0.08123286043226027,\n",
       "   'max_depth': 26.608519892934098,\n",
       "   'num_leaves': 94.7248493847465}},\n",
       " {'target': -1.3005659825871922,\n",
       "  'params': {'bagging_fraction': 0.8585800414797229,\n",
       "   'feature_fraction': 0.6975828241769897,\n",
       "   'learning_rate': 0.08078129334010965,\n",
       "   'max_depth': 34.89362183103158,\n",
       "   'num_leaves': 97.3022586891207}},\n",
       " {'target': -1.2526301258024017,\n",
       "  'params': {'bagging_fraction': 0.6579281234292247,\n",
       "   'feature_fraction': 0.8701924970393561,\n",
       "   'learning_rate': 0.01,\n",
       "   'max_depth': 34.82433349308282,\n",
       "   'num_leaves': 97.1842952430815}},\n",
       " {'target': -1.4287730174355888,\n",
       "  'params': {'bagging_fraction': 0.726462427395663,\n",
       "   'feature_fraction': 0.5208631439154316,\n",
       "   'learning_rate': 0.04277401511217851,\n",
       "   'max_depth': 23.264671053927227,\n",
       "   'num_leaves': 42.534829641156875}},\n",
       " {'target': -1.3656175692324237,\n",
       "  'params': {'bagging_fraction': 0.8050085488597398,\n",
       "   'feature_fraction': 0.5786904651939201,\n",
       "   'learning_rate': 0.025735888245200608,\n",
       "   'max_depth': 27.320842840047014,\n",
       "   'num_leaves': 63.040321962419}},\n",
       " {'target': -1.3021011181189341,\n",
       "  'params': {'bagging_fraction': 0.7151666427456491,\n",
       "   'feature_fraction': 0.6687366274435412,\n",
       "   'learning_rate': 0.06642501300133925,\n",
       "   'max_depth': 34.993435784350055,\n",
       "   'num_leaves': 97.05875435292907}},\n",
       " {'target': -1.2934296149423563,\n",
       "  'params': {'bagging_fraction': 0.5903267488663411,\n",
       "   'feature_fraction': 0.7275873885055908,\n",
       "   'learning_rate': 0.010425070961171215,\n",
       "   'max_depth': 26.553656174582624,\n",
       "   'num_leaves': 94.85540237890703}},\n",
       " {'target': -1.3309325174249507,\n",
       "  'params': {'bagging_fraction': 0.7914853301571612,\n",
       "   'feature_fraction': 0.7118671539105053,\n",
       "   'learning_rate': 0.08713325764892613,\n",
       "   'max_depth': 34.79676836474978,\n",
       "   'num_leaves': 97.08755902045206}},\n",
       " {'target': -1.247965634182765,\n",
       "  'params': {'bagging_fraction': 0.59375175130847,\n",
       "   'feature_fraction': 0.8542833988529299,\n",
       "   'learning_rate': 0.011153072449851448,\n",
       "   'max_depth': 34.907233789995956,\n",
       "   'num_leaves': 97.37906445336603}},\n",
       " {'target': -1.272929723985246,\n",
       "  'params': {'bagging_fraction': 0.8466646360265473,\n",
       "   'feature_fraction': 0.7698607207485706,\n",
       "   'learning_rate': 0.029425983534918508,\n",
       "   'max_depth': 34.921621714002974,\n",
       "   'num_leaves': 97.06066982612055}},\n",
       " {'target': -1.317684219434975,\n",
       "  'params': {'bagging_fraction': 0.7602410383146132,\n",
       "   'feature_fraction': 0.8406611714409191,\n",
       "   'learning_rate': 0.043873688325518224,\n",
       "   'max_depth': 39.24190877011684,\n",
       "   'num_leaves': 46.249629539195425}},\n",
       " {'target': -1.2367203614725655,\n",
       "  'params': {'bagging_fraction': 0.8542794539362997,\n",
       "   'feature_fraction': 0.8576482862217324,\n",
       "   'learning_rate': 0.0440765692892042,\n",
       "   'max_depth': 34.74666602549764,\n",
       "   'num_leaves': 97.15473848626631}},\n",
       " {'target': -1.2224030085818292,\n",
       "  'params': {'bagging_fraction': 0.6153840382490326,\n",
       "   'feature_fraction': 0.8885726602944686,\n",
       "   'learning_rate': 0.027767156229519245,\n",
       "   'max_depth': 39.17525779893159,\n",
       "   'num_leaves': 98.37984061416508}},\n",
       " {'target': -1.364103410247432,\n",
       "  'params': {'bagging_fraction': 0.5189764735410894,\n",
       "   'feature_fraction': 0.6577527910218885,\n",
       "   'learning_rate': 0.017926470886565966,\n",
       "   'max_depth': 27.313129893299816,\n",
       "   'num_leaves': 62.86239624678561}},\n",
       " {'target': -1.2595494300945564,\n",
       "  'params': {'bagging_fraction': 0.6169754714498789,\n",
       "   'feature_fraction': 0.7616756664771318,\n",
       "   'learning_rate': 0.024980856617457553,\n",
       "   'max_depth': 39.34335006788062,\n",
       "   'num_leaves': 98.31535190070743}},\n",
       " {'target': -1.3322126537579888,\n",
       "  'params': {'bagging_fraction': 0.7161772390809744,\n",
       "   'feature_fraction': 0.5467262301556516,\n",
       "   'learning_rate': 0.046067051301392214,\n",
       "   'max_depth': 33.30587672380607,\n",
       "   'num_leaves': 72.56263163328285}},\n",
       " {'target': -1.3245643156214273,\n",
       "  'params': {'bagging_fraction': 0.6472811626430837,\n",
       "   'feature_fraction': 0.7495721039626588,\n",
       "   'learning_rate': 0.0861333995736659,\n",
       "   'max_depth': 34.76439769905387,\n",
       "   'num_leaves': 97.34633577658501}},\n",
       " {'target': -1.4302130656266538,\n",
       "  'params': {'bagging_fraction': 0.737868346032179,\n",
       "   'feature_fraction': 0.5526408251140237,\n",
       "   'learning_rate': 0.0842487082677358,\n",
       "   'max_depth': 24.996432571379092,\n",
       "   'num_leaves': 46.21962900081669}},\n",
       " {'target': -1.3173806213084622,\n",
       "  'params': {'bagging_fraction': 0.6360785372759361,\n",
       "   'feature_fraction': 0.8418714117833015,\n",
       "   'learning_rate': 0.01733564039735195,\n",
       "   'max_depth': 28.439221131427324,\n",
       "   'num_leaves': 45.447466920418705}},\n",
       " {'target': -1.2975430954204412,\n",
       "  'params': {'bagging_fraction': 0.6723106665690992,\n",
       "   'feature_fraction': 0.7817404013846927,\n",
       "   'learning_rate': 0.09123934626618142,\n",
       "   'max_depth': 32.41374443988396,\n",
       "   'num_leaves': 36.77831090755821}},\n",
       " {'target': -1.266234772196037,\n",
       "  'params': {'bagging_fraction': 0.6372900160880002,\n",
       "   'feature_fraction': 0.7938985209518652,\n",
       "   'learning_rate': 0.010613217056762063,\n",
       "   'max_depth': 39.24766212714599,\n",
       "   'num_leaves': 98.45530609086182}},\n",
       " {'target': -1.3343978393554292,\n",
       "  'params': {'bagging_fraction': 0.6139499608014081,\n",
       "   'feature_fraction': 0.5194947216079054,\n",
       "   'learning_rate': 0.018588678481861052,\n",
       "   'max_depth': 37.97129803749189,\n",
       "   'num_leaves': 98.21977434686144}},\n",
       " {'target': -1.2455427602365172,\n",
       "  'params': {'bagging_fraction': 0.7331069542427255,\n",
       "   'feature_fraction': 0.8915059533523746,\n",
       "   'learning_rate': 0.0627940368006944,\n",
       "   'max_depth': 34.98143515093775,\n",
       "   'num_leaves': 97.35034333815236}},\n",
       " {'target': -1.2458601387136647,\n",
       "  'params': {'bagging_fraction': 0.8099254098711013,\n",
       "   'feature_fraction': 0.7968734597710927,\n",
       "   'learning_rate': 0.020615248321639967,\n",
       "   'max_depth': 34.72048673310255,\n",
       "   'num_leaves': 97.21750035569562}},\n",
       " {'target': -1.224810390826906,\n",
       "  'params': {'bagging_fraction': 0.530606589479668,\n",
       "   'feature_fraction': 0.7705703477658086,\n",
       "   'learning_rate': 0.04002629223510064,\n",
       "   'max_depth': 39.30298317783793,\n",
       "   'num_leaves': 98.19743843946834}},\n",
       " {'target': -1.2434453018453822,\n",
       "  'params': {'bagging_fraction': 0.6124529990732037,\n",
       "   'feature_fraction': 0.8496737573091955,\n",
       "   'learning_rate': 0.057786534440222644,\n",
       "   'max_depth': 29.885284856991127,\n",
       "   'num_leaves': 97.23006238314075}},\n",
       " {'target': -1.309700381602838,\n",
       "  'params': {'bagging_fraction': 0.6558644361320356,\n",
       "   'feature_fraction': 0.7330120212809366,\n",
       "   'learning_rate': 0.09662866164661851,\n",
       "   'max_depth': 29.6704771658532,\n",
       "   'num_leaves': 97.13682935503864}},\n",
       " {'target': -1.2970993494592635,\n",
       "  'params': {'bagging_fraction': 0.5347871563869233,\n",
       "   'feature_fraction': 0.8525188001686808,\n",
       "   'learning_rate': 0.0846414726454191,\n",
       "   'max_depth': 38.807931580617044,\n",
       "   'num_leaves': 66.47520228700671}},\n",
       " {'target': -1.333962188831081,\n",
       "  'params': {'bagging_fraction': 0.5218584450873254,\n",
       "   'feature_fraction': 0.5946714459106458,\n",
       "   'learning_rate': 0.07728417177244454,\n",
       "   'max_depth': 39.30088299501263,\n",
       "   'num_leaves': 98.09247508263135}},\n",
       " {'target': -1.2754704355579658,\n",
       "  'params': {'bagging_fraction': 0.5588319792015837,\n",
       "   'feature_fraction': 0.7406962677062066,\n",
       "   'learning_rate': 0.08741502778169717,\n",
       "   'max_depth': 33.76129219644083,\n",
       "   'num_leaves': 93.30114300196121}},\n",
       " {'target': -1.3442563196018986,\n",
       "  'params': {'bagging_fraction': 0.7211209017624677,\n",
       "   'feature_fraction': 0.7660021750022143,\n",
       "   'learning_rate': 0.029960189350898912,\n",
       "   'max_depth': 30.180865510895238,\n",
       "   'num_leaves': 34.97353372192831}},\n",
       " {'target': -1.2653194067835627,\n",
       "  'params': {'bagging_fraction': 0.6906344419637915,\n",
       "   'feature_fraction': 0.8068051729841565,\n",
       "   'learning_rate': 0.025254465786488225,\n",
       "   'max_depth': 36.2042585178563,\n",
       "   'num_leaves': 71.35041855924842}},\n",
       " {'target': -1.2169151662447444,\n",
       "  'params': {'bagging_fraction': 0.5765701214228706,\n",
       "   'feature_fraction': 0.8613356302139816,\n",
       "   'learning_rate': 0.034600572091497105,\n",
       "   'max_depth': 39.13465006223704,\n",
       "   'num_leaves': 98.47466625953058}},\n",
       " {'target': -1.3027901654231284,\n",
       "  'params': {'bagging_fraction': 0.8651038000154228,\n",
       "   'feature_fraction': 0.6650711622958174,\n",
       "   'learning_rate': 0.05018914008166226,\n",
       "   'max_depth': 33.82610494871301,\n",
       "   'num_leaves': 93.36299380412342}},\n",
       " {'target': -1.2495148193680776,\n",
       "  'params': {'bagging_fraction': 0.6727389821220431,\n",
       "   'feature_fraction': 0.8899161344243356,\n",
       "   'learning_rate': 0.09829091020904508,\n",
       "   'max_depth': 38.8825944813601,\n",
       "   'num_leaves': 98.3312751993959}},\n",
       " {'target': -1.318059518388122,\n",
       "  'params': {'bagging_fraction': 0.7262296813731102,\n",
       "   'feature_fraction': 0.5956218937480743,\n",
       "   'learning_rate': 0.019675001863642474,\n",
       "   'max_depth': 36.92525883188663,\n",
       "   'num_leaves': 96.93829874969678}},\n",
       " {'target': -1.2444775954381304,\n",
       "  'params': {'bagging_fraction': 0.5879387625139744,\n",
       "   'feature_fraction': 0.7995803015984215,\n",
       "   'learning_rate': 0.05430949502110297,\n",
       "   'max_depth': 38.943300682588536,\n",
       "   'num_leaves': 98.4835720579769}}]"
      ]
     },
     "execution_count": 28,
     "metadata": {},
     "output_type": "execute_result"
    }
   ],
   "source": [
    "gbm_bayes.res"
   ]
  },
  {
   "cell_type": "code",
   "execution_count": 29,
   "id": "6c8e5116",
   "metadata": {},
   "outputs": [
    {
     "data": {
      "text/plain": [
       "{'target': -1.2169151662447444,\n",
       " 'params': {'bagging_fraction': 0.5765701214228706,\n",
       "  'feature_fraction': 0.8613356302139816,\n",
       "  'learning_rate': 0.034600572091497105,\n",
       "  'max_depth': 39.13465006223704,\n",
       "  'num_leaves': 98.47466625953058}}"
      ]
     },
     "execution_count": 29,
     "metadata": {},
     "output_type": "execute_result"
    }
   ],
   "source": [
    "gbm_bayes.max"
   ]
  },
  {
   "cell_type": "code",
   "execution_count": 30,
   "id": "1c70f340",
   "metadata": {},
   "outputs": [
    {
     "name": "stderr",
     "output_type": "stream",
     "text": [
      "C:\\Users\\82104\\anaconda3\\lib\\site-packages\\lightgbm\\engine.py:181: UserWarning: 'early_stopping_rounds' argument is deprecated and will be removed in a future release of LightGBM. Pass 'early_stopping()' callback via 'callbacks' argument instead.\n",
      "  _log_warning(\"'early_stopping_rounds' argument is deprecated and will be removed in a future release of LightGBM. \"\n",
      "C:\\Users\\82104\\anaconda3\\lib\\site-packages\\lightgbm\\engine.py:239: UserWarning: 'verbose_eval' argument is deprecated and will be removed in a future release of LightGBM. Pass 'log_evaluation()' callback via 'callbacks' argument instead.\n",
      "  _log_warning(\"'verbose_eval' argument is deprecated and will be removed in a future release of LightGBM. \"\n"
     ]
    },
    {
     "name": "stdout",
     "output_type": "stream",
     "text": [
      "[LightGBM] [Warning] Auto-choosing row-wise multi-threading, the overhead of testing was 0.208161 seconds.\n",
      "You can set `force_row_wise=true` to remove the overhead.\n",
      "And if memory is not enough, you can set `force_col_wise=true`.\n",
      "[LightGBM] [Info] Total Bins 1173\n",
      "[LightGBM] [Info] Number of data points in the train set: 2368278, number of used features: 104\n",
      "[LightGBM] [Info] Start training from score 326.506259\n",
      "Training until validation scores don't improve for 100 rounds\n",
      "[100]\tvalid_0's l2: 158034\n",
      "[200]\tvalid_0's l2: 116452\n",
      "[300]\tvalid_0's l2: 108218\n",
      "[400]\tvalid_0's l2: 104525\n",
      "[500]\tvalid_0's l2: 103162\n",
      "[600]\tvalid_0's l2: 101762\n",
      "[700]\tvalid_0's l2: 100586\n",
      "[800]\tvalid_0's l2: 99872\n",
      "[900]\tvalid_0's l2: 99217.1\n",
      "[1000]\tvalid_0's l2: 98957.5\n",
      "[1100]\tvalid_0's l2: 98574.8\n",
      "[1200]\tvalid_0's l2: 98434.8\n",
      "[1300]\tvalid_0's l2: 98193.5\n",
      "[1400]\tvalid_0's l2: 97742.6\n",
      "[1500]\tvalid_0's l2: 97543.9\n",
      "[1600]\tvalid_0's l2: 97383\n",
      "[1700]\tvalid_0's l2: 97296.1\n",
      "[1800]\tvalid_0's l2: 97142\n",
      "[1900]\tvalid_0's l2: 97064.8\n",
      "[2000]\tvalid_0's l2: 97056\n",
      "Early stopping, best iteration is:\n",
      "[1936]\tvalid_0's l2: 96972.4\n"
     ]
    }
   ],
   "source": [
    "params = {'learning_rate':0.03,\n",
    "          'max_depth': 39,\n",
    "          'objective':'regression',\n",
    "          'metric':'mse',\n",
    "          'num_leaves': 98,    \n",
    "          'is_training_metric':True,\n",
    "          'feature_fraction':0.8,\n",
    "          'bagging_fraction':0.6,\n",
    "          'seed':42}\n",
    "model = lgb.train(params, sub_train_ds, 3000, valid_ds, verbose_eval = 100, early_stopping_rounds = 100)"
   ]
  },
  {
   "cell_type": "code",
   "execution_count": 31,
   "id": "200a5350",
   "metadata": {},
   "outputs": [],
   "source": [
    "# predict\n",
    "train_pred = model.predict(X_sub_train_data_trans)\n",
    "valid_pred = model.predict(X_valid_data_trans)\n",
    "\n",
    "train_pred[train_pred < 0] = 0\n",
    "valid_pred[valid_pred < 0] = 0"
   ]
  },
  {
   "cell_type": "code",
   "execution_count": 32,
   "id": "70b593ff",
   "metadata": {},
   "outputs": [
    {
     "name": "stdout",
     "output_type": "stream",
     "text": [
      "훈련데이터 rmsle:  1.3981113192176338\n",
      "검증데이터 rmsle:  1.2331210297822568\n"
     ]
    }
   ],
   "source": [
    "from sklearn.metrics import mean_squared_log_error\n",
    "print('훈련데이터 rmsle: ', np.sqrt(mean_squared_log_error(y_sub_train_data, train_pred)))\n",
    "print('검증데이터 rmsle: ', np.sqrt(mean_squared_log_error(y_valid_data, valid_pred)))"
   ]
  },
  {
   "cell_type": "code",
   "execution_count": null,
   "id": "e423e90c",
   "metadata": {},
   "outputs": [],
   "source": []
  },
  {
   "cell_type": "code",
   "execution_count": null,
   "id": "41100439",
   "metadata": {},
   "outputs": [],
   "source": []
  },
  {
   "cell_type": "markdown",
   "id": "761463f4",
   "metadata": {},
   "source": [
    "**베이지안 최적화2**\n",
    "- 위의 결과를 보았을 때 훈련데이터와 검증데이터의 rmsle의 값이 비슷하게 나타난다. 즉, 과소적합되었다고 예상해볼 수 있다. 따라서 규제를 조절하는 max_depth와 num_leaves를 더 큰 값을 주어 최적화를 시행한다.\n",
    "- depth랑 num_leaves의 범위를 좀 더 크기가 큰 범위에서 시행\n"
   ]
  },
  {
   "cell_type": "code",
   "execution_count": 39,
   "id": "daa936c8",
   "metadata": {},
   "outputs": [],
   "source": [
    "sub_train_ds = lgb.Dataset(X_sub_train_data_trans, label = y_sub_train_data)\n",
    "valid_ds = lgb.Dataset(X_valid_data_trans, label = y_valid_data)"
   ]
  },
  {
   "cell_type": "code",
   "execution_count": 40,
   "id": "cd075f04",
   "metadata": {},
   "outputs": [],
   "source": [
    "def valid_msle(learning_rate, max_depth, feature_fraction, bagging_fraction, num_leaves):\n",
    "    params = {'learning_rate':learning_rate,\n",
    "          'max_depth': int(max_depth),\n",
    "          'objective':'regression',\n",
    "          'metric':'mse',\n",
    "          'num_leaves': int(num_leaves),    \n",
    "          'is_training_metric':True,\n",
    "          'feature_fraction':feature_fraction,\n",
    "          'bagging_fraction':bagging_fraction,\n",
    "          'seed':42}\n",
    "    model = lgb.train(params, sub_train_ds, 3000, valid_ds, verbose_eval = 100, early_stopping_rounds = 100)\n",
    "    valid_pred = model.predict(X_valid_data_trans)\n",
    "    valid_pred[valid_pred < 0] = 0\n",
    "    return - np.sqrt(mean_squared_log_error(y_valid_data, valid_pred))"
   ]
  },
  {
   "cell_type": "code",
   "execution_count": 41,
   "id": "3aeb6b3f",
   "metadata": {},
   "outputs": [
    {
     "name": "stdout",
     "output_type": "stream",
     "text": [
      "|   iter    |  target   | baggin... | featur... | learni... | max_depth | num_le... |\n",
      "-------------------------------------------------------------------------------------\n",
      "[LightGBM] [Warning] Auto-choosing row-wise multi-threading, the overhead of testing was 0.201651 seconds.\n",
      "You can set `force_row_wise=true` to remove the overhead.\n",
      "And if memory is not enough, you can set `force_col_wise=true`.\n",
      "[LightGBM] [Info] Total Bins 1173\n",
      "[LightGBM] [Info] Number of data points in the train set: 2368278, number of used features: 104\n",
      "[LightGBM] [Info] Start training from score 326.506259\n",
      "Training until validation scores don't improve for 100 rounds\n",
      "[100]\tvalid_0's l2: 101556\n",
      "Early stopping, best iteration is:\n",
      "[93]\tvalid_0's l2: 101273\n",
      "| \u001b[0m 1       \u001b[0m | \u001b[0m-1.066   \u001b[0m | \u001b[0m 0.5498  \u001b[0m | \u001b[0m 0.8803  \u001b[0m | \u001b[0m 0.07588 \u001b[0m | \u001b[0m 71.91   \u001b[0m | \u001b[0m 1.628e+0\u001b[0m |\n"
     ]
    },
    {
     "name": "stderr",
     "output_type": "stream",
     "text": [
      "C:\\Users\\82104\\anaconda3\\lib\\site-packages\\lightgbm\\engine.py:181: UserWarning: 'early_stopping_rounds' argument is deprecated and will be removed in a future release of LightGBM. Pass 'early_stopping()' callback via 'callbacks' argument instead.\n",
      "  _log_warning(\"'early_stopping_rounds' argument is deprecated and will be removed in a future release of LightGBM. \"\n",
      "C:\\Users\\82104\\anaconda3\\lib\\site-packages\\lightgbm\\engine.py:239: UserWarning: 'verbose_eval' argument is deprecated and will be removed in a future release of LightGBM. Pass 'log_evaluation()' callback via 'callbacks' argument instead.\n",
      "  _log_warning(\"'verbose_eval' argument is deprecated and will be removed in a future release of LightGBM. \"\n"
     ]
    },
    {
     "name": "stdout",
     "output_type": "stream",
     "text": [
      "[LightGBM] [Warning] Auto-choosing row-wise multi-threading, the overhead of testing was 0.185290 seconds.\n",
      "You can set `force_row_wise=true` to remove the overhead.\n",
      "And if memory is not enough, you can set `force_col_wise=true`.\n",
      "[LightGBM] [Info] Total Bins 1173\n",
      "[LightGBM] [Info] Number of data points in the train set: 2368278, number of used features: 104\n",
      "[LightGBM] [Info] Start training from score 326.506259\n",
      "Training until validation scores don't improve for 100 rounds\n",
      "[LightGBM] [Warning] No further splits with positive gain, best gain: -inf\n",
      "[LightGBM] [Warning] No further splits with positive gain, best gain: -inf\n",
      "[100]\tvalid_0's l2: 144821\n",
      "[LightGBM] [Warning] No further splits with positive gain, best gain: -inf\n",
      "[200]\tvalid_0's l2: 140142\n",
      "[LightGBM] [Warning] No further splits with positive gain, best gain: -inf\n",
      "[LightGBM] [Warning] No further splits with positive gain, best gain: -inf\n",
      "[LightGBM] [Warning] No further splits with positive gain, best gain: -inf\n",
      "Early stopping, best iteration is:\n",
      "[197]\tvalid_0's l2: 139973\n",
      "| \u001b[0m 2       \u001b[0m | \u001b[0m-1.423   \u001b[0m | \u001b[0m 0.4624  \u001b[0m | \u001b[0m 0.5232  \u001b[0m | \u001b[0m 0.08796 \u001b[0m | \u001b[0m 72.08   \u001b[0m | \u001b[0m 7.104e+0\u001b[0m |\n"
     ]
    },
    {
     "name": "stderr",
     "output_type": "stream",
     "text": [
      "C:\\Users\\82104\\anaconda3\\lib\\site-packages\\lightgbm\\engine.py:181: UserWarning: 'early_stopping_rounds' argument is deprecated and will be removed in a future release of LightGBM. Pass 'early_stopping()' callback via 'callbacks' argument instead.\n",
      "  _log_warning(\"'early_stopping_rounds' argument is deprecated and will be removed in a future release of LightGBM. \"\n",
      "C:\\Users\\82104\\anaconda3\\lib\\site-packages\\lightgbm\\engine.py:239: UserWarning: 'verbose_eval' argument is deprecated and will be removed in a future release of LightGBM. Pass 'log_evaluation()' callback via 'callbacks' argument instead.\n",
      "  _log_warning(\"'verbose_eval' argument is deprecated and will be removed in a future release of LightGBM. \"\n"
     ]
    },
    {
     "name": "stdout",
     "output_type": "stream",
     "text": [
      "[LightGBM] [Warning] Auto-choosing row-wise multi-threading, the overhead of testing was 0.198780 seconds.\n",
      "You can set `force_row_wise=true` to remove the overhead.\n",
      "And if memory is not enough, you can set `force_col_wise=true`.\n",
      "[LightGBM] [Info] Total Bins 1173\n",
      "[LightGBM] [Info] Number of data points in the train set: 2368278, number of used features: 104\n",
      "[LightGBM] [Info] Start training from score 326.506259\n",
      "Training until validation scores don't improve for 100 rounds\n",
      "[100]\tvalid_0's l2: 102685\n",
      "Early stopping, best iteration is:\n",
      "[96]\tvalid_0's l2: 102477\n",
      "| \u001b[95m 3       \u001b[0m | \u001b[95m-1.033   \u001b[0m | \u001b[95m 0.4082  \u001b[0m | \u001b[95m 0.888   \u001b[0m | \u001b[95m 0.08492 \u001b[0m | \u001b[95m 44.86   \u001b[0m | \u001b[95m 1.884e+0\u001b[0m |\n"
     ]
    },
    {
     "name": "stderr",
     "output_type": "stream",
     "text": [
      "C:\\Users\\82104\\anaconda3\\lib\\site-packages\\lightgbm\\engine.py:181: UserWarning: 'early_stopping_rounds' argument is deprecated and will be removed in a future release of LightGBM. Pass 'early_stopping()' callback via 'callbacks' argument instead.\n",
      "  _log_warning(\"'early_stopping_rounds' argument is deprecated and will be removed in a future release of LightGBM. \"\n",
      "C:\\Users\\82104\\anaconda3\\lib\\site-packages\\lightgbm\\engine.py:239: UserWarning: 'verbose_eval' argument is deprecated and will be removed in a future release of LightGBM. Pass 'log_evaluation()' callback via 'callbacks' argument instead.\n",
      "  _log_warning(\"'verbose_eval' argument is deprecated and will be removed in a future release of LightGBM. \"\n"
     ]
    },
    {
     "name": "stdout",
     "output_type": "stream",
     "text": [
      "[LightGBM] [Warning] Auto-choosing col-wise multi-threading, the overhead of testing was 0.560570 seconds.\n",
      "You can set `force_col_wise=true` to remove the overhead.\n",
      "[LightGBM] [Info] Total Bins 1173\n",
      "[LightGBM] [Info] Number of data points in the train set: 2368278, number of used features: 104\n",
      "[LightGBM] [Info] Start training from score 326.506259\n",
      "Training until validation scores don't improve for 100 rounds\n",
      "[100]\tvalid_0's l2: 131632\n",
      "[200]\tvalid_0's l2: 124787\n",
      "[300]\tvalid_0's l2: 125170\n",
      "Early stopping, best iteration is:\n",
      "[204]\tvalid_0's l2: 124778\n",
      "| \u001b[0m 4       \u001b[0m | \u001b[0m-1.276   \u001b[0m | \u001b[0m 0.4734  \u001b[0m | \u001b[0m 0.6217  \u001b[0m | \u001b[0m 0.05723 \u001b[0m | \u001b[0m 60.24   \u001b[0m | \u001b[0m 2.969e+0\u001b[0m |\n"
     ]
    },
    {
     "name": "stderr",
     "output_type": "stream",
     "text": [
      "C:\\Users\\82104\\anaconda3\\lib\\site-packages\\lightgbm\\engine.py:181: UserWarning: 'early_stopping_rounds' argument is deprecated and will be removed in a future release of LightGBM. Pass 'early_stopping()' callback via 'callbacks' argument instead.\n",
      "  _log_warning(\"'early_stopping_rounds' argument is deprecated and will be removed in a future release of LightGBM. \"\n",
      "C:\\Users\\82104\\anaconda3\\lib\\site-packages\\lightgbm\\engine.py:239: UserWarning: 'verbose_eval' argument is deprecated and will be removed in a future release of LightGBM. Pass 'log_evaluation()' callback via 'callbacks' argument instead.\n",
      "  _log_warning(\"'verbose_eval' argument is deprecated and will be removed in a future release of LightGBM. \"\n"
     ]
    },
    {
     "name": "stdout",
     "output_type": "stream",
     "text": [
      "[LightGBM] [Warning] Auto-choosing row-wise multi-threading, the overhead of testing was 0.206054 seconds.\n",
      "You can set `force_row_wise=true` to remove the overhead.\n",
      "And if memory is not enough, you can set `force_col_wise=true`.\n",
      "[LightGBM] [Info] Total Bins 1173\n",
      "[LightGBM] [Info] Number of data points in the train set: 2368278, number of used features: 104\n",
      "[LightGBM] [Info] Start training from score 326.506259\n",
      "Training until validation scores don't improve for 100 rounds\n",
      "[LightGBM] [Warning] No further splits with positive gain, best gain: -inf\n",
      "[100]\tvalid_0's l2: 162886\n",
      "[LightGBM] [Warning] No further splits with positive gain, best gain: -inf\n",
      "[200]\tvalid_0's l2: 130874\n",
      "[LightGBM] [Warning] No further splits with positive gain, best gain: -inf\n",
      "[300]\tvalid_0's l2: 126914\n",
      "[400]\tvalid_0's l2: 125439\n",
      "[LightGBM] [Warning] No further splits with positive gain, best gain: -inf\n",
      "[500]\tvalid_0's l2: 125372\n",
      "Early stopping, best iteration is:\n",
      "[430]\tvalid_0's l2: 125238\n",
      "| \u001b[0m 5       \u001b[0m | \u001b[0m-1.283   \u001b[0m | \u001b[0m 0.6447  \u001b[0m | \u001b[0m 0.5558  \u001b[0m | \u001b[0m 0.03629 \u001b[0m | \u001b[0m 55.65   \u001b[0m | \u001b[0m 4.604e+0\u001b[0m |\n"
     ]
    },
    {
     "name": "stderr",
     "output_type": "stream",
     "text": [
      "C:\\Users\\82104\\anaconda3\\lib\\site-packages\\lightgbm\\engine.py:181: UserWarning: 'early_stopping_rounds' argument is deprecated and will be removed in a future release of LightGBM. Pass 'early_stopping()' callback via 'callbacks' argument instead.\n",
      "  _log_warning(\"'early_stopping_rounds' argument is deprecated and will be removed in a future release of LightGBM. \"\n",
      "C:\\Users\\82104\\anaconda3\\lib\\site-packages\\lightgbm\\engine.py:239: UserWarning: 'verbose_eval' argument is deprecated and will be removed in a future release of LightGBM. Pass 'log_evaluation()' callback via 'callbacks' argument instead.\n",
      "  _log_warning(\"'verbose_eval' argument is deprecated and will be removed in a future release of LightGBM. \"\n"
     ]
    },
    {
     "name": "stdout",
     "output_type": "stream",
     "text": [
      "[LightGBM] [Warning] Auto-choosing row-wise multi-threading, the overhead of testing was 0.190853 seconds.\n",
      "You can set `force_row_wise=true` to remove the overhead.\n",
      "And if memory is not enough, you can set `force_col_wise=true`.\n",
      "[LightGBM] [Info] Total Bins 1173\n",
      "[LightGBM] [Info] Number of data points in the train set: 2368278, number of used features: 104\n",
      "[LightGBM] [Info] Start training from score 326.506259\n",
      "Training until validation scores don't improve for 100 rounds\n",
      "[100]\tvalid_0's l2: 151082\n",
      "[200]\tvalid_0's l2: 118873\n",
      "[300]\tvalid_0's l2: 109790\n",
      "[400]\tvalid_0's l2: 106004\n",
      "[500]\tvalid_0's l2: 103120\n",
      "[600]\tvalid_0's l2: 101706\n",
      "[700]\tvalid_0's l2: 100762\n",
      "[800]\tvalid_0's l2: 99808.7\n",
      "[900]\tvalid_0's l2: 99304.2\n",
      "[1000]\tvalid_0's l2: 99578.3\n",
      "Early stopping, best iteration is:\n",
      "[920]\tvalid_0's l2: 99238.1\n",
      "| \u001b[0m 6       \u001b[0m | \u001b[0m-1.296   \u001b[0m | \u001b[0m 0.7131  \u001b[0m | \u001b[0m 0.7836  \u001b[0m | \u001b[0m 0.03424 \u001b[0m | \u001b[0m 36.82   \u001b[0m | \u001b[0m 81.79   \u001b[0m |\n"
     ]
    },
    {
     "name": "stderr",
     "output_type": "stream",
     "text": [
      "C:\\Users\\82104\\anaconda3\\lib\\site-packages\\lightgbm\\engine.py:181: UserWarning: 'early_stopping_rounds' argument is deprecated and will be removed in a future release of LightGBM. Pass 'early_stopping()' callback via 'callbacks' argument instead.\n",
      "  _log_warning(\"'early_stopping_rounds' argument is deprecated and will be removed in a future release of LightGBM. \"\n",
      "C:\\Users\\82104\\anaconda3\\lib\\site-packages\\lightgbm\\engine.py:239: UserWarning: 'verbose_eval' argument is deprecated and will be removed in a future release of LightGBM. Pass 'log_evaluation()' callback via 'callbacks' argument instead.\n",
      "  _log_warning(\"'verbose_eval' argument is deprecated and will be removed in a future release of LightGBM. \"\n"
     ]
    },
    {
     "name": "stdout",
     "output_type": "stream",
     "text": [
      "[LightGBM] [Warning] Auto-choosing row-wise multi-threading, the overhead of testing was 0.150015 seconds.\n",
      "You can set `force_row_wise=true` to remove the overhead.\n",
      "And if memory is not enough, you can set `force_col_wise=true`.\n",
      "[LightGBM] [Info] Total Bins 1173\n",
      "[LightGBM] [Info] Number of data points in the train set: 2368278, number of used features: 104\n",
      "[LightGBM] [Info] Start training from score 326.506259\n",
      "Training until validation scores don't improve for 100 rounds\n",
      "[100]\tvalid_0's l2: 107972\n",
      "Early stopping, best iteration is:\n",
      "[66]\tvalid_0's l2: 106913\n",
      "| \u001b[0m 7       \u001b[0m | \u001b[0m-1.034   \u001b[0m | \u001b[0m 0.539   \u001b[0m | \u001b[0m 0.7842  \u001b[0m | \u001b[0m 0.09662 \u001b[0m | \u001b[0m 82.72   \u001b[0m | \u001b[0m 1e+04   \u001b[0m |\n"
     ]
    },
    {
     "name": "stderr",
     "output_type": "stream",
     "text": [
      "C:\\Users\\82104\\anaconda3\\lib\\site-packages\\lightgbm\\engine.py:181: UserWarning: 'early_stopping_rounds' argument is deprecated and will be removed in a future release of LightGBM. Pass 'early_stopping()' callback via 'callbacks' argument instead.\n",
      "  _log_warning(\"'early_stopping_rounds' argument is deprecated and will be removed in a future release of LightGBM. \"\n",
      "C:\\Users\\82104\\anaconda3\\lib\\site-packages\\lightgbm\\engine.py:239: UserWarning: 'verbose_eval' argument is deprecated and will be removed in a future release of LightGBM. Pass 'log_evaluation()' callback via 'callbacks' argument instead.\n",
      "  _log_warning(\"'verbose_eval' argument is deprecated and will be removed in a future release of LightGBM. \"\n"
     ]
    },
    {
     "name": "stdout",
     "output_type": "stream",
     "text": [
      "[LightGBM] [Warning] Auto-choosing row-wise multi-threading, the overhead of testing was 0.196941 seconds.\n",
      "You can set `force_row_wise=true` to remove the overhead.\n",
      "And if memory is not enough, you can set `force_col_wise=true`.\n",
      "[LightGBM] [Info] Total Bins 1173\n",
      "[LightGBM] [Info] Number of data points in the train set: 2368278, number of used features: 104\n",
      "[LightGBM] [Info] Start training from score 326.506259\n",
      "Training until validation scores don't improve for 100 rounds\n",
      "[100]\tvalid_0's l2: 135054\n",
      "[LightGBM] [Warning] No further splits with positive gain, best gain: -inf\n",
      "[200]\tvalid_0's l2: 126503\n",
      "[300]\tvalid_0's l2: 124315\n",
      "Early stopping, best iteration is:\n",
      "[286]\tvalid_0's l2: 124166\n",
      "| \u001b[0m 8       \u001b[0m | \u001b[0m-1.295   \u001b[0m | \u001b[0m 0.7381  \u001b[0m | \u001b[0m 0.5514  \u001b[0m | \u001b[0m 0.06149 \u001b[0m | \u001b[0m 67.65   \u001b[0m | \u001b[0m 1.626e+0\u001b[0m |\n"
     ]
    },
    {
     "name": "stderr",
     "output_type": "stream",
     "text": [
      "C:\\Users\\82104\\anaconda3\\lib\\site-packages\\lightgbm\\engine.py:181: UserWarning: 'early_stopping_rounds' argument is deprecated and will be removed in a future release of LightGBM. Pass 'early_stopping()' callback via 'callbacks' argument instead.\n",
      "  _log_warning(\"'early_stopping_rounds' argument is deprecated and will be removed in a future release of LightGBM. \"\n",
      "C:\\Users\\82104\\anaconda3\\lib\\site-packages\\lightgbm\\engine.py:239: UserWarning: 'verbose_eval' argument is deprecated and will be removed in a future release of LightGBM. Pass 'log_evaluation()' callback via 'callbacks' argument instead.\n",
      "  _log_warning(\"'verbose_eval' argument is deprecated and will be removed in a future release of LightGBM. \"\n"
     ]
    },
    {
     "name": "stdout",
     "output_type": "stream",
     "text": [
      "[LightGBM] [Warning] Auto-choosing row-wise multi-threading, the overhead of testing was 0.200139 seconds.\n",
      "You can set `force_row_wise=true` to remove the overhead.\n",
      "And if memory is not enough, you can set `force_col_wise=true`.\n",
      "[LightGBM] [Info] Total Bins 1173\n",
      "[LightGBM] [Info] Number of data points in the train set: 2368278, number of used features: 104\n",
      "[LightGBM] [Info] Start training from score 326.506259\n",
      "Training until validation scores don't improve for 100 rounds\n",
      "[100]\tvalid_0's l2: 103677\n",
      "Early stopping, best iteration is:\n",
      "[67]\tvalid_0's l2: 102844\n",
      "| \u001b[95m 9       \u001b[0m | \u001b[95m-0.988   \u001b[0m | \u001b[95m 0.5874  \u001b[0m | \u001b[95m 0.8972  \u001b[0m | \u001b[95m 0.09297 \u001b[0m | \u001b[95m 60.23   \u001b[0m | \u001b[95m 3.21e+03\u001b[0m |\n"
     ]
    },
    {
     "name": "stderr",
     "output_type": "stream",
     "text": [
      "C:\\Users\\82104\\anaconda3\\lib\\site-packages\\lightgbm\\engine.py:181: UserWarning: 'early_stopping_rounds' argument is deprecated and will be removed in a future release of LightGBM. Pass 'early_stopping()' callback via 'callbacks' argument instead.\n",
      "  _log_warning(\"'early_stopping_rounds' argument is deprecated and will be removed in a future release of LightGBM. \"\n",
      "C:\\Users\\82104\\anaconda3\\lib\\site-packages\\lightgbm\\engine.py:239: UserWarning: 'verbose_eval' argument is deprecated and will be removed in a future release of LightGBM. Pass 'log_evaluation()' callback via 'callbacks' argument instead.\n",
      "  _log_warning(\"'verbose_eval' argument is deprecated and will be removed in a future release of LightGBM. \"\n"
     ]
    },
    {
     "name": "stdout",
     "output_type": "stream",
     "text": [
      "[LightGBM] [Warning] Auto-choosing row-wise multi-threading, the overhead of testing was 0.202994 seconds.\n",
      "You can set `force_row_wise=true` to remove the overhead.\n",
      "And if memory is not enough, you can set `force_col_wise=true`.\n",
      "[LightGBM] [Info] Total Bins 1173\n",
      "[LightGBM] [Info] Number of data points in the train set: 2368278, number of used features: 104\n",
      "[LightGBM] [Info] Start training from score 326.506259\n",
      "Training until validation scores don't improve for 100 rounds\n",
      "[LightGBM] [Warning] No further splits with positive gain, best gain: -inf\n",
      "[100]\tvalid_0's l2: 157346\n",
      "[LightGBM] [Warning] No further splits with positive gain, best gain: -inf\n",
      "[200]\tvalid_0's l2: 131839\n",
      "[LightGBM] [Warning] No further splits with positive gain, best gain: -inf\n",
      "[LightGBM] [Warning] No further splits with positive gain, best gain: -inf\n",
      "[300]\tvalid_0's l2: 128204\n",
      "[400]\tvalid_0's l2: 127946\n",
      "[LightGBM] [Warning] No further splits with positive gain, best gain: -inf\n",
      "[500]\tvalid_0's l2: 128331\n",
      "Early stopping, best iteration is:\n",
      "[408]\tvalid_0's l2: 127902\n",
      "| \u001b[0m 10      \u001b[0m | \u001b[0m-1.296   \u001b[0m | \u001b[0m 0.723   \u001b[0m | \u001b[0m 0.5703  \u001b[0m | \u001b[0m 0.03851 \u001b[0m | \u001b[0m 48.82   \u001b[0m | \u001b[0m 7.281e+0\u001b[0m |\n"
     ]
    },
    {
     "name": "stderr",
     "output_type": "stream",
     "text": [
      "C:\\Users\\82104\\anaconda3\\lib\\site-packages\\lightgbm\\engine.py:181: UserWarning: 'early_stopping_rounds' argument is deprecated and will be removed in a future release of LightGBM. Pass 'early_stopping()' callback via 'callbacks' argument instead.\n",
      "  _log_warning(\"'early_stopping_rounds' argument is deprecated and will be removed in a future release of LightGBM. \"\n",
      "C:\\Users\\82104\\anaconda3\\lib\\site-packages\\lightgbm\\engine.py:239: UserWarning: 'verbose_eval' argument is deprecated and will be removed in a future release of LightGBM. Pass 'log_evaluation()' callback via 'callbacks' argument instead.\n",
      "  _log_warning(\"'verbose_eval' argument is deprecated and will be removed in a future release of LightGBM. \"\n"
     ]
    },
    {
     "name": "stdout",
     "output_type": "stream",
     "text": [
      "[LightGBM] [Warning] Auto-choosing row-wise multi-threading, the overhead of testing was 0.201792 seconds.\n",
      "You can set `force_row_wise=true` to remove the overhead.\n",
      "And if memory is not enough, you can set `force_col_wise=true`.\n",
      "[LightGBM] [Info] Total Bins 1173\n",
      "[LightGBM] [Info] Number of data points in the train set: 2368278, number of used features: 104\n",
      "[LightGBM] [Info] Start training from score 326.506259\n",
      "Training until validation scores don't improve for 100 rounds\n",
      "[100]\tvalid_0's l2: 132655\n",
      "[200]\tvalid_0's l2: 129882\n",
      "Early stopping, best iteration is:\n",
      "[172]\tvalid_0's l2: 129479\n",
      "| \u001b[0m 11      \u001b[0m | \u001b[0m-1.367   \u001b[0m | \u001b[0m 0.5965  \u001b[0m | \u001b[0m 0.6023  \u001b[0m | \u001b[0m 0.07617 \u001b[0m | \u001b[0m 71.7    \u001b[0m | \u001b[0m 7.997e+0\u001b[0m |\n"
     ]
    },
    {
     "name": "stderr",
     "output_type": "stream",
     "text": [
      "C:\\Users\\82104\\anaconda3\\lib\\site-packages\\lightgbm\\engine.py:181: UserWarning: 'early_stopping_rounds' argument is deprecated and will be removed in a future release of LightGBM. Pass 'early_stopping()' callback via 'callbacks' argument instead.\n",
      "  _log_warning(\"'early_stopping_rounds' argument is deprecated and will be removed in a future release of LightGBM. \"\n",
      "C:\\Users\\82104\\anaconda3\\lib\\site-packages\\lightgbm\\engine.py:239: UserWarning: 'verbose_eval' argument is deprecated and will be removed in a future release of LightGBM. Pass 'log_evaluation()' callback via 'callbacks' argument instead.\n",
      "  _log_warning(\"'verbose_eval' argument is deprecated and will be removed in a future release of LightGBM. \"\n"
     ]
    },
    {
     "name": "stdout",
     "output_type": "stream",
     "text": [
      "[LightGBM] [Warning] Auto-choosing row-wise multi-threading, the overhead of testing was 0.202492 seconds.\n",
      "You can set `force_row_wise=true` to remove the overhead.\n",
      "And if memory is not enough, you can set `force_col_wise=true`.\n",
      "[LightGBM] [Info] Total Bins 1173\n",
      "[LightGBM] [Info] Number of data points in the train set: 2368278, number of used features: 104\n",
      "[LightGBM] [Info] Start training from score 326.506259\n",
      "Training until validation scores don't improve for 100 rounds\n",
      "[100]\tvalid_0's l2: 105340\n",
      "[200]\tvalid_0's l2: 104513\n",
      "Early stopping, best iteration is:\n",
      "[155]\tvalid_0's l2: 103822\n",
      "| \u001b[0m 12      \u001b[0m | \u001b[0m-1.011   \u001b[0m | \u001b[0m 0.4302  \u001b[0m | \u001b[0m 0.8248  \u001b[0m | \u001b[0m 0.052   \u001b[0m | \u001b[0m 51.41   \u001b[0m | \u001b[0m 3.044e+0\u001b[0m |\n"
     ]
    },
    {
     "name": "stderr",
     "output_type": "stream",
     "text": [
      "C:\\Users\\82104\\anaconda3\\lib\\site-packages\\lightgbm\\engine.py:181: UserWarning: 'early_stopping_rounds' argument is deprecated and will be removed in a future release of LightGBM. Pass 'early_stopping()' callback via 'callbacks' argument instead.\n",
      "  _log_warning(\"'early_stopping_rounds' argument is deprecated and will be removed in a future release of LightGBM. \"\n",
      "C:\\Users\\82104\\anaconda3\\lib\\site-packages\\lightgbm\\engine.py:239: UserWarning: 'verbose_eval' argument is deprecated and will be removed in a future release of LightGBM. Pass 'log_evaluation()' callback via 'callbacks' argument instead.\n",
      "  _log_warning(\"'verbose_eval' argument is deprecated and will be removed in a future release of LightGBM. \"\n"
     ]
    },
    {
     "name": "stdout",
     "output_type": "stream",
     "text": [
      "[LightGBM] [Warning] Auto-choosing row-wise multi-threading, the overhead of testing was 0.199545 seconds.\n",
      "You can set `force_row_wise=true` to remove the overhead.\n",
      "And if memory is not enough, you can set `force_col_wise=true`.\n",
      "[LightGBM] [Info] Total Bins 1173\n",
      "[LightGBM] [Info] Number of data points in the train set: 2368278, number of used features: 104\n",
      "[LightGBM] [Info] Start training from score 326.506259\n",
      "Training until validation scores don't improve for 100 rounds\n",
      "[100]\tvalid_0's l2: 171050\n",
      "[200]\tvalid_0's l2: 126863\n",
      "[300]\tvalid_0's l2: 121642\n",
      "[400]\tvalid_0's l2: 119358\n",
      "[500]\tvalid_0's l2: 118837\n",
      "Early stopping, best iteration is:\n",
      "[477]\tvalid_0's l2: 118707\n",
      "| \u001b[0m 13      \u001b[0m | \u001b[0m-1.222   \u001b[0m | \u001b[0m 0.7328  \u001b[0m | \u001b[0m 0.633   \u001b[0m | \u001b[0m 0.02745 \u001b[0m | \u001b[0m 72.31   \u001b[0m | \u001b[0m 1.628e+0\u001b[0m |\n"
     ]
    },
    {
     "name": "stderr",
     "output_type": "stream",
     "text": [
      "C:\\Users\\82104\\anaconda3\\lib\\site-packages\\lightgbm\\engine.py:181: UserWarning: 'early_stopping_rounds' argument is deprecated and will be removed in a future release of LightGBM. Pass 'early_stopping()' callback via 'callbacks' argument instead.\n",
      "  _log_warning(\"'early_stopping_rounds' argument is deprecated and will be removed in a future release of LightGBM. \"\n",
      "C:\\Users\\82104\\anaconda3\\lib\\site-packages\\lightgbm\\engine.py:239: UserWarning: 'verbose_eval' argument is deprecated and will be removed in a future release of LightGBM. Pass 'log_evaluation()' callback via 'callbacks' argument instead.\n",
      "  _log_warning(\"'verbose_eval' argument is deprecated and will be removed in a future release of LightGBM. \"\n"
     ]
    },
    {
     "name": "stdout",
     "output_type": "stream",
     "text": [
      "[LightGBM] [Warning] Auto-choosing row-wise multi-threading, the overhead of testing was 0.186272 seconds.\n",
      "You can set `force_row_wise=true` to remove the overhead.\n",
      "And if memory is not enough, you can set `force_col_wise=true`.\n",
      "[LightGBM] [Info] Total Bins 1173\n",
      "[LightGBM] [Info] Number of data points in the train set: 2368278, number of used features: 104\n",
      "[LightGBM] [Info] Start training from score 326.506259\n",
      "Training until validation scores don't improve for 100 rounds\n",
      "[100]\tvalid_0's l2: 111161\n",
      "Early stopping, best iteration is:\n",
      "[81]\tvalid_0's l2: 110025\n",
      "| \u001b[0m 14      \u001b[0m | \u001b[0m-1.102   \u001b[0m | \u001b[0m 0.6913  \u001b[0m | \u001b[0m 0.767   \u001b[0m | \u001b[0m 0.09951 \u001b[0m | \u001b[0m 58.46   \u001b[0m | \u001b[0m 5.424e+0\u001b[0m |\n"
     ]
    },
    {
     "name": "stderr",
     "output_type": "stream",
     "text": [
      "C:\\Users\\82104\\anaconda3\\lib\\site-packages\\lightgbm\\engine.py:181: UserWarning: 'early_stopping_rounds' argument is deprecated and will be removed in a future release of LightGBM. Pass 'early_stopping()' callback via 'callbacks' argument instead.\n",
      "  _log_warning(\"'early_stopping_rounds' argument is deprecated and will be removed in a future release of LightGBM. \"\n",
      "C:\\Users\\82104\\anaconda3\\lib\\site-packages\\lightgbm\\engine.py:239: UserWarning: 'verbose_eval' argument is deprecated and will be removed in a future release of LightGBM. Pass 'log_evaluation()' callback via 'callbacks' argument instead.\n",
      "  _log_warning(\"'verbose_eval' argument is deprecated and will be removed in a future release of LightGBM. \"\n"
     ]
    },
    {
     "name": "stdout",
     "output_type": "stream",
     "text": [
      "[LightGBM] [Warning] Auto-choosing row-wise multi-threading, the overhead of testing was 0.180813 seconds.\n",
      "You can set `force_row_wise=true` to remove the overhead.\n",
      "And if memory is not enough, you can set `force_col_wise=true`.\n",
      "[LightGBM] [Info] Total Bins 1173\n",
      "[LightGBM] [Info] Number of data points in the train set: 2368278, number of used features: 104\n",
      "[LightGBM] [Info] Start training from score 326.506259\n",
      "Training until validation scores don't improve for 100 rounds\n",
      "[100]\tvalid_0's l2: 111310\n",
      "[200]\tvalid_0's l2: 104693\n",
      "[300]\tvalid_0's l2: 104750\n",
      "Early stopping, best iteration is:\n",
      "[258]\tvalid_0's l2: 104278\n",
      "| \u001b[0m 15      \u001b[0m | \u001b[0m-1.033   \u001b[0m | \u001b[0m 0.4534  \u001b[0m | \u001b[0m 0.7949  \u001b[0m | \u001b[0m 0.03712 \u001b[0m | \u001b[0m 43.27   \u001b[0m | \u001b[0m 2.33e+03\u001b[0m |\n"
     ]
    },
    {
     "name": "stderr",
     "output_type": "stream",
     "text": [
      "C:\\Users\\82104\\anaconda3\\lib\\site-packages\\lightgbm\\engine.py:181: UserWarning: 'early_stopping_rounds' argument is deprecated and will be removed in a future release of LightGBM. Pass 'early_stopping()' callback via 'callbacks' argument instead.\n",
      "  _log_warning(\"'early_stopping_rounds' argument is deprecated and will be removed in a future release of LightGBM. \"\n",
      "C:\\Users\\82104\\anaconda3\\lib\\site-packages\\lightgbm\\engine.py:239: UserWarning: 'verbose_eval' argument is deprecated and will be removed in a future release of LightGBM. Pass 'log_evaluation()' callback via 'callbacks' argument instead.\n",
      "  _log_warning(\"'verbose_eval' argument is deprecated and will be removed in a future release of LightGBM. \"\n"
     ]
    },
    {
     "name": "stdout",
     "output_type": "stream",
     "text": [
      "[LightGBM] [Warning] Auto-choosing row-wise multi-threading, the overhead of testing was 0.208393 seconds.\n",
      "You can set `force_row_wise=true` to remove the overhead.\n",
      "And if memory is not enough, you can set `force_col_wise=true`.\n",
      "[LightGBM] [Info] Total Bins 1173\n",
      "[LightGBM] [Info] Number of data points in the train set: 2368278, number of used features: 104\n",
      "[LightGBM] [Info] Start training from score 326.506259\n",
      "Training until validation scores don't improve for 100 rounds\n",
      "[100]\tvalid_0's l2: 246404\n",
      "[200]\tvalid_0's l2: 126748\n",
      "[300]\tvalid_0's l2: 111999\n",
      "[400]\tvalid_0's l2: 108260\n",
      "[500]\tvalid_0's l2: 107123\n",
      "[600]\tvalid_0's l2: 106962\n",
      "Early stopping, best iteration is:\n",
      "[556]\tvalid_0's l2: 106854\n",
      "| \u001b[0m 16      \u001b[0m | \u001b[0m-1.032   \u001b[0m | \u001b[0m 0.5086  \u001b[0m | \u001b[0m 0.7607  \u001b[0m | \u001b[0m 0.0156  \u001b[0m | \u001b[0m 82.3    \u001b[0m | \u001b[0m 9.596e+0\u001b[0m |\n"
     ]
    },
    {
     "name": "stderr",
     "output_type": "stream",
     "text": [
      "C:\\Users\\82104\\anaconda3\\lib\\site-packages\\lightgbm\\engine.py:181: UserWarning: 'early_stopping_rounds' argument is deprecated and will be removed in a future release of LightGBM. Pass 'early_stopping()' callback via 'callbacks' argument instead.\n",
      "  _log_warning(\"'early_stopping_rounds' argument is deprecated and will be removed in a future release of LightGBM. \"\n",
      "C:\\Users\\82104\\anaconda3\\lib\\site-packages\\lightgbm\\engine.py:239: UserWarning: 'verbose_eval' argument is deprecated and will be removed in a future release of LightGBM. Pass 'log_evaluation()' callback via 'callbacks' argument instead.\n",
      "  _log_warning(\"'verbose_eval' argument is deprecated and will be removed in a future release of LightGBM. \"\n"
     ]
    },
    {
     "name": "stdout",
     "output_type": "stream",
     "text": [
      "[LightGBM] [Warning] Auto-choosing row-wise multi-threading, the overhead of testing was 0.176132 seconds.\n",
      "You can set `force_row_wise=true` to remove the overhead.\n",
      "And if memory is not enough, you can set `force_col_wise=true`.\n",
      "[LightGBM] [Info] Total Bins 1173\n",
      "[LightGBM] [Info] Number of data points in the train set: 2368278, number of used features: 104\n",
      "[LightGBM] [Info] Start training from score 326.506259\n",
      "Training until validation scores don't improve for 100 rounds\n",
      "[LightGBM] [Warning] No further splits with positive gain, best gain: -inf\n",
      "[LightGBM] [Warning] No further splits with positive gain, best gain: -inf\n",
      "[100]\tvalid_0's l2: 187078\n",
      "[LightGBM] [Warning] No further splits with positive gain, best gain: -inf\n",
      "[200]\tvalid_0's l2: 137527\n",
      "[LightGBM] [Warning] No further splits with positive gain, best gain: -inf\n",
      "[LightGBM] [Warning] No further splits with positive gain, best gain: -inf\n",
      "[LightGBM] [Warning] No further splits with positive gain, best gain: -inf\n",
      "[300]\tvalid_0's l2: 131155\n",
      "[LightGBM] [Warning] No further splits with positive gain, best gain: -inf\n",
      "[LightGBM] [Warning] No further splits with positive gain, best gain: -inf\n",
      "[400]\tvalid_0's l2: 128937\n",
      "[LightGBM] [Warning] No further splits with positive gain, best gain: -inf\n",
      "[LightGBM] [Warning] No further splits with positive gain, best gain: -inf\n",
      "[500]\tvalid_0's l2: 128467\n",
      "[LightGBM] [Warning] No further splits with positive gain, best gain: -inf\n",
      "Early stopping, best iteration is:\n",
      "[494]\tvalid_0's l2: 128412\n",
      "| \u001b[0m 17      \u001b[0m | \u001b[0m-1.318   \u001b[0m | \u001b[0m 0.4655  \u001b[0m | \u001b[0m 0.5404  \u001b[0m | \u001b[0m 0.03141 \u001b[0m | \u001b[0m 93.86   \u001b[0m | \u001b[0m 7.968e+0\u001b[0m |\n"
     ]
    },
    {
     "name": "stderr",
     "output_type": "stream",
     "text": [
      "C:\\Users\\82104\\anaconda3\\lib\\site-packages\\lightgbm\\engine.py:181: UserWarning: 'early_stopping_rounds' argument is deprecated and will be removed in a future release of LightGBM. Pass 'early_stopping()' callback via 'callbacks' argument instead.\n",
      "  _log_warning(\"'early_stopping_rounds' argument is deprecated and will be removed in a future release of LightGBM. \"\n",
      "C:\\Users\\82104\\anaconda3\\lib\\site-packages\\lightgbm\\engine.py:239: UserWarning: 'verbose_eval' argument is deprecated and will be removed in a future release of LightGBM. Pass 'log_evaluation()' callback via 'callbacks' argument instead.\n",
      "  _log_warning(\"'verbose_eval' argument is deprecated and will be removed in a future release of LightGBM. \"\n"
     ]
    },
    {
     "name": "stdout",
     "output_type": "stream",
     "text": [
      "[LightGBM] [Warning] Auto-choosing row-wise multi-threading, the overhead of testing was 0.183035 seconds.\n",
      "You can set `force_row_wise=true` to remove the overhead.\n",
      "And if memory is not enough, you can set `force_col_wise=true`.\n",
      "[LightGBM] [Info] Total Bins 1173\n",
      "[LightGBM] [Info] Number of data points in the train set: 2368278, number of used features: 104\n",
      "[LightGBM] [Info] Start training from score 326.506259\n",
      "Training until validation scores don't improve for 100 rounds\n",
      "[100]\tvalid_0's l2: 128757\n",
      "[200]\tvalid_0's l2: 126356\n",
      "Early stopping, best iteration is:\n",
      "[143]\tvalid_0's l2: 125859\n",
      "| \u001b[0m 18      \u001b[0m | \u001b[0m-1.286   \u001b[0m | \u001b[0m 0.711   \u001b[0m | \u001b[0m 0.643   \u001b[0m | \u001b[0m 0.08539 \u001b[0m | \u001b[0m 95.43   \u001b[0m | \u001b[0m 1.698e+0\u001b[0m |\n"
     ]
    },
    {
     "name": "stderr",
     "output_type": "stream",
     "text": [
      "C:\\Users\\82104\\anaconda3\\lib\\site-packages\\lightgbm\\engine.py:181: UserWarning: 'early_stopping_rounds' argument is deprecated and will be removed in a future release of LightGBM. Pass 'early_stopping()' callback via 'callbacks' argument instead.\n",
      "  _log_warning(\"'early_stopping_rounds' argument is deprecated and will be removed in a future release of LightGBM. \"\n",
      "C:\\Users\\82104\\anaconda3\\lib\\site-packages\\lightgbm\\engine.py:239: UserWarning: 'verbose_eval' argument is deprecated and will be removed in a future release of LightGBM. Pass 'log_evaluation()' callback via 'callbacks' argument instead.\n",
      "  _log_warning(\"'verbose_eval' argument is deprecated and will be removed in a future release of LightGBM. \"\n"
     ]
    },
    {
     "name": "stdout",
     "output_type": "stream",
     "text": [
      "[LightGBM] [Warning] Auto-choosing row-wise multi-threading, the overhead of testing was 0.183452 seconds.\n",
      "You can set `force_row_wise=true` to remove the overhead.\n",
      "And if memory is not enough, you can set `force_col_wise=true`.\n",
      "[LightGBM] [Info] Total Bins 1173\n",
      "[LightGBM] [Info] Number of data points in the train set: 2368278, number of used features: 104\n",
      "[LightGBM] [Info] Start training from score 326.506259\n",
      "Training until validation scores don't improve for 100 rounds\n",
      "[100]\tvalid_0's l2: 124147\n",
      "Early stopping, best iteration is:\n",
      "[92]\tvalid_0's l2: 123751\n",
      "| \u001b[0m 19      \u001b[0m | \u001b[0m-1.276   \u001b[0m | \u001b[0m 0.6022  \u001b[0m | \u001b[0m 0.7047  \u001b[0m | \u001b[0m 0.08123 \u001b[0m | \u001b[0m 53.13   \u001b[0m | \u001b[0m 9.23e+03\u001b[0m |\n"
     ]
    },
    {
     "name": "stderr",
     "output_type": "stream",
     "text": [
      "C:\\Users\\82104\\anaconda3\\lib\\site-packages\\lightgbm\\engine.py:181: UserWarning: 'early_stopping_rounds' argument is deprecated and will be removed in a future release of LightGBM. Pass 'early_stopping()' callback via 'callbacks' argument instead.\n",
      "  _log_warning(\"'early_stopping_rounds' argument is deprecated and will be removed in a future release of LightGBM. \"\n",
      "C:\\Users\\82104\\anaconda3\\lib\\site-packages\\lightgbm\\engine.py:239: UserWarning: 'verbose_eval' argument is deprecated and will be removed in a future release of LightGBM. Pass 'log_evaluation()' callback via 'callbacks' argument instead.\n",
      "  _log_warning(\"'verbose_eval' argument is deprecated and will be removed in a future release of LightGBM. \"\n"
     ]
    },
    {
     "name": "stdout",
     "output_type": "stream",
     "text": [
      "[LightGBM] [Warning] Auto-choosing row-wise multi-threading, the overhead of testing was 0.144455 seconds.\n",
      "You can set `force_row_wise=true` to remove the overhead.\n",
      "And if memory is not enough, you can set `force_col_wise=true`.\n",
      "[LightGBM] [Info] Total Bins 1173\n",
      "[LightGBM] [Info] Number of data points in the train set: 2368278, number of used features: 104\n",
      "[LightGBM] [Info] Start training from score 326.506259\n",
      "Training until validation scores don't improve for 100 rounds\n",
      "[100]\tvalid_0's l2: 118550\n",
      "[200]\tvalid_0's l2: 112650\n",
      "[300]\tvalid_0's l2: 113898\n",
      "Early stopping, best iteration is:\n",
      "[204]\tvalid_0's l2: 112515\n",
      "| \u001b[0m 20      \u001b[0m | \u001b[0m-1.161   \u001b[0m | \u001b[0m 0.7456  \u001b[0m | \u001b[0m 0.7288  \u001b[0m | \u001b[0m 0.04746 \u001b[0m | \u001b[0m 42.83   \u001b[0m | \u001b[0m 2.872e+0\u001b[0m |\n"
     ]
    },
    {
     "name": "stderr",
     "output_type": "stream",
     "text": [
      "C:\\Users\\82104\\anaconda3\\lib\\site-packages\\lightgbm\\engine.py:181: UserWarning: 'early_stopping_rounds' argument is deprecated and will be removed in a future release of LightGBM. Pass 'early_stopping()' callback via 'callbacks' argument instead.\n",
      "  _log_warning(\"'early_stopping_rounds' argument is deprecated and will be removed in a future release of LightGBM. \"\n",
      "C:\\Users\\82104\\anaconda3\\lib\\site-packages\\lightgbm\\engine.py:239: UserWarning: 'verbose_eval' argument is deprecated and will be removed in a future release of LightGBM. Pass 'log_evaluation()' callback via 'callbacks' argument instead.\n",
      "  _log_warning(\"'verbose_eval' argument is deprecated and will be removed in a future release of LightGBM. \"\n"
     ]
    },
    {
     "name": "stdout",
     "output_type": "stream",
     "text": [
      "[LightGBM] [Warning] Auto-choosing row-wise multi-threading, the overhead of testing was 0.207711 seconds.\n",
      "You can set `force_row_wise=true` to remove the overhead.\n",
      "And if memory is not enough, you can set `force_col_wise=true`.\n",
      "[LightGBM] [Info] Total Bins 1173\n",
      "[LightGBM] [Info] Number of data points in the train set: 2368278, number of used features: 104\n",
      "[LightGBM] [Info] Start training from score 326.506259\n",
      "Training until validation scores don't improve for 100 rounds\n",
      "[100]\tvalid_0's l2: 107912\n",
      "[200]\tvalid_0's l2: 104405\n",
      "Early stopping, best iteration is:\n",
      "[188]\tvalid_0's l2: 104157\n",
      "| \u001b[95m 21      \u001b[0m | \u001b[95m-0.9846  \u001b[0m | \u001b[95m 0.6499  \u001b[0m | \u001b[95m 0.8052  \u001b[0m | \u001b[95m 0.04452 \u001b[0m | \u001b[95m 43.3    \u001b[0m | \u001b[95m 8.388e+0\u001b[0m |\n"
     ]
    },
    {
     "name": "stderr",
     "output_type": "stream",
     "text": [
      "C:\\Users\\82104\\anaconda3\\lib\\site-packages\\lightgbm\\engine.py:181: UserWarning: 'early_stopping_rounds' argument is deprecated and will be removed in a future release of LightGBM. Pass 'early_stopping()' callback via 'callbacks' argument instead.\n",
      "  _log_warning(\"'early_stopping_rounds' argument is deprecated and will be removed in a future release of LightGBM. \"\n",
      "C:\\Users\\82104\\anaconda3\\lib\\site-packages\\lightgbm\\engine.py:239: UserWarning: 'verbose_eval' argument is deprecated and will be removed in a future release of LightGBM. Pass 'log_evaluation()' callback via 'callbacks' argument instead.\n",
      "  _log_warning(\"'verbose_eval' argument is deprecated and will be removed in a future release of LightGBM. \"\n"
     ]
    },
    {
     "name": "stdout",
     "output_type": "stream",
     "text": [
      "[LightGBM] [Warning] Auto-choosing row-wise multi-threading, the overhead of testing was 0.198582 seconds.\n",
      "You can set `force_row_wise=true` to remove the overhead.\n",
      "And if memory is not enough, you can set `force_col_wise=true`.\n",
      "[LightGBM] [Info] Total Bins 1173\n",
      "[LightGBM] [Info] Number of data points in the train set: 2368278, number of used features: 104\n",
      "[LightGBM] [Info] Start training from score 326.506259\n",
      "Training until validation scores don't improve for 100 rounds\n",
      "[100]\tvalid_0's l2: 157387\n",
      "[LightGBM] [Warning] No further splits with positive gain, best gain: -inf\n",
      "[200]\tvalid_0's l2: 129838\n",
      "[300]\tvalid_0's l2: 126319\n",
      "[LightGBM] [Warning] No further splits with positive gain, best gain: -inf\n",
      "[400]\tvalid_0's l2: 124478\n",
      "[LightGBM] [Warning] No further splits with positive gain, best gain: -inf\n",
      "[500]\tvalid_0's l2: 124031\n",
      "[600]\tvalid_0's l2: 124191\n",
      "Early stopping, best iteration is:\n",
      "[536]\tvalid_0's l2: 123852\n",
      "| \u001b[0m 22      \u001b[0m | \u001b[0m-1.277   \u001b[0m | \u001b[0m 0.6265  \u001b[0m | \u001b[0m 0.5209  \u001b[0m | \u001b[0m 0.04277 \u001b[0m | \u001b[0m 41.43   \u001b[0m | \u001b[0m 1.617e+0\u001b[0m |\n"
     ]
    },
    {
     "name": "stderr",
     "output_type": "stream",
     "text": [
      "C:\\Users\\82104\\anaconda3\\lib\\site-packages\\lightgbm\\engine.py:181: UserWarning: 'early_stopping_rounds' argument is deprecated and will be removed in a future release of LightGBM. Pass 'early_stopping()' callback via 'callbacks' argument instead.\n",
      "  _log_warning(\"'early_stopping_rounds' argument is deprecated and will be removed in a future release of LightGBM. \"\n",
      "C:\\Users\\82104\\anaconda3\\lib\\site-packages\\lightgbm\\engine.py:239: UserWarning: 'verbose_eval' argument is deprecated and will be removed in a future release of LightGBM. Pass 'log_evaluation()' callback via 'callbacks' argument instead.\n",
      "  _log_warning(\"'verbose_eval' argument is deprecated and will be removed in a future release of LightGBM. \"\n"
     ]
    },
    {
     "name": "stdout",
     "output_type": "stream",
     "text": [
      "[LightGBM] [Warning] Auto-choosing row-wise multi-threading, the overhead of testing was 0.247989 seconds.\n",
      "You can set `force_row_wise=true` to remove the overhead.\n",
      "And if memory is not enough, you can set `force_col_wise=true`.\n",
      "[LightGBM] [Info] Total Bins 1173\n",
      "[LightGBM] [Info] Number of data points in the train set: 2368278, number of used features: 104\n",
      "[LightGBM] [Info] Start training from score 326.506259\n",
      "Training until validation scores don't improve for 100 rounds\n",
      "[100]\tvalid_0's l2: 106556\n",
      "Early stopping, best iteration is:\n",
      "[81]\tvalid_0's l2: 106139\n",
      "| \u001b[0m 23      \u001b[0m | \u001b[0m-1.031   \u001b[0m | \u001b[0m 0.6144  \u001b[0m | \u001b[0m 0.8207  \u001b[0m | \u001b[0m 0.08434 \u001b[0m | \u001b[0m 68.46   \u001b[0m | \u001b[0m 5.498e+0\u001b[0m |\n"
     ]
    },
    {
     "name": "stderr",
     "output_type": "stream",
     "text": [
      "C:\\Users\\82104\\anaconda3\\lib\\site-packages\\lightgbm\\engine.py:181: UserWarning: 'early_stopping_rounds' argument is deprecated and will be removed in a future release of LightGBM. Pass 'early_stopping()' callback via 'callbacks' argument instead.\n",
      "  _log_warning(\"'early_stopping_rounds' argument is deprecated and will be removed in a future release of LightGBM. \"\n",
      "C:\\Users\\82104\\anaconda3\\lib\\site-packages\\lightgbm\\engine.py:239: UserWarning: 'verbose_eval' argument is deprecated and will be removed in a future release of LightGBM. Pass 'log_evaluation()' callback via 'callbacks' argument instead.\n",
      "  _log_warning(\"'verbose_eval' argument is deprecated and will be removed in a future release of LightGBM. \"\n"
     ]
    },
    {
     "name": "stdout",
     "output_type": "stream",
     "text": [
      "[LightGBM] [Warning] Auto-choosing row-wise multi-threading, the overhead of testing was 0.221683 seconds.\n",
      "You can set `force_row_wise=true` to remove the overhead.\n",
      "And if memory is not enough, you can set `force_col_wise=true`.\n",
      "[LightGBM] [Info] Total Bins 1173\n",
      "[LightGBM] [Info] Number of data points in the train set: 2368278, number of used features: 104\n",
      "[LightGBM] [Info] Start training from score 326.506259\n",
      "Training until validation scores don't improve for 100 rounds\n",
      "[LightGBM] [Warning] No further splits with positive gain, best gain: -inf\n",
      "[100]\tvalid_0's l2: 247276\n",
      "[LightGBM] [Warning] No further splits with positive gain, best gain: -inf\n",
      "[200]\tvalid_0's l2: 147301\n",
      "[LightGBM] [Warning] No further splits with positive gain, best gain: -inf\n",
      "[300]\tvalid_0's l2: 131540\n",
      "[LightGBM] [Warning] No further splits with positive gain, best gain: -inf\n",
      "[400]\tvalid_0's l2: 127493\n",
      "[LightGBM] [Warning] No further splits with positive gain, best gain: -inf\n",
      "[500]\tvalid_0's l2: 125727\n",
      "[600]\tvalid_0's l2: 124956\n",
      "[700]\tvalid_0's l2: 124976\n",
      "[LightGBM] [Warning] No further splits with positive gain, best gain: -inf\n",
      "[LightGBM] [Warning] No further splits with positive gain, best gain: -inf\n",
      "[800]\tvalid_0's l2: 124880\n",
      "[LightGBM] [Warning] No further splits with positive gain, best gain: -inf\n",
      "Early stopping, best iteration is:\n",
      "[783]\tvalid_0's l2: 124819\n",
      "| \u001b[0m 24      \u001b[0m | \u001b[0m-1.254   \u001b[0m | \u001b[0m 0.4275  \u001b[0m | \u001b[0m 0.5277  \u001b[0m | \u001b[0m 0.02379 \u001b[0m | \u001b[0m 53.67   \u001b[0m | \u001b[0m 3.782e+0\u001b[0m |\n"
     ]
    },
    {
     "name": "stderr",
     "output_type": "stream",
     "text": [
      "C:\\Users\\82104\\anaconda3\\lib\\site-packages\\lightgbm\\engine.py:181: UserWarning: 'early_stopping_rounds' argument is deprecated and will be removed in a future release of LightGBM. Pass 'early_stopping()' callback via 'callbacks' argument instead.\n",
      "  _log_warning(\"'early_stopping_rounds' argument is deprecated and will be removed in a future release of LightGBM. \"\n",
      "C:\\Users\\82104\\anaconda3\\lib\\site-packages\\lightgbm\\engine.py:239: UserWarning: 'verbose_eval' argument is deprecated and will be removed in a future release of LightGBM. Pass 'log_evaluation()' callback via 'callbacks' argument instead.\n",
      "  _log_warning(\"'verbose_eval' argument is deprecated and will be removed in a future release of LightGBM. \"\n"
     ]
    },
    {
     "name": "stdout",
     "output_type": "stream",
     "text": [
      "[LightGBM] [Warning] Auto-choosing row-wise multi-threading, the overhead of testing was 0.204155 seconds.\n",
      "You can set `force_row_wise=true` to remove the overhead.\n",
      "And if memory is not enough, you can set `force_col_wise=true`.\n",
      "[LightGBM] [Info] Total Bins 1173\n",
      "[LightGBM] [Info] Number of data points in the train set: 2368278, number of used features: 104\n",
      "[LightGBM] [Info] Start training from score 326.506259\n",
      "Training until validation scores don't improve for 100 rounds\n",
      "[100]\tvalid_0's l2: 132233\n",
      "[200]\tvalid_0's l2: 124252\n",
      "[300]\tvalid_0's l2: 122548\n",
      "[400]\tvalid_0's l2: 122188\n",
      "Early stopping, best iteration is:\n",
      "[357]\tvalid_0's l2: 122112\n",
      "| \u001b[0m 25      \u001b[0m | \u001b[0m-1.259   \u001b[0m | \u001b[0m 0.5746  \u001b[0m | \u001b[0m 0.5604  \u001b[0m | \u001b[0m 0.06204 \u001b[0m | \u001b[0m 80.74   \u001b[0m | \u001b[0m 1.428e+0\u001b[0m |\n"
     ]
    },
    {
     "name": "stderr",
     "output_type": "stream",
     "text": [
      "C:\\Users\\82104\\anaconda3\\lib\\site-packages\\lightgbm\\engine.py:181: UserWarning: 'early_stopping_rounds' argument is deprecated and will be removed in a future release of LightGBM. Pass 'early_stopping()' callback via 'callbacks' argument instead.\n",
      "  _log_warning(\"'early_stopping_rounds' argument is deprecated and will be removed in a future release of LightGBM. \"\n",
      "C:\\Users\\82104\\anaconda3\\lib\\site-packages\\lightgbm\\engine.py:239: UserWarning: 'verbose_eval' argument is deprecated and will be removed in a future release of LightGBM. Pass 'log_evaluation()' callback via 'callbacks' argument instead.\n",
      "  _log_warning(\"'verbose_eval' argument is deprecated and will be removed in a future release of LightGBM. \"\n"
     ]
    },
    {
     "name": "stdout",
     "output_type": "stream",
     "text": [
      "[LightGBM] [Warning] Auto-choosing row-wise multi-threading, the overhead of testing was 0.187451 seconds.\n",
      "You can set `force_row_wise=true` to remove the overhead.\n",
      "And if memory is not enough, you can set `force_col_wise=true`.\n",
      "[LightGBM] [Info] Total Bins 1173\n",
      "[LightGBM] [Info] Number of data points in the train set: 2368278, number of used features: 104\n",
      "[LightGBM] [Info] Start training from score 326.506259\n",
      "Training until validation scores don't improve for 100 rounds\n",
      "[100]\tvalid_0's l2: 113809\n",
      "Early stopping, best iteration is:\n",
      "[81]\tvalid_0's l2: 113451\n",
      "| \u001b[0m 26      \u001b[0m | \u001b[0m-1.208   \u001b[0m | \u001b[0m 0.4944  \u001b[0m | \u001b[0m 0.7497  \u001b[0m | \u001b[0m 0.08654 \u001b[0m | \u001b[0m 89.63   \u001b[0m | \u001b[0m 8.123e+0\u001b[0m |\n"
     ]
    },
    {
     "name": "stderr",
     "output_type": "stream",
     "text": [
      "C:\\Users\\82104\\anaconda3\\lib\\site-packages\\lightgbm\\engine.py:181: UserWarning: 'early_stopping_rounds' argument is deprecated and will be removed in a future release of LightGBM. Pass 'early_stopping()' callback via 'callbacks' argument instead.\n",
      "  _log_warning(\"'early_stopping_rounds' argument is deprecated and will be removed in a future release of LightGBM. \"\n",
      "C:\\Users\\82104\\anaconda3\\lib\\site-packages\\lightgbm\\engine.py:239: UserWarning: 'verbose_eval' argument is deprecated and will be removed in a future release of LightGBM. Pass 'log_evaluation()' callback via 'callbacks' argument instead.\n",
      "  _log_warning(\"'verbose_eval' argument is deprecated and will be removed in a future release of LightGBM. \"\n"
     ]
    },
    {
     "name": "stdout",
     "output_type": "stream",
     "text": [
      "[LightGBM] [Warning] Auto-choosing row-wise multi-threading, the overhead of testing was 0.219274 seconds.\n",
      "You can set `force_row_wise=true` to remove the overhead.\n",
      "And if memory is not enough, you can set `force_col_wise=true`.\n",
      "[LightGBM] [Info] Total Bins 1173\n",
      "[LightGBM] [Info] Number of data points in the train set: 2368278, number of used features: 104\n",
      "[LightGBM] [Info] Start training from score 326.506259\n",
      "Training until validation scores don't improve for 100 rounds\n",
      "[100]\tvalid_0's l2: 103548\n",
      "[200]\tvalid_0's l2: 102068\n",
      "[300]\tvalid_0's l2: 101292\n",
      "[400]\tvalid_0's l2: 102777\n",
      "Early stopping, best iteration is:\n",
      "[305]\tvalid_0's l2: 101279\n",
      "| \u001b[0m 27      \u001b[0m | \u001b[0m-1.172   \u001b[0m | \u001b[0m 0.5726  \u001b[0m | \u001b[0m 0.834   \u001b[0m | \u001b[0m 0.0666  \u001b[0m | \u001b[0m 39.1    \u001b[0m | \u001b[0m 365.3   \u001b[0m |\n"
     ]
    },
    {
     "name": "stderr",
     "output_type": "stream",
     "text": [
      "C:\\Users\\82104\\anaconda3\\lib\\site-packages\\lightgbm\\engine.py:181: UserWarning: 'early_stopping_rounds' argument is deprecated and will be removed in a future release of LightGBM. Pass 'early_stopping()' callback via 'callbacks' argument instead.\n",
      "  _log_warning(\"'early_stopping_rounds' argument is deprecated and will be removed in a future release of LightGBM. \"\n",
      "C:\\Users\\82104\\anaconda3\\lib\\site-packages\\lightgbm\\engine.py:239: UserWarning: 'verbose_eval' argument is deprecated and will be removed in a future release of LightGBM. Pass 'log_evaluation()' callback via 'callbacks' argument instead.\n",
      "  _log_warning(\"'verbose_eval' argument is deprecated and will be removed in a future release of LightGBM. \"\n"
     ]
    },
    {
     "name": "stdout",
     "output_type": "stream",
     "text": [
      "[LightGBM] [Warning] Auto-choosing row-wise multi-threading, the overhead of testing was 0.209364 seconds.\n",
      "You can set `force_row_wise=true` to remove the overhead.\n",
      "And if memory is not enough, you can set `force_col_wise=true`.\n",
      "[LightGBM] [Info] Total Bins 1173\n",
      "[LightGBM] [Info] Number of data points in the train set: 2368278, number of used features: 104\n",
      "[LightGBM] [Info] Start training from score 326.506259\n",
      "Training until validation scores don't improve for 100 rounds\n",
      "[100]\tvalid_0's l2: 115490\n",
      "[200]\tvalid_0's l2: 100606\n",
      "[300]\tvalid_0's l2: 101680\n",
      "Early stopping, best iteration is:\n",
      "[204]\tvalid_0's l2: 100549\n",
      "| \u001b[95m 28      \u001b[0m | \u001b[95m-0.9371  \u001b[0m | \u001b[95m 0.5249  \u001b[0m | \u001b[95m 0.8784  \u001b[0m | \u001b[95m 0.02982 \u001b[0m | \u001b[95m 43.15   \u001b[0m | \u001b[95m 8.389e+0\u001b[0m |\n"
     ]
    },
    {
     "name": "stderr",
     "output_type": "stream",
     "text": [
      "C:\\Users\\82104\\anaconda3\\lib\\site-packages\\lightgbm\\engine.py:181: UserWarning: 'early_stopping_rounds' argument is deprecated and will be removed in a future release of LightGBM. Pass 'early_stopping()' callback via 'callbacks' argument instead.\n",
      "  _log_warning(\"'early_stopping_rounds' argument is deprecated and will be removed in a future release of LightGBM. \"\n",
      "C:\\Users\\82104\\anaconda3\\lib\\site-packages\\lightgbm\\engine.py:239: UserWarning: 'verbose_eval' argument is deprecated and will be removed in a future release of LightGBM. Pass 'log_evaluation()' callback via 'callbacks' argument instead.\n",
      "  _log_warning(\"'verbose_eval' argument is deprecated and will be removed in a future release of LightGBM. \"\n"
     ]
    },
    {
     "name": "stdout",
     "output_type": "stream",
     "text": [
      "[LightGBM] [Warning] Auto-choosing row-wise multi-threading, the overhead of testing was 0.208854 seconds.\n",
      "You can set `force_row_wise=true` to remove the overhead.\n",
      "And if memory is not enough, you can set `force_col_wise=true`.\n",
      "[LightGBM] [Info] Total Bins 1173\n",
      "[LightGBM] [Info] Number of data points in the train set: 2368278, number of used features: 104\n",
      "[LightGBM] [Info] Start training from score 326.506259\n",
      "Training until validation scores don't improve for 100 rounds\n",
      "[100]\tvalid_0's l2: 103767\n",
      "[200]\tvalid_0's l2: 100590\n",
      "Early stopping, best iteration is:\n",
      "[165]\tvalid_0's l2: 99938.2\n",
      "| \u001b[0m 29      \u001b[0m | \u001b[0m-1.026   \u001b[0m | \u001b[0m 0.6043  \u001b[0m | \u001b[0m 0.8356  \u001b[0m | \u001b[0m 0.04309 \u001b[0m | \u001b[0m 44.18   \u001b[0m | \u001b[0m 2.33e+03\u001b[0m |\n"
     ]
    },
    {
     "name": "stderr",
     "output_type": "stream",
     "text": [
      "C:\\Users\\82104\\anaconda3\\lib\\site-packages\\lightgbm\\engine.py:181: UserWarning: 'early_stopping_rounds' argument is deprecated and will be removed in a future release of LightGBM. Pass 'early_stopping()' callback via 'callbacks' argument instead.\n",
      "  _log_warning(\"'early_stopping_rounds' argument is deprecated and will be removed in a future release of LightGBM. \"\n",
      "C:\\Users\\82104\\anaconda3\\lib\\site-packages\\lightgbm\\engine.py:239: UserWarning: 'verbose_eval' argument is deprecated and will be removed in a future release of LightGBM. Pass 'log_evaluation()' callback via 'callbacks' argument instead.\n",
      "  _log_warning(\"'verbose_eval' argument is deprecated and will be removed in a future release of LightGBM. \"\n"
     ]
    },
    {
     "name": "stdout",
     "output_type": "stream",
     "text": [
      "[LightGBM] [Warning] Auto-choosing row-wise multi-threading, the overhead of testing was 0.205966 seconds.\n",
      "You can set `force_row_wise=true` to remove the overhead.\n",
      "And if memory is not enough, you can set `force_col_wise=true`.\n",
      "[LightGBM] [Info] Total Bins 1173\n",
      "[LightGBM] [Info] Number of data points in the train set: 2368278, number of used features: 104\n",
      "[LightGBM] [Info] Start training from score 326.506259\n",
      "Training until validation scores don't improve for 100 rounds\n",
      "[LightGBM] [Warning] No further splits with positive gain, best gain: -inf\n",
      "[100]\tvalid_0's l2: 135965\n",
      "[LightGBM] [Warning] No further splits with positive gain, best gain: -inf\n",
      "[200]\tvalid_0's l2: 132931\n",
      "[LightGBM] [Warning] No further splits with positive gain, best gain: -inf\n",
      "[300]\tvalid_0's l2: 133606\n",
      "Early stopping, best iteration is:\n",
      "[200]\tvalid_0's l2: 132931\n",
      "| \u001b[0m 30      \u001b[0m | \u001b[0m-1.35    \u001b[0m | \u001b[0m 0.6106  \u001b[0m | \u001b[0m 0.552   \u001b[0m | \u001b[0m 0.08449 \u001b[0m | \u001b[0m 59.92   \u001b[0m | \u001b[0m 3.21e+03\u001b[0m |\n"
     ]
    },
    {
     "name": "stderr",
     "output_type": "stream",
     "text": [
      "C:\\Users\\82104\\anaconda3\\lib\\site-packages\\lightgbm\\engine.py:181: UserWarning: 'early_stopping_rounds' argument is deprecated and will be removed in a future release of LightGBM. Pass 'early_stopping()' callback via 'callbacks' argument instead.\n",
      "  _log_warning(\"'early_stopping_rounds' argument is deprecated and will be removed in a future release of LightGBM. \"\n",
      "C:\\Users\\82104\\anaconda3\\lib\\site-packages\\lightgbm\\engine.py:239: UserWarning: 'verbose_eval' argument is deprecated and will be removed in a future release of LightGBM. Pass 'log_evaluation()' callback via 'callbacks' argument instead.\n",
      "  _log_warning(\"'verbose_eval' argument is deprecated and will be removed in a future release of LightGBM. \"\n"
     ]
    },
    {
     "name": "stdout",
     "output_type": "stream",
     "text": [
      "[LightGBM] [Warning] Auto-choosing row-wise multi-threading, the overhead of testing was 0.206167 seconds.\n",
      "You can set `force_row_wise=true` to remove the overhead.\n",
      "And if memory is not enough, you can set `force_col_wise=true`.\n",
      "[LightGBM] [Info] Total Bins 1173\n",
      "[LightGBM] [Info] Number of data points in the train set: 2368278, number of used features: 104\n",
      "[LightGBM] [Info] Start training from score 326.506259\n",
      "Training until validation scores don't improve for 100 rounds\n",
      "[100]\tvalid_0's l2: 113777\n",
      "[200]\tvalid_0's l2: 113690\n",
      "Early stopping, best iteration is:\n",
      "[144]\tvalid_0's l2: 112513\n",
      "| \u001b[0m 31      \u001b[0m | \u001b[0m-1.169   \u001b[0m | \u001b[0m 0.687   \u001b[0m | \u001b[0m 0.7513  \u001b[0m | \u001b[0m 0.05773 \u001b[0m | \u001b[0m 43.31   \u001b[0m | \u001b[0m 8.387e+0\u001b[0m |\n"
     ]
    },
    {
     "name": "stderr",
     "output_type": "stream",
     "text": [
      "C:\\Users\\82104\\anaconda3\\lib\\site-packages\\lightgbm\\engine.py:181: UserWarning: 'early_stopping_rounds' argument is deprecated and will be removed in a future release of LightGBM. Pass 'early_stopping()' callback via 'callbacks' argument instead.\n",
      "  _log_warning(\"'early_stopping_rounds' argument is deprecated and will be removed in a future release of LightGBM. \"\n",
      "C:\\Users\\82104\\anaconda3\\lib\\site-packages\\lightgbm\\engine.py:239: UserWarning: 'verbose_eval' argument is deprecated and will be removed in a future release of LightGBM. Pass 'log_evaluation()' callback via 'callbacks' argument instead.\n",
      "  _log_warning(\"'verbose_eval' argument is deprecated and will be removed in a future release of LightGBM. \"\n"
     ]
    },
    {
     "name": "stdout",
     "output_type": "stream",
     "text": [
      "[LightGBM] [Warning] Auto-choosing row-wise multi-threading, the overhead of testing was 0.203782 seconds.\n",
      "You can set `force_row_wise=true` to remove the overhead.\n",
      "And if memory is not enough, you can set `force_col_wise=true`.\n",
      "[LightGBM] [Info] Total Bins 1173\n",
      "[LightGBM] [Info] Number of data points in the train set: 2368278, number of used features: 104\n",
      "[LightGBM] [Info] Start training from score 326.506259\n",
      "Training until validation scores don't improve for 100 rounds\n",
      "[100]\tvalid_0's l2: 141613\n",
      "[200]\tvalid_0's l2: 126956\n",
      "[300]\tvalid_0's l2: 124726\n",
      "Early stopping, best iteration is:\n",
      "[286]\tvalid_0's l2: 124442\n",
      "| \u001b[0m 32      \u001b[0m | \u001b[0m-1.241   \u001b[0m | \u001b[0m 0.7987  \u001b[0m | \u001b[0m 0.6406  \u001b[0m | \u001b[0m 0.04076 \u001b[0m | \u001b[0m 45.74   \u001b[0m | \u001b[0m 1.884e+0\u001b[0m |\n"
     ]
    },
    {
     "name": "stderr",
     "output_type": "stream",
     "text": [
      "C:\\Users\\82104\\anaconda3\\lib\\site-packages\\lightgbm\\engine.py:181: UserWarning: 'early_stopping_rounds' argument is deprecated and will be removed in a future release of LightGBM. Pass 'early_stopping()' callback via 'callbacks' argument instead.\n",
      "  _log_warning(\"'early_stopping_rounds' argument is deprecated and will be removed in a future release of LightGBM. \"\n",
      "C:\\Users\\82104\\anaconda3\\lib\\site-packages\\lightgbm\\engine.py:239: UserWarning: 'verbose_eval' argument is deprecated and will be removed in a future release of LightGBM. Pass 'log_evaluation()' callback via 'callbacks' argument instead.\n",
      "  _log_warning(\"'verbose_eval' argument is deprecated and will be removed in a future release of LightGBM. \"\n"
     ]
    },
    {
     "name": "stdout",
     "output_type": "stream",
     "text": [
      "[LightGBM] [Warning] Auto-choosing row-wise multi-threading, the overhead of testing was 0.209187 seconds.\n",
      "You can set `force_row_wise=true` to remove the overhead.\n",
      "And if memory is not enough, you can set `force_col_wise=true`.\n",
      "[LightGBM] [Info] Total Bins 1173\n",
      "[LightGBM] [Info] Number of data points in the train set: 2368278, number of used features: 104\n",
      "[LightGBM] [Info] Start training from score 326.506259\n",
      "Training until validation scores don't improve for 100 rounds\n",
      "[100]\tvalid_0's l2: 125134\n",
      "[200]\tvalid_0's l2: 101678\n",
      "[300]\tvalid_0's l2: 100615\n",
      "[400]\tvalid_0's l2: 101615\n",
      "Early stopping, best iteration is:\n",
      "[305]\tvalid_0's l2: 100546\n",
      "| \u001b[0m 33      \u001b[0m | \u001b[0m-0.9761  \u001b[0m | \u001b[0m 0.7312  \u001b[0m | \u001b[0m 0.8548  \u001b[0m | \u001b[0m 0.02642 \u001b[0m | \u001b[0m 50.41   \u001b[0m | \u001b[0m 3.044e+0\u001b[0m |\n"
     ]
    },
    {
     "name": "stderr",
     "output_type": "stream",
     "text": [
      "C:\\Users\\82104\\anaconda3\\lib\\site-packages\\lightgbm\\engine.py:181: UserWarning: 'early_stopping_rounds' argument is deprecated and will be removed in a future release of LightGBM. Pass 'early_stopping()' callback via 'callbacks' argument instead.\n",
      "  _log_warning(\"'early_stopping_rounds' argument is deprecated and will be removed in a future release of LightGBM. \"\n",
      "C:\\Users\\82104\\anaconda3\\lib\\site-packages\\lightgbm\\engine.py:239: UserWarning: 'verbose_eval' argument is deprecated and will be removed in a future release of LightGBM. Pass 'log_evaluation()' callback via 'callbacks' argument instead.\n",
      "  _log_warning(\"'verbose_eval' argument is deprecated and will be removed in a future release of LightGBM. \"\n"
     ]
    },
    {
     "name": "stdout",
     "output_type": "stream",
     "text": [
      "[LightGBM] [Warning] Auto-choosing row-wise multi-threading, the overhead of testing was 0.207333 seconds.\n",
      "You can set `force_row_wise=true` to remove the overhead.\n",
      "And if memory is not enough, you can set `force_col_wise=true`.\n",
      "[LightGBM] [Info] Total Bins 1173\n",
      "[LightGBM] [Info] Number of data points in the train set: 2368278, number of used features: 104\n",
      "[LightGBM] [Info] Start training from score 326.506259\n",
      "Training until validation scores don't improve for 100 rounds\n",
      "[LightGBM] [Warning] No further splits with positive gain, best gain: -inf\n",
      "[LightGBM] [Warning] No further splits with positive gain, best gain: -inf\n",
      "[100]\tvalid_0's l2: 154096\n",
      "[LightGBM] [Warning] No further splits with positive gain, best gain: -inf\n",
      "[200]\tvalid_0's l2: 135670\n",
      "[LightGBM] [Warning] No further splits with positive gain, best gain: -inf\n",
      "[LightGBM] [Warning] No further splits with positive gain, best gain: -inf\n",
      "[300]\tvalid_0's l2: 132492\n",
      "[LightGBM] [Warning] No further splits with positive gain, best gain: -inf\n",
      "[400]\tvalid_0's l2: 131886\n",
      "[LightGBM] [Warning] No further splits with positive gain, best gain: -inf\n",
      "[500]\tvalid_0's l2: 132100\n",
      "Early stopping, best iteration is:\n",
      "[413]\tvalid_0's l2: 131791\n",
      "| \u001b[0m 34      \u001b[0m | \u001b[0m-1.324   \u001b[0m | \u001b[0m 0.5769  \u001b[0m | \u001b[0m 0.512   \u001b[0m | \u001b[0m 0.04982 \u001b[0m | \u001b[0m 67.99   \u001b[0m | \u001b[0m 5.498e+0\u001b[0m |\n"
     ]
    },
    {
     "name": "stderr",
     "output_type": "stream",
     "text": [
      "C:\\Users\\82104\\anaconda3\\lib\\site-packages\\lightgbm\\engine.py:181: UserWarning: 'early_stopping_rounds' argument is deprecated and will be removed in a future release of LightGBM. Pass 'early_stopping()' callback via 'callbacks' argument instead.\n",
      "  _log_warning(\"'early_stopping_rounds' argument is deprecated and will be removed in a future release of LightGBM. \"\n",
      "C:\\Users\\82104\\anaconda3\\lib\\site-packages\\lightgbm\\engine.py:239: UserWarning: 'verbose_eval' argument is deprecated and will be removed in a future release of LightGBM. Pass 'log_evaluation()' callback via 'callbacks' argument instead.\n",
      "  _log_warning(\"'verbose_eval' argument is deprecated and will be removed in a future release of LightGBM. \"\n"
     ]
    },
    {
     "name": "stdout",
     "output_type": "stream",
     "text": [
      "[LightGBM] [Warning] Auto-choosing row-wise multi-threading, the overhead of testing was 0.218501 seconds.\n",
      "You can set `force_row_wise=true` to remove the overhead.\n",
      "And if memory is not enough, you can set `force_col_wise=true`.\n",
      "[LightGBM] [Info] Total Bins 1173\n",
      "[LightGBM] [Info] Number of data points in the train set: 2368278, number of used features: 104\n",
      "[LightGBM] [Info] Start training from score 326.506259\n",
      "Training until validation scores don't improve for 100 rounds\n",
      "[100]\tvalid_0's l2: 107408\n",
      "[200]\tvalid_0's l2: 107455\n",
      "Early stopping, best iteration is:\n",
      "[147]\tvalid_0's l2: 106010\n",
      "| \u001b[0m 35      \u001b[0m | \u001b[0m-1.049   \u001b[0m | \u001b[0m 0.6036  \u001b[0m | \u001b[0m 0.7858  \u001b[0m | \u001b[0m 0.05597 \u001b[0m | \u001b[0m 51.12   \u001b[0m | \u001b[0m 3.042e+0\u001b[0m |\n"
     ]
    },
    {
     "name": "stderr",
     "output_type": "stream",
     "text": [
      "C:\\Users\\82104\\anaconda3\\lib\\site-packages\\lightgbm\\engine.py:181: UserWarning: 'early_stopping_rounds' argument is deprecated and will be removed in a future release of LightGBM. Pass 'early_stopping()' callback via 'callbacks' argument instead.\n",
      "  _log_warning(\"'early_stopping_rounds' argument is deprecated and will be removed in a future release of LightGBM. \"\n",
      "C:\\Users\\82104\\anaconda3\\lib\\site-packages\\lightgbm\\engine.py:239: UserWarning: 'verbose_eval' argument is deprecated and will be removed in a future release of LightGBM. Pass 'log_evaluation()' callback via 'callbacks' argument instead.\n",
      "  _log_warning(\"'verbose_eval' argument is deprecated and will be removed in a future release of LightGBM. \"\n"
     ]
    },
    {
     "name": "stdout",
     "output_type": "stream",
     "text": [
      "[LightGBM] [Warning] Auto-choosing row-wise multi-threading, the overhead of testing was 0.214463 seconds.\n",
      "You can set `force_row_wise=true` to remove the overhead.\n",
      "And if memory is not enough, you can set `force_col_wise=true`.\n",
      "[LightGBM] [Info] Total Bins 1173\n",
      "[LightGBM] [Info] Number of data points in the train set: 2368278, number of used features: 104\n",
      "[LightGBM] [Info] Start training from score 326.506259\n",
      "Training until validation scores don't improve for 100 rounds\n",
      "[LightGBM] [Warning] No further splits with positive gain, best gain: -inf\n",
      "[100]\tvalid_0's l2: 335677\n",
      "[LightGBM] [Warning] No further splits with positive gain, best gain: -inf\n",
      "[200]\tvalid_0's l2: 168968\n",
      "[LightGBM] [Warning] No further splits with positive gain, best gain: -inf\n",
      "[300]\tvalid_0's l2: 138033\n",
      "[400]\tvalid_0's l2: 128704\n",
      "[LightGBM] [Warning] No further splits with positive gain, best gain: -inf\n",
      "[500]\tvalid_0's l2: 125386\n",
      "[600]\tvalid_0's l2: 123541\n",
      "[LightGBM] [Warning] No further splits with positive gain, best gain: -inf\n",
      "[700]\tvalid_0's l2: 122760\n",
      "[LightGBM] [Warning] No further splits with positive gain, best gain: -inf\n",
      "[LightGBM] [Warning] No further splits with positive gain, best gain: -inf\n",
      "[800]\tvalid_0's l2: 122650\n",
      "[LightGBM] [Warning] No further splits with positive gain, best gain: -inf\n",
      "[LightGBM] [Warning] No further splits with positive gain, best gain: -inf\n",
      "[900]\tvalid_0's l2: 122386\n",
      "[LightGBM] [Warning] No further splits with positive gain, best gain: -inf\n",
      "[LightGBM] [Warning] No further splits with positive gain, best gain: -inf\n",
      "Early stopping, best iteration is:\n",
      "[891]\tvalid_0's l2: 122324\n",
      "| \u001b[0m 36      \u001b[0m | \u001b[0m-1.235   \u001b[0m | \u001b[0m 0.517   \u001b[0m | \u001b[0m 0.5768  \u001b[0m | \u001b[0m 0.01616 \u001b[0m | \u001b[0m 82.29   \u001b[0m | \u001b[0m 9.595e+0\u001b[0m |\n"
     ]
    },
    {
     "name": "stderr",
     "output_type": "stream",
     "text": [
      "C:\\Users\\82104\\anaconda3\\lib\\site-packages\\lightgbm\\engine.py:181: UserWarning: 'early_stopping_rounds' argument is deprecated and will be removed in a future release of LightGBM. Pass 'early_stopping()' callback via 'callbacks' argument instead.\n",
      "  _log_warning(\"'early_stopping_rounds' argument is deprecated and will be removed in a future release of LightGBM. \"\n",
      "C:\\Users\\82104\\anaconda3\\lib\\site-packages\\lightgbm\\engine.py:239: UserWarning: 'verbose_eval' argument is deprecated and will be removed in a future release of LightGBM. Pass 'log_evaluation()' callback via 'callbacks' argument instead.\n",
      "  _log_warning(\"'verbose_eval' argument is deprecated and will be removed in a future release of LightGBM. \"\n"
     ]
    },
    {
     "name": "stdout",
     "output_type": "stream",
     "text": [
      "[LightGBM] [Warning] Auto-choosing row-wise multi-threading, the overhead of testing was 0.190065 seconds.\n",
      "You can set `force_row_wise=true` to remove the overhead.\n",
      "And if memory is not enough, you can set `force_col_wise=true`.\n",
      "[LightGBM] [Info] Total Bins 1173\n",
      "[LightGBM] [Info] Number of data points in the train set: 2368278, number of used features: 104\n",
      "[LightGBM] [Info] Start training from score 326.506259\n",
      "Training until validation scores don't improve for 100 rounds\n",
      "[100]\tvalid_0's l2: 191766\n",
      "[200]\tvalid_0's l2: 109068\n",
      "[300]\tvalid_0's l2: 100678\n",
      "[400]\tvalid_0's l2: 99392.3\n",
      "[500]\tvalid_0's l2: 99329\n",
      "Early stopping, best iteration is:\n",
      "[457]\tvalid_0's l2: 99071\n",
      "| \u001b[0m 37      \u001b[0m | \u001b[0m-0.9912  \u001b[0m | \u001b[0m 0.5361  \u001b[0m | \u001b[0m 0.8419  \u001b[0m | \u001b[0m 0.01734 \u001b[0m | \u001b[0m 59.54   \u001b[0m | \u001b[0m 2.042e+0\u001b[0m |\n"
     ]
    },
    {
     "name": "stderr",
     "output_type": "stream",
     "text": [
      "C:\\Users\\82104\\anaconda3\\lib\\site-packages\\lightgbm\\engine.py:181: UserWarning: 'early_stopping_rounds' argument is deprecated and will be removed in a future release of LightGBM. Pass 'early_stopping()' callback via 'callbacks' argument instead.\n",
      "  _log_warning(\"'early_stopping_rounds' argument is deprecated and will be removed in a future release of LightGBM. \"\n",
      "C:\\Users\\82104\\anaconda3\\lib\\site-packages\\lightgbm\\engine.py:239: UserWarning: 'verbose_eval' argument is deprecated and will be removed in a future release of LightGBM. Pass 'log_evaluation()' callback via 'callbacks' argument instead.\n",
      "  _log_warning(\"'verbose_eval' argument is deprecated and will be removed in a future release of LightGBM. \"\n"
     ]
    },
    {
     "name": "stdout",
     "output_type": "stream",
     "text": [
      "[LightGBM] [Warning] Auto-choosing row-wise multi-threading, the overhead of testing was 0.200696 seconds.\n",
      "You can set `force_row_wise=true` to remove the overhead.\n",
      "And if memory is not enough, you can set `force_col_wise=true`.\n",
      "[LightGBM] [Info] Total Bins 1173\n",
      "[LightGBM] [Info] Number of data points in the train set: 2368278, number of used features: 104\n",
      "[LightGBM] [Info] Start training from score 326.506259\n",
      "Training until validation scores don't improve for 100 rounds\n",
      "[100]\tvalid_0's l2: 109975\n",
      "[200]\tvalid_0's l2: 110857\n",
      "Early stopping, best iteration is:\n",
      "[123]\tvalid_0's l2: 109515\n",
      "| \u001b[0m 38      \u001b[0m | \u001b[0m-1.145   \u001b[0m | \u001b[0m 0.5723  \u001b[0m | \u001b[0m 0.7817  \u001b[0m | \u001b[0m 0.09124 \u001b[0m | \u001b[0m 73.45   \u001b[0m | \u001b[0m 777.1   \u001b[0m |\n"
     ]
    },
    {
     "name": "stderr",
     "output_type": "stream",
     "text": [
      "C:\\Users\\82104\\anaconda3\\lib\\site-packages\\lightgbm\\engine.py:181: UserWarning: 'early_stopping_rounds' argument is deprecated and will be removed in a future release of LightGBM. Pass 'early_stopping()' callback via 'callbacks' argument instead.\n",
      "  _log_warning(\"'early_stopping_rounds' argument is deprecated and will be removed in a future release of LightGBM. \"\n",
      "C:\\Users\\82104\\anaconda3\\lib\\site-packages\\lightgbm\\engine.py:239: UserWarning: 'verbose_eval' argument is deprecated and will be removed in a future release of LightGBM. Pass 'log_evaluation()' callback via 'callbacks' argument instead.\n",
      "  _log_warning(\"'verbose_eval' argument is deprecated and will be removed in a future release of LightGBM. \"\n"
     ]
    },
    {
     "name": "stdout",
     "output_type": "stream",
     "text": [
      "[LightGBM] [Warning] Auto-choosing row-wise multi-threading, the overhead of testing was 0.211426 seconds.\n",
      "You can set `force_row_wise=true` to remove the overhead.\n",
      "And if memory is not enough, you can set `force_col_wise=true`.\n",
      "[LightGBM] [Info] Total Bins 1173\n",
      "[LightGBM] [Info] Number of data points in the train set: 2368278, number of used features: 104\n",
      "[LightGBM] [Info] Start training from score 326.506259\n",
      "Training until validation scores don't improve for 100 rounds\n",
      "[100]\tvalid_0's l2: 126618\n",
      "[200]\tvalid_0's l2: 125124\n",
      "Early stopping, best iteration is:\n",
      "[129]\tvalid_0's l2: 124682\n",
      "| \u001b[0m 39      \u001b[0m | \u001b[0m-1.334   \u001b[0m | \u001b[0m 0.7483  \u001b[0m | \u001b[0m 0.6118  \u001b[0m | \u001b[0m 0.0998  \u001b[0m | \u001b[0m 60.11   \u001b[0m | \u001b[0m 2.043e+0\u001b[0m |\n"
     ]
    },
    {
     "name": "stderr",
     "output_type": "stream",
     "text": [
      "C:\\Users\\82104\\anaconda3\\lib\\site-packages\\lightgbm\\engine.py:181: UserWarning: 'early_stopping_rounds' argument is deprecated and will be removed in a future release of LightGBM. Pass 'early_stopping()' callback via 'callbacks' argument instead.\n",
      "  _log_warning(\"'early_stopping_rounds' argument is deprecated and will be removed in a future release of LightGBM. \"\n",
      "C:\\Users\\82104\\anaconda3\\lib\\site-packages\\lightgbm\\engine.py:239: UserWarning: 'verbose_eval' argument is deprecated and will be removed in a future release of LightGBM. Pass 'log_evaluation()' callback via 'callbacks' argument instead.\n",
      "  _log_warning(\"'verbose_eval' argument is deprecated and will be removed in a future release of LightGBM. \"\n"
     ]
    },
    {
     "name": "stdout",
     "output_type": "stream",
     "text": [
      "[LightGBM] [Warning] Auto-choosing row-wise multi-threading, the overhead of testing was 0.217342 seconds.\n",
      "You can set `force_row_wise=true` to remove the overhead.\n",
      "And if memory is not enough, you can set `force_col_wise=true`.\n",
      "[LightGBM] [Info] Total Bins 1173\n",
      "[LightGBM] [Info] Number of data points in the train set: 2368278, number of used features: 104\n",
      "[LightGBM] [Info] Start training from score 326.506259\n",
      "Training until validation scores don't improve for 100 rounds\n",
      "[LightGBM] [Warning] No further splits with positive gain, best gain: -inf\n",
      "[LightGBM] [Warning] No further splits with positive gain, best gain: -inf\n",
      "[LightGBM] [Warning] No further splits with positive gain, best gain: -inf\n",
      "[100]\tvalid_0's l2: 329861\n",
      "[LightGBM] [Warning] No further splits with positive gain, best gain: -inf\n",
      "[200]\tvalid_0's l2: 170089\n",
      "[LightGBM] [Warning] No further splits with positive gain, best gain: -inf\n",
      "[LightGBM] [Warning] No further splits with positive gain, best gain: -inf\n",
      "[LightGBM] [Warning] No further splits with positive gain, best gain: -inf\n",
      "[LightGBM] [Warning] No further splits with positive gain, best gain: -inf\n",
      "[300]\tvalid_0's l2: 140473\n",
      "[LightGBM] [Warning] No further splits with positive gain, best gain: -inf\n",
      "[LightGBM] [Warning] No further splits with positive gain, best gain: -inf\n",
      "[400]\tvalid_0's l2: 131103\n",
      "[LightGBM] [Warning] No further splits with positive gain, best gain: -inf\n",
      "[LightGBM] [Warning] No further splits with positive gain, best gain: -inf\n",
      "[LightGBM] [Warning] No further splits with positive gain, best gain: -inf\n",
      "[LightGBM] [Warning] No further splits with positive gain, best gain: -inf\n",
      "[500]\tvalid_0's l2: 127895\n",
      "[LightGBM] [Warning] No further splits with positive gain, best gain: -inf\n",
      "[600]\tvalid_0's l2: 126308\n",
      "[LightGBM] [Warning] No further splits with positive gain, best gain: -inf\n",
      "[LightGBM] [Warning] No further splits with positive gain, best gain: -inf\n",
      "[LightGBM] [Warning] No further splits with positive gain, best gain: -inf\n",
      "[700]\tvalid_0's l2: 125388\n",
      "[LightGBM] [Warning] No further splits with positive gain, best gain: -inf\n",
      "[LightGBM] [Warning] No further splits with positive gain, best gain: -inf\n",
      "[LightGBM] [Warning] No further splits with positive gain, best gain: -inf\n",
      "[LightGBM] [Warning] No further splits with positive gain, best gain: -inf\n",
      "[800]\tvalid_0's l2: 125148\n",
      "[LightGBM] [Warning] No further splits with positive gain, best gain: -inf\n",
      "[LightGBM] [Warning] No further splits with positive gain, best gain: -inf\n",
      "Early stopping, best iteration is:\n",
      "[786]\tvalid_0's l2: 125055\n",
      "| \u001b[0m 40      \u001b[0m | \u001b[0m-1.293   \u001b[0m | \u001b[0m 0.5139  \u001b[0m | \u001b[0m 0.5195  \u001b[0m | \u001b[0m 0.01859 \u001b[0m | \u001b[0m 92.9    \u001b[0m | \u001b[0m 9.74e+03\u001b[0m |\n"
     ]
    },
    {
     "name": "stderr",
     "output_type": "stream",
     "text": [
      "C:\\Users\\82104\\anaconda3\\lib\\site-packages\\lightgbm\\engine.py:181: UserWarning: 'early_stopping_rounds' argument is deprecated and will be removed in a future release of LightGBM. Pass 'early_stopping()' callback via 'callbacks' argument instead.\n",
      "  _log_warning(\"'early_stopping_rounds' argument is deprecated and will be removed in a future release of LightGBM. \"\n",
      "C:\\Users\\82104\\anaconda3\\lib\\site-packages\\lightgbm\\engine.py:239: UserWarning: 'verbose_eval' argument is deprecated and will be removed in a future release of LightGBM. Pass 'log_evaluation()' callback via 'callbacks' argument instead.\n",
      "  _log_warning(\"'verbose_eval' argument is deprecated and will be removed in a future release of LightGBM. \"\n"
     ]
    },
    {
     "name": "stdout",
     "output_type": "stream",
     "text": [
      "[LightGBM] [Warning] Auto-choosing row-wise multi-threading, the overhead of testing was 0.219994 seconds.\n",
      "You can set `force_row_wise=true` to remove the overhead.\n",
      "And if memory is not enough, you can set `force_col_wise=true`.\n",
      "[LightGBM] [Info] Total Bins 1173\n",
      "[LightGBM] [Info] Number of data points in the train set: 2368278, number of used features: 104\n",
      "[LightGBM] [Info] Start training from score 326.506259\n",
      "Training until validation scores don't improve for 100 rounds\n",
      "[LightGBM] [Warning] No further splits with positive gain, best gain: -inf\n",
      "[LightGBM] [Warning] No further splits with positive gain, best gain: -inf\n",
      "[100]\tvalid_0's l2: 147824\n",
      "[LightGBM] [Warning] No further splits with positive gain, best gain: -inf\n",
      "[200]\tvalid_0's l2: 134194\n",
      "[LightGBM] [Warning] No further splits with positive gain, best gain: -inf\n",
      "[LightGBM] [Warning] No further splits with positive gain, best gain: -inf\n",
      "[LightGBM] [Warning] No further splits with positive gain, best gain: -inf\n",
      "[300]\tvalid_0's l2: 131412\n",
      "[400]\tvalid_0's l2: 131311\n",
      "Early stopping, best iteration is:\n",
      "[321]\tvalid_0's l2: 131235\n",
      "| \u001b[0m 41      \u001b[0m | \u001b[0m-1.329   \u001b[0m | \u001b[0m 0.5104  \u001b[0m | \u001b[0m 0.5521  \u001b[0m | \u001b[0m 0.04961 \u001b[0m | \u001b[0m 61.58   \u001b[0m | \u001b[0m 8.018e+0\u001b[0m |\n"
     ]
    },
    {
     "name": "stderr",
     "output_type": "stream",
     "text": [
      "C:\\Users\\82104\\anaconda3\\lib\\site-packages\\lightgbm\\engine.py:181: UserWarning: 'early_stopping_rounds' argument is deprecated and will be removed in a future release of LightGBM. Pass 'early_stopping()' callback via 'callbacks' argument instead.\n",
      "  _log_warning(\"'early_stopping_rounds' argument is deprecated and will be removed in a future release of LightGBM. \"\n",
      "C:\\Users\\82104\\anaconda3\\lib\\site-packages\\lightgbm\\engine.py:239: UserWarning: 'verbose_eval' argument is deprecated and will be removed in a future release of LightGBM. Pass 'log_evaluation()' callback via 'callbacks' argument instead.\n",
      "  _log_warning(\"'verbose_eval' argument is deprecated and will be removed in a future release of LightGBM. \"\n"
     ]
    },
    {
     "name": "stdout",
     "output_type": "stream",
     "text": [
      "[LightGBM] [Warning] Auto-choosing row-wise multi-threading, the overhead of testing was 0.197467 seconds.\n",
      "You can set `force_row_wise=true` to remove the overhead.\n",
      "And if memory is not enough, you can set `force_col_wise=true`.\n",
      "[LightGBM] [Info] Total Bins 1173\n",
      "[LightGBM] [Info] Number of data points in the train set: 2368278, number of used features: 104\n",
      "[LightGBM] [Info] Start training from score 326.506259\n",
      "Training until validation scores don't improve for 100 rounds\n",
      "[100]\tvalid_0's l2: 128610\n",
      "[LightGBM] [Warning] No further splits with positive gain, best gain: -inf\n",
      "[200]\tvalid_0's l2: 123493\n",
      "[300]\tvalid_0's l2: 124400\n",
      "Early stopping, best iteration is:\n",
      "[200]\tvalid_0's l2: 123493\n",
      "| \u001b[0m 42      \u001b[0m | \u001b[0m-1.321   \u001b[0m | \u001b[0m 0.6335  \u001b[0m | \u001b[0m 0.593   \u001b[0m | \u001b[0m 0.07352 \u001b[0m | \u001b[0m 43.99   \u001b[0m | \u001b[0m 2.331e+0\u001b[0m |\n"
     ]
    },
    {
     "name": "stderr",
     "output_type": "stream",
     "text": [
      "C:\\Users\\82104\\anaconda3\\lib\\site-packages\\lightgbm\\engine.py:181: UserWarning: 'early_stopping_rounds' argument is deprecated and will be removed in a future release of LightGBM. Pass 'early_stopping()' callback via 'callbacks' argument instead.\n",
      "  _log_warning(\"'early_stopping_rounds' argument is deprecated and will be removed in a future release of LightGBM. \"\n",
      "C:\\Users\\82104\\anaconda3\\lib\\site-packages\\lightgbm\\engine.py:239: UserWarning: 'verbose_eval' argument is deprecated and will be removed in a future release of LightGBM. Pass 'log_evaluation()' callback via 'callbacks' argument instead.\n",
      "  _log_warning(\"'verbose_eval' argument is deprecated and will be removed in a future release of LightGBM. \"\n"
     ]
    },
    {
     "name": "stdout",
     "output_type": "stream",
     "text": [
      "[LightGBM] [Warning] Auto-choosing row-wise multi-threading, the overhead of testing was 0.191360 seconds.\n",
      "You can set `force_row_wise=true` to remove the overhead.\n",
      "And if memory is not enough, you can set `force_col_wise=true`.\n",
      "[LightGBM] [Info] Total Bins 1173\n",
      "[LightGBM] [Info] Number of data points in the train set: 2368278, number of used features: 104\n",
      "[LightGBM] [Info] Start training from score 326.506259\n",
      "Training until validation scores don't improve for 100 rounds\n",
      "[100]\tvalid_0's l2: 137692\n",
      "[200]\tvalid_0's l2: 128095\n",
      "[300]\tvalid_0's l2: 127883\n",
      "Early stopping, best iteration is:\n",
      "[283]\tvalid_0's l2: 127459\n",
      "| \u001b[0m 43      \u001b[0m | \u001b[0m-1.286   \u001b[0m | \u001b[0m 0.7358  \u001b[0m | \u001b[0m 0.6232  \u001b[0m | \u001b[0m 0.04851 \u001b[0m | \u001b[0m 81.16   \u001b[0m | \u001b[0m 9.596e+0\u001b[0m |\n"
     ]
    },
    {
     "name": "stderr",
     "output_type": "stream",
     "text": [
      "C:\\Users\\82104\\anaconda3\\lib\\site-packages\\lightgbm\\engine.py:181: UserWarning: 'early_stopping_rounds' argument is deprecated and will be removed in a future release of LightGBM. Pass 'early_stopping()' callback via 'callbacks' argument instead.\n",
      "  _log_warning(\"'early_stopping_rounds' argument is deprecated and will be removed in a future release of LightGBM. \"\n",
      "C:\\Users\\82104\\anaconda3\\lib\\site-packages\\lightgbm\\engine.py:239: UserWarning: 'verbose_eval' argument is deprecated and will be removed in a future release of LightGBM. Pass 'log_evaluation()' callback via 'callbacks' argument instead.\n",
      "  _log_warning(\"'verbose_eval' argument is deprecated and will be removed in a future release of LightGBM. \"\n"
     ]
    },
    {
     "name": "stdout",
     "output_type": "stream",
     "text": [
      "[LightGBM] [Warning] Auto-choosing row-wise multi-threading, the overhead of testing was 0.221570 seconds.\n",
      "You can set `force_row_wise=true` to remove the overhead.\n",
      "And if memory is not enough, you can set `force_col_wise=true`.\n",
      "[LightGBM] [Info] Total Bins 1173\n",
      "[LightGBM] [Info] Number of data points in the train set: 2368278, number of used features: 104\n",
      "[LightGBM] [Info] Start training from score 326.506259\n",
      "Training until validation scores don't improve for 100 rounds\n",
      "[100]\tvalid_0's l2: 103100\n",
      "[200]\tvalid_0's l2: 104560\n",
      "Early stopping, best iteration is:\n",
      "[127]\tvalid_0's l2: 102357\n",
      "| \u001b[0m 44      \u001b[0m | \u001b[0m-0.9809  \u001b[0m | \u001b[0m 0.5125  \u001b[0m | \u001b[0m 0.8497  \u001b[0m | \u001b[0m 0.05779 \u001b[0m | \u001b[0m 64.6    \u001b[0m | \u001b[0m 9.596e+0\u001b[0m |\n"
     ]
    },
    {
     "name": "stderr",
     "output_type": "stream",
     "text": [
      "C:\\Users\\82104\\anaconda3\\lib\\site-packages\\lightgbm\\engine.py:181: UserWarning: 'early_stopping_rounds' argument is deprecated and will be removed in a future release of LightGBM. Pass 'early_stopping()' callback via 'callbacks' argument instead.\n",
      "  _log_warning(\"'early_stopping_rounds' argument is deprecated and will be removed in a future release of LightGBM. \"\n",
      "C:\\Users\\82104\\anaconda3\\lib\\site-packages\\lightgbm\\engine.py:239: UserWarning: 'verbose_eval' argument is deprecated and will be removed in a future release of LightGBM. Pass 'log_evaluation()' callback via 'callbacks' argument instead.\n",
      "  _log_warning(\"'verbose_eval' argument is deprecated and will be removed in a future release of LightGBM. \"\n"
     ]
    },
    {
     "name": "stdout",
     "output_type": "stream",
     "text": [
      "[LightGBM] [Warning] Auto-choosing row-wise multi-threading, the overhead of testing was 0.229827 seconds.\n",
      "You can set `force_row_wise=true` to remove the overhead.\n",
      "And if memory is not enough, you can set `force_col_wise=true`.\n",
      "[LightGBM] [Info] Total Bins 1173\n",
      "[LightGBM] [Info] Number of data points in the train set: 2368278, number of used features: 104\n",
      "[LightGBM] [Info] Start training from score 326.506259\n",
      "Training until validation scores don't improve for 100 rounds\n",
      "[100]\tvalid_0's l2: 117666\n",
      "[200]\tvalid_0's l2: 103872\n",
      "[300]\tvalid_0's l2: 102191\n",
      "[400]\tvalid_0's l2: 101776\n",
      "[500]\tvalid_0's l2: 101502\n",
      "Early stopping, best iteration is:\n",
      "[462]\tvalid_0's l2: 101221\n",
      "| \u001b[0m 45      \u001b[0m | \u001b[0m-1.107   \u001b[0m | \u001b[0m 0.7682  \u001b[0m | \u001b[0m 0.8213  \u001b[0m | \u001b[0m 0.03303 \u001b[0m | \u001b[0m 73.75   \u001b[0m | \u001b[0m 776.8   \u001b[0m |\n"
     ]
    },
    {
     "name": "stderr",
     "output_type": "stream",
     "text": [
      "C:\\Users\\82104\\anaconda3\\lib\\site-packages\\lightgbm\\engine.py:181: UserWarning: 'early_stopping_rounds' argument is deprecated and will be removed in a future release of LightGBM. Pass 'early_stopping()' callback via 'callbacks' argument instead.\n",
      "  _log_warning(\"'early_stopping_rounds' argument is deprecated and will be removed in a future release of LightGBM. \"\n",
      "C:\\Users\\82104\\anaconda3\\lib\\site-packages\\lightgbm\\engine.py:239: UserWarning: 'verbose_eval' argument is deprecated and will be removed in a future release of LightGBM. Pass 'log_evaluation()' callback via 'callbacks' argument instead.\n",
      "  _log_warning(\"'verbose_eval' argument is deprecated and will be removed in a future release of LightGBM. \"\n"
     ]
    },
    {
     "name": "stdout",
     "output_type": "stream",
     "text": [
      "[LightGBM] [Warning] Auto-choosing row-wise multi-threading, the overhead of testing was 0.198064 seconds.\n",
      "You can set `force_row_wise=true` to remove the overhead.\n",
      "And if memory is not enough, you can set `force_col_wise=true`.\n",
      "[LightGBM] [Info] Total Bins 1173\n",
      "[LightGBM] [Info] Number of data points in the train set: 2368278, number of used features: 104\n",
      "[LightGBM] [Info] Start training from score 326.506259\n",
      "Training until validation scores don't improve for 100 rounds\n",
      "[100]\tvalid_0's l2: 102354\n",
      "Early stopping, best iteration is:\n",
      "[81]\tvalid_0's l2: 101921\n",
      "| \u001b[0m 46      \u001b[0m | \u001b[0m-1.004   \u001b[0m | \u001b[0m 0.4348  \u001b[0m | \u001b[0m 0.8525  \u001b[0m | \u001b[0m 0.08464 \u001b[0m | \u001b[0m 95.83   \u001b[0m | \u001b[0m 5.109e+0\u001b[0m |\n"
     ]
    },
    {
     "name": "stderr",
     "output_type": "stream",
     "text": [
      "C:\\Users\\82104\\anaconda3\\lib\\site-packages\\lightgbm\\engine.py:181: UserWarning: 'early_stopping_rounds' argument is deprecated and will be removed in a future release of LightGBM. Pass 'early_stopping()' callback via 'callbacks' argument instead.\n",
      "  _log_warning(\"'early_stopping_rounds' argument is deprecated and will be removed in a future release of LightGBM. \"\n",
      "C:\\Users\\82104\\anaconda3\\lib\\site-packages\\lightgbm\\engine.py:239: UserWarning: 'verbose_eval' argument is deprecated and will be removed in a future release of LightGBM. Pass 'log_evaluation()' callback via 'callbacks' argument instead.\n",
      "  _log_warning(\"'verbose_eval' argument is deprecated and will be removed in a future release of LightGBM. \"\n"
     ]
    },
    {
     "name": "stdout",
     "output_type": "stream",
     "text": [
      "[LightGBM] [Warning] Auto-choosing row-wise multi-threading, the overhead of testing was 0.191800 seconds.\n",
      "You can set `force_row_wise=true` to remove the overhead.\n",
      "And if memory is not enough, you can set `force_col_wise=true`.\n",
      "[LightGBM] [Info] Total Bins 1173\n",
      "[LightGBM] [Info] Number of data points in the train set: 2368278, number of used features: 104\n",
      "[LightGBM] [Info] Start training from score 326.506259\n",
      "Training until validation scores don't improve for 100 rounds\n",
      "[100]\tvalid_0's l2: 145786\n",
      "[200]\tvalid_0's l2: 125139\n",
      "[300]\tvalid_0's l2: 122577\n",
      "[400]\tvalid_0's l2: 121367\n",
      "[LightGBM] [Warning] No further splits with positive gain, best gain: -inf\n",
      "[500]\tvalid_0's l2: 121588\n",
      "Early stopping, best iteration is:\n",
      "[406]\tvalid_0's l2: 121323\n",
      "| \u001b[0m 47      \u001b[0m | \u001b[0m-1.271   \u001b[0m | \u001b[0m 0.4935  \u001b[0m | \u001b[0m 0.566   \u001b[0m | \u001b[0m 0.04205 \u001b[0m | \u001b[0m 71.06   \u001b[0m | \u001b[0m 1.628e+0\u001b[0m |\n"
     ]
    },
    {
     "name": "stderr",
     "output_type": "stream",
     "text": [
      "C:\\Users\\82104\\anaconda3\\lib\\site-packages\\lightgbm\\engine.py:181: UserWarning: 'early_stopping_rounds' argument is deprecated and will be removed in a future release of LightGBM. Pass 'early_stopping()' callback via 'callbacks' argument instead.\n",
      "  _log_warning(\"'early_stopping_rounds' argument is deprecated and will be removed in a future release of LightGBM. \"\n",
      "C:\\Users\\82104\\anaconda3\\lib\\site-packages\\lightgbm\\engine.py:239: UserWarning: 'verbose_eval' argument is deprecated and will be removed in a future release of LightGBM. Pass 'log_evaluation()' callback via 'callbacks' argument instead.\n",
      "  _log_warning(\"'verbose_eval' argument is deprecated and will be removed in a future release of LightGBM. \"\n"
     ]
    },
    {
     "name": "stdout",
     "output_type": "stream",
     "text": [
      "[LightGBM] [Warning] Auto-choosing row-wise multi-threading, the overhead of testing was 0.209164 seconds.\n",
      "You can set `force_row_wise=true` to remove the overhead.\n",
      "And if memory is not enough, you can set `force_col_wise=true`.\n",
      "[LightGBM] [Info] Total Bins 1173\n",
      "[LightGBM] [Info] Number of data points in the train set: 2368278, number of used features: 104\n",
      "[LightGBM] [Info] Start training from score 326.506259\n",
      "Training until validation scores don't improve for 100 rounds\n",
      "[100]\tvalid_0's l2: 112970\n",
      "Early stopping, best iteration is:\n",
      "[92]\tvalid_0's l2: 112689\n",
      "| \u001b[0m 48      \u001b[0m | \u001b[0m-1.223   \u001b[0m | \u001b[0m 0.4588  \u001b[0m | \u001b[0m 0.7407  \u001b[0m | \u001b[0m 0.08742 \u001b[0m | \u001b[0m 78.16   \u001b[0m | \u001b[0m 9.023e+0\u001b[0m |\n"
     ]
    },
    {
     "name": "stderr",
     "output_type": "stream",
     "text": [
      "C:\\Users\\82104\\anaconda3\\lib\\site-packages\\lightgbm\\engine.py:181: UserWarning: 'early_stopping_rounds' argument is deprecated and will be removed in a future release of LightGBM. Pass 'early_stopping()' callback via 'callbacks' argument instead.\n",
      "  _log_warning(\"'early_stopping_rounds' argument is deprecated and will be removed in a future release of LightGBM. \"\n",
      "C:\\Users\\82104\\anaconda3\\lib\\site-packages\\lightgbm\\engine.py:239: UserWarning: 'verbose_eval' argument is deprecated and will be removed in a future release of LightGBM. Pass 'log_evaluation()' callback via 'callbacks' argument instead.\n",
      "  _log_warning(\"'verbose_eval' argument is deprecated and will be removed in a future release of LightGBM. \"\n"
     ]
    },
    {
     "name": "stdout",
     "output_type": "stream",
     "text": [
      "[LightGBM] [Warning] Auto-choosing row-wise multi-threading, the overhead of testing was 0.207527 seconds.\n",
      "You can set `force_row_wise=true` to remove the overhead.\n",
      "And if memory is not enough, you can set `force_col_wise=true`.\n",
      "[LightGBM] [Info] Total Bins 1173\n",
      "[LightGBM] [Info] Number of data points in the train set: 2368278, number of used features: 104\n",
      "[LightGBM] [Info] Start training from score 326.506259\n",
      "Training until validation scores don't improve for 100 rounds\n",
      "[100]\tvalid_0's l2: 133761\n",
      "[200]\tvalid_0's l2: 108529\n",
      "[300]\tvalid_0's l2: 105216\n",
      "[400]\tvalid_0's l2: 105036\n",
      "Early stopping, best iteration is:\n",
      "[319]\tvalid_0's l2: 104833\n",
      "| \u001b[0m 49      \u001b[0m | \u001b[0m-1.187   \u001b[0m | \u001b[0m 0.6211  \u001b[0m | \u001b[0m 0.766   \u001b[0m | \u001b[0m 0.02996 \u001b[0m | \u001b[0m 65.63   \u001b[0m | \u001b[0m 513.8   \u001b[0m |\n"
     ]
    },
    {
     "name": "stderr",
     "output_type": "stream",
     "text": [
      "C:\\Users\\82104\\anaconda3\\lib\\site-packages\\lightgbm\\engine.py:181: UserWarning: 'early_stopping_rounds' argument is deprecated and will be removed in a future release of LightGBM. Pass 'early_stopping()' callback via 'callbacks' argument instead.\n",
      "  _log_warning(\"'early_stopping_rounds' argument is deprecated and will be removed in a future release of LightGBM. \"\n",
      "C:\\Users\\82104\\anaconda3\\lib\\site-packages\\lightgbm\\engine.py:239: UserWarning: 'verbose_eval' argument is deprecated and will be removed in a future release of LightGBM. Pass 'log_evaluation()' callback via 'callbacks' argument instead.\n",
      "  _log_warning(\"'verbose_eval' argument is deprecated and will be removed in a future release of LightGBM. \"\n"
     ]
    },
    {
     "name": "stdout",
     "output_type": "stream",
     "text": [
      "[LightGBM] [Warning] Auto-choosing row-wise multi-threading, the overhead of testing was 0.182709 seconds.\n",
      "You can set `force_row_wise=true` to remove the overhead.\n",
      "And if memory is not enough, you can set `force_col_wise=true`.\n",
      "[LightGBM] [Info] Total Bins 1173\n",
      "[LightGBM] [Info] Number of data points in the train set: 2368278, number of used features: 104\n",
      "[LightGBM] [Info] Start training from score 326.506259\n",
      "Training until validation scores don't improve for 100 rounds\n",
      "[100]\tvalid_0's l2: 135117\n",
      "[200]\tvalid_0's l2: 104433\n",
      "[300]\tvalid_0's l2: 102647\n",
      "[400]\tvalid_0's l2: 103541\n",
      "Early stopping, best iteration is:\n",
      "[332]\tvalid_0's l2: 102508\n",
      "| \u001b[0m 50      \u001b[0m | \u001b[0m-0.9953  \u001b[0m | \u001b[0m 0.5906  \u001b[0m | \u001b[0m 0.8068  \u001b[0m | \u001b[0m 0.02525 \u001b[0m | \u001b[0m 86.71   \u001b[0m | \u001b[0m 5.821e+0\u001b[0m |\n"
     ]
    },
    {
     "name": "stderr",
     "output_type": "stream",
     "text": [
      "C:\\Users\\82104\\anaconda3\\lib\\site-packages\\lightgbm\\engine.py:181: UserWarning: 'early_stopping_rounds' argument is deprecated and will be removed in a future release of LightGBM. Pass 'early_stopping()' callback via 'callbacks' argument instead.\n",
      "  _log_warning(\"'early_stopping_rounds' argument is deprecated and will be removed in a future release of LightGBM. \"\n",
      "C:\\Users\\82104\\anaconda3\\lib\\site-packages\\lightgbm\\engine.py:239: UserWarning: 'verbose_eval' argument is deprecated and will be removed in a future release of LightGBM. Pass 'log_evaluation()' callback via 'callbacks' argument instead.\n",
      "  _log_warning(\"'verbose_eval' argument is deprecated and will be removed in a future release of LightGBM. \"\n"
     ]
    },
    {
     "name": "stdout",
     "output_type": "stream",
     "text": [
      "[LightGBM] [Warning] Auto-choosing row-wise multi-threading, the overhead of testing was 0.187454 seconds.\n",
      "You can set `force_row_wise=true` to remove the overhead.\n",
      "And if memory is not enough, you can set `force_col_wise=true`.\n",
      "[LightGBM] [Info] Total Bins 1173\n",
      "[LightGBM] [Info] Number of data points in the train set: 2368278, number of used features: 104\n",
      "[LightGBM] [Info] Start training from score 326.506259\n",
      "Training until validation scores don't improve for 100 rounds\n",
      "[100]\tvalid_0's l2: 186103\n",
      "[200]\tvalid_0's l2: 128203\n",
      "[300]\tvalid_0's l2: 121339\n",
      "[400]\tvalid_0's l2: 118967\n",
      "[500]\tvalid_0's l2: 118224\n",
      "[600]\tvalid_0's l2: 118223\n",
      "Early stopping, best iteration is:\n",
      "[536]\tvalid_0's l2: 118040\n",
      "| \u001b[0m 51      \u001b[0m | \u001b[0m-1.252   \u001b[0m | \u001b[0m 0.4436  \u001b[0m | \u001b[0m 0.6065  \u001b[0m | \u001b[0m 0.02697 \u001b[0m | \u001b[0m 63.15   \u001b[0m | \u001b[0m 1.351e+0\u001b[0m |\n"
     ]
    },
    {
     "name": "stderr",
     "output_type": "stream",
     "text": [
      "C:\\Users\\82104\\anaconda3\\lib\\site-packages\\lightgbm\\engine.py:181: UserWarning: 'early_stopping_rounds' argument is deprecated and will be removed in a future release of LightGBM. Pass 'early_stopping()' callback via 'callbacks' argument instead.\n",
      "  _log_warning(\"'early_stopping_rounds' argument is deprecated and will be removed in a future release of LightGBM. \"\n",
      "C:\\Users\\82104\\anaconda3\\lib\\site-packages\\lightgbm\\engine.py:239: UserWarning: 'verbose_eval' argument is deprecated and will be removed in a future release of LightGBM. Pass 'log_evaluation()' callback via 'callbacks' argument instead.\n",
      "  _log_warning(\"'verbose_eval' argument is deprecated and will be removed in a future release of LightGBM. \"\n"
     ]
    },
    {
     "name": "stdout",
     "output_type": "stream",
     "text": [
      "[LightGBM] [Warning] Auto-choosing row-wise multi-threading, the overhead of testing was 0.223476 seconds.\n",
      "You can set `force_row_wise=true` to remove the overhead.\n",
      "And if memory is not enough, you can set `force_col_wise=true`.\n",
      "[LightGBM] [Info] Total Bins 1173\n",
      "[LightGBM] [Info] Number of data points in the train set: 2368278, number of used features: 104\n",
      "[LightGBM] [Info] Start training from score 326.506259\n",
      "Training until validation scores don't improve for 100 rounds\n",
      "[100]\tvalid_0's l2: 130797\n",
      "[200]\tvalid_0's l2: 123797\n",
      "Early stopping, best iteration is:\n",
      "[197]\tvalid_0's l2: 123788\n",
      "| \u001b[0m 52      \u001b[0m | \u001b[0m-1.256   \u001b[0m | \u001b[0m 0.7651  \u001b[0m | \u001b[0m 0.6651  \u001b[0m | \u001b[0m 0.05019 \u001b[0m | \u001b[0m 78.39   \u001b[0m | \u001b[0m 9.032e+0\u001b[0m |\n"
     ]
    },
    {
     "name": "stderr",
     "output_type": "stream",
     "text": [
      "C:\\Users\\82104\\anaconda3\\lib\\site-packages\\lightgbm\\engine.py:181: UserWarning: 'early_stopping_rounds' argument is deprecated and will be removed in a future release of LightGBM. Pass 'early_stopping()' callback via 'callbacks' argument instead.\n",
      "  _log_warning(\"'early_stopping_rounds' argument is deprecated and will be removed in a future release of LightGBM. \"\n",
      "C:\\Users\\82104\\anaconda3\\lib\\site-packages\\lightgbm\\engine.py:239: UserWarning: 'verbose_eval' argument is deprecated and will be removed in a future release of LightGBM. Pass 'log_evaluation()' callback via 'callbacks' argument instead.\n",
      "  _log_warning(\"'verbose_eval' argument is deprecated and will be removed in a future release of LightGBM. \"\n"
     ]
    },
    {
     "name": "stdout",
     "output_type": "stream",
     "text": [
      "[LightGBM] [Warning] Auto-choosing row-wise multi-threading, the overhead of testing was 0.235822 seconds.\n",
      "You can set `force_row_wise=true` to remove the overhead.\n",
      "And if memory is not enough, you can set `force_col_wise=true`.\n",
      "[LightGBM] [Info] Total Bins 1173\n",
      "[LightGBM] [Info] Number of data points in the train set: 2368278, number of used features: 104\n",
      "[LightGBM] [Info] Start training from score 326.506259\n",
      "Training until validation scores don't improve for 100 rounds\n",
      "[100]\tvalid_0's l2: 112832\n",
      "[200]\tvalid_0's l2: 113443\n",
      "Early stopping, best iteration is:\n",
      "[143]\tvalid_0's l2: 112260\n",
      "| \u001b[0m 53      \u001b[0m | \u001b[0m-1.186   \u001b[0m | \u001b[0m 0.4654  \u001b[0m | \u001b[0m 0.7315  \u001b[0m | \u001b[0m 0.08058 \u001b[0m | \u001b[0m 42.55   \u001b[0m | \u001b[0m 2.329e+0\u001b[0m |\n"
     ]
    },
    {
     "name": "stderr",
     "output_type": "stream",
     "text": [
      "C:\\Users\\82104\\anaconda3\\lib\\site-packages\\lightgbm\\engine.py:181: UserWarning: 'early_stopping_rounds' argument is deprecated and will be removed in a future release of LightGBM. Pass 'early_stopping()' callback via 'callbacks' argument instead.\n",
      "  _log_warning(\"'early_stopping_rounds' argument is deprecated and will be removed in a future release of LightGBM. \"\n",
      "C:\\Users\\82104\\anaconda3\\lib\\site-packages\\lightgbm\\engine.py:239: UserWarning: 'verbose_eval' argument is deprecated and will be removed in a future release of LightGBM. Pass 'log_evaluation()' callback via 'callbacks' argument instead.\n",
      "  _log_warning(\"'verbose_eval' argument is deprecated and will be removed in a future release of LightGBM. \"\n"
     ]
    },
    {
     "name": "stdout",
     "output_type": "stream",
     "text": [
      "[LightGBM] [Warning] Auto-choosing row-wise multi-threading, the overhead of testing was 0.168276 seconds.\n",
      "You can set `force_row_wise=true` to remove the overhead.\n",
      "And if memory is not enough, you can set `force_col_wise=true`.\n",
      "[LightGBM] [Info] Total Bins 1173\n",
      "[LightGBM] [Info] Number of data points in the train set: 2368278, number of used features: 104\n",
      "[LightGBM] [Info] Start training from score 326.506259\n",
      "Training until validation scores don't improve for 100 rounds\n",
      "[100]\tvalid_0's l2: 259425\n",
      "[LightGBM] [Warning] No further splits with positive gain, best gain: -inf\n",
      "[200]\tvalid_0's l2: 148428\n",
      "[300]\tvalid_0's l2: 131163\n",
      "[400]\tvalid_0's l2: 126083\n",
      "[LightGBM] [Warning] No further splits with positive gain, best gain: -inf\n",
      "[500]\tvalid_0's l2: 124281\n",
      "[600]\tvalid_0's l2: 123286\n",
      "[LightGBM] [Warning] No further splits with positive gain, best gain: -inf\n",
      "[700]\tvalid_0's l2: 123251\n",
      "Early stopping, best iteration is:\n",
      "[629]\tvalid_0's l2: 123174\n",
      "| \u001b[0m 54      \u001b[0m | \u001b[0m-1.239   \u001b[0m | \u001b[0m 0.6262  \u001b[0m | \u001b[0m 0.5956  \u001b[0m | \u001b[0m 0.01968 \u001b[0m | \u001b[0m 89.24   \u001b[0m | \u001b[0m 9.553e+0\u001b[0m |\n"
     ]
    },
    {
     "name": "stderr",
     "output_type": "stream",
     "text": [
      "C:\\Users\\82104\\anaconda3\\lib\\site-packages\\lightgbm\\engine.py:181: UserWarning: 'early_stopping_rounds' argument is deprecated and will be removed in a future release of LightGBM. Pass 'early_stopping()' callback via 'callbacks' argument instead.\n",
      "  _log_warning(\"'early_stopping_rounds' argument is deprecated and will be removed in a future release of LightGBM. \"\n",
      "C:\\Users\\82104\\anaconda3\\lib\\site-packages\\lightgbm\\engine.py:239: UserWarning: 'verbose_eval' argument is deprecated and will be removed in a future release of LightGBM. Pass 'log_evaluation()' callback via 'callbacks' argument instead.\n",
      "  _log_warning(\"'verbose_eval' argument is deprecated and will be removed in a future release of LightGBM. \"\n"
     ]
    },
    {
     "name": "stdout",
     "output_type": "stream",
     "text": [
      "[LightGBM] [Warning] Auto-choosing row-wise multi-threading, the overhead of testing was 0.198534 seconds.\n",
      "You can set `force_row_wise=true` to remove the overhead.\n",
      "And if memory is not enough, you can set `force_col_wise=true`.\n",
      "[LightGBM] [Info] Total Bins 1173\n",
      "[LightGBM] [Info] Number of data points in the train set: 2368278, number of used features: 104\n",
      "[LightGBM] [Info] Start training from score 326.506259\n",
      "Training until validation scores don't improve for 100 rounds\n",
      "[100]\tvalid_0's l2: 121847\n",
      "Early stopping, best iteration is:\n",
      "[84]\tvalid_0's l2: 121585\n",
      "| \u001b[0m 55      \u001b[0m | \u001b[0m-1.278   \u001b[0m | \u001b[0m 0.4508  \u001b[0m | \u001b[0m 0.7048  \u001b[0m | \u001b[0m 0.09276 \u001b[0m | \u001b[0m 63.37   \u001b[0m | \u001b[0m 9.596e+0\u001b[0m |\n"
     ]
    },
    {
     "name": "stderr",
     "output_type": "stream",
     "text": [
      "C:\\Users\\82104\\anaconda3\\lib\\site-packages\\lightgbm\\engine.py:181: UserWarning: 'early_stopping_rounds' argument is deprecated and will be removed in a future release of LightGBM. Pass 'early_stopping()' callback via 'callbacks' argument instead.\n",
      "  _log_warning(\"'early_stopping_rounds' argument is deprecated and will be removed in a future release of LightGBM. \"\n",
      "C:\\Users\\82104\\anaconda3\\lib\\site-packages\\lightgbm\\engine.py:239: UserWarning: 'verbose_eval' argument is deprecated and will be removed in a future release of LightGBM. Pass 'log_evaluation()' callback via 'callbacks' argument instead.\n",
      "  _log_warning(\"'verbose_eval' argument is deprecated and will be removed in a future release of LightGBM. \"\n"
     ]
    },
    {
     "name": "stdout",
     "output_type": "stream",
     "text": [
      "[LightGBM] [Warning] Auto-choosing row-wise multi-threading, the overhead of testing was 0.199085 seconds.\n",
      "You can set `force_row_wise=true` to remove the overhead.\n",
      "And if memory is not enough, you can set `force_col_wise=true`.\n",
      "[LightGBM] [Info] Total Bins 1173\n",
      "[LightGBM] [Info] Number of data points in the train set: 2368278, number of used features: 104\n",
      "[LightGBM] [Info] Start training from score 326.506259\n",
      "Training until validation scores don't improve for 100 rounds\n",
      "[100]\tvalid_0's l2: 105479\n",
      "Early stopping, best iteration is:\n",
      "[70]\tvalid_0's l2: 103842\n",
      "| \u001b[0m 56      \u001b[0m | \u001b[0m-0.9873  \u001b[0m | \u001b[0m 0.5591  \u001b[0m | \u001b[0m 0.8433  \u001b[0m | \u001b[0m 0.09601 \u001b[0m | \u001b[0m 79.77   \u001b[0m | \u001b[0m 5.99e+03\u001b[0m |\n"
     ]
    },
    {
     "name": "stderr",
     "output_type": "stream",
     "text": [
      "C:\\Users\\82104\\anaconda3\\lib\\site-packages\\lightgbm\\engine.py:181: UserWarning: 'early_stopping_rounds' argument is deprecated and will be removed in a future release of LightGBM. Pass 'early_stopping()' callback via 'callbacks' argument instead.\n",
      "  _log_warning(\"'early_stopping_rounds' argument is deprecated and will be removed in a future release of LightGBM. \"\n",
      "C:\\Users\\82104\\anaconda3\\lib\\site-packages\\lightgbm\\engine.py:239: UserWarning: 'verbose_eval' argument is deprecated and will be removed in a future release of LightGBM. Pass 'log_evaluation()' callback via 'callbacks' argument instead.\n",
      "  _log_warning(\"'verbose_eval' argument is deprecated and will be removed in a future release of LightGBM. \"\n"
     ]
    },
    {
     "name": "stdout",
     "output_type": "stream",
     "text": [
      "[LightGBM] [Warning] Auto-choosing row-wise multi-threading, the overhead of testing was 0.193356 seconds.\n",
      "You can set `force_row_wise=true` to remove the overhead.\n",
      "And if memory is not enough, you can set `force_col_wise=true`.\n",
      "[LightGBM] [Info] Total Bins 1173\n",
      "[LightGBM] [Info] Number of data points in the train set: 2368278, number of used features: 104\n",
      "[LightGBM] [Info] Start training from score 326.506259\n",
      "Training until validation scores don't improve for 100 rounds\n",
      "[100]\tvalid_0's l2: 133413\n",
      "[200]\tvalid_0's l2: 132197\n",
      "Early stopping, best iteration is:\n",
      "[121]\tvalid_0's l2: 131511\n",
      "| \u001b[0m 57      \u001b[0m | \u001b[0m-1.39    \u001b[0m | \u001b[0m 0.6939  \u001b[0m | \u001b[0m 0.6038  \u001b[0m | \u001b[0m 0.08494 \u001b[0m | \u001b[0m 90.06   \u001b[0m | \u001b[0m 6.362e+0\u001b[0m |\n"
     ]
    },
    {
     "name": "stderr",
     "output_type": "stream",
     "text": [
      "C:\\Users\\82104\\anaconda3\\lib\\site-packages\\lightgbm\\engine.py:181: UserWarning: 'early_stopping_rounds' argument is deprecated and will be removed in a future release of LightGBM. Pass 'early_stopping()' callback via 'callbacks' argument instead.\n",
      "  _log_warning(\"'early_stopping_rounds' argument is deprecated and will be removed in a future release of LightGBM. \"\n",
      "C:\\Users\\82104\\anaconda3\\lib\\site-packages\\lightgbm\\engine.py:239: UserWarning: 'verbose_eval' argument is deprecated and will be removed in a future release of LightGBM. Pass 'log_evaluation()' callback via 'callbacks' argument instead.\n",
      "  _log_warning(\"'verbose_eval' argument is deprecated and will be removed in a future release of LightGBM. \"\n"
     ]
    },
    {
     "name": "stdout",
     "output_type": "stream",
     "text": [
      "[LightGBM] [Warning] Auto-choosing row-wise multi-threading, the overhead of testing was 0.189991 seconds.\n",
      "You can set `force_row_wise=true` to remove the overhead.\n",
      "And if memory is not enough, you can set `force_col_wise=true`.\n",
      "[LightGBM] [Info] Total Bins 1173\n",
      "[LightGBM] [Info] Number of data points in the train set: 2368278, number of used features: 104\n",
      "[LightGBM] [Info] Start training from score 326.506259\n",
      "Training until validation scores don't improve for 100 rounds\n",
      "[100]\tvalid_0's l2: 114072\n",
      "Early stopping, best iteration is:\n",
      "[87]\tvalid_0's l2: 113856\n",
      "| \u001b[0m 58      \u001b[0m | \u001b[0m-1.206   \u001b[0m | \u001b[0m 0.671   \u001b[0m | \u001b[0m 0.746   \u001b[0m | \u001b[0m 0.08482 \u001b[0m | \u001b[0m 90.73   \u001b[0m | \u001b[0m 9.798e+0\u001b[0m |\n"
     ]
    },
    {
     "name": "stderr",
     "output_type": "stream",
     "text": [
      "C:\\Users\\82104\\anaconda3\\lib\\site-packages\\lightgbm\\engine.py:181: UserWarning: 'early_stopping_rounds' argument is deprecated and will be removed in a future release of LightGBM. Pass 'early_stopping()' callback via 'callbacks' argument instead.\n",
      "  _log_warning(\"'early_stopping_rounds' argument is deprecated and will be removed in a future release of LightGBM. \"\n",
      "C:\\Users\\82104\\anaconda3\\lib\\site-packages\\lightgbm\\engine.py:239: UserWarning: 'verbose_eval' argument is deprecated and will be removed in a future release of LightGBM. Pass 'log_evaluation()' callback via 'callbacks' argument instead.\n",
      "  _log_warning(\"'verbose_eval' argument is deprecated and will be removed in a future release of LightGBM. \"\n"
     ]
    },
    {
     "name": "stdout",
     "output_type": "stream",
     "text": [
      "[LightGBM] [Warning] Auto-choosing row-wise multi-threading, the overhead of testing was 0.215890 seconds.\n",
      "You can set `force_row_wise=true` to remove the overhead.\n",
      "And if memory is not enough, you can set `force_col_wise=true`.\n",
      "[LightGBM] [Info] Total Bins 1173\n",
      "[LightGBM] [Info] Number of data points in the train set: 2368278, number of used features: 104\n",
      "[LightGBM] [Info] Start training from score 326.506259\n",
      "Training until validation scores don't improve for 100 rounds\n",
      "[100]\tvalid_0's l2: 102976\n",
      "Early stopping, best iteration is:\n",
      "[94]\tvalid_0's l2: 102872\n",
      "| \u001b[0m 59      \u001b[0m | \u001b[0m-0.9693  \u001b[0m | \u001b[0m 0.4755  \u001b[0m | \u001b[0m 0.8574  \u001b[0m | \u001b[0m 0.06956 \u001b[0m | \u001b[0m 66.01   \u001b[0m | \u001b[0m 7.296e+0\u001b[0m |\n"
     ]
    },
    {
     "name": "stderr",
     "output_type": "stream",
     "text": [
      "C:\\Users\\82104\\anaconda3\\lib\\site-packages\\lightgbm\\engine.py:181: UserWarning: 'early_stopping_rounds' argument is deprecated and will be removed in a future release of LightGBM. Pass 'early_stopping()' callback via 'callbacks' argument instead.\n",
      "  _log_warning(\"'early_stopping_rounds' argument is deprecated and will be removed in a future release of LightGBM. \"\n",
      "C:\\Users\\82104\\anaconda3\\lib\\site-packages\\lightgbm\\engine.py:239: UserWarning: 'verbose_eval' argument is deprecated and will be removed in a future release of LightGBM. Pass 'log_evaluation()' callback via 'callbacks' argument instead.\n",
      "  _log_warning(\"'verbose_eval' argument is deprecated and will be removed in a future release of LightGBM. \"\n"
     ]
    },
    {
     "name": "stdout",
     "output_type": "stream",
     "text": [
      "[LightGBM] [Warning] Auto-choosing row-wise multi-threading, the overhead of testing was 0.196852 seconds.\n",
      "You can set `force_row_wise=true` to remove the overhead.\n",
      "And if memory is not enough, you can set `force_col_wise=true`.\n",
      "[LightGBM] [Info] Total Bins 1173\n",
      "[LightGBM] [Info] Number of data points in the train set: 2368278, number of used features: 104\n",
      "[LightGBM] [Info] Start training from score 326.506259\n",
      "Training until validation scores don't improve for 100 rounds\n",
      "[100]\tvalid_0's l2: 103916\n",
      "Early stopping, best iteration is:\n",
      "[94]\tvalid_0's l2: 103748\n",
      "| \u001b[0m 60      \u001b[0m | \u001b[0m-0.9853  \u001b[0m | \u001b[0m 0.5233  \u001b[0m | \u001b[0m 0.8326  \u001b[0m | \u001b[0m 0.07323 \u001b[0m | \u001b[0m 82.89   \u001b[0m | \u001b[0m 9.999e+0\u001b[0m |\n"
     ]
    },
    {
     "name": "stderr",
     "output_type": "stream",
     "text": [
      "C:\\Users\\82104\\anaconda3\\lib\\site-packages\\lightgbm\\engine.py:181: UserWarning: 'early_stopping_rounds' argument is deprecated and will be removed in a future release of LightGBM. Pass 'early_stopping()' callback via 'callbacks' argument instead.\n",
      "  _log_warning(\"'early_stopping_rounds' argument is deprecated and will be removed in a future release of LightGBM. \"\n",
      "C:\\Users\\82104\\anaconda3\\lib\\site-packages\\lightgbm\\engine.py:239: UserWarning: 'verbose_eval' argument is deprecated and will be removed in a future release of LightGBM. Pass 'log_evaluation()' callback via 'callbacks' argument instead.\n",
      "  _log_warning(\"'verbose_eval' argument is deprecated and will be removed in a future release of LightGBM. \"\n"
     ]
    },
    {
     "name": "stdout",
     "output_type": "stream",
     "text": [
      "[LightGBM] [Warning] Auto-choosing row-wise multi-threading, the overhead of testing was 0.223715 seconds.\n",
      "You can set `force_row_wise=true` to remove the overhead.\n",
      "And if memory is not enough, you can set `force_col_wise=true`.\n",
      "[LightGBM] [Info] Total Bins 1173\n",
      "[LightGBM] [Info] Number of data points in the train set: 2368278, number of used features: 104\n",
      "[LightGBM] [Info] Start training from score 326.506259\n",
      "Training until validation scores don't improve for 100 rounds\n",
      "[100]\tvalid_0's l2: 124163\n",
      "[200]\tvalid_0's l2: 125868\n",
      "Early stopping, best iteration is:\n",
      "[111]\tvalid_0's l2: 123594\n",
      "| \u001b[0m 61      \u001b[0m | \u001b[0m-1.256   \u001b[0m | \u001b[0m 0.6178  \u001b[0m | \u001b[0m 0.7026  \u001b[0m | \u001b[0m 0.07419 \u001b[0m | \u001b[0m 63.31   \u001b[0m | \u001b[0m 9.178e+0\u001b[0m |\n"
     ]
    },
    {
     "name": "stderr",
     "output_type": "stream",
     "text": [
      "C:\\Users\\82104\\anaconda3\\lib\\site-packages\\lightgbm\\engine.py:181: UserWarning: 'early_stopping_rounds' argument is deprecated and will be removed in a future release of LightGBM. Pass 'early_stopping()' callback via 'callbacks' argument instead.\n",
      "  _log_warning(\"'early_stopping_rounds' argument is deprecated and will be removed in a future release of LightGBM. \"\n",
      "C:\\Users\\82104\\anaconda3\\lib\\site-packages\\lightgbm\\engine.py:239: UserWarning: 'verbose_eval' argument is deprecated and will be removed in a future release of LightGBM. Pass 'log_evaluation()' callback via 'callbacks' argument instead.\n",
      "  _log_warning(\"'verbose_eval' argument is deprecated and will be removed in a future release of LightGBM. \"\n"
     ]
    },
    {
     "name": "stdout",
     "output_type": "stream",
     "text": [
      "[LightGBM] [Warning] Auto-choosing row-wise multi-threading, the overhead of testing was 0.178839 seconds.\n",
      "You can set `force_row_wise=true` to remove the overhead.\n",
      "And if memory is not enough, you can set `force_col_wise=true`.\n",
      "[LightGBM] [Info] Total Bins 1173\n",
      "[LightGBM] [Info] Number of data points in the train set: 2368278, number of used features: 104\n",
      "[LightGBM] [Info] Start training from score 326.506259\n",
      "Training until validation scores don't improve for 100 rounds\n",
      "[100]\tvalid_0's l2: 208154\n",
      "[200]\tvalid_0's l2: 128891\n",
      "[300]\tvalid_0's l2: 118588\n",
      "[400]\tvalid_0's l2: 115661\n",
      "[500]\tvalid_0's l2: 114572\n",
      "[600]\tvalid_0's l2: 113370\n",
      "[700]\tvalid_0's l2: 113147\n",
      "[800]\tvalid_0's l2: 112867\n",
      "Early stopping, best iteration is:\n",
      "[773]\tvalid_0's l2: 112746\n",
      "| \u001b[0m 62      \u001b[0m | \u001b[0m-1.216   \u001b[0m | \u001b[0m 0.7372  \u001b[0m | \u001b[0m 0.613   \u001b[0m | \u001b[0m 0.02319 \u001b[0m | \u001b[0m 44.12   \u001b[0m | \u001b[0m 672.0   \u001b[0m |\n"
     ]
    },
    {
     "name": "stderr",
     "output_type": "stream",
     "text": [
      "C:\\Users\\82104\\anaconda3\\lib\\site-packages\\lightgbm\\engine.py:181: UserWarning: 'early_stopping_rounds' argument is deprecated and will be removed in a future release of LightGBM. Pass 'early_stopping()' callback via 'callbacks' argument instead.\n",
      "  _log_warning(\"'early_stopping_rounds' argument is deprecated and will be removed in a future release of LightGBM. \"\n",
      "C:\\Users\\82104\\anaconda3\\lib\\site-packages\\lightgbm\\engine.py:239: UserWarning: 'verbose_eval' argument is deprecated and will be removed in a future release of LightGBM. Pass 'log_evaluation()' callback via 'callbacks' argument instead.\n",
      "  _log_warning(\"'verbose_eval' argument is deprecated and will be removed in a future release of LightGBM. \"\n"
     ]
    },
    {
     "name": "stdout",
     "output_type": "stream",
     "text": [
      "[LightGBM] [Warning] Auto-choosing row-wise multi-threading, the overhead of testing was 0.193178 seconds.\n",
      "You can set `force_row_wise=true` to remove the overhead.\n",
      "And if memory is not enough, you can set `force_col_wise=true`.\n",
      "[LightGBM] [Info] Total Bins 1173\n",
      "[LightGBM] [Info] Number of data points in the train set: 2368278, number of used features: 104\n",
      "[LightGBM] [Info] Start training from score 326.506259\n",
      "Training until validation scores don't improve for 100 rounds\n",
      "[100]\tvalid_0's l2: 131633\n",
      "[200]\tvalid_0's l2: 126160\n",
      "[300]\tvalid_0's l2: 126783\n",
      "Early stopping, best iteration is:\n",
      "[200]\tvalid_0's l2: 126160\n",
      "| \u001b[0m 63      \u001b[0m | \u001b[0m-1.258   \u001b[0m | \u001b[0m 0.6721  \u001b[0m | \u001b[0m 0.6361  \u001b[0m | \u001b[0m 0.06273 \u001b[0m | \u001b[0m 45.13   \u001b[0m | \u001b[0m 1.883e+0\u001b[0m |\n"
     ]
    },
    {
     "name": "stderr",
     "output_type": "stream",
     "text": [
      "C:\\Users\\82104\\anaconda3\\lib\\site-packages\\lightgbm\\engine.py:181: UserWarning: 'early_stopping_rounds' argument is deprecated and will be removed in a future release of LightGBM. Pass 'early_stopping()' callback via 'callbacks' argument instead.\n",
      "  _log_warning(\"'early_stopping_rounds' argument is deprecated and will be removed in a future release of LightGBM. \"\n",
      "C:\\Users\\82104\\anaconda3\\lib\\site-packages\\lightgbm\\engine.py:239: UserWarning: 'verbose_eval' argument is deprecated and will be removed in a future release of LightGBM. Pass 'log_evaluation()' callback via 'callbacks' argument instead.\n",
      "  _log_warning(\"'verbose_eval' argument is deprecated and will be removed in a future release of LightGBM. \"\n"
     ]
    },
    {
     "name": "stdout",
     "output_type": "stream",
     "text": [
      "[LightGBM] [Warning] Auto-choosing row-wise multi-threading, the overhead of testing was 0.206867 seconds.\n",
      "You can set `force_row_wise=true` to remove the overhead.\n",
      "And if memory is not enough, you can set `force_col_wise=true`.\n",
      "[LightGBM] [Info] Total Bins 1173\n",
      "[LightGBM] [Info] Number of data points in the train set: 2368278, number of used features: 104\n",
      "[LightGBM] [Info] Start training from score 326.506259\n",
      "Training until validation scores don't improve for 100 rounds\n",
      "[LightGBM] [Warning] No further splits with positive gain, best gain: -inf\n",
      "[LightGBM] [Warning] No further splits with positive gain, best gain: -inf\n",
      "[LightGBM] [Warning] No further splits with positive gain, best gain: -inf\n",
      "[LightGBM] [Warning] No further splits with positive gain, best gain: -inf\n",
      "[LightGBM] [Warning] No further splits with positive gain, best gain: -inf\n",
      "[LightGBM] [Warning] No further splits with positive gain, best gain: -inf\n",
      "[100]\tvalid_0's l2: 238043\n",
      "[LightGBM] [Warning] No further splits with positive gain, best gain: -inf\n",
      "[200]\tvalid_0's l2: 149484\n",
      "[LightGBM] [Warning] No further splits with positive gain, best gain: -inf\n",
      "[LightGBM] [Warning] No further splits with positive gain, best gain: -inf\n",
      "[LightGBM] [Warning] No further splits with positive gain, best gain: -inf\n",
      "[LightGBM] [Warning] No further splits with positive gain, best gain: -inf\n",
      "[300]\tvalid_0's l2: 135007\n",
      "[LightGBM] [Warning] No further splits with positive gain, best gain: -inf\n",
      "[LightGBM] [Warning] No further splits with positive gain, best gain: -inf\n",
      "[400]\tvalid_0's l2: 131219\n",
      "[LightGBM] [Warning] No further splits with positive gain, best gain: -inf\n",
      "[LightGBM] [Warning] No further splits with positive gain, best gain: -inf\n",
      "[LightGBM] [Warning] No further splits with positive gain, best gain: -inf\n",
      "[LightGBM] [Warning] No further splits with positive gain, best gain: -inf\n",
      "[LightGBM] [Warning] No further splits with positive gain, best gain: -inf\n",
      "[500]\tvalid_0's l2: 129477\n",
      "[LightGBM] [Warning] No further splits with positive gain, best gain: -inf\n",
      "[600]\tvalid_0's l2: 128809\n",
      "[LightGBM] [Warning] No further splits with positive gain, best gain: -inf\n",
      "[LightGBM] [Warning] No further splits with positive gain, best gain: -inf\n",
      "[LightGBM] [Warning] No further splits with positive gain, best gain: -inf\n",
      "[700]\tvalid_0's l2: 128663\n",
      "[LightGBM] [Warning] No further splits with positive gain, best gain: -inf\n",
      "[LightGBM] [Warning] No further splits with positive gain, best gain: -inf\n",
      "[LightGBM] [Warning] No further splits with positive gain, best gain: -inf\n",
      "[LightGBM] [Warning] No further splits with positive gain, best gain: -inf\n",
      "[LightGBM] [Warning] No further splits with positive gain, best gain: -inf\n",
      "Early stopping, best iteration is:\n",
      "[692]\tvalid_0's l2: 128565\n",
      "| \u001b[0m 64      \u001b[0m | \u001b[0m-1.295   \u001b[0m | \u001b[0m 0.5305  \u001b[0m | \u001b[0m 0.5023  \u001b[0m | \u001b[0m 0.02605 \u001b[0m | \u001b[0m 62.19   \u001b[0m | \u001b[0m 8.37e+03\u001b[0m |\n"
     ]
    },
    {
     "name": "stderr",
     "output_type": "stream",
     "text": [
      "C:\\Users\\82104\\anaconda3\\lib\\site-packages\\lightgbm\\engine.py:181: UserWarning: 'early_stopping_rounds' argument is deprecated and will be removed in a future release of LightGBM. Pass 'early_stopping()' callback via 'callbacks' argument instead.\n",
      "  _log_warning(\"'early_stopping_rounds' argument is deprecated and will be removed in a future release of LightGBM. \"\n",
      "C:\\Users\\82104\\anaconda3\\lib\\site-packages\\lightgbm\\engine.py:239: UserWarning: 'verbose_eval' argument is deprecated and will be removed in a future release of LightGBM. Pass 'log_evaluation()' callback via 'callbacks' argument instead.\n",
      "  _log_warning(\"'verbose_eval' argument is deprecated and will be removed in a future release of LightGBM. \"\n"
     ]
    },
    {
     "name": "stdout",
     "output_type": "stream",
     "text": [
      "[LightGBM] [Warning] Auto-choosing row-wise multi-threading, the overhead of testing was 0.202974 seconds.\n",
      "You can set `force_row_wise=true` to remove the overhead.\n",
      "And if memory is not enough, you can set `force_col_wise=true`.\n",
      "[LightGBM] [Info] Total Bins 1173\n",
      "[LightGBM] [Info] Number of data points in the train set: 2368278, number of used features: 104\n",
      "[LightGBM] [Info] Start training from score 326.506259\n",
      "Training until validation scores don't improve for 100 rounds\n",
      "[100]\tvalid_0's l2: 114570\n",
      "[200]\tvalid_0's l2: 111399\n",
      "Early stopping, best iteration is:\n",
      "[179]\tvalid_0's l2: 110963\n",
      "| \u001b[0m 65      \u001b[0m | \u001b[0m-1.153   \u001b[0m | \u001b[0m 0.7102  \u001b[0m | \u001b[0m 0.7461  \u001b[0m | \u001b[0m 0.0493  \u001b[0m | \u001b[0m 90.39   \u001b[0m | \u001b[0m 5.298e+0\u001b[0m |\n"
     ]
    },
    {
     "name": "stderr",
     "output_type": "stream",
     "text": [
      "C:\\Users\\82104\\anaconda3\\lib\\site-packages\\lightgbm\\engine.py:181: UserWarning: 'early_stopping_rounds' argument is deprecated and will be removed in a future release of LightGBM. Pass 'early_stopping()' callback via 'callbacks' argument instead.\n",
      "  _log_warning(\"'early_stopping_rounds' argument is deprecated and will be removed in a future release of LightGBM. \"\n",
      "C:\\Users\\82104\\anaconda3\\lib\\site-packages\\lightgbm\\engine.py:239: UserWarning: 'verbose_eval' argument is deprecated and will be removed in a future release of LightGBM. Pass 'log_evaluation()' callback via 'callbacks' argument instead.\n",
      "  _log_warning(\"'verbose_eval' argument is deprecated and will be removed in a future release of LightGBM. \"\n"
     ]
    },
    {
     "name": "stdout",
     "output_type": "stream",
     "text": [
      "[LightGBM] [Warning] Auto-choosing row-wise multi-threading, the overhead of testing was 0.225883 seconds.\n",
      "You can set `force_row_wise=true` to remove the overhead.\n",
      "And if memory is not enough, you can set `force_col_wise=true`.\n",
      "[LightGBM] [Info] Total Bins 1173\n",
      "[LightGBM] [Info] Number of data points in the train set: 2368278, number of used features: 104\n",
      "[LightGBM] [Info] Start training from score 326.506259\n",
      "Training until validation scores don't improve for 100 rounds\n",
      "[100]\tvalid_0's l2: 104458\n",
      "[200]\tvalid_0's l2: 102167\n",
      "Early stopping, best iteration is:\n",
      "[154]\tvalid_0's l2: 101569\n",
      "| \u001b[0m 66      \u001b[0m | \u001b[0m-0.9491  \u001b[0m | \u001b[0m 0.4629  \u001b[0m | \u001b[0m 0.8626  \u001b[0m | \u001b[0m 0.04326 \u001b[0m | \u001b[0m 68.89   \u001b[0m | \u001b[0m 6.66e+03\u001b[0m |\n"
     ]
    },
    {
     "name": "stderr",
     "output_type": "stream",
     "text": [
      "C:\\Users\\82104\\anaconda3\\lib\\site-packages\\lightgbm\\engine.py:181: UserWarning: 'early_stopping_rounds' argument is deprecated and will be removed in a future release of LightGBM. Pass 'early_stopping()' callback via 'callbacks' argument instead.\n",
      "  _log_warning(\"'early_stopping_rounds' argument is deprecated and will be removed in a future release of LightGBM. \"\n",
      "C:\\Users\\82104\\anaconda3\\lib\\site-packages\\lightgbm\\engine.py:239: UserWarning: 'verbose_eval' argument is deprecated and will be removed in a future release of LightGBM. Pass 'log_evaluation()' callback via 'callbacks' argument instead.\n",
      "  _log_warning(\"'verbose_eval' argument is deprecated and will be removed in a future release of LightGBM. \"\n"
     ]
    },
    {
     "name": "stdout",
     "output_type": "stream",
     "text": [
      "[LightGBM] [Warning] Auto-choosing row-wise multi-threading, the overhead of testing was 0.205809 seconds.\n",
      "You can set `force_row_wise=true` to remove the overhead.\n",
      "And if memory is not enough, you can set `force_col_wise=true`.\n",
      "[LightGBM] [Info] Total Bins 1173\n",
      "[LightGBM] [Info] Number of data points in the train set: 2368278, number of used features: 104\n",
      "[LightGBM] [Info] Start training from score 326.506259\n",
      "Training until validation scores don't improve for 100 rounds\n",
      "[LightGBM] [Warning] No further splits with positive gain, best gain: -inf\n",
      "[LightGBM] [Warning] No further splits with positive gain, best gain: -inf\n",
      "[100]\tvalid_0's l2: 160843\n",
      "[LightGBM] [Warning] No further splits with positive gain, best gain: -inf\n",
      "[200]\tvalid_0's l2: 134569\n",
      "[LightGBM] [Warning] No further splits with positive gain, best gain: -inf\n",
      "[LightGBM] [Warning] No further splits with positive gain, best gain: -inf\n",
      "[LightGBM] [Warning] No further splits with positive gain, best gain: -inf\n",
      "[300]\tvalid_0's l2: 130736\n",
      "[LightGBM] [Warning] No further splits with positive gain, best gain: -inf\n",
      "[LightGBM] [Warning] No further splits with positive gain, best gain: -inf\n",
      "[400]\tvalid_0's l2: 130256\n",
      "[LightGBM] [Warning] No further splits with positive gain, best gain: -inf\n",
      "[LightGBM] [Warning] No further splits with positive gain, best gain: -inf\n",
      "[500]\tvalid_0's l2: 130311\n",
      "[LightGBM] [Warning] No further splits with positive gain, best gain: -inf\n",
      "Early stopping, best iteration is:\n",
      "[408]\tvalid_0's l2: 130182\n",
      "| \u001b[0m 67      \u001b[0m | \u001b[0m-1.327   \u001b[0m | \u001b[0m 0.7223  \u001b[0m | \u001b[0m 0.5349  \u001b[0m | \u001b[0m 0.0406  \u001b[0m | \u001b[0m 87.86   \u001b[0m | \u001b[0m 7.97e+03\u001b[0m |\n"
     ]
    },
    {
     "name": "stderr",
     "output_type": "stream",
     "text": [
      "C:\\Users\\82104\\anaconda3\\lib\\site-packages\\lightgbm\\engine.py:181: UserWarning: 'early_stopping_rounds' argument is deprecated and will be removed in a future release of LightGBM. Pass 'early_stopping()' callback via 'callbacks' argument instead.\n",
      "  _log_warning(\"'early_stopping_rounds' argument is deprecated and will be removed in a future release of LightGBM. \"\n",
      "C:\\Users\\82104\\anaconda3\\lib\\site-packages\\lightgbm\\engine.py:239: UserWarning: 'verbose_eval' argument is deprecated and will be removed in a future release of LightGBM. Pass 'log_evaluation()' callback via 'callbacks' argument instead.\n",
      "  _log_warning(\"'verbose_eval' argument is deprecated and will be removed in a future release of LightGBM. \"\n"
     ]
    },
    {
     "name": "stdout",
     "output_type": "stream",
     "text": [
      "[LightGBM] [Warning] Auto-choosing row-wise multi-threading, the overhead of testing was 0.186822 seconds.\n",
      "You can set `force_row_wise=true` to remove the overhead.\n",
      "And if memory is not enough, you can set `force_col_wise=true`.\n",
      "[LightGBM] [Info] Total Bins 1173\n",
      "[LightGBM] [Info] Number of data points in the train set: 2368278, number of used features: 104\n",
      "[LightGBM] [Info] Start training from score 326.506259\n",
      "Training until validation scores don't improve for 100 rounds\n",
      "[100]\tvalid_0's l2: 104741\n",
      "Early stopping, best iteration is:\n",
      "[83]\tvalid_0's l2: 104477\n",
      "| \u001b[0m 68      \u001b[0m | \u001b[0m-1.013   \u001b[0m | \u001b[0m 0.5695  \u001b[0m | \u001b[0m 0.8236  \u001b[0m | \u001b[0m 0.06886 \u001b[0m | \u001b[0m 92.21   \u001b[0m | \u001b[0m 9.097e+0\u001b[0m |\n"
     ]
    },
    {
     "name": "stderr",
     "output_type": "stream",
     "text": [
      "C:\\Users\\82104\\anaconda3\\lib\\site-packages\\lightgbm\\engine.py:181: UserWarning: 'early_stopping_rounds' argument is deprecated and will be removed in a future release of LightGBM. Pass 'early_stopping()' callback via 'callbacks' argument instead.\n",
      "  _log_warning(\"'early_stopping_rounds' argument is deprecated and will be removed in a future release of LightGBM. \"\n",
      "C:\\Users\\82104\\anaconda3\\lib\\site-packages\\lightgbm\\engine.py:239: UserWarning: 'verbose_eval' argument is deprecated and will be removed in a future release of LightGBM. Pass 'log_evaluation()' callback via 'callbacks' argument instead.\n",
      "  _log_warning(\"'verbose_eval' argument is deprecated and will be removed in a future release of LightGBM. \"\n"
     ]
    },
    {
     "name": "stdout",
     "output_type": "stream",
     "text": [
      "[LightGBM] [Warning] Auto-choosing row-wise multi-threading, the overhead of testing was 0.169116 seconds.\n",
      "You can set `force_row_wise=true` to remove the overhead.\n",
      "And if memory is not enough, you can set `force_col_wise=true`.\n",
      "[LightGBM] [Info] Total Bins 1173\n",
      "[LightGBM] [Info] Number of data points in the train set: 2368278, number of used features: 104\n",
      "[LightGBM] [Info] Start training from score 326.506259\n",
      "Training until validation scores don't improve for 100 rounds\n",
      "[100]\tvalid_0's l2: 108535\n",
      "[200]\tvalid_0's l2: 100522\n",
      "[300]\tvalid_0's l2: 102325\n",
      "Early stopping, best iteration is:\n",
      "[204]\tvalid_0's l2: 100388\n",
      "| \u001b[0m 69      \u001b[0m | \u001b[0m-0.9382  \u001b[0m | \u001b[0m 0.6991  \u001b[0m | \u001b[0m 0.8712  \u001b[0m | \u001b[0m 0.03574 \u001b[0m | \u001b[0m 92.38   \u001b[0m | \u001b[0m 9.096e+0\u001b[0m |\n"
     ]
    },
    {
     "name": "stderr",
     "output_type": "stream",
     "text": [
      "C:\\Users\\82104\\anaconda3\\lib\\site-packages\\lightgbm\\engine.py:181: UserWarning: 'early_stopping_rounds' argument is deprecated and will be removed in a future release of LightGBM. Pass 'early_stopping()' callback via 'callbacks' argument instead.\n",
      "  _log_warning(\"'early_stopping_rounds' argument is deprecated and will be removed in a future release of LightGBM. \"\n",
      "C:\\Users\\82104\\anaconda3\\lib\\site-packages\\lightgbm\\engine.py:239: UserWarning: 'verbose_eval' argument is deprecated and will be removed in a future release of LightGBM. Pass 'log_evaluation()' callback via 'callbacks' argument instead.\n",
      "  _log_warning(\"'verbose_eval' argument is deprecated and will be removed in a future release of LightGBM. \"\n"
     ]
    },
    {
     "name": "stdout",
     "output_type": "stream",
     "text": [
      "[LightGBM] [Warning] Auto-choosing row-wise multi-threading, the overhead of testing was 0.231800 seconds.\n",
      "You can set `force_row_wise=true` to remove the overhead.\n",
      "And if memory is not enough, you can set `force_col_wise=true`.\n",
      "[LightGBM] [Info] Total Bins 1173\n",
      "[LightGBM] [Info] Number of data points in the train set: 2368278, number of used features: 104\n",
      "[LightGBM] [Info] Start training from score 326.506259\n",
      "Training until validation scores don't improve for 100 rounds\n",
      "[100]\tvalid_0's l2: 207566\n",
      "[200]\tvalid_0's l2: 128942\n",
      "[300]\tvalid_0's l2: 119551\n",
      "[400]\tvalid_0's l2: 116891\n",
      "[500]\tvalid_0's l2: 115969\n",
      "[600]\tvalid_0's l2: 116159\n",
      "Early stopping, best iteration is:\n",
      "[514]\tvalid_0's l2: 115913\n",
      "| \u001b[0m 70      \u001b[0m | \u001b[0m-1.147   \u001b[0m | \u001b[0m 0.467   \u001b[0m | \u001b[0m 0.688   \u001b[0m | \u001b[0m 0.02001 \u001b[0m | \u001b[0m 43.79   \u001b[0m | \u001b[0m 8.389e+0\u001b[0m |\n"
     ]
    },
    {
     "name": "stderr",
     "output_type": "stream",
     "text": [
      "C:\\Users\\82104\\anaconda3\\lib\\site-packages\\lightgbm\\engine.py:181: UserWarning: 'early_stopping_rounds' argument is deprecated and will be removed in a future release of LightGBM. Pass 'early_stopping()' callback via 'callbacks' argument instead.\n",
      "  _log_warning(\"'early_stopping_rounds' argument is deprecated and will be removed in a future release of LightGBM. \"\n",
      "C:\\Users\\82104\\anaconda3\\lib\\site-packages\\lightgbm\\engine.py:239: UserWarning: 'verbose_eval' argument is deprecated and will be removed in a future release of LightGBM. Pass 'log_evaluation()' callback via 'callbacks' argument instead.\n",
      "  _log_warning(\"'verbose_eval' argument is deprecated and will be removed in a future release of LightGBM. \"\n"
     ]
    },
    {
     "name": "stdout",
     "output_type": "stream",
     "text": [
      "[LightGBM] [Warning] Auto-choosing row-wise multi-threading, the overhead of testing was 0.226478 seconds.\n",
      "You can set `force_row_wise=true` to remove the overhead.\n",
      "And if memory is not enough, you can set `force_col_wise=true`.\n",
      "[LightGBM] [Info] Total Bins 1173\n",
      "[LightGBM] [Info] Number of data points in the train set: 2368278, number of used features: 104\n",
      "[LightGBM] [Info] Start training from score 326.506259\n",
      "Training until validation scores don't improve for 100 rounds\n",
      "[100]\tvalid_0's l2: 112295\n",
      "[200]\tvalid_0's l2: 111778\n",
      "Early stopping, best iteration is:\n",
      "[148]\tvalid_0's l2: 110663\n",
      "| \u001b[0m 71      \u001b[0m | \u001b[0m-1.19    \u001b[0m | \u001b[0m 0.4926  \u001b[0m | \u001b[0m 0.7329  \u001b[0m | \u001b[0m 0.07653 \u001b[0m | \u001b[0m 34.17   \u001b[0m | \u001b[0m 1.637e+0\u001b[0m |\n"
     ]
    },
    {
     "name": "stderr",
     "output_type": "stream",
     "text": [
      "C:\\Users\\82104\\anaconda3\\lib\\site-packages\\lightgbm\\engine.py:181: UserWarning: 'early_stopping_rounds' argument is deprecated and will be removed in a future release of LightGBM. Pass 'early_stopping()' callback via 'callbacks' argument instead.\n",
      "  _log_warning(\"'early_stopping_rounds' argument is deprecated and will be removed in a future release of LightGBM. \"\n",
      "C:\\Users\\82104\\anaconda3\\lib\\site-packages\\lightgbm\\engine.py:239: UserWarning: 'verbose_eval' argument is deprecated and will be removed in a future release of LightGBM. Pass 'log_evaluation()' callback via 'callbacks' argument instead.\n",
      "  _log_warning(\"'verbose_eval' argument is deprecated and will be removed in a future release of LightGBM. \"\n"
     ]
    },
    {
     "name": "stdout",
     "output_type": "stream",
     "text": [
      "[LightGBM] [Warning] Auto-choosing row-wise multi-threading, the overhead of testing was 0.194916 seconds.\n",
      "You can set `force_row_wise=true` to remove the overhead.\n",
      "And if memory is not enough, you can set `force_col_wise=true`.\n",
      "[LightGBM] [Info] Total Bins 1173\n",
      "[LightGBM] [Info] Number of data points in the train set: 2368278, number of used features: 104\n",
      "[LightGBM] [Info] Start training from score 326.506259\n",
      "Training until validation scores don't improve for 100 rounds\n",
      "[100]\tvalid_0's l2: 137760\n",
      "[200]\tvalid_0's l2: 124017\n",
      "[300]\tvalid_0's l2: 121634\n",
      "[400]\tvalid_0's l2: 120588\n",
      "[500]\tvalid_0's l2: 120023\n",
      "[600]\tvalid_0's l2: 120116\n",
      "Early stopping, best iteration is:\n",
      "[500]\tvalid_0's l2: 120023\n",
      "| \u001b[0m 72      \u001b[0m | \u001b[0m-1.3     \u001b[0m | \u001b[0m 0.5957  \u001b[0m | \u001b[0m 0.5036  \u001b[0m | \u001b[0m 0.06038 \u001b[0m | \u001b[0m 74.17   \u001b[0m | \u001b[0m 778.4   \u001b[0m |\n"
     ]
    },
    {
     "name": "stderr",
     "output_type": "stream",
     "text": [
      "C:\\Users\\82104\\anaconda3\\lib\\site-packages\\lightgbm\\engine.py:181: UserWarning: 'early_stopping_rounds' argument is deprecated and will be removed in a future release of LightGBM. Pass 'early_stopping()' callback via 'callbacks' argument instead.\n",
      "  _log_warning(\"'early_stopping_rounds' argument is deprecated and will be removed in a future release of LightGBM. \"\n",
      "C:\\Users\\82104\\anaconda3\\lib\\site-packages\\lightgbm\\engine.py:239: UserWarning: 'verbose_eval' argument is deprecated and will be removed in a future release of LightGBM. Pass 'log_evaluation()' callback via 'callbacks' argument instead.\n",
      "  _log_warning(\"'verbose_eval' argument is deprecated and will be removed in a future release of LightGBM. \"\n"
     ]
    },
    {
     "name": "stdout",
     "output_type": "stream",
     "text": [
      "[LightGBM] [Warning] Auto-choosing row-wise multi-threading, the overhead of testing was 0.189599 seconds.\n",
      "You can set `force_row_wise=true` to remove the overhead.\n",
      "And if memory is not enough, you can set `force_col_wise=true`.\n",
      "[LightGBM] [Info] Total Bins 1173\n",
      "[LightGBM] [Info] Number of data points in the train set: 2368278, number of used features: 104\n",
      "[LightGBM] [Info] Start training from score 326.506259\n",
      "Training until validation scores don't improve for 100 rounds\n",
      "[LightGBM] [Warning] No further splits with positive gain, best gain: -inf\n",
      "[100]\tvalid_0's l2: 151047\n",
      "[LightGBM] [Warning] No further splits with positive gain, best gain: -inf\n",
      "[200]\tvalid_0's l2: 133727\n",
      "[LightGBM] [Warning] No further splits with positive gain, best gain: -inf\n",
      "[LightGBM] [Warning] No further splits with positive gain, best gain: -inf\n",
      "[300]\tvalid_0's l2: 130347\n",
      "[LightGBM] [Warning] No further splits with positive gain, best gain: -inf\n",
      "[400]\tvalid_0's l2: 130451\n",
      "Early stopping, best iteration is:\n",
      "[307]\tvalid_0's l2: 130211\n",
      "| \u001b[0m 73      \u001b[0m | \u001b[0m-1.341   \u001b[0m | \u001b[0m 0.617   \u001b[0m | \u001b[0m 0.5264  \u001b[0m | \u001b[0m 0.05074 \u001b[0m | \u001b[0m 57.49   \u001b[0m | \u001b[0m 5.426e+0\u001b[0m |\n"
     ]
    },
    {
     "name": "stderr",
     "output_type": "stream",
     "text": [
      "C:\\Users\\82104\\anaconda3\\lib\\site-packages\\lightgbm\\engine.py:181: UserWarning: 'early_stopping_rounds' argument is deprecated and will be removed in a future release of LightGBM. Pass 'early_stopping()' callback via 'callbacks' argument instead.\n",
      "  _log_warning(\"'early_stopping_rounds' argument is deprecated and will be removed in a future release of LightGBM. \"\n",
      "C:\\Users\\82104\\anaconda3\\lib\\site-packages\\lightgbm\\engine.py:239: UserWarning: 'verbose_eval' argument is deprecated and will be removed in a future release of LightGBM. Pass 'log_evaluation()' callback via 'callbacks' argument instead.\n",
      "  _log_warning(\"'verbose_eval' argument is deprecated and will be removed in a future release of LightGBM. \"\n"
     ]
    },
    {
     "name": "stdout",
     "output_type": "stream",
     "text": [
      "[LightGBM] [Warning] Auto-choosing row-wise multi-threading, the overhead of testing was 0.201789 seconds.\n",
      "You can set `force_row_wise=true` to remove the overhead.\n",
      "And if memory is not enough, you can set `force_col_wise=true`.\n",
      "[LightGBM] [Info] Total Bins 1173\n",
      "[LightGBM] [Info] Number of data points in the train set: 2368278, number of used features: 104\n",
      "[LightGBM] [Info] Start training from score 326.506259\n",
      "Training until validation scores don't improve for 100 rounds\n",
      "[100]\tvalid_0's l2: 113046\n",
      "[200]\tvalid_0's l2: 113736\n",
      "Early stopping, best iteration is:\n",
      "[124]\tvalid_0's l2: 112346\n",
      "| \u001b[0m 74      \u001b[0m | \u001b[0m-1.188   \u001b[0m | \u001b[0m 0.6457  \u001b[0m | \u001b[0m 0.7516  \u001b[0m | \u001b[0m 0.06139 \u001b[0m | \u001b[0m 96.29   \u001b[0m | \u001b[0m 5.109e+0\u001b[0m |\n"
     ]
    },
    {
     "name": "stderr",
     "output_type": "stream",
     "text": [
      "C:\\Users\\82104\\anaconda3\\lib\\site-packages\\lightgbm\\engine.py:181: UserWarning: 'early_stopping_rounds' argument is deprecated and will be removed in a future release of LightGBM. Pass 'early_stopping()' callback via 'callbacks' argument instead.\n",
      "  _log_warning(\"'early_stopping_rounds' argument is deprecated and will be removed in a future release of LightGBM. \"\n",
      "C:\\Users\\82104\\anaconda3\\lib\\site-packages\\lightgbm\\engine.py:239: UserWarning: 'verbose_eval' argument is deprecated and will be removed in a future release of LightGBM. Pass 'log_evaluation()' callback via 'callbacks' argument instead.\n",
      "  _log_warning(\"'verbose_eval' argument is deprecated and will be removed in a future release of LightGBM. \"\n"
     ]
    },
    {
     "name": "stdout",
     "output_type": "stream",
     "text": [
      "[LightGBM] [Warning] Auto-choosing row-wise multi-threading, the overhead of testing was 0.205491 seconds.\n",
      "You can set `force_row_wise=true` to remove the overhead.\n",
      "And if memory is not enough, you can set `force_col_wise=true`.\n",
      "[LightGBM] [Info] Total Bins 1173\n",
      "[LightGBM] [Info] Number of data points in the train set: 2368278, number of used features: 104\n",
      "[LightGBM] [Info] Start training from score 326.506259\n",
      "Training until validation scores don't improve for 100 rounds\n",
      "[100]\tvalid_0's l2: 131778\n",
      "[200]\tvalid_0's l2: 122397\n",
      "[300]\tvalid_0's l2: 121055\n",
      "Early stopping, best iteration is:\n",
      "[291]\tvalid_0's l2: 120740\n",
      "| \u001b[0m 75      \u001b[0m | \u001b[0m-1.277   \u001b[0m | \u001b[0m 0.4902  \u001b[0m | \u001b[0m 0.6113  \u001b[0m | \u001b[0m 0.05173 \u001b[0m | \u001b[0m 95.29   \u001b[0m | \u001b[0m 1.551e+0\u001b[0m |\n"
     ]
    },
    {
     "name": "stderr",
     "output_type": "stream",
     "text": [
      "C:\\Users\\82104\\anaconda3\\lib\\site-packages\\lightgbm\\engine.py:181: UserWarning: 'early_stopping_rounds' argument is deprecated and will be removed in a future release of LightGBM. Pass 'early_stopping()' callback via 'callbacks' argument instead.\n",
      "  _log_warning(\"'early_stopping_rounds' argument is deprecated and will be removed in a future release of LightGBM. \"\n",
      "C:\\Users\\82104\\anaconda3\\lib\\site-packages\\lightgbm\\engine.py:239: UserWarning: 'verbose_eval' argument is deprecated and will be removed in a future release of LightGBM. Pass 'log_evaluation()' callback via 'callbacks' argument instead.\n",
      "  _log_warning(\"'verbose_eval' argument is deprecated and will be removed in a future release of LightGBM. \"\n"
     ]
    },
    {
     "name": "stdout",
     "output_type": "stream",
     "text": [
      "[LightGBM] [Warning] Auto-choosing row-wise multi-threading, the overhead of testing was 0.197574 seconds.\n",
      "You can set `force_row_wise=true` to remove the overhead.\n",
      "And if memory is not enough, you can set `force_col_wise=true`.\n",
      "[LightGBM] [Info] Total Bins 1173\n",
      "[LightGBM] [Info] Number of data points in the train set: 2368278, number of used features: 104\n",
      "[LightGBM] [Info] Start training from score 326.506259\n",
      "Training until validation scores don't improve for 100 rounds\n",
      "[100]\tvalid_0's l2: 101127\n",
      "[200]\tvalid_0's l2: 103163\n",
      "Early stopping, best iteration is:\n",
      "[116]\tvalid_0's l2: 100592\n",
      "| \u001b[0m 76      \u001b[0m | \u001b[0m-0.9889  \u001b[0m | \u001b[0m 0.5031  \u001b[0m | \u001b[0m 0.8991  \u001b[0m | \u001b[0m 0.06887 \u001b[0m | \u001b[0m 60.48   \u001b[0m | \u001b[0m 3.21e+03\u001b[0m |\n"
     ]
    },
    {
     "name": "stderr",
     "output_type": "stream",
     "text": [
      "C:\\Users\\82104\\anaconda3\\lib\\site-packages\\lightgbm\\engine.py:181: UserWarning: 'early_stopping_rounds' argument is deprecated and will be removed in a future release of LightGBM. Pass 'early_stopping()' callback via 'callbacks' argument instead.\n",
      "  _log_warning(\"'early_stopping_rounds' argument is deprecated and will be removed in a future release of LightGBM. \"\n",
      "C:\\Users\\82104\\anaconda3\\lib\\site-packages\\lightgbm\\engine.py:239: UserWarning: 'verbose_eval' argument is deprecated and will be removed in a future release of LightGBM. Pass 'log_evaluation()' callback via 'callbacks' argument instead.\n",
      "  _log_warning(\"'verbose_eval' argument is deprecated and will be removed in a future release of LightGBM. \"\n"
     ]
    },
    {
     "name": "stdout",
     "output_type": "stream",
     "text": [
      "[LightGBM] [Warning] Auto-choosing row-wise multi-threading, the overhead of testing was 0.236658 seconds.\n",
      "You can set `force_row_wise=true` to remove the overhead.\n",
      "And if memory is not enough, you can set `force_col_wise=true`.\n",
      "[LightGBM] [Info] Total Bins 1173\n",
      "[LightGBM] [Info] Number of data points in the train set: 2368278, number of used features: 104\n",
      "[LightGBM] [Info] Start training from score 326.506259\n",
      "Training until validation scores don't improve for 100 rounds\n",
      "[100]\tvalid_0's l2: 102445\n",
      "[200]\tvalid_0's l2: 105050\n",
      "Early stopping, best iteration is:\n",
      "[113]\tvalid_0's l2: 102113\n",
      "| \u001b[0m 77      \u001b[0m | \u001b[0m-0.9857  \u001b[0m | \u001b[0m 0.7716  \u001b[0m | \u001b[0m 0.8639  \u001b[0m | \u001b[0m 0.06614 \u001b[0m | \u001b[0m 46.58   \u001b[0m | \u001b[0m 4.396e+0\u001b[0m |\n"
     ]
    },
    {
     "name": "stderr",
     "output_type": "stream",
     "text": [
      "C:\\Users\\82104\\anaconda3\\lib\\site-packages\\lightgbm\\engine.py:181: UserWarning: 'early_stopping_rounds' argument is deprecated and will be removed in a future release of LightGBM. Pass 'early_stopping()' callback via 'callbacks' argument instead.\n",
      "  _log_warning(\"'early_stopping_rounds' argument is deprecated and will be removed in a future release of LightGBM. \"\n",
      "C:\\Users\\82104\\anaconda3\\lib\\site-packages\\lightgbm\\engine.py:239: UserWarning: 'verbose_eval' argument is deprecated and will be removed in a future release of LightGBM. Pass 'log_evaluation()' callback via 'callbacks' argument instead.\n",
      "  _log_warning(\"'verbose_eval' argument is deprecated and will be removed in a future release of LightGBM. \"\n"
     ]
    },
    {
     "name": "stdout",
     "output_type": "stream",
     "text": [
      "[LightGBM] [Warning] Auto-choosing row-wise multi-threading, the overhead of testing was 0.209687 seconds.\n",
      "You can set `force_row_wise=true` to remove the overhead.\n",
      "And if memory is not enough, you can set `force_col_wise=true`.\n",
      "[LightGBM] [Info] Total Bins 1173\n",
      "[LightGBM] [Info] Number of data points in the train set: 2368278, number of used features: 104\n",
      "[LightGBM] [Info] Start training from score 326.506259\n",
      "Training until validation scores don't improve for 100 rounds\n",
      "[100]\tvalid_0's l2: 103133\n",
      "Early stopping, best iteration is:\n",
      "[94]\tvalid_0's l2: 102824\n",
      "| \u001b[0m 78      \u001b[0m | \u001b[0m-0.964   \u001b[0m | \u001b[0m 0.4688  \u001b[0m | \u001b[0m 0.8852  \u001b[0m | \u001b[0m 0.0751  \u001b[0m | \u001b[0m 89.87   \u001b[0m | \u001b[0m 5.297e+0\u001b[0m |\n"
     ]
    },
    {
     "name": "stderr",
     "output_type": "stream",
     "text": [
      "C:\\Users\\82104\\anaconda3\\lib\\site-packages\\lightgbm\\engine.py:181: UserWarning: 'early_stopping_rounds' argument is deprecated and will be removed in a future release of LightGBM. Pass 'early_stopping()' callback via 'callbacks' argument instead.\n",
      "  _log_warning(\"'early_stopping_rounds' argument is deprecated and will be removed in a future release of LightGBM. \"\n",
      "C:\\Users\\82104\\anaconda3\\lib\\site-packages\\lightgbm\\engine.py:239: UserWarning: 'verbose_eval' argument is deprecated and will be removed in a future release of LightGBM. Pass 'log_evaluation()' callback via 'callbacks' argument instead.\n",
      "  _log_warning(\"'verbose_eval' argument is deprecated and will be removed in a future release of LightGBM. \"\n"
     ]
    },
    {
     "name": "stdout",
     "output_type": "stream",
     "text": [
      "[LightGBM] [Warning] Auto-choosing row-wise multi-threading, the overhead of testing was 0.225157 seconds.\n",
      "You can set `force_row_wise=true` to remove the overhead.\n",
      "And if memory is not enough, you can set `force_col_wise=true`.\n",
      "[LightGBM] [Info] Total Bins 1173\n",
      "[LightGBM] [Info] Number of data points in the train set: 2368278, number of used features: 104\n",
      "[LightGBM] [Info] Start training from score 326.506259\n",
      "Training until validation scores don't improve for 100 rounds\n",
      "[LightGBM] [Warning] No further splits with positive gain, best gain: -inf\n",
      "[100]\tvalid_0's l2: 178835\n",
      "[LightGBM] [Warning] No further splits with positive gain, best gain: -inf\n",
      "[200]\tvalid_0's l2: 134810\n",
      "[LightGBM] [Warning] No further splits with positive gain, best gain: -inf\n",
      "[LightGBM] [Warning] No further splits with positive gain, best gain: -inf\n",
      "[300]\tvalid_0's l2: 128854\n",
      "[400]\tvalid_0's l2: 127644\n",
      "[LightGBM] [Warning] No further splits with positive gain, best gain: -inf\n",
      "[500]\tvalid_0's l2: 127694\n",
      "Early stopping, best iteration is:\n",
      "[410]\tvalid_0's l2: 127547\n",
      "| \u001b[0m 79      \u001b[0m | \u001b[0m-1.279   \u001b[0m | \u001b[0m 0.459   \u001b[0m | \u001b[0m 0.5639  \u001b[0m | \u001b[0m 0.03103 \u001b[0m | \u001b[0m 98.62   \u001b[0m | \u001b[0m 7.083e+0\u001b[0m |\n"
     ]
    },
    {
     "name": "stderr",
     "output_type": "stream",
     "text": [
      "C:\\Users\\82104\\anaconda3\\lib\\site-packages\\lightgbm\\engine.py:181: UserWarning: 'early_stopping_rounds' argument is deprecated and will be removed in a future release of LightGBM. Pass 'early_stopping()' callback via 'callbacks' argument instead.\n",
      "  _log_warning(\"'early_stopping_rounds' argument is deprecated and will be removed in a future release of LightGBM. \"\n",
      "C:\\Users\\82104\\anaconda3\\lib\\site-packages\\lightgbm\\engine.py:239: UserWarning: 'verbose_eval' argument is deprecated and will be removed in a future release of LightGBM. Pass 'log_evaluation()' callback via 'callbacks' argument instead.\n",
      "  _log_warning(\"'verbose_eval' argument is deprecated and will be removed in a future release of LightGBM. \"\n"
     ]
    },
    {
     "name": "stdout",
     "output_type": "stream",
     "text": [
      "[LightGBM] [Warning] Auto-choosing row-wise multi-threading, the overhead of testing was 0.226372 seconds.\n",
      "You can set `force_row_wise=true` to remove the overhead.\n",
      "And if memory is not enough, you can set `force_col_wise=true`.\n",
      "[LightGBM] [Info] Total Bins 1173\n",
      "[LightGBM] [Info] Number of data points in the train set: 2368278, number of used features: 104\n",
      "[LightGBM] [Info] Start training from score 326.506259\n",
      "Training until validation scores don't improve for 100 rounds\n",
      "[100]\tvalid_0's l2: 128137\n",
      "[200]\tvalid_0's l2: 127886\n",
      "Early stopping, best iteration is:\n",
      "[114]\tvalid_0's l2: 127386\n",
      "| \u001b[0m 80      \u001b[0m | \u001b[0m-1.287   \u001b[0m | \u001b[0m 0.4709  \u001b[0m | \u001b[0m 0.643   \u001b[0m | \u001b[0m 0.08882 \u001b[0m | \u001b[0m 60.13   \u001b[0m | \u001b[0m 3.21e+03\u001b[0m |\n"
     ]
    },
    {
     "name": "stderr",
     "output_type": "stream",
     "text": [
      "C:\\Users\\82104\\anaconda3\\lib\\site-packages\\lightgbm\\engine.py:181: UserWarning: 'early_stopping_rounds' argument is deprecated and will be removed in a future release of LightGBM. Pass 'early_stopping()' callback via 'callbacks' argument instead.\n",
      "  _log_warning(\"'early_stopping_rounds' argument is deprecated and will be removed in a future release of LightGBM. \"\n",
      "C:\\Users\\82104\\anaconda3\\lib\\site-packages\\lightgbm\\engine.py:239: UserWarning: 'verbose_eval' argument is deprecated and will be removed in a future release of LightGBM. Pass 'log_evaluation()' callback via 'callbacks' argument instead.\n",
      "  _log_warning(\"'verbose_eval' argument is deprecated and will be removed in a future release of LightGBM. \"\n"
     ]
    },
    {
     "name": "stdout",
     "output_type": "stream",
     "text": [
      "[LightGBM] [Warning] Auto-choosing row-wise multi-threading, the overhead of testing was 0.191701 seconds.\n",
      "You can set `force_row_wise=true` to remove the overhead.\n",
      "And if memory is not enough, you can set `force_col_wise=true`.\n",
      "[LightGBM] [Info] Total Bins 1173\n",
      "[LightGBM] [Info] Number of data points in the train set: 2368278, number of used features: 104\n",
      "[LightGBM] [Info] Start training from score 326.506259\n",
      "Training until validation scores don't improve for 100 rounds\n",
      "[100]\tvalid_0's l2: 108506\n",
      "Early stopping, best iteration is:\n",
      "[80]\tvalid_0's l2: 107589\n",
      "| \u001b[0m 81      \u001b[0m | \u001b[0m-1.019   \u001b[0m | \u001b[0m 0.7092  \u001b[0m | \u001b[0m 0.8037  \u001b[0m | \u001b[0m 0.09377 \u001b[0m | \u001b[0m 96.72   \u001b[0m | \u001b[0m 6.459e+0\u001b[0m |\n"
     ]
    },
    {
     "name": "stderr",
     "output_type": "stream",
     "text": [
      "C:\\Users\\82104\\anaconda3\\lib\\site-packages\\lightgbm\\engine.py:181: UserWarning: 'early_stopping_rounds' argument is deprecated and will be removed in a future release of LightGBM. Pass 'early_stopping()' callback via 'callbacks' argument instead.\n",
      "  _log_warning(\"'early_stopping_rounds' argument is deprecated and will be removed in a future release of LightGBM. \"\n",
      "C:\\Users\\82104\\anaconda3\\lib\\site-packages\\lightgbm\\engine.py:239: UserWarning: 'verbose_eval' argument is deprecated and will be removed in a future release of LightGBM. Pass 'log_evaluation()' callback via 'callbacks' argument instead.\n",
      "  _log_warning(\"'verbose_eval' argument is deprecated and will be removed in a future release of LightGBM. \"\n"
     ]
    },
    {
     "name": "stdout",
     "output_type": "stream",
     "text": [
      "[LightGBM] [Warning] Auto-choosing row-wise multi-threading, the overhead of testing was 0.187715 seconds.\n",
      "You can set `force_row_wise=true` to remove the overhead.\n",
      "And if memory is not enough, you can set `force_col_wise=true`.\n",
      "[LightGBM] [Info] Total Bins 1173\n",
      "[LightGBM] [Info] Number of data points in the train set: 2368278, number of used features: 104\n",
      "[LightGBM] [Info] Start training from score 326.506259\n",
      "Training until validation scores don't improve for 100 rounds\n",
      "[100]\tvalid_0's l2: 130390\n",
      "[200]\tvalid_0's l2: 131059\n",
      "Early stopping, best iteration is:\n",
      "[144]\tvalid_0's l2: 129841\n",
      "| \u001b[0m 82      \u001b[0m | \u001b[0m-1.35    \u001b[0m | \u001b[0m 0.6706  \u001b[0m | \u001b[0m 0.6333  \u001b[0m | \u001b[0m 0.09403 \u001b[0m | \u001b[0m 88.4    \u001b[0m | \u001b[0m 9.401e+0\u001b[0m |\n"
     ]
    },
    {
     "name": "stderr",
     "output_type": "stream",
     "text": [
      "C:\\Users\\82104\\anaconda3\\lib\\site-packages\\lightgbm\\engine.py:181: UserWarning: 'early_stopping_rounds' argument is deprecated and will be removed in a future release of LightGBM. Pass 'early_stopping()' callback via 'callbacks' argument instead.\n",
      "  _log_warning(\"'early_stopping_rounds' argument is deprecated and will be removed in a future release of LightGBM. \"\n",
      "C:\\Users\\82104\\anaconda3\\lib\\site-packages\\lightgbm\\engine.py:239: UserWarning: 'verbose_eval' argument is deprecated and will be removed in a future release of LightGBM. Pass 'log_evaluation()' callback via 'callbacks' argument instead.\n",
      "  _log_warning(\"'verbose_eval' argument is deprecated and will be removed in a future release of LightGBM. \"\n"
     ]
    },
    {
     "name": "stdout",
     "output_type": "stream",
     "text": [
      "[LightGBM] [Warning] Auto-choosing row-wise multi-threading, the overhead of testing was 0.204390 seconds.\n",
      "You can set `force_row_wise=true` to remove the overhead.\n",
      "And if memory is not enough, you can set `force_col_wise=true`.\n",
      "[LightGBM] [Info] Total Bins 1173\n",
      "[LightGBM] [Info] Number of data points in the train set: 2368278, number of used features: 104\n",
      "[LightGBM] [Info] Start training from score 326.506259\n",
      "Training until validation scores don't improve for 100 rounds\n",
      "[100]\tvalid_0's l2: 103181\n",
      "[200]\tvalid_0's l2: 103418\n",
      "Early stopping, best iteration is:\n",
      "[156]\tvalid_0's l2: 102044\n",
      "| \u001b[0m 83      \u001b[0m | \u001b[0m-1.005   \u001b[0m | \u001b[0m 0.5903  \u001b[0m | \u001b[0m 0.8372  \u001b[0m | \u001b[0m 0.05085 \u001b[0m | \u001b[0m 49.89   \u001b[0m | \u001b[0m 3.044e+0\u001b[0m |\n"
     ]
    },
    {
     "name": "stderr",
     "output_type": "stream",
     "text": [
      "C:\\Users\\82104\\anaconda3\\lib\\site-packages\\lightgbm\\engine.py:181: UserWarning: 'early_stopping_rounds' argument is deprecated and will be removed in a future release of LightGBM. Pass 'early_stopping()' callback via 'callbacks' argument instead.\n",
      "  _log_warning(\"'early_stopping_rounds' argument is deprecated and will be removed in a future release of LightGBM. \"\n",
      "C:\\Users\\82104\\anaconda3\\lib\\site-packages\\lightgbm\\engine.py:239: UserWarning: 'verbose_eval' argument is deprecated and will be removed in a future release of LightGBM. Pass 'log_evaluation()' callback via 'callbacks' argument instead.\n",
      "  _log_warning(\"'verbose_eval' argument is deprecated and will be removed in a future release of LightGBM. \"\n"
     ]
    },
    {
     "name": "stdout",
     "output_type": "stream",
     "text": [
      "[LightGBM] [Warning] Auto-choosing row-wise multi-threading, the overhead of testing was 0.180346 seconds.\n",
      "You can set `force_row_wise=true` to remove the overhead.\n",
      "And if memory is not enough, you can set `force_col_wise=true`.\n",
      "[LightGBM] [Info] Total Bins 1173\n",
      "[LightGBM] [Info] Number of data points in the train set: 2368278, number of used features: 104\n",
      "[LightGBM] [Info] Start training from score 326.506259\n",
      "Training until validation scores don't improve for 100 rounds\n",
      "[100]\tvalid_0's l2: 109409\n",
      "Early stopping, best iteration is:\n",
      "[94]\tvalid_0's l2: 109327\n",
      "| \u001b[0m 84      \u001b[0m | \u001b[0m-1.063   \u001b[0m | \u001b[0m 0.4098  \u001b[0m | \u001b[0m 0.7831  \u001b[0m | \u001b[0m 0.08832 \u001b[0m | \u001b[0m 69.83   \u001b[0m | \u001b[0m 5.498e+0\u001b[0m |\n"
     ]
    },
    {
     "name": "stderr",
     "output_type": "stream",
     "text": [
      "C:\\Users\\82104\\anaconda3\\lib\\site-packages\\lightgbm\\engine.py:181: UserWarning: 'early_stopping_rounds' argument is deprecated and will be removed in a future release of LightGBM. Pass 'early_stopping()' callback via 'callbacks' argument instead.\n",
      "  _log_warning(\"'early_stopping_rounds' argument is deprecated and will be removed in a future release of LightGBM. \"\n",
      "C:\\Users\\82104\\anaconda3\\lib\\site-packages\\lightgbm\\engine.py:239: UserWarning: 'verbose_eval' argument is deprecated and will be removed in a future release of LightGBM. Pass 'log_evaluation()' callback via 'callbacks' argument instead.\n",
      "  _log_warning(\"'verbose_eval' argument is deprecated and will be removed in a future release of LightGBM. \"\n"
     ]
    },
    {
     "name": "stdout",
     "output_type": "stream",
     "text": [
      "[LightGBM] [Warning] Auto-choosing row-wise multi-threading, the overhead of testing was 0.204620 seconds.\n",
      "You can set `force_row_wise=true` to remove the overhead.\n",
      "And if memory is not enough, you can set `force_col_wise=true`.\n",
      "[LightGBM] [Info] Total Bins 1173\n",
      "[LightGBM] [Info] Number of data points in the train set: 2368278, number of used features: 104\n",
      "[LightGBM] [Info] Start training from score 326.506259\n",
      "Training until validation scores don't improve for 100 rounds\n",
      "[100]\tvalid_0's l2: 104182\n",
      "[200]\tvalid_0's l2: 105494\n",
      "Early stopping, best iteration is:\n",
      "[135]\tvalid_0's l2: 103635\n",
      "| \u001b[0m 85      \u001b[0m | \u001b[0m-1.02    \u001b[0m | \u001b[0m 0.5185  \u001b[0m | \u001b[0m 0.8192  \u001b[0m | \u001b[0m 0.06698 \u001b[0m | \u001b[0m 57.63   \u001b[0m | \u001b[0m 4.115e+0\u001b[0m |\n"
     ]
    },
    {
     "name": "stderr",
     "output_type": "stream",
     "text": [
      "C:\\Users\\82104\\anaconda3\\lib\\site-packages\\lightgbm\\engine.py:181: UserWarning: 'early_stopping_rounds' argument is deprecated and will be removed in a future release of LightGBM. Pass 'early_stopping()' callback via 'callbacks' argument instead.\n",
      "  _log_warning(\"'early_stopping_rounds' argument is deprecated and will be removed in a future release of LightGBM. \"\n",
      "C:\\Users\\82104\\anaconda3\\lib\\site-packages\\lightgbm\\engine.py:239: UserWarning: 'verbose_eval' argument is deprecated and will be removed in a future release of LightGBM. Pass 'log_evaluation()' callback via 'callbacks' argument instead.\n",
      "  _log_warning(\"'verbose_eval' argument is deprecated and will be removed in a future release of LightGBM. \"\n"
     ]
    },
    {
     "name": "stdout",
     "output_type": "stream",
     "text": [
      "[LightGBM] [Warning] Auto-choosing row-wise multi-threading, the overhead of testing was 0.194198 seconds.\n",
      "You can set `force_row_wise=true` to remove the overhead.\n",
      "And if memory is not enough, you can set `force_col_wise=true`.\n",
      "[LightGBM] [Info] Total Bins 1173\n",
      "[LightGBM] [Info] Number of data points in the train set: 2368278, number of used features: 104\n",
      "[LightGBM] [Info] Start training from score 326.506259\n",
      "Training until validation scores don't improve for 100 rounds\n",
      "[100]\tvalid_0's l2: 122103\n",
      "[200]\tvalid_0's l2: 119236\n",
      "Early stopping, best iteration is:\n",
      "[196]\tvalid_0's l2: 119180\n",
      "| \u001b[0m 86      \u001b[0m | \u001b[0m-1.265   \u001b[0m | \u001b[0m 0.4911  \u001b[0m | \u001b[0m 0.6232  \u001b[0m | \u001b[0m 0.08346 \u001b[0m | \u001b[0m 68.04   \u001b[0m | \u001b[0m 1.247e+0\u001b[0m |\n"
     ]
    },
    {
     "name": "stderr",
     "output_type": "stream",
     "text": [
      "C:\\Users\\82104\\anaconda3\\lib\\site-packages\\lightgbm\\engine.py:181: UserWarning: 'early_stopping_rounds' argument is deprecated and will be removed in a future release of LightGBM. Pass 'early_stopping()' callback via 'callbacks' argument instead.\n",
      "  _log_warning(\"'early_stopping_rounds' argument is deprecated and will be removed in a future release of LightGBM. \"\n",
      "C:\\Users\\82104\\anaconda3\\lib\\site-packages\\lightgbm\\engine.py:239: UserWarning: 'verbose_eval' argument is deprecated and will be removed in a future release of LightGBM. Pass 'log_evaluation()' callback via 'callbacks' argument instead.\n",
      "  _log_warning(\"'verbose_eval' argument is deprecated and will be removed in a future release of LightGBM. \"\n"
     ]
    },
    {
     "name": "stdout",
     "output_type": "stream",
     "text": [
      "[LightGBM] [Warning] Auto-choosing row-wise multi-threading, the overhead of testing was 0.186179 seconds.\n",
      "You can set `force_row_wise=true` to remove the overhead.\n",
      "And if memory is not enough, you can set `force_col_wise=true`.\n",
      "[LightGBM] [Info] Total Bins 1173\n",
      "[LightGBM] [Info] Number of data points in the train set: 2368278, number of used features: 104\n",
      "[LightGBM] [Info] Start training from score 326.506259\n",
      "Training until validation scores don't improve for 100 rounds\n",
      "[100]\tvalid_0's l2: 107452\n",
      "[200]\tvalid_0's l2: 100999\n",
      "[300]\tvalid_0's l2: 102659\n",
      "Early stopping, best iteration is:\n",
      "[208]\tvalid_0's l2: 100828\n",
      "| \u001b[0m 87      \u001b[0m | \u001b[0m-0.966   \u001b[0m | \u001b[0m 0.4776  \u001b[0m | \u001b[0m 0.8384  \u001b[0m | \u001b[0m 0.03792 \u001b[0m | \u001b[0m 69.06   \u001b[0m | \u001b[0m 6.66e+03\u001b[0m |\n"
     ]
    },
    {
     "name": "stderr",
     "output_type": "stream",
     "text": [
      "C:\\Users\\82104\\anaconda3\\lib\\site-packages\\lightgbm\\engine.py:181: UserWarning: 'early_stopping_rounds' argument is deprecated and will be removed in a future release of LightGBM. Pass 'early_stopping()' callback via 'callbacks' argument instead.\n",
      "  _log_warning(\"'early_stopping_rounds' argument is deprecated and will be removed in a future release of LightGBM. \"\n",
      "C:\\Users\\82104\\anaconda3\\lib\\site-packages\\lightgbm\\engine.py:239: UserWarning: 'verbose_eval' argument is deprecated and will be removed in a future release of LightGBM. Pass 'log_evaluation()' callback via 'callbacks' argument instead.\n",
      "  _log_warning(\"'verbose_eval' argument is deprecated and will be removed in a future release of LightGBM. \"\n"
     ]
    },
    {
     "name": "stdout",
     "output_type": "stream",
     "text": [
      "[LightGBM] [Warning] Auto-choosing row-wise multi-threading, the overhead of testing was 0.196143 seconds.\n",
      "You can set `force_row_wise=true` to remove the overhead.\n",
      "And if memory is not enough, you can set `force_col_wise=true`.\n",
      "[LightGBM] [Info] Total Bins 1173\n",
      "[LightGBM] [Info] Number of data points in the train set: 2368278, number of used features: 104\n",
      "[LightGBM] [Info] Start training from score 326.506259\n",
      "Training until validation scores don't improve for 100 rounds\n",
      "[100]\tvalid_0's l2: 139963\n",
      "[200]\tvalid_0's l2: 115124\n",
      "[300]\tvalid_0's l2: 112434\n",
      "[400]\tvalid_0's l2: 110830\n",
      "[500]\tvalid_0's l2: 109138\n",
      "[600]\tvalid_0's l2: 108416\n",
      "[700]\tvalid_0's l2: 108336\n",
      "[800]\tvalid_0's l2: 108321\n",
      "Early stopping, best iteration is:\n",
      "[760]\tvalid_0's l2: 108079\n",
      "| \u001b[0m 88      \u001b[0m | \u001b[0m-1.188   \u001b[0m | \u001b[0m 0.7645  \u001b[0m | \u001b[0m 0.6682  \u001b[0m | \u001b[0m 0.03568 \u001b[0m | \u001b[0m 61.37   \u001b[0m | \u001b[0m 397.5   \u001b[0m |\n"
     ]
    },
    {
     "name": "stderr",
     "output_type": "stream",
     "text": [
      "C:\\Users\\82104\\anaconda3\\lib\\site-packages\\lightgbm\\engine.py:181: UserWarning: 'early_stopping_rounds' argument is deprecated and will be removed in a future release of LightGBM. Pass 'early_stopping()' callback via 'callbacks' argument instead.\n",
      "  _log_warning(\"'early_stopping_rounds' argument is deprecated and will be removed in a future release of LightGBM. \"\n",
      "C:\\Users\\82104\\anaconda3\\lib\\site-packages\\lightgbm\\engine.py:239: UserWarning: 'verbose_eval' argument is deprecated and will be removed in a future release of LightGBM. Pass 'log_evaluation()' callback via 'callbacks' argument instead.\n",
      "  _log_warning(\"'verbose_eval' argument is deprecated and will be removed in a future release of LightGBM. \"\n"
     ]
    },
    {
     "name": "stdout",
     "output_type": "stream",
     "text": [
      "[LightGBM] [Warning] Auto-choosing row-wise multi-threading, the overhead of testing was 0.211002 seconds.\n",
      "You can set `force_row_wise=true` to remove the overhead.\n",
      "And if memory is not enough, you can set `force_col_wise=true`.\n",
      "[LightGBM] [Info] Total Bins 1173\n",
      "[LightGBM] [Info] Number of data points in the train set: 2368278, number of used features: 104\n",
      "[LightGBM] [Info] Start training from score 326.506259\n",
      "Training until validation scores don't improve for 100 rounds\n",
      "[100]\tvalid_0's l2: 130686\n",
      "[200]\tvalid_0's l2: 130366\n",
      "Early stopping, best iteration is:\n",
      "[130]\tvalid_0's l2: 129316\n",
      "| \u001b[0m 89      \u001b[0m | \u001b[0m-1.267   \u001b[0m | \u001b[0m 0.7569  \u001b[0m | \u001b[0m 0.6432  \u001b[0m | \u001b[0m 0.09392 \u001b[0m | \u001b[0m 31.79   \u001b[0m | \u001b[0m 6.133e+0\u001b[0m |\n"
     ]
    },
    {
     "name": "stderr",
     "output_type": "stream",
     "text": [
      "C:\\Users\\82104\\anaconda3\\lib\\site-packages\\lightgbm\\engine.py:181: UserWarning: 'early_stopping_rounds' argument is deprecated and will be removed in a future release of LightGBM. Pass 'early_stopping()' callback via 'callbacks' argument instead.\n",
      "  _log_warning(\"'early_stopping_rounds' argument is deprecated and will be removed in a future release of LightGBM. \"\n",
      "C:\\Users\\82104\\anaconda3\\lib\\site-packages\\lightgbm\\engine.py:239: UserWarning: 'verbose_eval' argument is deprecated and will be removed in a future release of LightGBM. Pass 'log_evaluation()' callback via 'callbacks' argument instead.\n",
      "  _log_warning(\"'verbose_eval' argument is deprecated and will be removed in a future release of LightGBM. \"\n"
     ]
    },
    {
     "name": "stdout",
     "output_type": "stream",
     "text": [
      "[LightGBM] [Warning] Auto-choosing row-wise multi-threading, the overhead of testing was 0.216161 seconds.\n",
      "You can set `force_row_wise=true` to remove the overhead.\n",
      "And if memory is not enough, you can set `force_col_wise=true`.\n",
      "[LightGBM] [Info] Total Bins 1173\n",
      "[LightGBM] [Info] Number of data points in the train set: 2368278, number of used features: 104\n",
      "[LightGBM] [Info] Start training from score 326.506259\n",
      "Training until validation scores don't improve for 100 rounds\n",
      "[100]\tvalid_0's l2: 105997\n",
      "Early stopping, best iteration is:\n",
      "[81]\tvalid_0's l2: 105666\n",
      "| \u001b[0m 90      \u001b[0m | \u001b[0m-1.061   \u001b[0m | \u001b[0m 0.4063  \u001b[0m | \u001b[0m 0.8043  \u001b[0m | \u001b[0m 0.08556 \u001b[0m | \u001b[0m 46.84   \u001b[0m | \u001b[0m 4.396e+0\u001b[0m |\n"
     ]
    },
    {
     "name": "stderr",
     "output_type": "stream",
     "text": [
      "C:\\Users\\82104\\anaconda3\\lib\\site-packages\\lightgbm\\engine.py:181: UserWarning: 'early_stopping_rounds' argument is deprecated and will be removed in a future release of LightGBM. Pass 'early_stopping()' callback via 'callbacks' argument instead.\n",
      "  _log_warning(\"'early_stopping_rounds' argument is deprecated and will be removed in a future release of LightGBM. \"\n",
      "C:\\Users\\82104\\anaconda3\\lib\\site-packages\\lightgbm\\engine.py:239: UserWarning: 'verbose_eval' argument is deprecated and will be removed in a future release of LightGBM. Pass 'log_evaluation()' callback via 'callbacks' argument instead.\n",
      "  _log_warning(\"'verbose_eval' argument is deprecated and will be removed in a future release of LightGBM. \"\n"
     ]
    },
    {
     "name": "stdout",
     "output_type": "stream",
     "text": [
      "[LightGBM] [Warning] Auto-choosing row-wise multi-threading, the overhead of testing was 0.226251 seconds.\n",
      "You can set `force_row_wise=true` to remove the overhead.\n",
      "And if memory is not enough, you can set `force_col_wise=true`.\n",
      "[LightGBM] [Info] Total Bins 1173\n",
      "[LightGBM] [Info] Number of data points in the train set: 2368278, number of used features: 104\n",
      "[LightGBM] [Info] Start training from score 326.506259\n",
      "Training until validation scores don't improve for 100 rounds\n",
      "[100]\tvalid_0's l2: 140738\n",
      "[200]\tvalid_0's l2: 122440\n",
      "[300]\tvalid_0's l2: 120768\n",
      "Early stopping, best iteration is:\n",
      "[275]\tvalid_0's l2: 120506\n",
      "| \u001b[0m 91      \u001b[0m | \u001b[0m-1.228   \u001b[0m | \u001b[0m 0.7616  \u001b[0m | \u001b[0m 0.6742  \u001b[0m | \u001b[0m 0.03497 \u001b[0m | \u001b[0m 72.45   \u001b[0m | \u001b[0m 8.474e+0\u001b[0m |\n"
     ]
    },
    {
     "name": "stderr",
     "output_type": "stream",
     "text": [
      "C:\\Users\\82104\\anaconda3\\lib\\site-packages\\lightgbm\\engine.py:181: UserWarning: 'early_stopping_rounds' argument is deprecated and will be removed in a future release of LightGBM. Pass 'early_stopping()' callback via 'callbacks' argument instead.\n",
      "  _log_warning(\"'early_stopping_rounds' argument is deprecated and will be removed in a future release of LightGBM. \"\n",
      "C:\\Users\\82104\\anaconda3\\lib\\site-packages\\lightgbm\\engine.py:239: UserWarning: 'verbose_eval' argument is deprecated and will be removed in a future release of LightGBM. Pass 'log_evaluation()' callback via 'callbacks' argument instead.\n",
      "  _log_warning(\"'verbose_eval' argument is deprecated and will be removed in a future release of LightGBM. \"\n"
     ]
    },
    {
     "name": "stdout",
     "output_type": "stream",
     "text": [
      "[LightGBM] [Warning] Auto-choosing row-wise multi-threading, the overhead of testing was 0.185080 seconds.\n",
      "You can set `force_row_wise=true` to remove the overhead.\n",
      "And if memory is not enough, you can set `force_col_wise=true`.\n",
      "[LightGBM] [Info] Total Bins 1173\n",
      "[LightGBM] [Info] Number of data points in the train set: 2368278, number of used features: 104\n",
      "[LightGBM] [Info] Start training from score 326.506259\n",
      "Training until validation scores don't improve for 100 rounds\n",
      "[LightGBM] [Warning] No further splits with positive gain, best gain: -inf\n",
      "[LightGBM] [Warning] No further splits with positive gain, best gain: -inf\n",
      "[100]\tvalid_0's l2: 147439\n",
      "[LightGBM] [Warning] No further splits with positive gain, best gain: -inf\n",
      "[200]\tvalid_0's l2: 136195\n",
      "[LightGBM] [Warning] No further splits with positive gain, best gain: -inf\n",
      "[300]\tvalid_0's l2: 134293\n",
      "[LightGBM] [Warning] No further splits with positive gain, best gain: -inf\n",
      "[400]\tvalid_0's l2: 134466\n",
      "Early stopping, best iteration is:\n",
      "[306]\tvalid_0's l2: 134132\n",
      "| \u001b[0m 92      \u001b[0m | \u001b[0m-1.328   \u001b[0m | \u001b[0m 0.6007  \u001b[0m | \u001b[0m 0.5142  \u001b[0m | \u001b[0m 0.06116 \u001b[0m | \u001b[0m 90.15   \u001b[0m | \u001b[0m 4.404e+0\u001b[0m |\n"
     ]
    },
    {
     "name": "stderr",
     "output_type": "stream",
     "text": [
      "C:\\Users\\82104\\anaconda3\\lib\\site-packages\\lightgbm\\engine.py:181: UserWarning: 'early_stopping_rounds' argument is deprecated and will be removed in a future release of LightGBM. Pass 'early_stopping()' callback via 'callbacks' argument instead.\n",
      "  _log_warning(\"'early_stopping_rounds' argument is deprecated and will be removed in a future release of LightGBM. \"\n",
      "C:\\Users\\82104\\anaconda3\\lib\\site-packages\\lightgbm\\engine.py:239: UserWarning: 'verbose_eval' argument is deprecated and will be removed in a future release of LightGBM. Pass 'log_evaluation()' callback via 'callbacks' argument instead.\n",
      "  _log_warning(\"'verbose_eval' argument is deprecated and will be removed in a future release of LightGBM. \"\n"
     ]
    },
    {
     "name": "stdout",
     "output_type": "stream",
     "text": [
      "[LightGBM] [Warning] Auto-choosing row-wise multi-threading, the overhead of testing was 0.200026 seconds.\n",
      "You can set `force_row_wise=true` to remove the overhead.\n",
      "And if memory is not enough, you can set `force_col_wise=true`.\n",
      "[LightGBM] [Info] Total Bins 1173\n",
      "[LightGBM] [Info] Number of data points in the train set: 2368278, number of used features: 104\n",
      "[LightGBM] [Info] Start training from score 326.506259\n",
      "Training until validation scores don't improve for 100 rounds\n",
      "[100]\tvalid_0's l2: 104632\n",
      "Early stopping, best iteration is:\n",
      "[73]\tvalid_0's l2: 103935\n",
      "| \u001b[0m 93      \u001b[0m | \u001b[0m-1.005   \u001b[0m | \u001b[0m 0.5835  \u001b[0m | \u001b[0m 0.8485  \u001b[0m | \u001b[0m 0.07643 \u001b[0m | \u001b[0m 46.18   \u001b[0m | \u001b[0m 6.463e+0\u001b[0m |\n"
     ]
    },
    {
     "name": "stderr",
     "output_type": "stream",
     "text": [
      "C:\\Users\\82104\\anaconda3\\lib\\site-packages\\lightgbm\\engine.py:181: UserWarning: 'early_stopping_rounds' argument is deprecated and will be removed in a future release of LightGBM. Pass 'early_stopping()' callback via 'callbacks' argument instead.\n",
      "  _log_warning(\"'early_stopping_rounds' argument is deprecated and will be removed in a future release of LightGBM. \"\n",
      "C:\\Users\\82104\\anaconda3\\lib\\site-packages\\lightgbm\\engine.py:239: UserWarning: 'verbose_eval' argument is deprecated and will be removed in a future release of LightGBM. Pass 'log_evaluation()' callback via 'callbacks' argument instead.\n",
      "  _log_warning(\"'verbose_eval' argument is deprecated and will be removed in a future release of LightGBM. \"\n"
     ]
    },
    {
     "name": "stdout",
     "output_type": "stream",
     "text": [
      "[LightGBM] [Warning] Auto-choosing row-wise multi-threading, the overhead of testing was 0.201886 seconds.\n",
      "You can set `force_row_wise=true` to remove the overhead.\n",
      "And if memory is not enough, you can set `force_col_wise=true`.\n",
      "[LightGBM] [Info] Total Bins 1173\n",
      "[LightGBM] [Info] Number of data points in the train set: 2368278, number of used features: 104\n",
      "[LightGBM] [Info] Start training from score 326.506259\n",
      "Training until validation scores don't improve for 100 rounds\n",
      "[100]\tvalid_0's l2: 134959\n",
      "[LightGBM] [Warning] No further splits with positive gain, best gain: -inf\n",
      "[200]\tvalid_0's l2: 126444\n",
      "[300]\tvalid_0's l2: 124093\n",
      "[400]\tvalid_0's l2: 124032\n",
      "[LightGBM] [Warning] No further splits with positive gain, best gain: -inf\n",
      "Early stopping, best iteration is:\n",
      "[380]\tvalid_0's l2: 123869\n",
      "| \u001b[0m 94      \u001b[0m | \u001b[0m-1.268   \u001b[0m | \u001b[0m 0.7143  \u001b[0m | \u001b[0m 0.5571  \u001b[0m | \u001b[0m 0.05868 \u001b[0m | \u001b[0m 44.55   \u001b[0m | \u001b[0m 1.884e+0\u001b[0m |\n"
     ]
    },
    {
     "name": "stderr",
     "output_type": "stream",
     "text": [
      "C:\\Users\\82104\\anaconda3\\lib\\site-packages\\lightgbm\\engine.py:181: UserWarning: 'early_stopping_rounds' argument is deprecated and will be removed in a future release of LightGBM. Pass 'early_stopping()' callback via 'callbacks' argument instead.\n",
      "  _log_warning(\"'early_stopping_rounds' argument is deprecated and will be removed in a future release of LightGBM. \"\n",
      "C:\\Users\\82104\\anaconda3\\lib\\site-packages\\lightgbm\\engine.py:239: UserWarning: 'verbose_eval' argument is deprecated and will be removed in a future release of LightGBM. Pass 'log_evaluation()' callback via 'callbacks' argument instead.\n",
      "  _log_warning(\"'verbose_eval' argument is deprecated and will be removed in a future release of LightGBM. \"\n"
     ]
    },
    {
     "name": "stdout",
     "output_type": "stream",
     "text": [
      "[LightGBM] [Warning] Auto-choosing col-wise multi-threading, the overhead of testing was 0.601368 seconds.\n",
      "You can set `force_col_wise=true` to remove the overhead.\n",
      "[LightGBM] [Info] Total Bins 1173\n",
      "[LightGBM] [Info] Number of data points in the train set: 2368278, number of used features: 104\n",
      "[LightGBM] [Info] Start training from score 326.506259\n",
      "Training until validation scores don't improve for 100 rounds\n",
      "[LightGBM] [Warning] No further splits with positive gain, best gain: -inf\n",
      "[LightGBM] [Warning] No further splits with positive gain, best gain: -inf\n",
      "[LightGBM] [Warning] No further splits with positive gain, best gain: -inf\n",
      "[100]\tvalid_0's l2: 159795\n",
      "[LightGBM] [Warning] No further splits with positive gain, best gain: -inf\n",
      "[200]\tvalid_0's l2: 134836\n",
      "[LightGBM] [Warning] No further splits with positive gain, best gain: -inf\n",
      "[LightGBM] [Warning] No further splits with positive gain, best gain: -inf\n",
      "[LightGBM] [Warning] No further splits with positive gain, best gain: -inf\n",
      "[LightGBM] [Warning] No further splits with positive gain, best gain: -inf\n",
      "[300]\tvalid_0's l2: 131080\n",
      "[LightGBM] [Warning] No further splits with positive gain, best gain: -inf\n",
      "[LightGBM] [Warning] No further splits with positive gain, best gain: -inf\n",
      "[400]\tvalid_0's l2: 131057\n",
      "[LightGBM] [Warning] No further splits with positive gain, best gain: -inf\n",
      "[LightGBM] [Warning] No further splits with positive gain, best gain: -inf\n",
      "[LightGBM] [Warning] No further splits with positive gain, best gain: -inf\n",
      "Early stopping, best iteration is:\n",
      "[371]\tvalid_0's l2: 130935\n",
      "| \u001b[0m 95      \u001b[0m | \u001b[0m-1.342   \u001b[0m | \u001b[0m 0.7798  \u001b[0m | \u001b[0m 0.5326  \u001b[0m | \u001b[0m 0.04364 \u001b[0m | \u001b[0m 82.76   \u001b[0m | \u001b[0m 9.998e+0\u001b[0m |\n"
     ]
    },
    {
     "name": "stderr",
     "output_type": "stream",
     "text": [
      "C:\\Users\\82104\\anaconda3\\lib\\site-packages\\lightgbm\\engine.py:181: UserWarning: 'early_stopping_rounds' argument is deprecated and will be removed in a future release of LightGBM. Pass 'early_stopping()' callback via 'callbacks' argument instead.\n",
      "  _log_warning(\"'early_stopping_rounds' argument is deprecated and will be removed in a future release of LightGBM. \"\n",
      "C:\\Users\\82104\\anaconda3\\lib\\site-packages\\lightgbm\\engine.py:239: UserWarning: 'verbose_eval' argument is deprecated and will be removed in a future release of LightGBM. Pass 'log_evaluation()' callback via 'callbacks' argument instead.\n",
      "  _log_warning(\"'verbose_eval' argument is deprecated and will be removed in a future release of LightGBM. \"\n"
     ]
    },
    {
     "name": "stdout",
     "output_type": "stream",
     "text": [
      "[LightGBM] [Warning] Auto-choosing row-wise multi-threading, the overhead of testing was 0.194814 seconds.\n",
      "You can set `force_row_wise=true` to remove the overhead.\n",
      "And if memory is not enough, you can set `force_col_wise=true`.\n",
      "[LightGBM] [Info] Total Bins 1173\n",
      "[LightGBM] [Info] Number of data points in the train set: 2368278, number of used features: 104\n",
      "[LightGBM] [Info] Start training from score 326.506259\n",
      "Training until validation scores don't improve for 100 rounds\n",
      "[LightGBM] [Warning] No further splits with positive gain, best gain: -inf\n",
      "[LightGBM] [Warning] No further splits with positive gain, best gain: -inf\n",
      "[LightGBM] [Warning] No further splits with positive gain, best gain: -inf\n",
      "[100]\tvalid_0's l2: 145317\n",
      "[LightGBM] [Warning] No further splits with positive gain, best gain: -inf\n",
      "[200]\tvalid_0's l2: 139826\n",
      "[LightGBM] [Warning] No further splits with positive gain, best gain: -inf\n",
      "[LightGBM] [Warning] No further splits with positive gain, best gain: -inf\n",
      "[LightGBM] [Warning] No further splits with positive gain, best gain: -inf\n",
      "[LightGBM] [Warning] No further splits with positive gain, best gain: -inf\n",
      "[300]\tvalid_0's l2: 139504\n",
      "[LightGBM] [Warning] No further splits with positive gain, best gain: -inf\n",
      "[LightGBM] [Warning] No further splits with positive gain, best gain: -inf\n",
      "Early stopping, best iteration is:\n",
      "[285]\tvalid_0's l2: 139259\n",
      "| \u001b[0m 96      \u001b[0m | \u001b[0m-1.403   \u001b[0m | \u001b[0m 0.5353  \u001b[0m | \u001b[0m 0.5334  \u001b[0m | \u001b[0m 0.07473 \u001b[0m | \u001b[0m 62.26   \u001b[0m | \u001b[0m 8.488e+0\u001b[0m |\n"
     ]
    },
    {
     "name": "stderr",
     "output_type": "stream",
     "text": [
      "C:\\Users\\82104\\anaconda3\\lib\\site-packages\\lightgbm\\engine.py:181: UserWarning: 'early_stopping_rounds' argument is deprecated and will be removed in a future release of LightGBM. Pass 'early_stopping()' callback via 'callbacks' argument instead.\n",
      "  _log_warning(\"'early_stopping_rounds' argument is deprecated and will be removed in a future release of LightGBM. \"\n",
      "C:\\Users\\82104\\anaconda3\\lib\\site-packages\\lightgbm\\engine.py:239: UserWarning: 'verbose_eval' argument is deprecated and will be removed in a future release of LightGBM. Pass 'log_evaluation()' callback via 'callbacks' argument instead.\n",
      "  _log_warning(\"'verbose_eval' argument is deprecated and will be removed in a future release of LightGBM. \"\n"
     ]
    },
    {
     "name": "stdout",
     "output_type": "stream",
     "text": [
      "[LightGBM] [Warning] Auto-choosing row-wise multi-threading, the overhead of testing was 0.210856 seconds.\n",
      "You can set `force_row_wise=true` to remove the overhead.\n",
      "And if memory is not enough, you can set `force_col_wise=true`.\n",
      "[LightGBM] [Info] Total Bins 1173\n",
      "[LightGBM] [Info] Number of data points in the train set: 2368278, number of used features: 104\n",
      "[LightGBM] [Info] Start training from score 326.506259\n",
      "Training until validation scores don't improve for 100 rounds\n",
      "[100]\tvalid_0's l2: 118916\n",
      "[200]\tvalid_0's l2: 109625\n",
      "[300]\tvalid_0's l2: 110179\n",
      "Early stopping, best iteration is:\n",
      "[236]\tvalid_0's l2: 109346\n",
      "| \u001b[0m 97      \u001b[0m | \u001b[0m-1.04    \u001b[0m | \u001b[0m 0.7143  \u001b[0m | \u001b[0m 0.7685  \u001b[0m | \u001b[0m 0.03791 \u001b[0m | \u001b[0m 38.2    \u001b[0m | \u001b[0m 7.06e+03\u001b[0m |\n"
     ]
    },
    {
     "name": "stderr",
     "output_type": "stream",
     "text": [
      "C:\\Users\\82104\\anaconda3\\lib\\site-packages\\lightgbm\\engine.py:181: UserWarning: 'early_stopping_rounds' argument is deprecated and will be removed in a future release of LightGBM. Pass 'early_stopping()' callback via 'callbacks' argument instead.\n",
      "  _log_warning(\"'early_stopping_rounds' argument is deprecated and will be removed in a future release of LightGBM. \"\n",
      "C:\\Users\\82104\\anaconda3\\lib\\site-packages\\lightgbm\\engine.py:239: UserWarning: 'verbose_eval' argument is deprecated and will be removed in a future release of LightGBM. Pass 'log_evaluation()' callback via 'callbacks' argument instead.\n",
      "  _log_warning(\"'verbose_eval' argument is deprecated and will be removed in a future release of LightGBM. \"\n"
     ]
    },
    {
     "name": "stdout",
     "output_type": "stream",
     "text": [
      "[LightGBM] [Warning] Auto-choosing row-wise multi-threading, the overhead of testing was 0.201862 seconds.\n",
      "You can set `force_row_wise=true` to remove the overhead.\n",
      "And if memory is not enough, you can set `force_col_wise=true`.\n",
      "[LightGBM] [Info] Total Bins 1173\n",
      "[LightGBM] [Info] Number of data points in the train set: 2368278, number of used features: 104\n",
      "[LightGBM] [Info] Start training from score 326.506259\n",
      "Training until validation scores don't improve for 100 rounds\n",
      "[LightGBM] [Warning] No further splits with positive gain, best gain: -inf\n",
      "[100]\tvalid_0's l2: 134268\n",
      "[LightGBM] [Warning] No further splits with positive gain, best gain: -inf\n",
      "[200]\tvalid_0's l2: 130591\n",
      "Early stopping, best iteration is:\n",
      "[199]\tvalid_0's l2: 130444\n",
      "| \u001b[0m 98      \u001b[0m | \u001b[0m-1.357   \u001b[0m | \u001b[0m 0.7648  \u001b[0m | \u001b[0m 0.5717  \u001b[0m | \u001b[0m 0.0769  \u001b[0m | \u001b[0m 79.07   \u001b[0m | \u001b[0m 4.148e+0\u001b[0m |\n"
     ]
    },
    {
     "name": "stderr",
     "output_type": "stream",
     "text": [
      "C:\\Users\\82104\\anaconda3\\lib\\site-packages\\lightgbm\\engine.py:181: UserWarning: 'early_stopping_rounds' argument is deprecated and will be removed in a future release of LightGBM. Pass 'early_stopping()' callback via 'callbacks' argument instead.\n",
      "  _log_warning(\"'early_stopping_rounds' argument is deprecated and will be removed in a future release of LightGBM. \"\n",
      "C:\\Users\\82104\\anaconda3\\lib\\site-packages\\lightgbm\\engine.py:239: UserWarning: 'verbose_eval' argument is deprecated and will be removed in a future release of LightGBM. Pass 'log_evaluation()' callback via 'callbacks' argument instead.\n",
      "  _log_warning(\"'verbose_eval' argument is deprecated and will be removed in a future release of LightGBM. \"\n"
     ]
    },
    {
     "name": "stdout",
     "output_type": "stream",
     "text": [
      "[LightGBM] [Warning] Auto-choosing row-wise multi-threading, the overhead of testing was 0.201040 seconds.\n",
      "You can set `force_row_wise=true` to remove the overhead.\n",
      "And if memory is not enough, you can set `force_col_wise=true`.\n",
      "[LightGBM] [Info] Total Bins 1173\n",
      "[LightGBM] [Info] Number of data points in the train set: 2368278, number of used features: 104\n",
      "[LightGBM] [Info] Start training from score 326.506259\n",
      "Training until validation scores don't improve for 100 rounds\n",
      "[LightGBM] [Warning] No further splits with positive gain, best gain: -inf\n",
      "[LightGBM] [Warning] No further splits with positive gain, best gain: -inf\n",
      "[LightGBM] [Warning] No further splits with positive gain, best gain: -inf\n",
      "[100]\tvalid_0's l2: 145498\n",
      "[LightGBM] [Warning] No further splits with positive gain, best gain: -inf\n",
      "[200]\tvalid_0's l2: 139758\n",
      "[LightGBM] [Warning] No further splits with positive gain, best gain: -inf\n",
      "[LightGBM] [Warning] No further splits with positive gain, best gain: -inf\n",
      "[LightGBM] [Warning] No further splits with positive gain, best gain: -inf\n",
      "[LightGBM] [Warning] No further splits with positive gain, best gain: -inf\n",
      "[LightGBM] [Warning] No further splits with positive gain, best gain: -inf\n",
      "Early stopping, best iteration is:\n",
      "[196]\tvalid_0's l2: 139653\n",
      "| \u001b[0m 99      \u001b[0m | \u001b[0m-1.387   \u001b[0m | \u001b[0m 0.5912  \u001b[0m | \u001b[0m 0.5282  \u001b[0m | \u001b[0m 0.07754 \u001b[0m | \u001b[0m 35.94   \u001b[0m | \u001b[0m 9.081e+0\u001b[0m |\n"
     ]
    },
    {
     "name": "stderr",
     "output_type": "stream",
     "text": [
      "C:\\Users\\82104\\anaconda3\\lib\\site-packages\\lightgbm\\engine.py:181: UserWarning: 'early_stopping_rounds' argument is deprecated and will be removed in a future release of LightGBM. Pass 'early_stopping()' callback via 'callbacks' argument instead.\n",
      "  _log_warning(\"'early_stopping_rounds' argument is deprecated and will be removed in a future release of LightGBM. \"\n",
      "C:\\Users\\82104\\anaconda3\\lib\\site-packages\\lightgbm\\engine.py:239: UserWarning: 'verbose_eval' argument is deprecated and will be removed in a future release of LightGBM. Pass 'log_evaluation()' callback via 'callbacks' argument instead.\n",
      "  _log_warning(\"'verbose_eval' argument is deprecated and will be removed in a future release of LightGBM. \"\n"
     ]
    },
    {
     "name": "stdout",
     "output_type": "stream",
     "text": [
      "[LightGBM] [Warning] Auto-choosing row-wise multi-threading, the overhead of testing was 0.192438 seconds.\n",
      "You can set `force_row_wise=true` to remove the overhead.\n",
      "And if memory is not enough, you can set `force_col_wise=true`.\n",
      "[LightGBM] [Info] Total Bins 1173\n",
      "[LightGBM] [Info] Number of data points in the train set: 2368278, number of used features: 104\n",
      "[LightGBM] [Info] Start training from score 326.506259\n",
      "Training until validation scores don't improve for 100 rounds\n",
      "[LightGBM] [Warning] No further splits with positive gain, best gain: -inf\n",
      "[100]\tvalid_0's l2: 158482\n",
      "[LightGBM] [Warning] No further splits with positive gain, best gain: -inf\n",
      "[200]\tvalid_0's l2: 131374\n",
      "[LightGBM] [Warning] No further splits with positive gain, best gain: -inf\n",
      "[300]\tvalid_0's l2: 128196\n",
      "[LightGBM] [Warning] No further splits with positive gain, best gain: -inf\n",
      "[400]\tvalid_0's l2: 127194\n",
      "[LightGBM] [Warning] No further splits with positive gain, best gain: -inf\n",
      "[500]\tvalid_0's l2: 127349\n",
      "Early stopping, best iteration is:\n",
      "[408]\tvalid_0's l2: 127097\n",
      "| \u001b[0m 100     \u001b[0m | \u001b[0m-1.295   \u001b[0m | \u001b[0m 0.5014  \u001b[0m | \u001b[0m 0.5387  \u001b[0m | \u001b[0m 0.0409  \u001b[0m | \u001b[0m 52.48   \u001b[0m | \u001b[0m 3.043e+0\u001b[0m |\n"
     ]
    },
    {
     "name": "stderr",
     "output_type": "stream",
     "text": [
      "C:\\Users\\82104\\anaconda3\\lib\\site-packages\\lightgbm\\engine.py:181: UserWarning: 'early_stopping_rounds' argument is deprecated and will be removed in a future release of LightGBM. Pass 'early_stopping()' callback via 'callbacks' argument instead.\n",
      "  _log_warning(\"'early_stopping_rounds' argument is deprecated and will be removed in a future release of LightGBM. \"\n",
      "C:\\Users\\82104\\anaconda3\\lib\\site-packages\\lightgbm\\engine.py:239: UserWarning: 'verbose_eval' argument is deprecated and will be removed in a future release of LightGBM. Pass 'log_evaluation()' callback via 'callbacks' argument instead.\n",
      "  _log_warning(\"'verbose_eval' argument is deprecated and will be removed in a future release of LightGBM. \"\n"
     ]
    },
    {
     "name": "stdout",
     "output_type": "stream",
     "text": [
      "[LightGBM] [Warning] Auto-choosing row-wise multi-threading, the overhead of testing was 0.199449 seconds.\n",
      "You can set `force_row_wise=true` to remove the overhead.\n",
      "And if memory is not enough, you can set `force_col_wise=true`.\n",
      "[LightGBM] [Info] Total Bins 1173\n",
      "[LightGBM] [Info] Number of data points in the train set: 2368278, number of used features: 104\n",
      "[LightGBM] [Info] Start training from score 326.506259\n",
      "Training until validation scores don't improve for 100 rounds\n",
      "[LightGBM] [Warning] No further splits with positive gain, best gain: -inf\n",
      "[100]\tvalid_0's l2: 151554\n",
      "[LightGBM] [Warning] No further splits with positive gain, best gain: -inf\n",
      "[200]\tvalid_0's l2: 132640\n",
      "[LightGBM] [Warning] No further splits with positive gain, best gain: -inf\n",
      "[LightGBM] [Warning] No further splits with positive gain, best gain: -inf\n",
      "[300]\tvalid_0's l2: 129812\n",
      "[LightGBM] [Warning] No further splits with positive gain, best gain: -inf\n",
      "[400]\tvalid_0's l2: 129572\n",
      "[LightGBM] [Warning] No further splits with positive gain, best gain: -inf\n",
      "[LightGBM] [Warning] No further splits with positive gain, best gain: -inf\n",
      "Early stopping, best iteration is:\n",
      "[399]\tvalid_0's l2: 129531\n",
      "| \u001b[0m 101     \u001b[0m | \u001b[0m-1.332   \u001b[0m | \u001b[0m 0.6504  \u001b[0m | \u001b[0m 0.5376  \u001b[0m | \u001b[0m 0.04672 \u001b[0m | \u001b[0m 97.32   \u001b[0m | \u001b[0m 6.459e+0\u001b[0m |\n"
     ]
    },
    {
     "name": "stderr",
     "output_type": "stream",
     "text": [
      "C:\\Users\\82104\\anaconda3\\lib\\site-packages\\lightgbm\\engine.py:181: UserWarning: 'early_stopping_rounds' argument is deprecated and will be removed in a future release of LightGBM. Pass 'early_stopping()' callback via 'callbacks' argument instead.\n",
      "  _log_warning(\"'early_stopping_rounds' argument is deprecated and will be removed in a future release of LightGBM. \"\n",
      "C:\\Users\\82104\\anaconda3\\lib\\site-packages\\lightgbm\\engine.py:239: UserWarning: 'verbose_eval' argument is deprecated and will be removed in a future release of LightGBM. Pass 'log_evaluation()' callback via 'callbacks' argument instead.\n",
      "  _log_warning(\"'verbose_eval' argument is deprecated and will be removed in a future release of LightGBM. \"\n"
     ]
    },
    {
     "name": "stdout",
     "output_type": "stream",
     "text": [
      "[LightGBM] [Warning] Auto-choosing row-wise multi-threading, the overhead of testing was 0.220031 seconds.\n",
      "You can set `force_row_wise=true` to remove the overhead.\n",
      "And if memory is not enough, you can set `force_col_wise=true`.\n",
      "[LightGBM] [Info] Total Bins 1173\n",
      "[LightGBM] [Info] Number of data points in the train set: 2368278, number of used features: 104\n",
      "[LightGBM] [Info] Start training from score 326.506259\n",
      "Training until validation scores don't improve for 100 rounds\n",
      "[100]\tvalid_0's l2: 106514\n",
      "[200]\tvalid_0's l2: 105334\n",
      "Early stopping, best iteration is:\n",
      "[148]\tvalid_0's l2: 104611\n",
      "| \u001b[0m 102     \u001b[0m | \u001b[0m-1.068   \u001b[0m | \u001b[0m 0.5108  \u001b[0m | \u001b[0m 0.8088  \u001b[0m | \u001b[0m 0.05526 \u001b[0m | \u001b[0m 69.68   \u001b[0m | \u001b[0m 1.876e+0\u001b[0m |\n"
     ]
    },
    {
     "name": "stderr",
     "output_type": "stream",
     "text": [
      "C:\\Users\\82104\\anaconda3\\lib\\site-packages\\lightgbm\\engine.py:181: UserWarning: 'early_stopping_rounds' argument is deprecated and will be removed in a future release of LightGBM. Pass 'early_stopping()' callback via 'callbacks' argument instead.\n",
      "  _log_warning(\"'early_stopping_rounds' argument is deprecated and will be removed in a future release of LightGBM. \"\n",
      "C:\\Users\\82104\\anaconda3\\lib\\site-packages\\lightgbm\\engine.py:239: UserWarning: 'verbose_eval' argument is deprecated and will be removed in a future release of LightGBM. Pass 'log_evaluation()' callback via 'callbacks' argument instead.\n",
      "  _log_warning(\"'verbose_eval' argument is deprecated and will be removed in a future release of LightGBM. \"\n"
     ]
    },
    {
     "name": "stdout",
     "output_type": "stream",
     "text": [
      "[LightGBM] [Warning] Auto-choosing row-wise multi-threading, the overhead of testing was 0.193474 seconds.\n",
      "You can set `force_row_wise=true` to remove the overhead.\n",
      "And if memory is not enough, you can set `force_col_wise=true`.\n",
      "[LightGBM] [Info] Total Bins 1173\n",
      "[LightGBM] [Info] Number of data points in the train set: 2368278, number of used features: 104\n",
      "[LightGBM] [Info] Start training from score 326.506259\n",
      "Training until validation scores don't improve for 100 rounds\n",
      "[100]\tvalid_0's l2: 141205\n",
      "[LightGBM] [Warning] No further splits with positive gain, best gain: -inf\n",
      "[200]\tvalid_0's l2: 128320\n",
      "[300]\tvalid_0's l2: 125492\n",
      "[400]\tvalid_0's l2: 125049\n",
      "[500]\tvalid_0's l2: 125258\n",
      "Early stopping, best iteration is:\n",
      "[410]\tvalid_0's l2: 124900\n",
      "| \u001b[0m 103     \u001b[0m | \u001b[0m-1.296   \u001b[0m | \u001b[0m 0.6437  \u001b[0m | \u001b[0m 0.5386  \u001b[0m | \u001b[0m 0.05333 \u001b[0m | \u001b[0m 90.69   \u001b[0m | \u001b[0m 1.482e+0\u001b[0m |\n"
     ]
    },
    {
     "name": "stderr",
     "output_type": "stream",
     "text": [
      "C:\\Users\\82104\\anaconda3\\lib\\site-packages\\lightgbm\\engine.py:181: UserWarning: 'early_stopping_rounds' argument is deprecated and will be removed in a future release of LightGBM. Pass 'early_stopping()' callback via 'callbacks' argument instead.\n",
      "  _log_warning(\"'early_stopping_rounds' argument is deprecated and will be removed in a future release of LightGBM. \"\n",
      "C:\\Users\\82104\\anaconda3\\lib\\site-packages\\lightgbm\\engine.py:239: UserWarning: 'verbose_eval' argument is deprecated and will be removed in a future release of LightGBM. Pass 'log_evaluation()' callback via 'callbacks' argument instead.\n",
      "  _log_warning(\"'verbose_eval' argument is deprecated and will be removed in a future release of LightGBM. \"\n"
     ]
    },
    {
     "name": "stdout",
     "output_type": "stream",
     "text": [
      "[LightGBM] [Warning] Auto-choosing row-wise multi-threading, the overhead of testing was 0.207056 seconds.\n",
      "You can set `force_row_wise=true` to remove the overhead.\n",
      "And if memory is not enough, you can set `force_col_wise=true`.\n",
      "[LightGBM] [Info] Total Bins 1173\n",
      "[LightGBM] [Info] Number of data points in the train set: 2368278, number of used features: 104\n",
      "[LightGBM] [Info] Start training from score 326.506259\n",
      "Training until validation scores don't improve for 100 rounds\n",
      "[100]\tvalid_0's l2: 102099\n",
      "Early stopping, best iteration is:\n",
      "[65]\tvalid_0's l2: 101162\n",
      "| \u001b[0m 104     \u001b[0m | \u001b[0m-1.032   \u001b[0m | \u001b[0m 0.7411  \u001b[0m | \u001b[0m 0.8775  \u001b[0m | \u001b[0m 0.08436 \u001b[0m | \u001b[0m 86.15   \u001b[0m | \u001b[0m 2.45e+03\u001b[0m |\n"
     ]
    },
    {
     "name": "stderr",
     "output_type": "stream",
     "text": [
      "C:\\Users\\82104\\anaconda3\\lib\\site-packages\\lightgbm\\engine.py:181: UserWarning: 'early_stopping_rounds' argument is deprecated and will be removed in a future release of LightGBM. Pass 'early_stopping()' callback via 'callbacks' argument instead.\n",
      "  _log_warning(\"'early_stopping_rounds' argument is deprecated and will be removed in a future release of LightGBM. \"\n",
      "C:\\Users\\82104\\anaconda3\\lib\\site-packages\\lightgbm\\engine.py:239: UserWarning: 'verbose_eval' argument is deprecated and will be removed in a future release of LightGBM. Pass 'log_evaluation()' callback via 'callbacks' argument instead.\n",
      "  _log_warning(\"'verbose_eval' argument is deprecated and will be removed in a future release of LightGBM. \"\n"
     ]
    },
    {
     "name": "stdout",
     "output_type": "stream",
     "text": [
      "[LightGBM] [Warning] Auto-choosing row-wise multi-threading, the overhead of testing was 0.192276 seconds.\n",
      "You can set `force_row_wise=true` to remove the overhead.\n",
      "And if memory is not enough, you can set `force_col_wise=true`.\n",
      "[LightGBM] [Info] Total Bins 1173\n",
      "[LightGBM] [Info] Number of data points in the train set: 2368278, number of used features: 104\n",
      "[LightGBM] [Info] Start training from score 326.506259\n",
      "Training until validation scores don't improve for 100 rounds\n",
      "[100]\tvalid_0's l2: 133580\n",
      "[200]\tvalid_0's l2: 128506\n",
      "Early stopping, best iteration is:\n",
      "[196]\tvalid_0's l2: 128404\n",
      "| \u001b[0m 105     \u001b[0m | \u001b[0m-1.316   \u001b[0m | \u001b[0m 0.4367  \u001b[0m | \u001b[0m 0.6268  \u001b[0m | \u001b[0m 0.05953 \u001b[0m | \u001b[0m 65.53   \u001b[0m | \u001b[0m 9.596e+0\u001b[0m |\n",
      "=====================================================================================\n"
     ]
    }
   ],
   "source": [
    "pbounds = {'learning_rate' :(0.01, 0.1),\n",
    "           'max_depth': (30,100),\n",
    "           'num_leaves' : (80,10000),\n",
    "           'feature_fraction':(0.5,0.9),\n",
    "           'bagging_fraction':(0.4,0.8)}\n",
    "\n",
    "gbm_bayes = BayesianOptimization(f = valid_msle, pbounds = pbounds, verbose = 2, random_state = 42)\n",
    "\n",
    "gbm_bayes.maximize(init_points=5, n_iter = 100)"
   ]
  },
  {
   "cell_type": "code",
   "execution_count": 42,
   "id": "cc4e92cd",
   "metadata": {},
   "outputs": [
    {
     "data": {
      "text/plain": [
       "[{'target': -1.0662770582676169,\n",
       "  'params': {'bagging_fraction': 0.5498160475389451,\n",
       "   'feature_fraction': 0.8802857225639664,\n",
       "   'learning_rate': 0.07587945476302646,\n",
       "   'max_depth': 71.90609389379256,\n",
       "   'num_leaves': 1627.7049131889703}},\n",
       " {'target': -1.4229612246240815,\n",
       "  'params': {'bagging_fraction': 0.46239780813448106,\n",
       "   'feature_fraction': 0.5232334448672797,\n",
       "   'learning_rate': 0.08795585311974417,\n",
       "   'max_depth': 72.07805082202461,\n",
       "   'num_leaves': 7104.079971736771}},\n",
       " {'target': -1.0329331976561584,\n",
       "  'params': {'bagging_fraction': 0.408233797718321,\n",
       "   'feature_fraction': 0.8879639408647977,\n",
       "   'learning_rate': 0.08491983767203796,\n",
       "   'max_depth': 44.863737747479334,\n",
       "   'num_leaves': 1883.7036746944382}},\n",
       " {'target': -1.2763142258961804,\n",
       "  'params': {'bagging_fraction': 0.47336180394137356,\n",
       "   'feature_fraction': 0.621696897183815,\n",
       "   'learning_rate': 0.05722807884690141,\n",
       "   'max_depth': 60.2361513049481,\n",
       "   'num_leaves': 2968.993070764576}},\n",
       " {'target': -1.2825887585421003,\n",
       "  'params': {'bagging_fraction': 0.6447411578889518,\n",
       "   'feature_fraction': 0.5557975442608167,\n",
       "   'learning_rate': 0.03629301836816964,\n",
       "   'max_depth': 55.645329030558415,\n",
       "   'num_leaves': 4604.214243432996}},\n",
       " {'target': -1.2964030130834254,\n",
       "  'params': {'bagging_fraction': 0.713133785348745,\n",
       "   'feature_fraction': 0.7836140965303087,\n",
       "   'learning_rate': 0.03423752804313959,\n",
       "   'max_depth': 36.82046141710836,\n",
       "   'num_leaves': 81.78598672091091}},\n",
       " {'target': -1.034066319514757,\n",
       "  'params': {'bagging_fraction': 0.5389991422108287,\n",
       "   'feature_fraction': 0.7842223251605991,\n",
       "   'learning_rate': 0.09662087108715134,\n",
       "   'max_depth': 82.72344618590043,\n",
       "   'num_leaves': 9999.921059645423}},\n",
       " {'target': -1.295495108436482,\n",
       "  'params': {'bagging_fraction': 0.7381178981450747,\n",
       "   'feature_fraction': 0.5513668934910063,\n",
       "   'learning_rate': 0.06149201647755969,\n",
       "   'max_depth': 67.65287885146617,\n",
       "   'num_leaves': 1626.024822163993}},\n",
       " {'target': -0.9880489552210935,\n",
       "  'params': {'bagging_fraction': 0.5874361079808462,\n",
       "   'feature_fraction': 0.8972069665172688,\n",
       "   'learning_rate': 0.09296755075724854,\n",
       "   'max_depth': 60.22713472163135,\n",
       "   'num_leaves': 3209.994875359501}},\n",
       " {'target': -1.2955347699120168,\n",
       "  'params': {'bagging_fraction': 0.7230203102850172,\n",
       "   'feature_fraction': 0.5703160767056519,\n",
       "   'learning_rate': 0.03850560550058574,\n",
       "   'max_depth': 48.820235698052784,\n",
       "   'num_leaves': 7280.796529460231}},\n",
       " {'target': -1.3665125380566314,\n",
       "  'params': {'bagging_fraction': 0.5965106824474449,\n",
       "   'feature_fraction': 0.6022885374070883,\n",
       "   'learning_rate': 0.0761659757653849,\n",
       "   'max_depth': 71.70432798536066,\n",
       "   'num_leaves': 7996.706058270637}},\n",
       " {'target': -1.0112309587490127,\n",
       "  'params': {'bagging_fraction': 0.43018573573667496,\n",
       "   'feature_fraction': 0.8247616242806957,\n",
       "   'learning_rate': 0.05199981418592324,\n",
       "   'max_depth': 51.40505985958945,\n",
       "   'num_leaves': 3043.576625190299}},\n",
       " {'target': -1.2219979500631268,\n",
       "  'params': {'bagging_fraction': 0.7327900057373584,\n",
       "   'feature_fraction': 0.6330122188610647,\n",
       "   'learning_rate': 0.02744952533903551,\n",
       "   'max_depth': 72.30571843994404,\n",
       "   'num_leaves': 1627.891133816806}},\n",
       " {'target': -1.1024436233147092,\n",
       "  'params': {'bagging_fraction': 0.6912534002089841,\n",
       "   'feature_fraction': 0.7669851569085588,\n",
       "   'learning_rate': 0.09950640837516364,\n",
       "   'max_depth': 58.46094259773798,\n",
       "   'num_leaves': 5424.279486761958}},\n",
       " {'target': -1.0329163605119491,\n",
       "  'params': {'bagging_fraction': 0.4534349427227158,\n",
       "   'feature_fraction': 0.794904129023108,\n",
       "   'learning_rate': 0.03712120437760437,\n",
       "   'max_depth': 43.26739885059271,\n",
       "   'num_leaves': 2330.4376982810313}},\n",
       " {'target': -1.0317345070076647,\n",
       "  'params': {'bagging_fraction': 0.5085649016680115,\n",
       "   'feature_fraction': 0.7606594552583599,\n",
       "   'learning_rate': 0.015595115764794205,\n",
       "   'max_depth': 82.2968855855457,\n",
       "   'num_leaves': 9595.86761702643}},\n",
       " {'target': -1.3179775793913313,\n",
       "  'params': {'bagging_fraction': 0.4655287942104305,\n",
       "   'feature_fraction': 0.5404376140199979,\n",
       "   'learning_rate': 0.031413147612920904,\n",
       "   'max_depth': 93.85589293782485,\n",
       "   'num_leaves': 7968.0824381106795}},\n",
       " {'target': -1.28636735519585,\n",
       "  'params': {'bagging_fraction': 0.7109748453957473,\n",
       "   'feature_fraction': 0.6430196102076086,\n",
       "   'learning_rate': 0.08538595783020253,\n",
       "   'max_depth': 95.42554941668976,\n",
       "   'num_leaves': 1697.69610994987}},\n",
       " {'target': -1.2756337591080245,\n",
       "  'params': {'bagging_fraction': 0.6022482845564664,\n",
       "   'feature_fraction': 0.7046601968561986,\n",
       "   'learning_rate': 0.08123286043226027,\n",
       "   'max_depth': 53.12981962526935,\n",
       "   'num_leaves': 9230.448616127727}},\n",
       " {'target': -1.1608870834840102,\n",
       "  'params': {'bagging_fraction': 0.745552728454997,\n",
       "   'feature_fraction': 0.7288448500634117,\n",
       "   'learning_rate': 0.04746372283950725,\n",
       "   'max_depth': 42.82771046746073,\n",
       "   'num_leaves': 2872.044084448523}},\n",
       " {'target': -0.9845622448965128,\n",
       "  'params': {'bagging_fraction': 0.6499367660068808,\n",
       "   'feature_fraction': 0.8052102576896996,\n",
       "   'learning_rate': 0.0445182150973299,\n",
       "   'max_depth': 43.29616998374393,\n",
       "   'num_leaves': 8388.370081067742}},\n",
       " {'target': -1.2772981702989186,\n",
       "  'params': {'bagging_fraction': 0.6264624273956632,\n",
       "   'feature_fraction': 0.5208631439154316,\n",
       "   'learning_rate': 0.04277401511217851,\n",
       "   'max_depth': 41.4263486887453,\n",
       "   'num_leaves': 1616.8457358864146}},\n",
       " {'target': -1.0306985602728702,\n",
       "  'params': {'bagging_fraction': 0.6144133043503072,\n",
       "   'feature_fraction': 0.8206594986932665,\n",
       "   'learning_rate': 0.08434013885801157,\n",
       "   'max_depth': 68.45613112873447,\n",
       "   'num_leaves': 5498.386515877001}},\n",
       " {'target': -1.253960155810381,\n",
       "  'params': {'bagging_fraction': 0.4274531020625576,\n",
       "   'feature_fraction': 0.5276918610641618,\n",
       "   'learning_rate': 0.023793494709331696,\n",
       "   'max_depth': 53.674235466810174,\n",
       "   'num_leaves': 3781.8531593104535}},\n",
       " {'target': -1.2588575887809461,\n",
       "  'params': {'bagging_fraction': 0.5746019526930982,\n",
       "   'feature_fraction': 0.5604326316396419,\n",
       "   'learning_rate': 0.06203572902764886,\n",
       "   'max_depth': 80.74051181096671,\n",
       "   'num_leaves': 1427.8047957415185}},\n",
       " {'target': -1.208452517733421,\n",
       "  'params': {'bagging_fraction': 0.49435735126514685,\n",
       "   'feature_fraction': 0.7496684637717601,\n",
       "   'learning_rate': 0.08654078389822206,\n",
       "   'max_depth': 89.63094882754805,\n",
       "   'num_leaves': 8122.840001579321}},\n",
       " {'target': -1.1722827475476747,\n",
       "  'params': {'bagging_fraction': 0.5726476146525532,\n",
       "   'feature_fraction': 0.8340213821583614,\n",
       "   'learning_rate': 0.06660459648778787,\n",
       "   'max_depth': 39.10172895113522,\n",
       "   'num_leaves': 365.3404108825273}},\n",
       " {'target': -0.9371455938031996,\n",
       "  'params': {'bagging_fraction': 0.5249451271879992,\n",
       "   'feature_fraction': 0.8783531742224099,\n",
       "   'learning_rate': 0.02981736012953757,\n",
       "   'max_depth': 43.15189542920939,\n",
       "   'num_leaves': 8388.611279100138}},\n",
       " {'target': -1.025902875005557,\n",
       "  'params': {'bagging_fraction': 0.6043009267354974,\n",
       "   'feature_fraction': 0.8356405147683976,\n",
       "   'learning_rate': 0.043093082229418864,\n",
       "   'max_depth': 44.18021182180661,\n",
       "   'num_leaves': 2329.701876006823}},\n",
       " {'target': -1.3497635751152028,\n",
       "  'params': {'bagging_fraction': 0.610609336642737,\n",
       "   'feature_fraction': 0.5519945336001152,\n",
       "   'learning_rate': 0.08449153766575279,\n",
       "   'max_depth': 59.921090444116835,\n",
       "   'num_leaves': 3209.5962915291598}},\n",
       " {'target': -1.1688650902543625,\n",
       "  'params': {'bagging_fraction': 0.6870489136657465,\n",
       "   'feature_fraction': 0.751286258091386,\n",
       "   'learning_rate': 0.05772554753510263,\n",
       "   'max_depth': 43.308127430940644,\n",
       "   'num_leaves': 8387.118015760258}},\n",
       " {'target': -1.2406109225494535,\n",
       "  'params': {'bagging_fraction': 0.7986832495586237,\n",
       "   'feature_fraction': 0.6406043230002728,\n",
       "   'learning_rate': 0.04076405248506628,\n",
       "   'max_depth': 45.73672288511572,\n",
       "   'num_leaves': 1884.175491310843}},\n",
       " {'target': -0.9761184104742624,\n",
       "  'params': {'bagging_fraction': 0.7312215469187892,\n",
       "   'feature_fraction': 0.8548159239486419,\n",
       "   'learning_rate': 0.026424454964572484,\n",
       "   'max_depth': 50.40596845916792,\n",
       "   'num_leaves': 3044.475782217835}},\n",
       " {'target': -1.3238696432944812,\n",
       "  'params': {'bagging_fraction': 0.5768512846118657,\n",
       "   'feature_fraction': 0.5120076426313086,\n",
       "   'learning_rate': 0.049821878169468176,\n",
       "   'max_depth': 67.99020666594541,\n",
       "   'num_leaves': 5498.211365852692}},\n",
       " {'target': -1.0492094606118922,\n",
       "  'params': {'bagging_fraction': 0.603561061795469,\n",
       "   'feature_fraction': 0.7857947964454279,\n",
       "   'learning_rate': 0.05597440494571439,\n",
       "   'max_depth': 51.11695600285043,\n",
       "   'num_leaves': 3042.283720558236}},\n",
       " {'target': -1.2350080661180207,\n",
       "  'params': {'bagging_fraction': 0.5170000061913689,\n",
       "   'feature_fraction': 0.5767520743930801,\n",
       "   'learning_rate': 0.01615644315053602,\n",
       "   'max_depth': 82.29399333449587,\n",
       "   'num_leaves': 9595.477210372836}},\n",
       " {'target': -0.9911735368757101,\n",
       "  'params': {'bagging_fraction': 0.5360785372759362,\n",
       "   'feature_fraction': 0.8418714117833015,\n",
       "   'learning_rate': 0.01733564039735195,\n",
       "   'max_depth': 59.53727395999563,\n",
       "   'num_leaves': 2041.7481154493175}},\n",
       " {'target': -1.1449667671729062,\n",
       "  'params': {'bagging_fraction': 0.5723106665690993,\n",
       "   'feature_fraction': 0.7817404013846927,\n",
       "   'learning_rate': 0.09123934626618142,\n",
       "   'max_depth': 73.44810553959388,\n",
       "   'num_leaves': 777.0712382790791}},\n",
       " {'target': -1.3344587524432816,\n",
       "  'params': {'bagging_fraction': 0.7482970047160948,\n",
       "   'feature_fraction': 0.6117824740704874,\n",
       "   'learning_rate': 0.09980414438973169,\n",
       "   'max_depth': 60.11261305362075,\n",
       "   'num_leaves': 2042.8385705276983}},\n",
       " {'target': -1.2928030932799313,\n",
       "  'params': {'bagging_fraction': 0.5139499608014081,\n",
       "   'feature_fraction': 0.5194947216079054,\n",
       "   'learning_rate': 0.018588678481861052,\n",
       "   'max_depth': 92.89954313122162,\n",
       "   'num_leaves': 9740.296492953903}},\n",
       " {'target': -1.328502383208179,\n",
       "  'params': {'bagging_fraction': 0.5104007450751104,\n",
       "   'feature_fraction': 0.5521122744400779,\n",
       "   'learning_rate': 0.049605319044094216,\n",
       "   'max_depth': 61.57559431998506,\n",
       "   'num_leaves': 8017.573708291657}},\n",
       " {'target': -1.3213803937045967,\n",
       "  'params': {'bagging_fraction': 0.6335051370333883,\n",
       "   'feature_fraction': 0.592952792000447,\n",
       "   'learning_rate': 0.073519551431035,\n",
       "   'max_depth': 43.991352805481974,\n",
       "   'num_leaves': 2331.2759578460154}},\n",
       " {'target': -1.286343049231773,\n",
       "  'params': {'bagging_fraction': 0.7358224125114846,\n",
       "   'feature_fraction': 0.6231567463696325,\n",
       "   'learning_rate': 0.048505282026736506,\n",
       "   'max_depth': 81.15850743608274,\n",
       "   'num_leaves': 9596.201264781725}},\n",
       " {'target': -0.9809263921122485,\n",
       "  'params': {'bagging_fraction': 0.5124529990732039,\n",
       "   'feature_fraction': 0.8496737573091955,\n",
       "   'learning_rate': 0.057786534440222644,\n",
       "   'max_depth': 64.59849699946895,\n",
       "   'num_leaves': 9595.914982952298}},\n",
       " {'target': -1.107028544211861,\n",
       "  'params': {'bagging_fraction': 0.7682396228920161,\n",
       "   'feature_fraction': 0.8213443164218346,\n",
       "   'learning_rate': 0.03302870775455134,\n",
       "   'max_depth': 73.74899959213974,\n",
       "   'num_leaves': 776.7975917221228}},\n",
       " {'target': -1.003846218035256,\n",
       "  'params': {'bagging_fraction': 0.4347871563869234,\n",
       "   'feature_fraction': 0.8525188001686808,\n",
       "   'learning_rate': 0.0846414726454191,\n",
       "   'max_depth': 95.82776053215966,\n",
       "   'num_leaves': 5109.323627751568}},\n",
       " {'target': -1.2708776714713397,\n",
       "  'params': {'bagging_fraction': 0.4935030690756548,\n",
       "   'feature_fraction': 0.5659802229299606,\n",
       "   'learning_rate': 0.04204597444130619,\n",
       "   'max_depth': 71.06172450844925,\n",
       "   'num_leaves': 1627.6008115131}},\n",
       " {'target': -1.2228012913034432,\n",
       "  'params': {'bagging_fraction': 0.45883197920158364,\n",
       "   'feature_fraction': 0.7406962677062066,\n",
       "   'learning_rate': 0.08741502778169717,\n",
       "   'max_depth': 78.1645226875429,\n",
       "   'num_leaves': 9022.754979109633}},\n",
       " {'target': -1.1874915442623317,\n",
       "  'params': {'bagging_fraction': 0.6211209017624677,\n",
       "   'feature_fraction': 0.7660021750022143,\n",
       "   'learning_rate': 0.029960189350898912,\n",
       "   'max_depth': 65.63302928813334,\n",
       "   'num_leaves': 513.7860959048365}},\n",
       " {'target': -0.9953138587625572,\n",
       "  'params': {'bagging_fraction': 0.5906344419637916,\n",
       "   'feature_fraction': 0.8068051729841565,\n",
       "   'learning_rate': 0.025254465786488225,\n",
       "   'max_depth': 86.71490481249705,\n",
       "   'num_leaves': 5820.5316486432985}},\n",
       " {'target': -1.2519450756870987,\n",
       "  'params': {'bagging_fraction': 0.443571194991488,\n",
       "   'feature_fraction': 0.6065499240539233,\n",
       "   'learning_rate': 0.02697148109053016,\n",
       "   'max_depth': 63.150984506122825,\n",
       "   'num_leaves': 1350.8842314788524}},\n",
       " {'target': -1.255838803882032,\n",
       "  'params': {'bagging_fraction': 0.7651038000154229,\n",
       "   'feature_fraction': 0.6650711622958174,\n",
       "   'learning_rate': 0.05018914008166226,\n",
       "   'max_depth': 78.39136732049553,\n",
       "   'num_leaves': 9031.777919660359}},\n",
       " {'target': -1.1859753465696308,\n",
       "  'params': {'bagging_fraction': 0.46540441813106836,\n",
       "   'feature_fraction': 0.7314669245348944,\n",
       "   'learning_rate': 0.08057930303064822,\n",
       "   'max_depth': 42.546752974463274,\n",
       "   'num_leaves': 2329.2695100103315}},\n",
       " {'target': -1.2385577149728353,\n",
       "  'params': {'bagging_fraction': 0.6262296813731102,\n",
       "   'feature_fraction': 0.5956218937480743,\n",
       "   'learning_rate': 0.019675001863642474,\n",
       "   'max_depth': 89.23840591160321,\n",
       "   'num_leaves': 9553.351817602825}},\n",
       " {'target': -1.2777397248041116,\n",
       "  'params': {'bagging_fraction': 0.45081273846185,\n",
       "   'feature_fraction': 0.7048300514675898,\n",
       "   'learning_rate': 0.09276088523965614,\n",
       "   'max_depth': 63.374040053060774,\n",
       "   'num_leaves': 9595.630655761415}},\n",
       " {'target': -0.9873204593986945,\n",
       "  'params': {'bagging_fraction': 0.559115237426395,\n",
       "   'feature_fraction': 0.8432798696926067,\n",
       "   'learning_rate': 0.09601357393832179,\n",
       "   'max_depth': 79.7695051933272,\n",
       "   'num_leaves': 5990.225112564739}},\n",
       " {'target': -1.3901174554674642,\n",
       "  'params': {'bagging_fraction': 0.6938539876781711,\n",
       "   'feature_fraction': 0.6038284544471482,\n",
       "   'learning_rate': 0.08493894748039046,\n",
       "   'max_depth': 90.06053864081194,\n",
       "   'num_leaves': 6362.372325952338}},\n",
       " {'target': -1.2061596206898033,\n",
       "  'params': {'bagging_fraction': 0.6710400653298312,\n",
       "   'feature_fraction': 0.7459689943961721,\n",
       "   'learning_rate': 0.08482092345485698,\n",
       "   'max_depth': 90.72876013654466,\n",
       "   'num_leaves': 9797.691879472344}},\n",
       " {'target': -0.9692515629173467,\n",
       "  'params': {'bagging_fraction': 0.47554200710026384,\n",
       "   'feature_fraction': 0.8574149253533568,\n",
       "   'learning_rate': 0.0695554202827915,\n",
       "   'max_depth': 66.0144157971273,\n",
       "   'num_leaves': 7295.904376247636}},\n",
       " {'target': -0.9852856506758062,\n",
       "  'params': {'bagging_fraction': 0.5232911381970898,\n",
       "   'feature_fraction': 0.832624699738332,\n",
       "   'learning_rate': 0.07322686823403061,\n",
       "   'max_depth': 82.88731847975396,\n",
       "   'num_leaves': 9999.084938675498}},\n",
       " {'target': -1.2555074077853328,\n",
       "  'params': {'bagging_fraction': 0.6177803955274643,\n",
       "   'feature_fraction': 0.7026158046156471,\n",
       "   'learning_rate': 0.07418705480921715,\n",
       "   'max_depth': 63.3082177003753,\n",
       "   'num_leaves': 9178.416754509042}},\n",
       " {'target': -1.2156299880804609,\n",
       "  'params': {'bagging_fraction': 0.7372239780828083,\n",
       "   'feature_fraction': 0.6129817043524649,\n",
       "   'learning_rate': 0.023193133164638887,\n",
       "   'max_depth': 44.11942464564581,\n",
       "   'num_leaves': 672.0441767595588}},\n",
       " {'target': -1.2577010872313006,\n",
       "  'params': {'bagging_fraction': 0.6720549751827294,\n",
       "   'feature_fraction': 0.6361304363889089,\n",
       "   'learning_rate': 0.06273112164975779,\n",
       "   'max_depth': 45.1257823786882,\n",
       "   'num_leaves': 1883.381164356272}},\n",
       " {'target': -1.2949435097542217,\n",
       "  'params': {'bagging_fraction': 0.5305209459923576,\n",
       "   'feature_fraction': 0.5022662336559469,\n",
       "   'learning_rate': 0.02605367927636621,\n",
       "   'max_depth': 62.18973583334587,\n",
       "   'num_leaves': 8370.295857470715}},\n",
       " {'target': -1.152840948290962,\n",
       "  'params': {'bagging_fraction': 0.7102396104461702,\n",
       "   'feature_fraction': 0.7461181932770551,\n",
       "   'learning_rate': 0.04930008051975335,\n",
       "   'max_depth': 90.38973941956237,\n",
       "   'num_leaves': 5298.053729547353}},\n",
       " {'target': -0.9490888960814129,\n",
       "  'params': {'bagging_fraction': 0.46294567488432276,\n",
       "   'feature_fraction': 0.8625726290729703,\n",
       "   'learning_rate': 0.04326266542870117,\n",
       "   'max_depth': 68.89269141871836,\n",
       "   'num_leaves': 6659.910659334693}},\n",
       " {'target': -1.3270796196641466,\n",
       "  'params': {'bagging_fraction': 0.7222560599964775,\n",
       "   'feature_fraction': 0.5348900383945299,\n",
       "   'learning_rate': 0.04060160779175805,\n",
       "   'max_depth': 87.85520641909305,\n",
       "   'num_leaves': 7969.772433335175}},\n",
       " {'target': -1.0125929960075197,\n",
       "  'params': {'bagging_fraction': 0.5695123147006076,\n",
       "   'feature_fraction': 0.8236286298338173,\n",
       "   'learning_rate': 0.0688568252385686,\n",
       "   'max_depth': 92.20543756098712,\n",
       "   'num_leaves': 9096.826613501524}},\n",
       " {'target': -0.9381705218080103,\n",
       "  'params': {'bagging_fraction': 0.6991340878525094,\n",
       "   'feature_fraction': 0.8712385368729109,\n",
       "   'learning_rate': 0.03574284629333758,\n",
       "   'max_depth': 92.37693085900395,\n",
       "   'num_leaves': 9096.407679627473}},\n",
       " {'target': -1.1467103514092005,\n",
       "  'params': {'bagging_fraction': 0.46703982511462083,\n",
       "   'feature_fraction': 0.6880419372961653,\n",
       "   'learning_rate': 0.020013661078705378,\n",
       "   'max_depth': 43.7921794465594,\n",
       "   'num_leaves': 8388.506192995497}},\n",
       " {'target': -1.1896991698845982,\n",
       "  'params': {'bagging_fraction': 0.4926440083761696,\n",
       "   'feature_fraction': 0.7328876461100553,\n",
       "   'learning_rate': 0.07652667017781932,\n",
       "   'max_depth': 34.16540006951582,\n",
       "   'num_leaves': 1636.9355243386722}},\n",
       " {'target': -1.3004633469929463,\n",
       "  'params': {'bagging_fraction': 0.5956635557193799,\n",
       "   'feature_fraction': 0.5036463103831161,\n",
       "   'learning_rate': 0.060377760975071415,\n",
       "   'max_depth': 74.17439457691637,\n",
       "   'num_leaves': 778.4361306722483}},\n",
       " {'target': -1.3407352050857742,\n",
       "  'params': {'bagging_fraction': 0.6170029541870384,\n",
       "   'feature_fraction': 0.5263988675612405,\n",
       "   'learning_rate': 0.05073654290339105,\n",
       "   'max_depth': 57.49017483441979,\n",
       "   'num_leaves': 5425.613846642226}},\n",
       " {'target': -1.1877362413303367,\n",
       "  'params': {'bagging_fraction': 0.6456861393296549,\n",
       "   'feature_fraction': 0.7516270505062463,\n",
       "   'learning_rate': 0.06138806619168319,\n",
       "   'max_depth': 96.29104015075619,\n",
       "   'num_leaves': 5108.93931453133}},\n",
       " {'target': -1.2772187682170415,\n",
       "  'params': {'bagging_fraction': 0.4902350877500351,\n",
       "   'feature_fraction': 0.6112939052877964,\n",
       "   'learning_rate': 0.051730719546286025,\n",
       "   'max_depth': 95.29213093679157,\n",
       "   'num_leaves': 1551.3629469911973}},\n",
       " {'target': -0.9889344394820523,\n",
       "  'params': {'bagging_fraction': 0.503083149676318,\n",
       "   'feature_fraction': 0.899095051275617,\n",
       "   'learning_rate': 0.06886965835553743,\n",
       "   'max_depth': 60.47690356481658,\n",
       "   'num_leaves': 3210.4154933371096}},\n",
       " {'target': -0.9857429726711826,\n",
       "  'params': {'bagging_fraction': 0.7716266779673475,\n",
       "   'feature_fraction': 0.8638675559546718,\n",
       "   'learning_rate': 0.06613845992686163,\n",
       "   'max_depth': 46.58491554811306,\n",
       "   'num_leaves': 4396.077563315959}},\n",
       " {'target': -0.9639638359681144,\n",
       "  'params': {'bagging_fraction': 0.46884148466493897,\n",
       "   'feature_fraction': 0.8851952182634006,\n",
       "   'learning_rate': 0.07510063456990808,\n",
       "   'max_depth': 89.87461679592381,\n",
       "   'num_leaves': 5297.231283398323}},\n",
       " {'target': -1.2793574171586313,\n",
       "  'params': {'bagging_fraction': 0.4590197328811142,\n",
       "   'feature_fraction': 0.5638854859655684,\n",
       "   'learning_rate': 0.031030891730649345,\n",
       "   'max_depth': 98.62317523186334,\n",
       "   'num_leaves': 7082.998488149582}},\n",
       " {'target': -1.2866139526884335,\n",
       "  'params': {'bagging_fraction': 0.4709001488740592,\n",
       "   'feature_fraction': 0.6429899836297267,\n",
       "   'learning_rate': 0.08882486980305705,\n",
       "   'max_depth': 60.130853523747945,\n",
       "   'num_leaves': 3210.0938320270134}},\n",
       " {'target': -1.0191771498153412,\n",
       "  'params': {'bagging_fraction': 0.7091685671852628,\n",
       "   'feature_fraction': 0.8036844450236337,\n",
       "   'learning_rate': 0.09376832014465222,\n",
       "   'max_depth': 96.71946574565932,\n",
       "   'num_leaves': 6458.671981004955}},\n",
       " {'target': -1.3501031189562895,\n",
       "  'params': {'bagging_fraction': 0.6706225962897865,\n",
       "   'feature_fraction': 0.6332937671027322,\n",
       "   'learning_rate': 0.09403324070030891,\n",
       "   'max_depth': 88.39510112397879,\n",
       "   'num_leaves': 9400.728433818542}},\n",
       " {'target': -1.0054363981884453,\n",
       "  'params': {'bagging_fraction': 0.5903498882750057,\n",
       "   'feature_fraction': 0.837204723154527,\n",
       "   'learning_rate': 0.05085470302558557,\n",
       "   'max_depth': 49.89128091237728,\n",
       "   'num_leaves': 3043.912925951606}},\n",
       " {'target': -1.0634789010521861,\n",
       "  'params': {'bagging_fraction': 0.4097707403924651,\n",
       "   'feature_fraction': 0.783099886542922,\n",
       "   'learning_rate': 0.08831662409729543,\n",
       "   'max_depth': 69.82818753996875,\n",
       "   'num_leaves': 5498.475758169086}},\n",
       " {'target': -1.0196923744456596,\n",
       "  'params': {'bagging_fraction': 0.5184522100914646,\n",
       "   'feature_fraction': 0.819221144774277,\n",
       "   'learning_rate': 0.0669782767226627,\n",
       "   'max_depth': 57.63025334438812,\n",
       "   'num_leaves': 4114.674676832732}},\n",
       " {'target': -1.2646974259279553,\n",
       "  'params': {'bagging_fraction': 0.4910615043802411,\n",
       "   'feature_fraction': 0.6232098314482891,\n",
       "   'learning_rate': 0.08346168137162042,\n",
       "   'max_depth': 68.03730810145979,\n",
       "   'num_leaves': 1246.929164311409}},\n",
       " {'target': -0.965958962976835,\n",
       "  'params': {'bagging_fraction': 0.4775580466706397,\n",
       "   'feature_fraction': 0.8384108816113526,\n",
       "   'learning_rate': 0.03792459886846973,\n",
       "   'max_depth': 69.05910358124073,\n",
       "   'num_leaves': 6659.756368399822}},\n",
       " {'target': -1.1884082266996583,\n",
       "  'params': {'bagging_fraction': 0.7645035247156762,\n",
       "   'feature_fraction': 0.6682256996576108,\n",
       "   'learning_rate': 0.03567834176925102,\n",
       "   'max_depth': 61.36917379852055,\n",
       "   'num_leaves': 397.5403378104263}},\n",
       " {'target': -1.267310915309913,\n",
       "  'params': {'bagging_fraction': 0.7568991999645415,\n",
       "   'feature_fraction': 0.6431896921177115,\n",
       "   'learning_rate': 0.0939204902940019,\n",
       "   'max_depth': 31.793471560245752,\n",
       "   'num_leaves': 6132.940151538105}},\n",
       " {'target': -1.0611666846625178,\n",
       "  'params': {'bagging_fraction': 0.40633426867982736,\n",
       "   'feature_fraction': 0.8042811536871736,\n",
       "   'learning_rate': 0.08556107037362602,\n",
       "   'max_depth': 46.843515205935105,\n",
       "   'num_leaves': 4396.13647278217}},\n",
       " {'target': -1.2277061289335172,\n",
       "  'params': {'bagging_fraction': 0.761639169598477,\n",
       "   'feature_fraction': 0.6741767096558507,\n",
       "   'learning_rate': 0.03496516609503615,\n",
       "   'max_depth': 72.45153381515924,\n",
       "   'num_leaves': 8474.349775384682}},\n",
       " {'target': -1.328118238284515,\n",
       "  'params': {'bagging_fraction': 0.6006636384785844,\n",
       "   'feature_fraction': 0.5142045138501854,\n",
       "   'learning_rate': 0.06115802985115276,\n",
       "   'max_depth': 90.15102058625533,\n",
       "   'num_leaves': 4403.600286317024}},\n",
       " {'target': -1.005016642614867,\n",
       "  'params': {'bagging_fraction': 0.5834762239642447,\n",
       "   'feature_fraction': 0.8484741396938142,\n",
       "   'learning_rate': 0.07642626520462005,\n",
       "   'max_depth': 46.18171962181769,\n",
       "   'num_leaves': 6463.154114373617}},\n",
       " {'target': -1.2676063841208156,\n",
       "  'params': {'bagging_fraction': 0.7143063610714345,\n",
       "   'feature_fraction': 0.5571196811669742,\n",
       "   'learning_rate': 0.058683233897757835,\n",
       "   'max_depth': 44.548970098199064,\n",
       "   'num_leaves': 1883.7058396473558}},\n",
       " {'target': -1.3419774888030385,\n",
       "  'params': {'bagging_fraction': 0.7797706668062485,\n",
       "   'feature_fraction': 0.5326427283054439,\n",
       "   'learning_rate': 0.04363851610938544,\n",
       "   'max_depth': 82.75674968097698,\n",
       "   'num_leaves': 9997.570960756319}},\n",
       " {'target': -1.4033068379364546,\n",
       "  'params': {'bagging_fraction': 0.5352687748836503,\n",
       "   'feature_fraction': 0.5333998308722453,\n",
       "   'learning_rate': 0.0747292395235325,\n",
       "   'max_depth': 62.255136063890085,\n",
       "   'num_leaves': 8487.678134172867}},\n",
       " {'target': -1.0404255774050974,\n",
       "  'params': {'bagging_fraction': 0.7143393341740242,\n",
       "   'feature_fraction': 0.7685499097374582,\n",
       "   'learning_rate': 0.037909250789596935,\n",
       "   'max_depth': 38.202037462213674,\n",
       "   'num_leaves': 7060.214957276948}},\n",
       " {'target': -1.3569214616310223,\n",
       "  'params': {'bagging_fraction': 0.7648448275020738,\n",
       "   'feature_fraction': 0.5717155886545641,\n",
       "   'learning_rate': 0.07689660063043907,\n",
       "   'max_depth': 79.06960967837912,\n",
       "   'num_leaves': 4147.829580312529}},\n",
       " {'target': -1.386773527431562,\n",
       "  'params': {'bagging_fraction': 0.5911756676099303,\n",
       "   'feature_fraction': 0.5282133709445906,\n",
       "   'learning_rate': 0.0775447058946583,\n",
       "   'max_depth': 35.94372588476087,\n",
       "   'num_leaves': 9080.954174928449}},\n",
       " {'target': -1.295004582929219,\n",
       "  'params': {'bagging_fraction': 0.5013511455793731,\n",
       "   'feature_fraction': 0.5386570149024642,\n",
       "   'learning_rate': 0.04090170229281798,\n",
       "   'max_depth': 52.477787058878945,\n",
       "   'num_leaves': 3043.4049822562183}},\n",
       " {'target': -1.3322113148890886,\n",
       "  'params': {'bagging_fraction': 0.650400056953621,\n",
       "   'feature_fraction': 0.5376396962796333,\n",
       "   'learning_rate': 0.0467208529205855,\n",
       "   'max_depth': 97.32344946153661,\n",
       "   'num_leaves': 6459.261841961668}},\n",
       " {'target': -1.0681044947745677,\n",
       "  'params': {'bagging_fraction': 0.5107766682031147,\n",
       "   'feature_fraction': 0.808783977501984,\n",
       "   'learning_rate': 0.05526371019983869,\n",
       "   'max_depth': 69.67808710900364,\n",
       "   'num_leaves': 1875.633948635106}},\n",
       " {'target': -1.2961103172633832,\n",
       "  'params': {'bagging_fraction': 0.6437027182542299,\n",
       "   'feature_fraction': 0.5385576072679157,\n",
       "   'learning_rate': 0.05333368822491342,\n",
       "   'max_depth': 90.6851658858993,\n",
       "   'num_leaves': 1482.0168485435845}},\n",
       " {'target': -1.0321424751832122,\n",
       "  'params': {'bagging_fraction': 0.7411214272141484,\n",
       "   'feature_fraction': 0.8774750265873801,\n",
       "   'learning_rate': 0.0843559191559162,\n",
       "   'max_depth': 86.15277066789713,\n",
       "   'num_leaves': 2449.719064470206}},\n",
       " {'target': -1.3156557879127178,\n",
       "  'params': {'bagging_fraction': 0.4367099393221632,\n",
       "   'feature_fraction': 0.6267538579013107,\n",
       "   'learning_rate': 0.05953183436265698,\n",
       "   'max_depth': 65.52826562753587,\n",
       "   'num_leaves': 9595.729292902794}}]"
      ]
     },
     "execution_count": 42,
     "metadata": {},
     "output_type": "execute_result"
    }
   ],
   "source": [
    "gbm_bayes.res"
   ]
  },
  {
   "cell_type": "code",
   "execution_count": 43,
   "id": "5f1a614d",
   "metadata": {},
   "outputs": [
    {
     "data": {
      "text/plain": [
       "{'target': -0.9371455938031996,\n",
       " 'params': {'bagging_fraction': 0.5249451271879992,\n",
       "  'feature_fraction': 0.8783531742224099,\n",
       "  'learning_rate': 0.02981736012953757,\n",
       "  'max_depth': 43.15189542920939,\n",
       "  'num_leaves': 8388.611279100138}}"
      ]
     },
     "execution_count": 43,
     "metadata": {},
     "output_type": "execute_result"
    }
   ],
   "source": [
    "gbm_bayes.max"
   ]
  },
  {
   "cell_type": "code",
   "execution_count": 44,
   "id": "254f772c",
   "metadata": {},
   "outputs": [
    {
     "name": "stderr",
     "output_type": "stream",
     "text": [
      "C:\\Users\\82104\\anaconda3\\lib\\site-packages\\lightgbm\\engine.py:181: UserWarning: 'early_stopping_rounds' argument is deprecated and will be removed in a future release of LightGBM. Pass 'early_stopping()' callback via 'callbacks' argument instead.\n",
      "  _log_warning(\"'early_stopping_rounds' argument is deprecated and will be removed in a future release of LightGBM. \"\n",
      "C:\\Users\\82104\\anaconda3\\lib\\site-packages\\lightgbm\\engine.py:239: UserWarning: 'verbose_eval' argument is deprecated and will be removed in a future release of LightGBM. Pass 'log_evaluation()' callback via 'callbacks' argument instead.\n",
      "  _log_warning(\"'verbose_eval' argument is deprecated and will be removed in a future release of LightGBM. \"\n"
     ]
    },
    {
     "name": "stdout",
     "output_type": "stream",
     "text": [
      "[LightGBM] [Warning] Auto-choosing row-wise multi-threading, the overhead of testing was 0.206367 seconds.\n",
      "You can set `force_row_wise=true` to remove the overhead.\n",
      "And if memory is not enough, you can set `force_col_wise=true`.\n",
      "[LightGBM] [Info] Total Bins 1173\n",
      "[LightGBM] [Info] Number of data points in the train set: 2368278, number of used features: 104\n",
      "[LightGBM] [Info] Start training from score 326.506259\n",
      "Training until validation scores don't improve for 100 rounds\n",
      "[100]\tvalid_0's l2: 111775\n",
      "[200]\tvalid_0's l2: 98854.7\n",
      "Early stopping, best iteration is:\n",
      "[189]\tvalid_0's l2: 98759.2\n"
     ]
    }
   ],
   "source": [
    "params = {'learning_rate':0.03,\n",
    "          'max_depth': 43,\n",
    "          'objective':'regression',\n",
    "          'metric':'mse',\n",
    "          'num_leaves': 8388,    \n",
    "          'is_training_metric':True,\n",
    "          'feature_fraction':0.9,\n",
    "          'bagging_fraction':0.5,\n",
    "          'seed':42}\n",
    "model = lgb.train(params, sub_train_ds, 3000, valid_ds, verbose_eval = 100, early_stopping_rounds = 100)"
   ]
  },
  {
   "cell_type": "code",
   "execution_count": 45,
   "id": "4ad3638d",
   "metadata": {},
   "outputs": [],
   "source": [
    "# predict\n",
    "train_pred = model.predict(X_sub_train_data_trans)\n",
    "valid_pred = model.predict(X_valid_data_trans)\n",
    "\n",
    "train_pred[train_pred < 0] = 0\n",
    "valid_pred[valid_pred < 0] = 0"
   ]
  },
  {
   "cell_type": "code",
   "execution_count": 46,
   "id": "c24c594c",
   "metadata": {},
   "outputs": [
    {
     "name": "stdout",
     "output_type": "stream",
     "text": [
      "훈련데이터 rmsle:  0.8976957106022574\n",
      "검증데이터 rmsle:  0.9571586389785375\n"
     ]
    }
   ],
   "source": [
    "from sklearn.metrics import mean_squared_log_error\n",
    "print('훈련데이터 rmsle: ', np.sqrt(mean_squared_log_error(y_sub_train_data, train_pred)))\n",
    "print('검증데이터 rmsle: ', np.sqrt(mean_squared_log_error(y_valid_data, valid_pred)))"
   ]
  },
  {
   "cell_type": "markdown",
   "id": "f39dd59c",
   "metadata": {},
   "source": [
    "- 음..."
   ]
  },
  {
   "cell_type": "markdown",
   "id": "c8bdaa7e",
   "metadata": {},
   "source": [
    "**full_train, test**"
   ]
  },
  {
   "cell_type": "code",
   "execution_count": 80,
   "id": "bf7c8b3c",
   "metadata": {},
   "outputs": [
    {
     "data": {
      "text/html": [
       "<div>\n",
       "<style scoped>\n",
       "    .dataframe tbody tr th:only-of-type {\n",
       "        vertical-align: middle;\n",
       "    }\n",
       "\n",
       "    .dataframe tbody tr th {\n",
       "        vertical-align: top;\n",
       "    }\n",
       "\n",
       "    .dataframe thead th {\n",
       "        text-align: right;\n",
       "    }\n",
       "</style>\n",
       "<table border=\"1\" class=\"dataframe\">\n",
       "  <thead>\n",
       "    <tr style=\"text-align: right;\">\n",
       "      <th></th>\n",
       "      <th>onpromotion</th>\n",
       "      <th>dcoilwtico</th>\n",
       "      <th>transactions</th>\n",
       "      <th>cluster</th>\n",
       "      <th>Year</th>\n",
       "      <th>Month</th>\n",
       "      <th>Weekday</th>\n",
       "      <th>trend</th>\n",
       "      <th>NewYearsDay</th>\n",
       "      <th>Earthquake</th>\n",
       "      <th>...</th>\n",
       "      <th>family_PLAYERS AND ELECTRONICS</th>\n",
       "      <th>family_POULTRY</th>\n",
       "      <th>family_PREPARED FOODS</th>\n",
       "      <th>family_PRODUCE</th>\n",
       "      <th>family_SCHOOL AND OFFICE SUPPLIES</th>\n",
       "      <th>family_SEAFOOD</th>\n",
       "      <th>type_y_B</th>\n",
       "      <th>type_y_C</th>\n",
       "      <th>type_y_D</th>\n",
       "      <th>type_y_E</th>\n",
       "    </tr>\n",
       "  </thead>\n",
       "  <tbody>\n",
       "    <tr>\n",
       "      <th>0</th>\n",
       "      <td>0.000000</td>\n",
       "      <td>0.244108</td>\n",
       "      <td>0.172763</td>\n",
       "      <td>13</td>\n",
       "      <td>2017</td>\n",
       "      <td>8</td>\n",
       "      <td>2</td>\n",
       "      <td>1688</td>\n",
       "      <td>False</td>\n",
       "      <td>False</td>\n",
       "      <td>...</td>\n",
       "      <td>0</td>\n",
       "      <td>0</td>\n",
       "      <td>0</td>\n",
       "      <td>0</td>\n",
       "      <td>0</td>\n",
       "      <td>0</td>\n",
       "      <td>0</td>\n",
       "      <td>0</td>\n",
       "      <td>1</td>\n",
       "      <td>0</td>\n",
       "    </tr>\n",
       "    <tr>\n",
       "      <th>1</th>\n",
       "      <td>0.000000</td>\n",
       "      <td>0.244108</td>\n",
       "      <td>0.172763</td>\n",
       "      <td>13</td>\n",
       "      <td>2017</td>\n",
       "      <td>8</td>\n",
       "      <td>2</td>\n",
       "      <td>1688</td>\n",
       "      <td>False</td>\n",
       "      <td>False</td>\n",
       "      <td>...</td>\n",
       "      <td>0</td>\n",
       "      <td>0</td>\n",
       "      <td>0</td>\n",
       "      <td>0</td>\n",
       "      <td>0</td>\n",
       "      <td>0</td>\n",
       "      <td>0</td>\n",
       "      <td>0</td>\n",
       "      <td>1</td>\n",
       "      <td>0</td>\n",
       "    </tr>\n",
       "    <tr>\n",
       "      <th>2</th>\n",
       "      <td>0.002699</td>\n",
       "      <td>0.244108</td>\n",
       "      <td>0.172763</td>\n",
       "      <td>13</td>\n",
       "      <td>2017</td>\n",
       "      <td>8</td>\n",
       "      <td>2</td>\n",
       "      <td>1688</td>\n",
       "      <td>False</td>\n",
       "      <td>False</td>\n",
       "      <td>...</td>\n",
       "      <td>0</td>\n",
       "      <td>0</td>\n",
       "      <td>0</td>\n",
       "      <td>0</td>\n",
       "      <td>0</td>\n",
       "      <td>0</td>\n",
       "      <td>0</td>\n",
       "      <td>0</td>\n",
       "      <td>1</td>\n",
       "      <td>0</td>\n",
       "    </tr>\n",
       "    <tr>\n",
       "      <th>3</th>\n",
       "      <td>0.026991</td>\n",
       "      <td>0.244108</td>\n",
       "      <td>0.172763</td>\n",
       "      <td>13</td>\n",
       "      <td>2017</td>\n",
       "      <td>8</td>\n",
       "      <td>2</td>\n",
       "      <td>1688</td>\n",
       "      <td>False</td>\n",
       "      <td>False</td>\n",
       "      <td>...</td>\n",
       "      <td>0</td>\n",
       "      <td>0</td>\n",
       "      <td>0</td>\n",
       "      <td>0</td>\n",
       "      <td>0</td>\n",
       "      <td>0</td>\n",
       "      <td>0</td>\n",
       "      <td>0</td>\n",
       "      <td>1</td>\n",
       "      <td>0</td>\n",
       "    </tr>\n",
       "    <tr>\n",
       "      <th>4</th>\n",
       "      <td>0.000000</td>\n",
       "      <td>0.244108</td>\n",
       "      <td>0.172763</td>\n",
       "      <td>13</td>\n",
       "      <td>2017</td>\n",
       "      <td>8</td>\n",
       "      <td>2</td>\n",
       "      <td>1688</td>\n",
       "      <td>False</td>\n",
       "      <td>False</td>\n",
       "      <td>...</td>\n",
       "      <td>0</td>\n",
       "      <td>0</td>\n",
       "      <td>0</td>\n",
       "      <td>0</td>\n",
       "      <td>0</td>\n",
       "      <td>0</td>\n",
       "      <td>0</td>\n",
       "      <td>0</td>\n",
       "      <td>1</td>\n",
       "      <td>0</td>\n",
       "    </tr>\n",
       "  </tbody>\n",
       "</table>\n",
       "<p>5 rows × 104 columns</p>\n",
       "</div>"
      ],
      "text/plain": [
       "   onpromotion  dcoilwtico  transactions  cluster  Year  Month  Weekday  \\\n",
       "0     0.000000    0.244108      0.172763       13  2017      8        2   \n",
       "1     0.000000    0.244108      0.172763       13  2017      8        2   \n",
       "2     0.002699    0.244108      0.172763       13  2017      8        2   \n",
       "3     0.026991    0.244108      0.172763       13  2017      8        2   \n",
       "4     0.000000    0.244108      0.172763       13  2017      8        2   \n",
       "\n",
       "   trend  NewYearsDay  Earthquake  ...  family_PLAYERS AND ELECTRONICS  \\\n",
       "0   1688        False       False  ...                               0   \n",
       "1   1688        False       False  ...                               0   \n",
       "2   1688        False       False  ...                               0   \n",
       "3   1688        False       False  ...                               0   \n",
       "4   1688        False       False  ...                               0   \n",
       "\n",
       "   family_POULTRY  family_PREPARED FOODS  family_PRODUCE  \\\n",
       "0               0                      0               0   \n",
       "1               0                      0               0   \n",
       "2               0                      0               0   \n",
       "3               0                      0               0   \n",
       "4               0                      0               0   \n",
       "\n",
       "   family_SCHOOL AND OFFICE SUPPLIES  family_SEAFOOD  type_y_B  type_y_C  \\\n",
       "0                                  0               0         0         0   \n",
       "1                                  0               0         0         0   \n",
       "2                                  0               0         0         0   \n",
       "3                                  0               0         0         0   \n",
       "4                                  0               0         0         0   \n",
       "\n",
       "   type_y_D  type_y_E  \n",
       "0         1         0  \n",
       "1         1         0  \n",
       "2         1         0  \n",
       "3         1         0  \n",
       "4         1         0  \n",
       "\n",
       "[5 rows x 104 columns]"
      ]
     },
     "execution_count": 80,
     "metadata": {},
     "output_type": "execute_result"
    }
   ],
   "source": [
    "test_data_trans.head()"
   ]
  },
  {
   "cell_type": "code",
   "execution_count": 48,
   "id": "d2ed29b1",
   "metadata": {},
   "outputs": [],
   "source": [
    "train_ds = lgb.Dataset(X_train_data_trans, label = y_train_data)"
   ]
  },
  {
   "cell_type": "code",
   "execution_count": 49,
   "id": "688adeb6",
   "metadata": {},
   "outputs": [
    {
     "name": "stderr",
     "output_type": "stream",
     "text": [
      "C:\\Users\\82104\\anaconda3\\lib\\site-packages\\lightgbm\\engine.py:239: UserWarning: 'verbose_eval' argument is deprecated and will be removed in a future release of LightGBM. Pass 'log_evaluation()' callback via 'callbacks' argument instead.\n",
      "  _log_warning(\"'verbose_eval' argument is deprecated and will be removed in a future release of LightGBM. \"\n"
     ]
    },
    {
     "name": "stdout",
     "output_type": "stream",
     "text": [
      "[LightGBM] [Warning] Auto-choosing row-wise multi-threading, the overhead of testing was 0.291189 seconds.\n",
      "You can set `force_row_wise=true` to remove the overhead.\n",
      "And if memory is not enough, you can set `force_col_wise=true`.\n",
      "[LightGBM] [Info] Total Bins 1206\n",
      "[LightGBM] [Info] Number of data points in the train set: 3054348, number of used features: 104\n",
      "[LightGBM] [Info] Start training from score 359.020892\n"
     ]
    }
   ],
   "source": [
    "params = {'learning_rate':0.03,\n",
    "          'max_depth': 43,\n",
    "          'objective':'regression',\n",
    "          'metric':'mse',\n",
    "          'num_leaves': 8388,    \n",
    "          'is_training_metric':True,\n",
    "          'feature_fraction':0.9,\n",
    "          'bagging_fraction':0.5,\n",
    "          'seed':42}\n",
    "\n",
    "model = lgb.train(params, train_ds, 200, verbose_eval = 100)"
   ]
  },
  {
   "cell_type": "code",
   "execution_count": 82,
   "id": "858a7568",
   "metadata": {},
   "outputs": [],
   "source": [
    "# predict\n",
    "train_pred = model.predict(X_train_data_trans)\n",
    "test_pred = model.predict(test_data_trans)\n",
    "\n",
    "train_pred[train_pred < 0] = 0\n",
    "test_pred[test_pred < 0] = 0"
   ]
  },
  {
   "cell_type": "code",
   "execution_count": 83,
   "id": "dbaac846",
   "metadata": {},
   "outputs": [
    {
     "name": "stdout",
     "output_type": "stream",
     "text": [
      "훈련데이터 rmsle:  0.8811268669849754\n"
     ]
    }
   ],
   "source": [
    "from sklearn.metrics import mean_squared_log_error\n",
    "print('훈련데이터 rmsle: ', np.sqrt(mean_squared_log_error(y_train_data, train_pred)))"
   ]
  },
  {
   "cell_type": "code",
   "execution_count": 84,
   "id": "470a78cd",
   "metadata": {},
   "outputs": [],
   "source": [
    "submission = pd.read_csv('sample_submission.csv')"
   ]
  },
  {
   "cell_type": "code",
   "execution_count": 85,
   "id": "c558b3e1",
   "metadata": {},
   "outputs": [],
   "source": [
    "submission['sales'] = test_pred"
   ]
  },
  {
   "cell_type": "code",
   "execution_count": 86,
   "id": "ea3be980",
   "metadata": {},
   "outputs": [],
   "source": [
    "submission.to_csv('submission_gbm1.csv', index = False) # 0.71810"
   ]
  },
  {
   "cell_type": "code",
   "execution_count": null,
   "id": "95a5edf9",
   "metadata": {},
   "outputs": [],
   "source": []
  },
  {
   "cell_type": "code",
   "execution_count": null,
   "id": "3093681b",
   "metadata": {},
   "outputs": [],
   "source": []
  },
  {
   "cell_type": "markdown",
   "id": "29850d7b",
   "metadata": {},
   "source": [
    "**hybrid model (['Year', 'Month','Weekday', 'trend'])**"
   ]
  },
  {
   "cell_type": "markdown",
   "id": "7c8a193b",
   "metadata": {},
   "source": [
    "**1.linear regression**"
   ]
  },
  {
   "cell_type": "code",
   "execution_count": 44,
   "id": "bd7cd44c",
   "metadata": {},
   "outputs": [
    {
     "data": {
      "text/html": [
       "<div>\n",
       "<style scoped>\n",
       "    .dataframe tbody tr th:only-of-type {\n",
       "        vertical-align: middle;\n",
       "    }\n",
       "\n",
       "    .dataframe tbody tr th {\n",
       "        vertical-align: top;\n",
       "    }\n",
       "\n",
       "    .dataframe thead th {\n",
       "        text-align: right;\n",
       "    }\n",
       "</style>\n",
       "<table border=\"1\" class=\"dataframe\">\n",
       "  <thead>\n",
       "    <tr style=\"text-align: right;\">\n",
       "      <th></th>\n",
       "      <th>store_nbr</th>\n",
       "      <th>family</th>\n",
       "      <th>onpromotion</th>\n",
       "      <th>dcoilwtico</th>\n",
       "      <th>transactions</th>\n",
       "      <th>type_y</th>\n",
       "      <th>cluster</th>\n",
       "      <th>Year</th>\n",
       "      <th>Month</th>\n",
       "      <th>Weekday</th>\n",
       "      <th>trend</th>\n",
       "      <th>NewYearsDay</th>\n",
       "      <th>Earthquake</th>\n",
       "      <th>Cyber Monday</th>\n",
       "      <th>Football</th>\n",
       "      <th>Black Friday</th>\n",
       "      <th>Dia de la Madre</th>\n",
       "      <th>no_work_day</th>\n",
       "    </tr>\n",
       "  </thead>\n",
       "  <tbody>\n",
       "    <tr>\n",
       "      <th>0</th>\n",
       "      <td>1</td>\n",
       "      <td>AUTOMOTIVE</td>\n",
       "      <td>0</td>\n",
       "      <td>93.14</td>\n",
       "      <td>1420.876311</td>\n",
       "      <td>D</td>\n",
       "      <td>13</td>\n",
       "      <td>2013</td>\n",
       "      <td>1</td>\n",
       "      <td>1</td>\n",
       "      <td>0</td>\n",
       "      <td>True</td>\n",
       "      <td>False</td>\n",
       "      <td>False</td>\n",
       "      <td>False</td>\n",
       "      <td>False</td>\n",
       "      <td>False</td>\n",
       "      <td>True</td>\n",
       "    </tr>\n",
       "    <tr>\n",
       "      <th>1</th>\n",
       "      <td>1</td>\n",
       "      <td>BABY CARE</td>\n",
       "      <td>0</td>\n",
       "      <td>93.14</td>\n",
       "      <td>1420.876311</td>\n",
       "      <td>D</td>\n",
       "      <td>13</td>\n",
       "      <td>2013</td>\n",
       "      <td>1</td>\n",
       "      <td>1</td>\n",
       "      <td>0</td>\n",
       "      <td>True</td>\n",
       "      <td>False</td>\n",
       "      <td>False</td>\n",
       "      <td>False</td>\n",
       "      <td>False</td>\n",
       "      <td>False</td>\n",
       "      <td>True</td>\n",
       "    </tr>\n",
       "    <tr>\n",
       "      <th>2</th>\n",
       "      <td>1</td>\n",
       "      <td>BEAUTY</td>\n",
       "      <td>0</td>\n",
       "      <td>93.14</td>\n",
       "      <td>1420.876311</td>\n",
       "      <td>D</td>\n",
       "      <td>13</td>\n",
       "      <td>2013</td>\n",
       "      <td>1</td>\n",
       "      <td>1</td>\n",
       "      <td>0</td>\n",
       "      <td>True</td>\n",
       "      <td>False</td>\n",
       "      <td>False</td>\n",
       "      <td>False</td>\n",
       "      <td>False</td>\n",
       "      <td>False</td>\n",
       "      <td>True</td>\n",
       "    </tr>\n",
       "    <tr>\n",
       "      <th>3</th>\n",
       "      <td>1</td>\n",
       "      <td>BEVERAGES</td>\n",
       "      <td>0</td>\n",
       "      <td>93.14</td>\n",
       "      <td>1420.876311</td>\n",
       "      <td>D</td>\n",
       "      <td>13</td>\n",
       "      <td>2013</td>\n",
       "      <td>1</td>\n",
       "      <td>1</td>\n",
       "      <td>0</td>\n",
       "      <td>True</td>\n",
       "      <td>False</td>\n",
       "      <td>False</td>\n",
       "      <td>False</td>\n",
       "      <td>False</td>\n",
       "      <td>False</td>\n",
       "      <td>True</td>\n",
       "    </tr>\n",
       "    <tr>\n",
       "      <th>4</th>\n",
       "      <td>1</td>\n",
       "      <td>BOOKS</td>\n",
       "      <td>0</td>\n",
       "      <td>93.14</td>\n",
       "      <td>1420.876311</td>\n",
       "      <td>D</td>\n",
       "      <td>13</td>\n",
       "      <td>2013</td>\n",
       "      <td>1</td>\n",
       "      <td>1</td>\n",
       "      <td>0</td>\n",
       "      <td>True</td>\n",
       "      <td>False</td>\n",
       "      <td>False</td>\n",
       "      <td>False</td>\n",
       "      <td>False</td>\n",
       "      <td>False</td>\n",
       "      <td>True</td>\n",
       "    </tr>\n",
       "  </tbody>\n",
       "</table>\n",
       "</div>"
      ],
      "text/plain": [
       "  store_nbr      family  onpromotion  dcoilwtico  transactions type_y  \\\n",
       "0         1  AUTOMOTIVE            0       93.14   1420.876311      D   \n",
       "1         1   BABY CARE            0       93.14   1420.876311      D   \n",
       "2         1      BEAUTY            0       93.14   1420.876311      D   \n",
       "3         1   BEVERAGES            0       93.14   1420.876311      D   \n",
       "4         1       BOOKS            0       93.14   1420.876311      D   \n",
       "\n",
       "   cluster  Year  Month  Weekday  trend  NewYearsDay  Earthquake  \\\n",
       "0       13  2013      1        1      0         True       False   \n",
       "1       13  2013      1        1      0         True       False   \n",
       "2       13  2013      1        1      0         True       False   \n",
       "3       13  2013      1        1      0         True       False   \n",
       "4       13  2013      1        1      0         True       False   \n",
       "\n",
       "   Cyber Monday  Football  Black Friday  Dia de la Madre  no_work_day  \n",
       "0         False     False         False            False         True  \n",
       "1         False     False         False            False         True  \n",
       "2         False     False         False            False         True  \n",
       "3         False     False         False            False         True  \n",
       "4         False     False         False            False         True  "
      ]
     },
     "execution_count": 44,
     "metadata": {},
     "output_type": "execute_result"
    }
   ],
   "source": [
    "X_sub_train_data.head()"
   ]
  },
  {
   "cell_type": "code",
   "execution_count": 51,
   "id": "dbd5b641",
   "metadata": {},
   "outputs": [],
   "source": [
    "X_sub_train_data_trans_lin = X_sub_train_data_trans[['Year', 'Month','Weekday', 'trend']]\n",
    "X_valid_data_trans_lin = X_valid_data_trans[['Year', 'Month','Weekday', 'trend']]\n",
    "X_train_data_trans_lin = X_train_data_trans[['Year', 'Month','Weekday', 'trend']]\n",
    "test_data_trans_lin = test_data_trans[['Year', 'Month','Weekday', 'trend']]"
   ]
  },
  {
   "cell_type": "code",
   "execution_count": 46,
   "id": "760bb771",
   "metadata": {},
   "outputs": [
    {
     "data": {
      "text/plain": [
       "LinearRegression()"
      ]
     },
     "execution_count": 46,
     "metadata": {},
     "output_type": "execute_result"
    }
   ],
   "source": [
    "# modeling\n",
    "from sklearn.linear_model import LinearRegression\n",
    "\n",
    "model = LinearRegression()\n",
    "model.fit(X_sub_train_data_trans_lin, y_sub_train_data)"
   ]
  },
  {
   "cell_type": "code",
   "execution_count": 47,
   "id": "0440ead8",
   "metadata": {},
   "outputs": [],
   "source": [
    "# predict\n",
    "train_pred_lin = model.predict(X_sub_train_data_trans_lin)\n",
    "valid_pred_lin = model.predict(X_valid_data_trans_lin)"
   ]
  },
  {
   "cell_type": "code",
   "execution_count": 67,
   "id": "36a392a4",
   "metadata": {},
   "outputs": [
    {
     "name": "stdout",
     "output_type": "stream",
     "text": [
      "훈련데이터 rmsle:  4.005683206316629\n",
      "검증데이터 rmsle:  3.7405319749075763\n"
     ]
    }
   ],
   "source": [
    "from sklearn.metrics import mean_squared_log_error\n",
    "print('훈련데이터 rmsle: ', np.sqrt(mean_squared_log_error(y_sub_train_data, train_pred_lin)))\n",
    "print('검증데이터 rmsle: ', np.sqrt(mean_squared_log_error(y_valid_data, valid_pred_lin)))"
   ]
  },
  {
   "cell_type": "code",
   "execution_count": 49,
   "id": "7c07cd8e",
   "metadata": {},
   "outputs": [],
   "source": [
    "y_sub_train_after_lin = y_sub_train_data - train_pred_lin\n",
    "y_valid_after_lin = y_valid_data - valid_pred_lin"
   ]
  },
  {
   "cell_type": "markdown",
   "id": "360363bd",
   "metadata": {},
   "source": [
    "**2. lightGBM**"
   ]
  },
  {
   "cell_type": "code",
   "execution_count": 50,
   "id": "96d0bcbf",
   "metadata": {},
   "outputs": [],
   "source": [
    "X_sub_train_data_trans_gbm = X_sub_train_data_trans.drop(columns = ['Year', 'Month','Weekday', 'trend'])\n",
    "X_valid_data_trans_gbm = X_valid_data_trans.drop(columns = ['Year', 'Month','Weekday', 'trend'])\n",
    "X_train_data_trans_gbm = X_train_data_trans.drop(columns = ['Year', 'Month','Weekday', 'trend'])\n",
    "test_data_trans_gbm = test_data_trans.drop(columns = ['Year', 'Month','Weekday', 'trend'])"
   ]
  },
  {
   "cell_type": "code",
   "execution_count": 55,
   "id": "3b94b678",
   "metadata": {},
   "outputs": [],
   "source": [
    "import re\n",
    "X_sub_train_data_trans_gbm = X_sub_train_data_trans_gbm.rename(columns = lambda x:re.sub('[^A-Za-z0-9_]+', '', x))\n",
    "X_valid_data_trans_gbm = X_valid_data_trans_gbm.rename(columns = lambda x:re.sub('[^A-Za-z0-9_]+', '', x))\n",
    "X_train_data_trans_gbm = X_train_data_trans_gbm.rename(columns = lambda x:re.sub('[^A-Za-z0-9_]+', '', x))\n",
    "test_data_trans_gbm = test_data_trans_gbm.rename(columns = lambda x:re.sub('[^A-Za-z0-9_]+', '', x))"
   ]
  },
  {
   "cell_type": "code",
   "execution_count": 56,
   "id": "f2a4e838",
   "metadata": {},
   "outputs": [],
   "source": [
    "sub_train_ds = lgb.Dataset(X_sub_train_data_trans_gbm, label = y_sub_train_after_lin)\n",
    "valid_ds = lgb.Dataset(X_valid_data_trans_gbm, label = y_valid_after_lin)"
   ]
  },
  {
   "cell_type": "code",
   "execution_count": 57,
   "id": "472c2a10",
   "metadata": {},
   "outputs": [
    {
     "name": "stderr",
     "output_type": "stream",
     "text": [
      "C:\\Users\\82104\\anaconda3\\lib\\site-packages\\lightgbm\\engine.py:181: UserWarning: 'early_stopping_rounds' argument is deprecated and will be removed in a future release of LightGBM. Pass 'early_stopping()' callback via 'callbacks' argument instead.\n",
      "  _log_warning(\"'early_stopping_rounds' argument is deprecated and will be removed in a future release of LightGBM. \"\n",
      "C:\\Users\\82104\\anaconda3\\lib\\site-packages\\lightgbm\\engine.py:239: UserWarning: 'verbose_eval' argument is deprecated and will be removed in a future release of LightGBM. Pass 'log_evaluation()' callback via 'callbacks' argument instead.\n",
      "  _log_warning(\"'verbose_eval' argument is deprecated and will be removed in a future release of LightGBM. \"\n"
     ]
    },
    {
     "name": "stdout",
     "output_type": "stream",
     "text": [
      "[LightGBM] [Warning] Auto-choosing row-wise multi-threading, the overhead of testing was 0.183501 seconds.\n",
      "You can set `force_row_wise=true` to remove the overhead.\n",
      "And if memory is not enough, you can set `force_col_wise=true`.\n",
      "[LightGBM] [Info] Total Bins 893\n",
      "[LightGBM] [Info] Number of data points in the train set: 2368278, number of used features: 100\n",
      "[LightGBM] [Info] Start training from score -0.000000\n",
      "Training until validation scores don't improve for 100 rounds\n",
      "[LightGBM] [Warning] No further splits with positive gain, best gain: -inf\n",
      "[100]\tvalid_0's l2: 167552\n",
      "[200]\tvalid_0's l2: 148648\n",
      "Early stopping, best iteration is:\n",
      "[185]\tvalid_0's l2: 148571\n"
     ]
    }
   ],
   "source": [
    "params = {'learning_rate':0.03,\n",
    "          'max_depth': 43,\n",
    "          'objective':'regression',\n",
    "          'metric':'mse',\n",
    "          'num_leaves': 8388,    \n",
    "          'is_training_metric':True,\n",
    "          'feature_fraction':0.9,\n",
    "          'bagging_fraction':0.5,\n",
    "          'seed':42}\n",
    "model = lgb.train(params, sub_train_ds, 3000, valid_ds, verbose_eval = 100, early_stopping_rounds = 100)"
   ]
  },
  {
   "cell_type": "code",
   "execution_count": 69,
   "id": "67749efb",
   "metadata": {},
   "outputs": [],
   "source": [
    "# predict\n",
    "train_pred_gbm = model.predict(X_sub_train_data_trans_gbm)\n",
    "valid_pred_gbm = model.predict(X_valid_data_trans_gbm)"
   ]
  },
  {
   "cell_type": "markdown",
   "id": "1e53ef78",
   "metadata": {},
   "source": [
    "**final(linear regression + lightgbm)**"
   ]
  },
  {
   "cell_type": "code",
   "execution_count": 70,
   "id": "3277d7a0",
   "metadata": {},
   "outputs": [],
   "source": [
    "train_pred = train_pred_lin + train_pred_gbm\n",
    "valid_pred = valid_pred_lin + valid_pred_gbm\n",
    "\n",
    "train_pred[train_pred < 0] = 0\n",
    "valid_pred[valid_pred < 0] = 0"
   ]
  },
  {
   "cell_type": "code",
   "execution_count": 71,
   "id": "0c9ad5d9",
   "metadata": {},
   "outputs": [
    {
     "name": "stdout",
     "output_type": "stream",
     "text": [
      "훈련데이터 rmsle:  1.7348018353007544\n",
      "검증데이터 rmsle:  2.661123136486128\n"
     ]
    }
   ],
   "source": [
    "from sklearn.metrics import mean_squared_log_error\n",
    "print('훈련데이터 rmsle: ', np.sqrt(mean_squared_log_error(y_sub_train_data, train_pred)))\n",
    "print('검증데이터 rmsle: ', np.sqrt(mean_squared_log_error(y_valid_data, valid_pred)))"
   ]
  },
  {
   "cell_type": "code",
   "execution_count": null,
   "id": "6650a19c",
   "metadata": {},
   "outputs": [],
   "source": []
  },
  {
   "cell_type": "code",
   "execution_count": null,
   "id": "53d69dcc",
   "metadata": {},
   "outputs": [],
   "source": []
  },
  {
   "cell_type": "markdown",
   "id": "06b519e0",
   "metadata": {},
   "source": [
    "**최적화**"
   ]
  },
  {
   "cell_type": "code",
   "execution_count": 66,
   "id": "d60800bf",
   "metadata": {},
   "outputs": [],
   "source": [
    "def valid_msle(learning_rate, max_depth, feature_fraction, bagging_fraction, num_leaves):\n",
    "    params = {'learning_rate':learning_rate,\n",
    "          'max_depth': int(max_depth),\n",
    "          'objective':'regression',\n",
    "          'metric':'mse',\n",
    "          'num_leaves': int(num_leaves),    \n",
    "          'is_training_metric':True,\n",
    "          'feature_fraction':feature_fraction,\n",
    "          'bagging_fraction':bagging_fraction,\n",
    "          'seed':42}\n",
    "    model = lgb.train(params, sub_train_ds, 3000, valid_ds, verbose_eval = 100, early_stopping_rounds = 100)\n",
    "    valid_pred_gbm = model.predict(X_valid_data_trans_gbm)\n",
    "    valid_pred = valid_pred_lin + valid_pred_gbm\n",
    "    valid_pred[valid_pred < 0] = 0\n",
    "    return - np.sqrt(mean_squared_log_error(y_valid_data, valid_pred))"
   ]
  },
  {
   "cell_type": "code",
   "execution_count": 74,
   "id": "a9a3f4b3",
   "metadata": {},
   "outputs": [
    {
     "name": "stdout",
     "output_type": "stream",
     "text": [
      "|   iter    |  target   | baggin... | featur... | learni... | max_depth | num_le... |\n",
      "-------------------------------------------------------------------------------------\n"
     ]
    },
    {
     "name": "stderr",
     "output_type": "stream",
     "text": [
      "C:\\Users\\82104\\anaconda3\\lib\\site-packages\\lightgbm\\engine.py:181: UserWarning: 'early_stopping_rounds' argument is deprecated and will be removed in a future release of LightGBM. Pass 'early_stopping()' callback via 'callbacks' argument instead.\n",
      "  _log_warning(\"'early_stopping_rounds' argument is deprecated and will be removed in a future release of LightGBM. \"\n",
      "C:\\Users\\82104\\anaconda3\\lib\\site-packages\\lightgbm\\engine.py:239: UserWarning: 'verbose_eval' argument is deprecated and will be removed in a future release of LightGBM. Pass 'log_evaluation()' callback via 'callbacks' argument instead.\n",
      "  _log_warning(\"'verbose_eval' argument is deprecated and will be removed in a future release of LightGBM. \"\n"
     ]
    },
    {
     "name": "stdout",
     "output_type": "stream",
     "text": [
      "[LightGBM] [Warning] Auto-choosing row-wise multi-threading, the overhead of testing was 0.188562 seconds.\n",
      "You can set `force_row_wise=true` to remove the overhead.\n",
      "And if memory is not enough, you can set `force_col_wise=true`.\n",
      "[LightGBM] [Info] Total Bins 893\n",
      "[LightGBM] [Info] Number of data points in the train set: 2368278, number of used features: 100\n",
      "[LightGBM] [Info] Start training from score -0.000000\n",
      "Training until validation scores don't improve for 100 rounds\n",
      "[100]\tvalid_0's l2: 143025\n",
      "[200]\tvalid_0's l2: 142754\n",
      "Early stopping, best iteration is:\n",
      "[149]\tvalid_0's l2: 140240\n",
      "| \u001b[0m 1       \u001b[0m | \u001b[0m-2.665   \u001b[0m | \u001b[0m 0.5498  \u001b[0m | \u001b[0m 0.8803  \u001b[0m | \u001b[0m 0.07588 \u001b[0m | \u001b[0m 67.89   \u001b[0m | \u001b[0m 198.2   \u001b[0m |\n"
     ]
    },
    {
     "name": "stderr",
     "output_type": "stream",
     "text": [
      "C:\\Users\\82104\\anaconda3\\lib\\site-packages\\lightgbm\\engine.py:181: UserWarning: 'early_stopping_rounds' argument is deprecated and will be removed in a future release of LightGBM. Pass 'early_stopping()' callback via 'callbacks' argument instead.\n",
      "  _log_warning(\"'early_stopping_rounds' argument is deprecated and will be removed in a future release of LightGBM. \"\n",
      "C:\\Users\\82104\\anaconda3\\lib\\site-packages\\lightgbm\\engine.py:239: UserWarning: 'verbose_eval' argument is deprecated and will be removed in a future release of LightGBM. Pass 'log_evaluation()' callback via 'callbacks' argument instead.\n",
      "  _log_warning(\"'verbose_eval' argument is deprecated and will be removed in a future release of LightGBM. \"\n"
     ]
    },
    {
     "name": "stdout",
     "output_type": "stream",
     "text": [
      "[LightGBM] [Warning] Auto-choosing col-wise multi-threading, the overhead of testing was 0.411793 seconds.\n",
      "You can set `force_col_wise=true` to remove the overhead.\n",
      "[LightGBM] [Info] Total Bins 893\n",
      "[LightGBM] [Info] Number of data points in the train set: 2368278, number of used features: 100\n",
      "[LightGBM] [Info] Start training from score -0.000000\n",
      "Training until validation scores don't improve for 100 rounds\n",
      "[100]\tvalid_0's l2: 181049\n",
      "[200]\tvalid_0's l2: 175229\n",
      "[300]\tvalid_0's l2: 176288\n",
      "Early stopping, best iteration is:\n",
      "[212]\tvalid_0's l2: 174710\n",
      "| \u001b[0m 2       \u001b[0m | \u001b[0m-2.669   \u001b[0m | \u001b[0m 0.4624  \u001b[0m | \u001b[0m 0.5232  \u001b[0m | \u001b[0m 0.08796 \u001b[0m | \u001b[0m 68.09   \u001b[0m | \u001b[0m 722.7   \u001b[0m |\n"
     ]
    },
    {
     "name": "stderr",
     "output_type": "stream",
     "text": [
      "C:\\Users\\82104\\anaconda3\\lib\\site-packages\\lightgbm\\engine.py:181: UserWarning: 'early_stopping_rounds' argument is deprecated and will be removed in a future release of LightGBM. Pass 'early_stopping()' callback via 'callbacks' argument instead.\n",
      "  _log_warning(\"'early_stopping_rounds' argument is deprecated and will be removed in a future release of LightGBM. \"\n",
      "C:\\Users\\82104\\anaconda3\\lib\\site-packages\\lightgbm\\engine.py:239: UserWarning: 'verbose_eval' argument is deprecated and will be removed in a future release of LightGBM. Pass 'log_evaluation()' callback via 'callbacks' argument instead.\n",
      "  _log_warning(\"'verbose_eval' argument is deprecated and will be removed in a future release of LightGBM. \"\n"
     ]
    },
    {
     "name": "stdout",
     "output_type": "stream",
     "text": [
      "[LightGBM] [Warning] Auto-choosing row-wise multi-threading, the overhead of testing was 0.191854 seconds.\n",
      "You can set `force_row_wise=true` to remove the overhead.\n",
      "And if memory is not enough, you can set `force_col_wise=true`.\n",
      "[LightGBM] [Info] Total Bins 893\n",
      "[LightGBM] [Info] Number of data points in the train set: 2368278, number of used features: 100\n",
      "[LightGBM] [Info] Start training from score -0.000000\n",
      "Training until validation scores don't improve for 100 rounds\n",
      "[100]\tvalid_0's l2: 144632\n",
      "[200]\tvalid_0's l2: 146505\n",
      "Early stopping, best iteration is:\n",
      "[137]\tvalid_0's l2: 143396\n",
      "| \u001b[0m 3       \u001b[0m | \u001b[0m-2.669   \u001b[0m | \u001b[0m 0.4082  \u001b[0m | \u001b[0m 0.888   \u001b[0m | \u001b[0m 0.08492 \u001b[0m | \u001b[0m 36.99   \u001b[0m | \u001b[0m 222.7   \u001b[0m |\n"
     ]
    },
    {
     "name": "stderr",
     "output_type": "stream",
     "text": [
      "C:\\Users\\82104\\anaconda3\\lib\\site-packages\\lightgbm\\engine.py:181: UserWarning: 'early_stopping_rounds' argument is deprecated and will be removed in a future release of LightGBM. Pass 'early_stopping()' callback via 'callbacks' argument instead.\n",
      "  _log_warning(\"'early_stopping_rounds' argument is deprecated and will be removed in a future release of LightGBM. \"\n",
      "C:\\Users\\82104\\anaconda3\\lib\\site-packages\\lightgbm\\engine.py:239: UserWarning: 'verbose_eval' argument is deprecated and will be removed in a future release of LightGBM. Pass 'log_evaluation()' callback via 'callbacks' argument instead.\n",
      "  _log_warning(\"'verbose_eval' argument is deprecated and will be removed in a future release of LightGBM. \"\n"
     ]
    },
    {
     "name": "stdout",
     "output_type": "stream",
     "text": [
      "[LightGBM] [Warning] Auto-choosing row-wise multi-threading, the overhead of testing was 0.184296 seconds.\n",
      "You can set `force_row_wise=true` to remove the overhead.\n",
      "And if memory is not enough, you can set `force_col_wise=true`.\n",
      "[LightGBM] [Info] Total Bins 893\n",
      "[LightGBM] [Info] Number of data points in the train set: 2368278, number of used features: 100\n",
      "[LightGBM] [Info] Start training from score -0.000000\n",
      "Training until validation scores don't improve for 100 rounds\n",
      "[100]\tvalid_0's l2: 173687\n",
      "[200]\tvalid_0's l2: 162645\n",
      "Early stopping, best iteration is:\n",
      "[151]\tvalid_0's l2: 161889\n",
      "| \u001b[0m 4       \u001b[0m | \u001b[0m-2.69    \u001b[0m | \u001b[0m 0.4734  \u001b[0m | \u001b[0m 0.6217  \u001b[0m | \u001b[0m 0.05723 \u001b[0m | \u001b[0m 54.56   \u001b[0m | \u001b[0m 326.7   \u001b[0m |\n"
     ]
    },
    {
     "name": "stderr",
     "output_type": "stream",
     "text": [
      "C:\\Users\\82104\\anaconda3\\lib\\site-packages\\lightgbm\\engine.py:181: UserWarning: 'early_stopping_rounds' argument is deprecated and will be removed in a future release of LightGBM. Pass 'early_stopping()' callback via 'callbacks' argument instead.\n",
      "  _log_warning(\"'early_stopping_rounds' argument is deprecated and will be removed in a future release of LightGBM. \"\n",
      "C:\\Users\\82104\\anaconda3\\lib\\site-packages\\lightgbm\\engine.py:239: UserWarning: 'verbose_eval' argument is deprecated and will be removed in a future release of LightGBM. Pass 'log_evaluation()' callback via 'callbacks' argument instead.\n",
      "  _log_warning(\"'verbose_eval' argument is deprecated and will be removed in a future release of LightGBM. \"\n"
     ]
    },
    {
     "name": "stdout",
     "output_type": "stream",
     "text": [
      "[LightGBM] [Warning] Auto-choosing row-wise multi-threading, the overhead of testing was 0.173903 seconds.\n",
      "You can set `force_row_wise=true` to remove the overhead.\n",
      "And if memory is not enough, you can set `force_col_wise=true`.\n",
      "[LightGBM] [Info] Total Bins 893\n",
      "[LightGBM] [Info] Number of data points in the train set: 2368278, number of used features: 100\n",
      "[LightGBM] [Info] Start training from score -0.000000\n",
      "Training until validation scores don't improve for 100 rounds\n",
      "[100]\tvalid_0's l2: 224739\n",
      "[200]\tvalid_0's l2: 175628\n",
      "[300]\tvalid_0's l2: 169292\n",
      "[400]\tvalid_0's l2: 168906\n",
      "[500]\tvalid_0's l2: 167987\n",
      "[600]\tvalid_0's l2: 167357\n",
      "[700]\tvalid_0's l2: 167450\n",
      "Early stopping, best iteration is:\n",
      "[653]\tvalid_0's l2: 167028\n",
      "| \u001b[0m 5       \u001b[0m | \u001b[0m-2.667   \u001b[0m | \u001b[0m 0.6447  \u001b[0m | \u001b[0m 0.5558  \u001b[0m | \u001b[0m 0.03629 \u001b[0m | \u001b[0m 49.31   \u001b[0m | \u001b[0m 483.3   \u001b[0m |\n"
     ]
    },
    {
     "name": "stderr",
     "output_type": "stream",
     "text": [
      "C:\\Users\\82104\\anaconda3\\lib\\site-packages\\lightgbm\\engine.py:181: UserWarning: 'early_stopping_rounds' argument is deprecated and will be removed in a future release of LightGBM. Pass 'early_stopping()' callback via 'callbacks' argument instead.\n",
      "  _log_warning(\"'early_stopping_rounds' argument is deprecated and will be removed in a future release of LightGBM. \"\n",
      "C:\\Users\\82104\\anaconda3\\lib\\site-packages\\lightgbm\\engine.py:239: UserWarning: 'verbose_eval' argument is deprecated and will be removed in a future release of LightGBM. Pass 'log_evaluation()' callback via 'callbacks' argument instead.\n",
      "  _log_warning(\"'verbose_eval' argument is deprecated and will be removed in a future release of LightGBM. \"\n"
     ]
    },
    {
     "name": "stdout",
     "output_type": "stream",
     "text": [
      "[LightGBM] [Warning] Auto-choosing row-wise multi-threading, the overhead of testing was 0.179591 seconds.\n",
      "You can set `force_row_wise=true` to remove the overhead.\n",
      "And if memory is not enough, you can set `force_col_wise=true`.\n",
      "[LightGBM] [Info] Total Bins 893\n",
      "[LightGBM] [Info] Number of data points in the train set: 2368278, number of used features: 100\n",
      "[LightGBM] [Info] Start training from score -0.000000\n",
      "Training until validation scores don't improve for 100 rounds\n",
      "[100]\tvalid_0's l2: 146368\n",
      "[200]\tvalid_0's l2: 142505\n",
      "Early stopping, best iteration is:\n",
      "[168]\tvalid_0's l2: 142033\n",
      "| \u001b[95m 6       \u001b[0m | \u001b[95m-2.662   \u001b[0m | \u001b[95m 0.6929  \u001b[0m | \u001b[95m 0.8108  \u001b[0m | \u001b[95m 0.08852 \u001b[0m | \u001b[95m 37.25   \u001b[0m | \u001b[95m 129.6   \u001b[0m |\n"
     ]
    },
    {
     "name": "stderr",
     "output_type": "stream",
     "text": [
      "C:\\Users\\82104\\anaconda3\\lib\\site-packages\\lightgbm\\engine.py:181: UserWarning: 'early_stopping_rounds' argument is deprecated and will be removed in a future release of LightGBM. Pass 'early_stopping()' callback via 'callbacks' argument instead.\n",
      "  _log_warning(\"'early_stopping_rounds' argument is deprecated and will be removed in a future release of LightGBM. \"\n",
      "C:\\Users\\82104\\anaconda3\\lib\\site-packages\\lightgbm\\engine.py:239: UserWarning: 'verbose_eval' argument is deprecated and will be removed in a future release of LightGBM. Pass 'log_evaluation()' callback via 'callbacks' argument instead.\n",
      "  _log_warning(\"'verbose_eval' argument is deprecated and will be removed in a future release of LightGBM. \"\n"
     ]
    },
    {
     "name": "stdout",
     "output_type": "stream",
     "text": [
      "[LightGBM] [Warning] Auto-choosing row-wise multi-threading, the overhead of testing was 0.160268 seconds.\n",
      "You can set `force_row_wise=true` to remove the overhead.\n",
      "And if memory is not enough, you can set `force_col_wise=true`.\n",
      "[LightGBM] [Info] Total Bins 893\n",
      "[LightGBM] [Info] Number of data points in the train set: 2368278, number of used features: 100\n",
      "[LightGBM] [Info] Start training from score -0.000000\n",
      "Training until validation scores don't improve for 100 rounds\n",
      "[100]\tvalid_0's l2: 246290\n",
      "[200]\tvalid_0's l2: 166669\n",
      "[300]\tvalid_0's l2: 155071\n",
      "[400]\tvalid_0's l2: 152048\n",
      "[500]\tvalid_0's l2: 150896\n",
      "[600]\tvalid_0's l2: 151173\n",
      "Early stopping, best iteration is:\n",
      "[523]\tvalid_0's l2: 150762\n",
      "| \u001b[0m 7       \u001b[0m | \u001b[0m-2.674   \u001b[0m | \u001b[0m 0.6765  \u001b[0m | \u001b[0m 0.8012  \u001b[0m | \u001b[0m 0.02264 \u001b[0m | \u001b[0m 67.62   \u001b[0m | \u001b[0m 196.7   \u001b[0m |\n"
     ]
    },
    {
     "name": "stderr",
     "output_type": "stream",
     "text": [
      "C:\\Users\\82104\\anaconda3\\lib\\site-packages\\lightgbm\\engine.py:181: UserWarning: 'early_stopping_rounds' argument is deprecated and will be removed in a future release of LightGBM. Pass 'early_stopping()' callback via 'callbacks' argument instead.\n",
      "  _log_warning(\"'early_stopping_rounds' argument is deprecated and will be removed in a future release of LightGBM. \"\n",
      "C:\\Users\\82104\\anaconda3\\lib\\site-packages\\lightgbm\\engine.py:239: UserWarning: 'verbose_eval' argument is deprecated and will be removed in a future release of LightGBM. Pass 'log_evaluation()' callback via 'callbacks' argument instead.\n",
      "  _log_warning(\"'verbose_eval' argument is deprecated and will be removed in a future release of LightGBM. \"\n"
     ]
    },
    {
     "name": "stdout",
     "output_type": "stream",
     "text": [
      "[LightGBM] [Warning] Auto-choosing row-wise multi-threading, the overhead of testing was 0.172641 seconds.\n",
      "You can set `force_row_wise=true` to remove the overhead.\n",
      "And if memory is not enough, you can set `force_col_wise=true`.\n",
      "[LightGBM] [Info] Total Bins 893\n",
      "[LightGBM] [Info] Number of data points in the train set: 2368278, number of used features: 100\n",
      "[LightGBM] [Info] Start training from score -0.000000\n",
      "Training until validation scores don't improve for 100 rounds\n",
      "[100]\tvalid_0's l2: 591384\n",
      "[200]\tvalid_0's l2: 307963\n",
      "[300]\tvalid_0's l2: 230595\n",
      "[400]\tvalid_0's l2: 202220\n",
      "[500]\tvalid_0's l2: 186369\n",
      "[600]\tvalid_0's l2: 177353\n",
      "[700]\tvalid_0's l2: 173048\n",
      "[800]\tvalid_0's l2: 170673\n",
      "[900]\tvalid_0's l2: 168990\n",
      "[1000]\tvalid_0's l2: 168260\n",
      "[1100]\tvalid_0's l2: 168093\n",
      "[1200]\tvalid_0's l2: 167588\n",
      "[1300]\tvalid_0's l2: 167469\n",
      "[1400]\tvalid_0's l2: 167545\n",
      "Early stopping, best iteration is:\n",
      "[1307]\tvalid_0's l2: 167399\n",
      "| \u001b[0m 8       \u001b[0m | \u001b[0m-2.674   \u001b[0m | \u001b[0m 0.6336  \u001b[0m | \u001b[0m 0.5191  \u001b[0m | \u001b[0m 0.01322 \u001b[0m | \u001b[0m 28.36   \u001b[0m | \u001b[0m 271.5   \u001b[0m |\n"
     ]
    },
    {
     "name": "stderr",
     "output_type": "stream",
     "text": [
      "C:\\Users\\82104\\anaconda3\\lib\\site-packages\\lightgbm\\engine.py:181: UserWarning: 'early_stopping_rounds' argument is deprecated and will be removed in a future release of LightGBM. Pass 'early_stopping()' callback via 'callbacks' argument instead.\n",
      "  _log_warning(\"'early_stopping_rounds' argument is deprecated and will be removed in a future release of LightGBM. \"\n",
      "C:\\Users\\82104\\anaconda3\\lib\\site-packages\\lightgbm\\engine.py:239: UserWarning: 'verbose_eval' argument is deprecated and will be removed in a future release of LightGBM. Pass 'log_evaluation()' callback via 'callbacks' argument instead.\n",
      "  _log_warning(\"'verbose_eval' argument is deprecated and will be removed in a future release of LightGBM. \"\n"
     ]
    },
    {
     "name": "stdout",
     "output_type": "stream",
     "text": [
      "[LightGBM] [Warning] Auto-choosing row-wise multi-threading, the overhead of testing was 0.176193 seconds.\n",
      "You can set `force_row_wise=true` to remove the overhead.\n",
      "And if memory is not enough, you can set `force_col_wise=true`.\n",
      "[LightGBM] [Info] Total Bins 893\n",
      "[LightGBM] [Info] Number of data points in the train set: 2368278, number of used features: 100\n",
      "[LightGBM] [Info] Start training from score -0.000000\n",
      "Training until validation scores don't improve for 100 rounds\n",
      "[100]\tvalid_0's l2: 149181\n",
      "Early stopping, best iteration is:\n",
      "[84]\tvalid_0's l2: 147793\n",
      "| \u001b[0m 9       \u001b[0m | \u001b[0m-2.676   \u001b[0m | \u001b[0m 0.5874  \u001b[0m | \u001b[0m 0.8972  \u001b[0m | \u001b[0m 0.09297 \u001b[0m | \u001b[0m 54.55   \u001b[0m | \u001b[0m 349.7   \u001b[0m |\n"
     ]
    },
    {
     "name": "stderr",
     "output_type": "stream",
     "text": [
      "C:\\Users\\82104\\anaconda3\\lib\\site-packages\\lightgbm\\engine.py:181: UserWarning: 'early_stopping_rounds' argument is deprecated and will be removed in a future release of LightGBM. Pass 'early_stopping()' callback via 'callbacks' argument instead.\n",
      "  _log_warning(\"'early_stopping_rounds' argument is deprecated and will be removed in a future release of LightGBM. \"\n",
      "C:\\Users\\82104\\anaconda3\\lib\\site-packages\\lightgbm\\engine.py:239: UserWarning: 'verbose_eval' argument is deprecated and will be removed in a future release of LightGBM. Pass 'log_evaluation()' callback via 'callbacks' argument instead.\n",
      "  _log_warning(\"'verbose_eval' argument is deprecated and will be removed in a future release of LightGBM. \"\n"
     ]
    },
    {
     "name": "stdout",
     "output_type": "stream",
     "text": [
      "[LightGBM] [Warning] Auto-choosing row-wise multi-threading, the overhead of testing was 0.199015 seconds.\n",
      "You can set `force_row_wise=true` to remove the overhead.\n",
      "And if memory is not enough, you can set `force_col_wise=true`.\n",
      "[LightGBM] [Info] Total Bins 893\n",
      "[LightGBM] [Info] Number of data points in the train set: 2368278, number of used features: 100\n",
      "[LightGBM] [Info] Start training from score -0.000000\n",
      "Training until validation scores don't improve for 100 rounds\n",
      "[100]\tvalid_0's l2: 217179\n",
      "[200]\tvalid_0's l2: 177471\n",
      "[300]\tvalid_0's l2: 172864\n",
      "[400]\tvalid_0's l2: 171090\n",
      "[500]\tvalid_0's l2: 170512\n",
      "[600]\tvalid_0's l2: 170776\n",
      "Early stopping, best iteration is:\n",
      "[531]\tvalid_0's l2: 170394\n",
      "| \u001b[0m 10      \u001b[0m | \u001b[0m-2.667   \u001b[0m | \u001b[0m 0.723   \u001b[0m | \u001b[0m 0.5703  \u001b[0m | \u001b[0m 0.03851 \u001b[0m | \u001b[0m 41.51   \u001b[0m | \u001b[0m 739.6   \u001b[0m |\n"
     ]
    },
    {
     "name": "stderr",
     "output_type": "stream",
     "text": [
      "C:\\Users\\82104\\anaconda3\\lib\\site-packages\\lightgbm\\engine.py:181: UserWarning: 'early_stopping_rounds' argument is deprecated and will be removed in a future release of LightGBM. Pass 'early_stopping()' callback via 'callbacks' argument instead.\n",
      "  _log_warning(\"'early_stopping_rounds' argument is deprecated and will be removed in a future release of LightGBM. \"\n",
      "C:\\Users\\82104\\anaconda3\\lib\\site-packages\\lightgbm\\engine.py:239: UserWarning: 'verbose_eval' argument is deprecated and will be removed in a future release of LightGBM. Pass 'log_evaluation()' callback via 'callbacks' argument instead.\n",
      "  _log_warning(\"'verbose_eval' argument is deprecated and will be removed in a future release of LightGBM. \"\n"
     ]
    },
    {
     "name": "stdout",
     "output_type": "stream",
     "text": [
      "[LightGBM] [Warning] Auto-choosing row-wise multi-threading, the overhead of testing was 0.188950 seconds.\n",
      "You can set `force_row_wise=true` to remove the overhead.\n",
      "And if memory is not enough, you can set `force_col_wise=true`.\n",
      "[LightGBM] [Info] Total Bins 893\n",
      "[LightGBM] [Info] Number of data points in the train set: 2368278, number of used features: 100\n",
      "[LightGBM] [Info] Start training from score -0.000000\n",
      "Training until validation scores don't improve for 100 rounds\n",
      "[100]\tvalid_0's l2: 169695\n",
      "[200]\tvalid_0's l2: 167879\n",
      "Early stopping, best iteration is:\n",
      "[151]\tvalid_0's l2: 167239\n",
      "| \u001b[0m 11      \u001b[0m | \u001b[0m-2.674   \u001b[0m | \u001b[0m 0.5965  \u001b[0m | \u001b[0m 0.6023  \u001b[0m | \u001b[0m 0.07617 \u001b[0m | \u001b[0m 67.66   \u001b[0m | \u001b[0m 808.2   \u001b[0m |\n"
     ]
    },
    {
     "name": "stderr",
     "output_type": "stream",
     "text": [
      "C:\\Users\\82104\\anaconda3\\lib\\site-packages\\lightgbm\\engine.py:181: UserWarning: 'early_stopping_rounds' argument is deprecated and will be removed in a future release of LightGBM. Pass 'early_stopping()' callback via 'callbacks' argument instead.\n",
      "  _log_warning(\"'early_stopping_rounds' argument is deprecated and will be removed in a future release of LightGBM. \"\n",
      "C:\\Users\\82104\\anaconda3\\lib\\site-packages\\lightgbm\\engine.py:239: UserWarning: 'verbose_eval' argument is deprecated and will be removed in a future release of LightGBM. Pass 'log_evaluation()' callback via 'callbacks' argument instead.\n",
      "  _log_warning(\"'verbose_eval' argument is deprecated and will be removed in a future release of LightGBM. \"\n"
     ]
    },
    {
     "name": "stdout",
     "output_type": "stream",
     "text": [
      "[LightGBM] [Warning] Auto-choosing row-wise multi-threading, the overhead of testing was 0.203575 seconds.\n",
      "You can set `force_row_wise=true` to remove the overhead.\n",
      "And if memory is not enough, you can set `force_col_wise=true`.\n",
      "[LightGBM] [Info] Total Bins 893\n",
      "[LightGBM] [Info] Number of data points in the train set: 2368278, number of used features: 100\n",
      "[LightGBM] [Info] Start training from score -0.000000\n",
      "Training until validation scores don't improve for 100 rounds\n",
      "[100]\tvalid_0's l2: 153762\n",
      "[200]\tvalid_0's l2: 152130\n",
      "Early stopping, best iteration is:\n",
      "[165]\tvalid_0's l2: 150392\n",
      "| \u001b[0m 12      \u001b[0m | \u001b[0m-2.686   \u001b[0m | \u001b[0m 0.4302  \u001b[0m | \u001b[0m 0.8248  \u001b[0m | \u001b[0m 0.052   \u001b[0m | \u001b[0m 44.46   \u001b[0m | \u001b[0m 333.8   \u001b[0m |\n"
     ]
    },
    {
     "name": "stderr",
     "output_type": "stream",
     "text": [
      "C:\\Users\\82104\\anaconda3\\lib\\site-packages\\lightgbm\\engine.py:181: UserWarning: 'early_stopping_rounds' argument is deprecated and will be removed in a future release of LightGBM. Pass 'early_stopping()' callback via 'callbacks' argument instead.\n",
      "  _log_warning(\"'early_stopping_rounds' argument is deprecated and will be removed in a future release of LightGBM. \"\n",
      "C:\\Users\\82104\\anaconda3\\lib\\site-packages\\lightgbm\\engine.py:239: UserWarning: 'verbose_eval' argument is deprecated and will be removed in a future release of LightGBM. Pass 'log_evaluation()' callback via 'callbacks' argument instead.\n",
      "  _log_warning(\"'verbose_eval' argument is deprecated and will be removed in a future release of LightGBM. \"\n"
     ]
    },
    {
     "name": "stdout",
     "output_type": "stream",
     "text": [
      "[LightGBM] [Warning] Auto-choosing row-wise multi-threading, the overhead of testing was 0.204319 seconds.\n",
      "You can set `force_row_wise=true` to remove the overhead.\n",
      "And if memory is not enough, you can set `force_col_wise=true`.\n",
      "[LightGBM] [Info] Total Bins 893\n",
      "[LightGBM] [Info] Number of data points in the train set: 2368278, number of used features: 100\n",
      "[LightGBM] [Info] Start training from score -0.000000\n",
      "Training until validation scores don't improve for 100 rounds\n",
      "[100]\tvalid_0's l2: 150056\n",
      "Early stopping, best iteration is:\n",
      "[84]\tvalid_0's l2: 148640\n",
      "| \u001b[0m 13      \u001b[0m | \u001b[0m-2.684   \u001b[0m | \u001b[0m 0.7055  \u001b[0m | \u001b[0m 0.8684  \u001b[0m | \u001b[0m 0.07912 \u001b[0m | \u001b[0m 49.24   \u001b[0m | \u001b[0m 483.2   \u001b[0m |\n"
     ]
    },
    {
     "name": "stderr",
     "output_type": "stream",
     "text": [
      "C:\\Users\\82104\\anaconda3\\lib\\site-packages\\lightgbm\\engine.py:181: UserWarning: 'early_stopping_rounds' argument is deprecated and will be removed in a future release of LightGBM. Pass 'early_stopping()' callback via 'callbacks' argument instead.\n",
      "  _log_warning(\"'early_stopping_rounds' argument is deprecated and will be removed in a future release of LightGBM. \"\n",
      "C:\\Users\\82104\\anaconda3\\lib\\site-packages\\lightgbm\\engine.py:239: UserWarning: 'verbose_eval' argument is deprecated and will be removed in a future release of LightGBM. Pass 'log_evaluation()' callback via 'callbacks' argument instead.\n",
      "  _log_warning(\"'verbose_eval' argument is deprecated and will be removed in a future release of LightGBM. \"\n"
     ]
    },
    {
     "name": "stdout",
     "output_type": "stream",
     "text": [
      "[LightGBM] [Warning] Auto-choosing row-wise multi-threading, the overhead of testing was 0.199868 seconds.\n",
      "You can set `force_row_wise=true` to remove the overhead.\n",
      "And if memory is not enough, you can set `force_col_wise=true`.\n",
      "[LightGBM] [Info] Total Bins 893\n",
      "[LightGBM] [Info] Number of data points in the train set: 2368278, number of used features: 100\n",
      "[LightGBM] [Info] Start training from score -0.000000\n",
      "Training until validation scores don't improve for 100 rounds\n",
      "[100]\tvalid_0's l2: 157627\n",
      "[200]\tvalid_0's l2: 157730\n",
      "Early stopping, best iteration is:\n",
      "[138]\tvalid_0's l2: 155493\n",
      "| \u001b[0m 14      \u001b[0m | \u001b[0m-2.663   \u001b[0m | \u001b[0m 0.6913  \u001b[0m | \u001b[0m 0.767   \u001b[0m | \u001b[0m 0.09951 \u001b[0m | \u001b[0m 52.53   \u001b[0m | \u001b[0m 561.8   \u001b[0m |\n"
     ]
    },
    {
     "name": "stderr",
     "output_type": "stream",
     "text": [
      "C:\\Users\\82104\\anaconda3\\lib\\site-packages\\lightgbm\\engine.py:181: UserWarning: 'early_stopping_rounds' argument is deprecated and will be removed in a future release of LightGBM. Pass 'early_stopping()' callback via 'callbacks' argument instead.\n",
      "  _log_warning(\"'early_stopping_rounds' argument is deprecated and will be removed in a future release of LightGBM. \"\n",
      "C:\\Users\\82104\\anaconda3\\lib\\site-packages\\lightgbm\\engine.py:239: UserWarning: 'verbose_eval' argument is deprecated and will be removed in a future release of LightGBM. Pass 'log_evaluation()' callback via 'callbacks' argument instead.\n",
      "  _log_warning(\"'verbose_eval' argument is deprecated and will be removed in a future release of LightGBM. \"\n"
     ]
    },
    {
     "name": "stdout",
     "output_type": "stream",
     "text": [
      "[LightGBM] [Warning] Auto-choosing row-wise multi-threading, the overhead of testing was 0.179943 seconds.\n",
      "You can set `force_row_wise=true` to remove the overhead.\n",
      "And if memory is not enough, you can set `force_col_wise=true`.\n",
      "[LightGBM] [Info] Total Bins 893\n",
      "[LightGBM] [Info] Number of data points in the train set: 2368278, number of used features: 100\n",
      "[LightGBM] [Info] Start training from score -0.000000\n",
      "Training until validation scores don't improve for 100 rounds\n",
      "[100]\tvalid_0's l2: 174930\n",
      "[200]\tvalid_0's l2: 152157\n",
      "[300]\tvalid_0's l2: 149814\n",
      "[400]\tvalid_0's l2: 150900\n",
      "Early stopping, best iteration is:\n",
      "[306]\tvalid_0's l2: 149762\n",
      "| \u001b[0m 15      \u001b[0m | \u001b[0m-2.674   \u001b[0m | \u001b[0m 0.4534  \u001b[0m | \u001b[0m 0.7949  \u001b[0m | \u001b[0m 0.03712 \u001b[0m | \u001b[0m 35.16   \u001b[0m | \u001b[0m 265.5   \u001b[0m |\n"
     ]
    },
    {
     "name": "stderr",
     "output_type": "stream",
     "text": [
      "C:\\Users\\82104\\anaconda3\\lib\\site-packages\\lightgbm\\engine.py:181: UserWarning: 'early_stopping_rounds' argument is deprecated and will be removed in a future release of LightGBM. Pass 'early_stopping()' callback via 'callbacks' argument instead.\n",
      "  _log_warning(\"'early_stopping_rounds' argument is deprecated and will be removed in a future release of LightGBM. \"\n",
      "C:\\Users\\82104\\anaconda3\\lib\\site-packages\\lightgbm\\engine.py:239: UserWarning: 'verbose_eval' argument is deprecated and will be removed in a future release of LightGBM. Pass 'log_evaluation()' callback via 'callbacks' argument instead.\n",
      "  _log_warning(\"'verbose_eval' argument is deprecated and will be removed in a future release of LightGBM. \"\n"
     ]
    },
    {
     "name": "stdout",
     "output_type": "stream",
     "text": [
      "[LightGBM] [Warning] Auto-choosing row-wise multi-threading, the overhead of testing was 0.188772 seconds.\n",
      "You can set `force_row_wise=true` to remove the overhead.\n",
      "And if memory is not enough, you can set `force_col_wise=true`.\n",
      "[LightGBM] [Info] Total Bins 893\n",
      "[LightGBM] [Info] Number of data points in the train set: 2368278, number of used features: 100\n",
      "[LightGBM] [Info] Start training from score -0.000000\n",
      "Training until validation scores don't improve for 100 rounds\n",
      "[100]\tvalid_0's l2: 346141\n",
      "[200]\tvalid_0's l2: 193975\n",
      "[300]\tvalid_0's l2: 170188\n",
      "[400]\tvalid_0's l2: 164306\n",
      "[500]\tvalid_0's l2: 162936\n",
      "[600]\tvalid_0's l2: 162158\n",
      "[700]\tvalid_0's l2: 161611\n",
      "[800]\tvalid_0's l2: 161578\n",
      "Early stopping, best iteration is:\n",
      "[791]\tvalid_0's l2: 161398\n",
      "| \u001b[0m 16      \u001b[0m | \u001b[0m-2.674   \u001b[0m | \u001b[0m 0.5086  \u001b[0m | \u001b[0m 0.7607  \u001b[0m | \u001b[0m 0.0156  \u001b[0m | \u001b[0m 79.77   \u001b[0m | \u001b[0m 961.3   \u001b[0m |\n"
     ]
    },
    {
     "name": "stderr",
     "output_type": "stream",
     "text": [
      "C:\\Users\\82104\\anaconda3\\lib\\site-packages\\lightgbm\\engine.py:181: UserWarning: 'early_stopping_rounds' argument is deprecated and will be removed in a future release of LightGBM. Pass 'early_stopping()' callback via 'callbacks' argument instead.\n",
      "  _log_warning(\"'early_stopping_rounds' argument is deprecated and will be removed in a future release of LightGBM. \"\n",
      "C:\\Users\\82104\\anaconda3\\lib\\site-packages\\lightgbm\\engine.py:239: UserWarning: 'verbose_eval' argument is deprecated and will be removed in a future release of LightGBM. Pass 'log_evaluation()' callback via 'callbacks' argument instead.\n",
      "  _log_warning(\"'verbose_eval' argument is deprecated and will be removed in a future release of LightGBM. \"\n"
     ]
    },
    {
     "name": "stdout",
     "output_type": "stream",
     "text": [
      "[LightGBM] [Warning] Auto-choosing row-wise multi-threading, the overhead of testing was 0.196046 seconds.\n",
      "You can set `force_row_wise=true` to remove the overhead.\n",
      "And if memory is not enough, you can set `force_col_wise=true`.\n",
      "[LightGBM] [Info] Total Bins 893\n",
      "[LightGBM] [Info] Number of data points in the train set: 2368278, number of used features: 100\n",
      "[LightGBM] [Info] Start training from score -0.000000\n",
      "Training until validation scores don't improve for 100 rounds\n",
      "[100]\tvalid_0's l2: 259996\n",
      "[200]\tvalid_0's l2: 187055\n",
      "[300]\tvalid_0's l2: 176578\n",
      "[400]\tvalid_0's l2: 175386\n",
      "[500]\tvalid_0's l2: 173072\n",
      "[600]\tvalid_0's l2: 172048\n",
      "[700]\tvalid_0's l2: 172185\n",
      "Early stopping, best iteration is:\n",
      "[670]\tvalid_0's l2: 171807\n",
      "| \u001b[0m 17      \u001b[0m | \u001b[0m-2.67    \u001b[0m | \u001b[0m 0.4655  \u001b[0m | \u001b[0m 0.5404  \u001b[0m | \u001b[0m 0.03141 \u001b[0m | \u001b[0m 92.98   \u001b[0m | \u001b[0m 805.4   \u001b[0m |\n"
     ]
    },
    {
     "name": "stderr",
     "output_type": "stream",
     "text": [
      "C:\\Users\\82104\\anaconda3\\lib\\site-packages\\lightgbm\\engine.py:181: UserWarning: 'early_stopping_rounds' argument is deprecated and will be removed in a future release of LightGBM. Pass 'early_stopping()' callback via 'callbacks' argument instead.\n",
      "  _log_warning(\"'early_stopping_rounds' argument is deprecated and will be removed in a future release of LightGBM. \"\n",
      "C:\\Users\\82104\\anaconda3\\lib\\site-packages\\lightgbm\\engine.py:239: UserWarning: 'verbose_eval' argument is deprecated and will be removed in a future release of LightGBM. Pass 'log_evaluation()' callback via 'callbacks' argument instead.\n",
      "  _log_warning(\"'verbose_eval' argument is deprecated and will be removed in a future release of LightGBM. \"\n"
     ]
    },
    {
     "name": "stdout",
     "output_type": "stream",
     "text": [
      "[LightGBM] [Warning] Auto-choosing row-wise multi-threading, the overhead of testing was 0.194183 seconds.\n",
      "You can set `force_row_wise=true` to remove the overhead.\n",
      "And if memory is not enough, you can set `force_col_wise=true`.\n",
      "[LightGBM] [Info] Total Bins 893\n",
      "[LightGBM] [Info] Number of data points in the train set: 2368278, number of used features: 100\n",
      "[LightGBM] [Info] Start training from score -0.000000\n",
      "Training until validation scores don't improve for 100 rounds\n",
      "[100]\tvalid_0's l2: 157365\n",
      "[200]\tvalid_0's l2: 155914\n",
      "Early stopping, best iteration is:\n",
      "[137]\tvalid_0's l2: 153762\n",
      "| \u001b[0m 18      \u001b[0m | \u001b[0m-2.671   \u001b[0m | \u001b[0m 0.711   \u001b[0m | \u001b[0m 0.643   \u001b[0m | \u001b[0m 0.08539 \u001b[0m | \u001b[0m 94.77   \u001b[0m | \u001b[0m 204.9   \u001b[0m |\n"
     ]
    },
    {
     "name": "stderr",
     "output_type": "stream",
     "text": [
      "C:\\Users\\82104\\anaconda3\\lib\\site-packages\\lightgbm\\engine.py:181: UserWarning: 'early_stopping_rounds' argument is deprecated and will be removed in a future release of LightGBM. Pass 'early_stopping()' callback via 'callbacks' argument instead.\n",
      "  _log_warning(\"'early_stopping_rounds' argument is deprecated and will be removed in a future release of LightGBM. \"\n",
      "C:\\Users\\82104\\anaconda3\\lib\\site-packages\\lightgbm\\engine.py:239: UserWarning: 'verbose_eval' argument is deprecated and will be removed in a future release of LightGBM. Pass 'log_evaluation()' callback via 'callbacks' argument instead.\n",
      "  _log_warning(\"'verbose_eval' argument is deprecated and will be removed in a future release of LightGBM. \"\n"
     ]
    },
    {
     "name": "stdout",
     "output_type": "stream",
     "text": [
      "[LightGBM] [Warning] Auto-choosing row-wise multi-threading, the overhead of testing was 0.227694 seconds.\n",
      "You can set `force_row_wise=true` to remove the overhead.\n",
      "And if memory is not enough, you can set `force_col_wise=true`.\n",
      "[LightGBM] [Info] Total Bins 893\n",
      "[LightGBM] [Info] Number of data points in the train set: 2368278, number of used features: 100\n",
      "[LightGBM] [Info] Start training from score -0.000000\n",
      "Training until validation scores don't improve for 100 rounds\n",
      "[100]\tvalid_0's l2: 162678\n",
      "[200]\tvalid_0's l2: 163636\n",
      "Early stopping, best iteration is:\n",
      "[145]\tvalid_0's l2: 161126\n",
      "| \u001b[0m 19      \u001b[0m | \u001b[0m-2.669   \u001b[0m | \u001b[0m 0.6022  \u001b[0m | \u001b[0m 0.7047  \u001b[0m | \u001b[0m 0.08123 \u001b[0m | \u001b[0m 46.43   \u001b[0m | \u001b[0m 926.3   \u001b[0m |\n"
     ]
    },
    {
     "name": "stderr",
     "output_type": "stream",
     "text": [
      "C:\\Users\\82104\\anaconda3\\lib\\site-packages\\lightgbm\\engine.py:181: UserWarning: 'early_stopping_rounds' argument is deprecated and will be removed in a future release of LightGBM. Pass 'early_stopping()' callback via 'callbacks' argument instead.\n",
      "  _log_warning(\"'early_stopping_rounds' argument is deprecated and will be removed in a future release of LightGBM. \"\n",
      "C:\\Users\\82104\\anaconda3\\lib\\site-packages\\lightgbm\\engine.py:239: UserWarning: 'verbose_eval' argument is deprecated and will be removed in a future release of LightGBM. Pass 'log_evaluation()' callback via 'callbacks' argument instead.\n",
      "  _log_warning(\"'verbose_eval' argument is deprecated and will be removed in a future release of LightGBM. \"\n"
     ]
    },
    {
     "name": "stdout",
     "output_type": "stream",
     "text": [
      "[LightGBM] [Warning] Auto-choosing row-wise multi-threading, the overhead of testing was 0.185489 seconds.\n",
      "You can set `force_row_wise=true` to remove the overhead.\n",
      "And if memory is not enough, you can set `force_col_wise=true`.\n",
      "[LightGBM] [Info] Total Bins 893\n",
      "[LightGBM] [Info] Number of data points in the train set: 2368278, number of used features: 100\n",
      "[LightGBM] [Info] Start training from score -0.000000\n",
      "Training until validation scores don't improve for 100 rounds\n",
      "[100]\tvalid_0's l2: 169741\n",
      "[200]\tvalid_0's l2: 160116\n",
      "[300]\tvalid_0's l2: 159672\n",
      "[400]\tvalid_0's l2: 159114\n",
      "Early stopping, best iteration is:\n",
      "[388]\tvalid_0's l2: 158734\n",
      "| \u001b[0m 20      \u001b[0m | \u001b[0m-2.666   \u001b[0m | \u001b[0m 0.7456  \u001b[0m | \u001b[0m 0.7288  \u001b[0m | \u001b[0m 0.04746 \u001b[0m | \u001b[0m 34.66   \u001b[0m | \u001b[0m 317.4   \u001b[0m |\n"
     ]
    },
    {
     "name": "stderr",
     "output_type": "stream",
     "text": [
      "C:\\Users\\82104\\anaconda3\\lib\\site-packages\\lightgbm\\engine.py:181: UserWarning: 'early_stopping_rounds' argument is deprecated and will be removed in a future release of LightGBM. Pass 'early_stopping()' callback via 'callbacks' argument instead.\n",
      "  _log_warning(\"'early_stopping_rounds' argument is deprecated and will be removed in a future release of LightGBM. \"\n",
      "C:\\Users\\82104\\anaconda3\\lib\\site-packages\\lightgbm\\engine.py:239: UserWarning: 'verbose_eval' argument is deprecated and will be removed in a future release of LightGBM. Pass 'log_evaluation()' callback via 'callbacks' argument instead.\n",
      "  _log_warning(\"'verbose_eval' argument is deprecated and will be removed in a future release of LightGBM. \"\n"
     ]
    },
    {
     "name": "stdout",
     "output_type": "stream",
     "text": [
      "[LightGBM] [Warning] Auto-choosing row-wise multi-threading, the overhead of testing was 0.192142 seconds.\n",
      "You can set `force_row_wise=true` to remove the overhead.\n",
      "And if memory is not enough, you can set `force_col_wise=true`.\n",
      "[LightGBM] [Info] Total Bins 893\n",
      "[LightGBM] [Info] Number of data points in the train set: 2368278, number of used features: 100\n",
      "[LightGBM] [Info] Start training from score -0.000000\n",
      "Training until validation scores don't improve for 100 rounds\n",
      "[100]\tvalid_0's l2: 164266\n",
      "[200]\tvalid_0's l2: 158249\n",
      "Early stopping, best iteration is:\n",
      "[157]\tvalid_0's l2: 156983\n",
      "| \u001b[0m 21      \u001b[0m | \u001b[0m-2.686   \u001b[0m | \u001b[0m 0.6499  \u001b[0m | \u001b[0m 0.8052  \u001b[0m | \u001b[0m 0.04452 \u001b[0m | \u001b[0m 35.2    \u001b[0m | \u001b[0m 845.7   \u001b[0m |\n"
     ]
    },
    {
     "name": "stderr",
     "output_type": "stream",
     "text": [
      "C:\\Users\\82104\\anaconda3\\lib\\site-packages\\lightgbm\\engine.py:181: UserWarning: 'early_stopping_rounds' argument is deprecated and will be removed in a future release of LightGBM. Pass 'early_stopping()' callback via 'callbacks' argument instead.\n",
      "  _log_warning(\"'early_stopping_rounds' argument is deprecated and will be removed in a future release of LightGBM. \"\n",
      "C:\\Users\\82104\\anaconda3\\lib\\site-packages\\lightgbm\\engine.py:239: UserWarning: 'verbose_eval' argument is deprecated and will be removed in a future release of LightGBM. Pass 'log_evaluation()' callback via 'callbacks' argument instead.\n",
      "  _log_warning(\"'verbose_eval' argument is deprecated and will be removed in a future release of LightGBM. \"\n"
     ]
    },
    {
     "name": "stdout",
     "output_type": "stream",
     "text": [
      "[LightGBM] [Warning] Auto-choosing row-wise multi-threading, the overhead of testing was 0.191501 seconds.\n",
      "You can set `force_row_wise=true` to remove the overhead.\n",
      "And if memory is not enough, you can set `force_col_wise=true`.\n",
      "[LightGBM] [Info] Total Bins 893\n",
      "[LightGBM] [Info] Number of data points in the train set: 2368278, number of used features: 100\n",
      "[LightGBM] [Info] Start training from score -0.000000\n",
      "Training until validation scores don't improve for 100 rounds\n",
      "[100]\tvalid_0's l2: 225643\n",
      "[200]\tvalid_0's l2: 172758\n",
      "[300]\tvalid_0's l2: 164200\n",
      "[400]\tvalid_0's l2: 163943\n",
      "[500]\tvalid_0's l2: 162922\n",
      "[600]\tvalid_0's l2: 162024\n",
      "[700]\tvalid_0's l2: 162751\n",
      "Early stopping, best iteration is:\n",
      "[638]\tvalid_0's l2: 161838\n",
      "| \u001b[0m 22      \u001b[0m | \u001b[0m-2.667   \u001b[0m | \u001b[0m 0.6265  \u001b[0m | \u001b[0m 0.5209  \u001b[0m | \u001b[0m 0.04277 \u001b[0m | \u001b[0m 33.06   \u001b[0m | \u001b[0m 197.2   \u001b[0m |\n"
     ]
    },
    {
     "name": "stderr",
     "output_type": "stream",
     "text": [
      "C:\\Users\\82104\\anaconda3\\lib\\site-packages\\lightgbm\\engine.py:181: UserWarning: 'early_stopping_rounds' argument is deprecated and will be removed in a future release of LightGBM. Pass 'early_stopping()' callback via 'callbacks' argument instead.\n",
      "  _log_warning(\"'early_stopping_rounds' argument is deprecated and will be removed in a future release of LightGBM. \"\n",
      "C:\\Users\\82104\\anaconda3\\lib\\site-packages\\lightgbm\\engine.py:239: UserWarning: 'verbose_eval' argument is deprecated and will be removed in a future release of LightGBM. Pass 'log_evaluation()' callback via 'callbacks' argument instead.\n",
      "  _log_warning(\"'verbose_eval' argument is deprecated and will be removed in a future release of LightGBM. \"\n"
     ]
    },
    {
     "name": "stdout",
     "output_type": "stream",
     "text": [
      "[LightGBM] [Warning] Auto-choosing row-wise multi-threading, the overhead of testing was 0.165881 seconds.\n",
      "You can set `force_row_wise=true` to remove the overhead.\n",
      "And if memory is not enough, you can set `force_col_wise=true`.\n",
      "[LightGBM] [Info] Total Bins 893\n",
      "[LightGBM] [Info] Number of data points in the train set: 2368278, number of used features: 100\n",
      "[LightGBM] [Info] Start training from score -0.000000\n",
      "Training until validation scores don't improve for 100 rounds\n",
      "[100]\tvalid_0's l2: 150809\n",
      "Early stopping, best iteration is:\n",
      "[85]\tvalid_0's l2: 149365\n",
      "| \u001b[0m 23      \u001b[0m | \u001b[0m-2.68    \u001b[0m | \u001b[0m 0.6144  \u001b[0m | \u001b[0m 0.8207  \u001b[0m | \u001b[0m 0.08434 \u001b[0m | \u001b[0m 63.95   \u001b[0m | \u001b[0m 568.9   \u001b[0m |\n"
     ]
    },
    {
     "name": "stderr",
     "output_type": "stream",
     "text": [
      "C:\\Users\\82104\\anaconda3\\lib\\site-packages\\lightgbm\\engine.py:181: UserWarning: 'early_stopping_rounds' argument is deprecated and will be removed in a future release of LightGBM. Pass 'early_stopping()' callback via 'callbacks' argument instead.\n",
      "  _log_warning(\"'early_stopping_rounds' argument is deprecated and will be removed in a future release of LightGBM. \"\n",
      "C:\\Users\\82104\\anaconda3\\lib\\site-packages\\lightgbm\\engine.py:239: UserWarning: 'verbose_eval' argument is deprecated and will be removed in a future release of LightGBM. Pass 'log_evaluation()' callback via 'callbacks' argument instead.\n",
      "  _log_warning(\"'verbose_eval' argument is deprecated and will be removed in a future release of LightGBM. \"\n"
     ]
    },
    {
     "name": "stdout",
     "output_type": "stream",
     "text": [
      "[LightGBM] [Warning] Auto-choosing row-wise multi-threading, the overhead of testing was 0.206358 seconds.\n",
      "You can set `force_row_wise=true` to remove the overhead.\n",
      "And if memory is not enough, you can set `force_col_wise=true`.\n",
      "[LightGBM] [Info] Total Bins 893\n",
      "[LightGBM] [Info] Number of data points in the train set: 2368278, number of used features: 100\n",
      "[LightGBM] [Info] Start training from score -0.000000\n",
      "Training until validation scores don't improve for 100 rounds\n",
      "[100]\tvalid_0's l2: 333301\n",
      "[200]\tvalid_0's l2: 206965\n",
      "[300]\tvalid_0's l2: 181454\n",
      "[400]\tvalid_0's l2: 174334\n",
      "[500]\tvalid_0's l2: 171698\n",
      "[600]\tvalid_0's l2: 170737\n",
      "[700]\tvalid_0's l2: 170561\n",
      "[800]\tvalid_0's l2: 169922\n",
      "[900]\tvalid_0's l2: 169309\n",
      "[1000]\tvalid_0's l2: 169268\n",
      "Early stopping, best iteration is:\n",
      "[941]\tvalid_0's l2: 169075\n",
      "| \u001b[0m 24      \u001b[0m | \u001b[0m-2.67    \u001b[0m | \u001b[0m 0.4275  \u001b[0m | \u001b[0m 0.5277  \u001b[0m | \u001b[0m 0.02379 \u001b[0m | \u001b[0m 47.06   \u001b[0m | \u001b[0m 404.5   \u001b[0m |\n"
     ]
    },
    {
     "name": "stderr",
     "output_type": "stream",
     "text": [
      "C:\\Users\\82104\\anaconda3\\lib\\site-packages\\lightgbm\\engine.py:181: UserWarning: 'early_stopping_rounds' argument is deprecated and will be removed in a future release of LightGBM. Pass 'early_stopping()' callback via 'callbacks' argument instead.\n",
      "  _log_warning(\"'early_stopping_rounds' argument is deprecated and will be removed in a future release of LightGBM. \"\n",
      "C:\\Users\\82104\\anaconda3\\lib\\site-packages\\lightgbm\\engine.py:239: UserWarning: 'verbose_eval' argument is deprecated and will be removed in a future release of LightGBM. Pass 'log_evaluation()' callback via 'callbacks' argument instead.\n",
      "  _log_warning(\"'verbose_eval' argument is deprecated and will be removed in a future release of LightGBM. \"\n"
     ]
    },
    {
     "name": "stdout",
     "output_type": "stream",
     "text": [
      "[LightGBM] [Warning] Auto-choosing row-wise multi-threading, the overhead of testing was 0.186996 seconds.\n",
      "You can set `force_row_wise=true` to remove the overhead.\n",
      "And if memory is not enough, you can set `force_col_wise=true`.\n",
      "[LightGBM] [Info] Total Bins 893\n",
      "[LightGBM] [Info] Number of data points in the train set: 2368278, number of used features: 100\n",
      "[LightGBM] [Info] Start training from score -0.000000\n",
      "Training until validation scores don't improve for 100 rounds\n",
      "[100]\tvalid_0's l2: 177767\n",
      "[200]\tvalid_0's l2: 158270\n",
      "[300]\tvalid_0's l2: 157965\n",
      "Early stopping, best iteration is:\n",
      "[257]\tvalid_0's l2: 157355\n",
      "| \u001b[0m 25      \u001b[0m | \u001b[0m-2.672   \u001b[0m | \u001b[0m 0.5746  \u001b[0m | \u001b[0m 0.5604  \u001b[0m | \u001b[0m 0.06204 \u001b[0m | \u001b[0m 77.99   \u001b[0m | \u001b[0m 179.1   \u001b[0m |\n",
      "=====================================================================================\n"
     ]
    }
   ],
   "source": [
    "pbounds = {'learning_rate' :(0.01, 0.1),\n",
    "           'max_depth': (20,100),\n",
    "           'num_leaves' : (50,1000),\n",
    "           'feature_fraction':(0.5,0.9),\n",
    "           'bagging_fraction':(0.4,0.8)}\n",
    "\n",
    "gbm_bayes = BayesianOptimization(f = valid_msle, pbounds = pbounds, verbose = 2, random_state = 42)\n",
    "\n",
    "gbm_bayes.maximize(init_points=5, n_iter = 20)"
   ]
  },
  {
   "cell_type": "code",
   "execution_count": 75,
   "id": "ab4de8be",
   "metadata": {},
   "outputs": [
    {
     "data": {
      "text/plain": [
       "[{'target': -2.6649309980993356,\n",
       "  'params': {'bagging_fraction': 0.5498160475389451,\n",
       "   'feature_fraction': 0.8802857225639664,\n",
       "   'learning_rate': 0.07587945476302646,\n",
       "   'max_depth': 67.89267873576293,\n",
       "   'num_leaves': 198.2177084203147}},\n",
       " {'target': -2.668516376174093,\n",
       "  'params': {'bagging_fraction': 0.46239780813448106,\n",
       "   'feature_fraction': 0.5232334448672797,\n",
       "   'learning_rate': 0.08795585311974417,\n",
       "   'max_depth': 68.0892009394567,\n",
       "   'num_leaves': 722.6689489062433}},\n",
       " {'target': -2.669147844462503,\n",
       "  'params': {'bagging_fraction': 0.408233797718321,\n",
       "   'feature_fraction': 0.8879639408647977,\n",
       "   'learning_rate': 0.08491983767203796,\n",
       "   'max_depth': 36.987128854262096,\n",
       "   'num_leaves': 222.73371884674557}},\n",
       " {'target': -2.690339068590749,\n",
       "  'params': {'bagging_fraction': 0.47336180394137356,\n",
       "   'feature_fraction': 0.621696897183815,\n",
       "   'learning_rate': 0.05722807884690141,\n",
       "   'max_depth': 54.55560149136926,\n",
       "   'num_leaves': 326.6676831881398}},\n",
       " {'target': -2.667226755939819,\n",
       "  'params': {'bagging_fraction': 0.6447411578889518,\n",
       "   'feature_fraction': 0.5557975442608167,\n",
       "   'learning_rate': 0.03629301836816964,\n",
       "   'max_depth': 49.308947463495336,\n",
       "   'num_leaves': 483.26648500618415}},\n",
       " {'target': -2.661525137045119,\n",
       "  'params': {'bagging_fraction': 0.6929162269702784,\n",
       "   'feature_fraction': 0.8107785553570085,\n",
       "   'learning_rate': 0.08852165335753068,\n",
       "   'max_depth': 37.25118101806793,\n",
       "   'num_leaves': 129.61395114030773}},\n",
       " {'target': -2.6744147503822293,\n",
       "  'params': {'bagging_fraction': 0.6765170635835587,\n",
       "   'feature_fraction': 0.8011947998417224,\n",
       "   'learning_rate': 0.022644286987872297,\n",
       "   'max_depth': 67.61884607634735,\n",
       "   'num_leaves': 196.69210718775452}},\n",
       " {'target': -2.6738293015986696,\n",
       "  'params': {'bagging_fraction': 0.6336015725140244,\n",
       "   'feature_fraction': 0.5191132768087151,\n",
       "   'learning_rate': 0.013222695551950202,\n",
       "   'max_depth': 28.362157436601905,\n",
       "   'num_leaves': 271.53977195411983}},\n",
       " {'target': -2.675634652497567,\n",
       "  'params': {'bagging_fraction': 0.5874361079808462,\n",
       "   'feature_fraction': 0.8972069665172688,\n",
       "   'learning_rate': 0.09296755075724854,\n",
       "   'max_depth': 54.54529682472155,\n",
       "   'num_leaves': 349.7474931039844}},\n",
       " {'target': -2.666744943035732,\n",
       "  'params': {'bagging_fraction': 0.7230203102850172,\n",
       "   'feature_fraction': 0.5703160767056519,\n",
       "   'learning_rate': 0.03850560550058574,\n",
       "   'max_depth': 41.50884079777462,\n",
       "   'num_leaves': 739.5924095753245}},\n",
       " {'target': -2.6738375369318614,\n",
       "  'params': {'bagging_fraction': 0.5965106824474449,\n",
       "   'feature_fraction': 0.6022885374070883,\n",
       "   'learning_rate': 0.0761659757653849,\n",
       "   'max_depth': 67.66208912612647,\n",
       "   'num_leaves': 808.152293886805}},\n",
       " {'target': -2.6859741517540106,\n",
       "  'params': {'bagging_fraction': 0.43018573573667496,\n",
       "   'feature_fraction': 0.8247616242806957,\n",
       "   'learning_rate': 0.05199981418592324,\n",
       "   'max_depth': 44.46292555381652,\n",
       "   'num_leaves': 333.81026148495806}},\n",
       " {'target': -2.683901961413775,\n",
       "  'params': {'bagging_fraction': 0.70550155226728,\n",
       "   'feature_fraction': 0.8684165287888017,\n",
       "   'learning_rate': 0.07912403449824466,\n",
       "   'max_depth': 49.236190343696656,\n",
       "   'num_leaves': 483.24306753239205}},\n",
       " {'target': -2.6625469799319905,\n",
       "  'params': {'bagging_fraction': 0.6912534002089841,\n",
       "   'feature_fraction': 0.7669851569085588,\n",
       "   'learning_rate': 0.09950640837516364,\n",
       "   'max_depth': 52.52679154027198,\n",
       "   'num_leaves': 561.8009589136956}},\n",
       " {'target': -2.673656156668447,\n",
       "  'params': {'bagging_fraction': 0.4534349427227158,\n",
       "   'feature_fraction': 0.794904129023108,\n",
       "   'learning_rate': 0.03712120437760437,\n",
       "   'max_depth': 35.16274154353453,\n",
       "   'num_leaves': 265.51570699263914}},\n",
       " {'target': -2.6743158665972784,\n",
       "  'params': {'bagging_fraction': 0.5085649016680115,\n",
       "   'feature_fraction': 0.7606594552583599,\n",
       "   'learning_rate': 0.015595115764794205,\n",
       "   'max_depth': 79.76786924062365,\n",
       "   'num_leaves': 961.2978060660391}},\n",
       " {'target': -2.669906102380437,\n",
       "  'params': {'bagging_fraction': 0.4655287942104305,\n",
       "   'feature_fraction': 0.5404376140199979,\n",
       "   'learning_rate': 0.031413147612920904,\n",
       "   'max_depth': 92.9781633575141,\n",
       "   'num_leaves': 805.4111205851962}},\n",
       " {'target': -2.671101333769452,\n",
       "  'params': {'bagging_fraction': 0.7109748453957473,\n",
       "   'feature_fraction': 0.6430196102076086,\n",
       "   'learning_rate': 0.08538595783020253,\n",
       "   'max_depth': 94.77205647621686,\n",
       "   'num_leaves': 204.92049440044119}},\n",
       " {'target': -2.6691992844257437,\n",
       "  'params': {'bagging_fraction': 0.6022482845564664,\n",
       "   'feature_fraction': 0.7046601968561986,\n",
       "   'learning_rate': 0.08123286043226027,\n",
       "   'max_depth': 46.4340795717364,\n",
       "   'num_leaves': 926.3030428751351}},\n",
       " {'target': -2.665681374724935,\n",
       "  'params': {'bagging_fraction': 0.745552728454997,\n",
       "   'feature_fraction': 0.7288448500634117,\n",
       "   'learning_rate': 0.04746372283950725,\n",
       "   'max_depth': 34.66024053424084,\n",
       "   'num_leaves': 317.3832540550501}},\n",
       " {'target': -2.6857534660228954,\n",
       "  'params': {'bagging_fraction': 0.6499367660068808,\n",
       "   'feature_fraction': 0.8052102576896996,\n",
       "   'learning_rate': 0.0445182150973299,\n",
       "   'max_depth': 35.19562283856449,\n",
       "   'num_leaves': 845.6604412312857}},\n",
       " {'target': -2.667200452357965,\n",
       "  'params': {'bagging_fraction': 0.6264624273956632,\n",
       "   'feature_fraction': 0.5208631439154316,\n",
       "   'learning_rate': 0.04277401511217851,\n",
       "   'max_depth': 33.058684215708915,\n",
       "   'num_leaves': 197.17776704557397}},\n",
       " {'target': -2.6796131197668913,\n",
       "  'params': {'bagging_fraction': 0.6144133043503072,\n",
       "   'feature_fraction': 0.8206594986932665,\n",
       "   'learning_rate': 0.08434013885801157,\n",
       "   'max_depth': 63.94986414712511,\n",
       "   'num_leaves': 568.8979022261242}},\n",
       " {'target': -2.6701474674187393,\n",
       "  'params': {'bagging_fraction': 0.4274531020625576,\n",
       "   'feature_fraction': 0.5276918610641618,\n",
       "   'learning_rate': 0.023793494709331696,\n",
       "   'max_depth': 47.05626910492591,\n",
       "   'num_leaves': 404.51214731299706}},\n",
       " {'target': -2.671602377613905,\n",
       "  'params': {'bagging_fraction': 0.5746019526930982,\n",
       "   'feature_fraction': 0.5604326316396419,\n",
       "   'learning_rate': 0.06203572902764886,\n",
       "   'max_depth': 77.98915635539052,\n",
       "   'num_leaves': 179.0740479792785}}]"
      ]
     },
     "execution_count": 75,
     "metadata": {},
     "output_type": "execute_result"
    }
   ],
   "source": [
    "gbm_bayes.res"
   ]
  },
  {
   "cell_type": "code",
   "execution_count": 76,
   "id": "653cd4b9",
   "metadata": {},
   "outputs": [
    {
     "data": {
      "text/plain": [
       "{'target': -2.661525137045119,\n",
       " 'params': {'bagging_fraction': 0.6929162269702784,\n",
       "  'feature_fraction': 0.8107785553570085,\n",
       "  'learning_rate': 0.08852165335753068,\n",
       "  'max_depth': 37.25118101806793,\n",
       "  'num_leaves': 129.61395114030773}}"
      ]
     },
     "execution_count": 76,
     "metadata": {},
     "output_type": "execute_result"
    }
   ],
   "source": [
    "gbm_bayes.max"
   ]
  },
  {
   "cell_type": "code",
   "execution_count": null,
   "id": "22a0ab0b",
   "metadata": {},
   "outputs": [],
   "source": []
  },
  {
   "cell_type": "code",
   "execution_count": null,
   "id": "03585063",
   "metadata": {},
   "outputs": [],
   "source": []
  },
  {
   "cell_type": "code",
   "execution_count": null,
   "id": "36cf38e0",
   "metadata": {},
   "outputs": [],
   "source": []
  },
  {
   "cell_type": "code",
   "execution_count": null,
   "id": "f7f14626",
   "metadata": {},
   "outputs": [],
   "source": []
  },
  {
   "cell_type": "code",
   "execution_count": null,
   "id": "242c81ee",
   "metadata": {},
   "outputs": [],
   "source": []
  },
  {
   "cell_type": "code",
   "execution_count": null,
   "id": "3e1e391b",
   "metadata": {},
   "outputs": [],
   "source": []
  },
  {
   "cell_type": "code",
   "execution_count": null,
   "id": "56a4acbf",
   "metadata": {},
   "outputs": [],
   "source": []
  },
  {
   "cell_type": "markdown",
   "id": "09e63785",
   "metadata": {},
   "source": [
    "**베이지안 최적화3**\n",
    "- 안 건드린 다른 파라미터를 더 건들여보기"
   ]
  },
  {
   "cell_type": "code",
   "execution_count": null,
   "id": "7cc8475d",
   "metadata": {},
   "outputs": [],
   "source": []
  }
 ],
 "metadata": {
  "kernelspec": {
   "display_name": "Python 3 (ipykernel)",
   "language": "python",
   "name": "python3"
  },
  "language_info": {
   "codemirror_mode": {
    "name": "ipython",
    "version": 3
   },
   "file_extension": ".py",
   "mimetype": "text/x-python",
   "name": "python",
   "nbconvert_exporter": "python",
   "pygments_lexer": "ipython3",
   "version": "3.8.8"
  }
 },
 "nbformat": 4,
 "nbformat_minor": 5
}
