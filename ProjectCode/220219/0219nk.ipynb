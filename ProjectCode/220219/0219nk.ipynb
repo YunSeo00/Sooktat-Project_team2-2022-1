{
 "cells": [
  {
   "cell_type": "code",
   "execution_count": 1,
   "id": "b5b2e126",
   "metadata": {},
   "outputs": [],
   "source": [
    "import numpy as np\n",
    "import pandas as pd\n",
    "from pathlib import Path"
   ]
  },
  {
   "cell_type": "code",
   "execution_count": 2,
   "id": "441d0b51",
   "metadata": {},
   "outputs": [],
   "source": [
    "train_df = pd.read_csv('C:/kaggle/final_train_data.csv')\n",
    "test_df = pd.read_csv('C:/kaggle/final_test_data.csv')"
   ]
  },
  {
   "cell_type": "code",
   "execution_count": 3,
   "id": "f6fd9b22",
   "metadata": {},
   "outputs": [
    {
     "data": {
      "text/html": [
       "<div>\n",
       "<style scoped>\n",
       "    .dataframe tbody tr th:only-of-type {\n",
       "        vertical-align: middle;\n",
       "    }\n",
       "\n",
       "    .dataframe tbody tr th {\n",
       "        vertical-align: top;\n",
       "    }\n",
       "\n",
       "    .dataframe thead th {\n",
       "        text-align: right;\n",
       "    }\n",
       "</style>\n",
       "<table border=\"1\" class=\"dataframe\">\n",
       "  <thead>\n",
       "    <tr style=\"text-align: right;\">\n",
       "      <th></th>\n",
       "      <th>date</th>\n",
       "      <th>store_nbr</th>\n",
       "      <th>family</th>\n",
       "      <th>sales</th>\n",
       "      <th>onpromotion</th>\n",
       "      <th>dcoilwtico</th>\n",
       "      <th>transactions</th>\n",
       "      <th>type_y</th>\n",
       "      <th>cluster</th>\n",
       "      <th>Year</th>\n",
       "      <th>Month</th>\n",
       "      <th>Weekday</th>\n",
       "      <th>trend</th>\n",
       "      <th>NewYearsDay</th>\n",
       "      <th>Earthquake</th>\n",
       "      <th>Cyber Monday</th>\n",
       "      <th>Football</th>\n",
       "      <th>Black Friday</th>\n",
       "      <th>Dia de la Madre</th>\n",
       "      <th>no_work_day</th>\n",
       "    </tr>\n",
       "  </thead>\n",
       "  <tbody>\n",
       "    <tr>\n",
       "      <th>0</th>\n",
       "      <td>2013-01-01</td>\n",
       "      <td>1</td>\n",
       "      <td>AUTOMOTIVE</td>\n",
       "      <td>0.000</td>\n",
       "      <td>0</td>\n",
       "      <td>93.14</td>\n",
       "      <td>1420.876311</td>\n",
       "      <td>D</td>\n",
       "      <td>13</td>\n",
       "      <td>2013</td>\n",
       "      <td>1</td>\n",
       "      <td>1</td>\n",
       "      <td>0</td>\n",
       "      <td>0</td>\n",
       "      <td>0</td>\n",
       "      <td>0</td>\n",
       "      <td>0</td>\n",
       "      <td>0</td>\n",
       "      <td>0</td>\n",
       "      <td>0</td>\n",
       "    </tr>\n",
       "    <tr>\n",
       "      <th>1</th>\n",
       "      <td>2013-01-01</td>\n",
       "      <td>1</td>\n",
       "      <td>BABY CARE</td>\n",
       "      <td>0.000</td>\n",
       "      <td>0</td>\n",
       "      <td>93.14</td>\n",
       "      <td>1420.876311</td>\n",
       "      <td>D</td>\n",
       "      <td>13</td>\n",
       "      <td>2013</td>\n",
       "      <td>1</td>\n",
       "      <td>1</td>\n",
       "      <td>0</td>\n",
       "      <td>0</td>\n",
       "      <td>0</td>\n",
       "      <td>0</td>\n",
       "      <td>0</td>\n",
       "      <td>0</td>\n",
       "      <td>0</td>\n",
       "      <td>0</td>\n",
       "    </tr>\n",
       "    <tr>\n",
       "      <th>2</th>\n",
       "      <td>2013-01-01</td>\n",
       "      <td>1</td>\n",
       "      <td>BEAUTY</td>\n",
       "      <td>0.000</td>\n",
       "      <td>0</td>\n",
       "      <td>93.14</td>\n",
       "      <td>1420.876311</td>\n",
       "      <td>D</td>\n",
       "      <td>13</td>\n",
       "      <td>2013</td>\n",
       "      <td>1</td>\n",
       "      <td>1</td>\n",
       "      <td>0</td>\n",
       "      <td>0</td>\n",
       "      <td>0</td>\n",
       "      <td>0</td>\n",
       "      <td>0</td>\n",
       "      <td>0</td>\n",
       "      <td>0</td>\n",
       "      <td>0</td>\n",
       "    </tr>\n",
       "    <tr>\n",
       "      <th>3</th>\n",
       "      <td>2013-01-01</td>\n",
       "      <td>1</td>\n",
       "      <td>BEVERAGES</td>\n",
       "      <td>0.000</td>\n",
       "      <td>0</td>\n",
       "      <td>93.14</td>\n",
       "      <td>1420.876311</td>\n",
       "      <td>D</td>\n",
       "      <td>13</td>\n",
       "      <td>2013</td>\n",
       "      <td>1</td>\n",
       "      <td>1</td>\n",
       "      <td>0</td>\n",
       "      <td>0</td>\n",
       "      <td>0</td>\n",
       "      <td>0</td>\n",
       "      <td>0</td>\n",
       "      <td>0</td>\n",
       "      <td>0</td>\n",
       "      <td>0</td>\n",
       "    </tr>\n",
       "    <tr>\n",
       "      <th>4</th>\n",
       "      <td>2013-01-01</td>\n",
       "      <td>1</td>\n",
       "      <td>BOOKS</td>\n",
       "      <td>0.000</td>\n",
       "      <td>0</td>\n",
       "      <td>93.14</td>\n",
       "      <td>1420.876311</td>\n",
       "      <td>D</td>\n",
       "      <td>13</td>\n",
       "      <td>2013</td>\n",
       "      <td>1</td>\n",
       "      <td>1</td>\n",
       "      <td>0</td>\n",
       "      <td>0</td>\n",
       "      <td>0</td>\n",
       "      <td>0</td>\n",
       "      <td>0</td>\n",
       "      <td>0</td>\n",
       "      <td>0</td>\n",
       "      <td>0</td>\n",
       "    </tr>\n",
       "    <tr>\n",
       "      <th>...</th>\n",
       "      <td>...</td>\n",
       "      <td>...</td>\n",
       "      <td>...</td>\n",
       "      <td>...</td>\n",
       "      <td>...</td>\n",
       "      <td>...</td>\n",
       "      <td>...</td>\n",
       "      <td>...</td>\n",
       "      <td>...</td>\n",
       "      <td>...</td>\n",
       "      <td>...</td>\n",
       "      <td>...</td>\n",
       "      <td>...</td>\n",
       "      <td>...</td>\n",
       "      <td>...</td>\n",
       "      <td>...</td>\n",
       "      <td>...</td>\n",
       "      <td>...</td>\n",
       "      <td>...</td>\n",
       "      <td>...</td>\n",
       "    </tr>\n",
       "    <tr>\n",
       "      <th>3054343</th>\n",
       "      <td>2017-08-15</td>\n",
       "      <td>9</td>\n",
       "      <td>POULTRY</td>\n",
       "      <td>438.133</td>\n",
       "      <td>0</td>\n",
       "      <td>47.57</td>\n",
       "      <td>2155.000000</td>\n",
       "      <td>B</td>\n",
       "      <td>6</td>\n",
       "      <td>2017</td>\n",
       "      <td>8</td>\n",
       "      <td>1</td>\n",
       "      <td>1687</td>\n",
       "      <td>0</td>\n",
       "      <td>0</td>\n",
       "      <td>0</td>\n",
       "      <td>0</td>\n",
       "      <td>0</td>\n",
       "      <td>0</td>\n",
       "      <td>0</td>\n",
       "    </tr>\n",
       "    <tr>\n",
       "      <th>3054344</th>\n",
       "      <td>2017-08-15</td>\n",
       "      <td>9</td>\n",
       "      <td>PREPARED FOODS</td>\n",
       "      <td>154.553</td>\n",
       "      <td>1</td>\n",
       "      <td>47.57</td>\n",
       "      <td>2155.000000</td>\n",
       "      <td>B</td>\n",
       "      <td>6</td>\n",
       "      <td>2017</td>\n",
       "      <td>8</td>\n",
       "      <td>1</td>\n",
       "      <td>1687</td>\n",
       "      <td>0</td>\n",
       "      <td>0</td>\n",
       "      <td>0</td>\n",
       "      <td>0</td>\n",
       "      <td>0</td>\n",
       "      <td>0</td>\n",
       "      <td>0</td>\n",
       "    </tr>\n",
       "    <tr>\n",
       "      <th>3054345</th>\n",
       "      <td>2017-08-15</td>\n",
       "      <td>9</td>\n",
       "      <td>PRODUCE</td>\n",
       "      <td>2419.729</td>\n",
       "      <td>148</td>\n",
       "      <td>47.57</td>\n",
       "      <td>2155.000000</td>\n",
       "      <td>B</td>\n",
       "      <td>6</td>\n",
       "      <td>2017</td>\n",
       "      <td>8</td>\n",
       "      <td>1</td>\n",
       "      <td>1687</td>\n",
       "      <td>0</td>\n",
       "      <td>0</td>\n",
       "      <td>0</td>\n",
       "      <td>0</td>\n",
       "      <td>0</td>\n",
       "      <td>0</td>\n",
       "      <td>0</td>\n",
       "    </tr>\n",
       "    <tr>\n",
       "      <th>3054346</th>\n",
       "      <td>2017-08-15</td>\n",
       "      <td>9</td>\n",
       "      <td>SCHOOL AND OFFICE SUPPLIES</td>\n",
       "      <td>121.000</td>\n",
       "      <td>8</td>\n",
       "      <td>47.57</td>\n",
       "      <td>2155.000000</td>\n",
       "      <td>B</td>\n",
       "      <td>6</td>\n",
       "      <td>2017</td>\n",
       "      <td>8</td>\n",
       "      <td>1</td>\n",
       "      <td>1687</td>\n",
       "      <td>0</td>\n",
       "      <td>0</td>\n",
       "      <td>0</td>\n",
       "      <td>0</td>\n",
       "      <td>0</td>\n",
       "      <td>0</td>\n",
       "      <td>0</td>\n",
       "    </tr>\n",
       "    <tr>\n",
       "      <th>3054347</th>\n",
       "      <td>2017-08-15</td>\n",
       "      <td>9</td>\n",
       "      <td>SEAFOOD</td>\n",
       "      <td>16.000</td>\n",
       "      <td>0</td>\n",
       "      <td>47.57</td>\n",
       "      <td>2155.000000</td>\n",
       "      <td>B</td>\n",
       "      <td>6</td>\n",
       "      <td>2017</td>\n",
       "      <td>8</td>\n",
       "      <td>1</td>\n",
       "      <td>1687</td>\n",
       "      <td>0</td>\n",
       "      <td>0</td>\n",
       "      <td>0</td>\n",
       "      <td>0</td>\n",
       "      <td>0</td>\n",
       "      <td>0</td>\n",
       "      <td>0</td>\n",
       "    </tr>\n",
       "  </tbody>\n",
       "</table>\n",
       "<p>3054348 rows × 20 columns</p>\n",
       "</div>"
      ],
      "text/plain": [
       "               date  store_nbr                      family     sales  \\\n",
       "0        2013-01-01          1                  AUTOMOTIVE     0.000   \n",
       "1        2013-01-01          1                   BABY CARE     0.000   \n",
       "2        2013-01-01          1                      BEAUTY     0.000   \n",
       "3        2013-01-01          1                   BEVERAGES     0.000   \n",
       "4        2013-01-01          1                       BOOKS     0.000   \n",
       "...             ...        ...                         ...       ...   \n",
       "3054343  2017-08-15          9                     POULTRY   438.133   \n",
       "3054344  2017-08-15          9              PREPARED FOODS   154.553   \n",
       "3054345  2017-08-15          9                     PRODUCE  2419.729   \n",
       "3054346  2017-08-15          9  SCHOOL AND OFFICE SUPPLIES   121.000   \n",
       "3054347  2017-08-15          9                     SEAFOOD    16.000   \n",
       "\n",
       "         onpromotion  dcoilwtico  transactions type_y  cluster  Year  Month  \\\n",
       "0                  0       93.14   1420.876311      D       13  2013      1   \n",
       "1                  0       93.14   1420.876311      D       13  2013      1   \n",
       "2                  0       93.14   1420.876311      D       13  2013      1   \n",
       "3                  0       93.14   1420.876311      D       13  2013      1   \n",
       "4                  0       93.14   1420.876311      D       13  2013      1   \n",
       "...              ...         ...           ...    ...      ...   ...    ...   \n",
       "3054343            0       47.57   2155.000000      B        6  2017      8   \n",
       "3054344            1       47.57   2155.000000      B        6  2017      8   \n",
       "3054345          148       47.57   2155.000000      B        6  2017      8   \n",
       "3054346            8       47.57   2155.000000      B        6  2017      8   \n",
       "3054347            0       47.57   2155.000000      B        6  2017      8   \n",
       "\n",
       "         Weekday  trend  NewYearsDay  Earthquake  Cyber Monday  Football  \\\n",
       "0              1      0            0           0             0         0   \n",
       "1              1      0            0           0             0         0   \n",
       "2              1      0            0           0             0         0   \n",
       "3              1      0            0           0             0         0   \n",
       "4              1      0            0           0             0         0   \n",
       "...          ...    ...          ...         ...           ...       ...   \n",
       "3054343        1   1687            0           0             0         0   \n",
       "3054344        1   1687            0           0             0         0   \n",
       "3054345        1   1687            0           0             0         0   \n",
       "3054346        1   1687            0           0             0         0   \n",
       "3054347        1   1687            0           0             0         0   \n",
       "\n",
       "         Black Friday  Dia de la Madre  no_work_day  \n",
       "0                   0                0            0  \n",
       "1                   0                0            0  \n",
       "2                   0                0            0  \n",
       "3                   0                0            0  \n",
       "4                   0                0            0  \n",
       "...               ...              ...          ...  \n",
       "3054343             0                0            0  \n",
       "3054344             0                0            0  \n",
       "3054345             0                0            0  \n",
       "3054346             0                0            0  \n",
       "3054347             0                0            0  \n",
       "\n",
       "[3054348 rows x 20 columns]"
      ]
     },
     "execution_count": 3,
     "metadata": {},
     "output_type": "execute_result"
    }
   ],
   "source": [
    "train_df['NewYearsDay'] = np.where(train_df['NewYearsDay']=='Yes',1,0)\n",
    "train_df['no_work_day'] = np.where(train_df['no_work_day']=='True',1,0)\n",
    "train_df"
   ]
  },
  {
   "cell_type": "code",
   "execution_count": 4,
   "id": "94d197b9",
   "metadata": {},
   "outputs": [],
   "source": [
    "trains_df = train_df[:2368278]\n",
    "valid_df = train_df[2368278:]\n",
    "\n",
    "trains_X = trains_df.drop(columns = ['sales','date'])\n",
    "trains_y = trains_df['sales']\n",
    "\n",
    "valid_X = valid_df.drop(columns = ['sales','date'])\n",
    "valid_y = valid_df['sales']"
   ]
  },
  {
   "cell_type": "code",
   "execution_count": 5,
   "id": "8650fac4",
   "metadata": {},
   "outputs": [
    {
     "data": {
      "text/html": [
       "<div>\n",
       "<style scoped>\n",
       "    .dataframe tbody tr th:only-of-type {\n",
       "        vertical-align: middle;\n",
       "    }\n",
       "\n",
       "    .dataframe tbody tr th {\n",
       "        vertical-align: top;\n",
       "    }\n",
       "\n",
       "    .dataframe thead th {\n",
       "        text-align: right;\n",
       "    }\n",
       "</style>\n",
       "<table border=\"1\" class=\"dataframe\">\n",
       "  <thead>\n",
       "    <tr style=\"text-align: right;\">\n",
       "      <th></th>\n",
       "      <th>store_nbr</th>\n",
       "      <th>family</th>\n",
       "      <th>onpromotion</th>\n",
       "      <th>dcoilwtico</th>\n",
       "      <th>transactions</th>\n",
       "      <th>type_y</th>\n",
       "      <th>cluster</th>\n",
       "      <th>Year</th>\n",
       "      <th>Month</th>\n",
       "      <th>Weekday</th>\n",
       "      <th>trend</th>\n",
       "      <th>NewYearsDay</th>\n",
       "      <th>Earthquake</th>\n",
       "      <th>Cyber Monday</th>\n",
       "      <th>Football</th>\n",
       "      <th>Black Friday</th>\n",
       "      <th>Dia de la Madre</th>\n",
       "      <th>no_work_day</th>\n",
       "    </tr>\n",
       "  </thead>\n",
       "  <tbody>\n",
       "    <tr>\n",
       "      <th>0</th>\n",
       "      <td>1</td>\n",
       "      <td>AUTOMOTIVE</td>\n",
       "      <td>0</td>\n",
       "      <td>93.140000</td>\n",
       "      <td>1420.876311</td>\n",
       "      <td>D</td>\n",
       "      <td>13</td>\n",
       "      <td>2013</td>\n",
       "      <td>1</td>\n",
       "      <td>1</td>\n",
       "      <td>0</td>\n",
       "      <td>0</td>\n",
       "      <td>0</td>\n",
       "      <td>0</td>\n",
       "      <td>0</td>\n",
       "      <td>0</td>\n",
       "      <td>0</td>\n",
       "      <td>0</td>\n",
       "    </tr>\n",
       "    <tr>\n",
       "      <th>1</th>\n",
       "      <td>1</td>\n",
       "      <td>BABY CARE</td>\n",
       "      <td>0</td>\n",
       "      <td>93.140000</td>\n",
       "      <td>1420.876311</td>\n",
       "      <td>D</td>\n",
       "      <td>13</td>\n",
       "      <td>2013</td>\n",
       "      <td>1</td>\n",
       "      <td>1</td>\n",
       "      <td>0</td>\n",
       "      <td>0</td>\n",
       "      <td>0</td>\n",
       "      <td>0</td>\n",
       "      <td>0</td>\n",
       "      <td>0</td>\n",
       "      <td>0</td>\n",
       "      <td>0</td>\n",
       "    </tr>\n",
       "    <tr>\n",
       "      <th>2</th>\n",
       "      <td>1</td>\n",
       "      <td>BEAUTY</td>\n",
       "      <td>0</td>\n",
       "      <td>93.140000</td>\n",
       "      <td>1420.876311</td>\n",
       "      <td>D</td>\n",
       "      <td>13</td>\n",
       "      <td>2013</td>\n",
       "      <td>1</td>\n",
       "      <td>1</td>\n",
       "      <td>0</td>\n",
       "      <td>0</td>\n",
       "      <td>0</td>\n",
       "      <td>0</td>\n",
       "      <td>0</td>\n",
       "      <td>0</td>\n",
       "      <td>0</td>\n",
       "      <td>0</td>\n",
       "    </tr>\n",
       "    <tr>\n",
       "      <th>3</th>\n",
       "      <td>1</td>\n",
       "      <td>BEVERAGES</td>\n",
       "      <td>0</td>\n",
       "      <td>93.140000</td>\n",
       "      <td>1420.876311</td>\n",
       "      <td>D</td>\n",
       "      <td>13</td>\n",
       "      <td>2013</td>\n",
       "      <td>1</td>\n",
       "      <td>1</td>\n",
       "      <td>0</td>\n",
       "      <td>0</td>\n",
       "      <td>0</td>\n",
       "      <td>0</td>\n",
       "      <td>0</td>\n",
       "      <td>0</td>\n",
       "      <td>0</td>\n",
       "      <td>0</td>\n",
       "    </tr>\n",
       "    <tr>\n",
       "      <th>4</th>\n",
       "      <td>1</td>\n",
       "      <td>BOOKS</td>\n",
       "      <td>0</td>\n",
       "      <td>93.140000</td>\n",
       "      <td>1420.876311</td>\n",
       "      <td>D</td>\n",
       "      <td>13</td>\n",
       "      <td>2013</td>\n",
       "      <td>1</td>\n",
       "      <td>1</td>\n",
       "      <td>0</td>\n",
       "      <td>0</td>\n",
       "      <td>0</td>\n",
       "      <td>0</td>\n",
       "      <td>0</td>\n",
       "      <td>0</td>\n",
       "      <td>0</td>\n",
       "      <td>0</td>\n",
       "    </tr>\n",
       "    <tr>\n",
       "      <th>...</th>\n",
       "      <td>...</td>\n",
       "      <td>...</td>\n",
       "      <td>...</td>\n",
       "      <td>...</td>\n",
       "      <td>...</td>\n",
       "      <td>...</td>\n",
       "      <td>...</td>\n",
       "      <td>...</td>\n",
       "      <td>...</td>\n",
       "      <td>...</td>\n",
       "      <td>...</td>\n",
       "      <td>...</td>\n",
       "      <td>...</td>\n",
       "      <td>...</td>\n",
       "      <td>...</td>\n",
       "      <td>...</td>\n",
       "      <td>...</td>\n",
       "      <td>...</td>\n",
       "    </tr>\n",
       "    <tr>\n",
       "      <th>2368273</th>\n",
       "      <td>9</td>\n",
       "      <td>POULTRY</td>\n",
       "      <td>1</td>\n",
       "      <td>40.546667</td>\n",
       "      <td>2115.000000</td>\n",
       "      <td>B</td>\n",
       "      <td>6</td>\n",
       "      <td>2016</td>\n",
       "      <td>7</td>\n",
       "      <td>6</td>\n",
       "      <td>1307</td>\n",
       "      <td>0</td>\n",
       "      <td>0</td>\n",
       "      <td>0</td>\n",
       "      <td>0</td>\n",
       "      <td>0</td>\n",
       "      <td>0</td>\n",
       "      <td>0</td>\n",
       "    </tr>\n",
       "    <tr>\n",
       "      <th>2368274</th>\n",
       "      <td>9</td>\n",
       "      <td>PREPARED FOODS</td>\n",
       "      <td>1</td>\n",
       "      <td>40.546667</td>\n",
       "      <td>2115.000000</td>\n",
       "      <td>B</td>\n",
       "      <td>6</td>\n",
       "      <td>2016</td>\n",
       "      <td>7</td>\n",
       "      <td>6</td>\n",
       "      <td>1307</td>\n",
       "      <td>0</td>\n",
       "      <td>0</td>\n",
       "      <td>0</td>\n",
       "      <td>0</td>\n",
       "      <td>0</td>\n",
       "      <td>0</td>\n",
       "      <td>0</td>\n",
       "    </tr>\n",
       "    <tr>\n",
       "      <th>2368275</th>\n",
       "      <td>9</td>\n",
       "      <td>PRODUCE</td>\n",
       "      <td>3</td>\n",
       "      <td>40.546667</td>\n",
       "      <td>2115.000000</td>\n",
       "      <td>B</td>\n",
       "      <td>6</td>\n",
       "      <td>2016</td>\n",
       "      <td>7</td>\n",
       "      <td>6</td>\n",
       "      <td>1307</td>\n",
       "      <td>0</td>\n",
       "      <td>0</td>\n",
       "      <td>0</td>\n",
       "      <td>0</td>\n",
       "      <td>0</td>\n",
       "      <td>0</td>\n",
       "      <td>0</td>\n",
       "    </tr>\n",
       "    <tr>\n",
       "      <th>2368276</th>\n",
       "      <td>9</td>\n",
       "      <td>SCHOOL AND OFFICE SUPPLIES</td>\n",
       "      <td>0</td>\n",
       "      <td>40.546667</td>\n",
       "      <td>2115.000000</td>\n",
       "      <td>B</td>\n",
       "      <td>6</td>\n",
       "      <td>2016</td>\n",
       "      <td>7</td>\n",
       "      <td>6</td>\n",
       "      <td>1307</td>\n",
       "      <td>0</td>\n",
       "      <td>0</td>\n",
       "      <td>0</td>\n",
       "      <td>0</td>\n",
       "      <td>0</td>\n",
       "      <td>0</td>\n",
       "      <td>0</td>\n",
       "    </tr>\n",
       "    <tr>\n",
       "      <th>2368277</th>\n",
       "      <td>9</td>\n",
       "      <td>SEAFOOD</td>\n",
       "      <td>1</td>\n",
       "      <td>40.546667</td>\n",
       "      <td>2115.000000</td>\n",
       "      <td>B</td>\n",
       "      <td>6</td>\n",
       "      <td>2016</td>\n",
       "      <td>7</td>\n",
       "      <td>6</td>\n",
       "      <td>1307</td>\n",
       "      <td>0</td>\n",
       "      <td>0</td>\n",
       "      <td>0</td>\n",
       "      <td>0</td>\n",
       "      <td>0</td>\n",
       "      <td>0</td>\n",
       "      <td>0</td>\n",
       "    </tr>\n",
       "  </tbody>\n",
       "</table>\n",
       "<p>2368278 rows × 18 columns</p>\n",
       "</div>"
      ],
      "text/plain": [
       "         store_nbr                      family  onpromotion  dcoilwtico  \\\n",
       "0                1                  AUTOMOTIVE            0   93.140000   \n",
       "1                1                   BABY CARE            0   93.140000   \n",
       "2                1                      BEAUTY            0   93.140000   \n",
       "3                1                   BEVERAGES            0   93.140000   \n",
       "4                1                       BOOKS            0   93.140000   \n",
       "...            ...                         ...          ...         ...   \n",
       "2368273          9                     POULTRY            1   40.546667   \n",
       "2368274          9              PREPARED FOODS            1   40.546667   \n",
       "2368275          9                     PRODUCE            3   40.546667   \n",
       "2368276          9  SCHOOL AND OFFICE SUPPLIES            0   40.546667   \n",
       "2368277          9                     SEAFOOD            1   40.546667   \n",
       "\n",
       "         transactions type_y  cluster  Year  Month  Weekday  trend  \\\n",
       "0         1420.876311      D       13  2013      1        1      0   \n",
       "1         1420.876311      D       13  2013      1        1      0   \n",
       "2         1420.876311      D       13  2013      1        1      0   \n",
       "3         1420.876311      D       13  2013      1        1      0   \n",
       "4         1420.876311      D       13  2013      1        1      0   \n",
       "...               ...    ...      ...   ...    ...      ...    ...   \n",
       "2368273   2115.000000      B        6  2016      7        6   1307   \n",
       "2368274   2115.000000      B        6  2016      7        6   1307   \n",
       "2368275   2115.000000      B        6  2016      7        6   1307   \n",
       "2368276   2115.000000      B        6  2016      7        6   1307   \n",
       "2368277   2115.000000      B        6  2016      7        6   1307   \n",
       "\n",
       "         NewYearsDay  Earthquake  Cyber Monday  Football  Black Friday  \\\n",
       "0                  0           0             0         0             0   \n",
       "1                  0           0             0         0             0   \n",
       "2                  0           0             0         0             0   \n",
       "3                  0           0             0         0             0   \n",
       "4                  0           0             0         0             0   \n",
       "...              ...         ...           ...       ...           ...   \n",
       "2368273            0           0             0         0             0   \n",
       "2368274            0           0             0         0             0   \n",
       "2368275            0           0             0         0             0   \n",
       "2368276            0           0             0         0             0   \n",
       "2368277            0           0             0         0             0   \n",
       "\n",
       "         Dia de la Madre  no_work_day  \n",
       "0                      0            0  \n",
       "1                      0            0  \n",
       "2                      0            0  \n",
       "3                      0            0  \n",
       "4                      0            0  \n",
       "...                  ...          ...  \n",
       "2368273                0            0  \n",
       "2368274                0            0  \n",
       "2368275                0            0  \n",
       "2368276                0            0  \n",
       "2368277                0            0  \n",
       "\n",
       "[2368278 rows x 18 columns]"
      ]
     },
     "execution_count": 5,
     "metadata": {},
     "output_type": "execute_result"
    }
   ],
   "source": [
    "trains_X"
   ]
  },
  {
   "cell_type": "code",
   "execution_count": 6,
   "id": "1eaf7e09",
   "metadata": {},
   "outputs": [],
   "source": [
    "# preprocessing\n",
    "from sklearn.compose import ColumnTransformer\n",
    "from sklearn.preprocessing import MinMaxScaler, StandardScaler, OneHotEncoder\n",
    "\n",
    "preproc = ColumnTransformer(\n",
    "    [('standard', StandardScaler(), ['transactions']),\n",
    "     ('minmax', MinMaxScaler(), ['onpromotion', 'dcoilwtico']),\n",
    "     ('cat', OneHotEncoder(sparse = False, drop = 'first'), ['store_nbr', 'family', 'type_y'])],\n",
    "     remainder = 'passthrough')\n",
    "\n",
    "preproc.fit(trains_X)\n",
    "cat_features_names = preproc.named_transformers_['cat'].get_feature_names()\n",
    "labels = np.concatenate([['transactions','onpromotion', 'dcoilwtico'], cat_features_names, ['cluster', 'Year', 'Month', 'Weekday', 'trend', 'NewYearsDay','Earthquake', 'Cyber Monday', 'Football', 'Black Friday','Dia de la Madre', 'no_work_day']])\n",
    "\n",
    "#X_trains, X_valid 사용\n",
    "X_trains = pd.DataFrame(preproc.transform(trains_X), columns = labels)\n",
    "X_valid = pd.DataFrame(preproc.transform(valid_X), columns = labels)"
   ]
  },
  {
   "cell_type": "code",
   "execution_count": 7,
   "id": "c2c2d75d",
   "metadata": {},
   "outputs": [
    {
     "data": {
      "text/html": [
       "<div>\n",
       "<style scoped>\n",
       "    .dataframe tbody tr th:only-of-type {\n",
       "        vertical-align: middle;\n",
       "    }\n",
       "\n",
       "    .dataframe tbody tr th {\n",
       "        vertical-align: top;\n",
       "    }\n",
       "\n",
       "    .dataframe thead th {\n",
       "        text-align: right;\n",
       "    }\n",
       "</style>\n",
       "<table border=\"1\" class=\"dataframe\">\n",
       "  <thead>\n",
       "    <tr style=\"text-align: right;\">\n",
       "      <th></th>\n",
       "      <th>transactions</th>\n",
       "      <th>onpromotion</th>\n",
       "      <th>dcoilwtico</th>\n",
       "      <th>x0_2</th>\n",
       "      <th>x0_3</th>\n",
       "      <th>x0_4</th>\n",
       "      <th>x0_5</th>\n",
       "      <th>x0_6</th>\n",
       "      <th>x0_7</th>\n",
       "      <th>x0_8</th>\n",
       "      <th>...</th>\n",
       "      <th>Month</th>\n",
       "      <th>Weekday</th>\n",
       "      <th>trend</th>\n",
       "      <th>NewYearsDay</th>\n",
       "      <th>Earthquake</th>\n",
       "      <th>Cyber Monday</th>\n",
       "      <th>Football</th>\n",
       "      <th>Black Friday</th>\n",
       "      <th>Dia de la Madre</th>\n",
       "      <th>no_work_day</th>\n",
       "    </tr>\n",
       "  </thead>\n",
       "  <tbody>\n",
       "    <tr>\n",
       "      <th>0</th>\n",
       "      <td>0.080508</td>\n",
       "      <td>0.000000</td>\n",
       "      <td>0.164160</td>\n",
       "      <td>0.0</td>\n",
       "      <td>0.0</td>\n",
       "      <td>0.0</td>\n",
       "      <td>0.0</td>\n",
       "      <td>0.0</td>\n",
       "      <td>0.0</td>\n",
       "      <td>0.0</td>\n",
       "      <td>...</td>\n",
       "      <td>8.0</td>\n",
       "      <td>0.0</td>\n",
       "      <td>1308.0</td>\n",
       "      <td>0.0</td>\n",
       "      <td>0.0</td>\n",
       "      <td>0.0</td>\n",
       "      <td>0.0</td>\n",
       "      <td>0.0</td>\n",
       "      <td>0.0</td>\n",
       "      <td>0.0</td>\n",
       "    </tr>\n",
       "    <tr>\n",
       "      <th>1</th>\n",
       "      <td>0.080508</td>\n",
       "      <td>0.000000</td>\n",
       "      <td>0.164160</td>\n",
       "      <td>0.0</td>\n",
       "      <td>0.0</td>\n",
       "      <td>0.0</td>\n",
       "      <td>0.0</td>\n",
       "      <td>0.0</td>\n",
       "      <td>0.0</td>\n",
       "      <td>0.0</td>\n",
       "      <td>...</td>\n",
       "      <td>8.0</td>\n",
       "      <td>0.0</td>\n",
       "      <td>1308.0</td>\n",
       "      <td>0.0</td>\n",
       "      <td>0.0</td>\n",
       "      <td>0.0</td>\n",
       "      <td>0.0</td>\n",
       "      <td>0.0</td>\n",
       "      <td>0.0</td>\n",
       "      <td>0.0</td>\n",
       "    </tr>\n",
       "    <tr>\n",
       "      <th>2</th>\n",
       "      <td>0.080508</td>\n",
       "      <td>0.000000</td>\n",
       "      <td>0.164160</td>\n",
       "      <td>0.0</td>\n",
       "      <td>0.0</td>\n",
       "      <td>0.0</td>\n",
       "      <td>0.0</td>\n",
       "      <td>0.0</td>\n",
       "      <td>0.0</td>\n",
       "      <td>0.0</td>\n",
       "      <td>...</td>\n",
       "      <td>8.0</td>\n",
       "      <td>0.0</td>\n",
       "      <td>1308.0</td>\n",
       "      <td>0.0</td>\n",
       "      <td>0.0</td>\n",
       "      <td>0.0</td>\n",
       "      <td>0.0</td>\n",
       "      <td>0.0</td>\n",
       "      <td>0.0</td>\n",
       "      <td>0.0</td>\n",
       "    </tr>\n",
       "    <tr>\n",
       "      <th>3</th>\n",
       "      <td>0.080508</td>\n",
       "      <td>0.013495</td>\n",
       "      <td>0.164160</td>\n",
       "      <td>0.0</td>\n",
       "      <td>0.0</td>\n",
       "      <td>0.0</td>\n",
       "      <td>0.0</td>\n",
       "      <td>0.0</td>\n",
       "      <td>0.0</td>\n",
       "      <td>0.0</td>\n",
       "      <td>...</td>\n",
       "      <td>8.0</td>\n",
       "      <td>0.0</td>\n",
       "      <td>1308.0</td>\n",
       "      <td>0.0</td>\n",
       "      <td>0.0</td>\n",
       "      <td>0.0</td>\n",
       "      <td>0.0</td>\n",
       "      <td>0.0</td>\n",
       "      <td>0.0</td>\n",
       "      <td>0.0</td>\n",
       "    </tr>\n",
       "    <tr>\n",
       "      <th>4</th>\n",
       "      <td>0.080508</td>\n",
       "      <td>0.000000</td>\n",
       "      <td>0.164160</td>\n",
       "      <td>0.0</td>\n",
       "      <td>0.0</td>\n",
       "      <td>0.0</td>\n",
       "      <td>0.0</td>\n",
       "      <td>0.0</td>\n",
       "      <td>0.0</td>\n",
       "      <td>0.0</td>\n",
       "      <td>...</td>\n",
       "      <td>8.0</td>\n",
       "      <td>0.0</td>\n",
       "      <td>1308.0</td>\n",
       "      <td>0.0</td>\n",
       "      <td>0.0</td>\n",
       "      <td>0.0</td>\n",
       "      <td>0.0</td>\n",
       "      <td>0.0</td>\n",
       "      <td>0.0</td>\n",
       "      <td>0.0</td>\n",
       "    </tr>\n",
       "    <tr>\n",
       "      <th>...</th>\n",
       "      <td>...</td>\n",
       "      <td>...</td>\n",
       "      <td>...</td>\n",
       "      <td>...</td>\n",
       "      <td>...</td>\n",
       "      <td>...</td>\n",
       "      <td>...</td>\n",
       "      <td>...</td>\n",
       "      <td>...</td>\n",
       "      <td>...</td>\n",
       "      <td>...</td>\n",
       "      <td>...</td>\n",
       "      <td>...</td>\n",
       "      <td>...</td>\n",
       "      <td>...</td>\n",
       "      <td>...</td>\n",
       "      <td>...</td>\n",
       "      <td>...</td>\n",
       "      <td>...</td>\n",
       "      <td>...</td>\n",
       "      <td>...</td>\n",
       "    </tr>\n",
       "    <tr>\n",
       "      <th>686065</th>\n",
       "      <td>0.510950</td>\n",
       "      <td>0.000000</td>\n",
       "      <td>0.253228</td>\n",
       "      <td>0.0</td>\n",
       "      <td>0.0</td>\n",
       "      <td>0.0</td>\n",
       "      <td>0.0</td>\n",
       "      <td>0.0</td>\n",
       "      <td>0.0</td>\n",
       "      <td>0.0</td>\n",
       "      <td>...</td>\n",
       "      <td>8.0</td>\n",
       "      <td>1.0</td>\n",
       "      <td>1687.0</td>\n",
       "      <td>0.0</td>\n",
       "      <td>0.0</td>\n",
       "      <td>0.0</td>\n",
       "      <td>0.0</td>\n",
       "      <td>0.0</td>\n",
       "      <td>0.0</td>\n",
       "      <td>0.0</td>\n",
       "    </tr>\n",
       "    <tr>\n",
       "      <th>686066</th>\n",
       "      <td>0.510950</td>\n",
       "      <td>0.001350</td>\n",
       "      <td>0.253228</td>\n",
       "      <td>0.0</td>\n",
       "      <td>0.0</td>\n",
       "      <td>0.0</td>\n",
       "      <td>0.0</td>\n",
       "      <td>0.0</td>\n",
       "      <td>0.0</td>\n",
       "      <td>0.0</td>\n",
       "      <td>...</td>\n",
       "      <td>8.0</td>\n",
       "      <td>1.0</td>\n",
       "      <td>1687.0</td>\n",
       "      <td>0.0</td>\n",
       "      <td>0.0</td>\n",
       "      <td>0.0</td>\n",
       "      <td>0.0</td>\n",
       "      <td>0.0</td>\n",
       "      <td>0.0</td>\n",
       "      <td>0.0</td>\n",
       "    </tr>\n",
       "    <tr>\n",
       "      <th>686067</th>\n",
       "      <td>0.510950</td>\n",
       "      <td>0.199730</td>\n",
       "      <td>0.253228</td>\n",
       "      <td>0.0</td>\n",
       "      <td>0.0</td>\n",
       "      <td>0.0</td>\n",
       "      <td>0.0</td>\n",
       "      <td>0.0</td>\n",
       "      <td>0.0</td>\n",
       "      <td>0.0</td>\n",
       "      <td>...</td>\n",
       "      <td>8.0</td>\n",
       "      <td>1.0</td>\n",
       "      <td>1687.0</td>\n",
       "      <td>0.0</td>\n",
       "      <td>0.0</td>\n",
       "      <td>0.0</td>\n",
       "      <td>0.0</td>\n",
       "      <td>0.0</td>\n",
       "      <td>0.0</td>\n",
       "      <td>0.0</td>\n",
       "    </tr>\n",
       "    <tr>\n",
       "      <th>686068</th>\n",
       "      <td>0.510950</td>\n",
       "      <td>0.010796</td>\n",
       "      <td>0.253228</td>\n",
       "      <td>0.0</td>\n",
       "      <td>0.0</td>\n",
       "      <td>0.0</td>\n",
       "      <td>0.0</td>\n",
       "      <td>0.0</td>\n",
       "      <td>0.0</td>\n",
       "      <td>0.0</td>\n",
       "      <td>...</td>\n",
       "      <td>8.0</td>\n",
       "      <td>1.0</td>\n",
       "      <td>1687.0</td>\n",
       "      <td>0.0</td>\n",
       "      <td>0.0</td>\n",
       "      <td>0.0</td>\n",
       "      <td>0.0</td>\n",
       "      <td>0.0</td>\n",
       "      <td>0.0</td>\n",
       "      <td>0.0</td>\n",
       "    </tr>\n",
       "    <tr>\n",
       "      <th>686069</th>\n",
       "      <td>0.510950</td>\n",
       "      <td>0.000000</td>\n",
       "      <td>0.253228</td>\n",
       "      <td>0.0</td>\n",
       "      <td>0.0</td>\n",
       "      <td>0.0</td>\n",
       "      <td>0.0</td>\n",
       "      <td>0.0</td>\n",
       "      <td>0.0</td>\n",
       "      <td>0.0</td>\n",
       "      <td>...</td>\n",
       "      <td>8.0</td>\n",
       "      <td>1.0</td>\n",
       "      <td>1687.0</td>\n",
       "      <td>0.0</td>\n",
       "      <td>0.0</td>\n",
       "      <td>0.0</td>\n",
       "      <td>0.0</td>\n",
       "      <td>0.0</td>\n",
       "      <td>0.0</td>\n",
       "      <td>0.0</td>\n",
       "    </tr>\n",
       "  </tbody>\n",
       "</table>\n",
       "<p>686070 rows × 104 columns</p>\n",
       "</div>"
      ],
      "text/plain": [
       "        transactions  onpromotion  dcoilwtico  x0_2  x0_3  x0_4  x0_5  x0_6  \\\n",
       "0           0.080508     0.000000    0.164160   0.0   0.0   0.0   0.0   0.0   \n",
       "1           0.080508     0.000000    0.164160   0.0   0.0   0.0   0.0   0.0   \n",
       "2           0.080508     0.000000    0.164160   0.0   0.0   0.0   0.0   0.0   \n",
       "3           0.080508     0.013495    0.164160   0.0   0.0   0.0   0.0   0.0   \n",
       "4           0.080508     0.000000    0.164160   0.0   0.0   0.0   0.0   0.0   \n",
       "...              ...          ...         ...   ...   ...   ...   ...   ...   \n",
       "686065      0.510950     0.000000    0.253228   0.0   0.0   0.0   0.0   0.0   \n",
       "686066      0.510950     0.001350    0.253228   0.0   0.0   0.0   0.0   0.0   \n",
       "686067      0.510950     0.199730    0.253228   0.0   0.0   0.0   0.0   0.0   \n",
       "686068      0.510950     0.010796    0.253228   0.0   0.0   0.0   0.0   0.0   \n",
       "686069      0.510950     0.000000    0.253228   0.0   0.0   0.0   0.0   0.0   \n",
       "\n",
       "        x0_7  x0_8  ...  Month  Weekday   trend  NewYearsDay  Earthquake  \\\n",
       "0        0.0   0.0  ...    8.0      0.0  1308.0          0.0         0.0   \n",
       "1        0.0   0.0  ...    8.0      0.0  1308.0          0.0         0.0   \n",
       "2        0.0   0.0  ...    8.0      0.0  1308.0          0.0         0.0   \n",
       "3        0.0   0.0  ...    8.0      0.0  1308.0          0.0         0.0   \n",
       "4        0.0   0.0  ...    8.0      0.0  1308.0          0.0         0.0   \n",
       "...      ...   ...  ...    ...      ...     ...          ...         ...   \n",
       "686065   0.0   0.0  ...    8.0      1.0  1687.0          0.0         0.0   \n",
       "686066   0.0   0.0  ...    8.0      1.0  1687.0          0.0         0.0   \n",
       "686067   0.0   0.0  ...    8.0      1.0  1687.0          0.0         0.0   \n",
       "686068   0.0   0.0  ...    8.0      1.0  1687.0          0.0         0.0   \n",
       "686069   0.0   0.0  ...    8.0      1.0  1687.0          0.0         0.0   \n",
       "\n",
       "        Cyber Monday  Football  Black Friday  Dia de la Madre  no_work_day  \n",
       "0                0.0       0.0           0.0              0.0          0.0  \n",
       "1                0.0       0.0           0.0              0.0          0.0  \n",
       "2                0.0       0.0           0.0              0.0          0.0  \n",
       "3                0.0       0.0           0.0              0.0          0.0  \n",
       "4                0.0       0.0           0.0              0.0          0.0  \n",
       "...              ...       ...           ...              ...          ...  \n",
       "686065           0.0       0.0           0.0              0.0          0.0  \n",
       "686066           0.0       0.0           0.0              0.0          0.0  \n",
       "686067           0.0       0.0           0.0              0.0          0.0  \n",
       "686068           0.0       0.0           0.0              0.0          0.0  \n",
       "686069           0.0       0.0           0.0              0.0          0.0  \n",
       "\n",
       "[686070 rows x 104 columns]"
      ]
     },
     "execution_count": 7,
     "metadata": {},
     "output_type": "execute_result"
    }
   ],
   "source": [
    "X_valid"
   ]
  },
  {
   "cell_type": "code",
   "execution_count": 8,
   "id": "176ee3b6",
   "metadata": {},
   "outputs": [],
   "source": [
    "from sklearn.preprocessing import PolynomialFeatures\n",
    "#모델 돌리기 전 상호작용\n",
    "#전체 데이터를 하면 용량이 너무 커서 할 수 없다 나와서 데이터를 나눠서 poly데이터로 저장해줬다\n",
    "poly = PolynomialFeatures(degree=2,interaction_only=True,include_bias=False).fit(X_trains) #현재 데이터를 다항식 형태로 바꾼다\n",
    "X_trains_poly = poly.transform(X_trains[-400000:])\n",
    "X_valid_poly = poly.transform(X_valid)"
   ]
  },
  {
   "cell_type": "markdown",
   "id": "147a1dd8",
   "metadata": {},
   "source": [
    "PolynomialFeatures : 현재 데이터를 다항식 형태로 바꾼다, degree:다항식 차수 , interaction_only=True: 제곱은 빼고 상호작용만\n",
    "include_bias =False: 상수항 생성 x"
   ]
  },
  {
   "cell_type": "code",
   "execution_count": 9,
   "id": "4367bf1b",
   "metadata": {},
   "outputs": [],
   "source": [
    "#104개의 예측변수의 상호작용을 만들면 54XX개의 예측변수가 생김, 이걸 데이터프레임으로 다시 만들어줌\n",
    "X_trains_poly = pd.DataFrame(X_trains_poly)\n",
    "X_valid_poly = pd.DataFrame(X_valid_poly)"
   ]
  },
  {
   "cell_type": "code",
   "execution_count": 22,
   "id": "8974bdbe",
   "metadata": {
    "scrolled": true
   },
   "outputs": [
    {
     "data": {
      "text/plain": [
       "LinearRegression()"
      ]
     },
     "execution_count": 22,
     "metadata": {},
     "output_type": "execute_result"
    }
   ],
   "source": [
    "#linearregression에 돌려보기\n",
    "from sklearn.linear_model import LinearRegression\n",
    "# model.coef_, model.intercept_\n",
    "model = LinearRegression()\n",
    "model.fit(X_trains_poly[-100000:], trains_y[-100000:]) "
   ]
  },
  {
   "cell_type": "code",
   "execution_count": 24,
   "id": "a9f3638c",
   "metadata": {},
   "outputs": [
    {
     "name": "stdout",
     "output_type": "stream",
     "text": [
      "훈련데이터 rmsle:  1.5041965818205232\n",
      "검증데이터 rmsle:  4.617929215453361\n"
     ]
    }
   ],
   "source": [
    "trains_pred = model.predict(X_trains_poly[-100000:])\n",
    "valid_pred = ridge.predict(X_valid_poly[-100000:])\n",
    "\n",
    "trains_pred[trains_pred < 0] = 0\n",
    "valid_pred[valid_pred < 0] = 0\n",
    "\n",
    "from sklearn.metrics import mean_squared_log_error\n",
    "print('훈련데이터 rmsle: ', np.sqrt(mean_squared_log_error(trains_y[-100000:], trains_pred)))\n",
    "print('검증데이터 rmsle: ', np.sqrt(mean_squared_log_error(valid_y[-100000:], valid_pred)))"
   ]
  },
  {
   "cell_type": "markdown",
   "id": "d74ceb74",
   "metadata": {},
   "source": [
    "# ridge"
   ]
  },
  {
   "cell_type": "code",
   "execution_count": 11,
   "id": "758a2901",
   "metadata": {},
   "outputs": [],
   "source": [
    "#ridge\n",
    "from sklearn.model_selection import cross_val_score, KFold\n",
    "from sklearn.linear_model import LinearRegression, Ridge, Lasso\n",
    "#best_alpha = []\n",
    "#for i in range(3,20):\n",
    "#    rg = Ridge(alpha=i)\n",
    "#    kfold = KFold(n_splits=10, shuffle=True, random_state=11)\n",
    "#    score = cross_val_score(rg, X_trains_poly[-100000:], trains_y[-100000:], cv=kfold, scoring='neg_mean_absolute_error')\n",
    "#    best_alpha.append(-score.mean())\n",
    "#print(f'Best alpha is {np.argmin(best_alpha)}.')\n",
    "\n",
    "\n",
    "# best alpha를 구해주는 코드인데 .. 너무 오래 걸림 \n",
    "#cross_val_score: 교차검증, estimator:분류인지 회귀인지 구분인자, scoring: 예측 성능 평가 지표, cv:교차검증폴드수"
   ]
  },
  {
   "cell_type": "markdown",
   "id": "bd7c8a55",
   "metadata": {},
   "source": [
    "규제: 학습이 과대적합 되는 것을 방지하고자 일종의 penalty를 부여하는 것\n",
    "\n",
    "-L2규제: 각 가중치 제곱의 합에 규제강도 (ㅅ)를 곱한다, (ㅅ)를 크게하면 가중치가 더 많이 감소되고 (규제 중요시), (ㅅ)를 작게 하면\n",
    "가중치가 증가한다(규제를 중요시하지 않음)\n",
    "\n",
    "-L1규제: 가중치의 제곱의 합이 아닌 가중치의 합을 더한 값에 규제 강도 (ㅅ)를 곱하여 오차에 더한다, 어떤 가중치는(W)는 실제로 0이된다\n",
    "즉, 모델에서 완전히 제외되는 특성이 생기는 것이다\n",
    "\n",
    "(L2규제가 L1 규제에 비해 더 안정적이라 일반적으로는 L2규제가 더 많이 사용된다)\n",
    "\n",
    "\n",
    "ridge는 선형회귀에 L2 규제 계수를 적용,\n",
    "선형회귀에 가중치들의 제곱합에 대한 최소화를 추가한다\n",
    "ridge의 alpha(규제계수), 값이 커질 수록 큰 규제"
   ]
  },
  {
   "cell_type": "markdown",
   "id": "fe008756",
   "metadata": {},
   "source": [
    "1. alpha = 3"
   ]
  },
  {
   "cell_type": "code",
   "execution_count": 23,
   "id": "bf44745c",
   "metadata": {},
   "outputs": [
    {
     "name": "stdout",
     "output_type": "stream",
     "text": [
      "훈련데이터 rmsle:  1.5556887541234032\n",
      "검증데이터 rmsle:  4.158320686770005\n"
     ]
    }
   ],
   "source": [
    "ridge = Ridge(alpha=3)\n",
    "ridge.fit(X_trains_poly[-200000:], trains_y[-200000:])\n",
    "\n",
    "trains_pred = ridge.predict(X_trains_poly[-200000:])\n",
    "valid_pred = ridge.predict(X_valid_poly[-200000:])\n",
    "\n",
    "trains_pred[trains_pred < 0] = 0\n",
    "valid_pred[valid_pred < 0] = 0\n",
    "\n",
    "from sklearn.metrics import mean_squared_log_error\n",
    "print('훈련데이터 rmsle: ', np.sqrt(mean_squared_log_error(trains_y[-200000:], trains_pred)))\n",
    "print('검증데이터 rmsle: ', np.sqrt(mean_squared_log_error(valid_y[-200000:], valid_pred)))"
   ]
  },
  {
   "cell_type": "code",
   "execution_count": 29,
   "id": "b003c8b1",
   "metadata": {},
   "outputs": [
    {
     "name": "stdout",
     "output_type": "stream",
     "text": [
      "Ridge picked 2898 features and eliminated the other 2562 features\n"
     ]
    }
   ],
   "source": [
    "ridge = Ridge(alpha=3)\n",
    "ridge.fit(X_trains_poly[-200000:], trains_y[-200000:])\n",
    "coefs = pd.Series(ridge.coef_, index = X_trains_poly[-200000:].columns)\n",
    "print(\"Ridge picked \" + str(sum(coefs != 0)) + \" features and eliminated the other \" +  \\\n",
    "      str(sum(coefs == 0)) + \" features\")"
   ]
  },
  {
   "cell_type": "markdown",
   "id": "6ef7de09",
   "metadata": {},
   "source": [
    "2. alpha = 10"
   ]
  },
  {
   "cell_type": "code",
   "execution_count": 24,
   "id": "534b734e",
   "metadata": {},
   "outputs": [
    {
     "name": "stdout",
     "output_type": "stream",
     "text": [
      "훈련데이터 rmsle:  1.553591551678911\n",
      "검증데이터 rmsle:  4.059018638256319\n"
     ]
    }
   ],
   "source": [
    "ridge = Ridge(alpha=10)\n",
    "ridge.fit(X_trains_poly[-200000:], trains_y[-200000:])\n",
    "\n",
    "trains_pred = ridge.predict(X_trains_poly[-200000:])\n",
    "valid_pred = ridge.predict(X_valid_poly[-200000:])\n",
    "\n",
    "trains_pred[trains_pred < 0] = 0\n",
    "valid_pred[valid_pred < 0] = 0\n",
    "\n",
    "from sklearn.metrics import mean_squared_log_error\n",
    "print('훈련데이터 rmsle: ', np.sqrt(mean_squared_log_error(trains_y[-200000:], trains_pred)))\n",
    "print('검증데이터 rmsle: ', np.sqrt(mean_squared_log_error(valid_y[-200000:], valid_pred)))"
   ]
  },
  {
   "cell_type": "code",
   "execution_count": 28,
   "id": "d73ef2e6",
   "metadata": {},
   "outputs": [
    {
     "name": "stdout",
     "output_type": "stream",
     "text": [
      "Ridge picked 2701 features and eliminated the other 2759 features\n"
     ]
    }
   ],
   "source": [
    "ridge = Ridge(alpha=10)\n",
    "ridge.fit(X_trains_poly[-100000:], trains_y[-100000:])\n",
    "coefs = pd.Series(ridge.coef_, index = X_trains_poly[-100000:].columns)\n",
    "print(\"Ridge picked \" + str(sum(coefs != 0)) + \" features and eliminated the other \" +  \\\n",
    "      str(sum(coefs == 0)) + \" features\")"
   ]
  },
  {
   "cell_type": "markdown",
   "id": "54188ca5",
   "metadata": {},
   "source": [
    "3. alpha = 20"
   ]
  },
  {
   "cell_type": "code",
   "execution_count": 26,
   "id": "affca49a",
   "metadata": {},
   "outputs": [
    {
     "name": "stdout",
     "output_type": "stream",
     "text": [
      "훈련데이터 rmsle:  1.5667775551113459\n",
      "검증데이터 rmsle:  4.012929427183837\n"
     ]
    }
   ],
   "source": [
    "ridge = Ridge(alpha=20)\n",
    "ridge.fit(X_trains_poly[-200000:], trains_y[-200000:])\n",
    "\n",
    "trains_pred = ridge.predict(X_trains_poly[-200000:])\n",
    "valid_pred = ridge.predict(X_valid_poly[-200000:])\n",
    "\n",
    "trains_pred[trains_pred < 0] = 0\n",
    "valid_pred[valid_pred < 0] = 0\n",
    "\n",
    "from sklearn.metrics import mean_squared_log_error\n",
    "print('훈련데이터 rmsle: ', np.sqrt(mean_squared_log_error(trains_y[-200000:], trains_pred)))\n",
    "print('검증데이터 rmsle: ', np.sqrt(mean_squared_log_error(valid_y[-200000:], valid_pred)))"
   ]
  },
  {
   "cell_type": "code",
   "execution_count": 27,
   "id": "038ec470",
   "metadata": {},
   "outputs": [
    {
     "name": "stdout",
     "output_type": "stream",
     "text": [
      "Ridge picked 2701 features and eliminated the other 2759 features\n"
     ]
    }
   ],
   "source": [
    "ridge = Ridge(alpha=20)\n",
    "ridge.fit(X_trains_poly[-100000:], trains_y[-100000:])\n",
    "coefs = pd.Series(ridge.coef_, index = X_trains_poly[-100000:].columns)\n",
    "print(\"Ridge picked \" + str(sum(coefs != 0)) + \" features and eliminated the other \" +  \\\n",
    "      str(sum(coefs == 0)) + \" features\")"
   ]
  },
  {
   "cell_type": "markdown",
   "id": "9315073e",
   "metadata": {},
   "source": [
    "4. alpha = 30"
   ]
  },
  {
   "cell_type": "code",
   "execution_count": 25,
   "id": "e8109073",
   "metadata": {},
   "outputs": [
    {
     "name": "stdout",
     "output_type": "stream",
     "text": [
      "훈련데이터 rmsle:  1.586924924998741\n",
      "검증데이터 rmsle:  3.9853482596603054\n"
     ]
    }
   ],
   "source": [
    "ridge = Ridge(alpha=30)\n",
    "ridge.fit(X_trains_poly[-200000:], trains_y[-200000:])\n",
    "\n",
    "trains_pred = ridge.predict(X_trains_poly[-200000:])\n",
    "valid_pred = ridge.predict(X_valid_poly[-200000:])\n",
    "\n",
    "trains_pred[trains_pred < 0] = 0\n",
    "valid_pred[valid_pred < 0] = 0\n",
    "\n",
    "from sklearn.metrics import mean_squared_log_error\n",
    "print('훈련데이터 rmsle: ', np.sqrt(mean_squared_log_error(trains_y[-200000:], trains_pred)))\n",
    "print('검증데이터 rmsle: ', np.sqrt(mean_squared_log_error(valid_y[-200000:], valid_pred)))\n",
    "#30정도 쓰는게 좋을듯"
   ]
  },
  {
   "cell_type": "code",
   "execution_count": 37,
   "id": "a08f5244",
   "metadata": {},
   "outputs": [
    {
     "name": "stdout",
     "output_type": "stream",
     "text": [
      "훈련데이터 rmsle:  1.8071972798718647\n",
      "검증데이터 rmsle:  4.416762811434675\n"
     ]
    }
   ],
   "source": [
    "#데이터 갯수 lasso랑 비슷하게 했을때 뭐가 더 좋은지 비교하기 위해서\n",
    "ridge = Ridge(alpha=30)\n",
    "ridge.fit(X_trains_poly[-10000:], trains_y[-10000:])\n",
    "\n",
    "trains_pred = ridge.predict(X_trains_poly[-10000:])\n",
    "valid_pred = ridge.predict(X_valid_poly[-10000:])\n",
    "\n",
    "trains_pred[trains_pred < 0] = 0\n",
    "valid_pred[valid_pred < 0] = 0\n",
    "\n",
    "from sklearn.metrics import mean_squared_log_error\n",
    "print('훈련데이터 rmsle: ', np.sqrt(mean_squared_log_error(trains_y[-10000:], trains_pred)))\n",
    "print('검증데이터 rmsle: ', np.sqrt(mean_squared_log_error(valid_y[-10000:], valid_pred)))"
   ]
  },
  {
   "cell_type": "markdown",
   "id": "f48343f3",
   "metadata": {},
   "source": [
    "5. alpha = 45"
   ]
  },
  {
   "cell_type": "code",
   "execution_count": 12,
   "id": "431a1c11",
   "metadata": {},
   "outputs": [
    {
     "name": "stdout",
     "output_type": "stream",
     "text": [
      "훈련데이터 rmsle:  1.6155086798605227\n",
      "검증데이터 rmsle:  3.9542239618333315\n"
     ]
    }
   ],
   "source": [
    "ridge = Ridge(alpha=45)\n",
    "ridge.fit(X_trains_poly[-200000:], trains_y[-200000:])\n",
    "\n",
    "trains_pred = ridge.predict(X_trains_poly[-200000:])\n",
    "valid_pred = ridge.predict(X_valid_poly[-200000:])\n",
    "\n",
    "trains_pred[trains_pred < 0] = 0\n",
    "valid_pred[valid_pred < 0] = 0\n",
    "\n",
    "from sklearn.metrics import mean_squared_log_error\n",
    "print('훈련데이터 rmsle: ', np.sqrt(mean_squared_log_error(trains_y[-200000:], trains_pred)))\n",
    "print('검증데이터 rmsle: ', np.sqrt(mean_squared_log_error(valid_y[-200000:], valid_pred)))"
   ]
  },
  {
   "cell_type": "markdown",
   "id": "cedd0d54",
   "metadata": {},
   "source": [
    "6. alpha = 80"
   ]
  },
  {
   "cell_type": "code",
   "execution_count": 25,
   "id": "7a574df7",
   "metadata": {},
   "outputs": [
    {
     "name": "stdout",
     "output_type": "stream",
     "text": [
      "훈련데이터 rmsle:  1.6645497098326687\n",
      "검증데이터 rmsle:  3.902572500430947\n"
     ]
    }
   ],
   "source": [
    "ridge = Ridge(alpha=80)\n",
    "ridge.fit(X_trains_poly[-200000:], trains_y[-200000:])\n",
    "\n",
    "trains_pred = ridge.predict(X_trains_poly[-200000:])\n",
    "valid_pred = ridge.predict(X_valid_poly[-200000:])\n",
    "\n",
    "trains_pred[trains_pred < 0] = 0\n",
    "valid_pred[valid_pred < 0] = 0\n",
    "\n",
    "from sklearn.metrics import mean_squared_log_error\n",
    "print('훈련데이터 rmsle: ', np.sqrt(mean_squared_log_error(trains_y[-200000:], trains_pred)))\n",
    "print('검증데이터 rmsle: ', np.sqrt(mean_squared_log_error(valid_y[-200000:], valid_pred)))"
   ]
  },
  {
   "cell_type": "markdown",
   "id": "d0c478c2",
   "metadata": {},
   "source": [
    "7. alpha = 0.01"
   ]
  },
  {
   "cell_type": "code",
   "execution_count": 13,
   "id": "2183b32b",
   "metadata": {},
   "outputs": [
    {
     "name": "stderr",
     "output_type": "stream",
     "text": [
      "C:\\Users\\rhskr\\anaconda3\\lib\\site-packages\\sklearn\\linear_model\\_ridge.py:147: LinAlgWarning: Ill-conditioned matrix (rcond=5.98691e-18): result may not be accurate.\n",
      "  return linalg.solve(A, Xy, sym_pos=True,\n"
     ]
    },
    {
     "name": "stdout",
     "output_type": "stream",
     "text": [
      "훈련데이터 rmsle:  1.5849230701294097\n",
      "검증데이터 rmsle:  4.349947759022739\n"
     ]
    }
   ],
   "source": [
    "ridge = Ridge(alpha=0.01)\n",
    "ridge.fit(X_trains_poly[-200000:], trains_y[-200000:])\n",
    "\n",
    "trains_pred = ridge.predict(X_trains_poly[-200000:])\n",
    "valid_pred = ridge.predict(X_valid_poly[-200000:])\n",
    "\n",
    "trains_pred[trains_pred < 0] = 0\n",
    "valid_pred[valid_pred < 0] = 0\n",
    "\n",
    "from sklearn.metrics import mean_squared_log_error\n",
    "print('훈련데이터 rmsle: ', np.sqrt(mean_squared_log_error(trains_y[-200000:], trains_pred)))\n",
    "print('검증데이터 rmsle: ', np.sqrt(mean_squared_log_error(valid_y[-200000:], valid_pred)))"
   ]
  },
  {
   "cell_type": "code",
   "execution_count": 18,
   "id": "d4d4b560",
   "metadata": {},
   "outputs": [
    {
     "name": "stderr",
     "output_type": "stream",
     "text": [
      "C:\\Users\\rhskr\\anaconda3\\lib\\site-packages\\sklearn\\linear_model\\_ridge.py:147: LinAlgWarning: Ill-conditioned matrix (rcond=5.29248e-17): result may not be accurate.\n",
      "  return linalg.solve(A, Xy, sym_pos=True,\n"
     ]
    },
    {
     "name": "stdout",
     "output_type": "stream",
     "text": [
      "훈련데이터 rmsle:  1.5018033354263267\n",
      "검증데이터 rmsle:  3.8875068749562964\n"
     ]
    }
   ],
   "source": [
    "#이건 데이터를 100000개만 사용\n",
    "ridge = Ridge(alpha=0.01)\n",
    "ridge.fit(X_trains_poly, trains_y[-100000:])\n",
    "\n",
    "trains_pred = ridge.predict(X_trains_poly)\n",
    "valid_pred = ridge.predict(X_valid_poly)\n",
    "\n",
    "trains_pred[trains_pred < 0] = 0\n",
    "valid_pred[valid_pred < 0] = 0\n",
    "\n",
    "from sklearn.metrics import mean_squared_log_error\n",
    "print('훈련데이터 rmsle: ', np.sqrt(mean_squared_log_error(trains_y[-100000:], trains_pred)))\n",
    "print('검증데이터 rmsle: ', np.sqrt(mean_squared_log_error(valid_y[-100000:], valid_pred)))\n",
    "\n",
    "#0.01일때는 1일때는 1.48, 10일때는 1.49, 30일 때는 1.56"
   ]
  },
  {
   "cell_type": "markdown",
   "id": "cd08b20f",
   "metadata": {},
   "source": [
    "# lasso"
   ]
  },
  {
   "cell_type": "code",
   "execution_count": 21,
   "id": "de9cbfb0",
   "metadata": {},
   "outputs": [],
   "source": [
    "#lasso\n",
    "#best_alpha = []\n",
    "#for i in range(1, 10):\n",
    "#    ls = Lasso(alpha=i)\n",
    "#    kfold = KFold(n_splits=10, shuffle=True, random_state=11)\n",
    "#    score = cross_val_score(ls, X_train, y_train, cv=kfold, scoring='neg_mean_absolute_error')\n",
    "#    best_alpha.append(-score.mean())\n",
    "# print(f'Best alpha is {np.argmin(best_alpha)}.')"
   ]
  },
  {
   "cell_type": "markdown",
   "id": "849da724",
   "metadata": {},
   "source": [
    "Lasso\n",
    "선형 회귀에 L1 규제계수를 사용, 가중치의 절대 값의 합을 최소화 하는 계수를 추가, 불필요한 회귀 계수를 급격히 감소 0으로 만들어 제거,\n",
    "특성(Feature) 선택에 유리\n",
    "\n",
    "Lasso 모델에 너무 큰 alpha 계수를 적용하면 대부분의 feature들의 가중치가 0으로 수렴한다"
   ]
  },
  {
   "cell_type": "markdown",
   "id": "9138b52a",
   "metadata": {},
   "source": [
    "1. alpha= 0.01"
   ]
  },
  {
   "cell_type": "code",
   "execution_count": 18,
   "id": "d004c306",
   "metadata": {
    "scrolled": true
   },
   "outputs": [
    {
     "name": "stderr",
     "output_type": "stream",
     "text": [
      "C:\\Users\\rhskr\\anaconda3\\lib\\site-packages\\sklearn\\linear_model\\_coordinate_descent.py:530: ConvergenceWarning: Objective did not converge. You might want to increase the number of iterations. Duality gap: 153539179.6069724, tolerance: 1334224.16548732\n",
      "  model = cd_fast.enet_coordinate_descent(\n"
     ]
    },
    {
     "name": "stdout",
     "output_type": "stream",
     "text": [
      "훈련데이터 rmsle:  1.564972103910903\n",
      "검증데이터 rmsle:  4.1394578609392445\n"
     ]
    }
   ],
   "source": [
    "lasso = Lasso(alpha=0.01) \n",
    "lasso.fit(X_trains_poly[-10000:], trains_y[-10000:]) \n",
    "\n",
    "trains_pred = lasso.predict(X_trains_poly[-10000:])\n",
    "valid_pred = lasso.predict(X_valid_poly[-10000:])\n",
    "\n",
    "trains_pred[trains_pred < 0] = 0\n",
    "valid_pred[valid_pred < 0] = 0\n",
    "\n",
    "from sklearn.metrics import mean_squared_log_error\n",
    "print('훈련데이터 rmsle: ', np.sqrt(mean_squared_log_error(trains_y[-10000:], trains_pred)))\n",
    "print('검증데이터 rmsle: ', np.sqrt(mean_squared_log_error(valid_y[-10000:], valid_pred)))"
   ]
  },
  {
   "cell_type": "code",
   "execution_count": 33,
   "id": "c87b811e",
   "metadata": {},
   "outputs": [
    {
     "name": "stdout",
     "output_type": "stream",
     "text": [
      "lasso picked 1142 features and eliminated the other 4318 features\n"
     ]
    },
    {
     "name": "stderr",
     "output_type": "stream",
     "text": [
      "C:\\Users\\rhskr\\anaconda3\\lib\\site-packages\\sklearn\\linear_model\\_coordinate_descent.py:530: ConvergenceWarning: Objective did not converge. You might want to increase the number of iterations. Duality gap: 153539179.6069724, tolerance: 1334224.16548732\n",
      "  model = cd_fast.enet_coordinate_descent(\n"
     ]
    }
   ],
   "source": [
    "lasso = Lasso(alpha=0.01)\n",
    "lasso.fit(X_trains_poly[-10000:], trains_y[-10000:])\n",
    "coefs = pd.Series(lasso.coef_, index = X_trains_poly[-10000:].columns)\n",
    "print(\"lasso picked \" + str(sum(coefs != 0)) + \" features and eliminated the other \" +  \\\n",
    "      str(sum(coefs == 0)) + \" features\")"
   ]
  },
  {
   "cell_type": "markdown",
   "id": "03d3e5ae",
   "metadata": {},
   "source": [
    "2. alpha = 1"
   ]
  },
  {
   "cell_type": "code",
   "execution_count": 17,
   "id": "c68fcb32",
   "metadata": {},
   "outputs": [
    {
     "name": "stderr",
     "output_type": "stream",
     "text": [
      "C:\\Users\\rhskr\\anaconda3\\lib\\site-packages\\sklearn\\linear_model\\_coordinate_descent.py:530: ConvergenceWarning: Objective did not converge. You might want to increase the number of iterations. Duality gap: 672144153.7195703, tolerance: 1334224.16548732\n",
      "  model = cd_fast.enet_coordinate_descent(\n"
     ]
    },
    {
     "name": "stdout",
     "output_type": "stream",
     "text": [
      "훈련데이터 rmsle:  1.7539610003961232\n",
      "검증데이터 rmsle:  2.8036657880020726\n"
     ]
    }
   ],
   "source": [
    "#기본 alpha값은 1 \n",
    "lasso = Lasso(alpha=1) \n",
    "lasso.fit(X_trains_poly[-10000:], trains_y[-10000:]) \n",
    "\n",
    "trains_pred = lasso.predict(X_trains_poly[-10000:])\n",
    "valid_pred = lasso.predict(X_valid_poly[-10000:])\n",
    "\n",
    "trains_pred[trains_pred < 0] = 0\n",
    "valid_pred[valid_pred < 0] = 0\n",
    "\n",
    "from sklearn.metrics import mean_squared_log_error\n",
    "print('훈련데이터 rmsle: ', np.sqrt(mean_squared_log_error(trains_y[-10000:], trains_pred)))\n",
    "print('검증데이터 rmsle: ', np.sqrt(mean_squared_log_error(valid_y[-10000:], valid_pred)))"
   ]
  },
  {
   "cell_type": "code",
   "execution_count": 31,
   "id": "0b242ae6",
   "metadata": {},
   "outputs": [
    {
     "name": "stdout",
     "output_type": "stream",
     "text": [
      "lasso picked 185 features and eliminated the other 5275 features\n"
     ]
    },
    {
     "name": "stderr",
     "output_type": "stream",
     "text": [
      "C:\\Users\\rhskr\\anaconda3\\lib\\site-packages\\sklearn\\linear_model\\_coordinate_descent.py:530: ConvergenceWarning: Objective did not converge. You might want to increase the number of iterations. Duality gap: 672144153.7195703, tolerance: 1334224.16548732\n",
      "  model = cd_fast.enet_coordinate_descent(\n"
     ]
    }
   ],
   "source": [
    "lasso = Lasso(alpha=1)\n",
    "lasso.fit(X_trains_poly[-10000:], trains_y[-10000:])\n",
    "coefs = pd.Series(lasso.coef_, index = X_trains_poly[-10000:].columns)\n",
    "print(\"lasso picked \" + str(sum(coefs != 0)) + \" features and eliminated the other \" +  \\\n",
    "      str(sum(coefs == 0)) + \" features\")"
   ]
  },
  {
   "cell_type": "code",
   "execution_count": 38,
   "id": "a0f85d22",
   "metadata": {},
   "outputs": [
    {
     "name": "stderr",
     "output_type": "stream",
     "text": [
      "C:\\Users\\rhskr\\anaconda3\\lib\\site-packages\\sklearn\\linear_model\\_coordinate_descent.py:530: ConvergenceWarning: Objective did not converge. You might want to increase the number of iterations. Duality gap: 8494770535.642162, tolerance: 13829130.188140787\n",
      "  model = cd_fast.enet_coordinate_descent(\n"
     ]
    },
    {
     "name": "stdout",
     "output_type": "stream",
     "text": [
      "훈련데이터 rmsle:  1.7519180956007863\n",
      "검증데이터 rmsle:  2.606977533401937\n"
     ]
    }
   ],
   "source": [
    "#데이터 갯수 좀더 크게 설정해보기\n",
    "lasso = Lasso(alpha=1) \n",
    "lasso.fit(X_trains_poly[-100000:], trains_y[-100000:]) \n",
    "\n",
    "trains_pred = lasso.predict(X_trains_poly[-100000:])\n",
    "valid_pred = lasso.predict(X_valid_poly[-100000:])\n",
    "\n",
    "trains_pred[trains_pred < 0] = 0\n",
    "valid_pred[valid_pred < 0] = 0\n",
    "\n",
    "from sklearn.metrics import mean_squared_log_error\n",
    "print('훈련데이터 rmsle: ', np.sqrt(mean_squared_log_error(trains_y[-100000:], trains_pred)))\n",
    "print('검증데이터 rmsle: ', np.sqrt(mean_squared_log_error(valid_y[-100000:], valid_pred)))"
   ]
  },
  {
   "cell_type": "markdown",
   "id": "d52770c0",
   "metadata": {},
   "source": [
    "3. alpha = 5"
   ]
  },
  {
   "cell_type": "code",
   "execution_count": 20,
   "id": "bfcc3eea",
   "metadata": {},
   "outputs": [
    {
     "name": "stderr",
     "output_type": "stream",
     "text": [
      "C:\\Users\\rhskr\\anaconda3\\lib\\site-packages\\sklearn\\linear_model\\_coordinate_descent.py:530: ConvergenceWarning: Objective did not converge. You might want to increase the number of iterations. Duality gap: 982918752.090816, tolerance: 1334224.16548732\n",
      "  model = cd_fast.enet_coordinate_descent(\n"
     ]
    },
    {
     "name": "stdout",
     "output_type": "stream",
     "text": [
      "훈련데이터 rmsle:  1.7515004487963475\n",
      "검증데이터 rmsle:  2.7604023033553275\n"
     ]
    }
   ],
   "source": [
    "lasso = Lasso(alpha=5) \n",
    "lasso.fit(X_trains_poly[-10000:], trains_y[-10000:]) \n",
    "\n",
    "trains_pred = lasso.predict(X_trains_poly[-10000:])\n",
    "valid_pred = lasso.predict(X_valid_poly[-10000:])\n",
    "\n",
    "trains_pred[trains_pred < 0] = 0\n",
    "valid_pred[valid_pred < 0] = 0\n",
    "\n",
    "from sklearn.metrics import mean_squared_log_error\n",
    "print('훈련데이터 rmsle: ', np.sqrt(mean_squared_log_error(trains_y[-10000:], trains_pred)))\n",
    "print('검증데이터 rmsle: ', np.sqrt(mean_squared_log_error(valid_y[-10000:], valid_pred)))"
   ]
  },
  {
   "cell_type": "code",
   "execution_count": 35,
   "id": "7e3437f7",
   "metadata": {},
   "outputs": [
    {
     "name": "stdout",
     "output_type": "stream",
     "text": [
      "lasso picked 126 features and eliminated the other 5334 features\n"
     ]
    },
    {
     "name": "stderr",
     "output_type": "stream",
     "text": [
      "C:\\Users\\rhskr\\anaconda3\\lib\\site-packages\\sklearn\\linear_model\\_coordinate_descent.py:530: ConvergenceWarning: Objective did not converge. You might want to increase the number of iterations. Duality gap: 982918752.090816, tolerance: 1334224.16548732\n",
      "  model = cd_fast.enet_coordinate_descent(\n"
     ]
    }
   ],
   "source": [
    "lasso = Lasso(alpha=5)\n",
    "lasso.fit(X_trains_poly[-10000:], trains_y[-10000:])\n",
    "coefs = pd.Series(lasso.coef_, index = X_trains_poly[-10000:].columns)\n",
    "print(\"lasso picked \" + str(sum(coefs != 0)) + \" features and eliminated the other \" +  \\\n",
    "      str(sum(coefs == 0)) + \" features\")"
   ]
  },
  {
   "cell_type": "markdown",
   "id": "3d9e81df",
   "metadata": {},
   "source": [
    "4. alpha = 10"
   ]
  },
  {
   "cell_type": "code",
   "execution_count": 19,
   "id": "b1598446",
   "metadata": {},
   "outputs": [
    {
     "name": "stderr",
     "output_type": "stream",
     "text": [
      "C:\\Users\\rhskr\\anaconda3\\lib\\site-packages\\sklearn\\linear_model\\_coordinate_descent.py:530: ConvergenceWarning: Objective did not converge. You might want to increase the number of iterations. Duality gap: 1110558278.2500741, tolerance: 1334224.16548732\n",
      "  model = cd_fast.enet_coordinate_descent(\n"
     ]
    },
    {
     "name": "stdout",
     "output_type": "stream",
     "text": [
      "훈련데이터 rmsle:  1.8202791020797688\n",
      "검증데이터 rmsle:  2.7249617071102303\n"
     ]
    }
   ],
   "source": [
    "lasso = Lasso(alpha=10) \n",
    "lasso.fit(X_trains_poly[-10000:], trains_y[-10000:]) \n",
    "\n",
    "trains_pred = lasso.predict(X_trains_poly[-10000:])\n",
    "valid_pred = lasso.predict(X_valid_poly[-10000:])\n",
    "\n",
    "trains_pred[trains_pred < 0] = 0\n",
    "valid_pred[valid_pred < 0] = 0\n",
    "\n",
    "from sklearn.metrics import mean_squared_log_error\n",
    "print('훈련데이터 rmsle: ', np.sqrt(mean_squared_log_error(trains_y[-10000:], trains_pred)))\n",
    "print('검증데이터 rmsle: ', np.sqrt(mean_squared_log_error(valid_y[-10000:], valid_pred)))"
   ]
  },
  {
   "cell_type": "code",
   "execution_count": 34,
   "id": "bf83f99e",
   "metadata": {},
   "outputs": [
    {
     "name": "stdout",
     "output_type": "stream",
     "text": [
      "lasso picked 109 features and eliminated the other 5351 features\n"
     ]
    },
    {
     "name": "stderr",
     "output_type": "stream",
     "text": [
      "C:\\Users\\rhskr\\anaconda3\\lib\\site-packages\\sklearn\\linear_model\\_coordinate_descent.py:530: ConvergenceWarning: Objective did not converge. You might want to increase the number of iterations. Duality gap: 1110558278.2500741, tolerance: 1334224.16548732\n",
      "  model = cd_fast.enet_coordinate_descent(\n"
     ]
    }
   ],
   "source": [
    "lasso = Lasso(alpha=10)\n",
    "lasso.fit(X_trains_poly[-10000:], trains_y[-10000:])\n",
    "coefs = pd.Series(lasso.coef_, index = X_trains_poly[-10000:].columns)\n",
    "print(\"lasso picked \" + str(sum(coefs != 0)) + \" features and eliminated the other \" +  \\\n",
    "      str(sum(coefs == 0)) + \" features\")"
   ]
  },
  {
   "cell_type": "code",
   "execution_count": 39,
   "id": "b6d71387",
   "metadata": {},
   "outputs": [
    {
     "name": "stderr",
     "output_type": "stream",
     "text": [
      "C:\\Users\\rhskr\\anaconda3\\lib\\site-packages\\sklearn\\linear_model\\_coordinate_descent.py:530: ConvergenceWarning: Objective did not converge. You might want to increase the number of iterations. Duality gap: 14069792863.383415, tolerance: 13829130.188140787\n",
      "  model = cd_fast.enet_coordinate_descent(\n"
     ]
    },
    {
     "name": "stdout",
     "output_type": "stream",
     "text": [
      "훈련데이터 rmsle:  1.8023334342920907\n",
      "검증데이터 rmsle:  2.285426377422259\n"
     ]
    }
   ],
   "source": [
    "# 데이터셋을 크게\n",
    "lasso = Lasso(alpha=10) \n",
    "lasso.fit(X_trains_poly[-100000:], trains_y[-100000:]) \n",
    "\n",
    "trains_pred = lasso.predict(X_trains_poly[-100000:])\n",
    "valid_pred = lasso.predict(X_valid_poly[-100000:])\n",
    "\n",
    "trains_pred[trains_pred < 0] = 0\n",
    "valid_pred[valid_pred < 0] = 0\n",
    "\n",
    "from sklearn.metrics import mean_squared_log_error\n",
    "print('훈련데이터 rmsle: ', np.sqrt(mean_squared_log_error(trains_y[-100000:], trains_pred)))\n",
    "print('검증데이터 rmsle: ', np.sqrt(mean_squared_log_error(valid_y[-100000:], valid_pred)))"
   ]
  },
  {
   "cell_type": "code",
   "execution_count": 40,
   "id": "877ab97c",
   "metadata": {},
   "outputs": [
    {
     "name": "stderr",
     "output_type": "stream",
     "text": [
      "C:\\Users\\rhskr\\anaconda3\\lib\\site-packages\\sklearn\\linear_model\\_coordinate_descent.py:530: ConvergenceWarning: Objective did not converge. You might want to increase the number of iterations. Duality gap: 14069792863.383415, tolerance: 13829130.188140787\n",
      "  model = cd_fast.enet_coordinate_descent(\n"
     ]
    },
    {
     "name": "stdout",
     "output_type": "stream",
     "text": [
      "lasso picked 113 features and eliminated the other 5347 features\n"
     ]
    }
   ],
   "source": [
    "lasso = Lasso(alpha=10)\n",
    "lasso.fit(X_trains_poly[-100000:], trains_y[-100000:])\n",
    "coefs = pd.Series(lasso.coef_, index = X_trains_poly[-100000:].columns)\n",
    "print(\"lasso picked \" + str(sum(coefs != 0)) + \" features and eliminated the other \" +  \\\n",
    "      str(sum(coefs == 0)) + \" features\")"
   ]
  },
  {
   "cell_type": "code",
   "execution_count": null,
   "id": "c021186e",
   "metadata": {},
   "outputs": [],
   "source": []
  },
  {
   "cell_type": "code",
   "execution_count": 45,
   "id": "3931f7e6",
   "metadata": {},
   "outputs": [],
   "source": [
    "#elasticNet"
   ]
  },
  {
   "cell_type": "markdown",
   "id": "36b202e5",
   "metadata": {},
   "source": [
    "Elastic Net 회귀 모형은 가중치의 절대값의 합(L1)과 제곱합(L2)을 동시에 제약 조건으로 가지는 모형"
   ]
  },
  {
   "cell_type": "code",
   "execution_count": 49,
   "id": "2801c42c",
   "metadata": {},
   "outputs": [
    {
     "ename": "MemoryError",
     "evalue": "Unable to allocate 16.7 MiB for an array with shape (400, 5460) and data type float64",
     "output_type": "error",
     "traceback": [
      "\u001b[1;31m---------------------------------------------------------------------------\u001b[0m",
      "\u001b[1;31mMemoryError\u001b[0m                               Traceback (most recent call last)",
      "\u001b[1;32m<ipython-input-49-7def1173fde1>\u001b[0m in \u001b[0;36m<module>\u001b[1;34m\u001b[0m\n\u001b[0;32m      1\u001b[0m \u001b[1;32mfrom\u001b[0m \u001b[0msklearn\u001b[0m\u001b[1;33m.\u001b[0m\u001b[0mlinear_model\u001b[0m \u001b[1;32mimport\u001b[0m  \u001b[0mElasticNetCV\u001b[0m\u001b[1;33m\u001b[0m\u001b[1;33m\u001b[0m\u001b[0m\n\u001b[0;32m      2\u001b[0m \u001b[0melastic\u001b[0m \u001b[1;33m=\u001b[0m \u001b[0mElasticNetCV\u001b[0m\u001b[1;33m(\u001b[0m\u001b[1;33m)\u001b[0m\u001b[1;33m\u001b[0m\u001b[1;33m\u001b[0m\u001b[0m\n\u001b[1;32m----> 3\u001b[1;33m \u001b[0melastic\u001b[0m\u001b[1;33m.\u001b[0m\u001b[0mfit\u001b[0m\u001b[1;33m(\u001b[0m\u001b[0mX_trains_poly\u001b[0m\u001b[1;33m[\u001b[0m\u001b[1;33m-\u001b[0m\u001b[1;36m500\u001b[0m\u001b[1;33m:\u001b[0m\u001b[1;33m]\u001b[0m\u001b[1;33m,\u001b[0m \u001b[0mtrains_y\u001b[0m\u001b[1;33m[\u001b[0m\u001b[1;33m-\u001b[0m\u001b[1;36m500\u001b[0m\u001b[1;33m:\u001b[0m\u001b[1;33m]\u001b[0m\u001b[1;33m)\u001b[0m\u001b[1;33m\u001b[0m\u001b[1;33m\u001b[0m\u001b[0m\n\u001b[0m\u001b[0;32m      4\u001b[0m \u001b[1;33m\u001b[0m\u001b[0m\n\u001b[0;32m      5\u001b[0m \u001b[0mtrains_pred\u001b[0m \u001b[1;33m=\u001b[0m \u001b[0melastic\u001b[0m\u001b[1;33m.\u001b[0m\u001b[0mpredict\u001b[0m\u001b[1;33m(\u001b[0m\u001b[0mX_trains_poly\u001b[0m\u001b[1;33m[\u001b[0m\u001b[1;33m-\u001b[0m\u001b[1;36m500\u001b[0m\u001b[1;33m:\u001b[0m\u001b[1;33m]\u001b[0m\u001b[1;33m)\u001b[0m\u001b[1;33m\u001b[0m\u001b[1;33m\u001b[0m\u001b[0m\n",
      "\u001b[1;32m~\\anaconda3\\lib\\site-packages\\sklearn\\linear_model\\_coordinate_descent.py\u001b[0m in \u001b[0;36mfit\u001b[1;34m(self, X, y)\u001b[0m\n\u001b[0;32m   1312\u001b[0m                 \u001b[1;32mfor\u001b[0m \u001b[0mthis_l1_ratio\u001b[0m\u001b[1;33m,\u001b[0m \u001b[0mthis_alphas\u001b[0m \u001b[1;32min\u001b[0m \u001b[0mzip\u001b[0m\u001b[1;33m(\u001b[0m\u001b[0ml1_ratios\u001b[0m\u001b[1;33m,\u001b[0m \u001b[0malphas\u001b[0m\u001b[1;33m)\u001b[0m\u001b[1;33m\u001b[0m\u001b[1;33m\u001b[0m\u001b[0m\n\u001b[0;32m   1313\u001b[0m                 for train, test in folds)\n\u001b[1;32m-> 1314\u001b[1;33m         mse_paths = Parallel(n_jobs=self.n_jobs, verbose=self.verbose,\n\u001b[0m\u001b[0;32m   1315\u001b[0m                              **_joblib_parallel_args(prefer=\"threads\"))(jobs)\n\u001b[0;32m   1316\u001b[0m         \u001b[0mmse_paths\u001b[0m \u001b[1;33m=\u001b[0m \u001b[0mnp\u001b[0m\u001b[1;33m.\u001b[0m\u001b[0mreshape\u001b[0m\u001b[1;33m(\u001b[0m\u001b[0mmse_paths\u001b[0m\u001b[1;33m,\u001b[0m \u001b[1;33m(\u001b[0m\u001b[0mn_l1_ratio\u001b[0m\u001b[1;33m,\u001b[0m \u001b[0mlen\u001b[0m\u001b[1;33m(\u001b[0m\u001b[0mfolds\u001b[0m\u001b[1;33m)\u001b[0m\u001b[1;33m,\u001b[0m \u001b[1;33m-\u001b[0m\u001b[1;36m1\u001b[0m\u001b[1;33m)\u001b[0m\u001b[1;33m)\u001b[0m\u001b[1;33m\u001b[0m\u001b[1;33m\u001b[0m\u001b[0m\n",
      "\u001b[1;32m~\\anaconda3\\lib\\site-packages\\joblib\\parallel.py\u001b[0m in \u001b[0;36m__call__\u001b[1;34m(self, iterable)\u001b[0m\n\u001b[0;32m   1039\u001b[0m             \u001b[1;31m# remaining jobs.\u001b[0m\u001b[1;33m\u001b[0m\u001b[1;33m\u001b[0m\u001b[1;33m\u001b[0m\u001b[0m\n\u001b[0;32m   1040\u001b[0m             \u001b[0mself\u001b[0m\u001b[1;33m.\u001b[0m\u001b[0m_iterating\u001b[0m \u001b[1;33m=\u001b[0m \u001b[1;32mFalse\u001b[0m\u001b[1;33m\u001b[0m\u001b[1;33m\u001b[0m\u001b[0m\n\u001b[1;32m-> 1041\u001b[1;33m             \u001b[1;32mif\u001b[0m \u001b[0mself\u001b[0m\u001b[1;33m.\u001b[0m\u001b[0mdispatch_one_batch\u001b[0m\u001b[1;33m(\u001b[0m\u001b[0miterator\u001b[0m\u001b[1;33m)\u001b[0m\u001b[1;33m:\u001b[0m\u001b[1;33m\u001b[0m\u001b[1;33m\u001b[0m\u001b[0m\n\u001b[0m\u001b[0;32m   1042\u001b[0m                 \u001b[0mself\u001b[0m\u001b[1;33m.\u001b[0m\u001b[0m_iterating\u001b[0m \u001b[1;33m=\u001b[0m \u001b[0mself\u001b[0m\u001b[1;33m.\u001b[0m\u001b[0m_original_iterator\u001b[0m \u001b[1;32mis\u001b[0m \u001b[1;32mnot\u001b[0m \u001b[1;32mNone\u001b[0m\u001b[1;33m\u001b[0m\u001b[1;33m\u001b[0m\u001b[0m\n\u001b[0;32m   1043\u001b[0m \u001b[1;33m\u001b[0m\u001b[0m\n",
      "\u001b[1;32m~\\anaconda3\\lib\\site-packages\\joblib\\parallel.py\u001b[0m in \u001b[0;36mdispatch_one_batch\u001b[1;34m(self, iterator)\u001b[0m\n\u001b[0;32m    857\u001b[0m                 \u001b[1;32mreturn\u001b[0m \u001b[1;32mFalse\u001b[0m\u001b[1;33m\u001b[0m\u001b[1;33m\u001b[0m\u001b[0m\n\u001b[0;32m    858\u001b[0m             \u001b[1;32melse\u001b[0m\u001b[1;33m:\u001b[0m\u001b[1;33m\u001b[0m\u001b[1;33m\u001b[0m\u001b[0m\n\u001b[1;32m--> 859\u001b[1;33m                 \u001b[0mself\u001b[0m\u001b[1;33m.\u001b[0m\u001b[0m_dispatch\u001b[0m\u001b[1;33m(\u001b[0m\u001b[0mtasks\u001b[0m\u001b[1;33m)\u001b[0m\u001b[1;33m\u001b[0m\u001b[1;33m\u001b[0m\u001b[0m\n\u001b[0m\u001b[0;32m    860\u001b[0m                 \u001b[1;32mreturn\u001b[0m \u001b[1;32mTrue\u001b[0m\u001b[1;33m\u001b[0m\u001b[1;33m\u001b[0m\u001b[0m\n\u001b[0;32m    861\u001b[0m \u001b[1;33m\u001b[0m\u001b[0m\n",
      "\u001b[1;32m~\\anaconda3\\lib\\site-packages\\joblib\\parallel.py\u001b[0m in \u001b[0;36m_dispatch\u001b[1;34m(self, batch)\u001b[0m\n\u001b[0;32m    775\u001b[0m         \u001b[1;32mwith\u001b[0m \u001b[0mself\u001b[0m\u001b[1;33m.\u001b[0m\u001b[0m_lock\u001b[0m\u001b[1;33m:\u001b[0m\u001b[1;33m\u001b[0m\u001b[1;33m\u001b[0m\u001b[0m\n\u001b[0;32m    776\u001b[0m             \u001b[0mjob_idx\u001b[0m \u001b[1;33m=\u001b[0m \u001b[0mlen\u001b[0m\u001b[1;33m(\u001b[0m\u001b[0mself\u001b[0m\u001b[1;33m.\u001b[0m\u001b[0m_jobs\u001b[0m\u001b[1;33m)\u001b[0m\u001b[1;33m\u001b[0m\u001b[1;33m\u001b[0m\u001b[0m\n\u001b[1;32m--> 777\u001b[1;33m             \u001b[0mjob\u001b[0m \u001b[1;33m=\u001b[0m \u001b[0mself\u001b[0m\u001b[1;33m.\u001b[0m\u001b[0m_backend\u001b[0m\u001b[1;33m.\u001b[0m\u001b[0mapply_async\u001b[0m\u001b[1;33m(\u001b[0m\u001b[0mbatch\u001b[0m\u001b[1;33m,\u001b[0m \u001b[0mcallback\u001b[0m\u001b[1;33m=\u001b[0m\u001b[0mcb\u001b[0m\u001b[1;33m)\u001b[0m\u001b[1;33m\u001b[0m\u001b[1;33m\u001b[0m\u001b[0m\n\u001b[0m\u001b[0;32m    778\u001b[0m             \u001b[1;31m# A job can complete so quickly than its callback is\u001b[0m\u001b[1;33m\u001b[0m\u001b[1;33m\u001b[0m\u001b[1;33m\u001b[0m\u001b[0m\n\u001b[0;32m    779\u001b[0m             \u001b[1;31m# called before we get here, causing self._jobs to\u001b[0m\u001b[1;33m\u001b[0m\u001b[1;33m\u001b[0m\u001b[1;33m\u001b[0m\u001b[0m\n",
      "\u001b[1;32m~\\anaconda3\\lib\\site-packages\\joblib\\_parallel_backends.py\u001b[0m in \u001b[0;36mapply_async\u001b[1;34m(self, func, callback)\u001b[0m\n\u001b[0;32m    206\u001b[0m     \u001b[1;32mdef\u001b[0m \u001b[0mapply_async\u001b[0m\u001b[1;33m(\u001b[0m\u001b[0mself\u001b[0m\u001b[1;33m,\u001b[0m \u001b[0mfunc\u001b[0m\u001b[1;33m,\u001b[0m \u001b[0mcallback\u001b[0m\u001b[1;33m=\u001b[0m\u001b[1;32mNone\u001b[0m\u001b[1;33m)\u001b[0m\u001b[1;33m:\u001b[0m\u001b[1;33m\u001b[0m\u001b[1;33m\u001b[0m\u001b[0m\n\u001b[0;32m    207\u001b[0m         \u001b[1;34m\"\"\"Schedule a func to be run\"\"\"\u001b[0m\u001b[1;33m\u001b[0m\u001b[1;33m\u001b[0m\u001b[0m\n\u001b[1;32m--> 208\u001b[1;33m         \u001b[0mresult\u001b[0m \u001b[1;33m=\u001b[0m \u001b[0mImmediateResult\u001b[0m\u001b[1;33m(\u001b[0m\u001b[0mfunc\u001b[0m\u001b[1;33m)\u001b[0m\u001b[1;33m\u001b[0m\u001b[1;33m\u001b[0m\u001b[0m\n\u001b[0m\u001b[0;32m    209\u001b[0m         \u001b[1;32mif\u001b[0m \u001b[0mcallback\u001b[0m\u001b[1;33m:\u001b[0m\u001b[1;33m\u001b[0m\u001b[1;33m\u001b[0m\u001b[0m\n\u001b[0;32m    210\u001b[0m             \u001b[0mcallback\u001b[0m\u001b[1;33m(\u001b[0m\u001b[0mresult\u001b[0m\u001b[1;33m)\u001b[0m\u001b[1;33m\u001b[0m\u001b[1;33m\u001b[0m\u001b[0m\n",
      "\u001b[1;32m~\\anaconda3\\lib\\site-packages\\joblib\\_parallel_backends.py\u001b[0m in \u001b[0;36m__init__\u001b[1;34m(self, batch)\u001b[0m\n\u001b[0;32m    570\u001b[0m         \u001b[1;31m# Don't delay the application, to avoid keeping the input\u001b[0m\u001b[1;33m\u001b[0m\u001b[1;33m\u001b[0m\u001b[1;33m\u001b[0m\u001b[0m\n\u001b[0;32m    571\u001b[0m         \u001b[1;31m# arguments in memory\u001b[0m\u001b[1;33m\u001b[0m\u001b[1;33m\u001b[0m\u001b[1;33m\u001b[0m\u001b[0m\n\u001b[1;32m--> 572\u001b[1;33m         \u001b[0mself\u001b[0m\u001b[1;33m.\u001b[0m\u001b[0mresults\u001b[0m \u001b[1;33m=\u001b[0m \u001b[0mbatch\u001b[0m\u001b[1;33m(\u001b[0m\u001b[1;33m)\u001b[0m\u001b[1;33m\u001b[0m\u001b[1;33m\u001b[0m\u001b[0m\n\u001b[0m\u001b[0;32m    573\u001b[0m \u001b[1;33m\u001b[0m\u001b[0m\n\u001b[0;32m    574\u001b[0m     \u001b[1;32mdef\u001b[0m \u001b[0mget\u001b[0m\u001b[1;33m(\u001b[0m\u001b[0mself\u001b[0m\u001b[1;33m)\u001b[0m\u001b[1;33m:\u001b[0m\u001b[1;33m\u001b[0m\u001b[1;33m\u001b[0m\u001b[0m\n",
      "\u001b[1;32m~\\anaconda3\\lib\\site-packages\\joblib\\parallel.py\u001b[0m in \u001b[0;36m__call__\u001b[1;34m(self)\u001b[0m\n\u001b[0;32m    260\u001b[0m         \u001b[1;31m# change the default number of processes to -1\u001b[0m\u001b[1;33m\u001b[0m\u001b[1;33m\u001b[0m\u001b[1;33m\u001b[0m\u001b[0m\n\u001b[0;32m    261\u001b[0m         \u001b[1;32mwith\u001b[0m \u001b[0mparallel_backend\u001b[0m\u001b[1;33m(\u001b[0m\u001b[0mself\u001b[0m\u001b[1;33m.\u001b[0m\u001b[0m_backend\u001b[0m\u001b[1;33m,\u001b[0m \u001b[0mn_jobs\u001b[0m\u001b[1;33m=\u001b[0m\u001b[0mself\u001b[0m\u001b[1;33m.\u001b[0m\u001b[0m_n_jobs\u001b[0m\u001b[1;33m)\u001b[0m\u001b[1;33m:\u001b[0m\u001b[1;33m\u001b[0m\u001b[1;33m\u001b[0m\u001b[0m\n\u001b[1;32m--> 262\u001b[1;33m             return [func(*args, **kwargs)\n\u001b[0m\u001b[0;32m    263\u001b[0m                     for func, args, kwargs in self.items]\n\u001b[0;32m    264\u001b[0m \u001b[1;33m\u001b[0m\u001b[0m\n",
      "\u001b[1;32m~\\anaconda3\\lib\\site-packages\\joblib\\parallel.py\u001b[0m in \u001b[0;36m<listcomp>\u001b[1;34m(.0)\u001b[0m\n\u001b[0;32m    260\u001b[0m         \u001b[1;31m# change the default number of processes to -1\u001b[0m\u001b[1;33m\u001b[0m\u001b[1;33m\u001b[0m\u001b[1;33m\u001b[0m\u001b[0m\n\u001b[0;32m    261\u001b[0m         \u001b[1;32mwith\u001b[0m \u001b[0mparallel_backend\u001b[0m\u001b[1;33m(\u001b[0m\u001b[0mself\u001b[0m\u001b[1;33m.\u001b[0m\u001b[0m_backend\u001b[0m\u001b[1;33m,\u001b[0m \u001b[0mn_jobs\u001b[0m\u001b[1;33m=\u001b[0m\u001b[0mself\u001b[0m\u001b[1;33m.\u001b[0m\u001b[0m_n_jobs\u001b[0m\u001b[1;33m)\u001b[0m\u001b[1;33m:\u001b[0m\u001b[1;33m\u001b[0m\u001b[1;33m\u001b[0m\u001b[0m\n\u001b[1;32m--> 262\u001b[1;33m             return [func(*args, **kwargs)\n\u001b[0m\u001b[0;32m    263\u001b[0m                     for func, args, kwargs in self.items]\n\u001b[0;32m    264\u001b[0m \u001b[1;33m\u001b[0m\u001b[0m\n",
      "\u001b[1;32m~\\anaconda3\\lib\\site-packages\\sklearn\\utils\\fixes.py\u001b[0m in \u001b[0;36m__call__\u001b[1;34m(self, *args, **kwargs)\u001b[0m\n\u001b[0;32m    220\u001b[0m     \u001b[1;32mdef\u001b[0m \u001b[0m__call__\u001b[0m\u001b[1;33m(\u001b[0m\u001b[0mself\u001b[0m\u001b[1;33m,\u001b[0m \u001b[1;33m*\u001b[0m\u001b[0margs\u001b[0m\u001b[1;33m,\u001b[0m \u001b[1;33m**\u001b[0m\u001b[0mkwargs\u001b[0m\u001b[1;33m)\u001b[0m\u001b[1;33m:\u001b[0m\u001b[1;33m\u001b[0m\u001b[1;33m\u001b[0m\u001b[0m\n\u001b[0;32m    221\u001b[0m         \u001b[1;32mwith\u001b[0m \u001b[0mconfig_context\u001b[0m\u001b[1;33m(\u001b[0m\u001b[1;33m**\u001b[0m\u001b[0mself\u001b[0m\u001b[1;33m.\u001b[0m\u001b[0mconfig\u001b[0m\u001b[1;33m)\u001b[0m\u001b[1;33m:\u001b[0m\u001b[1;33m\u001b[0m\u001b[1;33m\u001b[0m\u001b[0m\n\u001b[1;32m--> 222\u001b[1;33m             \u001b[1;32mreturn\u001b[0m \u001b[0mself\u001b[0m\u001b[1;33m.\u001b[0m\u001b[0mfunction\u001b[0m\u001b[1;33m(\u001b[0m\u001b[1;33m*\u001b[0m\u001b[0margs\u001b[0m\u001b[1;33m,\u001b[0m \u001b[1;33m**\u001b[0m\u001b[0mkwargs\u001b[0m\u001b[1;33m)\u001b[0m\u001b[1;33m\u001b[0m\u001b[1;33m\u001b[0m\u001b[0m\n\u001b[0m",
      "\u001b[1;32m~\\anaconda3\\lib\\site-packages\\sklearn\\linear_model\\_coordinate_descent.py\u001b[0m in \u001b[0;36m_path_residuals\u001b[1;34m(X, y, train, test, path, path_params, alphas, l1_ratio, X_order, dtype)\u001b[0m\n\u001b[0;32m   1125\u001b[0m     X_train = check_array(X_train, accept_sparse='csc', dtype=dtype,\n\u001b[0;32m   1126\u001b[0m                           order=X_order)\n\u001b[1;32m-> 1127\u001b[1;33m     \u001b[0malphas\u001b[0m\u001b[1;33m,\u001b[0m \u001b[0mcoefs\u001b[0m\u001b[1;33m,\u001b[0m \u001b[0m_\u001b[0m \u001b[1;33m=\u001b[0m \u001b[0mpath\u001b[0m\u001b[1;33m(\u001b[0m\u001b[0mX_train\u001b[0m\u001b[1;33m,\u001b[0m \u001b[0my_train\u001b[0m\u001b[1;33m,\u001b[0m \u001b[1;33m**\u001b[0m\u001b[0mpath_params\u001b[0m\u001b[1;33m)\u001b[0m\u001b[1;33m\u001b[0m\u001b[1;33m\u001b[0m\u001b[0m\n\u001b[0m\u001b[0;32m   1128\u001b[0m     \u001b[1;32mdel\u001b[0m \u001b[0mX_train\u001b[0m\u001b[1;33m,\u001b[0m \u001b[0my_train\u001b[0m\u001b[1;33m\u001b[0m\u001b[1;33m\u001b[0m\u001b[0m\n\u001b[0;32m   1129\u001b[0m \u001b[1;33m\u001b[0m\u001b[0m\n",
      "\u001b[1;32m~\\anaconda3\\lib\\site-packages\\sklearn\\utils\\validation.py\u001b[0m in \u001b[0;36minner_f\u001b[1;34m(*args, **kwargs)\u001b[0m\n\u001b[0;32m     61\u001b[0m             \u001b[0mextra_args\u001b[0m \u001b[1;33m=\u001b[0m \u001b[0mlen\u001b[0m\u001b[1;33m(\u001b[0m\u001b[0margs\u001b[0m\u001b[1;33m)\u001b[0m \u001b[1;33m-\u001b[0m \u001b[0mlen\u001b[0m\u001b[1;33m(\u001b[0m\u001b[0mall_args\u001b[0m\u001b[1;33m)\u001b[0m\u001b[1;33m\u001b[0m\u001b[1;33m\u001b[0m\u001b[0m\n\u001b[0;32m     62\u001b[0m             \u001b[1;32mif\u001b[0m \u001b[0mextra_args\u001b[0m \u001b[1;33m<=\u001b[0m \u001b[1;36m0\u001b[0m\u001b[1;33m:\u001b[0m\u001b[1;33m\u001b[0m\u001b[1;33m\u001b[0m\u001b[0m\n\u001b[1;32m---> 63\u001b[1;33m                 \u001b[1;32mreturn\u001b[0m \u001b[0mf\u001b[0m\u001b[1;33m(\u001b[0m\u001b[1;33m*\u001b[0m\u001b[0margs\u001b[0m\u001b[1;33m,\u001b[0m \u001b[1;33m**\u001b[0m\u001b[0mkwargs\u001b[0m\u001b[1;33m)\u001b[0m\u001b[1;33m\u001b[0m\u001b[1;33m\u001b[0m\u001b[0m\n\u001b[0m\u001b[0;32m     64\u001b[0m \u001b[1;33m\u001b[0m\u001b[0m\n\u001b[0;32m     65\u001b[0m             \u001b[1;31m# extra_args > 0\u001b[0m\u001b[1;33m\u001b[0m\u001b[1;33m\u001b[0m\u001b[1;33m\u001b[0m\u001b[0m\n",
      "\u001b[1;32m~\\anaconda3\\lib\\site-packages\\sklearn\\linear_model\\_coordinate_descent.py\u001b[0m in \u001b[0;36menet_path\u001b[1;34m(X, y, l1_ratio, eps, n_alphas, alphas, precompute, Xy, copy_X, coef_init, verbose, return_n_iter, positive, check_input, **params)\u001b[0m\n\u001b[0;32m    528\u001b[0m                 tol, rng, random, positive)\n\u001b[0;32m    529\u001b[0m         \u001b[1;32melif\u001b[0m \u001b[0mprecompute\u001b[0m \u001b[1;32mis\u001b[0m \u001b[1;32mFalse\u001b[0m\u001b[1;33m:\u001b[0m\u001b[1;33m\u001b[0m\u001b[1;33m\u001b[0m\u001b[0m\n\u001b[1;32m--> 530\u001b[1;33m             model = cd_fast.enet_coordinate_descent(\n\u001b[0m\u001b[0;32m    531\u001b[0m                 \u001b[0mcoef_\u001b[0m\u001b[1;33m,\u001b[0m \u001b[0ml1_reg\u001b[0m\u001b[1;33m,\u001b[0m \u001b[0ml2_reg\u001b[0m\u001b[1;33m,\u001b[0m \u001b[0mX\u001b[0m\u001b[1;33m,\u001b[0m \u001b[0my\u001b[0m\u001b[1;33m,\u001b[0m \u001b[0mmax_iter\u001b[0m\u001b[1;33m,\u001b[0m \u001b[0mtol\u001b[0m\u001b[1;33m,\u001b[0m \u001b[0mrng\u001b[0m\u001b[1;33m,\u001b[0m \u001b[0mrandom\u001b[0m\u001b[1;33m,\u001b[0m\u001b[1;33m\u001b[0m\u001b[1;33m\u001b[0m\u001b[0m\n\u001b[0;32m    532\u001b[0m                 positive)\n",
      "\u001b[1;32msklearn\\linear_model\\_cd_fast.pyx\u001b[0m in \u001b[0;36msklearn.linear_model._cd_fast.enet_coordinate_descent\u001b[1;34m()\u001b[0m\n",
      "\u001b[1;31mMemoryError\u001b[0m: Unable to allocate 16.7 MiB for an array with shape (400, 5460) and data type float64"
     ]
    }
   ],
   "source": [
    "from sklearn.linear_model import  ElasticNetCV\n",
    "elastic = ElasticNetCV()\n",
    "elastic.fit(X_trains_poly[-10000:], trains_y[-10000:]) \n",
    "\n",
    "trains_pred = elastic.predict(X_trains_poly[-10000:])\n",
    "valid_pred = elastic.predict(X_valid_poly[-10000:])\n",
    "\n",
    "trains_pred[trains_pred < 0] = 0\n",
    "valid_pred[valid_pred < 0] = 0\n",
    "\n",
    "from sklearn.metrics import mean_squared_log_error\n",
    "print('훈련데이터 rmsle: ', np.sqrt(mean_squared_log_error(trains_y[-10000:], trains_pred)))\n",
    "print('검증데이터 rmsle: ', np.sqrt(mean_squared_log_error(valid_y[-10000:], valid_pred)))"
   ]
  },
  {
   "cell_type": "code",
   "execution_count": null,
   "id": "9eaad9d0",
   "metadata": {},
   "outputs": [],
   "source": []
  }
 ],
 "metadata": {
  "kernelspec": {
   "display_name": "Python 3",
   "language": "python",
   "name": "python3"
  },
  "language_info": {
   "codemirror_mode": {
    "name": "ipython",
    "version": 3
   },
   "file_extension": ".py",
   "mimetype": "text/x-python",
   "name": "python",
   "nbconvert_exporter": "python",
   "pygments_lexer": "ipython3",
   "version": "3.8.8"
  }
 },
 "nbformat": 4,
 "nbformat_minor": 5
}
