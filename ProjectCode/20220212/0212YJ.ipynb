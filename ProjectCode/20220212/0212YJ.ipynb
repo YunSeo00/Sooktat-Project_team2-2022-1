{
 "cells": [
  {
   "cell_type": "code",
   "execution_count": 67,
   "id": "a1a9abdf",
   "metadata": {},
   "outputs": [],
   "source": [
    "import pandas as pd\n",
    "import matplotlib.pyplot as plt\n",
    "import numpy as np\n",
    "import seaborn as sns\n",
    "import warnings\n",
    "pd.set_option('mode.chained_assignment',  None)\n",
    "warnings.simplefilter(action='ignore', category=FutureWarning)"
   ]
  },
  {
   "cell_type": "code",
   "execution_count": 218,
   "id": "6c945067",
   "metadata": {},
   "outputs": [
    {
     "name": "stderr",
     "output_type": "stream",
     "text": [
      "C:\\Users\\ynjn\\anaconda3\\lib\\site-packages\\IPython\\core\\interactiveshell.py:3444: DtypeWarning: Columns (12) have mixed types.Specify dtype option on import or set low_memory=False.\n",
      "  exec(code_obj, self.user_global_ns, self.user_ns)\n"
     ]
    }
   ],
   "source": [
    "train_data = pd.read_csv('train_merge_data.csv')\n",
    "test_data = pd.read_csv('test_merge_data.csv')"
   ]
  },
  {
   "cell_type": "code",
   "execution_count": 219,
   "id": "f278a062",
   "metadata": {},
   "outputs": [
    {
     "name": "stdout",
     "output_type": "stream",
     "text": [
      "<class 'pandas.core.frame.DataFrame'>\n",
      "RangeIndex: 3054348 entries, 0 to 3054347\n",
      "Data columns (total 24 columns):\n",
      " #   Column        Dtype  \n",
      "---  ------        -----  \n",
      " 0   Unnamed: 0    int64  \n",
      " 1   id            int64  \n",
      " 2   date          object \n",
      " 3   store_nbr     int64  \n",
      " 4   family        object \n",
      " 5   sales         float64\n",
      " 6   onpromotion   int64  \n",
      " 7   dcoilwtico    float64\n",
      " 8   type_x        object \n",
      " 9   locale        object \n",
      " 10  locale_name   object \n",
      " 11  description   object \n",
      " 12  transferred   object \n",
      " 13  transactions  float64\n",
      " 14  city          object \n",
      " 15  state         object \n",
      " 16  type_y        object \n",
      " 17  cluster       int64  \n",
      " 18  Year          int64  \n",
      " 19  Month         int64  \n",
      " 20  Weekend       int64  \n",
      " 21  Weekday       int64  \n",
      " 22  trend         int64  \n",
      " 23  NewYearsDay   bool   \n",
      "dtypes: bool(1), float64(3), int64(10), object(10)\n",
      "memory usage: 538.9+ MB\n"
     ]
    }
   ],
   "source": [
    "train_data.info()"
   ]
  },
  {
   "cell_type": "code",
   "execution_count": 220,
   "id": "b3634cf1",
   "metadata": {},
   "outputs": [],
   "source": [
    "train_data.drop(columns = ['Unnamed: 0', 'id', 'description'], inplace = True)"
   ]
  },
  {
   "cell_type": "code",
   "execution_count": 221,
   "id": "af55e012",
   "metadata": {},
   "outputs": [],
   "source": [
    "# National인 holiday 정보만 남긴다.\n",
    "mask = (train_data.locale != 'National')\n",
    "train_data.type_x[mask] = 'Empty'\n",
    "train_data.locale[mask] = 'Empty'\n",
    "train_data.locale_name[mask] = 'Empty'\n",
    "train_data.transferred[mask] = 'Empty'\n",
    "\n",
    "mask = (test_data.locale != 'National')\n",
    "test_data.type_x[mask] = 'Empty'\n",
    "test_data.locale[mask] = 'Empty'\n",
    "test_data.locale_name[mask] = 'Empty'\n",
    "test_data.transferred[mask] = 'Empty'"
   ]
  },
  {
   "cell_type": "code",
   "execution_count": 222,
   "id": "c324b337",
   "metadata": {},
   "outputs": [],
   "source": [
    "mask = (train_data.transferred == 'True') # 다른날로 대체됨.\n",
    "train_data.type_x[mask] = 'Empty'\n",
    "train_data.locale[mask] = 'Empty'\n",
    "train_data.locale_name[mask] = 'Empty'\n",
    "train_data.transferred[mask] = 'Empty'\n",
    "\n",
    "mask = (test_data.transferred == 'True')\n",
    "test_data.type_x[mask] = 'Empty'\n",
    "test_data.locale[mask] = 'Empty'\n",
    "test_data.locale_name[mask] = 'Empty'\n",
    "test_data.transferred[mask] = 'Empty'"
   ]
  },
  {
   "cell_type": "code",
   "execution_count": 223,
   "id": "08f860f2",
   "metadata": {},
   "outputs": [],
   "source": [
    "train_data.transferred[train_data.transferred != 'Empty'] = 'False'\n",
    "test_data.transferred[test_data.transferred != 'Empty'] = 'False'"
   ]
  },
  {
   "cell_type": "code",
   "execution_count": 224,
   "id": "ee71409a",
   "metadata": {},
   "outputs": [],
   "source": [
    "train_data.transferred[train_data.transferred != 'Empty'] = 'False'\n",
    "test_data.transferred[test_data.transferred != 'Empty'] = 'False'"
   ]
  },
  {
   "cell_type": "code",
   "execution_count": 225,
   "id": "b04c2958",
   "metadata": {},
   "outputs": [],
   "source": [
    "# 주말이거나 holiday인 날을 no_work_day로 지정\n",
    "train_data['no_work_day'] = train_data['Weekend'] | mask"
   ]
  },
  {
   "cell_type": "code",
   "execution_count": 226,
   "id": "a480a2be",
   "metadata": {},
   "outputs": [],
   "source": [
    "train_data.drop(columns = ['type_x', 'locale', 'locale_name', 'transferred', 'Weekend'], inplace = True)\n",
    "test_data.drop(columns = ['Unnamed: 0', 'id', 'type_x', 'locale', 'locale_name', 'description', 'transferred'], inplace = True)"
   ]
  },
  {
   "cell_type": "code",
   "execution_count": 227,
   "id": "5e1cc661",
   "metadata": {},
   "outputs": [],
   "source": [
    "test_data.rename(columns = {'Weekend':'no_work_day'}, inplace = True)"
   ]
  },
  {
   "cell_type": "code",
   "execution_count": 228,
   "id": "25fc8c9f",
   "metadata": {},
   "outputs": [
    {
     "data": {
      "text/plain": [
       "type_y  cluster  store_nbr\n",
       "A       5        44           75.0000\n",
       "        11       45           62.0000\n",
       "                 49           48.0000\n",
       "                 52            0.0000\n",
       "        14       46           36.7900\n",
       "                 47           52.0000\n",
       "                 48           30.0000\n",
       "                 50           32.0000\n",
       "        17       51           27.0000\n",
       "B       6        9            18.0000\n",
       "                 11           15.0000\n",
       "                 20            0.0000\n",
       "                 21            0.0000\n",
       "                 34           10.0000\n",
       "                 39           16.0000\n",
       "        10       31           10.0000\n",
       "        16       18            8.0000\n",
       "C       3        16            6.0000\n",
       "                 30            5.0000\n",
       "                 32            3.0000\n",
       "                 33            9.0000\n",
       "                 35            3.0000\n",
       "                 40            9.0000\n",
       "                 54            7.0000\n",
       "        7        14            6.0000\n",
       "                 22            0.0000\n",
       "        12       17           10.0000\n",
       "        15       10            5.0000\n",
       "                 12            7.0000\n",
       "                 13            6.0000\n",
       "                 15            8.0000\n",
       "                 19            8.0000\n",
       "D       1        24           19.0000\n",
       "                 25            9.0000\n",
       "                 27           18.0000\n",
       "        2        37           23.0000\n",
       "                 42            0.0000\n",
       "        4        5            19.0000\n",
       "                 38           22.0000\n",
       "                 41           16.0000\n",
       "        8        3            64.0000\n",
       "                 7            28.0000\n",
       "                 8            39.0000\n",
       "        9        4            19.0000\n",
       "                 23           13.0000\n",
       "        10       26            5.0000\n",
       "        13       1            19.0000\n",
       "                 2            23.4825\n",
       "                 6            29.0000\n",
       "                 53            3.0000\n",
       "E       10       28           10.0000\n",
       "                 29            0.0000\n",
       "                 36            5.0000\n",
       "                 43            7.0000\n",
       "Name: sales, dtype: float64"
      ]
     },
     "execution_count": 228,
     "metadata": {},
     "output_type": "execute_result"
    }
   ],
   "source": [
    "groups = train_data.groupby(['type_y','cluster','store_nbr']).median()\n",
    "groups.dropna(axis=0,inplace=True)\n",
    "groups['sales']"
   ]
  },
  {
   "cell_type": "code",
   "execution_count": 190,
   "id": "32c14643",
   "metadata": {},
   "outputs": [],
   "source": [
    "from scipy.cluster.hierarchy import dendrogram, linkage, fcluster"
   ]
  },
  {
   "cell_type": "code",
   "execution_count": 229,
   "id": "cafda3b7",
   "metadata": {},
   "outputs": [],
   "source": [
    "stores_df=train_data[['store_nbr','sales']]\n",
    "stores_df.set_index('store_nbr',inplace=True)\n",
    "stores_df=stores_df.apply(lambda x: x.astype('float64'))\n",
    "stores_df=stores_df.groupby('store_nbr').median()\n"
   ]
  },
  {
   "cell_type": "code",
   "execution_count": 230,
   "id": "e5c078ec",
   "metadata": {},
   "outputs": [
    {
     "name": "stderr",
     "output_type": "stream",
     "text": [
      "C:\\Users\\ynjn\\anaconda3\\lib\\site-packages\\sklearn\\cluster\\_kmeans.py:881: UserWarning: KMeans is known to have a memory leak on Windows with MKL, when there are less chunks than available threads. You can avoid it by setting the environment variable OMP_NUM_THREADS=1.\n",
      "  warnings.warn(\n"
     ]
    },
    {
     "data": {
      "image/png": "[encoded data removed]",
      "text/plain": [
       "<Figure size 432x288 with 1 Axes>"
      ]
     },
     "metadata": {
      "needs_background": "light"
     },
     "output_type": "display_data"
    }
   ],
   "source": [
    "from sklearn.cluster import KMeans\n",
    "\n",
    "inertia = []\n",
    "for n_clusters in range(1, 8):\n",
    "    kmeans = KMeans(n_clusters=n_clusters, random_state=0).fit(stores_df)\n",
    "    inertia.append(kmeans.inertia_ / n_clusters)\n",
    "inertias = pd.DataFrame({'n_clusters': range(1, 8), 'inertia': inertia})\n",
    "ax = inertias.plot(x='n_clusters', y='inertia')\n",
    "plt.xlabel('Number of clusters(k)')\n",
    "plt.ylabel('Average Within-Cluster Squared Distances')\n",
    "plt.ylim((0, 1.1 * inertias.inertia.max()))\n",
    "ax.legend().set_visible(False)\n",
    "plt.show()"
   ]
  },
  {
   "cell_type": "code",
   "execution_count": 231,
   "id": "7491bc31",
   "metadata": {
    "scrolled": true
   },
   "outputs": [
    {
     "data": {
      "text/html": [
       "<div>\n",
       "<style scoped>\n",
       "    .dataframe tbody tr th:only-of-type {\n",
       "        vertical-align: middle;\n",
       "    }\n",
       "\n",
       "    .dataframe tbody tr th {\n",
       "        vertical-align: top;\n",
       "    }\n",
       "\n",
       "    .dataframe thead th {\n",
       "        text-align: right;\n",
       "    }\n",
       "</style>\n",
       "<table border=\"1\" class=\"dataframe\">\n",
       "  <thead>\n",
       "    <tr style=\"text-align: right;\">\n",
       "      <th></th>\n",
       "      <th>sales</th>\n",
       "      <th>store_cl</th>\n",
       "    </tr>\n",
       "    <tr>\n",
       "      <th>store_nbr</th>\n",
       "      <th></th>\n",
       "      <th></th>\n",
       "    </tr>\n",
       "  </thead>\n",
       "  <tbody>\n",
       "    <tr>\n",
       "      <th>1</th>\n",
       "      <td>19.0000</td>\n",
       "      <td>4</td>\n",
       "    </tr>\n",
       "    <tr>\n",
       "      <th>2</th>\n",
       "      <td>23.4825</td>\n",
       "      <td>4</td>\n",
       "    </tr>\n",
       "    <tr>\n",
       "      <th>3</th>\n",
       "      <td>64.0000</td>\n",
       "      <td>2</td>\n",
       "    </tr>\n",
       "    <tr>\n",
       "      <th>4</th>\n",
       "      <td>19.0000</td>\n",
       "      <td>4</td>\n",
       "    </tr>\n",
       "    <tr>\n",
       "      <th>5</th>\n",
       "      <td>19.0000</td>\n",
       "      <td>4</td>\n",
       "    </tr>\n",
       "    <tr>\n",
       "      <th>6</th>\n",
       "      <td>29.0000</td>\n",
       "      <td>3</td>\n",
       "    </tr>\n",
       "    <tr>\n",
       "      <th>7</th>\n",
       "      <td>28.0000</td>\n",
       "      <td>3</td>\n",
       "    </tr>\n",
       "    <tr>\n",
       "      <th>8</th>\n",
       "      <td>39.0000</td>\n",
       "      <td>3</td>\n",
       "    </tr>\n",
       "    <tr>\n",
       "      <th>9</th>\n",
       "      <td>18.0000</td>\n",
       "      <td>4</td>\n",
       "    </tr>\n",
       "    <tr>\n",
       "      <th>10</th>\n",
       "      <td>5.0000</td>\n",
       "      <td>4</td>\n",
       "    </tr>\n",
       "    <tr>\n",
       "      <th>11</th>\n",
       "      <td>15.0000</td>\n",
       "      <td>4</td>\n",
       "    </tr>\n",
       "    <tr>\n",
       "      <th>12</th>\n",
       "      <td>7.0000</td>\n",
       "      <td>4</td>\n",
       "    </tr>\n",
       "    <tr>\n",
       "      <th>13</th>\n",
       "      <td>6.0000</td>\n",
       "      <td>4</td>\n",
       "    </tr>\n",
       "    <tr>\n",
       "      <th>14</th>\n",
       "      <td>6.0000</td>\n",
       "      <td>4</td>\n",
       "    </tr>\n",
       "    <tr>\n",
       "      <th>15</th>\n",
       "      <td>8.0000</td>\n",
       "      <td>4</td>\n",
       "    </tr>\n",
       "    <tr>\n",
       "      <th>16</th>\n",
       "      <td>6.0000</td>\n",
       "      <td>4</td>\n",
       "    </tr>\n",
       "    <tr>\n",
       "      <th>17</th>\n",
       "      <td>10.0000</td>\n",
       "      <td>4</td>\n",
       "    </tr>\n",
       "    <tr>\n",
       "      <th>18</th>\n",
       "      <td>8.0000</td>\n",
       "      <td>4</td>\n",
       "    </tr>\n",
       "    <tr>\n",
       "      <th>19</th>\n",
       "      <td>8.0000</td>\n",
       "      <td>4</td>\n",
       "    </tr>\n",
       "    <tr>\n",
       "      <th>20</th>\n",
       "      <td>0.0000</td>\n",
       "      <td>4</td>\n",
       "    </tr>\n",
       "    <tr>\n",
       "      <th>21</th>\n",
       "      <td>0.0000</td>\n",
       "      <td>4</td>\n",
       "    </tr>\n",
       "    <tr>\n",
       "      <th>22</th>\n",
       "      <td>0.0000</td>\n",
       "      <td>4</td>\n",
       "    </tr>\n",
       "    <tr>\n",
       "      <th>23</th>\n",
       "      <td>13.0000</td>\n",
       "      <td>4</td>\n",
       "    </tr>\n",
       "    <tr>\n",
       "      <th>24</th>\n",
       "      <td>19.0000</td>\n",
       "      <td>4</td>\n",
       "    </tr>\n",
       "    <tr>\n",
       "      <th>25</th>\n",
       "      <td>9.0000</td>\n",
       "      <td>4</td>\n",
       "    </tr>\n",
       "    <tr>\n",
       "      <th>26</th>\n",
       "      <td>5.0000</td>\n",
       "      <td>4</td>\n",
       "    </tr>\n",
       "    <tr>\n",
       "      <th>27</th>\n",
       "      <td>18.0000</td>\n",
       "      <td>4</td>\n",
       "    </tr>\n",
       "    <tr>\n",
       "      <th>28</th>\n",
       "      <td>10.0000</td>\n",
       "      <td>4</td>\n",
       "    </tr>\n",
       "    <tr>\n",
       "      <th>29</th>\n",
       "      <td>0.0000</td>\n",
       "      <td>4</td>\n",
       "    </tr>\n",
       "    <tr>\n",
       "      <th>30</th>\n",
       "      <td>5.0000</td>\n",
       "      <td>4</td>\n",
       "    </tr>\n",
       "    <tr>\n",
       "      <th>31</th>\n",
       "      <td>10.0000</td>\n",
       "      <td>4</td>\n",
       "    </tr>\n",
       "    <tr>\n",
       "      <th>32</th>\n",
       "      <td>3.0000</td>\n",
       "      <td>4</td>\n",
       "    </tr>\n",
       "    <tr>\n",
       "      <th>33</th>\n",
       "      <td>9.0000</td>\n",
       "      <td>4</td>\n",
       "    </tr>\n",
       "    <tr>\n",
       "      <th>34</th>\n",
       "      <td>10.0000</td>\n",
       "      <td>4</td>\n",
       "    </tr>\n",
       "    <tr>\n",
       "      <th>35</th>\n",
       "      <td>3.0000</td>\n",
       "      <td>4</td>\n",
       "    </tr>\n",
       "    <tr>\n",
       "      <th>36</th>\n",
       "      <td>5.0000</td>\n",
       "      <td>4</td>\n",
       "    </tr>\n",
       "    <tr>\n",
       "      <th>37</th>\n",
       "      <td>23.0000</td>\n",
       "      <td>4</td>\n",
       "    </tr>\n",
       "    <tr>\n",
       "      <th>38</th>\n",
       "      <td>22.0000</td>\n",
       "      <td>4</td>\n",
       "    </tr>\n",
       "    <tr>\n",
       "      <th>39</th>\n",
       "      <td>16.0000</td>\n",
       "      <td>4</td>\n",
       "    </tr>\n",
       "    <tr>\n",
       "      <th>40</th>\n",
       "      <td>9.0000</td>\n",
       "      <td>4</td>\n",
       "    </tr>\n",
       "    <tr>\n",
       "      <th>41</th>\n",
       "      <td>16.0000</td>\n",
       "      <td>4</td>\n",
       "    </tr>\n",
       "    <tr>\n",
       "      <th>42</th>\n",
       "      <td>0.0000</td>\n",
       "      <td>4</td>\n",
       "    </tr>\n",
       "    <tr>\n",
       "      <th>43</th>\n",
       "      <td>7.0000</td>\n",
       "      <td>4</td>\n",
       "    </tr>\n",
       "    <tr>\n",
       "      <th>44</th>\n",
       "      <td>75.0000</td>\n",
       "      <td>2</td>\n",
       "    </tr>\n",
       "    <tr>\n",
       "      <th>45</th>\n",
       "      <td>62.0000</td>\n",
       "      <td>2</td>\n",
       "    </tr>\n",
       "    <tr>\n",
       "      <th>46</th>\n",
       "      <td>36.7900</td>\n",
       "      <td>3</td>\n",
       "    </tr>\n",
       "    <tr>\n",
       "      <th>47</th>\n",
       "      <td>52.0000</td>\n",
       "      <td>1</td>\n",
       "    </tr>\n",
       "    <tr>\n",
       "      <th>48</th>\n",
       "      <td>30.0000</td>\n",
       "      <td>3</td>\n",
       "    </tr>\n",
       "    <tr>\n",
       "      <th>49</th>\n",
       "      <td>48.0000</td>\n",
       "      <td>1</td>\n",
       "    </tr>\n",
       "    <tr>\n",
       "      <th>50</th>\n",
       "      <td>32.0000</td>\n",
       "      <td>3</td>\n",
       "    </tr>\n",
       "    <tr>\n",
       "      <th>51</th>\n",
       "      <td>27.0000</td>\n",
       "      <td>3</td>\n",
       "    </tr>\n",
       "    <tr>\n",
       "      <th>52</th>\n",
       "      <td>0.0000</td>\n",
       "      <td>4</td>\n",
       "    </tr>\n",
       "    <tr>\n",
       "      <th>53</th>\n",
       "      <td>3.0000</td>\n",
       "      <td>4</td>\n",
       "    </tr>\n",
       "    <tr>\n",
       "      <th>54</th>\n",
       "      <td>7.0000</td>\n",
       "      <td>4</td>\n",
       "    </tr>\n",
       "  </tbody>\n",
       "</table>\n",
       "</div>"
      ],
      "text/plain": [
       "             sales  store_cl\n",
       "store_nbr                   \n",
       "1          19.0000         4\n",
       "2          23.4825         4\n",
       "3          64.0000         2\n",
       "4          19.0000         4\n",
       "5          19.0000         4\n",
       "6          29.0000         3\n",
       "7          28.0000         3\n",
       "8          39.0000         3\n",
       "9          18.0000         4\n",
       "10          5.0000         4\n",
       "11         15.0000         4\n",
       "12          7.0000         4\n",
       "13          6.0000         4\n",
       "14          6.0000         4\n",
       "15          8.0000         4\n",
       "16          6.0000         4\n",
       "17         10.0000         4\n",
       "18          8.0000         4\n",
       "19          8.0000         4\n",
       "20          0.0000         4\n",
       "21          0.0000         4\n",
       "22          0.0000         4\n",
       "23         13.0000         4\n",
       "24         19.0000         4\n",
       "25          9.0000         4\n",
       "26          5.0000         4\n",
       "27         18.0000         4\n",
       "28         10.0000         4\n",
       "29          0.0000         4\n",
       "30          5.0000         4\n",
       "31         10.0000         4\n",
       "32          3.0000         4\n",
       "33          9.0000         4\n",
       "34         10.0000         4\n",
       "35          3.0000         4\n",
       "36          5.0000         4\n",
       "37         23.0000         4\n",
       "38         22.0000         4\n",
       "39         16.0000         4\n",
       "40          9.0000         4\n",
       "41         16.0000         4\n",
       "42          0.0000         4\n",
       "43          7.0000         4\n",
       "44         75.0000         2\n",
       "45         62.0000         2\n",
       "46         36.7900         3\n",
       "47         52.0000         1\n",
       "48         30.0000         3\n",
       "49         48.0000         1\n",
       "50         32.0000         3\n",
       "51         27.0000         3\n",
       "52          0.0000         4\n",
       "53          3.0000         4\n",
       "54          7.0000         4"
      ]
     },
     "execution_count": 231,
     "metadata": {},
     "output_type": "execute_result"
    }
   ],
   "source": [
    "memb=fcluster(linkage(stores_df, method='average'),4,criterion='maxclust')\n",
    "stores_df['store_cl']=memb\n",
    "stores_df"
   ]
  },
  {
   "cell_type": "code",
   "execution_count": 232,
   "id": "46dbac3e",
   "metadata": {},
   "outputs": [
    {
     "data": {
      "text/html": [
       "<div>\n",
       "<style scoped>\n",
       "    .dataframe tbody tr th:only-of-type {\n",
       "        vertical-align: middle;\n",
       "    }\n",
       "\n",
       "    .dataframe tbody tr th {\n",
       "        vertical-align: top;\n",
       "    }\n",
       "\n",
       "    .dataframe thead th {\n",
       "        text-align: right;\n",
       "    }\n",
       "</style>\n",
       "<table border=\"1\" class=\"dataframe\">\n",
       "  <thead>\n",
       "    <tr style=\"text-align: right;\">\n",
       "      <th></th>\n",
       "      <th>date</th>\n",
       "      <th>family</th>\n",
       "      <th>sales</th>\n",
       "      <th>onpromotion</th>\n",
       "      <th>dcoilwtico</th>\n",
       "      <th>transactions</th>\n",
       "      <th>city</th>\n",
       "      <th>state</th>\n",
       "      <th>type_y</th>\n",
       "      <th>cluster</th>\n",
       "      <th>Year</th>\n",
       "      <th>Month</th>\n",
       "      <th>Weekday</th>\n",
       "      <th>trend</th>\n",
       "      <th>NewYearsDay</th>\n",
       "      <th>no_work_day</th>\n",
       "      <th>store_cl</th>\n",
       "    </tr>\n",
       "  </thead>\n",
       "  <tbody>\n",
       "    <tr>\n",
       "      <th>0</th>\n",
       "      <td>2013-01-01</td>\n",
       "      <td>AUTOMOTIVE</td>\n",
       "      <td>0.0</td>\n",
       "      <td>0</td>\n",
       "      <td>93.14</td>\n",
       "      <td>1420.876311</td>\n",
       "      <td>Quito</td>\n",
       "      <td>Pichincha</td>\n",
       "      <td>D</td>\n",
       "      <td>13</td>\n",
       "      <td>2013</td>\n",
       "      <td>1</td>\n",
       "      <td>1</td>\n",
       "      <td>0</td>\n",
       "      <td>True</td>\n",
       "      <td>False</td>\n",
       "      <td>4</td>\n",
       "    </tr>\n",
       "    <tr>\n",
       "      <th>1</th>\n",
       "      <td>2013-01-01</td>\n",
       "      <td>BABY CARE</td>\n",
       "      <td>0.0</td>\n",
       "      <td>0</td>\n",
       "      <td>93.14</td>\n",
       "      <td>1420.876311</td>\n",
       "      <td>Quito</td>\n",
       "      <td>Pichincha</td>\n",
       "      <td>D</td>\n",
       "      <td>13</td>\n",
       "      <td>2013</td>\n",
       "      <td>1</td>\n",
       "      <td>1</td>\n",
       "      <td>0</td>\n",
       "      <td>True</td>\n",
       "      <td>False</td>\n",
       "      <td>4</td>\n",
       "    </tr>\n",
       "    <tr>\n",
       "      <th>2</th>\n",
       "      <td>2013-01-01</td>\n",
       "      <td>BEAUTY</td>\n",
       "      <td>0.0</td>\n",
       "      <td>0</td>\n",
       "      <td>93.14</td>\n",
       "      <td>1420.876311</td>\n",
       "      <td>Quito</td>\n",
       "      <td>Pichincha</td>\n",
       "      <td>D</td>\n",
       "      <td>13</td>\n",
       "      <td>2013</td>\n",
       "      <td>1</td>\n",
       "      <td>1</td>\n",
       "      <td>0</td>\n",
       "      <td>True</td>\n",
       "      <td>False</td>\n",
       "      <td>4</td>\n",
       "    </tr>\n",
       "    <tr>\n",
       "      <th>3</th>\n",
       "      <td>2013-01-01</td>\n",
       "      <td>BEVERAGES</td>\n",
       "      <td>0.0</td>\n",
       "      <td>0</td>\n",
       "      <td>93.14</td>\n",
       "      <td>1420.876311</td>\n",
       "      <td>Quito</td>\n",
       "      <td>Pichincha</td>\n",
       "      <td>D</td>\n",
       "      <td>13</td>\n",
       "      <td>2013</td>\n",
       "      <td>1</td>\n",
       "      <td>1</td>\n",
       "      <td>0</td>\n",
       "      <td>True</td>\n",
       "      <td>False</td>\n",
       "      <td>4</td>\n",
       "    </tr>\n",
       "    <tr>\n",
       "      <th>4</th>\n",
       "      <td>2013-01-01</td>\n",
       "      <td>BOOKS</td>\n",
       "      <td>0.0</td>\n",
       "      <td>0</td>\n",
       "      <td>93.14</td>\n",
       "      <td>1420.876311</td>\n",
       "      <td>Quito</td>\n",
       "      <td>Pichincha</td>\n",
       "      <td>D</td>\n",
       "      <td>13</td>\n",
       "      <td>2013</td>\n",
       "      <td>1</td>\n",
       "      <td>1</td>\n",
       "      <td>0</td>\n",
       "      <td>True</td>\n",
       "      <td>False</td>\n",
       "      <td>4</td>\n",
       "    </tr>\n",
       "  </tbody>\n",
       "</table>\n",
       "</div>"
      ],
      "text/plain": [
       "         date      family  sales  onpromotion  dcoilwtico  transactions  \\\n",
       "0  2013-01-01  AUTOMOTIVE    0.0            0       93.14   1420.876311   \n",
       "1  2013-01-01   BABY CARE    0.0            0       93.14   1420.876311   \n",
       "2  2013-01-01      BEAUTY    0.0            0       93.14   1420.876311   \n",
       "3  2013-01-01   BEVERAGES    0.0            0       93.14   1420.876311   \n",
       "4  2013-01-01       BOOKS    0.0            0       93.14   1420.876311   \n",
       "\n",
       "    city      state type_y  cluster  Year  Month  Weekday  trend  NewYearsDay  \\\n",
       "0  Quito  Pichincha      D       13  2013      1        1      0         True   \n",
       "1  Quito  Pichincha      D       13  2013      1        1      0         True   \n",
       "2  Quito  Pichincha      D       13  2013      1        1      0         True   \n",
       "3  Quito  Pichincha      D       13  2013      1        1      0         True   \n",
       "4  Quito  Pichincha      D       13  2013      1        1      0         True   \n",
       "\n",
       "   no_work_day store_cl  \n",
       "0        False        4  \n",
       "1        False        4  \n",
       "2        False        4  \n",
       "3        False        4  \n",
       "4        False        4  "
      ]
     },
     "execution_count": 232,
     "metadata": {},
     "output_type": "execute_result"
    }
   ],
   "source": [
    "train_data=train_data.merge(stores_df.drop(columns='sales'), left_on = 'store_nbr', right_on = 'store_nbr', how = 'left')\n",
    "train_data.drop(columns=['store_nbr'],inplace=True)\n",
    "train_data['store_cl']=train_data['store_cl'].astype('category')\n",
    "train_data.head()"
   ]
  },
  {
   "cell_type": "code",
   "execution_count": 233,
   "id": "31ad8d5d",
   "metadata": {},
   "outputs": [
    {
     "data": {
      "text/html": [
       "<div>\n",
       "<style scoped>\n",
       "    .dataframe tbody tr th:only-of-type {\n",
       "        vertical-align: middle;\n",
       "    }\n",
       "\n",
       "    .dataframe tbody tr th {\n",
       "        vertical-align: top;\n",
       "    }\n",
       "\n",
       "    .dataframe thead th {\n",
       "        text-align: right;\n",
       "    }\n",
       "</style>\n",
       "<table border=\"1\" class=\"dataframe\">\n",
       "  <thead>\n",
       "    <tr style=\"text-align: right;\">\n",
       "      <th></th>\n",
       "      <th>date</th>\n",
       "      <th>family</th>\n",
       "      <th>onpromotion</th>\n",
       "      <th>dcoilwtico</th>\n",
       "      <th>transactions</th>\n",
       "      <th>city</th>\n",
       "      <th>state</th>\n",
       "      <th>type_y</th>\n",
       "      <th>cluster</th>\n",
       "      <th>Year</th>\n",
       "      <th>Month</th>\n",
       "      <th>no_work_day</th>\n",
       "      <th>Weekday</th>\n",
       "      <th>trend</th>\n",
       "      <th>NewYearsDay</th>\n",
       "      <th>store_cl</th>\n",
       "    </tr>\n",
       "  </thead>\n",
       "  <tbody>\n",
       "    <tr>\n",
       "      <th>0</th>\n",
       "      <td>2017-08-16</td>\n",
       "      <td>AUTOMOTIVE</td>\n",
       "      <td>0</td>\n",
       "      <td>46.8</td>\n",
       "      <td>1448.259579</td>\n",
       "      <td>Quito</td>\n",
       "      <td>Pichincha</td>\n",
       "      <td>D</td>\n",
       "      <td>13</td>\n",
       "      <td>2017</td>\n",
       "      <td>8</td>\n",
       "      <td>0</td>\n",
       "      <td>2</td>\n",
       "      <td>1688</td>\n",
       "      <td>False</td>\n",
       "      <td>4</td>\n",
       "    </tr>\n",
       "    <tr>\n",
       "      <th>1</th>\n",
       "      <td>2017-08-16</td>\n",
       "      <td>BABY CARE</td>\n",
       "      <td>0</td>\n",
       "      <td>46.8</td>\n",
       "      <td>1448.259579</td>\n",
       "      <td>Quito</td>\n",
       "      <td>Pichincha</td>\n",
       "      <td>D</td>\n",
       "      <td>13</td>\n",
       "      <td>2017</td>\n",
       "      <td>8</td>\n",
       "      <td>0</td>\n",
       "      <td>2</td>\n",
       "      <td>1688</td>\n",
       "      <td>False</td>\n",
       "      <td>4</td>\n",
       "    </tr>\n",
       "    <tr>\n",
       "      <th>2</th>\n",
       "      <td>2017-08-16</td>\n",
       "      <td>BEAUTY</td>\n",
       "      <td>2</td>\n",
       "      <td>46.8</td>\n",
       "      <td>1448.259579</td>\n",
       "      <td>Quito</td>\n",
       "      <td>Pichincha</td>\n",
       "      <td>D</td>\n",
       "      <td>13</td>\n",
       "      <td>2017</td>\n",
       "      <td>8</td>\n",
       "      <td>0</td>\n",
       "      <td>2</td>\n",
       "      <td>1688</td>\n",
       "      <td>False</td>\n",
       "      <td>4</td>\n",
       "    </tr>\n",
       "    <tr>\n",
       "      <th>3</th>\n",
       "      <td>2017-08-16</td>\n",
       "      <td>BEVERAGES</td>\n",
       "      <td>20</td>\n",
       "      <td>46.8</td>\n",
       "      <td>1448.259579</td>\n",
       "      <td>Quito</td>\n",
       "      <td>Pichincha</td>\n",
       "      <td>D</td>\n",
       "      <td>13</td>\n",
       "      <td>2017</td>\n",
       "      <td>8</td>\n",
       "      <td>0</td>\n",
       "      <td>2</td>\n",
       "      <td>1688</td>\n",
       "      <td>False</td>\n",
       "      <td>4</td>\n",
       "    </tr>\n",
       "    <tr>\n",
       "      <th>4</th>\n",
       "      <td>2017-08-16</td>\n",
       "      <td>BOOKS</td>\n",
       "      <td>0</td>\n",
       "      <td>46.8</td>\n",
       "      <td>1448.259579</td>\n",
       "      <td>Quito</td>\n",
       "      <td>Pichincha</td>\n",
       "      <td>D</td>\n",
       "      <td>13</td>\n",
       "      <td>2017</td>\n",
       "      <td>8</td>\n",
       "      <td>0</td>\n",
       "      <td>2</td>\n",
       "      <td>1688</td>\n",
       "      <td>False</td>\n",
       "      <td>4</td>\n",
       "    </tr>\n",
       "  </tbody>\n",
       "</table>\n",
       "</div>"
      ],
      "text/plain": [
       "         date      family  onpromotion  dcoilwtico  transactions   city  \\\n",
       "0  2017-08-16  AUTOMOTIVE            0        46.8   1448.259579  Quito   \n",
       "1  2017-08-16   BABY CARE            0        46.8   1448.259579  Quito   \n",
       "2  2017-08-16      BEAUTY            2        46.8   1448.259579  Quito   \n",
       "3  2017-08-16   BEVERAGES           20        46.8   1448.259579  Quito   \n",
       "4  2017-08-16       BOOKS            0        46.8   1448.259579  Quito   \n",
       "\n",
       "       state type_y  cluster  Year  Month  no_work_day  Weekday  trend  \\\n",
       "0  Pichincha      D       13  2017      8            0        2   1688   \n",
       "1  Pichincha      D       13  2017      8            0        2   1688   \n",
       "2  Pichincha      D       13  2017      8            0        2   1688   \n",
       "3  Pichincha      D       13  2017      8            0        2   1688   \n",
       "4  Pichincha      D       13  2017      8            0        2   1688   \n",
       "\n",
       "   NewYearsDay store_cl  \n",
       "0        False        4  \n",
       "1        False        4  \n",
       "2        False        4  \n",
       "3        False        4  \n",
       "4        False        4  "
      ]
     },
     "execution_count": 233,
     "metadata": {},
     "output_type": "execute_result"
    }
   ],
   "source": [
    "test_data=test_data.merge(stores_df.drop(columns='sales'), left_on = 'store_nbr', right_on = 'store_nbr', how = 'left')\n",
    "test_data.drop(columns=['store_nbr'],inplace=True)\n",
    "test_data['store_cl']=test_data['store_cl'].astype('category')\n",
    "test_data.head()"
   ]
  },
  {
   "cell_type": "markdown",
   "id": "01c25a5e",
   "metadata": {},
   "source": [
    "families_df=train_data[['family','sales']]\n",
    "families_df.set_index('family',inplace=True)\n",
    "families_df=families_df.groupby('family').median()"
   ]
  },
  {
   "cell_type": "markdown",
   "id": "309bfe82",
   "metadata": {},
   "source": [
    "from sklearn.cluster import KMeans\n",
    "\n",
    "inertia = []\n",
    "for n_clusters in range(1, 10):\n",
    "    kmeans = KMeans(n_clusters=n_clusters, random_state=0).fit(families_df)\n",
    "    inertia.append(kmeans.inertia_ / n_clusters)\n",
    "inertias = pd.DataFrame({'n_clusters': range(1, 10), 'inertia': inertia})\n",
    "ax = inertias.plot(x='n_clusters', y='inertia')\n",
    "plt.xlabel('Number of clusters(k)')\n",
    "plt.ylabel('Average Within-Cluster Squared Distances')\n",
    "plt.ylim((0, 1.1 * inertias.inertia.max()))\n",
    "ax.legend().set_visible(False)\n",
    "plt.show()"
   ]
  },
  {
   "cell_type": "markdown",
   "id": "7bed4b9e",
   "metadata": {},
   "source": [
    "memb=fcluster(linkage(families_df, method='average'),6,criterion='maxclust')\n",
    "families_df['family_cl']=memb\n",
    "families_df"
   ]
  },
  {
   "cell_type": "markdown",
   "id": "6c56d75b",
   "metadata": {},
   "source": [
    "train_data=train_data.merge(families_df.drop(columns='sales'), left_on = 'family', right_on = 'family', how = 'left')\n",
    "train_data.drop(columns=['family'],inplace=True)\n",
    "train_data['family_cl']=train_data['family_cl'].astype('category')\n",
    "train_data.head()"
   ]
  },
  {
   "cell_type": "markdown",
   "id": "56b30d23",
   "metadata": {},
   "source": [
    "test_data=test_data.merge(families_df.drop(columns='sales'), left_on = 'family', right_on = 'family', how = 'left')\n",
    "test_data.drop(columns=['family'],inplace=True)\n",
    "test_data['family_cl']=test_data['family_cl'].astype('category')\n",
    "test_data.head()"
   ]
  },
  {
   "cell_type": "code",
   "execution_count": 234,
   "id": "edbeed4a",
   "metadata": {},
   "outputs": [
    {
     "name": "stdout",
     "output_type": "stream",
     "text": [
      "<class 'pandas.core.frame.DataFrame'>\n",
      "Int64Index: 3054348 entries, 0 to 3054347\n",
      "Data columns (total 17 columns):\n",
      " #   Column        Dtype   \n",
      "---  ------        -----   \n",
      " 0   date          object  \n",
      " 1   family        object  \n",
      " 2   sales         float64 \n",
      " 3   onpromotion   int64   \n",
      " 4   dcoilwtico    float64 \n",
      " 5   transactions  float64 \n",
      " 6   city          object  \n",
      " 7   state         object  \n",
      " 8   type_y        object  \n",
      " 9   cluster       int64   \n",
      " 10  Year          int64   \n",
      " 11  Month         int64   \n",
      " 12  Weekday       int64   \n",
      " 13  trend         int64   \n",
      " 14  NewYearsDay   bool    \n",
      " 15  no_work_day   bool    \n",
      " 16  store_cl      category\n",
      "dtypes: bool(2), category(1), float64(3), int64(6), object(5)\n",
      "memory usage: 358.3+ MB\n"
     ]
    }
   ],
   "source": [
    "train_data.info()"
   ]
  },
  {
   "cell_type": "code",
   "execution_count": 235,
   "id": "45de45c0",
   "metadata": {},
   "outputs": [
    {
     "name": "stdout",
     "output_type": "stream",
     "text": [
      "<class 'pandas.core.frame.DataFrame'>\n",
      "Int64Index: 28512 entries, 0 to 28511\n",
      "Data columns (total 16 columns):\n",
      " #   Column        Non-Null Count  Dtype   \n",
      "---  ------        --------------  -----   \n",
      " 0   date          28512 non-null  object  \n",
      " 1   family        28512 non-null  object  \n",
      " 2   onpromotion   28512 non-null  int64   \n",
      " 3   dcoilwtico    28512 non-null  float64 \n",
      " 4   transactions  28512 non-null  float64 \n",
      " 5   city          28512 non-null  object  \n",
      " 6   state         28512 non-null  object  \n",
      " 7   type_y        28512 non-null  object  \n",
      " 8   cluster       28512 non-null  int64   \n",
      " 9   Year          28512 non-null  int64   \n",
      " 10  Month         28512 non-null  int64   \n",
      " 11  no_work_day   28512 non-null  int64   \n",
      " 12  Weekday       28512 non-null  int64   \n",
      " 13  trend         28512 non-null  int64   \n",
      " 14  NewYearsDay   28512 non-null  bool    \n",
      " 15  store_cl      28512 non-null  category\n",
      "dtypes: bool(1), category(1), float64(2), int64(7), object(5)\n",
      "memory usage: 3.3+ MB\n"
     ]
    }
   ],
   "source": [
    "test_data.info()"
   ]
  },
  {
   "cell_type": "code",
   "execution_count": 236,
   "id": "548d4ee0",
   "metadata": {},
   "outputs": [],
   "source": [
    "train_data.drop(columns=['Year'],inplace=True)\n",
    "test_data.drop(columns=['Year'],inplace=True)"
   ]
  },
  {
   "cell_type": "code",
   "execution_count": 237,
   "id": "f639d3e3",
   "metadata": {},
   "outputs": [],
   "source": [
    "train_1=train_data.drop(columns=['state','type_y'])\n",
    "test_1=test_data.drop(columns=['state','type_y'])\n",
    "\n",
    "train_2=train_data.drop(columns=['state','cluster'])\n",
    "test_2=test_data.drop(columns=['state','cluster'])\n",
    "\n",
    "train_3=train_data.drop(columns=['city','type_y'])\n",
    "test_3=test_data.drop(columns=['city','type_y'])\n",
    "\n",
    "train_4=train_data.drop(columns=['city','cluster'])\n",
    "test_4=test_data.drop(columns=['city','cluster'])"
   ]
  },
  {
   "cell_type": "code",
   "execution_count": 264,
   "id": "e4a2594d",
   "metadata": {},
   "outputs": [],
   "source": [
    "sub_train_data = train_1[train_1.date <= '2016-07-31']\n",
    "valid_data = train_1[train_1.date >= '2016-08-01']"
   ]
  },
  {
   "cell_type": "code",
   "execution_count": 265,
   "id": "4cb5aa95",
   "metadata": {},
   "outputs": [
    {
     "name": "stdout",
     "output_type": "stream",
     "text": [
      "(3054348, 15)\n",
      "(2368278, 14)\n",
      "(686070, 14)\n",
      "(28512, 14)\n"
     ]
    }
   ],
   "source": [
    "print(train_data.shape)\n",
    "print(sub_train_data.shape)\n",
    "print(valid_data.shape)\n",
    "print(test_data.shape)"
   ]
  },
  {
   "cell_type": "code",
   "execution_count": 266,
   "id": "6e3a46d0",
   "metadata": {},
   "outputs": [
    {
     "ename": "KeyError",
     "evalue": "\"['date'] not found in axis\"",
     "output_type": "error",
     "traceback": [
      "\u001b[1;31m---------------------------------------------------------------------------\u001b[0m",
      "\u001b[1;31mKeyError\u001b[0m                                  Traceback (most recent call last)",
      "\u001b[1;32m~\\AppData\\Local\\Temp/ipykernel_16100/889881806.py\u001b[0m in \u001b[0;36m<module>\u001b[1;34m\u001b[0m\n\u001b[0;32m      3\u001b[0m \u001b[0mvalid_data\u001b[0m\u001b[1;33m.\u001b[0m\u001b[0mdrop\u001b[0m\u001b[1;33m(\u001b[0m\u001b[0mcolumns\u001b[0m \u001b[1;33m=\u001b[0m \u001b[1;33m[\u001b[0m\u001b[1;34m'date'\u001b[0m\u001b[1;33m]\u001b[0m\u001b[1;33m,\u001b[0m \u001b[0minplace\u001b[0m \u001b[1;33m=\u001b[0m \u001b[1;32mTrue\u001b[0m\u001b[1;33m)\u001b[0m\u001b[1;33m\u001b[0m\u001b[1;33m\u001b[0m\u001b[0m\n\u001b[0;32m      4\u001b[0m \u001b[1;31m# 최종 모델 훈련에서 사용할 데이터\u001b[0m\u001b[1;33m\u001b[0m\u001b[1;33m\u001b[0m\u001b[0m\n\u001b[1;32m----> 5\u001b[1;33m \u001b[0mtrain_data\u001b[0m\u001b[1;33m.\u001b[0m\u001b[0mdrop\u001b[0m\u001b[1;33m(\u001b[0m\u001b[0mcolumns\u001b[0m \u001b[1;33m=\u001b[0m \u001b[1;33m[\u001b[0m\u001b[1;34m'date'\u001b[0m\u001b[1;33m]\u001b[0m\u001b[1;33m,\u001b[0m \u001b[0minplace\u001b[0m \u001b[1;33m=\u001b[0m \u001b[1;32mTrue\u001b[0m\u001b[1;33m)\u001b[0m\u001b[1;33m\u001b[0m\u001b[1;33m\u001b[0m\u001b[0m\n\u001b[0m\u001b[0;32m      6\u001b[0m \u001b[0mtest_data\u001b[0m\u001b[1;33m.\u001b[0m\u001b[0mdrop\u001b[0m\u001b[1;33m(\u001b[0m\u001b[0mcolumns\u001b[0m \u001b[1;33m=\u001b[0m \u001b[1;33m[\u001b[0m\u001b[1;34m'date'\u001b[0m\u001b[1;33m]\u001b[0m\u001b[1;33m,\u001b[0m \u001b[0minplace\u001b[0m \u001b[1;33m=\u001b[0m \u001b[1;32mTrue\u001b[0m\u001b[1;33m)\u001b[0m\u001b[1;33m\u001b[0m\u001b[1;33m\u001b[0m\u001b[0m\n",
      "\u001b[1;32m~\\anaconda3\\lib\\site-packages\\pandas\\util\\_decorators.py\u001b[0m in \u001b[0;36mwrapper\u001b[1;34m(*args, **kwargs)\u001b[0m\n\u001b[0;32m    309\u001b[0m                     \u001b[0mstacklevel\u001b[0m\u001b[1;33m=\u001b[0m\u001b[0mstacklevel\u001b[0m\u001b[1;33m,\u001b[0m\u001b[1;33m\u001b[0m\u001b[1;33m\u001b[0m\u001b[0m\n\u001b[0;32m    310\u001b[0m                 )\n\u001b[1;32m--> 311\u001b[1;33m             \u001b[1;32mreturn\u001b[0m \u001b[0mfunc\u001b[0m\u001b[1;33m(\u001b[0m\u001b[1;33m*\u001b[0m\u001b[0margs\u001b[0m\u001b[1;33m,\u001b[0m \u001b[1;33m**\u001b[0m\u001b[0mkwargs\u001b[0m\u001b[1;33m)\u001b[0m\u001b[1;33m\u001b[0m\u001b[1;33m\u001b[0m\u001b[0m\n\u001b[0m\u001b[0;32m    312\u001b[0m \u001b[1;33m\u001b[0m\u001b[0m\n\u001b[0;32m    313\u001b[0m         \u001b[1;32mreturn\u001b[0m \u001b[0mwrapper\u001b[0m\u001b[1;33m\u001b[0m\u001b[1;33m\u001b[0m\u001b[0m\n",
      "\u001b[1;32m~\\anaconda3\\lib\\site-packages\\pandas\\core\\frame.py\u001b[0m in \u001b[0;36mdrop\u001b[1;34m(self, labels, axis, index, columns, level, inplace, errors)\u001b[0m\n\u001b[0;32m   4904\u001b[0m                 \u001b[0mweight\u001b[0m  \u001b[1;36m1.0\u001b[0m     \u001b[1;36m0.8\u001b[0m\u001b[1;33m\u001b[0m\u001b[1;33m\u001b[0m\u001b[0m\n\u001b[0;32m   4905\u001b[0m         \"\"\"\n\u001b[1;32m-> 4906\u001b[1;33m         return super().drop(\n\u001b[0m\u001b[0;32m   4907\u001b[0m             \u001b[0mlabels\u001b[0m\u001b[1;33m=\u001b[0m\u001b[0mlabels\u001b[0m\u001b[1;33m,\u001b[0m\u001b[1;33m\u001b[0m\u001b[1;33m\u001b[0m\u001b[0m\n\u001b[0;32m   4908\u001b[0m             \u001b[0maxis\u001b[0m\u001b[1;33m=\u001b[0m\u001b[0maxis\u001b[0m\u001b[1;33m,\u001b[0m\u001b[1;33m\u001b[0m\u001b[1;33m\u001b[0m\u001b[0m\n",
      "\u001b[1;32m~\\anaconda3\\lib\\site-packages\\pandas\\core\\generic.py\u001b[0m in \u001b[0;36mdrop\u001b[1;34m(self, labels, axis, index, columns, level, inplace, errors)\u001b[0m\n\u001b[0;32m   4148\u001b[0m         \u001b[1;32mfor\u001b[0m \u001b[0maxis\u001b[0m\u001b[1;33m,\u001b[0m \u001b[0mlabels\u001b[0m \u001b[1;32min\u001b[0m \u001b[0maxes\u001b[0m\u001b[1;33m.\u001b[0m\u001b[0mitems\u001b[0m\u001b[1;33m(\u001b[0m\u001b[1;33m)\u001b[0m\u001b[1;33m:\u001b[0m\u001b[1;33m\u001b[0m\u001b[1;33m\u001b[0m\u001b[0m\n\u001b[0;32m   4149\u001b[0m             \u001b[1;32mif\u001b[0m \u001b[0mlabels\u001b[0m \u001b[1;32mis\u001b[0m \u001b[1;32mnot\u001b[0m \u001b[1;32mNone\u001b[0m\u001b[1;33m:\u001b[0m\u001b[1;33m\u001b[0m\u001b[1;33m\u001b[0m\u001b[0m\n\u001b[1;32m-> 4150\u001b[1;33m                 \u001b[0mobj\u001b[0m \u001b[1;33m=\u001b[0m \u001b[0mobj\u001b[0m\u001b[1;33m.\u001b[0m\u001b[0m_drop_axis\u001b[0m\u001b[1;33m(\u001b[0m\u001b[0mlabels\u001b[0m\u001b[1;33m,\u001b[0m \u001b[0maxis\u001b[0m\u001b[1;33m,\u001b[0m \u001b[0mlevel\u001b[0m\u001b[1;33m=\u001b[0m\u001b[0mlevel\u001b[0m\u001b[1;33m,\u001b[0m \u001b[0merrors\u001b[0m\u001b[1;33m=\u001b[0m\u001b[0merrors\u001b[0m\u001b[1;33m)\u001b[0m\u001b[1;33m\u001b[0m\u001b[1;33m\u001b[0m\u001b[0m\n\u001b[0m\u001b[0;32m   4151\u001b[0m \u001b[1;33m\u001b[0m\u001b[0m\n\u001b[0;32m   4152\u001b[0m         \u001b[1;32mif\u001b[0m \u001b[0minplace\u001b[0m\u001b[1;33m:\u001b[0m\u001b[1;33m\u001b[0m\u001b[1;33m\u001b[0m\u001b[0m\n",
      "\u001b[1;32m~\\anaconda3\\lib\\site-packages\\pandas\\core\\generic.py\u001b[0m in \u001b[0;36m_drop_axis\u001b[1;34m(self, labels, axis, level, errors)\u001b[0m\n\u001b[0;32m   4183\u001b[0m                 \u001b[0mnew_axis\u001b[0m \u001b[1;33m=\u001b[0m \u001b[0maxis\u001b[0m\u001b[1;33m.\u001b[0m\u001b[0mdrop\u001b[0m\u001b[1;33m(\u001b[0m\u001b[0mlabels\u001b[0m\u001b[1;33m,\u001b[0m \u001b[0mlevel\u001b[0m\u001b[1;33m=\u001b[0m\u001b[0mlevel\u001b[0m\u001b[1;33m,\u001b[0m \u001b[0merrors\u001b[0m\u001b[1;33m=\u001b[0m\u001b[0merrors\u001b[0m\u001b[1;33m)\u001b[0m\u001b[1;33m\u001b[0m\u001b[1;33m\u001b[0m\u001b[0m\n\u001b[0;32m   4184\u001b[0m             \u001b[1;32melse\u001b[0m\u001b[1;33m:\u001b[0m\u001b[1;33m\u001b[0m\u001b[1;33m\u001b[0m\u001b[0m\n\u001b[1;32m-> 4185\u001b[1;33m                 \u001b[0mnew_axis\u001b[0m \u001b[1;33m=\u001b[0m \u001b[0maxis\u001b[0m\u001b[1;33m.\u001b[0m\u001b[0mdrop\u001b[0m\u001b[1;33m(\u001b[0m\u001b[0mlabels\u001b[0m\u001b[1;33m,\u001b[0m \u001b[0merrors\u001b[0m\u001b[1;33m=\u001b[0m\u001b[0merrors\u001b[0m\u001b[1;33m)\u001b[0m\u001b[1;33m\u001b[0m\u001b[1;33m\u001b[0m\u001b[0m\n\u001b[0m\u001b[0;32m   4186\u001b[0m             \u001b[0mresult\u001b[0m \u001b[1;33m=\u001b[0m \u001b[0mself\u001b[0m\u001b[1;33m.\u001b[0m\u001b[0mreindex\u001b[0m\u001b[1;33m(\u001b[0m\u001b[1;33m**\u001b[0m\u001b[1;33m{\u001b[0m\u001b[0maxis_name\u001b[0m\u001b[1;33m:\u001b[0m \u001b[0mnew_axis\u001b[0m\u001b[1;33m}\u001b[0m\u001b[1;33m)\u001b[0m\u001b[1;33m\u001b[0m\u001b[1;33m\u001b[0m\u001b[0m\n\u001b[0;32m   4187\u001b[0m \u001b[1;33m\u001b[0m\u001b[0m\n",
      "\u001b[1;32m~\\anaconda3\\lib\\site-packages\\pandas\\core\\indexes\\base.py\u001b[0m in \u001b[0;36mdrop\u001b[1;34m(self, labels, errors)\u001b[0m\n\u001b[0;32m   6015\u001b[0m         \u001b[1;32mif\u001b[0m \u001b[0mmask\u001b[0m\u001b[1;33m.\u001b[0m\u001b[0many\u001b[0m\u001b[1;33m(\u001b[0m\u001b[1;33m)\u001b[0m\u001b[1;33m:\u001b[0m\u001b[1;33m\u001b[0m\u001b[1;33m\u001b[0m\u001b[0m\n\u001b[0;32m   6016\u001b[0m             \u001b[1;32mif\u001b[0m \u001b[0merrors\u001b[0m \u001b[1;33m!=\u001b[0m \u001b[1;34m\"ignore\"\u001b[0m\u001b[1;33m:\u001b[0m\u001b[1;33m\u001b[0m\u001b[1;33m\u001b[0m\u001b[0m\n\u001b[1;32m-> 6017\u001b[1;33m                 \u001b[1;32mraise\u001b[0m \u001b[0mKeyError\u001b[0m\u001b[1;33m(\u001b[0m\u001b[1;34mf\"{labels[mask]} not found in axis\"\u001b[0m\u001b[1;33m)\u001b[0m\u001b[1;33m\u001b[0m\u001b[1;33m\u001b[0m\u001b[0m\n\u001b[0m\u001b[0;32m   6018\u001b[0m             \u001b[0mindexer\u001b[0m \u001b[1;33m=\u001b[0m \u001b[0mindexer\u001b[0m\u001b[1;33m[\u001b[0m\u001b[1;33m~\u001b[0m\u001b[0mmask\u001b[0m\u001b[1;33m]\u001b[0m\u001b[1;33m\u001b[0m\u001b[1;33m\u001b[0m\u001b[0m\n\u001b[0;32m   6019\u001b[0m         \u001b[1;32mreturn\u001b[0m \u001b[0mself\u001b[0m\u001b[1;33m.\u001b[0m\u001b[0mdelete\u001b[0m\u001b[1;33m(\u001b[0m\u001b[0mindexer\u001b[0m\u001b[1;33m)\u001b[0m\u001b[1;33m\u001b[0m\u001b[1;33m\u001b[0m\u001b[0m\n",
      "\u001b[1;31mKeyError\u001b[0m: \"['date'] not found in axis\""
     ]
    }
   ],
   "source": [
    "# 검증 과정에서 사용할 데이터\n",
    "sub_train_data.drop(columns = ['date'], inplace = True)\n",
    "valid_data.drop(columns = ['date'], inplace = True)\n",
    "# 최종 모델 훈련에서 사용할 데이터\n",
    "train_data.drop(columns = ['date'], inplace = True)\n",
    "test_data.drop(columns = ['date'], inplace = True)\n"
   ]
  },
  {
   "cell_type": "code",
   "execution_count": 267,
   "id": "2dca6a21",
   "metadata": {},
   "outputs": [],
   "source": [
    "X_sub_train_data = sub_train_data.drop(columns = ['sales'])\n",
    "y_sub_train_data = sub_train_data['sales']\n",
    "\n",
    "X_valid_data = valid_data.drop(columns = ['sales'])\n",
    "y_valid_data = valid_data['sales']"
   ]
  },
  {
   "cell_type": "code",
   "execution_count": 268,
   "id": "19a1740b",
   "metadata": {},
   "outputs": [
    {
     "data": {
      "text/plain": [
       "Index(['family', 'sales', 'onpromotion', 'dcoilwtico', 'transactions', 'city',\n",
       "       'state', 'type_y', 'cluster', 'Month', 'Weekday', 'trend',\n",
       "       'NewYearsDay', 'no_work_day', 'store_cl'],\n",
       "      dtype='object')"
      ]
     },
     "execution_count": 268,
     "metadata": {},
     "output_type": "execute_result"
    }
   ],
   "source": [
    "train_data.columns"
   ]
  },
  {
   "cell_type": "code",
   "execution_count": 270,
   "id": "75e58c7d",
   "metadata": {},
   "outputs": [],
   "source": [
    "# preprocessing\n",
    "from sklearn.compose import ColumnTransformer\n",
    "from sklearn.preprocessing import StandardScaler, OneHotEncoder\n",
    "\n",
    "preproc = ColumnTransformer(\n",
    "    [('standard', StandardScaler(), ['onpromotion', 'dcoilwtico', 'transactions']),\n",
    "     ('cat', OneHotEncoder(sparse = False, drop = 'first'), ['store_cl', 'family','city'])],\n",
    "     remainder = 'passthrough')\n",
    "\n",
    "preproc.fit(X_sub_train_data)\n",
    "cat_features_names = preproc.named_transformers_['cat'].get_feature_names()\n",
    "labels = np.concatenate([['onpromotion', 'dcoilwtico', 'transactions'], cat_features_names, ['cluster','Month', 'Weekday', 'trend', 'NewYearsDay','no_work_day']])\n",
    "\n",
    "X_sub_train_data_trans = pd.DataFrame(preproc.transform(X_sub_train_data), columns = labels)\n",
    "X_valid_data_trans = pd.DataFrame(preproc.transform(X_valid_data), columns = labels)"
   ]
  },
  {
   "cell_type": "code",
   "execution_count": 271,
   "id": "46767ad0",
   "metadata": {},
   "outputs": [
    {
     "data": {
      "text/plain": [
       "LinearRegression()"
      ]
     },
     "execution_count": 271,
     "metadata": {},
     "output_type": "execute_result"
    }
   ],
   "source": [
    "# modeling\n",
    "from sklearn.linear_model import LinearRegression\n",
    "\n",
    "model = LinearRegression()\n",
    "model.fit(X_sub_train_data_trans, y_sub_train_data)"
   ]
  },
  {
   "cell_type": "code",
   "execution_count": 272,
   "id": "7adff57d",
   "metadata": {},
   "outputs": [],
   "source": [
    "train_pred = model.predict(X_sub_train_data_trans)\n",
    "valid_pred = model.predict(X_valid_data_trans)"
   ]
  },
  {
   "cell_type": "code",
   "execution_count": 273,
   "id": "548e666f",
   "metadata": {},
   "outputs": [],
   "source": [
    "train_pred[train_pred < 0] = 0\n",
    "valid_pred[valid_pred < 0] = 0"
   ]
  },
  {
   "cell_type": "code",
   "execution_count": 274,
   "id": "18f3c51c",
   "metadata": {},
   "outputs": [],
   "source": [
    "from sklearn.metrics import mean_squared_log_error"
   ]
  },
  {
   "cell_type": "code",
   "execution_count": 275,
   "id": "a0f63a02",
   "metadata": {},
   "outputs": [
    {
     "data": {
      "text/plain": [
       "6.13522107835651"
      ]
     },
     "execution_count": 275,
     "metadata": {},
     "output_type": "execute_result"
    }
   ],
   "source": [
    "mean_squared_log_error(y_sub_train_data, train_pred)"
   ]
  },
  {
   "cell_type": "code",
   "execution_count": 276,
   "id": "254c82e4",
   "metadata": {},
   "outputs": [
    {
     "data": {
      "text/plain": [
       "5.256747666529892"
      ]
     },
     "execution_count": 276,
     "metadata": {},
     "output_type": "execute_result"
    }
   ],
   "source": [
    "mean_squared_log_error(y_valid_data, valid_pred)"
   ]
  },
  {
   "cell_type": "code",
   "execution_count": 277,
   "id": "cecf983f",
   "metadata": {},
   "outputs": [
    {
     "data": {
      "text/plain": [
       "RandomForestRegressor(min_samples_split=10)"
      ]
     },
     "execution_count": 277,
     "metadata": {},
     "output_type": "execute_result"
    }
   ],
   "source": [
    "from sklearn.ensemble import RandomForestRegressor\n",
    "\n",
    "rfmodel = RandomForestRegressor(min_samples_split = 10)\n",
    "rfmodel.fit(X_sub_train_data_trans[-10000:], y_sub_train_data[-10000:])"
   ]
  },
  {
   "cell_type": "code",
   "execution_count": 278,
   "id": "03a972a8",
   "metadata": {},
   "outputs": [],
   "source": [
    "#train_pred = rfmodel.predict(X_sub_train_data_trans)\n",
    "valid_pred = rfmodel.predict(X_valid_data_trans)"
   ]
  },
  {
   "cell_type": "code",
   "execution_count": 279,
   "id": "ad77fa2c",
   "metadata": {},
   "outputs": [],
   "source": [
    "#train_pred[train_pred < 0] = 0\n",
    "valid_pred[valid_pred < 0] = 0"
   ]
  },
  {
   "cell_type": "code",
   "execution_count": 280,
   "id": "b13657e7",
   "metadata": {},
   "outputs": [
    {
     "data": {
      "text/plain": [
       "0.8191614538214053"
      ]
     },
     "execution_count": 280,
     "metadata": {},
     "output_type": "execute_result"
    }
   ],
   "source": [
    "mean_squared_log_error(y_valid_data, valid_pred)"
   ]
  },
  {
   "cell_type": "code",
   "execution_count": 281,
   "id": "e8bb1295",
   "metadata": {},
   "outputs": [],
   "source": [
    "X_train_data = train_data.drop(columns = ['sales'])\n",
    "y_train_data = train_data['sales']"
   ]
  },
  {
   "cell_type": "code",
   "execution_count": 284,
   "id": "46d83a3c",
   "metadata": {},
   "outputs": [
    {
     "ename": "ValueError",
     "evalue": "Shape of passed values is (3054348, 67), indices imply (3054348, 65)",
     "output_type": "error",
     "traceback": [
      "\u001b[1;31m---------------------------------------------------------------------------\u001b[0m",
      "\u001b[1;31mValueError\u001b[0m                                Traceback (most recent call last)",
      "\u001b[1;32m~\\AppData\\Local\\Temp/ipykernel_16100/1540708416.py\u001b[0m in \u001b[0;36m<module>\u001b[1;34m\u001b[0m\n\u001b[0;32m      3\u001b[0m \u001b[0mlabels\u001b[0m \u001b[1;33m=\u001b[0m \u001b[0mnp\u001b[0m\u001b[1;33m.\u001b[0m\u001b[0mconcatenate\u001b[0m\u001b[1;33m(\u001b[0m\u001b[1;33m[\u001b[0m\u001b[1;33m[\u001b[0m\u001b[1;34m'onpromotion'\u001b[0m\u001b[1;33m,\u001b[0m \u001b[1;34m'dcoilwtico'\u001b[0m\u001b[1;33m,\u001b[0m \u001b[1;34m'transactions'\u001b[0m\u001b[1;33m]\u001b[0m\u001b[1;33m,\u001b[0m \u001b[0mcat_features_names\u001b[0m\u001b[1;33m,\u001b[0m \u001b[1;33m[\u001b[0m\u001b[1;34m'cluster'\u001b[0m\u001b[1;33m,\u001b[0m \u001b[1;34m'Month'\u001b[0m\u001b[1;33m,\u001b[0m \u001b[1;34m'Weekday'\u001b[0m\u001b[1;33m,\u001b[0m \u001b[1;34m'trend'\u001b[0m\u001b[1;33m,\u001b[0m \u001b[1;34m'NewYearsDay'\u001b[0m\u001b[1;33m,\u001b[0m\u001b[1;34m'no_work_day'\u001b[0m\u001b[1;33m]\u001b[0m\u001b[1;33m]\u001b[0m\u001b[1;33m)\u001b[0m\u001b[1;33m\u001b[0m\u001b[1;33m\u001b[0m\u001b[0m\n\u001b[0;32m      4\u001b[0m \u001b[1;33m\u001b[0m\u001b[0m\n\u001b[1;32m----> 5\u001b[1;33m \u001b[0mX_train_data_trans\u001b[0m \u001b[1;33m=\u001b[0m \u001b[0mpd\u001b[0m\u001b[1;33m.\u001b[0m\u001b[0mDataFrame\u001b[0m\u001b[1;33m(\u001b[0m\u001b[0mpreproc\u001b[0m\u001b[1;33m.\u001b[0m\u001b[0mtransform\u001b[0m\u001b[1;33m(\u001b[0m\u001b[0mX_train_data\u001b[0m\u001b[1;33m)\u001b[0m\u001b[1;33m,\u001b[0m \u001b[0mcolumns\u001b[0m \u001b[1;33m=\u001b[0m \u001b[0mlabels\u001b[0m\u001b[1;33m)\u001b[0m\u001b[1;33m\u001b[0m\u001b[1;33m\u001b[0m\u001b[0m\n\u001b[0m\u001b[0;32m      6\u001b[0m \u001b[0mX_test_data_trans\u001b[0m \u001b[1;33m=\u001b[0m \u001b[0mpd\u001b[0m\u001b[1;33m.\u001b[0m\u001b[0mDataFrame\u001b[0m\u001b[1;33m(\u001b[0m\u001b[0mpreproc\u001b[0m\u001b[1;33m.\u001b[0m\u001b[0mtransform\u001b[0m\u001b[1;33m(\u001b[0m\u001b[0mtest_data\u001b[0m\u001b[1;33m)\u001b[0m\u001b[1;33m,\u001b[0m \u001b[0mcolumns\u001b[0m \u001b[1;33m=\u001b[0m \u001b[0mlabels\u001b[0m\u001b[1;33m)\u001b[0m\u001b[1;33m\u001b[0m\u001b[1;33m\u001b[0m\u001b[0m\n",
      "\u001b[1;32m~\\anaconda3\\lib\\site-packages\\pandas\\core\\frame.py\u001b[0m in \u001b[0;36m__init__\u001b[1;34m(self, data, index, columns, dtype, copy)\u001b[0m\n\u001b[0;32m    670\u001b[0m                 )\n\u001b[0;32m    671\u001b[0m             \u001b[1;32melse\u001b[0m\u001b[1;33m:\u001b[0m\u001b[1;33m\u001b[0m\u001b[1;33m\u001b[0m\u001b[0m\n\u001b[1;32m--> 672\u001b[1;33m                 mgr = ndarray_to_mgr(\n\u001b[0m\u001b[0;32m    673\u001b[0m                     \u001b[0mdata\u001b[0m\u001b[1;33m,\u001b[0m\u001b[1;33m\u001b[0m\u001b[1;33m\u001b[0m\u001b[0m\n\u001b[0;32m    674\u001b[0m                     \u001b[0mindex\u001b[0m\u001b[1;33m,\u001b[0m\u001b[1;33m\u001b[0m\u001b[1;33m\u001b[0m\u001b[0m\n",
      "\u001b[1;32m~\\anaconda3\\lib\\site-packages\\pandas\\core\\internals\\construction.py\u001b[0m in \u001b[0;36mndarray_to_mgr\u001b[1;34m(values, index, columns, dtype, copy, typ)\u001b[0m\n\u001b[0;32m    322\u001b[0m     )\n\u001b[0;32m    323\u001b[0m \u001b[1;33m\u001b[0m\u001b[0m\n\u001b[1;32m--> 324\u001b[1;33m     \u001b[0m_check_values_indices_shape_match\u001b[0m\u001b[1;33m(\u001b[0m\u001b[0mvalues\u001b[0m\u001b[1;33m,\u001b[0m \u001b[0mindex\u001b[0m\u001b[1;33m,\u001b[0m \u001b[0mcolumns\u001b[0m\u001b[1;33m)\u001b[0m\u001b[1;33m\u001b[0m\u001b[1;33m\u001b[0m\u001b[0m\n\u001b[0m\u001b[0;32m    325\u001b[0m \u001b[1;33m\u001b[0m\u001b[0m\n\u001b[0;32m    326\u001b[0m     \u001b[1;32mif\u001b[0m \u001b[0mtyp\u001b[0m \u001b[1;33m==\u001b[0m \u001b[1;34m\"array\"\u001b[0m\u001b[1;33m:\u001b[0m\u001b[1;33m\u001b[0m\u001b[1;33m\u001b[0m\u001b[0m\n",
      "\u001b[1;32m~\\anaconda3\\lib\\site-packages\\pandas\\core\\internals\\construction.py\u001b[0m in \u001b[0;36m_check_values_indices_shape_match\u001b[1;34m(values, index, columns)\u001b[0m\n\u001b[0;32m    391\u001b[0m         \u001b[0mpassed\u001b[0m \u001b[1;33m=\u001b[0m \u001b[0mvalues\u001b[0m\u001b[1;33m.\u001b[0m\u001b[0mshape\u001b[0m\u001b[1;33m\u001b[0m\u001b[1;33m\u001b[0m\u001b[0m\n\u001b[0;32m    392\u001b[0m         \u001b[0mimplied\u001b[0m \u001b[1;33m=\u001b[0m \u001b[1;33m(\u001b[0m\u001b[0mlen\u001b[0m\u001b[1;33m(\u001b[0m\u001b[0mindex\u001b[0m\u001b[1;33m)\u001b[0m\u001b[1;33m,\u001b[0m \u001b[0mlen\u001b[0m\u001b[1;33m(\u001b[0m\u001b[0mcolumns\u001b[0m\u001b[1;33m)\u001b[0m\u001b[1;33m)\u001b[0m\u001b[1;33m\u001b[0m\u001b[1;33m\u001b[0m\u001b[0m\n\u001b[1;32m--> 393\u001b[1;33m         \u001b[1;32mraise\u001b[0m \u001b[0mValueError\u001b[0m\u001b[1;33m(\u001b[0m\u001b[1;34mf\"Shape of passed values is {passed}, indices imply {implied}\"\u001b[0m\u001b[1;33m)\u001b[0m\u001b[1;33m\u001b[0m\u001b[1;33m\u001b[0m\u001b[0m\n\u001b[0m\u001b[0;32m    394\u001b[0m \u001b[1;33m\u001b[0m\u001b[0m\n\u001b[0;32m    395\u001b[0m \u001b[1;33m\u001b[0m\u001b[0m\n",
      "\u001b[1;31mValueError\u001b[0m: Shape of passed values is (3054348, 67), indices imply (3054348, 65)"
     ]
    }
   ],
   "source": [
    "preproc.fit(X_train_data)\n",
    "cat_features_names = preproc.named_transformers_['cat'].get_feature_names()\n",
    "labels = np.concatenate([['onpromotion', 'dcoilwtico', 'transactions'], cat_features_names, ['cluster', 'Month', 'Weekday', 'trend', 'NewYearsDay','no_work_day']])\n",
    "\n",
    "X_train_data_trans = pd.DataFrame(preproc.transform(X_train_data), columns = labels)\n",
    "X_test_data_trans = pd.DataFrame(preproc.transform(test_data), columns = labels)"
   ]
  },
  {
   "cell_type": "code",
   "execution_count": null,
   "id": "5a032b73",
   "metadata": {},
   "outputs": [],
   "source": [
    "rfmodel = RandomForestRegressor(min_samples_split = 10)\n",
    "rfmodel.fit(X_train_data_trans[-10000:], y_train_data[-10000:])"
   ]
  },
  {
   "cell_type": "code",
   "execution_count": null,
   "id": "4a979ed4",
   "metadata": {},
   "outputs": [],
   "source": [
    "test_pred = rfmodel.predict(X_test_data_trans)"
   ]
  },
  {
   "cell_type": "code",
   "execution_count": null,
   "id": "8b7d1003",
   "metadata": {},
   "outputs": [],
   "source": [
    "test_pred[test_pred < 0] = 0"
   ]
  },
  {
   "cell_type": "code",
   "execution_count": null,
   "id": "5e6fd41d",
   "metadata": {},
   "outputs": [],
   "source": [
    "submission = pd.read_csv('sample_submission.csv')"
   ]
  },
  {
   "cell_type": "code",
   "execution_count": null,
   "id": "b94e71b0",
   "metadata": {},
   "outputs": [],
   "source": [
    "submission['sales'] = test_pred"
   ]
  },
  {
   "cell_type": "code",
   "execution_count": null,
   "id": "b79584b0",
   "metadata": {},
   "outputs": [],
   "source": [
    "submission.to_csv('submission.csv', index = False)"
   ]
  }
 ],
 "metadata": {
  "kernelspec": {
   "display_name": "Python 3 (ipykernel)",
   "language": "python",
   "name": "python3"
  },
  "language_info": {
   "codemirror_mode": {
    "name": "ipython",
    "version": 3
   },
   "file_extension": ".py",
   "mimetype": "text/x-python",
   "name": "python",
   "nbconvert_exporter": "python",
   "pygments_lexer": "ipython3",
   "version": "3.9.7"
  }
 },
 "nbformat": 4,
 "nbformat_minor": 5
}
