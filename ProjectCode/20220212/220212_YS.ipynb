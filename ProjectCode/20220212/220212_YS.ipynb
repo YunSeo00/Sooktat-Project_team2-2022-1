{
 "cells": [
  {
   "cell_type": "code",
   "execution_count": 1,
   "id": "6828c7f1",
   "metadata": {},
   "outputs": [],
   "source": [
    "import pandas as pd\n",
    "import matplotlib.pyplot as plt\n",
    "import numpy as np\n",
    "import seaborn as sns\n",
    "import warnings\n",
    "pd.set_option('mode.chained_assignment',  None)\n",
    "warnings.simplefilter(action='ignore', category=FutureWarning) # FutureWarning 제거\n"
   ]
  },
  {
   "cell_type": "code",
   "execution_count": 2,
   "id": "605575cb",
   "metadata": {},
   "outputs": [
    {
     "name": "stderr",
     "output_type": "stream",
     "text": [
      "C:\\Users\\82104\\AppData\\Local\\Temp\\ipykernel_13016\\1944733010.py:1: DtypeWarning: Columns (12) have mixed types. Specify dtype option on import or set low_memory=False.\n",
      "  train_data = pd.read_csv('train_merge_data.csv')\n"
     ]
    }
   ],
   "source": [
    "train_data = pd.read_csv('train_merge_data.csv')\n",
    "test_data = pd.read_csv('test_merge_data.csv')"
   ]
  },
  {
   "cell_type": "code",
   "execution_count": 3,
   "id": "a522ee3b",
   "metadata": {
    "colab": {
     "base_uri": "https://localhost:8080/"
    },
    "id": "oAY49D-D1RbG",
    "outputId": "2c8741db-9aff-45ec-f4f8-a26c4eb2ce62"
   },
   "outputs": [
    {
     "name": "stdout",
     "output_type": "stream",
     "text": [
      "<class 'pandas.core.frame.DataFrame'>\n",
      "RangeIndex: 3054348 entries, 0 to 3054347\n",
      "Data columns (total 24 columns):\n",
      " #   Column        Dtype  \n",
      "---  ------        -----  \n",
      " 0   Unnamed: 0    int64  \n",
      " 1   id            int64  \n",
      " 2   date          object \n",
      " 3   store_nbr     int64  \n",
      " 4   family        object \n",
      " 5   sales         float64\n",
      " 6   onpromotion   int64  \n",
      " 7   dcoilwtico    float64\n",
      " 8   type_x        object \n",
      " 9   locale        object \n",
      " 10  locale_name   object \n",
      " 11  description   object \n",
      " 12  transferred   object \n",
      " 13  transactions  float64\n",
      " 14  city          object \n",
      " 15  state         object \n",
      " 16  type_y        object \n",
      " 17  cluster       int64  \n",
      " 18  Year          int64  \n",
      " 19  Month         int64  \n",
      " 20  Weekend       int64  \n",
      " 21  Weekday       int64  \n",
      " 22  trend         int64  \n",
      " 23  NewYearsDay   bool   \n",
      "dtypes: bool(1), float64(3), int64(10), object(10)\n",
      "memory usage: 538.9+ MB\n"
     ]
    }
   ],
   "source": [
    "train_data.info()"
   ]
  },
  {
   "cell_type": "markdown",
   "id": "e71a23f9",
   "metadata": {},
   "source": [
    "### feature\n",
    "- date : 날짜\n",
    "- store_nbr : store number\n",
    "- family : 물건 종류\n",
    "- onpromotion : 프로모션 행사 제품 수\n",
    "- dcoilwtico : oil가격\n",
    "- type_x : holiday type\n",
    "  - ['Holiday', 'Empty', 'Work Day', 'Additional', 'Event', 'Transfer', 'Bridge']\n",
    "- locale : holiday가 적용되는 범위\n",
    "  - ['National', 'Empty', 'Local', 'Regional']\n",
    "- locale_name : holiday가 적용되는 지역명\n",
    "  - ['Ecuador', 'Empty', 'Manta', 'Cotopaxi', 'Cuenca', 'Libertad', 'Riobamba', 'Puyo', 'Guaranda', 'Imbabura', 'Machala', 'Latacunga','El Carmen', 'Santo Domingo', 'Cayambe', 'Guayaquil', 'Esmeraldas','Ambato', 'Ibarra', 'Quevedo', 'Santo Domingo de los Tsachilas','Santa Elena', 'Quito', 'Loja', 'Salinas']\n",
    "- description : holiday설명\n",
    "- trasnferred : 연휴 이동 여부\n",
    "- transactions : 거래량 (na값은 선형회귀모형으로 대체)\n",
    "- city : store의 city\n",
    "- state store의 주\n",
    "- type_y : store의 type\n",
    "- cluster : 소매점의 개수\n",
    "- year : 연도\n",
    "- Month :월 \n",
    "- Weekend : 주말 여부\n",
    "- Weekday : 요일 (월:0 ~ 일:6)\n",
    "- trend\n",
    "- NewYearsDay : 새해 여부\n",
    "\n",
    "### target\n",
    "- sales"
   ]
  },
  {
   "cell_type": "code",
   "execution_count": 4,
   "id": "06e5a65e",
   "metadata": {},
   "outputs": [
    {
     "data": {
      "text/html": [
       "<div>\n",
       "<style scoped>\n",
       "    .dataframe tbody tr th:only-of-type {\n",
       "        vertical-align: middle;\n",
       "    }\n",
       "\n",
       "    .dataframe tbody tr th {\n",
       "        vertical-align: top;\n",
       "    }\n",
       "\n",
       "    .dataframe thead th {\n",
       "        text-align: right;\n",
       "    }\n",
       "</style>\n",
       "<table border=\"1\" class=\"dataframe\">\n",
       "  <thead>\n",
       "    <tr style=\"text-align: right;\">\n",
       "      <th></th>\n",
       "      <th>Unnamed: 0</th>\n",
       "      <th>id</th>\n",
       "      <th>date</th>\n",
       "      <th>store_nbr</th>\n",
       "      <th>family</th>\n",
       "      <th>sales</th>\n",
       "      <th>onpromotion</th>\n",
       "      <th>dcoilwtico</th>\n",
       "      <th>type_x</th>\n",
       "      <th>locale</th>\n",
       "      <th>...</th>\n",
       "      <th>city</th>\n",
       "      <th>state</th>\n",
       "      <th>type_y</th>\n",
       "      <th>cluster</th>\n",
       "      <th>Year</th>\n",
       "      <th>Month</th>\n",
       "      <th>Weekend</th>\n",
       "      <th>Weekday</th>\n",
       "      <th>trend</th>\n",
       "      <th>NewYearsDay</th>\n",
       "    </tr>\n",
       "  </thead>\n",
       "  <tbody>\n",
       "    <tr>\n",
       "      <th>0</th>\n",
       "      <td>0</td>\n",
       "      <td>0</td>\n",
       "      <td>2013-01-01</td>\n",
       "      <td>1</td>\n",
       "      <td>AUTOMOTIVE</td>\n",
       "      <td>0.0</td>\n",
       "      <td>0</td>\n",
       "      <td>93.14</td>\n",
       "      <td>Holiday</td>\n",
       "      <td>National</td>\n",
       "      <td>...</td>\n",
       "      <td>Quito</td>\n",
       "      <td>Pichincha</td>\n",
       "      <td>D</td>\n",
       "      <td>13</td>\n",
       "      <td>2013</td>\n",
       "      <td>1</td>\n",
       "      <td>0</td>\n",
       "      <td>1</td>\n",
       "      <td>0</td>\n",
       "      <td>True</td>\n",
       "    </tr>\n",
       "    <tr>\n",
       "      <th>1</th>\n",
       "      <td>1</td>\n",
       "      <td>1</td>\n",
       "      <td>2013-01-01</td>\n",
       "      <td>1</td>\n",
       "      <td>BABY CARE</td>\n",
       "      <td>0.0</td>\n",
       "      <td>0</td>\n",
       "      <td>93.14</td>\n",
       "      <td>Holiday</td>\n",
       "      <td>National</td>\n",
       "      <td>...</td>\n",
       "      <td>Quito</td>\n",
       "      <td>Pichincha</td>\n",
       "      <td>D</td>\n",
       "      <td>13</td>\n",
       "      <td>2013</td>\n",
       "      <td>1</td>\n",
       "      <td>0</td>\n",
       "      <td>1</td>\n",
       "      <td>0</td>\n",
       "      <td>True</td>\n",
       "    </tr>\n",
       "    <tr>\n",
       "      <th>2</th>\n",
       "      <td>2</td>\n",
       "      <td>2</td>\n",
       "      <td>2013-01-01</td>\n",
       "      <td>1</td>\n",
       "      <td>BEAUTY</td>\n",
       "      <td>0.0</td>\n",
       "      <td>0</td>\n",
       "      <td>93.14</td>\n",
       "      <td>Holiday</td>\n",
       "      <td>National</td>\n",
       "      <td>...</td>\n",
       "      <td>Quito</td>\n",
       "      <td>Pichincha</td>\n",
       "      <td>D</td>\n",
       "      <td>13</td>\n",
       "      <td>2013</td>\n",
       "      <td>1</td>\n",
       "      <td>0</td>\n",
       "      <td>1</td>\n",
       "      <td>0</td>\n",
       "      <td>True</td>\n",
       "    </tr>\n",
       "    <tr>\n",
       "      <th>3</th>\n",
       "      <td>3</td>\n",
       "      <td>3</td>\n",
       "      <td>2013-01-01</td>\n",
       "      <td>1</td>\n",
       "      <td>BEVERAGES</td>\n",
       "      <td>0.0</td>\n",
       "      <td>0</td>\n",
       "      <td>93.14</td>\n",
       "      <td>Holiday</td>\n",
       "      <td>National</td>\n",
       "      <td>...</td>\n",
       "      <td>Quito</td>\n",
       "      <td>Pichincha</td>\n",
       "      <td>D</td>\n",
       "      <td>13</td>\n",
       "      <td>2013</td>\n",
       "      <td>1</td>\n",
       "      <td>0</td>\n",
       "      <td>1</td>\n",
       "      <td>0</td>\n",
       "      <td>True</td>\n",
       "    </tr>\n",
       "    <tr>\n",
       "      <th>4</th>\n",
       "      <td>4</td>\n",
       "      <td>4</td>\n",
       "      <td>2013-01-01</td>\n",
       "      <td>1</td>\n",
       "      <td>BOOKS</td>\n",
       "      <td>0.0</td>\n",
       "      <td>0</td>\n",
       "      <td>93.14</td>\n",
       "      <td>Holiday</td>\n",
       "      <td>National</td>\n",
       "      <td>...</td>\n",
       "      <td>Quito</td>\n",
       "      <td>Pichincha</td>\n",
       "      <td>D</td>\n",
       "      <td>13</td>\n",
       "      <td>2013</td>\n",
       "      <td>1</td>\n",
       "      <td>0</td>\n",
       "      <td>1</td>\n",
       "      <td>0</td>\n",
       "      <td>True</td>\n",
       "    </tr>\n",
       "  </tbody>\n",
       "</table>\n",
       "<p>5 rows × 24 columns</p>\n",
       "</div>"
      ],
      "text/plain": [
       "   Unnamed: 0  id        date  store_nbr      family  sales  onpromotion  \\\n",
       "0           0   0  2013-01-01          1  AUTOMOTIVE    0.0            0   \n",
       "1           1   1  2013-01-01          1   BABY CARE    0.0            0   \n",
       "2           2   2  2013-01-01          1      BEAUTY    0.0            0   \n",
       "3           3   3  2013-01-01          1   BEVERAGES    0.0            0   \n",
       "4           4   4  2013-01-01          1       BOOKS    0.0            0   \n",
       "\n",
       "   dcoilwtico   type_x    locale  ...   city      state type_y  cluster  Year  \\\n",
       "0       93.14  Holiday  National  ...  Quito  Pichincha      D       13  2013   \n",
       "1       93.14  Holiday  National  ...  Quito  Pichincha      D       13  2013   \n",
       "2       93.14  Holiday  National  ...  Quito  Pichincha      D       13  2013   \n",
       "3       93.14  Holiday  National  ...  Quito  Pichincha      D       13  2013   \n",
       "4       93.14  Holiday  National  ...  Quito  Pichincha      D       13  2013   \n",
       "\n",
       "  Month Weekend  Weekday  trend  NewYearsDay  \n",
       "0     1       0        1      0         True  \n",
       "1     1       0        1      0         True  \n",
       "2     1       0        1      0         True  \n",
       "3     1       0        1      0         True  \n",
       "4     1       0        1      0         True  \n",
       "\n",
       "[5 rows x 24 columns]"
      ]
     },
     "execution_count": 4,
     "metadata": {},
     "output_type": "execute_result"
    }
   ],
   "source": [
    "train_data.head()"
   ]
  },
  {
   "cell_type": "markdown",
   "id": "9ff9e59e",
   "metadata": {},
   "source": [
    "#### 1. city, state 제거\n",
    "- store_nbr에 지역 정보가 담겨있다고 해석 가능."
   ]
  },
  {
   "cell_type": "code",
   "execution_count": 5,
   "id": "8afcd065",
   "metadata": {},
   "outputs": [],
   "source": [
    "# city, state 제거\n",
    "train_data.drop(columns = ['city','state'], inplace = True)\n",
    "test_data.drop(columns = ['city', 'state'], inplace = True)"
   ]
  },
  {
   "cell_type": "markdown",
   "id": "51609270",
   "metadata": {},
   "source": [
    "#### 2. description 정보 빼내기\n",
    "- Terremoto가 포함된 행 => Earthquake\n",
    "- futbol이 포함된 행 => Football\n",
    "- Cyber Monday : 사이버 먼데이는 11월 넷째주 목요일인 미국의 추수감사절 다음주 첫 번째 월요일을 뜻하는 마케팅 용어이다. 마케팅 회사들이 연휴가 끝난 후 일상 생활에서 복귀한 소비자들에게 온라인으로 물건을 구입하도록 독려한데서 나왔다.\n",
    "- Black Friday\n",
    "- Dia de la Madre : 어머니날 (5월 8일 일요일)"
   ]
  },
  {
   "cell_type": "code",
   "execution_count": 6,
   "id": "4d444c99",
   "metadata": {},
   "outputs": [],
   "source": [
    "train_data.loc[train_data['description'].str.contains('Terremoto', na=False),'description'] = 'Earthquake'\n",
    "train_data.loc[train_data['description'].str.contains('futbol', na=False), 'description'] = 'Football'\n",
    "# test_data에는 해당정보 없음. "
   ]
  },
  {
   "cell_type": "code",
   "execution_count": 7,
   "id": "b207af56",
   "metadata": {},
   "outputs": [],
   "source": [
    "train_descriptions = pd.get_dummies(train_data['description'])[['Earthquake', 'Cyber Monday','Football', 'Black Friday', 'Dia de la Madre']]\n",
    "train_data = train_data.merge(train_descriptions, how = 'left', left_index = True, right_index = True)\n",
    "test_data['Earthquake'] = 0\n",
    "test_data['Cyber Monday'] = 0\n",
    "test_data['Football'] = 0\n",
    "test_data['Black Friday'] = 0\n",
    "test_data['Dia de la Madre'] = 0"
   ]
  },
  {
   "cell_type": "code",
   "execution_count": 8,
   "id": "7746c38e",
   "metadata": {},
   "outputs": [
    {
     "name": "stdout",
     "output_type": "stream",
     "text": [
      "(3054348, 27)\n",
      "(28512, 26)\n"
     ]
    }
   ],
   "source": [
    "print(train_data.shape)\n",
    "print(test_data.shape)"
   ]
  },
  {
   "cell_type": "markdown",
   "id": "0f799388",
   "metadata": {},
   "source": [
    "#### 3. type_x\n",
    "- 그렇게 큰 의미가 있는 정보가 없는 듯 하여 위의 나경님 코드에 Dia de la Madre(어머니날)만 추가하고, 저번주와 같은 방식으로 holiday(휴일) 정보만 빼오기로 했다."
   ]
  },
  {
   "cell_type": "code",
   "execution_count": 9,
   "id": "f859051d",
   "metadata": {},
   "outputs": [
    {
     "data": {
      "text/plain": [
       "array(['Holiday', 'Empty', 'Work Day', 'Additional', 'Event', 'Transfer',\n",
       "       'Bridge'], dtype=object)"
      ]
     },
     "execution_count": 9,
     "metadata": {},
     "output_type": "execute_result"
    }
   ],
   "source": [
    "train_data.type_x.unique()"
   ]
  },
  {
   "cell_type": "code",
   "execution_count": 10,
   "id": "f08196dc",
   "metadata": {},
   "outputs": [
    {
     "data": {
      "text/plain": [
       "array(['Dia de la Madre', 'Football', 'Black Friday', 'Cyber Monday',\n",
       "       'Earthquake'], dtype=object)"
      ]
     },
     "execution_count": 10,
     "metadata": {},
     "output_type": "execute_result"
    }
   ],
   "source": [
    "train_data[train_data.type_x == 'Event']['description'].unique()"
   ]
  },
  {
   "cell_type": "code",
   "execution_count": 11,
   "id": "478376e7",
   "metadata": {},
   "outputs": [
    {
     "data": {
      "text/plain": [
       "array(['Puente Navidad', 'Puente Primer dia del ano',\n",
       "       'Puente Dia de Difuntos'], dtype=object)"
      ]
     },
     "execution_count": 11,
     "metadata": {},
     "output_type": "execute_result"
    }
   ],
   "source": [
    "train_data[train_data.type_x == 'Bridge']['description'].unique()"
   ]
  },
  {
   "cell_type": "code",
   "execution_count": 12,
   "id": "65bb2125",
   "metadata": {},
   "outputs": [
    {
     "data": {
      "text/plain": [
       "array(['Primer dia del ano', 'Carnaval', 'Fundacion de Manta',\n",
       "       'Provincializacion de Cotopaxi', 'Fundacion de Cuenca',\n",
       "       'Cantonizacion de Libertad', 'Cantonizacion de Riobamba',\n",
       "       'Viernes Santo', 'Dia del Trabajo', 'Cantonizacion del Puyo',\n",
       "       'Batalla de Pichincha', 'Cantonizacion de Guaranda',\n",
       "       'Provincializacion de Imbabura', 'Fundacion de Machala',\n",
       "       'Cantonizacion de Latacunga', 'Cantonizacion de El Carmen',\n",
       "       'Fundacion de Santo Domingo', 'Cantonizacion de Cayambe',\n",
       "       'Fundacion de Guayaquil', 'Fundacion de Esmeraldas',\n",
       "       'Primer Grito de Independencia', 'Fundacion de Riobamba',\n",
       "       'Fundacion de Ambato', 'Fundacion de Ibarra',\n",
       "       'Cantonizacion de Quevedo', 'Independencia de Guayaquil',\n",
       "       'Dia de Difuntos', 'Independencia de Cuenca',\n",
       "       'Provincializacion de Santo Domingo',\n",
       "       'Provincializacion Santa Elena', 'Independencia de Guaranda',\n",
       "       'Independencia de Latacunga', 'Independencia de Ambato',\n",
       "       'Fundacion de Quito', 'Fundacion de Loja',\n",
       "       'Cantonizacion de Salinas', 'Fundacion de Guayaquil-1'],\n",
       "      dtype=object)"
      ]
     },
     "execution_count": 12,
     "metadata": {},
     "output_type": "execute_result"
    }
   ],
   "source": [
    "train_data[train_data.type_x == 'Holiday']['description'].unique()"
   ]
  },
  {
   "cell_type": "code",
   "execution_count": 13,
   "id": "dfc80f91",
   "metadata": {},
   "outputs": [
    {
     "data": {
      "text/plain": [
       "array(['Dia de la Madre-1', 'Fundacion de Guayaquil-1',\n",
       "       'Fundacion de Quito-1', 'Navidad-4', 'Navidad-3', 'Navidad-2',\n",
       "       'Navidad-1', 'Navidad+1', 'Primer dia del ano-1',\n",
       "       'Fundacion de Guayaquil'], dtype=object)"
      ]
     },
     "execution_count": 13,
     "metadata": {},
     "output_type": "execute_result"
    }
   ],
   "source": [
    "train_data[train_data.type_x == 'Additional']['description'].unique()"
   ]
  },
  {
   "cell_type": "code",
   "execution_count": 14,
   "id": "ec43cd80",
   "metadata": {},
   "outputs": [
    {
     "data": {
      "text/plain": [
       "array(['Traslado Independencia de Guayaquil',\n",
       "       'Traslado Batalla de Pichincha', 'Traslado Fundacion de Guayaquil',\n",
       "       'Traslado Primer Grito de Independencia',\n",
       "       'Traslado Primer dia del ano', 'Fundacion de Cuenca'], dtype=object)"
      ]
     },
     "execution_count": 14,
     "metadata": {},
     "output_type": "execute_result"
    }
   ],
   "source": [
    "train_data[train_data.type_x == 'Transfer']['description'].unique()"
   ]
  },
  {
   "cell_type": "code",
   "execution_count": 15,
   "id": "b725c372",
   "metadata": {},
   "outputs": [
    {
     "data": {
      "text/plain": [
       "array(['Recupero puente Navidad', 'Recupero puente primer dia del ano',\n",
       "       'Recupero Puente Navidad', 'Recupero Puente Primer dia del ano',\n",
       "       'Recupero Puente Dia de Difuntos'], dtype=object)"
      ]
     },
     "execution_count": 15,
     "metadata": {},
     "output_type": "execute_result"
    }
   ],
   "source": [
    "train_data[train_data.type_x == 'Work Day']['description'].unique()"
   ]
  },
  {
   "cell_type": "markdown",
   "id": "5a5688b2",
   "metadata": {},
   "source": [
    "#### 4. holiday 변수 생성(휴일) - 지난주와 동일\n",
    "- 우선 국가적인 행사는 휴일에 영향을 미치기 때문에 holiday 정보를 바로 모델에 사용하기 보다는 holiday에서 연휴가 된 날을 찾고자 했다. 따라서 National 정보만 남기고, 다른 날로 대체된 날도 제거한 뒤, type_x가 'holiday', 'additional', 'bridge'인 날만 남겼다. 이를 holiday라는 열로 만들고, 기존의 weekend(주말) column과 or 연산을 통해 no_work_day column을 만들었다. 그 뒤 holiday와 관련된 columns을 모두 drop 시켰다. test_data의 경우 위의 과정을 거쳤을 때 모든 열이 Empty가 되었기 때문에 weekend를 그대로 no_work_day로 이용했다."
   ]
  },
  {
   "cell_type": "code",
   "execution_count": 16,
   "id": "e88c9d5d",
   "metadata": {},
   "outputs": [],
   "source": [
    "# National인 holiday 정보만 남긴다.\n",
    "mask = (train_data.locale != 'National')\n",
    "train_data.type_x[mask] = 'Empty'\n",
    "train_data.locale[mask] = 'Empty'\n",
    "train_data.locale_name[mask] = 'Empty'\n",
    "train_data.transferred[mask] = 'Empty'\n",
    "\n",
    "mask = (test_data.locale != 'National')\n",
    "test_data.type_x[mask] = 'Empty'\n",
    "test_data.locale[mask] = 'Empty'\n",
    "test_data.locale_name[mask] = 'Empty'\n",
    "test_data.transferred[mask] = 'Empty'"
   ]
  },
  {
   "cell_type": "code",
   "execution_count": 17,
   "id": "c848fb56",
   "metadata": {},
   "outputs": [],
   "source": [
    "# 다른날로 대체된 날을 Empty로 변경\n",
    "mask = (train_data.transferred == 'True')\n",
    "train_data.type_x[mask] = 'Empty'\n",
    "train_data.locale[mask] = 'Empty'\n",
    "train_data.locale_name[mask] = 'Empty'\n",
    "train_data.transferred[mask] = 'Empty'\n",
    "\n",
    "mask = (test_data.transferred == 'True')\n",
    "test_data.type_x[mask] = 'Empty'\n",
    "test_data.locale[mask] = 'Empty'\n",
    "test_data.locale_name[mask] = 'Empty'\n",
    "test_data.transferred[mask] = 'Empty'"
   ]
  },
  {
   "cell_type": "code",
   "execution_count": 18,
   "id": "b5284a3b",
   "metadata": {},
   "outputs": [],
   "source": [
    "# 쉬는 날: holiday, additional, bridge\n",
    "mask = ((train_data.type_x == 'Holiday') | (train_data.type_x == 'Additional') | (train_data.type_x == 'Bridge'))\n",
    "# 주말이거나 holiday인 날을 no_work_day로 지정\n",
    "train_data['no_work_day'] = train_data['Weekend'] | mask\n",
    "# 테스트 데이터는 위의 정보가 없기 때문에 그냥 Weekend를 no_work_day로 변경\n",
    "test_data['no_work_day'] = test_data['Weekend']"
   ]
  },
  {
   "cell_type": "code",
   "execution_count": 19,
   "id": "ddf44afc",
   "metadata": {},
   "outputs": [
    {
     "name": "stdout",
     "output_type": "stream",
     "text": [
      "(3054348, 28)\n",
      "(28512, 27)\n"
     ]
    }
   ],
   "source": [
    "print(train_data.shape)\n",
    "print(test_data.shape)"
   ]
  },
  {
   "cell_type": "code",
   "execution_count": 20,
   "id": "c3c02fd2",
   "metadata": {},
   "outputs": [],
   "source": [
    "final_train_data = train_data.drop(columns = ['Unnamed: 0','id','type_x', 'locale', 'locale_name', 'transferred','Weekend','description'])\n",
    "final_test_data = test_data.drop(columns = ['Unnamed: 0', 'id','type_x', 'locale', 'locale_name', 'transferred', 'description','Weekend'])"
   ]
  },
  {
   "cell_type": "code",
   "execution_count": 21,
   "id": "9ecff3ff",
   "metadata": {},
   "outputs": [
    {
     "name": "stdout",
     "output_type": "stream",
     "text": [
      "(3054348, 20)\n",
      "(28512, 19)\n"
     ]
    }
   ],
   "source": [
    "print(final_train_data.shape)\n",
    "print(final_test_data.shape)"
   ]
  },
  {
   "cell_type": "code",
   "execution_count": 22,
   "id": "69b63cc2",
   "metadata": {},
   "outputs": [
    {
     "data": {
      "text/plain": [
       "Index(['date', 'store_nbr', 'family', 'sales', 'onpromotion', 'dcoilwtico',\n",
       "       'transactions', 'type_y', 'cluster', 'Year', 'Month', 'Weekday',\n",
       "       'trend', 'NewYearsDay', 'Earthquake', 'Cyber Monday', 'Football',\n",
       "       'Black Friday', 'Dia de la Madre', 'no_work_day'],\n",
       "      dtype='object')"
      ]
     },
     "execution_count": 22,
     "metadata": {},
     "output_type": "execute_result"
    }
   ],
   "source": [
    "final_train_data.columns"
   ]
  },
  {
   "cell_type": "code",
   "execution_count": 23,
   "id": "bbaec176",
   "metadata": {},
   "outputs": [
    {
     "data": {
      "text/plain": [
       "Index(['date', 'store_nbr', 'family', 'onpromotion', 'dcoilwtico',\n",
       "       'transactions', 'type_y', 'cluster', 'Year', 'Month', 'Weekday',\n",
       "       'trend', 'NewYearsDay', 'Earthquake', 'Cyber Monday', 'Football',\n",
       "       'Black Friday', 'Dia de la Madre', 'no_work_day'],\n",
       "      dtype='object')"
      ]
     },
     "execution_count": 23,
     "metadata": {},
     "output_type": "execute_result"
    }
   ],
   "source": [
    "final_test_data.columns"
   ]
  },
  {
   "cell_type": "code",
   "execution_count": null,
   "id": "ac989891",
   "metadata": {},
   "outputs": [],
   "source": []
  },
  {
   "cell_type": "markdown",
   "id": "9c83774d",
   "metadata": {},
   "source": [
    "**최종 전처리 데이터 추출 위치**"
   ]
  },
  {
   "cell_type": "code",
   "execution_count": 24,
   "id": "82f921d3",
   "metadata": {},
   "outputs": [],
   "source": [
    "#final_train_data.to_csv('final_train_data.csv', index = False)"
   ]
  },
  {
   "cell_type": "code",
   "execution_count": 25,
   "id": "86182510",
   "metadata": {},
   "outputs": [],
   "source": [
    "#final_test_data.to_csv('final_test_data.csv', index = False)"
   ]
  },
  {
   "cell_type": "code",
   "execution_count": 26,
   "id": "528cfed0",
   "metadata": {},
   "outputs": [
    {
     "data": {
      "text/html": [
       "<div>\n",
       "<style scoped>\n",
       "    .dataframe tbody tr th:only-of-type {\n",
       "        vertical-align: middle;\n",
       "    }\n",
       "\n",
       "    .dataframe tbody tr th {\n",
       "        vertical-align: top;\n",
       "    }\n",
       "\n",
       "    .dataframe thead th {\n",
       "        text-align: right;\n",
       "    }\n",
       "</style>\n",
       "<table border=\"1\" class=\"dataframe\">\n",
       "  <thead>\n",
       "    <tr style=\"text-align: right;\">\n",
       "      <th></th>\n",
       "      <th>date</th>\n",
       "      <th>store_nbr</th>\n",
       "      <th>family</th>\n",
       "      <th>sales</th>\n",
       "      <th>onpromotion</th>\n",
       "      <th>dcoilwtico</th>\n",
       "      <th>transactions</th>\n",
       "      <th>type_y</th>\n",
       "      <th>cluster</th>\n",
       "      <th>Year</th>\n",
       "      <th>Month</th>\n",
       "      <th>Weekday</th>\n",
       "      <th>trend</th>\n",
       "      <th>NewYearsDay</th>\n",
       "      <th>Earthquake</th>\n",
       "      <th>Cyber Monday</th>\n",
       "      <th>Football</th>\n",
       "      <th>Black Friday</th>\n",
       "      <th>Dia de la Madre</th>\n",
       "      <th>no_work_day</th>\n",
       "    </tr>\n",
       "  </thead>\n",
       "  <tbody>\n",
       "    <tr>\n",
       "      <th>0</th>\n",
       "      <td>2013-01-01</td>\n",
       "      <td>1</td>\n",
       "      <td>AUTOMOTIVE</td>\n",
       "      <td>0.000</td>\n",
       "      <td>0</td>\n",
       "      <td>93.14</td>\n",
       "      <td>1420.876311</td>\n",
       "      <td>D</td>\n",
       "      <td>13</td>\n",
       "      <td>2013</td>\n",
       "      <td>1</td>\n",
       "      <td>1</td>\n",
       "      <td>0</td>\n",
       "      <td>True</td>\n",
       "      <td>0</td>\n",
       "      <td>0</td>\n",
       "      <td>0</td>\n",
       "      <td>0</td>\n",
       "      <td>0</td>\n",
       "      <td>True</td>\n",
       "    </tr>\n",
       "    <tr>\n",
       "      <th>1</th>\n",
       "      <td>2013-01-01</td>\n",
       "      <td>1</td>\n",
       "      <td>BABY CARE</td>\n",
       "      <td>0.000</td>\n",
       "      <td>0</td>\n",
       "      <td>93.14</td>\n",
       "      <td>1420.876311</td>\n",
       "      <td>D</td>\n",
       "      <td>13</td>\n",
       "      <td>2013</td>\n",
       "      <td>1</td>\n",
       "      <td>1</td>\n",
       "      <td>0</td>\n",
       "      <td>True</td>\n",
       "      <td>0</td>\n",
       "      <td>0</td>\n",
       "      <td>0</td>\n",
       "      <td>0</td>\n",
       "      <td>0</td>\n",
       "      <td>True</td>\n",
       "    </tr>\n",
       "    <tr>\n",
       "      <th>2</th>\n",
       "      <td>2013-01-01</td>\n",
       "      <td>1</td>\n",
       "      <td>BEAUTY</td>\n",
       "      <td>0.000</td>\n",
       "      <td>0</td>\n",
       "      <td>93.14</td>\n",
       "      <td>1420.876311</td>\n",
       "      <td>D</td>\n",
       "      <td>13</td>\n",
       "      <td>2013</td>\n",
       "      <td>1</td>\n",
       "      <td>1</td>\n",
       "      <td>0</td>\n",
       "      <td>True</td>\n",
       "      <td>0</td>\n",
       "      <td>0</td>\n",
       "      <td>0</td>\n",
       "      <td>0</td>\n",
       "      <td>0</td>\n",
       "      <td>True</td>\n",
       "    </tr>\n",
       "    <tr>\n",
       "      <th>3</th>\n",
       "      <td>2013-01-01</td>\n",
       "      <td>1</td>\n",
       "      <td>BEVERAGES</td>\n",
       "      <td>0.000</td>\n",
       "      <td>0</td>\n",
       "      <td>93.14</td>\n",
       "      <td>1420.876311</td>\n",
       "      <td>D</td>\n",
       "      <td>13</td>\n",
       "      <td>2013</td>\n",
       "      <td>1</td>\n",
       "      <td>1</td>\n",
       "      <td>0</td>\n",
       "      <td>True</td>\n",
       "      <td>0</td>\n",
       "      <td>0</td>\n",
       "      <td>0</td>\n",
       "      <td>0</td>\n",
       "      <td>0</td>\n",
       "      <td>True</td>\n",
       "    </tr>\n",
       "    <tr>\n",
       "      <th>4</th>\n",
       "      <td>2013-01-01</td>\n",
       "      <td>1</td>\n",
       "      <td>BOOKS</td>\n",
       "      <td>0.000</td>\n",
       "      <td>0</td>\n",
       "      <td>93.14</td>\n",
       "      <td>1420.876311</td>\n",
       "      <td>D</td>\n",
       "      <td>13</td>\n",
       "      <td>2013</td>\n",
       "      <td>1</td>\n",
       "      <td>1</td>\n",
       "      <td>0</td>\n",
       "      <td>True</td>\n",
       "      <td>0</td>\n",
       "      <td>0</td>\n",
       "      <td>0</td>\n",
       "      <td>0</td>\n",
       "      <td>0</td>\n",
       "      <td>True</td>\n",
       "    </tr>\n",
       "    <tr>\n",
       "      <th>...</th>\n",
       "      <td>...</td>\n",
       "      <td>...</td>\n",
       "      <td>...</td>\n",
       "      <td>...</td>\n",
       "      <td>...</td>\n",
       "      <td>...</td>\n",
       "      <td>...</td>\n",
       "      <td>...</td>\n",
       "      <td>...</td>\n",
       "      <td>...</td>\n",
       "      <td>...</td>\n",
       "      <td>...</td>\n",
       "      <td>...</td>\n",
       "      <td>...</td>\n",
       "      <td>...</td>\n",
       "      <td>...</td>\n",
       "      <td>...</td>\n",
       "      <td>...</td>\n",
       "      <td>...</td>\n",
       "      <td>...</td>\n",
       "    </tr>\n",
       "    <tr>\n",
       "      <th>3054343</th>\n",
       "      <td>2017-08-15</td>\n",
       "      <td>9</td>\n",
       "      <td>POULTRY</td>\n",
       "      <td>438.133</td>\n",
       "      <td>0</td>\n",
       "      <td>47.57</td>\n",
       "      <td>2155.000000</td>\n",
       "      <td>B</td>\n",
       "      <td>6</td>\n",
       "      <td>2017</td>\n",
       "      <td>8</td>\n",
       "      <td>1</td>\n",
       "      <td>1687</td>\n",
       "      <td>False</td>\n",
       "      <td>0</td>\n",
       "      <td>0</td>\n",
       "      <td>0</td>\n",
       "      <td>0</td>\n",
       "      <td>0</td>\n",
       "      <td>False</td>\n",
       "    </tr>\n",
       "    <tr>\n",
       "      <th>3054344</th>\n",
       "      <td>2017-08-15</td>\n",
       "      <td>9</td>\n",
       "      <td>PREPARED FOODS</td>\n",
       "      <td>154.553</td>\n",
       "      <td>1</td>\n",
       "      <td>47.57</td>\n",
       "      <td>2155.000000</td>\n",
       "      <td>B</td>\n",
       "      <td>6</td>\n",
       "      <td>2017</td>\n",
       "      <td>8</td>\n",
       "      <td>1</td>\n",
       "      <td>1687</td>\n",
       "      <td>False</td>\n",
       "      <td>0</td>\n",
       "      <td>0</td>\n",
       "      <td>0</td>\n",
       "      <td>0</td>\n",
       "      <td>0</td>\n",
       "      <td>False</td>\n",
       "    </tr>\n",
       "    <tr>\n",
       "      <th>3054345</th>\n",
       "      <td>2017-08-15</td>\n",
       "      <td>9</td>\n",
       "      <td>PRODUCE</td>\n",
       "      <td>2419.729</td>\n",
       "      <td>148</td>\n",
       "      <td>47.57</td>\n",
       "      <td>2155.000000</td>\n",
       "      <td>B</td>\n",
       "      <td>6</td>\n",
       "      <td>2017</td>\n",
       "      <td>8</td>\n",
       "      <td>1</td>\n",
       "      <td>1687</td>\n",
       "      <td>False</td>\n",
       "      <td>0</td>\n",
       "      <td>0</td>\n",
       "      <td>0</td>\n",
       "      <td>0</td>\n",
       "      <td>0</td>\n",
       "      <td>False</td>\n",
       "    </tr>\n",
       "    <tr>\n",
       "      <th>3054346</th>\n",
       "      <td>2017-08-15</td>\n",
       "      <td>9</td>\n",
       "      <td>SCHOOL AND OFFICE SUPPLIES</td>\n",
       "      <td>121.000</td>\n",
       "      <td>8</td>\n",
       "      <td>47.57</td>\n",
       "      <td>2155.000000</td>\n",
       "      <td>B</td>\n",
       "      <td>6</td>\n",
       "      <td>2017</td>\n",
       "      <td>8</td>\n",
       "      <td>1</td>\n",
       "      <td>1687</td>\n",
       "      <td>False</td>\n",
       "      <td>0</td>\n",
       "      <td>0</td>\n",
       "      <td>0</td>\n",
       "      <td>0</td>\n",
       "      <td>0</td>\n",
       "      <td>False</td>\n",
       "    </tr>\n",
       "    <tr>\n",
       "      <th>3054347</th>\n",
       "      <td>2017-08-15</td>\n",
       "      <td>9</td>\n",
       "      <td>SEAFOOD</td>\n",
       "      <td>16.000</td>\n",
       "      <td>0</td>\n",
       "      <td>47.57</td>\n",
       "      <td>2155.000000</td>\n",
       "      <td>B</td>\n",
       "      <td>6</td>\n",
       "      <td>2017</td>\n",
       "      <td>8</td>\n",
       "      <td>1</td>\n",
       "      <td>1687</td>\n",
       "      <td>False</td>\n",
       "      <td>0</td>\n",
       "      <td>0</td>\n",
       "      <td>0</td>\n",
       "      <td>0</td>\n",
       "      <td>0</td>\n",
       "      <td>False</td>\n",
       "    </tr>\n",
       "  </tbody>\n",
       "</table>\n",
       "<p>3054348 rows × 20 columns</p>\n",
       "</div>"
      ],
      "text/plain": [
       "               date  store_nbr                      family     sales  \\\n",
       "0        2013-01-01          1                  AUTOMOTIVE     0.000   \n",
       "1        2013-01-01          1                   BABY CARE     0.000   \n",
       "2        2013-01-01          1                      BEAUTY     0.000   \n",
       "3        2013-01-01          1                   BEVERAGES     0.000   \n",
       "4        2013-01-01          1                       BOOKS     0.000   \n",
       "...             ...        ...                         ...       ...   \n",
       "3054343  2017-08-15          9                     POULTRY   438.133   \n",
       "3054344  2017-08-15          9              PREPARED FOODS   154.553   \n",
       "3054345  2017-08-15          9                     PRODUCE  2419.729   \n",
       "3054346  2017-08-15          9  SCHOOL AND OFFICE SUPPLIES   121.000   \n",
       "3054347  2017-08-15          9                     SEAFOOD    16.000   \n",
       "\n",
       "         onpromotion  dcoilwtico  transactions type_y  cluster  Year  Month  \\\n",
       "0                  0       93.14   1420.876311      D       13  2013      1   \n",
       "1                  0       93.14   1420.876311      D       13  2013      1   \n",
       "2                  0       93.14   1420.876311      D       13  2013      1   \n",
       "3                  0       93.14   1420.876311      D       13  2013      1   \n",
       "4                  0       93.14   1420.876311      D       13  2013      1   \n",
       "...              ...         ...           ...    ...      ...   ...    ...   \n",
       "3054343            0       47.57   2155.000000      B        6  2017      8   \n",
       "3054344            1       47.57   2155.000000      B        6  2017      8   \n",
       "3054345          148       47.57   2155.000000      B        6  2017      8   \n",
       "3054346            8       47.57   2155.000000      B        6  2017      8   \n",
       "3054347            0       47.57   2155.000000      B        6  2017      8   \n",
       "\n",
       "         Weekday  trend  NewYearsDay  Earthquake  Cyber Monday  Football  \\\n",
       "0              1      0         True           0             0         0   \n",
       "1              1      0         True           0             0         0   \n",
       "2              1      0         True           0             0         0   \n",
       "3              1      0         True           0             0         0   \n",
       "4              1      0         True           0             0         0   \n",
       "...          ...    ...          ...         ...           ...       ...   \n",
       "3054343        1   1687        False           0             0         0   \n",
       "3054344        1   1687        False           0             0         0   \n",
       "3054345        1   1687        False           0             0         0   \n",
       "3054346        1   1687        False           0             0         0   \n",
       "3054347        1   1687        False           0             0         0   \n",
       "\n",
       "         Black Friday  Dia de la Madre  no_work_day  \n",
       "0                   0                0         True  \n",
       "1                   0                0         True  \n",
       "2                   0                0         True  \n",
       "3                   0                0         True  \n",
       "4                   0                0         True  \n",
       "...               ...              ...          ...  \n",
       "3054343             0                0        False  \n",
       "3054344             0                0        False  \n",
       "3054345             0                0        False  \n",
       "3054346             0                0        False  \n",
       "3054347             0                0        False  \n",
       "\n",
       "[3054348 rows x 20 columns]"
      ]
     },
     "execution_count": 26,
     "metadata": {},
     "output_type": "execute_result"
    }
   ],
   "source": [
    "# 확인용\n",
    "pd.read_csv('final_train_data.csv')"
   ]
  },
  {
   "cell_type": "code",
   "execution_count": 27,
   "id": "5d6d438c",
   "metadata": {},
   "outputs": [
    {
     "data": {
      "text/html": [
       "<div>\n",
       "<style scoped>\n",
       "    .dataframe tbody tr th:only-of-type {\n",
       "        vertical-align: middle;\n",
       "    }\n",
       "\n",
       "    .dataframe tbody tr th {\n",
       "        vertical-align: top;\n",
       "    }\n",
       "\n",
       "    .dataframe thead th {\n",
       "        text-align: right;\n",
       "    }\n",
       "</style>\n",
       "<table border=\"1\" class=\"dataframe\">\n",
       "  <thead>\n",
       "    <tr style=\"text-align: right;\">\n",
       "      <th></th>\n",
       "      <th>date</th>\n",
       "      <th>store_nbr</th>\n",
       "      <th>family</th>\n",
       "      <th>onpromotion</th>\n",
       "      <th>dcoilwtico</th>\n",
       "      <th>transactions</th>\n",
       "      <th>type_y</th>\n",
       "      <th>cluster</th>\n",
       "      <th>Year</th>\n",
       "      <th>Month</th>\n",
       "      <th>Weekday</th>\n",
       "      <th>trend</th>\n",
       "      <th>NewYearsDay</th>\n",
       "      <th>Earthquake</th>\n",
       "      <th>Cyber Monday</th>\n",
       "      <th>Football</th>\n",
       "      <th>Black Friday</th>\n",
       "      <th>Dia de la Madre</th>\n",
       "      <th>no_work_day</th>\n",
       "    </tr>\n",
       "  </thead>\n",
       "  <tbody>\n",
       "    <tr>\n",
       "      <th>0</th>\n",
       "      <td>2017-08-16</td>\n",
       "      <td>1</td>\n",
       "      <td>AUTOMOTIVE</td>\n",
       "      <td>0</td>\n",
       "      <td>46.80</td>\n",
       "      <td>1448.259579</td>\n",
       "      <td>D</td>\n",
       "      <td>13</td>\n",
       "      <td>2017</td>\n",
       "      <td>8</td>\n",
       "      <td>2</td>\n",
       "      <td>1688</td>\n",
       "      <td>False</td>\n",
       "      <td>0</td>\n",
       "      <td>0</td>\n",
       "      <td>0</td>\n",
       "      <td>0</td>\n",
       "      <td>0</td>\n",
       "      <td>0</td>\n",
       "    </tr>\n",
       "    <tr>\n",
       "      <th>1</th>\n",
       "      <td>2017-08-16</td>\n",
       "      <td>1</td>\n",
       "      <td>BABY CARE</td>\n",
       "      <td>0</td>\n",
       "      <td>46.80</td>\n",
       "      <td>1448.259579</td>\n",
       "      <td>D</td>\n",
       "      <td>13</td>\n",
       "      <td>2017</td>\n",
       "      <td>8</td>\n",
       "      <td>2</td>\n",
       "      <td>1688</td>\n",
       "      <td>False</td>\n",
       "      <td>0</td>\n",
       "      <td>0</td>\n",
       "      <td>0</td>\n",
       "      <td>0</td>\n",
       "      <td>0</td>\n",
       "      <td>0</td>\n",
       "    </tr>\n",
       "    <tr>\n",
       "      <th>2</th>\n",
       "      <td>2017-08-16</td>\n",
       "      <td>1</td>\n",
       "      <td>BEAUTY</td>\n",
       "      <td>2</td>\n",
       "      <td>46.80</td>\n",
       "      <td>1448.259579</td>\n",
       "      <td>D</td>\n",
       "      <td>13</td>\n",
       "      <td>2017</td>\n",
       "      <td>8</td>\n",
       "      <td>2</td>\n",
       "      <td>1688</td>\n",
       "      <td>False</td>\n",
       "      <td>0</td>\n",
       "      <td>0</td>\n",
       "      <td>0</td>\n",
       "      <td>0</td>\n",
       "      <td>0</td>\n",
       "      <td>0</td>\n",
       "    </tr>\n",
       "    <tr>\n",
       "      <th>3</th>\n",
       "      <td>2017-08-16</td>\n",
       "      <td>1</td>\n",
       "      <td>BEVERAGES</td>\n",
       "      <td>20</td>\n",
       "      <td>46.80</td>\n",
       "      <td>1448.259579</td>\n",
       "      <td>D</td>\n",
       "      <td>13</td>\n",
       "      <td>2017</td>\n",
       "      <td>8</td>\n",
       "      <td>2</td>\n",
       "      <td>1688</td>\n",
       "      <td>False</td>\n",
       "      <td>0</td>\n",
       "      <td>0</td>\n",
       "      <td>0</td>\n",
       "      <td>0</td>\n",
       "      <td>0</td>\n",
       "      <td>0</td>\n",
       "    </tr>\n",
       "    <tr>\n",
       "      <th>4</th>\n",
       "      <td>2017-08-16</td>\n",
       "      <td>1</td>\n",
       "      <td>BOOKS</td>\n",
       "      <td>0</td>\n",
       "      <td>46.80</td>\n",
       "      <td>1448.259579</td>\n",
       "      <td>D</td>\n",
       "      <td>13</td>\n",
       "      <td>2017</td>\n",
       "      <td>8</td>\n",
       "      <td>2</td>\n",
       "      <td>1688</td>\n",
       "      <td>False</td>\n",
       "      <td>0</td>\n",
       "      <td>0</td>\n",
       "      <td>0</td>\n",
       "      <td>0</td>\n",
       "      <td>0</td>\n",
       "      <td>0</td>\n",
       "    </tr>\n",
       "    <tr>\n",
       "      <th>...</th>\n",
       "      <td>...</td>\n",
       "      <td>...</td>\n",
       "      <td>...</td>\n",
       "      <td>...</td>\n",
       "      <td>...</td>\n",
       "      <td>...</td>\n",
       "      <td>...</td>\n",
       "      <td>...</td>\n",
       "      <td>...</td>\n",
       "      <td>...</td>\n",
       "      <td>...</td>\n",
       "      <td>...</td>\n",
       "      <td>...</td>\n",
       "      <td>...</td>\n",
       "      <td>...</td>\n",
       "      <td>...</td>\n",
       "      <td>...</td>\n",
       "      <td>...</td>\n",
       "      <td>...</td>\n",
       "    </tr>\n",
       "    <tr>\n",
       "      <th>28507</th>\n",
       "      <td>2017-08-31</td>\n",
       "      <td>9</td>\n",
       "      <td>POULTRY</td>\n",
       "      <td>1</td>\n",
       "      <td>47.26</td>\n",
       "      <td>1986.976875</td>\n",
       "      <td>B</td>\n",
       "      <td>6</td>\n",
       "      <td>2017</td>\n",
       "      <td>8</td>\n",
       "      <td>3</td>\n",
       "      <td>1703</td>\n",
       "      <td>False</td>\n",
       "      <td>0</td>\n",
       "      <td>0</td>\n",
       "      <td>0</td>\n",
       "      <td>0</td>\n",
       "      <td>0</td>\n",
       "      <td>0</td>\n",
       "    </tr>\n",
       "    <tr>\n",
       "      <th>28508</th>\n",
       "      <td>2017-08-31</td>\n",
       "      <td>9</td>\n",
       "      <td>PREPARED FOODS</td>\n",
       "      <td>0</td>\n",
       "      <td>47.26</td>\n",
       "      <td>1986.976875</td>\n",
       "      <td>B</td>\n",
       "      <td>6</td>\n",
       "      <td>2017</td>\n",
       "      <td>8</td>\n",
       "      <td>3</td>\n",
       "      <td>1703</td>\n",
       "      <td>False</td>\n",
       "      <td>0</td>\n",
       "      <td>0</td>\n",
       "      <td>0</td>\n",
       "      <td>0</td>\n",
       "      <td>0</td>\n",
       "      <td>0</td>\n",
       "    </tr>\n",
       "    <tr>\n",
       "      <th>28509</th>\n",
       "      <td>2017-08-31</td>\n",
       "      <td>9</td>\n",
       "      <td>PRODUCE</td>\n",
       "      <td>1</td>\n",
       "      <td>47.26</td>\n",
       "      <td>1986.976875</td>\n",
       "      <td>B</td>\n",
       "      <td>6</td>\n",
       "      <td>2017</td>\n",
       "      <td>8</td>\n",
       "      <td>3</td>\n",
       "      <td>1703</td>\n",
       "      <td>False</td>\n",
       "      <td>0</td>\n",
       "      <td>0</td>\n",
       "      <td>0</td>\n",
       "      <td>0</td>\n",
       "      <td>0</td>\n",
       "      <td>0</td>\n",
       "    </tr>\n",
       "    <tr>\n",
       "      <th>28510</th>\n",
       "      <td>2017-08-31</td>\n",
       "      <td>9</td>\n",
       "      <td>SCHOOL AND OFFICE SUPPLIES</td>\n",
       "      <td>9</td>\n",
       "      <td>47.26</td>\n",
       "      <td>1986.976875</td>\n",
       "      <td>B</td>\n",
       "      <td>6</td>\n",
       "      <td>2017</td>\n",
       "      <td>8</td>\n",
       "      <td>3</td>\n",
       "      <td>1703</td>\n",
       "      <td>False</td>\n",
       "      <td>0</td>\n",
       "      <td>0</td>\n",
       "      <td>0</td>\n",
       "      <td>0</td>\n",
       "      <td>0</td>\n",
       "      <td>0</td>\n",
       "    </tr>\n",
       "    <tr>\n",
       "      <th>28511</th>\n",
       "      <td>2017-08-31</td>\n",
       "      <td>9</td>\n",
       "      <td>SEAFOOD</td>\n",
       "      <td>0</td>\n",
       "      <td>47.26</td>\n",
       "      <td>1986.976875</td>\n",
       "      <td>B</td>\n",
       "      <td>6</td>\n",
       "      <td>2017</td>\n",
       "      <td>8</td>\n",
       "      <td>3</td>\n",
       "      <td>1703</td>\n",
       "      <td>False</td>\n",
       "      <td>0</td>\n",
       "      <td>0</td>\n",
       "      <td>0</td>\n",
       "      <td>0</td>\n",
       "      <td>0</td>\n",
       "      <td>0</td>\n",
       "    </tr>\n",
       "  </tbody>\n",
       "</table>\n",
       "<p>28512 rows × 19 columns</p>\n",
       "</div>"
      ],
      "text/plain": [
       "             date  store_nbr                      family  onpromotion  \\\n",
       "0      2017-08-16          1                  AUTOMOTIVE            0   \n",
       "1      2017-08-16          1                   BABY CARE            0   \n",
       "2      2017-08-16          1                      BEAUTY            2   \n",
       "3      2017-08-16          1                   BEVERAGES           20   \n",
       "4      2017-08-16          1                       BOOKS            0   \n",
       "...           ...        ...                         ...          ...   \n",
       "28507  2017-08-31          9                     POULTRY            1   \n",
       "28508  2017-08-31          9              PREPARED FOODS            0   \n",
       "28509  2017-08-31          9                     PRODUCE            1   \n",
       "28510  2017-08-31          9  SCHOOL AND OFFICE SUPPLIES            9   \n",
       "28511  2017-08-31          9                     SEAFOOD            0   \n",
       "\n",
       "       dcoilwtico  transactions type_y  cluster  Year  Month  Weekday  trend  \\\n",
       "0           46.80   1448.259579      D       13  2017      8        2   1688   \n",
       "1           46.80   1448.259579      D       13  2017      8        2   1688   \n",
       "2           46.80   1448.259579      D       13  2017      8        2   1688   \n",
       "3           46.80   1448.259579      D       13  2017      8        2   1688   \n",
       "4           46.80   1448.259579      D       13  2017      8        2   1688   \n",
       "...           ...           ...    ...      ...   ...    ...      ...    ...   \n",
       "28507       47.26   1986.976875      B        6  2017      8        3   1703   \n",
       "28508       47.26   1986.976875      B        6  2017      8        3   1703   \n",
       "28509       47.26   1986.976875      B        6  2017      8        3   1703   \n",
       "28510       47.26   1986.976875      B        6  2017      8        3   1703   \n",
       "28511       47.26   1986.976875      B        6  2017      8        3   1703   \n",
       "\n",
       "       NewYearsDay  Earthquake  Cyber Monday  Football  Black Friday  \\\n",
       "0            False           0             0         0             0   \n",
       "1            False           0             0         0             0   \n",
       "2            False           0             0         0             0   \n",
       "3            False           0             0         0             0   \n",
       "4            False           0             0         0             0   \n",
       "...            ...         ...           ...       ...           ...   \n",
       "28507        False           0             0         0             0   \n",
       "28508        False           0             0         0             0   \n",
       "28509        False           0             0         0             0   \n",
       "28510        False           0             0         0             0   \n",
       "28511        False           0             0         0             0   \n",
       "\n",
       "       Dia de la Madre  no_work_day  \n",
       "0                    0            0  \n",
       "1                    0            0  \n",
       "2                    0            0  \n",
       "3                    0            0  \n",
       "4                    0            0  \n",
       "...                ...          ...  \n",
       "28507                0            0  \n",
       "28508                0            0  \n",
       "28509                0            0  \n",
       "28510                0            0  \n",
       "28511                0            0  \n",
       "\n",
       "[28512 rows x 19 columns]"
      ]
     },
     "execution_count": 27,
     "metadata": {},
     "output_type": "execute_result"
    }
   ],
   "source": [
    "# 확인용\n",
    "pd.read_csv('final_test_data.csv')"
   ]
  },
  {
   "cell_type": "code",
   "execution_count": null,
   "id": "dd8cc633",
   "metadata": {},
   "outputs": [],
   "source": []
  },
  {
   "cell_type": "code",
   "execution_count": null,
   "id": "b53ec52c",
   "metadata": {},
   "outputs": [],
   "source": []
  },
  {
   "cell_type": "markdown",
   "id": "022a863f",
   "metadata": {},
   "source": [
    "### modeling"
   ]
  },
  {
   "cell_type": "code",
   "execution_count": 24,
   "id": "a7a2df2a",
   "metadata": {},
   "outputs": [],
   "source": [
    "sub_train_data = final_train_data[train_data.date <= '2016-07-31']\n",
    "valid_data = final_train_data[train_data.date >= '2016-08-01']"
   ]
  },
  {
   "cell_type": "code",
   "execution_count": 25,
   "id": "030ebd9a",
   "metadata": {},
   "outputs": [
    {
     "name": "stdout",
     "output_type": "stream",
     "text": [
      "(3054348, 20)\n",
      "(2368278, 20)\n",
      "(686070, 20)\n",
      "(28512, 19)\n"
     ]
    }
   ],
   "source": [
    "print(final_train_data.shape)\n",
    "print(sub_train_data.shape)\n",
    "print(valid_data.shape)\n",
    "print(final_test_data.shape)"
   ]
  },
  {
   "cell_type": "code",
   "execution_count": 26,
   "id": "400c9a08",
   "metadata": {},
   "outputs": [],
   "source": [
    "# 검증 과정에서 사용할 데이터\n",
    "sub_train_data.drop(columns = ['date'], inplace = True)\n",
    "valid_data.drop(columns = ['date'], inplace = True)\n",
    "\n",
    "# 최종 모델 훈련에서 사용할 데이터\n",
    "final_train_data.drop(columns = ['date'], inplace = True)\n",
    "final_test_data.drop(columns = ['date'], inplace = True)"
   ]
  },
  {
   "cell_type": "markdown",
   "id": "b205c842",
   "metadata": {},
   "source": [
    "**sub_train, valid**"
   ]
  },
  {
   "cell_type": "code",
   "execution_count": 119,
   "id": "a062c6e1",
   "metadata": {},
   "outputs": [],
   "source": [
    "X_sub_train_data = sub_train_data.drop(columns = ['sales'])\n",
    "y_sub_train_data = sub_train_data['sales']\n",
    "\n",
    "X_valid_data = valid_data.drop(columns = ['sales'])\n",
    "y_valid_data = valid_data['sales']"
   ]
  },
  {
   "cell_type": "markdown",
   "id": "57857ff7",
   "metadata": {},
   "source": [
    "- 산점도 그리기 : https://rfriend.tistory.com/416"
   ]
  },
  {
   "cell_type": "code",
   "execution_count": 106,
   "id": "eeff142d",
   "metadata": {
    "scrolled": true
   },
   "outputs": [
    {
     "data": {
      "text/plain": [
       "array([[<AxesSubplot:xlabel='onpromotion', ylabel='onpromotion'>,\n",
       "        <AxesSubplot:xlabel='dcoilwtico', ylabel='onpromotion'>,\n",
       "        <AxesSubplot:xlabel='transactions', ylabel='onpromotion'>],\n",
       "       [<AxesSubplot:xlabel='onpromotion', ylabel='dcoilwtico'>,\n",
       "        <AxesSubplot:xlabel='dcoilwtico', ylabel='dcoilwtico'>,\n",
       "        <AxesSubplot:xlabel='transactions', ylabel='dcoilwtico'>],\n",
       "       [<AxesSubplot:xlabel='onpromotion', ylabel='transactions'>,\n",
       "        <AxesSubplot:xlabel='dcoilwtico', ylabel='transactions'>,\n",
       "        <AxesSubplot:xlabel='transactions', ylabel='transactions'>]],\n",
       "      dtype=object)"
      ]
     },
     "execution_count": 106,
     "metadata": {},
     "output_type": "execute_result"
    },
    {
     "data": {
      "image/png": "[encoded data removed]",
      "text/plain": [
       "<Figure size 432x288 with 9 Axes>"
      ]
     },
     "metadata": {
      "needs_background": "light"
     },
     "output_type": "display_data"
    }
   ],
   "source": [
    "pd.plotting.scatter_matrix(X_sub_train_data[['onpromotion', 'dcoilwtico', 'transactions']])"
   ]
  },
  {
   "cell_type": "code",
   "execution_count": 108,
   "id": "e05d565e",
   "metadata": {},
   "outputs": [
    {
     "data": {
      "text/plain": [
       "array([[<AxesSubplot:title={'center':'store_nbr'}>,\n",
       "        <AxesSubplot:title={'center':'onpromotion'}>,\n",
       "        <AxesSubplot:title={'center':'dcoilwtico'}>,\n",
       "        <AxesSubplot:title={'center':'transactions'}>],\n",
       "       [<AxesSubplot:title={'center':'cluster'}>,\n",
       "        <AxesSubplot:title={'center':'Year'}>,\n",
       "        <AxesSubplot:title={'center':'Month'}>,\n",
       "        <AxesSubplot:title={'center':'Weekday'}>],\n",
       "       [<AxesSubplot:title={'center':'trend'}>,\n",
       "        <AxesSubplot:title={'center':'Earthquake'}>,\n",
       "        <AxesSubplot:title={'center':'Cyber Monday'}>,\n",
       "        <AxesSubplot:title={'center':'Football'}>],\n",
       "       [<AxesSubplot:title={'center':'Black Friday'}>,\n",
       "        <AxesSubplot:title={'center':'Dia de la Madre'}>, <AxesSubplot:>,\n",
       "        <AxesSubplot:>]], dtype=object)"
      ]
     },
     "execution_count": 108,
     "metadata": {},
     "output_type": "execute_result"
    },
    {
     "data": {
      "image/png": "[encoded data removed]",
      "text/plain": [
       "<Figure size 1440x1080 with 16 Axes>"
      ]
     },
     "metadata": {
      "needs_background": "light"
     },
     "output_type": "display_data"
    }
   ],
   "source": [
    "X_sub_train_data.hist(bins=50, figsize=(20, 15))"
   ]
  },
  {
   "cell_type": "code",
   "execution_count": 134,
   "id": "5a85ba01",
   "metadata": {},
   "outputs": [
    {
     "data": {
      "text/plain": [
       "Index(['store_nbr', 'family', 'onpromotion', 'dcoilwtico', 'transactions',\n",
       "       'type_y', 'cluster', 'Year', 'Month', 'Weekday', 'trend', 'NewYearsDay',\n",
       "       'Earthquake', 'Cyber Monday', 'Football', 'Black Friday',\n",
       "       'Dia de la Madre', 'no_work_day'],\n",
       "      dtype='object')"
      ]
     },
     "execution_count": 134,
     "metadata": {},
     "output_type": "execute_result"
    }
   ],
   "source": [
    "X_sub_train_data.columns"
   ]
  },
  {
   "cell_type": "code",
   "execution_count": 120,
   "id": "0e477047",
   "metadata": {},
   "outputs": [],
   "source": [
    "# preprocessing\n",
    "from sklearn.compose import ColumnTransformer\n",
    "from sklearn.preprocessing import MinMaxScaler, StandardScaler, OneHotEncoder\n",
    "\n",
    "preproc = ColumnTransformer(\n",
    "    [('standard', StandardScaler(), ['transactions']),\n",
    "     ('minmax', MinMaxScaler(), ['onpromotion', 'dcoilwtico']),\n",
    "     ('cat', OneHotEncoder(sparse = False, drop = 'first'), ['store_nbr', 'family', 'type_y'])],\n",
    "     remainder = 'passthrough')\n",
    "\n",
    "preproc.fit(X_sub_train_data)\n",
    "cat_features_names = preproc.named_transformers_['cat'].get_feature_names()\n",
    "labels = np.concatenate([['transactions','onpromotion', 'dcoilwtico'], cat_features_names, ['cluster', 'Year', 'Month', 'Weekday', 'trend', 'NewYearsDay','Earthquake', 'Cyber Monday', 'Football', 'Black Friday','Dia de la Madre', 'no_work_day']])\n",
    "\n",
    "X_sub_train_data_trans = pd.DataFrame(preproc.transform(X_sub_train_data), columns = labels)\n",
    "X_valid_data_trans = pd.DataFrame(preproc.transform(X_valid_data), columns = labels)"
   ]
  },
  {
   "cell_type": "markdown",
   "id": "39bd10ad",
   "metadata": {},
   "source": [
    "##### LinearRegression"
   ]
  },
  {
   "cell_type": "code",
   "execution_count": 136,
   "id": "d0ac1287",
   "metadata": {},
   "outputs": [
    {
     "data": {
      "text/plain": [
       "LinearRegression()"
      ]
     },
     "execution_count": 136,
     "metadata": {},
     "output_type": "execute_result"
    }
   ],
   "source": [
    "# modeling\n",
    "from sklearn.linear_model import LinearRegression\n",
    "\n",
    "model = LinearRegression()\n",
    "model.fit(X_sub_train_data_trans, y_sub_train_data)"
   ]
  },
  {
   "cell_type": "code",
   "execution_count": 137,
   "id": "fe5d34de",
   "metadata": {},
   "outputs": [],
   "source": [
    "# predict\n",
    "train_pred = model.predict(X_sub_train_data_trans)\n",
    "valid_pred = model.predict(X_valid_data_trans)\n",
    "\n",
    "train_pred[train_pred < 0] = 0\n",
    "valid_pred[valid_pred < 0] = 0"
   ]
  },
  {
   "cell_type": "code",
   "execution_count": 140,
   "id": "ae84731c",
   "metadata": {},
   "outputs": [
    {
     "name": "stdout",
     "output_type": "stream",
     "text": [
      "훈련데이터 rmsle:  2.4489112119890386\n",
      "검증데이터 rmsle:  2.3055143871527894\n"
     ]
    }
   ],
   "source": [
    "from sklearn.metrics import mean_squared_log_error\n",
    "print('훈련데이터 rmsle: ', np.sqrt(mean_squared_log_error(y_sub_train_data, train_pred)))\n",
    "print('검증데이터 rmsle: ', np.sqrt(mean_squared_log_error(y_valid_data, valid_pred)))"
   ]
  },
  {
   "cell_type": "markdown",
   "id": "7f718386",
   "metadata": {},
   "source": [
    "##### RandomForest"
   ]
  },
  {
   "cell_type": "markdown",
   "id": "dcff7082",
   "metadata": {},
   "source": [
    "**1000000개만 사용**"
   ]
  },
  {
   "cell_type": "code",
   "execution_count": 141,
   "id": "13f8c88c",
   "metadata": {},
   "outputs": [
    {
     "data": {
      "text/plain": [
       "RandomForestRegressor(min_samples_split=10)"
      ]
     },
     "execution_count": 141,
     "metadata": {},
     "output_type": "execute_result"
    }
   ],
   "source": [
    "from sklearn.ensemble import RandomForestRegressor\n",
    "\n",
    "rfmodel = RandomForestRegressor(min_samples_split = 10)\n",
    "rfmodel.fit(X_sub_train_data_trans[-1000000:], y_sub_train_data[-1000000:])"
   ]
  },
  {
   "cell_type": "code",
   "execution_count": 142,
   "id": "f691f814",
   "metadata": {},
   "outputs": [],
   "source": [
    "# predict\n",
    "train_pred = rfmodel.predict(X_sub_train_data_trans)\n",
    "valid_pred = rfmodel.predict(X_valid_data_trans)\n",
    "\n",
    "train_pred[train_pred < 0] = 0\n",
    "valid_pred[valid_pred < 0] = 0"
   ]
  },
  {
   "cell_type": "code",
   "execution_count": 143,
   "id": "8a2b19c8",
   "metadata": {},
   "outputs": [
    {
     "name": "stdout",
     "output_type": "stream",
     "text": [
      "훈련데이터 rmsle:  1.1087066993529981\n",
      "검증데이터 rmsle:  0.729052152509706\n"
     ]
    }
   ],
   "source": [
    "from sklearn.metrics import mean_squared_log_error\n",
    "print('훈련데이터 rmsle: ', np.sqrt(mean_squared_log_error(y_sub_train_data, train_pred)))\n",
    "print('검증데이터 rmsle: ', np.sqrt(mean_squared_log_error(y_valid_data, valid_pred)))"
   ]
  },
  {
   "cell_type": "markdown",
   "id": "16ef23df",
   "metadata": {},
   "source": [
    "**전체 sub_train data 사용**"
   ]
  },
  {
   "cell_type": "code",
   "execution_count": 121,
   "id": "07595327",
   "metadata": {},
   "outputs": [
    {
     "data": {
      "text/plain": [
       "RandomForestRegressor(min_samples_split=10)"
      ]
     },
     "execution_count": 121,
     "metadata": {},
     "output_type": "execute_result"
    }
   ],
   "source": [
    "from sklearn.ensemble import RandomForestRegressor\n",
    "\n",
    "rfmodel = RandomForestRegressor(min_samples_split = 10)\n",
    "rfmodel.fit(X_sub_train_data_trans, y_sub_train_data)"
   ]
  },
  {
   "cell_type": "code",
   "execution_count": 122,
   "id": "bc0e8e45",
   "metadata": {},
   "outputs": [],
   "source": [
    "# predict\n",
    "train_pred = rfmodel.predict(X_sub_train_data_trans)\n",
    "valid_pred = rfmodel.predict(X_valid_data_trans)\n",
    "\n",
    "train_pred[train_pred < 0] = 0\n",
    "valid_pred[valid_pred < 0] = 0"
   ]
  },
  {
   "cell_type": "code",
   "execution_count": 123,
   "id": "4aad8023",
   "metadata": {},
   "outputs": [
    {
     "name": "stdout",
     "output_type": "stream",
     "text": [
      "훈련데이터 rmsle:  0.31105239914444327\n",
      "검증데이터 rmsle:  0.712528585812691\n"
     ]
    }
   ],
   "source": [
    "from sklearn.metrics import mean_squared_log_error\n",
    "print('훈련데이터 rmsle: ', np.sqrt(mean_squared_log_error(y_sub_train_data, train_pred)))\n",
    "print('검증데이터 rmsle: ', np.sqrt(mean_squared_log_error(y_valid_data, valid_pred)))"
   ]
  },
  {
   "cell_type": "code",
   "execution_count": null,
   "id": "f0501344",
   "metadata": {},
   "outputs": [],
   "source": []
  },
  {
   "cell_type": "markdown",
   "id": "0c39c770",
   "metadata": {},
   "source": [
    "**full_train, test**\n",
    "- family 안 묶은 상태로 전체 데이터 훈련"
   ]
  },
  {
   "cell_type": "code",
   "execution_count": 27,
   "id": "c4ae1ea7",
   "metadata": {},
   "outputs": [],
   "source": [
    "X_train_data = final_train_data.drop(columns = ['sales'])\n",
    "y_train_data = final_train_data['sales']"
   ]
  },
  {
   "cell_type": "code",
   "execution_count": 28,
   "id": "99ca9409",
   "metadata": {},
   "outputs": [
    {
     "data": {
      "text/plain": [
       "Index(['store_nbr', 'family', 'onpromotion', 'dcoilwtico', 'transactions',\n",
       "       'type_y', 'cluster', 'Year', 'Month', 'Weekday', 'trend', 'NewYearsDay',\n",
       "       'Earthquake', 'Cyber Monday', 'Football', 'Black Friday',\n",
       "       'Dia de la Madre', 'no_work_day'],\n",
       "      dtype='object')"
      ]
     },
     "execution_count": 28,
     "metadata": {},
     "output_type": "execute_result"
    }
   ],
   "source": [
    "X_train_data.columns"
   ]
  },
  {
   "cell_type": "code",
   "execution_count": 29,
   "id": "aa7857f1",
   "metadata": {},
   "outputs": [],
   "source": [
    "# preprocessing\n",
    "from sklearn.compose import ColumnTransformer\n",
    "from sklearn.preprocessing import MinMaxScaler, StandardScaler, OneHotEncoder\n",
    "\n",
    "preproc = ColumnTransformer(\n",
    "    [('standard', StandardScaler(), ['transactions']),\n",
    "     ('minmax', MinMaxScaler(), ['onpromotion', 'dcoilwtico']),\n",
    "     ('cat', OneHotEncoder(sparse = False, drop = 'first'), ['store_nbr', 'family', 'type_y'])],\n",
    "     remainder = 'passthrough')\n",
    "\n",
    "preproc.fit(X_train_data)\n",
    "cat_features_names = preproc.named_transformers_['cat'].get_feature_names()\n",
    "labels = np.concatenate([['transactions','onpromotion', 'dcoilwtico'], cat_features_names, ['cluster', 'Year', 'Month', 'Weekday', 'trend', 'NewYearsDay','Earthquake', 'Cyber Monday', 'Football', 'Black Friday','Dia de la Madre', 'no_work_day']])\n",
    "\n",
    "X_train_data_trans = pd.DataFrame(preproc.transform(X_train_data), columns = labels)\n",
    "X_test_data_trans = pd.DataFrame(preproc.transform(final_test_data), columns = labels)"
   ]
  },
  {
   "cell_type": "code",
   "execution_count": 30,
   "id": "16b0a7b2",
   "metadata": {},
   "outputs": [
    {
     "data": {
      "text/plain": [
       "RandomForestRegressor(min_samples_split=10)"
      ]
     },
     "execution_count": 30,
     "metadata": {},
     "output_type": "execute_result"
    }
   ],
   "source": [
    "from sklearn.ensemble import RandomForestRegressor\n",
    "\n",
    "rfmodel = RandomForestRegressor(min_samples_split = 10)\n",
    "rfmodel.fit(X_train_data_trans, y_train_data)"
   ]
  },
  {
   "cell_type": "code",
   "execution_count": 31,
   "id": "4be6a696",
   "metadata": {},
   "outputs": [],
   "source": [
    "train_pred = rfmodel.predict(X_train_data_trans)\n",
    "test_pred = rfmodel.predict(X_test_data_trans)\n",
    "train_pred[train_pred < 0] = 0\n",
    "test_pred[test_pred < 0] = 0"
   ]
  },
  {
   "cell_type": "code",
   "execution_count": 32,
   "id": "e5b6b8c5",
   "metadata": {},
   "outputs": [
    {
     "name": "stdout",
     "output_type": "stream",
     "text": [
      "훈련데이터 rmsle:  0.3137456349712458\n"
     ]
    }
   ],
   "source": [
    "from sklearn.metrics import mean_squared_log_error\n",
    "print('훈련데이터 rmsle: ', np.sqrt(mean_squared_log_error(y_train_data, train_pred)))"
   ]
  },
  {
   "cell_type": "code",
   "execution_count": 33,
   "id": "500318d5",
   "metadata": {},
   "outputs": [],
   "source": [
    "submission = pd.read_csv('sample_submission.csv')"
   ]
  },
  {
   "cell_type": "code",
   "execution_count": 34,
   "id": "f86b0348",
   "metadata": {},
   "outputs": [],
   "source": [
    "submission['sales'] = test_pred"
   ]
  },
  {
   "cell_type": "code",
   "execution_count": 35,
   "id": "fcf47abf",
   "metadata": {},
   "outputs": [],
   "source": [
    "submission.to_csv('submission0212.csv', index = False)"
   ]
  },
  {
   "cell_type": "code",
   "execution_count": null,
   "id": "8651a50d",
   "metadata": {},
   "outputs": [],
   "source": []
  },
  {
   "cell_type": "code",
   "execution_count": null,
   "id": "46a21d6a",
   "metadata": {},
   "outputs": [],
   "source": []
  },
  {
   "cell_type": "code",
   "execution_count": null,
   "id": "2ae64785",
   "metadata": {},
   "outputs": [],
   "source": []
  },
  {
   "cell_type": "markdown",
   "id": "772382dc",
   "metadata": {},
   "source": [
    "#### 5. family 그룹화(X)"
   ]
  },
  {
   "cell_type": "code",
   "execution_count": 76,
   "id": "bdf1d273",
   "metadata": {},
   "outputs": [
    {
     "name": "stdout",
     "output_type": "stream",
     "text": [
      "['Tools' 'LifeStyle' 'BEVERAGES' 'BREAD/BAKERY' 'CLEANING' 'DAIRY' 'Daily'\n",
      " 'FROZEN FOODS' 'GROCERY I' 'Food' 'Home' 'MEATS' 'POULTRY'\n",
      " 'PREPARED FOODS' 'PRODUCE']\n",
      "['Tools' 'LifeStyle' 'BEVERAGES' 'BREAD/BAKERY' 'CLEANING' 'DAIRY' 'Daily'\n",
      " 'FROZEN FOODS' 'GROCERY I' 'Food' 'Home' 'MEATS' 'POULTRY'\n",
      " 'PREPARED FOODS' 'PRODUCE']\n"
     ]
    }
   ],
   "source": [
    "final_train_data['family'].replace(['AUTOMOTIVE', 'HARDWARE', 'LAWN AND GARDEN', 'PLAYERS AND ELECTRONICS'], 'Tools', inplace = True)\n",
    "final_train_data['family'].replace(['BEAUTY', 'LINGERIE', 'LADIESWEAR','PERSONAL CARE','CELEBRATION','MAGAZINES','BOOKS', 'BABY CARE'], 'LifeStyle', inplace = True)\n",
    "final_train_data['family'].replace(['HOME APPLIANCES','HOME AND KITCHEN I', 'HOME AND KITCHEN II','HOME CARE','SCHOOL AND OFFICE SUPPLIES'], 'Home', inplace=True)\n",
    "final_train_data['family'].replace([ 'GROCERY II', 'PET SUPPLIES','SEAFOOD','LIQUOR,WINE,BEER'], 'Food', inplace=True)\n",
    "final_train_data['family'].replace(['DELI', 'EGGS'], 'Daily', inplace=True)\n",
    "\n",
    "final_test_data['family'].replace(['AUTOMOTIVE', 'HARDWARE', 'LAWN AND GARDEN', 'PLAYERS AND ELECTRONICS'], 'Tools', inplace = True)\n",
    "final_test_data['family'].replace(['BEAUTY', 'LINGERIE', 'LADIESWEAR','PERSONAL CARE','CELEBRATION','MAGAZINES','BOOKS', 'BABY CARE'], 'LifeStyle', inplace = True)\n",
    "final_test_data['family'].replace(['HOME APPLIANCES','HOME AND KITCHEN I', 'HOME AND KITCHEN II','HOME CARE','SCHOOL AND OFFICE SUPPLIES'], 'Home', inplace=True)\n",
    "final_test_data['family'].replace([ 'GROCERY II', 'PET SUPPLIES','SEAFOOD','LIQUOR,WINE,BEER'], 'Food', inplace=True)\n",
    "final_test_data['family'].replace(['DELI', 'EGGS'], 'Daily', inplace=True)\n",
    "\n",
    "print(final_train_data['family'].unique())\n",
    "print(final_test_data['family'].unique())"
   ]
  },
  {
   "cell_type": "markdown",
   "id": "a7bbc582",
   "metadata": {},
   "source": [
    "### modeling"
   ]
  },
  {
   "cell_type": "code",
   "execution_count": 77,
   "id": "041fb5ac",
   "metadata": {},
   "outputs": [],
   "source": [
    "sub_train_data = final_train_data[train_data.date <= '2016-07-31']\n",
    "valid_data = final_train_data[train_data.date >= '2016-08-01']"
   ]
  },
  {
   "cell_type": "code",
   "execution_count": 78,
   "id": "f5f67425",
   "metadata": {},
   "outputs": [
    {
     "name": "stdout",
     "output_type": "stream",
     "text": [
      "(3054348, 20)\n",
      "(2368278, 20)\n",
      "(686070, 20)\n",
      "(28512, 19)\n"
     ]
    }
   ],
   "source": [
    "print(final_train_data.shape)\n",
    "print(sub_train_data.shape)\n",
    "print(valid_data.shape)\n",
    "print(final_test_data.shape)"
   ]
  },
  {
   "cell_type": "code",
   "execution_count": 79,
   "id": "e69de12e",
   "metadata": {},
   "outputs": [
    {
     "data": {
      "text/plain": [
       "array(['Tools', 'LifeStyle', 'BEVERAGES', 'BREAD/BAKERY', 'CLEANING',\n",
       "       'DAIRY', 'Daily', 'FROZEN FOODS', 'GROCERY I', 'Food', 'Home',\n",
       "       'MEATS', 'POULTRY', 'PREPARED FOODS', 'PRODUCE'], dtype=object)"
      ]
     },
     "execution_count": 79,
     "metadata": {},
     "output_type": "execute_result"
    }
   ],
   "source": [
    "sub_train_data['family'].unique()"
   ]
  },
  {
   "cell_type": "code",
   "execution_count": 80,
   "id": "0ed19d49",
   "metadata": {},
   "outputs": [
    {
     "data": {
      "text/plain": [
       "array(['Tools', 'LifeStyle', 'BEVERAGES', 'BREAD/BAKERY', 'CLEANING',\n",
       "       'DAIRY', 'Daily', 'FROZEN FOODS', 'GROCERY I', 'Food', 'Home',\n",
       "       'MEATS', 'POULTRY', 'PREPARED FOODS', 'PRODUCE'], dtype=object)"
      ]
     },
     "execution_count": 80,
     "metadata": {},
     "output_type": "execute_result"
    }
   ],
   "source": [
    "final_test_data['family'].unique()"
   ]
  },
  {
   "cell_type": "code",
   "execution_count": 81,
   "id": "3dd03014",
   "metadata": {},
   "outputs": [],
   "source": [
    "# 검증 과정에서 사용할 데이터\n",
    "sub_train_data.drop(columns = ['date'], inplace = True)\n",
    "valid_data.drop(columns = ['date'], inplace = True)\n",
    "# 최종 모델 훈련에서 사용할 데이터\n",
    "final_train_data.drop(columns = ['date'], inplace = True)\n",
    "final_test_data.drop(columns = ['date'], inplace = True)"
   ]
  },
  {
   "cell_type": "markdown",
   "id": "24fc172a",
   "metadata": {},
   "source": [
    "**sub_train, valid**"
   ]
  },
  {
   "cell_type": "code",
   "execution_count": 82,
   "id": "2eadf8fb",
   "metadata": {},
   "outputs": [],
   "source": [
    "X_sub_train_data = sub_train_data.drop(columns = ['sales'])\n",
    "y_sub_train_data = sub_train_data['sales']\n",
    "\n",
    "X_valid_data = valid_data.drop(columns = ['sales'])\n",
    "y_valid_data = valid_data['sales']"
   ]
  },
  {
   "cell_type": "code",
   "execution_count": 83,
   "id": "0cec027f",
   "metadata": {},
   "outputs": [],
   "source": [
    "# preprocessing\n",
    "from sklearn.compose import ColumnTransformer\n",
    "from sklearn.preprocessing import MinMaxScaler, StandardScaler, OneHotEncoder\n",
    "\n",
    "preproc = ColumnTransformer(\n",
    "    [('standard', StandardScaler(), ['transactions']),\n",
    "     ('minmax', MinMaxScaler(), ['onpromotion', 'dcoilwtico']),\n",
    "     ('cat', OneHotEncoder(sparse = False, drop = 'first'), ['store_nbr', 'family', 'type_y'])],\n",
    "     remainder = 'passthrough')\n",
    "\n",
    "preproc.fit(X_sub_train_data)\n",
    "cat_features_names = preproc.named_transformers_['cat'].get_feature_names()\n",
    "labels = np.concatenate([['transactions','onpromotion', 'dcoilwtico'], cat_features_names, ['cluster', 'Year', 'Month', 'Weekday', 'trend', 'NewYearsDay','Earthquake', 'Cyber Monday', 'Football', 'Black Friday','Dia de la Madre', 'no_work_day']])\n",
    "\n",
    "X_sub_train_data_trans = pd.DataFrame(preproc.transform(X_sub_train_data), columns = labels)\n",
    "X_valid_data_trans = pd.DataFrame(preproc.transform(X_valid_data), columns = labels)"
   ]
  },
  {
   "cell_type": "markdown",
   "id": "de47a720",
   "metadata": {},
   "source": [
    "**Linear Regression**"
   ]
  },
  {
   "cell_type": "code",
   "execution_count": 85,
   "id": "d8a2a823",
   "metadata": {},
   "outputs": [
    {
     "data": {
      "text/plain": [
       "LinearRegression()"
      ]
     },
     "execution_count": 85,
     "metadata": {},
     "output_type": "execute_result"
    }
   ],
   "source": [
    "# modeling\n",
    "from sklearn.linear_model import LinearRegression\n",
    "\n",
    "model = LinearRegression()\n",
    "model.fit(X_sub_train_data_trans, y_sub_train_data)"
   ]
  },
  {
   "cell_type": "code",
   "execution_count": 86,
   "id": "9437a4e5",
   "metadata": {},
   "outputs": [],
   "source": [
    "# predict\n",
    "train_pred = model.predict(X_sub_train_data_trans)\n",
    "valid_pred = model.predict(X_valid_data_trans)\n",
    "\n",
    "train_pred[train_pred < 0] = 0\n",
    "valid_pred[valid_pred < 0] = 0"
   ]
  },
  {
   "cell_type": "code",
   "execution_count": 87,
   "id": "d8654dd9",
   "metadata": {},
   "outputs": [
    {
     "name": "stdout",
     "output_type": "stream",
     "text": [
      "훈련데이터 rmsle:  2.5815920597190765\n",
      "검증데이터 rmsle:  2.417274741334595\n"
     ]
    }
   ],
   "source": [
    "from sklearn.metrics import mean_squared_log_error\n",
    "print('훈련데이터 rmsle: ', np.sqrt(mean_squared_log_error(y_sub_train_data, train_pred)))\n",
    "print('검증데이터 rmsle: ', np.sqrt(mean_squared_log_error(y_valid_data, valid_pred)))"
   ]
  },
  {
   "cell_type": "markdown",
   "id": "8ad9aef2",
   "metadata": {},
   "source": [
    "**RandomForest**"
   ]
  },
  {
   "cell_type": "markdown",
   "id": "c64cd4b0",
   "metadata": {},
   "source": [
    "**1000000개만 사용**"
   ]
  },
  {
   "cell_type": "code",
   "execution_count": 88,
   "id": "48752bce",
   "metadata": {},
   "outputs": [
    {
     "data": {
      "text/plain": [
       "RandomForestRegressor(min_samples_split=10)"
      ]
     },
     "execution_count": 88,
     "metadata": {},
     "output_type": "execute_result"
    }
   ],
   "source": [
    "from sklearn.ensemble import RandomForestRegressor\n",
    "\n",
    "rfmodel = RandomForestRegressor(min_samples_split = 10)\n",
    "rfmodel.fit(X_sub_train_data_trans[-1000000:], y_sub_train_data[-1000000:])"
   ]
  },
  {
   "cell_type": "code",
   "execution_count": 89,
   "id": "41772726",
   "metadata": {},
   "outputs": [],
   "source": [
    "# predict\n",
    "train_pred = rfmodel.predict(X_sub_train_data_trans)\n",
    "valid_pred = rfmodel.predict(X_valid_data_trans)\n",
    "\n",
    "train_pred[train_pred < 0] = 0\n",
    "valid_pred[valid_pred < 0] = 0"
   ]
  },
  {
   "cell_type": "code",
   "execution_count": 90,
   "id": "61a46387",
   "metadata": {},
   "outputs": [
    {
     "name": "stdout",
     "output_type": "stream",
     "text": [
      "훈련데이터 rmsle:  1.8723167115472557\n",
      "검증데이터 rmsle:  1.3354254075548169\n"
     ]
    }
   ],
   "source": [
    "from sklearn.metrics import mean_squared_log_error\n",
    "print('훈련데이터 rmsle: ', np.sqrt(mean_squared_log_error(y_sub_train_data, train_pred)))\n",
    "print('검증데이터 rmsle: ', np.sqrt(mean_squared_log_error(y_valid_data, valid_pred)))"
   ]
  },
  {
   "cell_type": "markdown",
   "id": "1968d902",
   "metadata": {},
   "source": [
    "**전체 sub_train_data 사용**"
   ]
  },
  {
   "cell_type": "code",
   "execution_count": 91,
   "id": "ee269498",
   "metadata": {},
   "outputs": [
    {
     "data": {
      "text/plain": [
       "RandomForestRegressor(min_samples_split=10)"
      ]
     },
     "execution_count": 91,
     "metadata": {},
     "output_type": "execute_result"
    }
   ],
   "source": [
    "from sklearn.ensemble import RandomForestRegressor\n",
    "\n",
    "rfmodel = RandomForestRegressor(min_samples_split = 10)\n",
    "rfmodel.fit(X_sub_train_data_trans, y_sub_train_data)"
   ]
  },
  {
   "cell_type": "code",
   "execution_count": 92,
   "id": "a232d620",
   "metadata": {},
   "outputs": [],
   "source": [
    "# predict\n",
    "train_pred = rfmodel2.predict(X_sub_train_data_trans)\n",
    "valid_pred = rfmodel2.predict(X_valid_data_trans)\n",
    "\n",
    "train_pred[train_pred < 0] = 0\n",
    "valid_pred[valid_pred < 0] = 0"
   ]
  },
  {
   "cell_type": "code",
   "execution_count": 93,
   "id": "c79e0b22",
   "metadata": {},
   "outputs": [
    {
     "name": "stdout",
     "output_type": "stream",
     "text": [
      "훈련데이터 rmsle:  1.4712482650871497\n",
      "검증데이터 rmsle:  1.3224204508004491\n"
     ]
    }
   ],
   "source": [
    "from sklearn.metrics import mean_squared_log_error\n",
    "print('훈련데이터 rmsle: ', np.sqrt(mean_squared_log_error(y_sub_train_data, train_pred)))\n",
    "print('검증데이터 rmsle: ', np.sqrt(mean_squared_log_error(y_valid_data, valid_pred)))"
   ]
  },
  {
   "cell_type": "code",
   "execution_count": null,
   "id": "1ca75e1b",
   "metadata": {},
   "outputs": [],
   "source": []
  },
  {
   "cell_type": "code",
   "execution_count": null,
   "id": "a0fc7d49",
   "metadata": {},
   "outputs": [],
   "source": []
  },
  {
   "cell_type": "code",
   "execution_count": null,
   "id": "3aca9ce4",
   "metadata": {},
   "outputs": [],
   "source": []
  },
  {
   "cell_type": "markdown",
   "id": "8f6aa596",
   "metadata": {},
   "source": [
    "#### 6. 푸리에 변환(Fourier transform)\n"
   ]
  },
  {
   "cell_type": "code",
   "execution_count": 183,
   "id": "63f20522",
   "metadata": {},
   "outputs": [
    {
     "data": {
      "text/html": [
       "<div>\n",
       "<style scoped>\n",
       "    .dataframe tbody tr th:only-of-type {\n",
       "        vertical-align: middle;\n",
       "    }\n",
       "\n",
       "    .dataframe tbody tr th {\n",
       "        vertical-align: top;\n",
       "    }\n",
       "\n",
       "    .dataframe thead th {\n",
       "        text-align: right;\n",
       "    }\n",
       "</style>\n",
       "<table border=\"1\" class=\"dataframe\">\n",
       "  <thead>\n",
       "    <tr style=\"text-align: right;\">\n",
       "      <th></th>\n",
       "      <th>date</th>\n",
       "      <th>store_nbr</th>\n",
       "      <th>family</th>\n",
       "      <th>sales</th>\n",
       "      <th>onpromotion</th>\n",
       "      <th>dcoilwtico</th>\n",
       "      <th>transactions</th>\n",
       "      <th>type_y</th>\n",
       "      <th>cluster</th>\n",
       "      <th>Year</th>\n",
       "      <th>Month</th>\n",
       "      <th>Weekday</th>\n",
       "      <th>trend</th>\n",
       "      <th>NewYearsDay</th>\n",
       "      <th>Earthquake</th>\n",
       "      <th>Cyber Monday</th>\n",
       "      <th>Football</th>\n",
       "      <th>Black Friday</th>\n",
       "      <th>Dia de la Madre</th>\n",
       "      <th>no_work_day</th>\n",
       "    </tr>\n",
       "  </thead>\n",
       "  <tbody>\n",
       "    <tr>\n",
       "      <th>0</th>\n",
       "      <td>2013-01-01</td>\n",
       "      <td>1</td>\n",
       "      <td>AUTOMOTIVE</td>\n",
       "      <td>0.0</td>\n",
       "      <td>0</td>\n",
       "      <td>93.14</td>\n",
       "      <td>1420.876311</td>\n",
       "      <td>D</td>\n",
       "      <td>13</td>\n",
       "      <td>2013</td>\n",
       "      <td>1</td>\n",
       "      <td>1</td>\n",
       "      <td>0</td>\n",
       "      <td>True</td>\n",
       "      <td>0</td>\n",
       "      <td>0</td>\n",
       "      <td>0</td>\n",
       "      <td>0</td>\n",
       "      <td>0</td>\n",
       "      <td>True</td>\n",
       "    </tr>\n",
       "    <tr>\n",
       "      <th>1</th>\n",
       "      <td>2013-01-01</td>\n",
       "      <td>1</td>\n",
       "      <td>BABY CARE</td>\n",
       "      <td>0.0</td>\n",
       "      <td>0</td>\n",
       "      <td>93.14</td>\n",
       "      <td>1420.876311</td>\n",
       "      <td>D</td>\n",
       "      <td>13</td>\n",
       "      <td>2013</td>\n",
       "      <td>1</td>\n",
       "      <td>1</td>\n",
       "      <td>0</td>\n",
       "      <td>True</td>\n",
       "      <td>0</td>\n",
       "      <td>0</td>\n",
       "      <td>0</td>\n",
       "      <td>0</td>\n",
       "      <td>0</td>\n",
       "      <td>True</td>\n",
       "    </tr>\n",
       "    <tr>\n",
       "      <th>2</th>\n",
       "      <td>2013-01-01</td>\n",
       "      <td>1</td>\n",
       "      <td>BEAUTY</td>\n",
       "      <td>0.0</td>\n",
       "      <td>0</td>\n",
       "      <td>93.14</td>\n",
       "      <td>1420.876311</td>\n",
       "      <td>D</td>\n",
       "      <td>13</td>\n",
       "      <td>2013</td>\n",
       "      <td>1</td>\n",
       "      <td>1</td>\n",
       "      <td>0</td>\n",
       "      <td>True</td>\n",
       "      <td>0</td>\n",
       "      <td>0</td>\n",
       "      <td>0</td>\n",
       "      <td>0</td>\n",
       "      <td>0</td>\n",
       "      <td>True</td>\n",
       "    </tr>\n",
       "    <tr>\n",
       "      <th>3</th>\n",
       "      <td>2013-01-01</td>\n",
       "      <td>1</td>\n",
       "      <td>BEVERAGES</td>\n",
       "      <td>0.0</td>\n",
       "      <td>0</td>\n",
       "      <td>93.14</td>\n",
       "      <td>1420.876311</td>\n",
       "      <td>D</td>\n",
       "      <td>13</td>\n",
       "      <td>2013</td>\n",
       "      <td>1</td>\n",
       "      <td>1</td>\n",
       "      <td>0</td>\n",
       "      <td>True</td>\n",
       "      <td>0</td>\n",
       "      <td>0</td>\n",
       "      <td>0</td>\n",
       "      <td>0</td>\n",
       "      <td>0</td>\n",
       "      <td>True</td>\n",
       "    </tr>\n",
       "    <tr>\n",
       "      <th>4</th>\n",
       "      <td>2013-01-01</td>\n",
       "      <td>1</td>\n",
       "      <td>BOOKS</td>\n",
       "      <td>0.0</td>\n",
       "      <td>0</td>\n",
       "      <td>93.14</td>\n",
       "      <td>1420.876311</td>\n",
       "      <td>D</td>\n",
       "      <td>13</td>\n",
       "      <td>2013</td>\n",
       "      <td>1</td>\n",
       "      <td>1</td>\n",
       "      <td>0</td>\n",
       "      <td>True</td>\n",
       "      <td>0</td>\n",
       "      <td>0</td>\n",
       "      <td>0</td>\n",
       "      <td>0</td>\n",
       "      <td>0</td>\n",
       "      <td>True</td>\n",
       "    </tr>\n",
       "  </tbody>\n",
       "</table>\n",
       "</div>"
      ],
      "text/plain": [
       "         date  store_nbr      family  sales  onpromotion  dcoilwtico  \\\n",
       "0  2013-01-01          1  AUTOMOTIVE    0.0            0       93.14   \n",
       "1  2013-01-01          1   BABY CARE    0.0            0       93.14   \n",
       "2  2013-01-01          1      BEAUTY    0.0            0       93.14   \n",
       "3  2013-01-01          1   BEVERAGES    0.0            0       93.14   \n",
       "4  2013-01-01          1       BOOKS    0.0            0       93.14   \n",
       "\n",
       "   transactions type_y  cluster  Year  Month  Weekday  trend  NewYearsDay  \\\n",
       "0   1420.876311      D       13  2013      1        1      0         True   \n",
       "1   1420.876311      D       13  2013      1        1      0         True   \n",
       "2   1420.876311      D       13  2013      1        1      0         True   \n",
       "3   1420.876311      D       13  2013      1        1      0         True   \n",
       "4   1420.876311      D       13  2013      1        1      0         True   \n",
       "\n",
       "   Earthquake  Cyber Monday  Football  Black Friday  Dia de la Madre  \\\n",
       "0           0             0         0             0                0   \n",
       "1           0             0         0             0                0   \n",
       "2           0             0         0             0                0   \n",
       "3           0             0         0             0                0   \n",
       "4           0             0         0             0                0   \n",
       "\n",
       "   no_work_day  \n",
       "0         True  \n",
       "1         True  \n",
       "2         True  \n",
       "3         True  \n",
       "4         True  "
      ]
     },
     "execution_count": 183,
     "metadata": {},
     "output_type": "execute_result"
    }
   ],
   "source": [
    "final_train_data.head()"
   ]
  },
  {
   "cell_type": "code",
   "execution_count": 184,
   "id": "638c6ff3",
   "metadata": {},
   "outputs": [
    {
     "data": {
      "text/html": [
       "<div>\n",
       "<style scoped>\n",
       "    .dataframe tbody tr th:only-of-type {\n",
       "        vertical-align: middle;\n",
       "    }\n",
       "\n",
       "    .dataframe tbody tr th {\n",
       "        vertical-align: top;\n",
       "    }\n",
       "\n",
       "    .dataframe thead th {\n",
       "        text-align: right;\n",
       "    }\n",
       "</style>\n",
       "<table border=\"1\" class=\"dataframe\">\n",
       "  <thead>\n",
       "    <tr style=\"text-align: right;\">\n",
       "      <th></th>\n",
       "      <th>date</th>\n",
       "      <th>store_nbr</th>\n",
       "      <th>family</th>\n",
       "      <th>onpromotion</th>\n",
       "      <th>dcoilwtico</th>\n",
       "      <th>transactions</th>\n",
       "      <th>type_y</th>\n",
       "      <th>cluster</th>\n",
       "      <th>Year</th>\n",
       "      <th>Month</th>\n",
       "      <th>Weekday</th>\n",
       "      <th>trend</th>\n",
       "      <th>NewYearsDay</th>\n",
       "      <th>Earthquake</th>\n",
       "      <th>Cyber Monday</th>\n",
       "      <th>Football</th>\n",
       "      <th>Black Friday</th>\n",
       "      <th>Dia de la Madre</th>\n",
       "      <th>no_work_day</th>\n",
       "    </tr>\n",
       "  </thead>\n",
       "  <tbody>\n",
       "    <tr>\n",
       "      <th>0</th>\n",
       "      <td>2017-08-16</td>\n",
       "      <td>1</td>\n",
       "      <td>AUTOMOTIVE</td>\n",
       "      <td>0</td>\n",
       "      <td>46.8</td>\n",
       "      <td>1448.259579</td>\n",
       "      <td>D</td>\n",
       "      <td>13</td>\n",
       "      <td>2017</td>\n",
       "      <td>8</td>\n",
       "      <td>2</td>\n",
       "      <td>1688</td>\n",
       "      <td>False</td>\n",
       "      <td>0</td>\n",
       "      <td>0</td>\n",
       "      <td>0</td>\n",
       "      <td>0</td>\n",
       "      <td>0</td>\n",
       "      <td>0</td>\n",
       "    </tr>\n",
       "    <tr>\n",
       "      <th>1</th>\n",
       "      <td>2017-08-16</td>\n",
       "      <td>1</td>\n",
       "      <td>BABY CARE</td>\n",
       "      <td>0</td>\n",
       "      <td>46.8</td>\n",
       "      <td>1448.259579</td>\n",
       "      <td>D</td>\n",
       "      <td>13</td>\n",
       "      <td>2017</td>\n",
       "      <td>8</td>\n",
       "      <td>2</td>\n",
       "      <td>1688</td>\n",
       "      <td>False</td>\n",
       "      <td>0</td>\n",
       "      <td>0</td>\n",
       "      <td>0</td>\n",
       "      <td>0</td>\n",
       "      <td>0</td>\n",
       "      <td>0</td>\n",
       "    </tr>\n",
       "    <tr>\n",
       "      <th>2</th>\n",
       "      <td>2017-08-16</td>\n",
       "      <td>1</td>\n",
       "      <td>BEAUTY</td>\n",
       "      <td>2</td>\n",
       "      <td>46.8</td>\n",
       "      <td>1448.259579</td>\n",
       "      <td>D</td>\n",
       "      <td>13</td>\n",
       "      <td>2017</td>\n",
       "      <td>8</td>\n",
       "      <td>2</td>\n",
       "      <td>1688</td>\n",
       "      <td>False</td>\n",
       "      <td>0</td>\n",
       "      <td>0</td>\n",
       "      <td>0</td>\n",
       "      <td>0</td>\n",
       "      <td>0</td>\n",
       "      <td>0</td>\n",
       "    </tr>\n",
       "    <tr>\n",
       "      <th>3</th>\n",
       "      <td>2017-08-16</td>\n",
       "      <td>1</td>\n",
       "      <td>BEVERAGES</td>\n",
       "      <td>20</td>\n",
       "      <td>46.8</td>\n",
       "      <td>1448.259579</td>\n",
       "      <td>D</td>\n",
       "      <td>13</td>\n",
       "      <td>2017</td>\n",
       "      <td>8</td>\n",
       "      <td>2</td>\n",
       "      <td>1688</td>\n",
       "      <td>False</td>\n",
       "      <td>0</td>\n",
       "      <td>0</td>\n",
       "      <td>0</td>\n",
       "      <td>0</td>\n",
       "      <td>0</td>\n",
       "      <td>0</td>\n",
       "    </tr>\n",
       "    <tr>\n",
       "      <th>4</th>\n",
       "      <td>2017-08-16</td>\n",
       "      <td>1</td>\n",
       "      <td>BOOKS</td>\n",
       "      <td>0</td>\n",
       "      <td>46.8</td>\n",
       "      <td>1448.259579</td>\n",
       "      <td>D</td>\n",
       "      <td>13</td>\n",
       "      <td>2017</td>\n",
       "      <td>8</td>\n",
       "      <td>2</td>\n",
       "      <td>1688</td>\n",
       "      <td>False</td>\n",
       "      <td>0</td>\n",
       "      <td>0</td>\n",
       "      <td>0</td>\n",
       "      <td>0</td>\n",
       "      <td>0</td>\n",
       "      <td>0</td>\n",
       "    </tr>\n",
       "  </tbody>\n",
       "</table>\n",
       "</div>"
      ],
      "text/plain": [
       "         date  store_nbr      family  onpromotion  dcoilwtico  transactions  \\\n",
       "0  2017-08-16          1  AUTOMOTIVE            0        46.8   1448.259579   \n",
       "1  2017-08-16          1   BABY CARE            0        46.8   1448.259579   \n",
       "2  2017-08-16          1      BEAUTY            2        46.8   1448.259579   \n",
       "3  2017-08-16          1   BEVERAGES           20        46.8   1448.259579   \n",
       "4  2017-08-16          1       BOOKS            0        46.8   1448.259579   \n",
       "\n",
       "  type_y  cluster  Year  Month  Weekday  trend  NewYearsDay  Earthquake  \\\n",
       "0      D       13  2017      8        2   1688        False           0   \n",
       "1      D       13  2017      8        2   1688        False           0   \n",
       "2      D       13  2017      8        2   1688        False           0   \n",
       "3      D       13  2017      8        2   1688        False           0   \n",
       "4      D       13  2017      8        2   1688        False           0   \n",
       "\n",
       "   Cyber Monday  Football  Black Friday  Dia de la Madre  no_work_day  \n",
       "0             0         0             0                0            0  \n",
       "1             0         0             0                0            0  \n",
       "2             0         0             0                0            0  \n",
       "3             0         0             0                0            0  \n",
       "4             0         0             0                0            0  "
      ]
     },
     "execution_count": 184,
     "metadata": {},
     "output_type": "execute_result"
    }
   ],
   "source": [
    "final_test_data.head()"
   ]
  },
  {
   "cell_type": "code",
   "execution_count": 185,
   "id": "c1e7cfc2",
   "metadata": {},
   "outputs": [],
   "source": [
    "from datetime import datetime, timedelta\n",
    "\n",
    "def date_range(start, end):\n",
    "    start = datetime.strptime(start, \"%Y-%m-%d\")\n",
    "    end = datetime.strptime(end, \"%Y-%m-%d\")\n",
    "    dates = [(start + timedelta(days=i)).strftime(\"%Y-%m-%d\") for i in range((end-start).days+1)]\n",
    "    return dates\n",
    "\n",
    "dates = date_range(\"2013-01-01\", \"2017-08-16\")\n",
    "#print(dates)"
   ]
  },
  {
   "cell_type": "code",
   "execution_count": 186,
   "id": "d6e0fa34",
   "metadata": {},
   "outputs": [],
   "source": [
    "# CalendarFourier\n",
    "from statsmodels.tsa.deterministic import CalendarFourier\n",
    "\n",
    "index = pd.DatetimeIndex(pd.to_datetime(dates))\n",
    "\n",
    "cal_fourier_gen = CalendarFourier(freq = \"A\", order = 5)\n",
    "fourier_lst = cal_fourier_gen.in_sample(index).head()\n",
    "fourier_lst = fourier_lst.reset_index()"
   ]
  },
  {
   "cell_type": "code",
   "execution_count": 187,
   "id": "35b5dbab",
   "metadata": {},
   "outputs": [],
   "source": [
    "fourier_lst.columns = ['date']+['fourier_'+ str(i) for i in range(1,11)] "
   ]
  },
  {
   "cell_type": "code",
   "execution_count": 188,
   "id": "092a752d",
   "metadata": {},
   "outputs": [
    {
     "data": {
      "text/plain": [
       "Index(['date', 'fourier_1', 'fourier_2', 'fourier_3', 'fourier_4', 'fourier_5',\n",
       "       'fourier_6', 'fourier_7', 'fourier_8', 'fourier_9', 'fourier_10'],\n",
       "      dtype='object')"
      ]
     },
     "execution_count": 188,
     "metadata": {},
     "output_type": "execute_result"
    }
   ],
   "source": [
    "fourier_lst.columns"
   ]
  },
  {
   "cell_type": "code",
   "execution_count": 189,
   "id": "ed21c5e4",
   "metadata": {},
   "outputs": [
    {
     "data": {
      "text/html": [
       "<div>\n",
       "<style scoped>\n",
       "    .dataframe tbody tr th:only-of-type {\n",
       "        vertical-align: middle;\n",
       "    }\n",
       "\n",
       "    .dataframe tbody tr th {\n",
       "        vertical-align: top;\n",
       "    }\n",
       "\n",
       "    .dataframe thead th {\n",
       "        text-align: right;\n",
       "    }\n",
       "</style>\n",
       "<table border=\"1\" class=\"dataframe\">\n",
       "  <thead>\n",
       "    <tr style=\"text-align: right;\">\n",
       "      <th></th>\n",
       "      <th>date</th>\n",
       "      <th>fourier_1</th>\n",
       "      <th>fourier_2</th>\n",
       "      <th>fourier_3</th>\n",
       "      <th>fourier_4</th>\n",
       "      <th>fourier_5</th>\n",
       "      <th>fourier_6</th>\n",
       "      <th>fourier_7</th>\n",
       "      <th>fourier_8</th>\n",
       "      <th>fourier_9</th>\n",
       "      <th>fourier_10</th>\n",
       "    </tr>\n",
       "  </thead>\n",
       "  <tbody>\n",
       "    <tr>\n",
       "      <th>0</th>\n",
       "      <td>2013-01-01</td>\n",
       "      <td>0.000000</td>\n",
       "      <td>1.000000</td>\n",
       "      <td>0.000000</td>\n",
       "      <td>1.000000</td>\n",
       "      <td>0.000000</td>\n",
       "      <td>1.000000</td>\n",
       "      <td>0.000000</td>\n",
       "      <td>1.000000</td>\n",
       "      <td>0.000000</td>\n",
       "      <td>1.000000</td>\n",
       "    </tr>\n",
       "    <tr>\n",
       "      <th>1</th>\n",
       "      <td>2013-01-02</td>\n",
       "      <td>0.017213</td>\n",
       "      <td>0.999852</td>\n",
       "      <td>0.034422</td>\n",
       "      <td>0.999407</td>\n",
       "      <td>0.051620</td>\n",
       "      <td>0.998667</td>\n",
       "      <td>0.068802</td>\n",
       "      <td>0.997630</td>\n",
       "      <td>0.085965</td>\n",
       "      <td>0.996298</td>\n",
       "    </tr>\n",
       "    <tr>\n",
       "      <th>2</th>\n",
       "      <td>2013-01-03</td>\n",
       "      <td>0.034422</td>\n",
       "      <td>0.999407</td>\n",
       "      <td>0.068802</td>\n",
       "      <td>0.997630</td>\n",
       "      <td>0.103102</td>\n",
       "      <td>0.994671</td>\n",
       "      <td>0.137279</td>\n",
       "      <td>0.990532</td>\n",
       "      <td>0.171293</td>\n",
       "      <td>0.985220</td>\n",
       "    </tr>\n",
       "    <tr>\n",
       "      <th>3</th>\n",
       "      <td>2013-01-04</td>\n",
       "      <td>0.051620</td>\n",
       "      <td>0.998667</td>\n",
       "      <td>0.103102</td>\n",
       "      <td>0.994671</td>\n",
       "      <td>0.154309</td>\n",
       "      <td>0.988023</td>\n",
       "      <td>0.205104</td>\n",
       "      <td>0.978740</td>\n",
       "      <td>0.255353</td>\n",
       "      <td>0.966848</td>\n",
       "    </tr>\n",
       "    <tr>\n",
       "      <th>4</th>\n",
       "      <td>2013-01-05</td>\n",
       "      <td>0.068802</td>\n",
       "      <td>0.997630</td>\n",
       "      <td>0.137279</td>\n",
       "      <td>0.990532</td>\n",
       "      <td>0.205104</td>\n",
       "      <td>0.978740</td>\n",
       "      <td>0.271958</td>\n",
       "      <td>0.962309</td>\n",
       "      <td>0.337523</td>\n",
       "      <td>0.941317</td>\n",
       "    </tr>\n",
       "  </tbody>\n",
       "</table>\n",
       "</div>"
      ],
      "text/plain": [
       "        date  fourier_1  fourier_2  fourier_3  fourier_4  fourier_5  \\\n",
       "0 2013-01-01   0.000000   1.000000   0.000000   1.000000   0.000000   \n",
       "1 2013-01-02   0.017213   0.999852   0.034422   0.999407   0.051620   \n",
       "2 2013-01-03   0.034422   0.999407   0.068802   0.997630   0.103102   \n",
       "3 2013-01-04   0.051620   0.998667   0.103102   0.994671   0.154309   \n",
       "4 2013-01-05   0.068802   0.997630   0.137279   0.990532   0.205104   \n",
       "\n",
       "   fourier_6  fourier_7  fourier_8  fourier_9  fourier_10  \n",
       "0   1.000000   0.000000   1.000000   0.000000    1.000000  \n",
       "1   0.998667   0.068802   0.997630   0.085965    0.996298  \n",
       "2   0.994671   0.137279   0.990532   0.171293    0.985220  \n",
       "3   0.988023   0.205104   0.978740   0.255353    0.966848  \n",
       "4   0.978740   0.271958   0.962309   0.337523    0.941317  "
      ]
     },
     "execution_count": 189,
     "metadata": {},
     "output_type": "execute_result"
    }
   ],
   "source": [
    "fourier_lst.head()"
   ]
  },
  {
   "cell_type": "code",
   "execution_count": 190,
   "id": "b852a0a0",
   "metadata": {},
   "outputs": [],
   "source": [
    "fourier_lst = fourier_lst.astype({'date':'string'})"
   ]
  },
  {
   "cell_type": "code",
   "execution_count": 191,
   "id": "f432456b",
   "metadata": {},
   "outputs": [],
   "source": [
    "final_train_data = pd.merge(final_train_data, fourier_lst, left_on = 'date', right_on = 'date', how = 'left')\n",
    "final_test_data = pd.merge(final_test_data, fourier_lst, left_on = 'date', right_on = 'date', how = 'left')\n"
   ]
  },
  {
   "cell_type": "code",
   "execution_count": 192,
   "id": "7d952be4",
   "metadata": {},
   "outputs": [],
   "source": [
    "final_train_data['transactions'][final_train_data['transactions'] < 0] = 0\n",
    "final_test_data['transactions'][final_test_data['transactions'] < 0] = 0"
   ]
  },
  {
   "cell_type": "markdown",
   "id": "41358f0e",
   "metadata": {},
   "source": [
    "**modeling**"
   ]
  },
  {
   "cell_type": "code",
   "execution_count": 193,
   "id": "13f085ae",
   "metadata": {},
   "outputs": [],
   "source": [
    "sub_train_data = final_train_data[train_data.date <= '2016-07-31']\n",
    "valid_data = final_train_data[train_data.date >= '2016-08-01']"
   ]
  },
  {
   "cell_type": "code",
   "execution_count": 194,
   "id": "e7de8340",
   "metadata": {},
   "outputs": [
    {
     "name": "stdout",
     "output_type": "stream",
     "text": [
      "(3054348, 30)\n",
      "(2368278, 30)\n",
      "(686070, 30)\n",
      "(28512, 29)\n"
     ]
    }
   ],
   "source": [
    "print(final_train_data.shape)\n",
    "print(sub_train_data.shape)\n",
    "print(valid_data.shape)\n",
    "print(final_test_data.shape)"
   ]
  },
  {
   "cell_type": "code",
   "execution_count": 195,
   "id": "56b38f01",
   "metadata": {},
   "outputs": [],
   "source": [
    "# 검증 과정에서 사용할 데이터\n",
    "sub_train_data.drop(columns = ['date'], inplace = True)\n",
    "valid_data.drop(columns = ['date'], inplace = True)\n",
    "# 최종 모델 훈련에서 사용할 데이터\n",
    "final_train_data.drop(columns = ['date'], inplace = True)\n",
    "final_test_data.drop(columns = ['date'], inplace = True)"
   ]
  },
  {
   "cell_type": "code",
   "execution_count": 196,
   "id": "de8d09ed",
   "metadata": {},
   "outputs": [],
   "source": [
    "X_sub_train_data = sub_train_data.drop(columns = ['sales'])\n",
    "y_sub_train_data = sub_train_data['sales']\n",
    "\n",
    "X_valid_data = valid_data.drop(columns = ['sales'])\n",
    "y_valid_data = valid_data['sales']"
   ]
  },
  {
   "cell_type": "code",
   "execution_count": 197,
   "id": "39f8bacc",
   "metadata": {},
   "outputs": [
    {
     "ename": "ValueError",
     "evalue": "Shape of passed values is (2368278, 114), indices imply (2368278, 124)",
     "output_type": "error",
     "traceback": [
      "\u001b[1;31m---------------------------------------------------------------------------\u001b[0m",
      "\u001b[1;31mValueError\u001b[0m                                Traceback (most recent call last)",
      "Input \u001b[1;32mIn [197]\u001b[0m, in \u001b[0;36m<module>\u001b[1;34m\u001b[0m\n\u001b[0;32m     12\u001b[0m cat_features_names \u001b[38;5;241m=\u001b[39m preproc\u001b[38;5;241m.\u001b[39mnamed_transformers_[\u001b[38;5;124m'\u001b[39m\u001b[38;5;124mcat\u001b[39m\u001b[38;5;124m'\u001b[39m]\u001b[38;5;241m.\u001b[39mget_feature_names()\n\u001b[0;32m     13\u001b[0m labels \u001b[38;5;241m=\u001b[39m np\u001b[38;5;241m.\u001b[39mconcatenate([[\u001b[38;5;124m'\u001b[39m\u001b[38;5;124mtransactions\u001b[39m\u001b[38;5;124m'\u001b[39m,\u001b[38;5;124m'\u001b[39m\u001b[38;5;124monpromotion\u001b[39m\u001b[38;5;124m'\u001b[39m, \u001b[38;5;124m'\u001b[39m\u001b[38;5;124mdcoilwtico\u001b[39m\u001b[38;5;124m'\u001b[39m], cat_features_names, [\u001b[38;5;124m'\u001b[39m\u001b[38;5;124mcluster\u001b[39m\u001b[38;5;124m'\u001b[39m, \u001b[38;5;124m'\u001b[39m\u001b[38;5;124mYear\u001b[39m\u001b[38;5;124m'\u001b[39m, \u001b[38;5;124m'\u001b[39m\u001b[38;5;124mMonth\u001b[39m\u001b[38;5;124m'\u001b[39m, \u001b[38;5;124m'\u001b[39m\u001b[38;5;124mWeekday\u001b[39m\u001b[38;5;124m'\u001b[39m, \u001b[38;5;124m'\u001b[39m\u001b[38;5;124mtrend\u001b[39m\u001b[38;5;124m'\u001b[39m, \u001b[38;5;124m'\u001b[39m\u001b[38;5;124mNewYearsDay\u001b[39m\u001b[38;5;124m'\u001b[39m,\u001b[38;5;124m'\u001b[39m\u001b[38;5;124mEarthquake\u001b[39m\u001b[38;5;124m'\u001b[39m, \u001b[38;5;124m'\u001b[39m\u001b[38;5;124mCyber Monday\u001b[39m\u001b[38;5;124m'\u001b[39m, \u001b[38;5;124m'\u001b[39m\u001b[38;5;124mFootball\u001b[39m\u001b[38;5;124m'\u001b[39m, \u001b[38;5;124m'\u001b[39m\u001b[38;5;124mBlack Friday\u001b[39m\u001b[38;5;124m'\u001b[39m,\u001b[38;5;124m'\u001b[39m\u001b[38;5;124mDia de la Madre\u001b[39m\u001b[38;5;124m'\u001b[39m, \u001b[38;5;124m'\u001b[39m\u001b[38;5;124mno_work_day\u001b[39m\u001b[38;5;124m'\u001b[39m],[\u001b[38;5;124m'\u001b[39m\u001b[38;5;124mfourier_\u001b[39m\u001b[38;5;124m'\u001b[39m\u001b[38;5;241m+\u001b[39m \u001b[38;5;28mstr\u001b[39m(i) \u001b[38;5;28;01mfor\u001b[39;00m i \u001b[38;5;129;01min\u001b[39;00m \u001b[38;5;28mrange\u001b[39m(\u001b[38;5;241m1\u001b[39m,\u001b[38;5;241m21\u001b[39m)]])\n\u001b[1;32m---> 15\u001b[0m X_sub_train_data_trans \u001b[38;5;241m=\u001b[39m \u001b[43mpd\u001b[49m\u001b[38;5;241;43m.\u001b[39;49m\u001b[43mDataFrame\u001b[49m\u001b[43m(\u001b[49m\u001b[43mpreproc\u001b[49m\u001b[38;5;241;43m.\u001b[39;49m\u001b[43mtransform\u001b[49m\u001b[43m(\u001b[49m\u001b[43mX_sub_train_data\u001b[49m\u001b[43m)\u001b[49m\u001b[43m,\u001b[49m\u001b[43m \u001b[49m\u001b[43mcolumns\u001b[49m\u001b[43m \u001b[49m\u001b[38;5;241;43m=\u001b[39;49m\u001b[43m \u001b[49m\u001b[43mlabels\u001b[49m\u001b[43m)\u001b[49m\n\u001b[0;32m     16\u001b[0m X_valid_data_trans \u001b[38;5;241m=\u001b[39m pd\u001b[38;5;241m.\u001b[39mDataFrame(preproc\u001b[38;5;241m.\u001b[39mtransform(X_valid_data), columns \u001b[38;5;241m=\u001b[39m labels)\n",
      "File \u001b[1;32m~\\anaconda3\\lib\\site-packages\\pandas\\core\\frame.py:695\u001b[0m, in \u001b[0;36mDataFrame.__init__\u001b[1;34m(self, data, index, columns, dtype, copy)\u001b[0m\n\u001b[0;32m    685\u001b[0m         mgr \u001b[38;5;241m=\u001b[39m dict_to_mgr(\n\u001b[0;32m    686\u001b[0m             \u001b[38;5;66;03m# error: Item \"ndarray\" of \"Union[ndarray, Series, Index]\" has no\u001b[39;00m\n\u001b[0;32m    687\u001b[0m             \u001b[38;5;66;03m# attribute \"name\"\u001b[39;00m\n\u001b[1;32m   (...)\u001b[0m\n\u001b[0;32m    692\u001b[0m             typ\u001b[38;5;241m=\u001b[39mmanager,\n\u001b[0;32m    693\u001b[0m         )\n\u001b[0;32m    694\u001b[0m     \u001b[38;5;28;01melse\u001b[39;00m:\n\u001b[1;32m--> 695\u001b[0m         mgr \u001b[38;5;241m=\u001b[39m \u001b[43mndarray_to_mgr\u001b[49m\u001b[43m(\u001b[49m\n\u001b[0;32m    696\u001b[0m \u001b[43m            \u001b[49m\u001b[43mdata\u001b[49m\u001b[43m,\u001b[49m\n\u001b[0;32m    697\u001b[0m \u001b[43m            \u001b[49m\u001b[43mindex\u001b[49m\u001b[43m,\u001b[49m\n\u001b[0;32m    698\u001b[0m \u001b[43m            \u001b[49m\u001b[43mcolumns\u001b[49m\u001b[43m,\u001b[49m\n\u001b[0;32m    699\u001b[0m \u001b[43m            \u001b[49m\u001b[43mdtype\u001b[49m\u001b[38;5;241;43m=\u001b[39;49m\u001b[43mdtype\u001b[49m\u001b[43m,\u001b[49m\n\u001b[0;32m    700\u001b[0m \u001b[43m            \u001b[49m\u001b[43mcopy\u001b[49m\u001b[38;5;241;43m=\u001b[39;49m\u001b[43mcopy\u001b[49m\u001b[43m,\u001b[49m\n\u001b[0;32m    701\u001b[0m \u001b[43m            \u001b[49m\u001b[43mtyp\u001b[49m\u001b[38;5;241;43m=\u001b[39;49m\u001b[43mmanager\u001b[49m\u001b[43m,\u001b[49m\n\u001b[0;32m    702\u001b[0m \u001b[43m        \u001b[49m\u001b[43m)\u001b[49m\n\u001b[0;32m    704\u001b[0m \u001b[38;5;66;03m# For data is list-like, or Iterable (will consume into list)\u001b[39;00m\n\u001b[0;32m    705\u001b[0m \u001b[38;5;28;01melif\u001b[39;00m is_list_like(data):\n",
      "File \u001b[1;32m~\\anaconda3\\lib\\site-packages\\pandas\\core\\internals\\construction.py:351\u001b[0m, in \u001b[0;36mndarray_to_mgr\u001b[1;34m(values, index, columns, dtype, copy, typ)\u001b[0m\n\u001b[0;32m    346\u001b[0m \u001b[38;5;66;03m# _prep_ndarray ensures that values.ndim == 2 at this point\u001b[39;00m\n\u001b[0;32m    347\u001b[0m index, columns \u001b[38;5;241m=\u001b[39m _get_axes(\n\u001b[0;32m    348\u001b[0m     values\u001b[38;5;241m.\u001b[39mshape[\u001b[38;5;241m0\u001b[39m], values\u001b[38;5;241m.\u001b[39mshape[\u001b[38;5;241m1\u001b[39m], index\u001b[38;5;241m=\u001b[39mindex, columns\u001b[38;5;241m=\u001b[39mcolumns\n\u001b[0;32m    349\u001b[0m )\n\u001b[1;32m--> 351\u001b[0m \u001b[43m_check_values_indices_shape_match\u001b[49m\u001b[43m(\u001b[49m\u001b[43mvalues\u001b[49m\u001b[43m,\u001b[49m\u001b[43m \u001b[49m\u001b[43mindex\u001b[49m\u001b[43m,\u001b[49m\u001b[43m \u001b[49m\u001b[43mcolumns\u001b[49m\u001b[43m)\u001b[49m\n\u001b[0;32m    353\u001b[0m \u001b[38;5;28;01mif\u001b[39;00m typ \u001b[38;5;241m==\u001b[39m \u001b[38;5;124m\"\u001b[39m\u001b[38;5;124marray\u001b[39m\u001b[38;5;124m\"\u001b[39m:\n\u001b[0;32m    355\u001b[0m     \u001b[38;5;28;01mif\u001b[39;00m \u001b[38;5;28missubclass\u001b[39m(values\u001b[38;5;241m.\u001b[39mdtype\u001b[38;5;241m.\u001b[39mtype, \u001b[38;5;28mstr\u001b[39m):\n",
      "File \u001b[1;32m~\\anaconda3\\lib\\site-packages\\pandas\\core\\internals\\construction.py:422\u001b[0m, in \u001b[0;36m_check_values_indices_shape_match\u001b[1;34m(values, index, columns)\u001b[0m\n\u001b[0;32m    420\u001b[0m passed \u001b[38;5;241m=\u001b[39m values\u001b[38;5;241m.\u001b[39mshape\n\u001b[0;32m    421\u001b[0m implied \u001b[38;5;241m=\u001b[39m (\u001b[38;5;28mlen\u001b[39m(index), \u001b[38;5;28mlen\u001b[39m(columns))\n\u001b[1;32m--> 422\u001b[0m \u001b[38;5;28;01mraise\u001b[39;00m \u001b[38;5;167;01mValueError\u001b[39;00m(\u001b[38;5;124mf\u001b[39m\u001b[38;5;124m\"\u001b[39m\u001b[38;5;124mShape of passed values is \u001b[39m\u001b[38;5;132;01m{\u001b[39;00mpassed\u001b[38;5;132;01m}\u001b[39;00m\u001b[38;5;124m, indices imply \u001b[39m\u001b[38;5;132;01m{\u001b[39;00mimplied\u001b[38;5;132;01m}\u001b[39;00m\u001b[38;5;124m\"\u001b[39m)\n",
      "\u001b[1;31mValueError\u001b[0m: Shape of passed values is (2368278, 114), indices imply (2368278, 124)"
     ]
    }
   ],
   "source": [
    "# preprocessing\n",
    "from sklearn.compose import ColumnTransformer\n",
    "from sklearn.preprocessing import MinMaxScaler, StandardScaler, OneHotEncoder\n",
    "\n",
    "preproc = ColumnTransformer(\n",
    "    [('standard', StandardScaler(), ['transactions']),\n",
    "     ('minmax', MinMaxScaler(), ['onpromotion', 'dcoilwtico']),\n",
    "     ('cat', OneHotEncoder(sparse = False, drop = 'first'), ['store_nbr', 'family', 'type_y'])],\n",
    "     remainder = 'passthrough')\n",
    "\n",
    "preproc.fit(X_sub_train_data)\n",
    "cat_features_names = preproc.named_transformers_['cat'].get_feature_names()\n",
    "labels = np.concatenate([['transactions','onpromotion', 'dcoilwtico'], cat_features_names, ['cluster', 'Year', 'Month', 'Weekday', 'trend', 'NewYearsDay','Earthquake', 'Cyber Monday', 'Football', 'Black Friday','Dia de la Madre', 'no_work_day'],['fourier_'+ str(i) for i in range(1,11)]])\n",
    "\n",
    "X_sub_train_data_trans = pd.DataFrame(preproc.transform(X_sub_train_data), columns = labels)\n",
    "X_valid_data_trans = pd.DataFrame(preproc.transform(X_valid_data), columns = labels)"
   ]
  },
  {
   "cell_type": "markdown",
   "id": "f39ffa7b",
   "metadata": {},
   "source": [
    "**Linear Regression**"
   ]
  },
  {
   "cell_type": "code",
   "execution_count": null,
   "id": "097c8c9a",
   "metadata": {},
   "outputs": [],
   "source": [
    "X_sub_train_data_trans.head()"
   ]
  },
  {
   "cell_type": "code",
   "execution_count": null,
   "id": "d64543c2",
   "metadata": {},
   "outputs": [],
   "source": [
    "X_valid_data_trans.head()"
   ]
  },
  {
   "cell_type": "code",
   "execution_count": null,
   "id": "6aaf4d8f",
   "metadata": {},
   "outputs": [],
   "source": [
    "# modeling\n",
    "from sklearn.linear_model import LinearRegression\n",
    "\n",
    "model = LinearRegression()\n",
    "model.fit(X_sub_train_data_trans, y_sub_train_data)"
   ]
  },
  {
   "cell_type": "code",
   "execution_count": null,
   "id": "b257de69",
   "metadata": {},
   "outputs": [],
   "source": [
    "# predict\n",
    "train_pred = model.predict(X_sub_train_data_trans)\n",
    "valid_pred = model.predict(X_valid_data_trans)\n",
    "\n",
    "train_pred[train_pred < 0] = 0\n",
    "valid_pred[valid_pred < 0] = 0"
   ]
  },
  {
   "cell_type": "code",
   "execution_count": null,
   "id": "ab4310cf",
   "metadata": {},
   "outputs": [],
   "source": [
    "from sklearn.metrics import mean_squared_log_error\n",
    "print('훈련데이터 rmsle: ', np.sqrt(mean_squared_log_error(y_sub_train_data, train_pred)))\n",
    "print('검증데이터 rmsle: ', np.sqrt(mean_squared_log_error(y_valid_data, valid_pred)))"
   ]
  },
  {
   "cell_type": "code",
   "execution_count": null,
   "id": "6acb40d8",
   "metadata": {},
   "outputs": [],
   "source": []
  },
  {
   "cell_type": "code",
   "execution_count": null,
   "id": "aa52913b",
   "metadata": {},
   "outputs": [],
   "source": []
  },
  {
   "cell_type": "code",
   "execution_count": null,
   "id": "9b7a9791",
   "metadata": {},
   "outputs": [],
   "source": []
  },
  {
   "cell_type": "code",
   "execution_count": null,
   "id": "165ffab5",
   "metadata": {},
   "outputs": [],
   "source": []
  },
  {
   "cell_type": "markdown",
   "id": "6572a278",
   "metadata": {},
   "source": [
    "#### 7. transaction 제거"
   ]
  },
  {
   "cell_type": "code",
   "execution_count": 60,
   "id": "50ade033",
   "metadata": {},
   "outputs": [],
   "source": [
    "final_train_data.drop(columns = ['transactions'], inplace = True)\n",
    "final_test_data.drop(columns = ['transactions'], inplace = True)"
   ]
  },
  {
   "cell_type": "code",
   "execution_count": 61,
   "id": "0ed04651",
   "metadata": {},
   "outputs": [],
   "source": [
    "sub_train_data = final_train_data[train_data.date <= '2016-07-31']\n",
    "valid_data = final_train_data[train_data.date >= '2016-08-01']"
   ]
  },
  {
   "cell_type": "code",
   "execution_count": 62,
   "id": "d79096f7",
   "metadata": {},
   "outputs": [
    {
     "name": "stdout",
     "output_type": "stream",
     "text": [
      "(3054348, 19)\n",
      "(2368278, 19)\n",
      "(686070, 19)\n",
      "(28512, 18)\n"
     ]
    }
   ],
   "source": [
    "print(final_train_data.shape)\n",
    "print(sub_train_data.shape)\n",
    "print(valid_data.shape)\n",
    "print(final_test_data.shape)"
   ]
  },
  {
   "cell_type": "code",
   "execution_count": 63,
   "id": "e1fdc152",
   "metadata": {},
   "outputs": [],
   "source": [
    "# 검증 과정에서 사용할 데이터\n",
    "sub_train_data.drop(columns = ['date'], inplace = True)\n",
    "valid_data.drop(columns = ['date'], inplace = True)\n",
    "# 최종 모델 훈련에서 사용할 데이터\n",
    "final_train_data.drop(columns = ['date'], inplace = True)\n",
    "final_test_data.drop(columns = ['date'], inplace = True)"
   ]
  },
  {
   "cell_type": "code",
   "execution_count": 64,
   "id": "720a83cf",
   "metadata": {},
   "outputs": [],
   "source": [
    "X_sub_train_data = sub_train_data.drop(columns = ['sales'])\n",
    "y_sub_train_data = sub_train_data['sales']\n",
    "\n",
    "X_valid_data = valid_data.drop(columns = ['sales'])\n",
    "y_valid_data = valid_data['sales']"
   ]
  },
  {
   "cell_type": "code",
   "execution_count": 66,
   "id": "a3bb0ded",
   "metadata": {},
   "outputs": [],
   "source": [
    "# preprocessing\n",
    "from sklearn.compose import ColumnTransformer\n",
    "from sklearn.preprocessing import MinMaxScaler, StandardScaler, OneHotEncoder\n",
    "\n",
    "preproc = ColumnTransformer(\n",
    "    [('minmax', MinMaxScaler(), ['onpromotion', 'dcoilwtico']),\n",
    "     ('cat', OneHotEncoder(sparse = False, drop = 'first'), ['store_nbr', 'family', 'type_y'])],\n",
    "     remainder = 'passthrough')\n",
    "\n",
    "preproc.fit(X_sub_train_data)\n",
    "cat_features_names = preproc.named_transformers_['cat'].get_feature_names()\n",
    "labels = np.concatenate([['onpromotion', 'dcoilwtico'], cat_features_names, ['cluster', 'Year', 'Month', 'Weekday', 'trend', 'NewYearsDay','Earthquake', 'Cyber Monday', 'Football', 'Black Friday','Dia de la Madre', 'no_work_day']])\n",
    "\n",
    "X_sub_train_data_trans = pd.DataFrame(preproc.transform(X_sub_train_data), columns = labels)\n",
    "X_valid_data_trans = pd.DataFrame(preproc.transform(X_valid_data), columns = labels)"
   ]
  },
  {
   "cell_type": "markdown",
   "id": "f5725167",
   "metadata": {},
   "source": [
    "**Linear Regression**"
   ]
  },
  {
   "cell_type": "code",
   "execution_count": 68,
   "id": "9d7e59fe",
   "metadata": {},
   "outputs": [
    {
     "data": {
      "text/plain": [
       "LinearRegression()"
      ]
     },
     "execution_count": 68,
     "metadata": {},
     "output_type": "execute_result"
    }
   ],
   "source": [
    "# modeling\n",
    "from sklearn.linear_model import LinearRegression\n",
    "\n",
    "model = LinearRegression()\n",
    "model.fit(X_sub_train_data_trans, y_sub_train_data)"
   ]
  },
  {
   "cell_type": "code",
   "execution_count": 69,
   "id": "a766a515",
   "metadata": {},
   "outputs": [],
   "source": [
    "# predict\n",
    "train_pred = model.predict(X_sub_train_data_trans)\n",
    "valid_pred = model.predict(X_valid_data_trans)\n",
    "\n",
    "train_pred[train_pred < 0] = 0\n",
    "valid_pred[valid_pred < 0] = 0"
   ]
  },
  {
   "cell_type": "code",
   "execution_count": 70,
   "id": "d104c496",
   "metadata": {},
   "outputs": [
    {
     "name": "stdout",
     "output_type": "stream",
     "text": [
      "훈련데이터 rmsle:  2.4699533815769676\n",
      "검증데이터 rmsle:  2.3188424251925572\n"
     ]
    }
   ],
   "source": [
    "from sklearn.metrics import mean_squared_log_error\n",
    "print('훈련데이터 rmsle: ', np.sqrt(mean_squared_log_error(y_sub_train_data, train_pred)))\n",
    "print('검증데이터 rmsle: ', np.sqrt(mean_squared_log_error(y_valid_data, valid_pred)))"
   ]
  },
  {
   "cell_type": "markdown",
   "id": "6949946e",
   "metadata": {},
   "source": [
    "**RandomForest**"
   ]
  },
  {
   "cell_type": "code",
   "execution_count": 71,
   "id": "dd0db57a",
   "metadata": {},
   "outputs": [
    {
     "data": {
      "text/plain": [
       "RandomForestRegressor(min_samples_split=10)"
      ]
     },
     "execution_count": 71,
     "metadata": {},
     "output_type": "execute_result"
    }
   ],
   "source": [
    "from sklearn.ensemble import RandomForestRegressor\n",
    "\n",
    "rfmodel = RandomForestRegressor(min_samples_split = 10)\n",
    "rfmodel.fit(X_sub_train_data_trans, y_sub_train_data)"
   ]
  },
  {
   "cell_type": "code",
   "execution_count": 72,
   "id": "b166abda",
   "metadata": {},
   "outputs": [],
   "source": [
    "# predict\n",
    "train_pred = rfmodel.predict(X_sub_train_data_trans)\n",
    "valid_pred = rfmodel.predict(X_valid_data_trans)\n",
    "\n",
    "train_pred[train_pred < 0] = 0\n",
    "valid_pred[valid_pred < 0] = 0"
   ]
  },
  {
   "cell_type": "code",
   "execution_count": 73,
   "id": "7185518d",
   "metadata": {},
   "outputs": [
    {
     "name": "stdout",
     "output_type": "stream",
     "text": [
      "훈련데이터 rmsle:  0.3196846804978901\n",
      "검증데이터 rmsle:  0.7319331103981086\n"
     ]
    }
   ],
   "source": [
    "from sklearn.metrics import mean_squared_log_error\n",
    "print('훈련데이터 rmsle: ', np.sqrt(mean_squared_log_error(y_sub_train_data, train_pred)))\n",
    "print('검증데이터 rmsle: ', np.sqrt(mean_squared_log_error(y_valid_data, valid_pred)))"
   ]
  },
  {
   "cell_type": "code",
   "execution_count": null,
   "id": "75312255",
   "metadata": {},
   "outputs": [],
   "source": []
  },
  {
   "cell_type": "code",
   "execution_count": null,
   "id": "aecb5014",
   "metadata": {},
   "outputs": [],
   "source": []
  },
  {
   "cell_type": "code",
   "execution_count": null,
   "id": "831c3d59",
   "metadata": {},
   "outputs": [],
   "source": []
  },
  {
   "cell_type": "markdown",
   "id": "0383f037",
   "metadata": {},
   "source": [
    "**8.transaction 다시 예측(transaction 데이터만 가지고)**"
   ]
  },
  {
   "cell_type": "code",
   "execution_count": null,
   "id": "2c0d8f08",
   "metadata": {},
   "outputs": [],
   "source": []
  }
 ],
 "metadata": {
  "kernelspec": {
   "display_name": "Python 3 (ipykernel)",
   "language": "python",
   "name": "python3"
  },
  "language_info": {
   "codemirror_mode": {
    "name": "ipython",
    "version": 3
   },
   "file_extension": ".py",
   "mimetype": "text/x-python",
   "name": "python",
   "nbconvert_exporter": "python",
   "pygments_lexer": "ipython3",
   "version": "3.8.8"
  }
 },
 "nbformat": 4,
 "nbformat_minor": 5
}
